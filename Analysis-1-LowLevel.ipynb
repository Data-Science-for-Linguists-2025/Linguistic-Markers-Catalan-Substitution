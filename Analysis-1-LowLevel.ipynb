{
 "cells": [
  {
   "cell_type": "markdown",
   "id": "dc359e4f-1bb5-4853-b9a1-2246c392b0cf",
   "metadata": {},
   "source": [
    "# Low-Level Analysis\n",
    "Jana Bruses | janabruses@pitt.edu | University of Pittsburgh | Apr. 3rd - Apr. 21st"
   ]
  },
  {
   "cell_type": "markdown",
   "id": "35b34d69-5ef1-4dcb-9c09-50032566b203",
   "metadata": {},
   "source": [
    "First analysis notebook of a series of two.\\\n",
    "Third notebook of the project, after [Data-Parsing-Exploratory-Analysis-2](https://github.com/Data-Science-for-Linguists-2025/Linguistic-Markers-Catalan-Substitution/blob/main/Data-Parsing-Exploratory-Analysis-2.ipynb)."
   ]
  },
  {
   "cell_type": "markdown",
   "id": "4cd1b7ce-670a-495f-a780-9bad0571624e",
   "metadata": {},
   "source": [
    "This analysis aims to quantify the linguistic markers of Catalan language substitution by measuring specific changes over time.\\\n",
    "The following exploration looks at lower-level linguistic symptoms (morphological, syntactic, lexical, and semantic).\\\n",
    "For higher-level/text characteristics that could indicate increasing convergence with Spanish check the notebook [Analysis-2-TextLevel](https://github.com/Data-Science-for-Linguists-2025/Linguistic-Markers-Catalan-Substitution/blob/main/Analysis-2-TextLevel.ipynb).\\\n",
    "The data colection and dataframe building process used for this analysis can be found in [Data-Parsing-Exploratory-Analysis-2](https://github.com/Data-Science-for-Linguists-2025/Linguistic-Markers-Catalan-Substitution/blob/main/Data-Parsing-Exploratory-Analysis-2.ipynb), that now will be loaded from their pickled form as our data."
   ]
  },
  {
   "cell_type": "markdown",
   "id": "49b15a1f-24dd-40d7-907e-5d39066ff3b1",
   "metadata": {},
   "source": [
    "Contents of this analysis notebook:\\\n",
    "**0** [Recap Data Analysis](#Quick-recap-analysis-to-refresh-our-memory)\\\n",
    "**1** [Loss of Word Classes](#1.-Loss-of-word-classes---pronoms-febles)\\\n",
    "**2** [Time/Space Lexicon](#2.-Time-and-space-lexicon-modification)\\\n",
    "**3** [Syntactic Restructuring](#3.-Syntactic-restructuring)\\\n",
    "**4** [Low-Level Analysis Conclusion and Findings](#4.-Low-Level-Analysis-Conclusion-and-Findings) "
   ]
  },
  {
   "cell_type": "code",
   "execution_count": 142,
   "id": "d0d95321-b629-4cc6-9650-c769f0e8c2fa",
   "metadata": {},
   "outputs": [],
   "source": [
    "# loading libraries\n",
    "import pandas as pd\n",
    "import re\n",
    "import stanza\n",
    "import numpy as np\n",
    "import matplotlib.pyplot as plt\n",
    "import matplotlib.ticker as mticker\n",
    "from scipy.stats import spearmanr"
   ]
  },
  {
   "cell_type": "code",
   "execution_count": 143,
   "id": "a105b938-1c02-4198-ba6e-1554e17aa7d2",
   "metadata": {},
   "outputs": [],
   "source": [
    "# loading the pickled complete dataframe \n",
    "tokscomplete_df = pd.read_pickle(\"tokcomplete_df.pkl\")"
   ]
  },
  {
   "cell_type": "code",
   "execution_count": 144,
   "id": "aa0c28c8-2114-43c3-a7fc-e3f85d328e24",
   "metadata": {},
   "outputs": [],
   "source": [
    "# keeping only the columns we are interested in\n",
    "tokscomplete_df = tokscomplete_df[[\"Year\", \"Line_id\", \"Text\", \"Text_len\", \"toks\", \"Len_toks\"]]"
   ]
  },
  {
   "cell_type": "markdown",
   "id": "d0cf7b7f-264a-4c63-872a-7050b11db9b4",
   "metadata": {},
   "source": [
    "### Quick recap analysis of the data to refresh our memory"
   ]
  },
  {
   "cell_type": "code",
   "execution_count": 145,
   "id": "5ed69852-6888-420c-94f3-7a4d23400755",
   "metadata": {},
   "outputs": [
    {
     "name": "stdout",
     "output_type": "stream",
     "text": [
      "There are (75480, 6) pieces of text\n",
      "The total of tokens in the dataframe is: 3063943\n"
     ]
    }
   ],
   "source": [
    "# quick recap data on the dataframe\n",
    "print(\"There are\", tokscomplete_df.shape, \"pieces of text\")\n",
    "print(\"The total of tokens in the dataframe is:\", tokscomplete_df[\"Len_toks\"].sum())"
   ]
  },
  {
   "cell_type": "code",
   "execution_count": 146,
   "id": "2085fa7e-cd5b-4478-bfa5-16fc1f95db7b",
   "metadata": {},
   "outputs": [
    {
     "data": {
      "text/html": [
       "<div>\n",
       "<style scoped>\n",
       "    .dataframe tbody tr th:only-of-type {\n",
       "        vertical-align: middle;\n",
       "    }\n",
       "\n",
       "    .dataframe tbody tr th {\n",
       "        vertical-align: top;\n",
       "    }\n",
       "\n",
       "    .dataframe thead th {\n",
       "        text-align: right;\n",
       "    }\n",
       "</style>\n",
       "<table border=\"1\" class=\"dataframe\">\n",
       "  <thead>\n",
       "    <tr style=\"text-align: right;\">\n",
       "      <th></th>\n",
       "      <th>Year</th>\n",
       "      <th>Text_len</th>\n",
       "      <th>Len_toks</th>\n",
       "    </tr>\n",
       "  </thead>\n",
       "  <tbody>\n",
       "    <tr>\n",
       "      <th>count</th>\n",
       "      <td>75480.000000</td>\n",
       "      <td>75480.000000</td>\n",
       "      <td>75480.000000</td>\n",
       "    </tr>\n",
       "    <tr>\n",
       "      <th>mean</th>\n",
       "      <td>2008.832658</td>\n",
       "      <td>187.739043</td>\n",
       "      <td>40.592780</td>\n",
       "    </tr>\n",
       "    <tr>\n",
       "      <th>std</th>\n",
       "      <td>3.064608</td>\n",
       "      <td>611.358140</td>\n",
       "      <td>122.724208</td>\n",
       "    </tr>\n",
       "    <tr>\n",
       "      <th>min</th>\n",
       "      <td>1860.000000</td>\n",
       "      <td>0.000000</td>\n",
       "      <td>0.000000</td>\n",
       "    </tr>\n",
       "    <tr>\n",
       "      <th>25%</th>\n",
       "      <td>2008.000000</td>\n",
       "      <td>38.000000</td>\n",
       "      <td>9.000000</td>\n",
       "    </tr>\n",
       "    <tr>\n",
       "      <th>50%</th>\n",
       "      <td>2009.000000</td>\n",
       "      <td>95.000000</td>\n",
       "      <td>21.000000</td>\n",
       "    </tr>\n",
       "    <tr>\n",
       "      <th>75%</th>\n",
       "      <td>2010.000000</td>\n",
       "      <td>222.000000</td>\n",
       "      <td>48.000000</td>\n",
       "    </tr>\n",
       "    <tr>\n",
       "      <th>max</th>\n",
       "      <td>2022.000000</td>\n",
       "      <td>73881.000000</td>\n",
       "      <td>14727.000000</td>\n",
       "    </tr>\n",
       "  </tbody>\n",
       "</table>\n",
       "</div>"
      ],
      "text/plain": [
       "               Year      Text_len      Len_toks\n",
       "count  75480.000000  75480.000000  75480.000000\n",
       "mean    2008.832658    187.739043     40.592780\n",
       "std        3.064608    611.358140    122.724208\n",
       "min     1860.000000      0.000000      0.000000\n",
       "25%     2008.000000     38.000000      9.000000\n",
       "50%     2009.000000     95.000000     21.000000\n",
       "75%     2010.000000    222.000000     48.000000\n",
       "max     2022.000000  73881.000000  14727.000000"
      ]
     },
     "execution_count": 146,
     "metadata": {},
     "output_type": "execute_result"
    }
   ],
   "source": [
    "tokscomplete_df.describe()"
   ]
  },
  {
   "cell_type": "markdown",
   "id": "df74242d-b4bb-4735-95ad-7cdf8c7e69e6",
   "metadata": {},
   "source": [
    "**Comment:**\\\n",
    "The total amount of data in tokens we are working with is about three million tokens.\\\n",
    "The oldest text we have data from is from 1860, while the most recent is from 2022.\\\n",
    "The distribution of the data leans more towards recent years as the mean date of pieces of text is 2008."
   ]
  },
  {
   "cell_type": "code",
   "execution_count": 147,
   "id": "71bd8eb0-614b-40eb-8bba-93aaee9c15c8",
   "metadata": {},
   "outputs": [],
   "source": [
    "# some duplicates were found while working so I'll drop them now and again in other parts\n",
    "# as unpickled frames were also created from the df with duplicates \n",
    "tokscomplete_df = tokscomplete_df.drop_duplicates(subset=\"Text\", keep=\"first\")"
   ]
  },
  {
   "cell_type": "code",
   "execution_count": 148,
   "id": "346c3276-79b1-419a-ac22-58e0f0066668",
   "metadata": {},
   "outputs": [
    {
     "data": {
      "text/plain": [
       "(64944, 6)"
      ]
     },
     "execution_count": 148,
     "metadata": {},
     "output_type": "execute_result"
    }
   ],
   "source": [
    "tokscomplete_df.shape"
   ]
  },
  {
   "cell_type": "code",
   "execution_count": 149,
   "id": "bcb8949c-4242-492b-92eb-a337713d304f",
   "metadata": {},
   "outputs": [
    {
     "data": {
      "image/png": "[encoded data removed]",
      "text/plain": [
       "<Figure size 640x480 with 1 Axes>"
      ]
     },
     "metadata": {},
     "output_type": "display_data"
    }
   ],
   "source": [
    "# taking a look at the uneven distribution of the data for clarification\n",
    "toks_per_year = tokscomplete_df.groupby(\"Year\")[\"Len_toks\"].sum()\n",
    "toks_per_year = toks_per_year.sort_index()\n",
    "\n",
    "# plotting tokens per year with years on the x-axis\n",
    "toks_per_year.plot(kind=\"line\", color=\"purple\")\n",
    "plt.xlabel(\"Year\")\n",
    "plt.ylabel(\"Total Tokens\")\n",
    "plt.title(\"Total Tokens per Year\")\n",
    "plt.grid(True)\n",
    "plt.gca().yaxis.set_major_formatter(lambda x, _: int(x))\n",
    "plt.show()"
   ]
  },
  {
   "cell_type": "markdown",
   "id": "b4918f29-fe60-4b9c-9f6c-6758ed29880f",
   "metadata": {},
   "source": [
    "**A note on the following analysis**\\\n",
    "Because of the difference in data sizes for each year, and in the distribution of our data, row counts would not be very valuable. To avoid this issue, all counts will be evaluated considering the size of the amount of tokens of the year they belong to.\\\n",
    "To do so we will work always considering the proportion of data this counts represent in the overall data amount for the respective year, as a percentage."
   ]
  },
  {
   "cell_type": "code",
   "execution_count": 150,
   "id": "e8d4246a-df12-4982-b785-6773047b7e00",
   "metadata": {},
   "outputs": [],
   "source": [
    "# making a proportion function \n",
    "# for reusability and consistency\n",
    "def proportion(row, feature):\n",
    "    '''\n",
    "    takes in a row and the feature\n",
    "    fetches the row's count for that feature\n",
    "    divides the row count by the token length of that row\n",
    "    multiplies the division result by a 100 to get a precentage\n",
    "    returns the percentage \n",
    "    '''\n",
    "    count_col = feature\n",
    "    if row[\"Len_toks\"] > 0:\n",
    "        percent = (row[count_col] / row[\"Len_toks\"]) * 100 \n",
    "    else:\n",
    "        percent = 0\n",
    "    return percent"
   ]
  },
  {
   "cell_type": "markdown",
   "id": "55ff5876-8cf8-4a53-b4b4-0c78385eaac4",
   "metadata": {},
   "source": [
    "With this consideration in mind, and the function defined, we will now start the analysis:"
   ]
  },
  {
   "cell_type": "markdown",
   "id": "f3875905-be70-420c-84f2-2522a0f92fad",
   "metadata": {},
   "source": [
    "## 1. Loss of word classes - pronoms febles"
   ]
  },
  {
   "cell_type": "markdown",
   "id": "b06157fd-7142-48e3-ba3f-3169db889796",
   "metadata": {},
   "source": [
    "Following Dr. Junyent's idea that one of the key warnings of a language endangerement's is the loss of word classes we will conduct a frequency exploration of Pronoms Febles as our target word class. Specifically we will take a close look at the **\"hi\"** pronoun that can't be found in Spanish and might be dropped to copy Spanish's structures.\\\n",
    "\"en\" is another \"pronom feble\" not found in Spanish. However, as \"en\" is a word that has many other functions and would be harder to identify we will focus on \"hi\".\\\n",
    "The following examples and explanations on the pronoun \"hi\" have been guided by, taken and translated from [els-pronoms-son-vida](https://www.vilaweb.cat/noticies/els-pronoms-son-vida/), an article on the lead online Catalan's newspaper written by the Catalan philologist Jordi Badia i Pujol, who does an amazing job presenting \"en\" and \"hi\", cornerstones of Catalan, naming them \"the life of Catalan.\"\n",
    "\n",
    "(Badia, J. (2024, 26 de març). Els pronoms són vida. VilaWeb. https://www.vilaweb.cat/noticies/els-pronoms-son-vida/)"
   ]
  },
  {
   "cell_type": "markdown",
   "id": "41898483-ab87-48a4-b8c3-8ca662918458",
   "metadata": {},
   "source": [
    "### Brief grammatical background for **\"hi\"**"
   ]
  },
  {
   "cell_type": "markdown",
   "id": "dca113d6-8808-4f8c-b458-49806880a569",
   "metadata": {},
   "source": [
    "It's a pronoun is used to replace complements starting with any preposition other than \"de\" (which would be replaced by \"en\")\\\n",
    "For example:\\\n",
    "Demà anem al pis. ---> Demà **hi** anem\\\n",
    "*We are going to the flat tomorrow ---> We are going \"to it\" tomorrow\\\n",
    "\"hi\" = al pis/*the flat*\n",
    "\n",
    "Some examples of some of the most common situations in which this pronoun is being forgotten:\n",
    "* *Sé que t’esperen a la piscina, però no **ø** pots anar -> [...], no **hi** pots anar\n",
    "* Demà hi ha la festa, però jo **ø** no estaré -> [...], però jo no **hi** seré\n",
    "* Sí que **ø** està, però ara no **ø** es pot posar -> Sí que **hi** és, però ara no **s’hi** pot posar\n",
    "* Avui pot haver **ø** una desgràcia -> Avui pot **haver-hi** una desgràcia"
   ]
  },
  {
   "cell_type": "markdown",
   "id": "ceed5f55-9a01-43fc-a459-5ae8c33a7a00",
   "metadata": {},
   "source": [
    "Looking at these examples, we can see that what we need to scan the text for is:\n",
    "- \"hi\"\\\n",
    "  when the clitic pronom feble is a proclitic\n",
    "- \"-hi\"\\\n",
    "  when it is an enclitic"
   ]
  },
  {
   "cell_type": "code",
   "execution_count": 151,
   "id": "a64b9ced-793b-4501-8329-dfb7e182311e",
   "metadata": {},
   "outputs": [],
   "source": [
    "# creating a column with the lowercased token list \n",
    "tokscomplete_df[\"toks_low\"] = tokscomplete_df[\"toks\"].apply(lambda x: [w.lower() for w in x])"
   ]
  },
  {
   "cell_type": "code",
   "execution_count": 152,
   "id": "06175b71-0cff-4d4a-892d-55ae0d68344a",
   "metadata": {},
   "outputs": [],
   "source": [
    "# creating a function to find pronom febles and their context \n",
    "def get_pf(tok_list, pf_target):\n",
    "    '''\n",
    "    takes in a token list and a pronom feble as target\n",
    "    returns a list of 3 element tupples: \n",
    "    (preceding word, target pronom feble, following word)\n",
    "    '''\n",
    "    found = [(tok_list[tok_list.index(word)-1], word, tok_list[tok_list.index(word)+1]) \n",
    "             for word in tok_list if re.fullmatch(pf_target, word) and tok_list.index(word) < len(tok_list)-1]\n",
    "    return set(found)"
   ]
  },
  {
   "cell_type": "code",
   "execution_count": 153,
   "id": "739be427-954f-4cd7-85f5-5eaf688585a9",
   "metadata": {},
   "outputs": [],
   "source": [
    "# finding the \"hi\" pronom feble\n",
    "tokscomplete_df[\"hi\"] = tokscomplete_df[\"toks_low\"].apply(lambda x: get_pf(x, r\"hi\")) #proclitic\n",
    "tokscomplete_df[\"-hi\"] = tokscomplete_df[\"toks_low\"].apply(lambda x: get_pf(x, r\".*-hi\")) #enclitic"
   ]
  },
  {
   "cell_type": "code",
   "execution_count": 154,
   "id": "002a8965-a189-48a4-b444-c3de44cf0f96",
   "metadata": {},
   "outputs": [],
   "source": [
    "# initially the idea was to also scan for \"en\" but due to its multiple functions, this section has been commented out\n",
    "#tokscomplete_df[\"en\"] = tokscomplete_df[\"toks_low\"].apply(lambda x: get_pf(x, r\"en\"))\n",
    "#tokscomplete_df[\"se'n\"] = tokscomplete_df[\"toks_low\"].apply(lambda x: get_pf(x, r\"se'n\"))\n",
    "#tokscomplete_df[\"n'\"] = tokscomplete_df[\"toks_low\"].apply(lambda x: get_pf(x, r\"n[’']\"))\n",
    "#tokscomplete_df[\"-ne\"] = tokscomplete_df[\"toks_low\"].apply(lambda x: get_pf(x, r\".*-ne\"))"
   ]
  },
  {
   "cell_type": "code",
   "execution_count": 155,
   "id": "e06d0541-dfd5-458a-8dec-c858867bea7f",
   "metadata": {},
   "outputs": [
    {
     "data": {
      "text/html": [
       "<div>\n",
       "<style scoped>\n",
       "    .dataframe tbody tr th:only-of-type {\n",
       "        vertical-align: middle;\n",
       "    }\n",
       "\n",
       "    .dataframe tbody tr th {\n",
       "        vertical-align: top;\n",
       "    }\n",
       "\n",
       "    .dataframe thead th {\n",
       "        text-align: right;\n",
       "    }\n",
       "</style>\n",
       "<table border=\"1\" class=\"dataframe\">\n",
       "  <thead>\n",
       "    <tr style=\"text-align: right;\">\n",
       "      <th></th>\n",
       "      <th>Year</th>\n",
       "      <th>Line_id</th>\n",
       "      <th>Text</th>\n",
       "      <th>Text_len</th>\n",
       "      <th>toks</th>\n",
       "      <th>Len_toks</th>\n",
       "      <th>toks_low</th>\n",
       "      <th>hi</th>\n",
       "      <th>-hi</th>\n",
       "    </tr>\n",
       "  </thead>\n",
       "  <tbody>\n",
       "    <tr>\n",
       "      <th>0</th>\n",
       "      <td>1926</td>\n",
       "      <td>Discurs llegit per... donar a conèxer la perso...</td>\n",
       "      <td>L'home que per amor al estudi, impulsat per un...</td>\n",
       "      <td>37497</td>\n",
       "      <td>[L', home, que, per, amor, al, estudi, ,, impu...</td>\n",
       "      <td>7267</td>\n",
       "      <td>[l', home, que, per, amor, al, estudi, ,, impu...</td>\n",
       "      <td>{(n', hi, hagi)}</td>\n",
       "      <td>{}</td>\n",
       "    </tr>\n",
       "    <tr>\n",
       "      <th>1</th>\n",
       "      <td>1920</td>\n",
       "      <td>Parlament llegit en la festa inaugural de l'Or...</td>\n",
       "      <td>Cantaires de la Garriga, Senyores i senyors:\\n...</td>\n",
       "      <td>9253</td>\n",
       "      <td>[Cantaires, de, la, Garriga, ,, Senyores, i, s...</td>\n",
       "      <td>1865</td>\n",
       "      <td>[cantaires, de, la, garriga, ,, senyores, i, s...</td>\n",
       "      <td>{(m', hi, vaig)}</td>\n",
       "      <td>{}</td>\n",
       "    </tr>\n",
       "    <tr>\n",
       "      <th>2</th>\n",
       "      <td>1900</td>\n",
       "      <td>Discurs-pròlec</td>\n",
       "      <td>Discurs-prolec Llegit en la societat mèdic-far...</td>\n",
       "      <td>73881</td>\n",
       "      <td>[Discurs-prolec, Llegit, en, la, societat, mèd...</td>\n",
       "      <td>14727</td>\n",
       "      <td>[discurs-prolec, llegit, en, la, societat, mèd...</td>\n",
       "      <td>{(pròu, hi, gosaria)}</td>\n",
       "      <td>{}</td>\n",
       "    </tr>\n",
       "    <tr>\n",
       "      <th>3</th>\n",
       "      <td>1894</td>\n",
       "      <td>Discurs</td>\n",
       "      <td>Senyors excelentissims, senyors:\\n\\nQuan rebí ...</td>\n",
       "      <td>29393</td>\n",
       "      <td>[Senyors, excelentissims, ,, senyors, :, Quan,...</td>\n",
       "      <td>5814</td>\n",
       "      <td>[senyors, excelentissims, ,, senyors, :, quan,...</td>\n",
       "      <td>{(que, hi, ha)}</td>\n",
       "      <td>{}</td>\n",
       "    </tr>\n",
       "    <tr>\n",
       "      <th>4</th>\n",
       "      <td>1903</td>\n",
       "      <td>Discurs</td>\n",
       "      <td>Senyors:\\n\\nSembla que era air, y fa ja uns qu...</td>\n",
       "      <td>26577</td>\n",
       "      <td>[Senyors, :, Sembla, que, era, air, ,, y, fa, ...</td>\n",
       "      <td>4774</td>\n",
       "      <td>[senyors, :, sembla, que, era, air, ,, y, fa, ...</td>\n",
       "      <td>{(que, hi, ha)}</td>\n",
       "      <td>{(a, assegurar-los-hi, un)}</td>\n",
       "    </tr>\n",
       "  </tbody>\n",
       "</table>\n",
       "</div>"
      ],
      "text/plain": [
       "   Year                                            Line_id  \\\n",
       "0  1926  Discurs llegit per... donar a conèxer la perso...   \n",
       "1  1920  Parlament llegit en la festa inaugural de l'Or...   \n",
       "2  1900                                     Discurs-pròlec   \n",
       "3  1894                                            Discurs   \n",
       "4  1903                                            Discurs   \n",
       "\n",
       "                                                Text  Text_len  \\\n",
       "0  L'home que per amor al estudi, impulsat per un...     37497   \n",
       "1  Cantaires de la Garriga, Senyores i senyors:\\n...      9253   \n",
       "2  Discurs-prolec Llegit en la societat mèdic-far...     73881   \n",
       "3  Senyors excelentissims, senyors:\\n\\nQuan rebí ...     29393   \n",
       "4  Senyors:\\n\\nSembla que era air, y fa ja uns qu...     26577   \n",
       "\n",
       "                                                toks  Len_toks  \\\n",
       "0  [L', home, que, per, amor, al, estudi, ,, impu...      7267   \n",
       "1  [Cantaires, de, la, Garriga, ,, Senyores, i, s...      1865   \n",
       "2  [Discurs-prolec, Llegit, en, la, societat, mèd...     14727   \n",
       "3  [Senyors, excelentissims, ,, senyors, :, Quan,...      5814   \n",
       "4  [Senyors, :, Sembla, que, era, air, ,, y, fa, ...      4774   \n",
       "\n",
       "                                            toks_low                     hi  \\\n",
       "0  [l', home, que, per, amor, al, estudi, ,, impu...       {(n', hi, hagi)}   \n",
       "1  [cantaires, de, la, garriga, ,, senyores, i, s...       {(m', hi, vaig)}   \n",
       "2  [discurs-prolec, llegit, en, la, societat, mèd...  {(pròu, hi, gosaria)}   \n",
       "3  [senyors, excelentissims, ,, senyors, :, quan,...        {(que, hi, ha)}   \n",
       "4  [senyors, :, sembla, que, era, air, ,, y, fa, ...        {(que, hi, ha)}   \n",
       "\n",
       "                           -hi  \n",
       "0                           {}  \n",
       "1                           {}  \n",
       "2                           {}  \n",
       "3                           {}  \n",
       "4  {(a, assegurar-los-hi, un)}  "
      ]
     },
     "execution_count": 155,
     "metadata": {},
     "output_type": "execute_result"
    }
   ],
   "source": [
    "# taking a look at the dataframe after these new columns\n",
    "tokscomplete_df.head()"
   ]
  },
  {
   "cell_type": "markdown",
   "id": "06cf45b6-8607-4415-abe9-14979af77b8c",
   "metadata": {},
   "source": [
    "**Comment:** We can find examples of both \"hi\" and \"-hi\" pronouns that have been found in the texts in the last two columns of these first 5 rows. Looking a the contexts, we can also see that these are indeed, pronoms febles. "
   ]
  },
  {
   "cell_type": "code",
   "execution_count": 156,
   "id": "73a4ab58-4da8-4dbf-a7da-c1f41fd33663",
   "metadata": {},
   "outputs": [],
   "source": [
    "# adding a count column for \"hi\" pronouns per text line\n",
    "tokscomplete_df[\"hi_count\"] = tokscomplete_df[\"hi\"].apply(len)+tokscomplete_df[\"-hi\"].apply(len)"
   ]
  },
  {
   "cell_type": "code",
   "execution_count": 157,
   "id": "bf0a739f-fe7a-4b14-80ee-3c879dd2e35a",
   "metadata": {},
   "outputs": [
    {
     "data": {
      "text/html": [
       "<div>\n",
       "<style scoped>\n",
       "    .dataframe tbody tr th:only-of-type {\n",
       "        vertical-align: middle;\n",
       "    }\n",
       "\n",
       "    .dataframe tbody tr th {\n",
       "        vertical-align: top;\n",
       "    }\n",
       "\n",
       "    .dataframe thead th {\n",
       "        text-align: right;\n",
       "    }\n",
       "</style>\n",
       "<table border=\"1\" class=\"dataframe\">\n",
       "  <thead>\n",
       "    <tr style=\"text-align: right;\">\n",
       "      <th></th>\n",
       "      <th>Year</th>\n",
       "      <th>Line_id</th>\n",
       "      <th>Text</th>\n",
       "      <th>Text_len</th>\n",
       "      <th>toks</th>\n",
       "      <th>Len_toks</th>\n",
       "      <th>toks_low</th>\n",
       "      <th>hi</th>\n",
       "      <th>-hi</th>\n",
       "      <th>hi_count</th>\n",
       "    </tr>\n",
       "  </thead>\n",
       "  <tbody>\n",
       "    <tr>\n",
       "      <th>0</th>\n",
       "      <td>1926</td>\n",
       "      <td>Discurs llegit per... donar a conèxer la perso...</td>\n",
       "      <td>L'home que per amor al estudi, impulsat per un...</td>\n",
       "      <td>37497</td>\n",
       "      <td>[L', home, que, per, amor, al, estudi, ,, impu...</td>\n",
       "      <td>7267</td>\n",
       "      <td>[l', home, que, per, amor, al, estudi, ,, impu...</td>\n",
       "      <td>{(n', hi, hagi)}</td>\n",
       "      <td>{}</td>\n",
       "      <td>1</td>\n",
       "    </tr>\n",
       "    <tr>\n",
       "      <th>1</th>\n",
       "      <td>1920</td>\n",
       "      <td>Parlament llegit en la festa inaugural de l'Or...</td>\n",
       "      <td>Cantaires de la Garriga, Senyores i senyors:\\n...</td>\n",
       "      <td>9253</td>\n",
       "      <td>[Cantaires, de, la, Garriga, ,, Senyores, i, s...</td>\n",
       "      <td>1865</td>\n",
       "      <td>[cantaires, de, la, garriga, ,, senyores, i, s...</td>\n",
       "      <td>{(m', hi, vaig)}</td>\n",
       "      <td>{}</td>\n",
       "      <td>1</td>\n",
       "    </tr>\n",
       "  </tbody>\n",
       "</table>\n",
       "</div>"
      ],
      "text/plain": [
       "   Year                                            Line_id  \\\n",
       "0  1926  Discurs llegit per... donar a conèxer la perso...   \n",
       "1  1920  Parlament llegit en la festa inaugural de l'Or...   \n",
       "\n",
       "                                                Text  Text_len  \\\n",
       "0  L'home que per amor al estudi, impulsat per un...     37497   \n",
       "1  Cantaires de la Garriga, Senyores i senyors:\\n...      9253   \n",
       "\n",
       "                                                toks  Len_toks  \\\n",
       "0  [L', home, que, per, amor, al, estudi, ,, impu...      7267   \n",
       "1  [Cantaires, de, la, Garriga, ,, Senyores, i, s...      1865   \n",
       "\n",
       "                                            toks_low                hi -hi  \\\n",
       "0  [l', home, que, per, amor, al, estudi, ,, impu...  {(n', hi, hagi)}  {}   \n",
       "1  [cantaires, de, la, garriga, ,, senyores, i, s...  {(m', hi, vaig)}  {}   \n",
       "\n",
       "   hi_count  \n",
       "0         1  \n",
       "1         1  "
      ]
     },
     "execution_count": 157,
     "metadata": {},
     "output_type": "execute_result"
    }
   ],
   "source": [
    "tokscomplete_df.head(2)"
   ]
  },
  {
   "cell_type": "markdown",
   "id": "bc0b9440-7f99-4449-bf14-9d78abb3e334",
   "metadata": {},
   "source": [
    "**Comment:** Now that we have found the \"hi\" pronouns in the texts and have the raw count per text, let's analyze it and plot it for a more visual output. "
   ]
  },
  {
   "cell_type": "code",
   "execution_count": 158,
   "id": "94490c2c-4f5e-46fd-a382-75bf96d0c15d",
   "metadata": {},
   "outputs": [],
   "source": [
    "tokscomplete_df[\"hi_percent\"] = tokscomplete_df.apply(lambda x: proportion(x, \"hi_count\"), axis=1)"
   ]
  },
  {
   "cell_type": "code",
   "execution_count": 159,
   "id": "004aa97d-eb57-4048-b669-bf34e88fcb47",
   "metadata": {},
   "outputs": [
    {
     "data": {
      "image/png": "[encoded data removed]",
      "text/plain": [
       "<Figure size 800x1000 with 1 Axes>"
      ]
     },
     "metadata": {},
     "output_type": "display_data"
    }
   ],
   "source": [
    "# plotting the \"hi\" distribution per year\n",
    "# grouping by year\n",
    "# getting average hi percentage per text per year\n",
    "hi_grouped = tokscomplete_df.groupby(\"Year\")[\"hi_percent\"].mean()\n",
    "\n",
    "plt.figure(figsize=(8, 10))\n",
    "hi_grouped.plot(kind=\"barh\", color=\"purple\")\n",
    "plt.xlabel(\"Mean 'hi' Percentage Per Year\")\n",
    "plt.ylabel(\"Year\")\n",
    "plt.title(\"Pronom Feble 'hi' Mean Percentage on Text Per Year\")\n",
    "plt.gca().invert_yaxis()  # inverting axis so it is from oldest to most recent\n",
    "plt.show()"
   ]
  },
  {
   "cell_type": "code",
   "execution_count": 160,
   "id": "b52ae900-6c7f-4d4d-99c1-905ca3a059ce",
   "metadata": {},
   "outputs": [
    {
     "name": "stdout",
     "output_type": "stream",
     "text": [
      "Hi% - rho: -0.034, p-value: 0.0000\n"
     ]
    }
   ],
   "source": [
    "# correlation year-hi_percentages\n",
    "from scipy import stats \n",
    "rho_hi, p_hi = stats.spearmanr(tokscomplete_df[\"Year\"], tokscomplete_df[\"hi_percent\"])\n",
    "print(f\"Hi% - rho: {rho_hi:.3f}, p-value: {p_hi:.4f}\")"
   ]
  },
  {
   "cell_type": "markdown",
   "id": "e55274f1-12f8-4d5d-b4da-7557604be84b",
   "metadata": {},
   "source": [
    "**Conclusion on Pronoms Febles:**\\\n",
    "Both the rho result and the graph show us that there is no clear tendency in the use of the pronoun \"hi\". There's drops and increases through out the whole time-span and no clear increase or decrease of the use of \"hi\"."
   ]
  },
  {
   "cell_type": "code",
   "execution_count": 161,
   "id": "3f04422a-84c7-4429-89d5-f101a9d2b329",
   "metadata": {},
   "outputs": [],
   "source": [
    "# saving new columns in a modified pickle of the dataframe\n",
    "tokscomplete_df.to_pickle(\"LowAnalysisDF.pkl\")"
   ]
  },
  {
   "cell_type": "markdown",
   "id": "ab7e1f04-40f8-4ecf-ab23-c54671061f1b",
   "metadata": {},
   "source": [
    "## 2. Time and space lexicon modification"
   ]
  },
  {
   "cell_type": "markdown",
   "id": "afb7f0c0-4cee-4a3d-aecd-20d23f815ea4",
   "metadata": {},
   "source": [
    "The second symptom Dr. Junyent talks about is \"time and space lexicon changes.\" In this section we will explore:\\\n",
    "**2.1:** the possibility of directional distinction losses with the verbs \"anar\" and \"venir\".\\\n",
    "**2.2:** a change in time lexicon looking at 2 past verb tenses \"passat perifrastic\" and \"passat simple\"."
   ]
  },
  {
   "cell_type": "markdown",
   "id": "9bca6914-26df-4d18-b9b8-b709729406f1",
   "metadata": {},
   "source": [
    "### 2.1 Directional distinction in anar and venir"
   ]
  },
  {
   "cell_type": "markdown",
   "id": "c7046136-9921-424e-aeab-9783bc3f8d84",
   "metadata": {},
   "source": [
    "Catalan, like in English, makes a clear distinction in **motion** towards and away from the speaker.\\\n",
    "For motions **away from the speaker** we use **\"anar\"**.\\\n",
    "For motions **towards the speaker** **\"venir\"** is used.\\\n",
    "This distinction is less strict in Spanish, therefore, seeing one of the two verbs increase in use taking over contexts where the other was usually used, would be indicating language substitution. Following another of Junyent's hypothesis, the distinction might be disolving, leading to an increase in use of one of the two verbs. "
   ]
  },
  {
   "cell_type": "markdown",
   "id": "5bc22830-ea52-4819-a348-dda2bdb3a3d5",
   "metadata": {},
   "source": [
    "**Note on the approach:**\\\n",
    "Since the verbs \"anar\" and \"venir\" have lots of conjugations for tense, person and number, it would be quite tedious to try to list all of them in our hunt for these in the texts. Therefore, we will use the lemmatized forms from Stanza's Catalan model Lemmatization. That way, we'll be able to find all \"anar\" and \"venir\" forms just by looking for the lemma. "
   ]
  },
  {
   "cell_type": "code",
   "execution_count": 162,
   "id": "8f593b6c-d444-4b0e-9082-fb793be2e7bc",
   "metadata": {},
   "outputs": [
    {
     "name": "stderr",
     "output_type": "stream",
     "text": [
      "2025-04-23 12:33:17 INFO: Checking for updates to resources.json in case models have been updated.  Note: this behavior can be turned off with download_method=None or download_method=DownloadMethod.REUSE_RESOURCES\n"
     ]
    },
    {
     "data": {
      "application/vnd.jupyter.widget-view+json": {
       "model_id": "f847822fcd8a4b4a839de36de6f6ba6b",
       "version_major": 2,
       "version_minor": 0
      },
      "text/plain": [
       "Downloading https://raw.githubusercontent.com/stanfordnlp/stanza-resources/main/resources_1.10.0.json:   0%|  …"
      ]
     },
     "metadata": {},
     "output_type": "display_data"
    },
    {
     "name": "stderr",
     "output_type": "stream",
     "text": [
      "2025-04-23 12:33:18 INFO: Downloaded file to /Users/janabruses/stanza_resources/resources.json\n",
      "2025-04-23 12:33:18 INFO: Loading these models for language: ca (Catalan):\n",
      "===============================\n",
      "| Processor | Package         |\n",
      "-------------------------------\n",
      "| tokenize  | ancora          |\n",
      "| mwt       | ancora          |\n",
      "| pos       | ancora_nocharlm |\n",
      "| lemma     | ancora_nocharlm |\n",
      "===============================\n",
      "\n",
      "2025-04-23 12:33:18 INFO: Using device: cpu\n",
      "2025-04-23 12:33:18 INFO: Loading: tokenize\n",
      "2025-04-23 12:33:18 INFO: Loading: mwt\n",
      "2025-04-23 12:33:18 INFO: Loading: pos\n",
      "2025-04-23 12:33:20 INFO: Loading: lemma\n",
      "2025-04-23 12:33:20 INFO: Done loading processors!\n"
     ]
    }
   ],
   "source": [
    "# creating nlp pipeline to tokenize the sentences in catalan \n",
    "#lang = ca(catalan)\n",
    "nlp = stanza.Pipeline(lang=\"ca\", processors=\"tokenize,mwt,pos,lemma\")"
   ]
  },
  {
   "cell_type": "code",
   "execution_count": 163,
   "id": "dc2f8f7c-b12d-44a4-87da-cf1da2b2fe32",
   "metadata": {},
   "outputs": [
    {
     "name": "stdout",
     "output_type": "stream",
     "text": [
      "Lemmatization anar:\n",
      "word: anar \tlemma: anar\n",
      "word: , \tlemma: ,\n",
      "word: vaig \tlemma: anar\n",
      "word: , \tlemma: ,\n",
      "word: has \tlemma: haver\n",
      "word: anat \tlemma: anar\n",
      "word: , \tlemma: ,\n",
      "word: anàvem \tlemma: anar\n",
      "word: , \tlemma: ,\n",
      "word: anàreu \tlemma: anàreu\n",
      "word: , \tlemma: ,\n",
      "word: aniran \tlemma: anar\n",
      "\n",
      "Lemmatization venir:\n",
      "word: venir \tlemma: venir\n",
      "word: , \tlemma: ,\n",
      "word: vinc \tlemma: venir\n",
      "word: , \tlemma: ,\n",
      "word: has \tlemma: haver\n",
      "word: vingut \tlemma: venir\n",
      "word: , \tlemma: ,\n",
      "word: veníem \tlemma: venire\n",
      "word: , \tlemma: ,\n",
      "word: vinguéreu \tlemma: vinguér\n",
      "word: , \tlemma: ,\n",
      "word: vindran \tlemma: venir\n"
     ]
    }
   ],
   "source": [
    "# creating a 2 trial verb sequences containing various conjugations of the verbs \"anar\" (to go) and \"venir\" (to come)\n",
    "# checking for lemmatization\n",
    "# verb_doc = nlp (infinitive, 1.sing.prs, 2.sing.pst \"perfet\",  1.plur.pst \"imperfet\", 2.plur.pst simple, 3.plur.fut \n",
    "anar_doc = nlp(\"anar, vaig, has anat, anàvem, anàreu, aniran\")\n",
    "venir_doc = nlp(\"venir, vinc, has vingut, veníem, vinguéreu, vindran\")\n",
    "print(\"Lemmatization anar:\")\n",
    "print(*[f\"word: {word.text+\" \"}\\tlemma: {word.lemma}\" for sent in anar_doc.sentences for word in sent.words], sep=\"\\n\")\n",
    "print()\n",
    "print(\"Lemmatization venir:\")\n",
    "print(*[f\"word: {word.text+\" \"}\\tlemma: {word.lemma}\" for sent in venir_doc.sentences for word in sent.words], sep=\"\\n\")"
   ]
  },
  {
   "cell_type": "markdown",
   "id": "9173a8f3-735d-4856-894e-6728704c832b",
   "metadata": {},
   "source": [
    "**Comment on lematization:** The lemmatization worked out well overall, we find the correct lemma \"anar\" and \"venir\" for almost all of the conjugations we've tried changing in person, number and tense. The only mistake is with the past simple form, which is usually known more of as an archaic form. Still we will take that into account and look for \"anar\" and \"venir\" with \"anar\", \"anàreu\" and \"venir\", \"vinguér\", \"venire\" respectively. It still reduces our list very much and makes the process easier. "
   ]
  },
  {
   "cell_type": "markdown",
   "id": "5956b061-bb25-47a2-90b3-3264a852f27d",
   "metadata": {},
   "source": [
    "**Lemmatization process:**\n",
    "The documents were lemmatized using pitt supercomputing (CRC), as running it in my local machine would have been an incredibly long, maybe even impossible, process.\\\n",
    "The process correponds to the following line:"
   ]
  },
  {
   "cell_type": "code",
   "execution_count": 164,
   "id": "5216077c-5b79-45f8-944d-acad158234e2",
   "metadata": {},
   "outputs": [],
   "source": [
    "# tokscomplete_df[\"Lemmas\"] = tokscomplete_df[\"Text\"].apply(lambda doc: [word.lemma for sent in nlp(doc).sentences for word in sent.words])"
   ]
  },
  {
   "cell_type": "markdown",
   "id": "2b479198-af5a-4951-a0fb-07b04cc9ff72",
   "metadata": {},
   "source": [
    "The following commented out code and slurm file were used and can be found in the scripts folder in this repository with their respective extensions. [(link to scripts)](https://github.com/Data-Science-for-Linguists-2025/Linguistic-Markers-Catalan-Substitution/tree/main/scripts)\\\n",
    "After the lemmatization the resulting dataframe containing a row of text lemmas list was pickled."
   ]
  },
  {
   "cell_type": "code",
   "execution_count": 165,
   "id": "c61e347e-9354-4a03-acc8-b837959a173a",
   "metadata": {},
   "outputs": [],
   "source": [
    "python_script= '''\n",
    "import pandas as pd\n",
    "import stanza\n",
    "\n",
    "low_analysis_df = pd.read_pickle(\"LowAnalysisDF.pkl\")\n",
    "nlp = stanza.Pipeline(lang='ca', processors='tokenize,mwt,pos,lemma')\n",
    "anar_doc = nlp(\"anar, vaig, has anat, anàvem, anàreu, aniran\")\n",
    "venir_doc = nlp(\"venir, vinc, has vingut, veníem, vinguéreu, vindran\")\n",
    "print(\"Lemmatization anar:\")\n",
    "print(*[f'word: {word.text+\" \"}\\tlemma: {word.lemma}' for sent in anar_doc.sentences for word in sent.words], sep='\\n')\n",
    "print()\n",
    "print(\"Lemmatization venir:\")\n",
    "print(*[f'word: {word.text+\" \"}\\tlemma: {word.lemma}' for sent in venir_doc.sentences for word in sent.words], sep='\\n')\n",
    "\n",
    "low_analysis_df[\"Lemmas\"] = low_analysis_df[\"Text\"].apply(lambda doc:\n",
    "                                                          [word.lemma for\n",
    "                                                           sent in nlp(doc).sentences\n",
    "                                                           for word in sent.words])\n",
    "low_analysis_df.to_pickle(\"lemmaComplete.pkl\")\n",
    "'''"
   ]
  },
  {
   "cell_type": "code",
   "execution_count": 166,
   "id": "15b762e4-15b3-4fb1-881b-8d76eb5151f5",
   "metadata": {},
   "outputs": [],
   "source": [
    "slurm_file = '''\n",
    "#!/usr/bin/env bash\n",
    "\n",
    "#SBATCH --job-name=proj_lemmatization\n",
    "#SBATCH --output=lemmatization.out\n",
    "#SBATCH --nodes=1\n",
    "#SBATCH --ntasks=3\n",
    "#SBATCH --partition=smp\n",
    "#SBATCH --cluster=smp\n",
    "#SBATCH --mem-per-cpu=16000\n",
    "#SBATCH --time=180\n",
    "\n",
    "module load python/ondemand-jupyter-python3.11\n",
    "python lemmatization_script.py\n",
    "'''"
   ]
  },
  {
   "cell_type": "code",
   "execution_count": 167,
   "id": "030a855c-e7ed-4230-9ed2-5d61ce44423d",
   "metadata": {},
   "outputs": [],
   "source": [
    "# reading in the dataframe with lemma list column\n",
    "lemma_df = pd.read_pickle(\"lemmaComplete.pkl\")"
   ]
  },
  {
   "cell_type": "code",
   "execution_count": 168,
   "id": "8d907a91-5ded-4590-95de-747ac6b129d3",
   "metadata": {},
   "outputs": [
    {
     "data": {
      "text/html": [
       "<div>\n",
       "<style scoped>\n",
       "    .dataframe tbody tr th:only-of-type {\n",
       "        vertical-align: middle;\n",
       "    }\n",
       "\n",
       "    .dataframe tbody tr th {\n",
       "        vertical-align: top;\n",
       "    }\n",
       "\n",
       "    .dataframe thead th {\n",
       "        text-align: right;\n",
       "    }\n",
       "</style>\n",
       "<table border=\"1\" class=\"dataframe\">\n",
       "  <thead>\n",
       "    <tr style=\"text-align: right;\">\n",
       "      <th></th>\n",
       "      <th>Year</th>\n",
       "      <th>Line_id</th>\n",
       "      <th>Text</th>\n",
       "      <th>Text_len</th>\n",
       "      <th>toks</th>\n",
       "      <th>Len_toks</th>\n",
       "      <th>toks_low</th>\n",
       "      <th>hi</th>\n",
       "      <th>-hi</th>\n",
       "      <th>hi_count</th>\n",
       "      <th>hi_percent</th>\n",
       "      <th>Lemmas</th>\n",
       "    </tr>\n",
       "  </thead>\n",
       "  <tbody>\n",
       "    <tr>\n",
       "      <th>0</th>\n",
       "      <td>1926</td>\n",
       "      <td>Discurs llegit per... donar a conèxer la perso...</td>\n",
       "      <td>L'home que per amor al estudi, impulsat per un...</td>\n",
       "      <td>37497</td>\n",
       "      <td>[L', home, que, per, amor, al, estudi, ,, impu...</td>\n",
       "      <td>7267</td>\n",
       "      <td>[l', home, que, per, amor, al, estudi, ,, impu...</td>\n",
       "      <td>{(n', hi, hagi)}</td>\n",
       "      <td>{}</td>\n",
       "      <td>1</td>\n",
       "      <td>0.013761</td>\n",
       "      <td>[el, home, que, per, amor, a, el, estudi, ,, i...</td>\n",
       "    </tr>\n",
       "    <tr>\n",
       "      <th>1</th>\n",
       "      <td>1920</td>\n",
       "      <td>Parlament llegit en la festa inaugural de l'Or...</td>\n",
       "      <td>Cantaires de la Garriga, Senyores i senyors:\\n...</td>\n",
       "      <td>9253</td>\n",
       "      <td>[Cantaires, de, la, Garriga, ,, Senyores, i, s...</td>\n",
       "      <td>1865</td>\n",
       "      <td>[cantaires, de, la, garriga, ,, senyores, i, s...</td>\n",
       "      <td>{(m', hi, vaig)}</td>\n",
       "      <td>{}</td>\n",
       "      <td>1</td>\n",
       "      <td>0.053619</td>\n",
       "      <td>[Cantaires, de, el, Garriga, ,, Senyores, i, s...</td>\n",
       "    </tr>\n",
       "    <tr>\n",
       "      <th>2</th>\n",
       "      <td>1900</td>\n",
       "      <td>Discurs-pròlec</td>\n",
       "      <td>Discurs-prolec Llegit en la societat mèdic-far...</td>\n",
       "      <td>73881</td>\n",
       "      <td>[Discurs-prolec, Llegit, en, la, societat, mèd...</td>\n",
       "      <td>14727</td>\n",
       "      <td>[discurs-prolec, llegit, en, la, societat, mèd...</td>\n",
       "      <td>{(pròu, hi, gosaria)}</td>\n",
       "      <td>{}</td>\n",
       "      <td>1</td>\n",
       "      <td>0.006790</td>\n",
       "      <td>[Discurs-prolec, llegit, en, el, societat, mèd...</td>\n",
       "    </tr>\n",
       "  </tbody>\n",
       "</table>\n",
       "</div>"
      ],
      "text/plain": [
       "   Year                                            Line_id  \\\n",
       "0  1926  Discurs llegit per... donar a conèxer la perso...   \n",
       "1  1920  Parlament llegit en la festa inaugural de l'Or...   \n",
       "2  1900                                     Discurs-pròlec   \n",
       "\n",
       "                                                Text  Text_len  \\\n",
       "0  L'home que per amor al estudi, impulsat per un...     37497   \n",
       "1  Cantaires de la Garriga, Senyores i senyors:\\n...      9253   \n",
       "2  Discurs-prolec Llegit en la societat mèdic-far...     73881   \n",
       "\n",
       "                                                toks  Len_toks  \\\n",
       "0  [L', home, que, per, amor, al, estudi, ,, impu...      7267   \n",
       "1  [Cantaires, de, la, Garriga, ,, Senyores, i, s...      1865   \n",
       "2  [Discurs-prolec, Llegit, en, la, societat, mèd...     14727   \n",
       "\n",
       "                                            toks_low                     hi  \\\n",
       "0  [l', home, que, per, amor, al, estudi, ,, impu...       {(n', hi, hagi)}   \n",
       "1  [cantaires, de, la, garriga, ,, senyores, i, s...       {(m', hi, vaig)}   \n",
       "2  [discurs-prolec, llegit, en, la, societat, mèd...  {(pròu, hi, gosaria)}   \n",
       "\n",
       "  -hi  hi_count  hi_percent                                             Lemmas  \n",
       "0  {}         1    0.013761  [el, home, que, per, amor, a, el, estudi, ,, i...  \n",
       "1  {}         1    0.053619  [Cantaires, de, el, Garriga, ,, Senyores, i, s...  \n",
       "2  {}         1    0.006790  [Discurs-prolec, llegit, en, el, societat, mèd...  "
      ]
     },
     "execution_count": 168,
     "metadata": {},
     "output_type": "execute_result"
    }
   ],
   "source": [
    "# checking the new column\n",
    "lemma_df = lemma_df.drop_duplicates(subset=\"Text\", keep=\"first\")\n",
    "lemma_df.head(3)"
   ]
  },
  {
   "cell_type": "markdown",
   "id": "361acb23-e1c0-4a8a-96b7-b303679a248b",
   "metadata": {},
   "source": [
    "**Comment:** Now that we have lemmatized our text we will hunt for instances in any conjugation of \"anar\" and \"venir\", and see if we can find any trends of one taking over the other's use. "
   ]
  },
  {
   "cell_type": "code",
   "execution_count": 169,
   "id": "afec473c-ddd0-4c9f-a75a-08ee992e0651",
   "metadata": {},
   "outputs": [],
   "source": [
    "# counting instances of anar and venir in each of the lemma lists for each text piece\n",
    "lemma_df[\"Anar_count\"] = lemma_df[\"Lemmas\"].apply(lambda x: x.count(\"anar\") + x.count(\"anàreu\"))\n",
    "lemma_df[\"Venir_count\"] = lemma_df[\"Lemmas\"].apply(lambda x: x.count(\"venir\") + x.count(\"vinguér\") + x.count(\"venire\"))"
   ]
  },
  {
   "cell_type": "code",
   "execution_count": 170,
   "id": "605a6bde-ce85-4695-877d-ceba81153be1",
   "metadata": {},
   "outputs": [
    {
     "data": {
      "text/html": [
       "<div>\n",
       "<style scoped>\n",
       "    .dataframe tbody tr th:only-of-type {\n",
       "        vertical-align: middle;\n",
       "    }\n",
       "\n",
       "    .dataframe tbody tr th {\n",
       "        vertical-align: top;\n",
       "    }\n",
       "\n",
       "    .dataframe thead th {\n",
       "        text-align: right;\n",
       "    }\n",
       "</style>\n",
       "<table border=\"1\" class=\"dataframe\">\n",
       "  <thead>\n",
       "    <tr style=\"text-align: right;\">\n",
       "      <th></th>\n",
       "      <th>Year</th>\n",
       "      <th>Line_id</th>\n",
       "      <th>Text</th>\n",
       "      <th>Text_len</th>\n",
       "      <th>toks</th>\n",
       "      <th>Len_toks</th>\n",
       "      <th>toks_low</th>\n",
       "      <th>hi</th>\n",
       "      <th>-hi</th>\n",
       "      <th>hi_count</th>\n",
       "      <th>hi_percent</th>\n",
       "      <th>Lemmas</th>\n",
       "      <th>Anar_count</th>\n",
       "      <th>Venir_count</th>\n",
       "    </tr>\n",
       "  </thead>\n",
       "  <tbody>\n",
       "    <tr>\n",
       "      <th>0</th>\n",
       "      <td>1926</td>\n",
       "      <td>Discurs llegit per... donar a conèxer la perso...</td>\n",
       "      <td>L'home que per amor al estudi, impulsat per un...</td>\n",
       "      <td>37497</td>\n",
       "      <td>[L', home, que, per, amor, al, estudi, ,, impu...</td>\n",
       "      <td>7267</td>\n",
       "      <td>[l', home, que, per, amor, al, estudi, ,, impu...</td>\n",
       "      <td>{(n', hi, hagi)}</td>\n",
       "      <td>{}</td>\n",
       "      <td>1</td>\n",
       "      <td>0.013761</td>\n",
       "      <td>[el, home, que, per, amor, a, el, estudi, ,, i...</td>\n",
       "      <td>61</td>\n",
       "      <td>2</td>\n",
       "    </tr>\n",
       "    <tr>\n",
       "      <th>1</th>\n",
       "      <td>1920</td>\n",
       "      <td>Parlament llegit en la festa inaugural de l'Or...</td>\n",
       "      <td>Cantaires de la Garriga, Senyores i senyors:\\n...</td>\n",
       "      <td>9253</td>\n",
       "      <td>[Cantaires, de, la, Garriga, ,, Senyores, i, s...</td>\n",
       "      <td>1865</td>\n",
       "      <td>[cantaires, de, la, garriga, ,, senyores, i, s...</td>\n",
       "      <td>{(m', hi, vaig)}</td>\n",
       "      <td>{}</td>\n",
       "      <td>1</td>\n",
       "      <td>0.053619</td>\n",
       "      <td>[Cantaires, de, el, Garriga, ,, Senyores, i, s...</td>\n",
       "      <td>8</td>\n",
       "      <td>0</td>\n",
       "    </tr>\n",
       "    <tr>\n",
       "      <th>2</th>\n",
       "      <td>1900</td>\n",
       "      <td>Discurs-pròlec</td>\n",
       "      <td>Discurs-prolec Llegit en la societat mèdic-far...</td>\n",
       "      <td>73881</td>\n",
       "      <td>[Discurs-prolec, Llegit, en, la, societat, mèd...</td>\n",
       "      <td>14727</td>\n",
       "      <td>[discurs-prolec, llegit, en, la, societat, mèd...</td>\n",
       "      <td>{(pròu, hi, gosaria)}</td>\n",
       "      <td>{}</td>\n",
       "      <td>1</td>\n",
       "      <td>0.006790</td>\n",
       "      <td>[Discurs-prolec, llegit, en, el, societat, mèd...</td>\n",
       "      <td>19</td>\n",
       "      <td>5</td>\n",
       "    </tr>\n",
       "  </tbody>\n",
       "</table>\n",
       "</div>"
      ],
      "text/plain": [
       "   Year                                            Line_id  \\\n",
       "0  1926  Discurs llegit per... donar a conèxer la perso...   \n",
       "1  1920  Parlament llegit en la festa inaugural de l'Or...   \n",
       "2  1900                                     Discurs-pròlec   \n",
       "\n",
       "                                                Text  Text_len  \\\n",
       "0  L'home que per amor al estudi, impulsat per un...     37497   \n",
       "1  Cantaires de la Garriga, Senyores i senyors:\\n...      9253   \n",
       "2  Discurs-prolec Llegit en la societat mèdic-far...     73881   \n",
       "\n",
       "                                                toks  Len_toks  \\\n",
       "0  [L', home, que, per, amor, al, estudi, ,, impu...      7267   \n",
       "1  [Cantaires, de, la, Garriga, ,, Senyores, i, s...      1865   \n",
       "2  [Discurs-prolec, Llegit, en, la, societat, mèd...     14727   \n",
       "\n",
       "                                            toks_low                     hi  \\\n",
       "0  [l', home, que, per, amor, al, estudi, ,, impu...       {(n', hi, hagi)}   \n",
       "1  [cantaires, de, la, garriga, ,, senyores, i, s...       {(m', hi, vaig)}   \n",
       "2  [discurs-prolec, llegit, en, la, societat, mèd...  {(pròu, hi, gosaria)}   \n",
       "\n",
       "  -hi  hi_count  hi_percent  \\\n",
       "0  {}         1    0.013761   \n",
       "1  {}         1    0.053619   \n",
       "2  {}         1    0.006790   \n",
       "\n",
       "                                              Lemmas  Anar_count  Venir_count  \n",
       "0  [el, home, que, per, amor, a, el, estudi, ,, i...          61            2  \n",
       "1  [Cantaires, de, el, Garriga, ,, Senyores, i, s...           8            0  \n",
       "2  [Discurs-prolec, llegit, en, el, societat, mèd...          19            5  "
      ]
     },
     "execution_count": 170,
     "metadata": {},
     "output_type": "execute_result"
    }
   ],
   "source": [
    "lemma_df.head(3)"
   ]
  },
  {
   "cell_type": "code",
   "execution_count": 171,
   "id": "535451a8-ee7e-4bde-bcbe-3283073c21c8",
   "metadata": {},
   "outputs": [],
   "source": [
    "# since we'll be comparing proportions multiple times, lets create a function for it:\n",
    "def proportion_comparison_df(df, el1, el2):\n",
    "    count1_name = f\"{el1}_count\"\n",
    "    count2_name = f\"{el2}_count\"\n",
    "    el1_prop_df = (df.groupby(\"Year\")[count1_name].sum()/lemma_df.groupby(\"Year\")[\"Len_toks\"].sum()*100).reset_index()\n",
    "    el2_prop_df = (df.groupby(\"Year\")[count2_name].sum()/lemma_df.groupby(\"Year\")[\"Len_toks\"].sum()*100).reset_index()\n",
    "    el1_prop_df = el1_prop_df.rename(columns ={\"Year\": \"Year\", 0:f\"{el1}_percent\"}) \n",
    "    el2_prop_df = el2_prop_df.rename(columns ={\"Year\": \"Year\", 0:f\"{el2}_percent\"}) \n",
    "    comparison_df = pd.merge(el1_prop_df, el2_prop_df, on=\"Year\")      \n",
    "    return comparison_df"
   ]
  },
  {
   "cell_type": "code",
   "execution_count": 172,
   "id": "758d208f-7190-4b04-848c-a0f3e7a42f43",
   "metadata": {},
   "outputs": [],
   "source": [
    "lemma_df[\"Anar_percent\"] = lemma_df.apply(lambda x: proportion(x, \"Anar_count\"), axis=1)\n",
    "lemma_df[\"Venir_percent\"] = lemma_df.apply(lambda x: proportion(x, \"Venir_count\"), axis=1)"
   ]
  },
  {
   "cell_type": "code",
   "execution_count": 173,
   "id": "ccdc320f-5c21-4ba5-8783-6ea42afbfc2a",
   "metadata": {},
   "outputs": [],
   "source": [
    "directionVerbs_df = proportion_comparison_df(lemma_df, \"Anar\", \"Venir\")"
   ]
  },
  {
   "cell_type": "code",
   "execution_count": 174,
   "id": "5b2a1123-6c43-4174-aef0-da2a993f9f92",
   "metadata": {},
   "outputs": [
    {
     "data": {
      "text/html": [
       "<div>\n",
       "<style scoped>\n",
       "    .dataframe tbody tr th:only-of-type {\n",
       "        vertical-align: middle;\n",
       "    }\n",
       "\n",
       "    .dataframe tbody tr th {\n",
       "        vertical-align: top;\n",
       "    }\n",
       "\n",
       "    .dataframe thead th {\n",
       "        text-align: right;\n",
       "    }\n",
       "</style>\n",
       "<table border=\"1\" class=\"dataframe\">\n",
       "  <thead>\n",
       "    <tr style=\"text-align: right;\">\n",
       "      <th></th>\n",
       "      <th>Year</th>\n",
       "      <th>Anar_percent</th>\n",
       "      <th>Venir_percent</th>\n",
       "    </tr>\n",
       "  </thead>\n",
       "  <tbody>\n",
       "    <tr>\n",
       "      <th>0</th>\n",
       "      <td>1860</td>\n",
       "      <td>0.000000</td>\n",
       "      <td>0.104275</td>\n",
       "    </tr>\n",
       "    <tr>\n",
       "      <th>1</th>\n",
       "      <td>1868</td>\n",
       "      <td>0.026759</td>\n",
       "      <td>0.347873</td>\n",
       "    </tr>\n",
       "    <tr>\n",
       "      <th>2</th>\n",
       "      <td>1873</td>\n",
       "      <td>0.155179</td>\n",
       "      <td>0.116384</td>\n",
       "    </tr>\n",
       "    <tr>\n",
       "      <th>3</th>\n",
       "      <td>1876</td>\n",
       "      <td>0.211039</td>\n",
       "      <td>0.040584</td>\n",
       "    </tr>\n",
       "    <tr>\n",
       "      <th>4</th>\n",
       "      <td>1878</td>\n",
       "      <td>0.172159</td>\n",
       "      <td>0.024594</td>\n",
       "    </tr>\n",
       "  </tbody>\n",
       "</table>\n",
       "</div>"
      ],
      "text/plain": [
       "   Year  Anar_percent  Venir_percent\n",
       "0  1860      0.000000       0.104275\n",
       "1  1868      0.026759       0.347873\n",
       "2  1873      0.155179       0.116384\n",
       "3  1876      0.211039       0.040584\n",
       "4  1878      0.172159       0.024594"
      ]
     },
     "execution_count": 174,
     "metadata": {},
     "output_type": "execute_result"
    }
   ],
   "source": [
    "directionVerbs_df.head()"
   ]
  },
  {
   "cell_type": "code",
   "execution_count": 175,
   "id": "bee7fc06-7ab2-4ad3-a231-9770decfbd5c",
   "metadata": {},
   "outputs": [
    {
     "data": {
      "image/png": "[encoded data removed]",
      "text/plain": [
       "<Figure size 800x1600 with 1 Axes>"
      ]
     },
     "metadata": {},
     "output_type": "display_data"
    }
   ],
   "source": [
    "# plotting anar vs venir\n",
    "ax = directionVerbs_df.plot.barh(\n",
    "    y=[\"Anar_percent\", \"Venir_percent\"],\n",
    "    x=\"Year\",\n",
    "    figsize=(8, 16),  \n",
    "    width=0.8,\n",
    "    color = [\"purple\", \"green\"]\n",
    ")\n",
    "\n",
    "# regression line\n",
    "x = directionVerbs_df.index\n",
    "y = directionVerbs_df['Anar_percent']\n",
    "coef = np.polyfit(x, y, 1)  # 1 = linear\n",
    "poly1d_fn = np.poly1d(coef)\n",
    "\n",
    "# adding value annotations\n",
    "for p in ax.patches:\n",
    "    w = p.get_width()\n",
    "    if w > 0:\n",
    "        ax.annotate(f\"{w:.2f}\", \n",
    "                    (w, p.get_y() + p.get_height() / 2),\n",
    "                    va=\"center\", ha=\"left\", fontsize=8)\n",
    "\n",
    "ax.set_title(\"'Anar' vs 'Venir' (1860–2022)\", fontsize=12)\n",
    "ax.set_xlabel(\"Percentage\")\n",
    "ax.set_ylabel(\"Year\")\n",
    "ax.invert_yaxis()  # from olderst to most recent\n",
    "plt.tight_layout()\n",
    "plt.show()"
   ]
  },
  {
   "cell_type": "code",
   "execution_count": 176,
   "id": "29f6be6e-41ed-46ec-ae3d-289b433626ca",
   "metadata": {},
   "outputs": [
    {
     "name": "stdout",
     "output_type": "stream",
     "text": [
      "Anar% - rho:  0.571376, p-value: 0.0000\n",
      "Venir% - rho: -0.0808, p-value: 0.5464\n"
     ]
    }
   ],
   "source": [
    "# correlation year-percentages\n",
    "rho_anar, p_anar = spearmanr(directionVerbs_df[\"Year\"], directionVerbs_df[\"Anar_percent\"])\n",
    "rho_venir, p_venir = spearmanr(directionVerbs_df[\"Year\"], directionVerbs_df[\"Venir_percent\"])\n",
    "print(f\"Anar% - rho: {rho_anar: 4f}, p-value: {p_anar:.4f}\")\n",
    "print(f\"Venir% - rho: {rho_venir:.4f}, p-value: {p_venir:.4f}\")"
   ]
  },
  {
   "cell_type": "code",
   "execution_count": 177,
   "id": "cd6aa430-4a28-4ce8-9008-30e11137a741",
   "metadata": {},
   "outputs": [
    {
     "name": "stdout",
     "output_type": "stream",
     "text": [
      "Diferència (Anar% - Venir%) - rho: 0.5581, p-value: 0.0000\n"
     ]
    }
   ],
   "source": [
    "# difference through years\n",
    "directionVerbs_df[\"Diff\"] = directionVerbs_df[\"Anar_percent\"] - directionVerbs_df[\"Venir_percent\"]\n",
    "rho_diff, p_diff = spearmanr(directionVerbs_df[\"Year\"], directionVerbs_df[\"Diff\"])\n",
    "print(f\"Diferència (Anar% - Venir%) - rho: {rho_diff:.4f}, p-value: {p_diff:.4f}\")"
   ]
  },
  {
   "cell_type": "markdown",
   "id": "a4d28ac7-5850-455d-bf7b-7dce73f25773",
   "metadata": {},
   "source": [
    "**Conclusion on direction verbs**\\\n",
    "The use of the verb \"anar\" (to go) increases significantly through out the years, while \"venir\" (to come,) does not show any significant change.\\\n",
    "The difference in the use of the two verbs, clearly increases with the increase in the use of \"anar\". This could suggest that anar is taking over some of the situations in which venir used to be used, as there is a significant tendency in the difference of 0.55, and in the increase of \"Anar\" of 0.56. However, since \"Venir\" does not experience any drop, the meaning and functions of \"Anar\" might just be getting extended in other ways, not necessarly taking over the function of \"Venir\"."
   ]
  },
  {
   "cell_type": "markdown",
   "id": "3ecaa507-3dd4-4a5f-af3e-40c01e4768ec",
   "metadata": {},
   "source": [
    "### 2.2 Shift from \"perifràstic\" past to simple past"
   ]
  },
  {
   "cell_type": "markdown",
   "id": "4670c1ac-02c0-4ae1-9284-c6dca580dd32",
   "metadata": {},
   "source": [
    "**A bit of grammar background on the perifrastic past:**\n",
    "\n",
    "The Perifrastic Past in Catalan is a verb tense used to express past tense actions that were done in the past and have been finished.\\\n",
    "It is characteristic and a cornestone of Catalan as no neolatin language uses a Perifrastic Past.\\\n",
    "It has the same value and sense as Simple Past. In English *\"I went\"*.\\\n",
    "It is formed with the auxiliary form of the verb \"anar\" and the main verb in its infinitive form.\\\n",
    "Anar (to go) is conjugated in the present tense.\n",
    "| **Pattern:** | **(subj)** | **present tense anar** | **main verb inf** |\n",
    "|:---|:---|:---|:---|\n",
    "|(1st Sing.) | Jo\t| vaig | parlar |\n",
    "|(2nd Sing.) | Tu\t| vas/vares | parlar |\n",
    "|(3rd Sing.) | Ell/Ella | va | parlar |\n",
    "|(1st Plur.) | Nosaltres | vam/vàrem | parlar |\n",
    "|(2nd Plur.) | Vosaltres | vau/vàreu | parlar |\n",
    "|(3rd Plur.) | Ells / Elles |\tvan/varen |\tparlar |\n",
    "\n",
    "\\\n",
    "Another note, that will be helpful in our search for this tense is that all infinitives in Catalan belong to one of 3 conjugations that have a particular ending.\\\n",
    "Inifitive form verbs of the **first conjugation** finish in **\"-ar\"**, as the previous example \"parlar\" or for another example \"menjar\".\\\n",
    "**Second conjugation** verbs infinitives end in **\"-er\"** like \"saber\" or **\"-re\"** like \"pretendre\".\\\n",
    "**Third conjugugation** infinitives end in **\"-ir\"** like \"dormir\".\n",
    "\n",
    "All forms follow this rule and there are no irregular forms."
   ]
  },
  {
   "cell_type": "markdown",
   "id": "2f11feae-f253-4cb6-9253-b627606f9132",
   "metadata": {},
   "source": [
    "Given the strong regularity let's go straight into takeling the perifrastic past hunt."
   ]
  },
  {
   "cell_type": "code",
   "execution_count": 178,
   "id": "cbe3f0da-5f3e-4a8a-9830-f9ceb677f6dd",
   "metadata": {},
   "outputs": [],
   "source": [
    "# creating a function to find pronom febles and their context\n",
    "def get_pstperif(text):\n",
    "    '''\n",
    "    takes in a text and returns a list of found \"passat perifrastic\" forms in the text\n",
    "    '''\n",
    "    # regex breakdown:\n",
    "    # \\b -> word boundary\n",
    "    # (?:vaig|vas|vares|va|vam|vàrem|vau|vàreu|van|varen) -> has to match one of the auxiliar forms \n",
    "    # \\s+ -> zero or more whitespace characters (the space between the aux and main verb)\n",
    "    # (?:ar|er|re|ir) -> has to match one of the infinitive endings\n",
    "    # this pattern ensures we are capturing only compound forms and they are \"Passat Perifrastic\" as their aux is \"anar\"\n",
    "    target = r\"\\b(?:vaig|vas|vares|va|vam|vàrem|vau|vàreu|van|varen)\\s+\\w+(?:ar|er|re|ir)\"\n",
    "    found = re.findall(target, text, flags=re.IGNORECASE)\n",
    "    return found"
   ]
  },
  {
   "cell_type": "code",
   "execution_count": 179,
   "id": "99b38ebe-6a68-4c61-8706-af059fbd7810",
   "metadata": {},
   "outputs": [],
   "source": [
    "# getting all passat perifrastics forms as a list and storing them in a column\n",
    "lemma_df[\"PstPerif\"] = lemma_df[\"Text\"].apply(get_pstperif)"
   ]
  },
  {
   "cell_type": "code",
   "execution_count": 180,
   "id": "e03eff03-3f78-4426-8b88-6c4ad4fb35fd",
   "metadata": {},
   "outputs": [],
   "source": [
    "# counting the passat perifrastic forms per row and storing that count as a new column\n",
    "lemma_df[\"Pstp_count\"] = lemma_df[\"PstPerif\"].apply(len)"
   ]
  },
  {
   "cell_type": "code",
   "execution_count": 181,
   "id": "d55791d8-8f11-45b8-8d19-0d16763e0efc",
   "metadata": {},
   "outputs": [
    {
     "data": {
      "text/html": [
       "<div>\n",
       "<style scoped>\n",
       "    .dataframe tbody tr th:only-of-type {\n",
       "        vertical-align: middle;\n",
       "    }\n",
       "\n",
       "    .dataframe tbody tr th {\n",
       "        vertical-align: top;\n",
       "    }\n",
       "\n",
       "    .dataframe thead th {\n",
       "        text-align: right;\n",
       "    }\n",
       "</style>\n",
       "<table border=\"1\" class=\"dataframe\">\n",
       "  <thead>\n",
       "    <tr style=\"text-align: right;\">\n",
       "      <th></th>\n",
       "      <th>Year</th>\n",
       "      <th>Line_id</th>\n",
       "      <th>Text</th>\n",
       "      <th>Text_len</th>\n",
       "      <th>toks</th>\n",
       "      <th>Len_toks</th>\n",
       "      <th>toks_low</th>\n",
       "      <th>hi</th>\n",
       "      <th>-hi</th>\n",
       "      <th>hi_count</th>\n",
       "      <th>hi_percent</th>\n",
       "      <th>Lemmas</th>\n",
       "      <th>Anar_count</th>\n",
       "      <th>Venir_count</th>\n",
       "      <th>Anar_percent</th>\n",
       "      <th>Venir_percent</th>\n",
       "      <th>PstPerif</th>\n",
       "      <th>Pstp_count</th>\n",
       "    </tr>\n",
       "  </thead>\n",
       "  <tbody>\n",
       "    <tr>\n",
       "      <th>0</th>\n",
       "      <td>1926</td>\n",
       "      <td>Discurs llegit per... donar a conèxer la perso...</td>\n",
       "      <td>L'home que per amor al estudi, impulsat per un...</td>\n",
       "      <td>37497</td>\n",
       "      <td>[L', home, que, per, amor, al, estudi, ,, impu...</td>\n",
       "      <td>7267</td>\n",
       "      <td>[l', home, que, per, amor, al, estudi, ,, impu...</td>\n",
       "      <td>{(n', hi, hagi)}</td>\n",
       "      <td>{}</td>\n",
       "      <td>1</td>\n",
       "      <td>0.013761</td>\n",
       "      <td>[el, home, que, per, amor, a, el, estudi, ,, i...</td>\n",
       "      <td>61</td>\n",
       "      <td>2</td>\n",
       "      <td>0.839411</td>\n",
       "      <td>0.027522</td>\n",
       "      <td>[va dedicar, va erigir, va fer, va interrogar,...</td>\n",
       "      <td>35</td>\n",
       "    </tr>\n",
       "    <tr>\n",
       "      <th>1</th>\n",
       "      <td>1920</td>\n",
       "      <td>Parlament llegit en la festa inaugural de l'Or...</td>\n",
       "      <td>Cantaires de la Garriga, Senyores i senyors:\\n...</td>\n",
       "      <td>9253</td>\n",
       "      <td>[Cantaires, de, la, Garriga, ,, Senyores, i, s...</td>\n",
       "      <td>1865</td>\n",
       "      <td>[cantaires, de, la, garriga, ,, senyores, i, s...</td>\n",
       "      <td>{(m', hi, vaig)}</td>\n",
       "      <td>{}</td>\n",
       "      <td>1</td>\n",
       "      <td>0.053619</td>\n",
       "      <td>[Cantaires, de, el, Garriga, ,, Senyores, i, s...</td>\n",
       "      <td>8</td>\n",
       "      <td>0</td>\n",
       "      <td>0.428954</td>\n",
       "      <td>0.000000</td>\n",
       "      <td>[vaig ésser, vaig començar, vaig trobar, vàrem...</td>\n",
       "      <td>4</td>\n",
       "    </tr>\n",
       "  </tbody>\n",
       "</table>\n",
       "</div>"
      ],
      "text/plain": [
       "   Year                                            Line_id  \\\n",
       "0  1926  Discurs llegit per... donar a conèxer la perso...   \n",
       "1  1920  Parlament llegit en la festa inaugural de l'Or...   \n",
       "\n",
       "                                                Text  Text_len  \\\n",
       "0  L'home que per amor al estudi, impulsat per un...     37497   \n",
       "1  Cantaires de la Garriga, Senyores i senyors:\\n...      9253   \n",
       "\n",
       "                                                toks  Len_toks  \\\n",
       "0  [L', home, que, per, amor, al, estudi, ,, impu...      7267   \n",
       "1  [Cantaires, de, la, Garriga, ,, Senyores, i, s...      1865   \n",
       "\n",
       "                                            toks_low                hi -hi  \\\n",
       "0  [l', home, que, per, amor, al, estudi, ,, impu...  {(n', hi, hagi)}  {}   \n",
       "1  [cantaires, de, la, garriga, ,, senyores, i, s...  {(m', hi, vaig)}  {}   \n",
       "\n",
       "   hi_count  hi_percent                                             Lemmas  \\\n",
       "0         1    0.013761  [el, home, que, per, amor, a, el, estudi, ,, i...   \n",
       "1         1    0.053619  [Cantaires, de, el, Garriga, ,, Senyores, i, s...   \n",
       "\n",
       "   Anar_count  Venir_count  Anar_percent  Venir_percent  \\\n",
       "0          61            2      0.839411       0.027522   \n",
       "1           8            0      0.428954       0.000000   \n",
       "\n",
       "                                            PstPerif  Pstp_count  \n",
       "0  [va dedicar, va erigir, va fer, va interrogar,...          35  \n",
       "1  [vaig ésser, vaig començar, vaig trobar, vàrem...           4  "
      ]
     },
     "execution_count": 181,
     "metadata": {},
     "output_type": "execute_result"
    }
   ],
   "source": [
    "# checking the new columns\n",
    "lemma_df.head(2)"
   ]
  },
  {
   "cell_type": "markdown",
   "id": "e1312a5e-c33a-4eb5-803d-823f3ab91ea2",
   "metadata": {},
   "source": [
    "**Comment:** We have now found and counted all the Passat Perifrastic forms in the texts stored in the \"PstPerif\" column and counted on the \"Pstp_count\" column. We will now explore the counts and years to see if there is a drop in the use of Passat Perifrastic that would portray a shift towards other tenses, likely to the influence of other romance languages.\\\n",
    "To analyze the count since it is heavly dependent on text length, we will create a new column with the percentage of Passat Perifrastic from the total tokens of the text piece. We will then use that percentage instead of the raw count to analyze the progression over time."
   ]
  },
  {
   "cell_type": "code",
   "execution_count": 182,
   "id": "4d6498d4-a62b-451f-ad4f-8f354996759d",
   "metadata": {},
   "outputs": [],
   "source": [
    "lemma_df[\"Pstp_percent\"] = lemma_df.apply(lambda x: proportion(x, \"Pstp_count\"), axis=1)"
   ]
  },
  {
   "cell_type": "code",
   "execution_count": 183,
   "id": "6d64c1e8-c437-497a-8401-6066e7d10ad5",
   "metadata": {},
   "outputs": [
    {
     "data": {
      "text/html": [
       "<div>\n",
       "<style scoped>\n",
       "    .dataframe tbody tr th:only-of-type {\n",
       "        vertical-align: middle;\n",
       "    }\n",
       "\n",
       "    .dataframe tbody tr th {\n",
       "        vertical-align: top;\n",
       "    }\n",
       "\n",
       "    .dataframe thead th {\n",
       "        text-align: right;\n",
       "    }\n",
       "</style>\n",
       "<table border=\"1\" class=\"dataframe\">\n",
       "  <thead>\n",
       "    <tr style=\"text-align: right;\">\n",
       "      <th></th>\n",
       "      <th>Year</th>\n",
       "      <th>Line_id</th>\n",
       "      <th>Text</th>\n",
       "      <th>Text_len</th>\n",
       "      <th>toks</th>\n",
       "      <th>Len_toks</th>\n",
       "      <th>toks_low</th>\n",
       "      <th>hi</th>\n",
       "      <th>-hi</th>\n",
       "      <th>hi_count</th>\n",
       "      <th>hi_percent</th>\n",
       "      <th>Lemmas</th>\n",
       "      <th>Anar_count</th>\n",
       "      <th>Venir_count</th>\n",
       "      <th>Anar_percent</th>\n",
       "      <th>Venir_percent</th>\n",
       "      <th>PstPerif</th>\n",
       "      <th>Pstp_count</th>\n",
       "      <th>Pstp_percent</th>\n",
       "    </tr>\n",
       "  </thead>\n",
       "  <tbody>\n",
       "    <tr>\n",
       "      <th>0</th>\n",
       "      <td>1926</td>\n",
       "      <td>Discurs llegit per... donar a conèxer la perso...</td>\n",
       "      <td>L'home que per amor al estudi, impulsat per un...</td>\n",
       "      <td>37497</td>\n",
       "      <td>[L', home, que, per, amor, al, estudi, ,, impu...</td>\n",
       "      <td>7267</td>\n",
       "      <td>[l', home, que, per, amor, al, estudi, ,, impu...</td>\n",
       "      <td>{(n', hi, hagi)}</td>\n",
       "      <td>{}</td>\n",
       "      <td>1</td>\n",
       "      <td>0.013761</td>\n",
       "      <td>[el, home, que, per, amor, a, el, estudi, ,, i...</td>\n",
       "      <td>61</td>\n",
       "      <td>2</td>\n",
       "      <td>0.839411</td>\n",
       "      <td>0.027522</td>\n",
       "      <td>[va dedicar, va erigir, va fer, va interrogar,...</td>\n",
       "      <td>35</td>\n",
       "      <td>0.481629</td>\n",
       "    </tr>\n",
       "    <tr>\n",
       "      <th>1</th>\n",
       "      <td>1920</td>\n",
       "      <td>Parlament llegit en la festa inaugural de l'Or...</td>\n",
       "      <td>Cantaires de la Garriga, Senyores i senyors:\\n...</td>\n",
       "      <td>9253</td>\n",
       "      <td>[Cantaires, de, la, Garriga, ,, Senyores, i, s...</td>\n",
       "      <td>1865</td>\n",
       "      <td>[cantaires, de, la, garriga, ,, senyores, i, s...</td>\n",
       "      <td>{(m', hi, vaig)}</td>\n",
       "      <td>{}</td>\n",
       "      <td>1</td>\n",
       "      <td>0.053619</td>\n",
       "      <td>[Cantaires, de, el, Garriga, ,, Senyores, i, s...</td>\n",
       "      <td>8</td>\n",
       "      <td>0</td>\n",
       "      <td>0.428954</td>\n",
       "      <td>0.000000</td>\n",
       "      <td>[vaig ésser, vaig començar, vaig trobar, vàrem...</td>\n",
       "      <td>4</td>\n",
       "      <td>0.214477</td>\n",
       "    </tr>\n",
       "  </tbody>\n",
       "</table>\n",
       "</div>"
      ],
      "text/plain": [
       "   Year                                            Line_id  \\\n",
       "0  1926  Discurs llegit per... donar a conèxer la perso...   \n",
       "1  1920  Parlament llegit en la festa inaugural de l'Or...   \n",
       "\n",
       "                                                Text  Text_len  \\\n",
       "0  L'home que per amor al estudi, impulsat per un...     37497   \n",
       "1  Cantaires de la Garriga, Senyores i senyors:\\n...      9253   \n",
       "\n",
       "                                                toks  Len_toks  \\\n",
       "0  [L', home, que, per, amor, al, estudi, ,, impu...      7267   \n",
       "1  [Cantaires, de, la, Garriga, ,, Senyores, i, s...      1865   \n",
       "\n",
       "                                            toks_low                hi -hi  \\\n",
       "0  [l', home, que, per, amor, al, estudi, ,, impu...  {(n', hi, hagi)}  {}   \n",
       "1  [cantaires, de, la, garriga, ,, senyores, i, s...  {(m', hi, vaig)}  {}   \n",
       "\n",
       "   hi_count  hi_percent                                             Lemmas  \\\n",
       "0         1    0.013761  [el, home, que, per, amor, a, el, estudi, ,, i...   \n",
       "1         1    0.053619  [Cantaires, de, el, Garriga, ,, Senyores, i, s...   \n",
       "\n",
       "   Anar_count  Venir_count  Anar_percent  Venir_percent  \\\n",
       "0          61            2      0.839411       0.027522   \n",
       "1           8            0      0.428954       0.000000   \n",
       "\n",
       "                                            PstPerif  Pstp_count  Pstp_percent  \n",
       "0  [va dedicar, va erigir, va fer, va interrogar,...          35      0.481629  \n",
       "1  [vaig ésser, vaig començar, vaig trobar, vàrem...           4      0.214477  "
      ]
     },
     "execution_count": 183,
     "metadata": {},
     "output_type": "execute_result"
    }
   ],
   "source": [
    "lemma_df.head(2)"
   ]
  },
  {
   "cell_type": "code",
   "execution_count": 184,
   "id": "972b3b9b-cff1-43e2-b270-3f3bbf059baf",
   "metadata": {},
   "outputs": [
    {
     "data": {
      "image/png": "[encoded data removed]",
      "text/plain": [
       "<Figure size 800x1000 with 1 Axes>"
      ]
     },
     "metadata": {},
     "output_type": "display_data"
    }
   ],
   "source": [
    "# grouping by year\n",
    "# getting mean percentage of hi per text per year\n",
    "df_grouped = lemma_df.groupby(\"Year\")[\"Pstp_percent\"].mean()\n",
    "\n",
    "plt.figure(figsize=(8, 10))\n",
    "df_grouped.plot(kind=\"barh\", color=\"purple\")\n",
    "plt.xlabel(\"Passat Perifrastic Percentage Representation on Text\")\n",
    "plt.ylabel(\"Year\")\n",
    "plt.title(\"Passat Perifrastic Percentage Per Year\")\n",
    "plt.gca().invert_yaxis()  # Opcional, per invertir l'ordre de les etiquetes\n",
    "plt.tight_layout()\n",
    "plt.show()"
   ]
  },
  {
   "cell_type": "code",
   "execution_count": 185,
   "id": "d4a35b6e-6465-4df2-8237-f99848d79989",
   "metadata": {},
   "outputs": [
    {
     "name": "stdout",
     "output_type": "stream",
     "text": [
      "Passat Perifràstic% - rho: -0.0406, p-value: 0.0000\n"
     ]
    }
   ],
   "source": [
    "# correlation year-hi_percentages\n",
    "rho_pstp, p_pstp = spearmanr(lemma_df[\"Year\"], lemma_df[\"Pstp_percent\"])\n",
    "print(f\"Passat Perifràstic% - rho: {rho_pstp:.4f}, p-value: {p_pstp:.4f}\")"
   ]
  },
  {
   "cell_type": "markdown",
   "id": "ef932764-64d0-43e7-a6cf-52cb8549be25",
   "metadata": {},
   "source": [
    "**Conclusion**\\\n",
    "We could already see with the graph, and can suport with the rho result that there is no clear tendency in the use of Passat Perifràstic through out the years, there are sudden increases and decreases that do not show any clear pattern. "
   ]
  },
  {
   "cell_type": "markdown",
   "id": "c635d085-ed8c-416c-81ba-0ccc18e3b9cd",
   "metadata": {},
   "source": [
    "## 3. Syntactic restructuring"
   ]
  },
  {
   "cell_type": "markdown",
   "id": "485bd62a-12aa-4abc-875f-227bc44b9782",
   "metadata": {},
   "source": [
    "The last symptom Dr. Junyent points out is syntactic restructuring. Mentioning specifically pronominalization of non-reflexive verbs, that we will explore in 3.2.\\\n",
    "We will also look for syntactic restructuring with the comparison of the verbal periphrases \"tenir que\", a famous \"castellanisme\" (something like spanglish but between Catalan and Spanish) and \"haver de\", the Catalan periphrase that would traditionally be used in the context and considered correct."
   ]
  },
  {
   "cell_type": "markdown",
   "id": "f44131e4-662c-465c-99c3-d45b2a550f2c",
   "metadata": {},
   "source": [
    "### 3.1 Tenir que vs haver de"
   ]
  },
  {
   "cell_type": "markdown",
   "id": "c5dde6e0-4eec-4c69-83ee-be2c34ffe8f6",
   "metadata": {},
   "source": [
    "**Background info**\\\n",
    "In Catalan, the verb \"tenir\" is used for possession. \"**To have** a cat\" would be \"**Tenir** un gat\". However, \"tenir\" is not used for tasks or obligations. Instead, we use the verbal periphrase \"haver de.\" \"**I have to** clean\" would be \"**He de** netejar,\" \"he\" being \"haver\" conjugated 1st person singular present.\\\n",
    "However, in Spanish, the periphrase \"tener que\" is used for the same context and purpose. \"Tengo que limpiar,\" \"tengo\" being 1st person singular for \"tener\".\\\n",
    "Because in Catalan, we do have the verb \"tenir\" for possession, \"tenir que,\" mirroring the Spanish \"tener que\" is sometimes being used, reproducing a Spanish pattern that sounds unnatural to many speakers' ears as it is like a direct translation from Spanish.\\\n",
    "In the following step of the analysis, we will look for instances of \"tenir que\" in our data. We'll see if there is any change in its frequency of use."
   ]
  },
  {
   "cell_type": "markdown",
   "id": "c8b40f97-cf07-42f7-ae08-72d0519e0360",
   "metadata": {},
   "source": [
    "Similar to previous analysis sections, to avoid listing all the possible \"tenir que\" and \"haver de\" constructions for every possible person, number, and tense so we don't miss any instance of the constructions, we will use lemmatization.\\\n",
    "However, to ensure these expressions are correctly lemmatized, we will first run a trial lemmatiation on a couple of example sentences. "
   ]
  },
  {
   "cell_type": "code",
   "execution_count": 186,
   "id": "1b4ff0a4-8871-4c23-8a98-af509d60afe3",
   "metadata": {},
   "outputs": [
    {
     "name": "stdout",
     "output_type": "stream",
     "text": [
      "Lemmatization haver de:\n",
      "word: haver \tlemma: haver\n",
      "word: de \tlemma: de\n",
      "word: , \tlemma: ,\n",
      "word: he \tlemma: haver\n",
      "word: de \tlemma: de\n",
      "word: , \tlemma: ,\n",
      "word: has \tlemma: haver\n",
      "word: hagut \tlemma: haver\n",
      "word: de \tlemma: de\n",
      "word: , \tlemma: ,\n",
      "word: havíem \tlemma: haver\n",
      "word: de \tlemma: de\n",
      "word: , \tlemma: ,\n",
      "word: haguérem \tlemma: haver\n",
      "word: de \tlemma: de\n",
      "word: , \tlemma: ,\n",
      "word: hauran \tlemma: haver\n",
      "word: de \tlemma: de\n",
      "\n",
      "Lemmatization tenir que:\n",
      "word: tenir \tlemma: tenir\n",
      "word: que \tlemma: que\n",
      "word: , \tlemma: ,\n",
      "word: tinc \tlemma: tenir\n",
      "word: que \tlemma: que\n",
      "word: , \tlemma: ,\n",
      "word: has \tlemma: haver\n",
      "word: tingut \tlemma: tenir\n",
      "word: que \tlemma: que\n",
      "word: , \tlemma: ,\n",
      "word: teníem \tlemma: tenir\n",
      "word: que \tlemma: que\n",
      "word: , \tlemma: ,\n",
      "word: tinguérem \tlemma: tenir\n",
      "word: que \tlemma: que\n",
      "word: , \tlemma: ,\n",
      "word: tindran \tlemma: tenir\n",
      "word: que \tlemma: que\n"
     ]
    }
   ],
   "source": [
    "# creating 2 trial sequences containing various conjugations of the constructions \"haver de\" and \"tenir que\" (have to)\n",
    "# checking for lemmatization\n",
    "# verb_doc = nlp (infinitive, 1.sing.prs, 2.sing.pst \"perfet\",  1.plur.pst \"imperfet\", 2.plur.pst simple, 3.plur.fut \n",
    "haverde_doc = nlp(\"haver de, he de, has hagut de, havíem de, haguérem de, hauran de\")\n",
    "tenirque_doc = nlp(\"tenir que, tinc que, has tingut que, teníem que, tinguérem que, tindran que\")\n",
    "print(\"Lemmatization haver de:\")\n",
    "print(*[f\"word: {word.text+\" \"}\\tlemma: {word.lemma}\" for sent in haverde_doc.sentences for word in sent.words], sep=\"\\n\")\n",
    "print()\n",
    "print(\"Lemmatization tenir que:\")\n",
    "print(*[f\"word: {word.text+\" \"}\\tlemma: {word.lemma}\" for sent in tenirque_doc.sentences for word in sent.words], sep=\"\\n\")"
   ]
  },
  {
   "cell_type": "markdown",
   "id": "369986b7-bee5-471c-b17a-f1d81be13f66",
   "metadata": {},
   "source": [
    "**Comment on lemmatization**\\\n",
    "All the forms we've tried changing tense, number and person have been correctly lemmatized into \"haver de\" or tenir que\".\\\n",
    "Since we can use this lemmatization we will reuse the \"Lemmas\" column in our dataframe."
   ]
  },
  {
   "cell_type": "code",
   "execution_count": 187,
   "id": "7a684dda-6d69-4970-a392-f9531218a400",
   "metadata": {},
   "outputs": [],
   "source": [
    "from nltk.util import bigrams\n",
    "\n",
    "def periphrase_counter(unigram_list, target_bigram):\n",
    "    '''\n",
    "    takes in:\n",
    "    (1) unigram list (our lemmas list)\n",
    "    (2) target bigram in tuple format\n",
    "    returns the count of that tuple in the bigram list\n",
    "    '''\n",
    "    bigram_list = list(bigrams(unigram_list))\n",
    "    return bigram_list.count(target_bigram)\n",
    "\n",
    "# mini trial-run of the function has been commented out\n",
    "#mini_lemmas = [\"haver\", \"de\", \"c\", \"d\", \"e\"]\n",
    "#print(periphrase_counter(mini_lemmas, (\"haver\", \"de\")))"
   ]
  },
  {
   "cell_type": "code",
   "execution_count": 188,
   "id": "d970be8d-06c3-4eb2-ac9c-a49ad29e7826",
   "metadata": {},
   "outputs": [],
   "source": [
    "lemma_df[\"HaverDe_count\"] = lemma_df[\"Lemmas\"].apply(lambda x: periphrase_counter(x, (\"haver\", \"de\")))\n",
    "lemma_df[\"TenirQue_count\"] = lemma_df[\"Lemmas\"].apply(lambda x: periphrase_counter(x, (\"tenir\", \"que\")))"
   ]
  },
  {
   "cell_type": "code",
   "execution_count": 189,
   "id": "51820830-68be-4118-a54c-6d311b606c97",
   "metadata": {},
   "outputs": [
    {
     "data": {
      "text/html": [
       "<div>\n",
       "<style scoped>\n",
       "    .dataframe tbody tr th:only-of-type {\n",
       "        vertical-align: middle;\n",
       "    }\n",
       "\n",
       "    .dataframe tbody tr th {\n",
       "        vertical-align: top;\n",
       "    }\n",
       "\n",
       "    .dataframe thead th {\n",
       "        text-align: right;\n",
       "    }\n",
       "</style>\n",
       "<table border=\"1\" class=\"dataframe\">\n",
       "  <thead>\n",
       "    <tr style=\"text-align: right;\">\n",
       "      <th></th>\n",
       "      <th>Year</th>\n",
       "      <th>Line_id</th>\n",
       "      <th>Text</th>\n",
       "      <th>Text_len</th>\n",
       "      <th>toks</th>\n",
       "      <th>Len_toks</th>\n",
       "      <th>toks_low</th>\n",
       "      <th>hi</th>\n",
       "      <th>-hi</th>\n",
       "      <th>hi_count</th>\n",
       "      <th>...</th>\n",
       "      <th>Lemmas</th>\n",
       "      <th>Anar_count</th>\n",
       "      <th>Venir_count</th>\n",
       "      <th>Anar_percent</th>\n",
       "      <th>Venir_percent</th>\n",
       "      <th>PstPerif</th>\n",
       "      <th>Pstp_count</th>\n",
       "      <th>Pstp_percent</th>\n",
       "      <th>HaverDe_count</th>\n",
       "      <th>TenirQue_count</th>\n",
       "    </tr>\n",
       "  </thead>\n",
       "  <tbody>\n",
       "    <tr>\n",
       "      <th>0</th>\n",
       "      <td>1926</td>\n",
       "      <td>Discurs llegit per... donar a conèxer la perso...</td>\n",
       "      <td>L'home que per amor al estudi, impulsat per un...</td>\n",
       "      <td>37497</td>\n",
       "      <td>[L', home, que, per, amor, al, estudi, ,, impu...</td>\n",
       "      <td>7267</td>\n",
       "      <td>[l', home, que, per, amor, al, estudi, ,, impu...</td>\n",
       "      <td>{(n', hi, hagi)}</td>\n",
       "      <td>{}</td>\n",
       "      <td>1</td>\n",
       "      <td>...</td>\n",
       "      <td>[el, home, que, per, amor, a, el, estudi, ,, i...</td>\n",
       "      <td>61</td>\n",
       "      <td>2</td>\n",
       "      <td>0.839411</td>\n",
       "      <td>0.027522</td>\n",
       "      <td>[va dedicar, va erigir, va fer, va interrogar,...</td>\n",
       "      <td>35</td>\n",
       "      <td>0.481629</td>\n",
       "      <td>15</td>\n",
       "      <td>0</td>\n",
       "    </tr>\n",
       "    <tr>\n",
       "      <th>1</th>\n",
       "      <td>1920</td>\n",
       "      <td>Parlament llegit en la festa inaugural de l'Or...</td>\n",
       "      <td>Cantaires de la Garriga, Senyores i senyors:\\n...</td>\n",
       "      <td>9253</td>\n",
       "      <td>[Cantaires, de, la, Garriga, ,, Senyores, i, s...</td>\n",
       "      <td>1865</td>\n",
       "      <td>[cantaires, de, la, garriga, ,, senyores, i, s...</td>\n",
       "      <td>{(m', hi, vaig)}</td>\n",
       "      <td>{}</td>\n",
       "      <td>1</td>\n",
       "      <td>...</td>\n",
       "      <td>[Cantaires, de, el, Garriga, ,, Senyores, i, s...</td>\n",
       "      <td>8</td>\n",
       "      <td>0</td>\n",
       "      <td>0.428954</td>\n",
       "      <td>0.000000</td>\n",
       "      <td>[vaig ésser, vaig començar, vaig trobar, vàrem...</td>\n",
       "      <td>4</td>\n",
       "      <td>0.214477</td>\n",
       "      <td>1</td>\n",
       "      <td>0</td>\n",
       "    </tr>\n",
       "  </tbody>\n",
       "</table>\n",
       "<p>2 rows × 21 columns</p>\n",
       "</div>"
      ],
      "text/plain": [
       "   Year                                            Line_id  \\\n",
       "0  1926  Discurs llegit per... donar a conèxer la perso...   \n",
       "1  1920  Parlament llegit en la festa inaugural de l'Or...   \n",
       "\n",
       "                                                Text  Text_len  \\\n",
       "0  L'home que per amor al estudi, impulsat per un...     37497   \n",
       "1  Cantaires de la Garriga, Senyores i senyors:\\n...      9253   \n",
       "\n",
       "                                                toks  Len_toks  \\\n",
       "0  [L', home, que, per, amor, al, estudi, ,, impu...      7267   \n",
       "1  [Cantaires, de, la, Garriga, ,, Senyores, i, s...      1865   \n",
       "\n",
       "                                            toks_low                hi -hi  \\\n",
       "0  [l', home, que, per, amor, al, estudi, ,, impu...  {(n', hi, hagi)}  {}   \n",
       "1  [cantaires, de, la, garriga, ,, senyores, i, s...  {(m', hi, vaig)}  {}   \n",
       "\n",
       "   hi_count  ...                                             Lemmas  \\\n",
       "0         1  ...  [el, home, que, per, amor, a, el, estudi, ,, i...   \n",
       "1         1  ...  [Cantaires, de, el, Garriga, ,, Senyores, i, s...   \n",
       "\n",
       "  Anar_count  Venir_count  Anar_percent  Venir_percent  \\\n",
       "0         61            2      0.839411       0.027522   \n",
       "1          8            0      0.428954       0.000000   \n",
       "\n",
       "                                            PstPerif Pstp_count  Pstp_percent  \\\n",
       "0  [va dedicar, va erigir, va fer, va interrogar,...         35      0.481629   \n",
       "1  [vaig ésser, vaig començar, vaig trobar, vàrem...          4      0.214477   \n",
       "\n",
       "   HaverDe_count  TenirQue_count  \n",
       "0             15               0  \n",
       "1              1               0  \n",
       "\n",
       "[2 rows x 21 columns]"
      ]
     },
     "execution_count": 189,
     "metadata": {},
     "output_type": "execute_result"
    }
   ],
   "source": [
    "lemma_df.head(2)"
   ]
  },
  {
   "cell_type": "code",
   "execution_count": 190,
   "id": "e7115a9f-e188-4b09-960b-e18babc181c8",
   "metadata": {},
   "outputs": [],
   "source": [
    "periphrases_df = proportion_comparison_df(lemma_df, \"HaverDe\", \"TenirQue\")"
   ]
  },
  {
   "cell_type": "code",
   "execution_count": 191,
   "id": "bc7cf18b-1206-40b0-9840-6500ded27ba2",
   "metadata": {},
   "outputs": [],
   "source": [
    "# columns for percentages for the 2nd part of the analysis\n",
    "lemma_df[\"HaverDe_percent\"] = lemma_df.apply(lambda x: proportion(x, \"HaverDe_count\"), axis=1)\n",
    "lemma_df[\"TenirQue_percent\"] = lemma_df.apply(lambda x: proportion(x, \"TenirQue_count\"), axis=1)"
   ]
  },
  {
   "cell_type": "code",
   "execution_count": 192,
   "id": "a9d3c5a1-075f-476e-9c4e-e37bd7adf9da",
   "metadata": {},
   "outputs": [
    {
     "data": {
      "text/html": [
       "<div>\n",
       "<style scoped>\n",
       "    .dataframe tbody tr th:only-of-type {\n",
       "        vertical-align: middle;\n",
       "    }\n",
       "\n",
       "    .dataframe tbody tr th {\n",
       "        vertical-align: top;\n",
       "    }\n",
       "\n",
       "    .dataframe thead th {\n",
       "        text-align: right;\n",
       "    }\n",
       "</style>\n",
       "<table border=\"1\" class=\"dataframe\">\n",
       "  <thead>\n",
       "    <tr style=\"text-align: right;\">\n",
       "      <th></th>\n",
       "      <th>Year</th>\n",
       "      <th>HaverDe_percent</th>\n",
       "      <th>TenirQue_percent</th>\n",
       "    </tr>\n",
       "  </thead>\n",
       "  <tbody>\n",
       "    <tr>\n",
       "      <th>0</th>\n",
       "      <td>1860</td>\n",
       "      <td>0.260688</td>\n",
       "      <td>0.0</td>\n",
       "    </tr>\n",
       "    <tr>\n",
       "      <th>1</th>\n",
       "      <td>1868</td>\n",
       "      <td>0.080278</td>\n",
       "      <td>0.0</td>\n",
       "    </tr>\n",
       "  </tbody>\n",
       "</table>\n",
       "</div>"
      ],
      "text/plain": [
       "   Year  HaverDe_percent  TenirQue_percent\n",
       "0  1860         0.260688               0.0\n",
       "1  1868         0.080278               0.0"
      ]
     },
     "execution_count": 192,
     "metadata": {},
     "output_type": "execute_result"
    }
   ],
   "source": [
    "# checking the resulting mini dataframe first 2 years\n",
    "periphrases_df.head(2)"
   ]
  },
  {
   "cell_type": "code",
   "execution_count": 193,
   "id": "9d8183a9-6e54-4f53-864d-49a85e51f455",
   "metadata": {},
   "outputs": [
    {
     "data": {
      "image/png": "[encoded data removed]",
      "text/plain": [
       "<Figure size 800x1600 with 1 Axes>"
      ]
     },
     "metadata": {},
     "output_type": "display_data"
    }
   ],
   "source": [
    "# plotting haver de vs tenir que per year\n",
    "ax = periphrases_df.plot.barh(\n",
    "    y=[\"HaverDe_percent\", \"TenirQue_percent\"],\n",
    "    x=\"Year\",\n",
    "    figsize=(8, 16),  \n",
    "    width=0.8,\n",
    "    color = [\"purple\", \"green\"]\n",
    ")\n",
    "\n",
    "# adding value annotations\n",
    "for p in ax.patches:\n",
    "    w = p.get_width()\n",
    "    if w > 0:\n",
    "        ax.annotate(f\"{w:.2f}\", \n",
    "                    (w, p.get_y() + p.get_height() / 2),\n",
    "                    va=\"center\", ha=\"left\", fontsize=8)\n",
    "\n",
    "ax.set_title(\"'Haver de' vs 'Tenir que' (1860–2022)\", fontsize=12)\n",
    "ax.set_xlabel(\"Percentage\")\n",
    "ax.set_ylabel(\"Year\")\n",
    "ax.invert_yaxis()  # from olderst to most recent\n",
    "plt.tight_layout()\n",
    "plt.show()"
   ]
  },
  {
   "cell_type": "code",
   "execution_count": 194,
   "id": "c2e15fe2-c31d-4aaf-a15e-ab62c8b6f86d",
   "metadata": {},
   "outputs": [
    {
     "name": "stdout",
     "output_type": "stream",
     "text": [
      "Passat Perifràstic% - rho: -0.0406, p-value: 0.0000\n"
     ]
    }
   ],
   "source": [
    "# correlation year-hi_percentages\n",
    "rho_pstp, p_pstp = spearmanr(lemma_df[\"Year\"], lemma_df[\"Pstp_percent\"])\n",
    "print(f\"Passat Perifràstic% - rho: {rho_pstp:.4f}, p-value: {p_pstp:.4f}\")"
   ]
  },
  {
   "cell_type": "markdown",
   "id": "c0d11179-0b3d-458d-8dbd-fc43f8e67599",
   "metadata": {},
   "source": [
    "### 3.2 Pronominalization of movement verbs"
   ]
  },
  {
   "cell_type": "markdown",
   "id": "850a22e7-428c-4905-afcb-8cc981ba5ea5",
   "metadata": {},
   "source": [
    "**Grammatical background:**\\\n",
    "Pronominal verbs are verbs that require a reflexive pronoun.\\\n",
    "For example, for the English \"I get dressed\", in Catalan, we would say \"**Em** vesteixo,\" which would be more literally \"I get dressed **myself**\".\\\n",
    "In Catalan, we have many pronominal verbs, as does Spanish.\\\n",
    "However, we are pronominalizing verbs that used to be non-pronominal because of the Spanish influence, specifically movement verbs, notes Dr. Junyent. In her examples, we find \"puja't a la bicicleta\" instead of \"puja a la bicicleta,\" which would be \"get yourself up on the bicycle\" instead of \"get up on the bicycle.\""
   ]
  },
  {
   "cell_type": "markdown",
   "id": "45a791ac-95e7-4c76-965f-1ed7d873596f",
   "metadata": {},
   "source": [
    "To find pronominalizations, we will need to bring in another layer of language processing for our dataframe.\\\n",
    "That is because pronominalizations are very \"irregular\" in form and position, as they are clitics in Catalan."
   ]
  },
  {
   "cell_type": "markdown",
   "id": "26a61a6b-ebdf-4bdc-a824-fa24593d6e5a",
   "metadata": {},
   "source": [
    "First, we can narrow down to looking for \"Personal Pronouns\", as we are dealing with verb pronominalizations.\\\n",
    "In Catalan there are 2 types of Personal Pronouns that refer to a person or entity: Pronoms Personals Forts, that stand by themselves, and Pronoms Personals Febles, which are clitic pronouns that can work both as preclitic (preciding the verb) and enclitic (following the verb.) The later are the ones used for reflexive verbs/ verb pronominalization.\n",
    "For example, for the second grammatical person we find the following forms:\n",
    "Sin\n",
    "|  | Before verb (consonant initial)| Before verb (vowel initial)| After Verb (consonant ending) | After Verb (vowel ending) |\n",
    "| ---- | ---- | ---- | ---- | ---- |\n",
    "2nd Person Sing | et | t' | -te | 't |\n",
    "2nd Person Plur | us | us | -vos | -us |\n",
    "\n",
    "Moreover, we can also note from this example that in some cases in the ortography we separate the clitic by a space, in others only with an apostrophe, and sometimes with a dash.\\\n",
    "On top of that, another challenge is that stanza treats this differently for tokenization. We saw on previous explorations that proclitics are treated as separate tokens, while enclitics are tokenized along with the word they are attached to. "
   ]
  },
  {
   "cell_type": "markdown",
   "id": "0605c389-54db-4574-9cc1-a17c61971c3c",
   "metadata": {},
   "source": [
    "Using Stanza's dependency parsing was my first thought. However, as we see in the next example it didn't result as expected."
   ]
  },
  {
   "cell_type": "code",
   "execution_count": 195,
   "id": "541661a2-6ca5-4675-80fe-1b616d149435",
   "metadata": {},
   "outputs": [
    {
     "name": "stderr",
     "output_type": "stream",
     "text": [
      "2025-04-23 12:33:27 INFO: Checking for updates to resources.json in case models have been updated.  Note: this behavior can be turned off with download_method=None or download_method=DownloadMethod.REUSE_RESOURCES\n"
     ]
    },
    {
     "data": {
      "application/vnd.jupyter.widget-view+json": {
       "model_id": "ea5d9632f3564d309dbb754602cef2d9",
       "version_major": 2,
       "version_minor": 0
      },
      "text/plain": [
       "Downloading https://raw.githubusercontent.com/stanfordnlp/stanza-resources/main/resources_1.10.0.json:   0%|  …"
      ]
     },
     "metadata": {},
     "output_type": "display_data"
    },
    {
     "name": "stderr",
     "output_type": "stream",
     "text": [
      "2025-04-23 12:33:28 INFO: Downloaded file to /Users/janabruses/stanza_resources/resources.json\n",
      "2025-04-23 12:33:28 INFO: Loading these models for language: ca (Catalan):\n",
      "===============================\n",
      "| Processor | Package         |\n",
      "-------------------------------\n",
      "| tokenize  | ancora          |\n",
      "| mwt       | ancora          |\n",
      "| pos       | ancora_nocharlm |\n",
      "| lemma     | ancora_nocharlm |\n",
      "| depparse  | ancora_nocharlm |\n",
      "===============================\n",
      "\n",
      "2025-04-23 12:33:28 INFO: Using device: cpu\n",
      "2025-04-23 12:33:28 INFO: Loading: tokenize\n",
      "2025-04-23 12:33:28 INFO: Loading: mwt\n",
      "2025-04-23 12:33:28 INFO: Loading: pos\n",
      "2025-04-23 12:33:30 INFO: Loading: lemma\n",
      "2025-04-23 12:33:31 INFO: Loading: depparse\n",
      "2025-04-23 12:33:31 INFO: Done loading processors!\n"
     ]
    }
   ],
   "source": [
    "import stanza\n",
    "\n",
    "nlp = stanza.Pipeline(lang='ca', processors='tokenize,mwt,pos,lemma,depparse')"
   ]
  },
  {
   "cell_type": "code",
   "execution_count": 196,
   "id": "56de0227-3730-4a0f-a3c5-379cc277e48b",
   "metadata": {},
   "outputs": [
    {
     "name": "stdout",
     "output_type": "stream",
     "text": [
      "Example 1:\n",
      "id: 1\tword: Estima't\thead id: 0\thead: root\tdeprel: root\n",
      "id: 2\tword: molt\thead id: 1\thead: Estima't\tdeprel: advmod\n"
     ]
    }
   ],
   "source": [
    "print(\"Example 1:\")\n",
    "doc = nlp(\"Estima't molt\")\n",
    "print(*[f'id: {word.id}\\tword: {word.text}\\thead id: {word.head}\\thead: {sent.words[word.head-1].text if word.head > 0 else \"root\"}\\tdeprel: {word.deprel}' for sent in doc.sentences for word in sent.words], sep='\\n')"
   ]
  },
  {
   "cell_type": "code",
   "execution_count": 197,
   "id": "8b3b5f51-a339-44a6-917a-be188da0089a",
   "metadata": {},
   "outputs": [
    {
     "name": "stdout",
     "output_type": "stream",
     "text": [
      "Example 2:\n",
      "id: 1\tword: T'\thead id: 2\thead: estimo\tdeprel: obj\n",
      "id: 2\tword: estimo\thead id: 0\thead: root\tdeprel: root\n",
      "id: 3\tword: molt\thead id: 2\thead: estimo\tdeprel: advmod\n"
     ]
    }
   ],
   "source": [
    "print(\"Example 2:\")\n",
    "doc1 = nlp(\"T'estimo molt\")\n",
    "print(*[f'id: {word.id}\\tword: {word.text}\\thead id: {word.head}\\thead: {sent.words[word.head-1].text if word.head > 0 else \"root\"}\\tdeprel: {word.deprel}' for sent in doc1.sentences for word in sent.words], sep='\\n')"
   ]
  },
  {
   "cell_type": "markdown",
   "id": "8512f7ed-1416-4f94-b7fa-bc1372d65072",
   "metadata": {},
   "source": [
    "**Comment:**\\\n",
    "We see that even though we have the unstressed pronoun \"t'\" in both situations. The proclitic (example 2), is corretly tagged as the object, of the verb \"espera\" as head. However, when the \"t\" is an enclitic in \"espera't\", as it is tokenized along the verb, the clitic and pronominalization goes is missing.\\\n",
    "The issue is that, since the lost information comes from the tokenization, no Stanza parsing model will be able to overcome this gap.\\\n",
    "Consequently, we need to bring in a new approach."
   ]
  },
  {
   "cell_type": "code",
   "execution_count": 198,
   "id": "06077641-8250-4a74-b9de-52d69593d458",
   "metadata": {},
   "outputs": [
    {
     "name": "stderr",
     "output_type": "stream",
     "text": [
      "2025-04-23 12:33:31 INFO: Checking for updates to resources.json in case models have been updated.  Note: this behavior can be turned off with download_method=None or download_method=DownloadMethod.REUSE_RESOURCES\n"
     ]
    },
    {
     "data": {
      "application/vnd.jupyter.widget-view+json": {
       "model_id": "53cfc7580b9e4f869c8449df14b74f07",
       "version_major": 2,
       "version_minor": 0
      },
      "text/plain": [
       "Downloading https://raw.githubusercontent.com/stanfordnlp/stanza-resources/main/resources_1.10.0.json:   0%|  …"
      ]
     },
     "metadata": {},
     "output_type": "display_data"
    },
    {
     "name": "stderr",
     "output_type": "stream",
     "text": [
      "2025-04-23 12:33:31 INFO: Downloaded file to /Users/janabruses/stanza_resources/resources.json\n",
      "2025-04-23 12:33:32 INFO: Loading these models for language: ca (Catalan):\n",
      "===============================\n",
      "| Processor | Package         |\n",
      "-------------------------------\n",
      "| tokenize  | ancora          |\n",
      "| mwt       | ancora          |\n",
      "| pos       | ancora_nocharlm |\n",
      "===============================\n",
      "\n",
      "2025-04-23 12:33:32 INFO: Using device: cpu\n",
      "2025-04-23 12:33:32 INFO: Loading: tokenize\n",
      "2025-04-23 12:33:32 INFO: Loading: mwt\n",
      "2025-04-23 12:33:32 INFO: Loading: pos\n",
      "2025-04-23 12:33:33 INFO: Done loading processors!\n"
     ]
    }
   ],
   "source": [
    "# trying out POS\n",
    "nlp = stanza.Pipeline(lang='ca', processors='tokenize,mwt,pos')"
   ]
  },
  {
   "cell_type": "code",
   "execution_count": 199,
   "id": "ce114ef0-223e-4540-86e9-294fb6974f12",
   "metadata": {},
   "outputs": [
    {
     "name": "stdout",
     "output_type": "stream",
     "text": [
      "Example 1:\n",
      "word: T'\tupos: PRON\txpos: pp1cs000\tfeats: Case=Acc,Dat|Number=Sing|Person=2|PrepCase=Npr|PronType=Prs\n",
      "word: estimo\tupos: VERB\txpos: vmip1s0\tfeats: Mood=Ind|Number=Sing|Person=1|Tense=Pres|VerbForm=Fin\n",
      "word: molt\tupos: ADV\txpos: rg\tfeats: _\n"
     ]
    }
   ],
   "source": [
    "print(\"Example 1:\")\n",
    "doc = nlp(\"T'estimo molt\")\n",
    "print(*[f'word: {word.text}\\tupos: {word.upos}\\txpos: {word.xpos}\\tfeats: {word.feats if word.feats else \"_\"}' for sent in doc.sentences for word in sent.words], sep='\\n')"
   ]
  },
  {
   "cell_type": "code",
   "execution_count": 200,
   "id": "9d5ac8bc-626c-4b40-beb1-22209031a170",
   "metadata": {},
   "outputs": [
    {
     "name": "stdout",
     "output_type": "stream",
     "text": [
      "Example 2:\n",
      "word: diu\tupos: VERB\txpos: vmip3s0\tfeats: Mood=Ind|Number=Sing|Person=3|Tense=Pres|VerbForm=Fin\n",
      "word: puja't\tupos: VERB\txpos: vmg0000\tfeats: VerbForm=Ger\n",
      "word: a\tupos: ADP\txpos: sps00\tfeats: _\n",
      "word: la\tupos: DET\txpos: da0fs0\tfeats: Definite=Def|Gender=Fem|Number=Sing|PronType=Art\n",
      "word: bicicleta\tupos: NOUN\txpos: ncfs000\tfeats: Gender=Fem|Number=Sing\n"
     ]
    }
   ],
   "source": [
    "print(\"Example 2:\")\n",
    "doc1 = nlp(\"diu puja't a la bicicleta\")\n",
    "print(*[f'word: {word.text}\\tupos: {word.upos}\\txpos: {word.xpos}\\tfeats: {word.feats if word.feats else \"_\"}' for sent in doc1.sentences for word in sent.words], sep='\\n')"
   ]
  },
  {
   "cell_type": "markdown",
   "id": "48d327a8-4b93-49a0-9956-4da31ad7be15",
   "metadata": {},
   "source": [
    "**Comment:**\n",
    "With the POS tag we can even see that it does give us the information that \"Estima't\" is the full PROPN and not simply a verb, so the information is in fact not lost.\\\n",
    "The issue is still, the multiple situations we encounter, we will need to come up with a method that covers booth possibilities."
   ]
  },
  {
   "cell_type": "markdown",
   "id": "1152a797-0bc4-4e80-aff6-ed05c6452225",
   "metadata": {},
   "source": [
    "Let's see if the POS tag feats acrtually gives us some information about the pronoun being stressed or unstressed that allows us to determine that is in fact pronominalizing the verb and not a subject pronoun like \"You\" in Catalan \"Tu.\""
   ]
  },
  {
   "cell_type": "code",
   "execution_count": 201,
   "id": "9e89cce9-2634-4402-a64e-965ad43ed8e2",
   "metadata": {},
   "outputs": [
    {
     "name": "stdout",
     "output_type": "stream",
     "text": [
      "Example 3:\n",
      "word: Tu\tupos: PRON\txpos: pp1cs000\tfeats: Case=Acc,Dat|Number=Sing|Person=2|PrepCase=Npr|PronType=Prs\n",
      "word: menges\tupos: VERB\txpos: vmip3p0\tfeats: Mood=Ind|Number=Plur|Person=3|Tense=Pres|VerbForm=Fin\n",
      "word: xocolata\tupos: NOUN\txpos: ncfs000\tfeats: Gender=Fem|Number=Sing\n"
     ]
    }
   ],
   "source": [
    "print(\"Example 3:\")\n",
    "doc2 = nlp(\"Tu menges xocolata\")\n",
    "print(*[f'word: {word.text}\\tupos: {word.upos}\\txpos: {word.xpos}\\tfeats: {word.feats if word.feats else \"_\"}' for sent in doc2.sentences for word in sent.words], sep='\\n')"
   ]
  },
  {
   "cell_type": "markdown",
   "id": "a3ce7503-cf7c-46e5-bcf7-fdcc3c339404",
   "metadata": {},
   "source": [
    "\"Tu\" and \"T'\" are tagged exacly the same, so it won't help us."
   ]
  },
  {
   "cell_type": "markdown",
   "id": "2d1d08c9-9c0d-494a-ade2-dfa86fd65b06",
   "metadata": {},
   "source": [
    "We do not include the following since they are the \"pronoms neutres\" that we analyzed previously, not present in Spanish, which is not what we are looking for in this section:\\\n",
    "ho, -ho\\\n",
    "en, n', -ne, 'n\\\n",
    "hi, -hi"
   ]
  },
  {
   "cell_type": "code",
   "execution_count": 202,
   "id": "24e69fd6-7bba-40dd-a2b5-7908390a60b2",
   "metadata": {},
   "outputs": [
    {
     "name": "stdout",
     "output_type": "stream",
     "text": [
      "POS:\n",
      "[('se', 'PRON'), ('les', 'PRON'), ('vol', 'VERB'), ('menjar', 'VERB'), ('totes', 'PRON'), ('perque', 'SCONJ'), ('li', 'PRON'), ('agraden', 'VERB'), ('molt', 'ADV')]\n"
     ]
    }
   ],
   "source": [
    "# this is basically what the following code will be doing at the larger scale on Pitt CRC\n",
    "pron_doc = nlp(\"se les vol menjar totes perque li agraden molt\")\n",
    "print(\"POS:\")\n",
    "print([(word.text, word.upos) for\n",
    "        sent in nlp(pron_doc).sentences\n",
    "        for word in sent.words])"
   ]
  },
  {
   "cell_type": "code",
   "execution_count": 203,
   "id": "f5ce31d5-257f-4126-9ace-391fb2fd2f35",
   "metadata": {},
   "outputs": [],
   "source": [
    "python_script= '''\n",
    "import pandas as pd\n",
    "import stanza\n",
    "\n",
    "low_analysis_df = pd.read_pickle(\"LowAnalysisDF.pkl\")\n",
    "nlp = stanza.Pipeline(lang='ca', processors='tokenize,mwt,pos,lemma')\n",
    "pronoms_mini_doc = nlp(\"se les vol menjar totes perque li agraden molt\")\n",
    "print(\"word-POS tupples:\")\n",
    "print([(word.text, word.upos) for\n",
    "        sent in nlp(doc).sentences\n",
    "        for word in sent.words]))\n",
    "print()\n",
    "\n",
    "low_analysis_df[\"POS\"] = low_analysis_df[\"Text\"].apply(lambda doc:\n",
    "                                                        [(word.text, word.upos) for\n",
    "                                                        sent in nlp(doc).sentences\n",
    "                                                        for word in sent.words])\n",
    "low_analysis_df.to_pickle(\"POS.pkl\")\n",
    "'''"
   ]
  },
  {
   "cell_type": "code",
   "execution_count": 204,
   "id": "675b3608-b252-45f3-86da-4ef69ac123fa",
   "metadata": {},
   "outputs": [],
   "source": [
    "slurm_file = '''\n",
    "#!/usr/bin/env bash\n",
    "\n",
    "#SBATCH --job-name=proj_postag\n",
    "#SBATCH --output=pos_tag.out\n",
    "#SBATCH --nodes=1\n",
    "#SBATCH --ntasks=3\n",
    "#SBATCH --partition=smp\n",
    "#SBATCH --cluster=smp\n",
    "#SBATCH --mem-per-cpu=16000\n",
    "#SBATCH --time=180\n",
    "\n",
    "module load python/ondemand-jupyter-python3.11\n",
    "python pos_script.py\n",
    "'''"
   ]
  },
  {
   "cell_type": "code",
   "execution_count": 205,
   "id": "0110b67a-3348-4030-8105-57025e16a2d5",
   "metadata": {},
   "outputs": [],
   "source": [
    "# reading in the dataframe with (word-POS) column\n",
    "pos_df = pd.read_pickle(\"POS.pkl\")"
   ]
  },
  {
   "cell_type": "code",
   "execution_count": 206,
   "id": "6809533e-3162-48c6-89ba-37b6e9deadb2",
   "metadata": {},
   "outputs": [],
   "source": [
    "pos_df = pos_df.drop_duplicates(subset=\"Text\", keep=\"first\")"
   ]
  },
  {
   "cell_type": "code",
   "execution_count": 207,
   "id": "8c33f6d4-9e3d-4efb-9463-76d58e609ac4",
   "metadata": {},
   "outputs": [],
   "source": [
    "# keeping only the POS and the id so we can include the POS tupple lists in our current dataframe (with all previous analysis columns)\n",
    "pos_only = pos_df[[\"Line_id\",\"POS\"]]"
   ]
  },
  {
   "cell_type": "code",
   "execution_count": 208,
   "id": "21dd93cb-5b4b-4577-b17f-26bcb90a4ca2",
   "metadata": {},
   "outputs": [],
   "source": [
    "# merging the POS tags with the lemma_df for the current dataframe\n",
    "current_df = lemma_df.merge(pos_only, on=\"Line_id\")"
   ]
  },
  {
   "cell_type": "code",
   "execution_count": 209,
   "id": "8dc78495-f97a-424b-b7a2-4043b0b08f0d",
   "metadata": {},
   "outputs": [
    {
     "data": {
      "text/html": [
       "<div>\n",
       "<style scoped>\n",
       "    .dataframe tbody tr th:only-of-type {\n",
       "        vertical-align: middle;\n",
       "    }\n",
       "\n",
       "    .dataframe tbody tr th {\n",
       "        vertical-align: top;\n",
       "    }\n",
       "\n",
       "    .dataframe thead th {\n",
       "        text-align: right;\n",
       "    }\n",
       "</style>\n",
       "<table border=\"1\" class=\"dataframe\">\n",
       "  <thead>\n",
       "    <tr style=\"text-align: right;\">\n",
       "      <th></th>\n",
       "      <th>Year</th>\n",
       "      <th>Line_id</th>\n",
       "      <th>Text</th>\n",
       "      <th>Text_len</th>\n",
       "      <th>toks</th>\n",
       "      <th>Len_toks</th>\n",
       "      <th>toks_low</th>\n",
       "      <th>hi</th>\n",
       "      <th>-hi</th>\n",
       "      <th>hi_count</th>\n",
       "      <th>...</th>\n",
       "      <th>Anar_percent</th>\n",
       "      <th>Venir_percent</th>\n",
       "      <th>PstPerif</th>\n",
       "      <th>Pstp_count</th>\n",
       "      <th>Pstp_percent</th>\n",
       "      <th>HaverDe_count</th>\n",
       "      <th>TenirQue_count</th>\n",
       "      <th>HaverDe_percent</th>\n",
       "      <th>TenirQue_percent</th>\n",
       "      <th>POS</th>\n",
       "    </tr>\n",
       "  </thead>\n",
       "  <tbody>\n",
       "    <tr>\n",
       "      <th>12093634</th>\n",
       "      <td>1986</td>\n",
       "      <td>Veu B00:01:33</td>\n",
       "      <td>Y los dos coches que pasaban en aquel momento....</td>\n",
       "      <td>193</td>\n",
       "      <td>[Y, los, dos, coches, que, pasaban, en, aquel,...</td>\n",
       "      <td>50</td>\n",
       "      <td>[y, los, dos, coches, que, pasaban, en, aquel,...</td>\n",
       "      <td>{(punta, hi, ha)}</td>\n",
       "      <td>{}</td>\n",
       "      <td>1</td>\n",
       "      <td>...</td>\n",
       "      <td>2.0</td>\n",
       "      <td>0.0</td>\n",
       "      <td>[]</td>\n",
       "      <td>0</td>\n",
       "      <td>0.0</td>\n",
       "      <td>0</td>\n",
       "      <td>0</td>\n",
       "      <td>0.0</td>\n",
       "      <td>0.0</td>\n",
       "      <td>[(Pel, ADP), (geòleg, NOUN), (., PUNCT)]</td>\n",
       "    </tr>\n",
       "    <tr>\n",
       "      <th>12093635</th>\n",
       "      <td>1986</td>\n",
       "      <td>Veu B00:01:33</td>\n",
       "      <td>Y los dos coches que pasaban en aquel momento....</td>\n",
       "      <td>193</td>\n",
       "      <td>[Y, los, dos, coches, que, pasaban, en, aquel,...</td>\n",
       "      <td>50</td>\n",
       "      <td>[y, los, dos, coches, que, pasaban, en, aquel,...</td>\n",
       "      <td>{(punta, hi, ha)}</td>\n",
       "      <td>{}</td>\n",
       "      <td>1</td>\n",
       "      <td>...</td>\n",
       "      <td>2.0</td>\n",
       "      <td>0.0</td>\n",
       "      <td>[]</td>\n",
       "      <td>0</td>\n",
       "      <td>0.0</td>\n",
       "      <td>0</td>\n",
       "      <td>0</td>\n",
       "      <td>0.0</td>\n",
       "      <td>0.0</td>\n",
       "      <td>[(Y, CCONJ), (los, DET), (dos, NUM), (coches, ...</td>\n",
       "    </tr>\n",
       "  </tbody>\n",
       "</table>\n",
       "<p>2 rows × 24 columns</p>\n",
       "</div>"
      ],
      "text/plain": [
       "          Year        Line_id  \\\n",
       "12093634  1986  Veu B00:01:33   \n",
       "12093635  1986  Veu B00:01:33   \n",
       "\n",
       "                                                       Text  Text_len  \\\n",
       "12093634  Y los dos coches que pasaban en aquel momento....       193   \n",
       "12093635  Y los dos coches que pasaban en aquel momento....       193   \n",
       "\n",
       "                                                       toks  Len_toks  \\\n",
       "12093634  [Y, los, dos, coches, que, pasaban, en, aquel,...        50   \n",
       "12093635  [Y, los, dos, coches, que, pasaban, en, aquel,...        50   \n",
       "\n",
       "                                                   toks_low  \\\n",
       "12093634  [y, los, dos, coches, que, pasaban, en, aquel,...   \n",
       "12093635  [y, los, dos, coches, que, pasaban, en, aquel,...   \n",
       "\n",
       "                         hi -hi  hi_count  ...  Anar_percent Venir_percent  \\\n",
       "12093634  {(punta, hi, ha)}  {}         1  ...           2.0           0.0   \n",
       "12093635  {(punta, hi, ha)}  {}         1  ...           2.0           0.0   \n",
       "\n",
       "          PstPerif  Pstp_count  Pstp_percent  HaverDe_count TenirQue_count  \\\n",
       "12093634        []           0           0.0              0              0   \n",
       "12093635        []           0           0.0              0              0   \n",
       "\n",
       "          HaverDe_percent  TenirQue_percent  \\\n",
       "12093634              0.0               0.0   \n",
       "12093635              0.0               0.0   \n",
       "\n",
       "                                                        POS  \n",
       "12093634           [(Pel, ADP), (geòleg, NOUN), (., PUNCT)]  \n",
       "12093635  [(Y, CCONJ), (los, DET), (dos, NUM), (coches, ...  \n",
       "\n",
       "[2 rows x 24 columns]"
      ]
     },
     "execution_count": 209,
     "metadata": {},
     "output_type": "execute_result"
    }
   ],
   "source": [
    "current_df.tail(2)"
   ]
  },
  {
   "cell_type": "code",
   "execution_count": 210,
   "id": "77e1ec0c-a8f6-409a-afe5-adbba44bdb81",
   "metadata": {},
   "outputs": [],
   "source": [
    "def get_pronominalized(pos_list):\n",
    "    '''\n",
    "    takes in a text and returns a list of found pronominalized verbs in the text\n",
    "    '''\n",
    "    enclitics = re.compile(r\".*(?:-me|'m|’m|-nos|'ns|’ns|-te|'t|’t|-vos|-us|'ns|’ns|-se|'s|’s)\", re.IGNORECASE)\n",
    "    proclitics = re.compile(r\"\\b(?:em|m'|m’|ens|et|t'|t’|us|es|s'|s’)\", re.IGNORECASE)\n",
    "\n",
    "    reflexV_list = []\n",
    "    for i, (word, pos) in enumerate(pos_list):\n",
    "        if pos == \"VERB\":\n",
    "            # enclitic\n",
    "            if enclitics.match(word):\n",
    "                reflexV_list.append(word)\n",
    "\n",
    "            #proclitics\n",
    "            prev = i-1\n",
    "            proclitic = []\n",
    "            isReflexive = False\n",
    "            while prev >= 0:\n",
    "                prev_word, prev_pos = pos_list[prev]\n",
    "                if prev_pos == \"PRON\" and proclitics.match(prev_word):\n",
    "                    proclitic.insert(0, prev_word)\n",
    "                    prev -= 1\n",
    "                    isReflexive = True;\n",
    "                elif prev_pos == \"AUX\" or prev_pos == \"ADP\": \n",
    "                    proclitic.insert(0, prev_word)\n",
    "                    prev -= 1\n",
    "                else:\n",
    "                    break\n",
    "            \n",
    "            if proclitic and isReflexive:\n",
    "                proclitic.append(word)\n",
    "                reflexV_list.append(proclitic)\n",
    "    \n",
    "    return reflexV_list"
   ]
  },
  {
   "cell_type": "code",
   "execution_count": 211,
   "id": "f9c1898a-8135-4e60-ba66-998a8ca16185",
   "metadata": {},
   "outputs": [],
   "source": [
    "def count_verbs(pos_list):\n",
    "    '''\n",
    "    takes in a (word, pos) tupples list\n",
    "    returns the count of verbs in it\n",
    "    '''\n",
    "    VCount = 0\n",
    "    for (word, pos) in pos_list:\n",
    "        if pos == \"VERB\":\n",
    "            VCount += 1\n",
    "    return VCount"
   ]
  },
  {
   "cell_type": "code",
   "execution_count": 212,
   "id": "19cff98c-8d82-4535-b462-2b0b0402ae00",
   "metadata": {},
   "outputs": [
    {
     "data": {
      "text/plain": [
       "[['em', 'teniu'],\n",
       " ['es', 'fa'],\n",
       " [\"s'\", 'anima'],\n",
       " [\"s'\", 'aixeca'],\n",
       " [\"s'\", 'enlaira'],\n",
       " ['es', 'mesura'],\n",
       " ['us', 'fassi'],\n",
       " ['us', 'digui'],\n",
       " ['us', 'digui'],\n",
       " ['us', 'digui'],\n",
       " ['ens', 'sentíem'],\n",
       " [\"s'\", 'encomanà'],\n",
       " [\"S'\", 'anà', 'precisant'],\n",
       " ['es', 'malmeti'],\n",
       " [\"m'\", 'escolteu'],\n",
       " ['us', 'manqui']]"
      ]
     },
     "execution_count": 212,
     "metadata": {},
     "output_type": "execute_result"
    }
   ],
   "source": [
    "# example\n",
    "get_pronominalized(current_df.loc[1][\"POS\"])"
   ]
  },
  {
   "cell_type": "code",
   "execution_count": 213,
   "id": "b738510f-2691-4fb9-8a46-d81b92356887",
   "metadata": {},
   "outputs": [
    {
     "data": {
      "text/plain": [
       "151"
      ]
     },
     "execution_count": 213,
     "metadata": {},
     "output_type": "execute_result"
    }
   ],
   "source": [
    "# example\n",
    "count_verbs(current_df.loc[1][\"POS\"])"
   ]
  },
  {
   "cell_type": "code",
   "execution_count": 214,
   "id": "8cb72849-5968-4933-925a-cab71b1903af",
   "metadata": {},
   "outputs": [
    {
     "name": "stderr",
     "output_type": "stream",
     "text": [
      "100%|████████████████████████████| 12093636/12093636 [02:45<00:00, 73266.90it/s]\n"
     ]
    }
   ],
   "source": [
    "from tqdm import tqdm\n",
    "tqdm.pandas()  # activa el suport per apply\n",
    "\n",
    "# aplica la funció amb barra de progrés\n",
    "current_df[\"PronominalizedV\"] = current_df[\"POS\"].progress_apply(get_pronominalized)"
   ]
  },
  {
   "cell_type": "code",
   "execution_count": 215,
   "id": "4f67f311-35f2-4080-b648-9e7afab2fe0a",
   "metadata": {},
   "outputs": [],
   "source": [
    "current_df[\"PronV_count\"] = current_df[\"PronominalizedV\"].apply(lambda x: len(x))"
   ]
  },
  {
   "cell_type": "code",
   "execution_count": 216,
   "id": "7f32438b-4ff0-414e-9b24-b51545676cbe",
   "metadata": {},
   "outputs": [
    {
     "data": {
      "text/html": [
       "<div>\n",
       "<style scoped>\n",
       "    .dataframe tbody tr th:only-of-type {\n",
       "        vertical-align: middle;\n",
       "    }\n",
       "\n",
       "    .dataframe tbody tr th {\n",
       "        vertical-align: top;\n",
       "    }\n",
       "\n",
       "    .dataframe thead th {\n",
       "        text-align: right;\n",
       "    }\n",
       "</style>\n",
       "<table border=\"1\" class=\"dataframe\">\n",
       "  <thead>\n",
       "    <tr style=\"text-align: right;\">\n",
       "      <th></th>\n",
       "      <th>Year</th>\n",
       "      <th>Line_id</th>\n",
       "      <th>Text</th>\n",
       "      <th>Text_len</th>\n",
       "      <th>toks</th>\n",
       "      <th>Len_toks</th>\n",
       "      <th>toks_low</th>\n",
       "      <th>hi</th>\n",
       "      <th>-hi</th>\n",
       "      <th>hi_count</th>\n",
       "      <th>...</th>\n",
       "      <th>PstPerif</th>\n",
       "      <th>Pstp_count</th>\n",
       "      <th>Pstp_percent</th>\n",
       "      <th>HaverDe_count</th>\n",
       "      <th>TenirQue_count</th>\n",
       "      <th>HaverDe_percent</th>\n",
       "      <th>TenirQue_percent</th>\n",
       "      <th>POS</th>\n",
       "      <th>PronominalizedV</th>\n",
       "      <th>PronV_count</th>\n",
       "    </tr>\n",
       "  </thead>\n",
       "  <tbody>\n",
       "    <tr>\n",
       "      <th>0</th>\n",
       "      <td>1926</td>\n",
       "      <td>Discurs llegit per... donar a conèxer la perso...</td>\n",
       "      <td>L'home que per amor al estudi, impulsat per un...</td>\n",
       "      <td>37497</td>\n",
       "      <td>[L', home, que, per, amor, al, estudi, ,, impu...</td>\n",
       "      <td>7267</td>\n",
       "      <td>[l', home, que, per, amor, al, estudi, ,, impu...</td>\n",
       "      <td>{(n', hi, hagi)}</td>\n",
       "      <td>{}</td>\n",
       "      <td>1</td>\n",
       "      <td>...</td>\n",
       "      <td>[va dedicar, va erigir, va fer, va interrogar,...</td>\n",
       "      <td>35</td>\n",
       "      <td>0.481629</td>\n",
       "      <td>15</td>\n",
       "      <td>0</td>\n",
       "      <td>0.206413</td>\n",
       "      <td>0.0</td>\n",
       "      <td>[(L', DET), (home, NOUN), (que, PRON), (per, A...</td>\n",
       "      <td>[[s', estudía], [s', havien, adoptat], [s', ex...</td>\n",
       "      <td>31</td>\n",
       "    </tr>\n",
       "    <tr>\n",
       "      <th>1</th>\n",
       "      <td>1920</td>\n",
       "      <td>Parlament llegit en la festa inaugural de l'Or...</td>\n",
       "      <td>Cantaires de la Garriga, Senyores i senyors:\\n...</td>\n",
       "      <td>9253</td>\n",
       "      <td>[Cantaires, de, la, Garriga, ,, Senyores, i, s...</td>\n",
       "      <td>1865</td>\n",
       "      <td>[cantaires, de, la, garriga, ,, senyores, i, s...</td>\n",
       "      <td>{(m', hi, vaig)}</td>\n",
       "      <td>{}</td>\n",
       "      <td>1</td>\n",
       "      <td>...</td>\n",
       "      <td>[vaig ésser, vaig començar, vaig trobar, vàrem...</td>\n",
       "      <td>4</td>\n",
       "      <td>0.214477</td>\n",
       "      <td>1</td>\n",
       "      <td>0</td>\n",
       "      <td>0.053619</td>\n",
       "      <td>0.0</td>\n",
       "      <td>[(Cantaires, PROPN), (de, ADP), (la, DET), (Ga...</td>\n",
       "      <td>[[em, teniu], [es, fa], [s', anima], [s', aixe...</td>\n",
       "      <td>16</td>\n",
       "    </tr>\n",
       "  </tbody>\n",
       "</table>\n",
       "<p>2 rows × 26 columns</p>\n",
       "</div>"
      ],
      "text/plain": [
       "   Year                                            Line_id  \\\n",
       "0  1926  Discurs llegit per... donar a conèxer la perso...   \n",
       "1  1920  Parlament llegit en la festa inaugural de l'Or...   \n",
       "\n",
       "                                                Text  Text_len  \\\n",
       "0  L'home que per amor al estudi, impulsat per un...     37497   \n",
       "1  Cantaires de la Garriga, Senyores i senyors:\\n...      9253   \n",
       "\n",
       "                                                toks  Len_toks  \\\n",
       "0  [L', home, que, per, amor, al, estudi, ,, impu...      7267   \n",
       "1  [Cantaires, de, la, Garriga, ,, Senyores, i, s...      1865   \n",
       "\n",
       "                                            toks_low                hi -hi  \\\n",
       "0  [l', home, que, per, amor, al, estudi, ,, impu...  {(n', hi, hagi)}  {}   \n",
       "1  [cantaires, de, la, garriga, ,, senyores, i, s...  {(m', hi, vaig)}  {}   \n",
       "\n",
       "   hi_count  ...                                           PstPerif  \\\n",
       "0         1  ...  [va dedicar, va erigir, va fer, va interrogar,...   \n",
       "1         1  ...  [vaig ésser, vaig començar, vaig trobar, vàrem...   \n",
       "\n",
       "  Pstp_count  Pstp_percent  HaverDe_count  TenirQue_count  HaverDe_percent  \\\n",
       "0         35      0.481629             15               0         0.206413   \n",
       "1          4      0.214477              1               0         0.053619   \n",
       "\n",
       "  TenirQue_percent                                                POS  \\\n",
       "0              0.0  [(L', DET), (home, NOUN), (que, PRON), (per, A...   \n",
       "1              0.0  [(Cantaires, PROPN), (de, ADP), (la, DET), (Ga...   \n",
       "\n",
       "                                     PronominalizedV  PronV_count  \n",
       "0  [[s', estudía], [s', havien, adoptat], [s', ex...           31  \n",
       "1  [[em, teniu], [es, fa], [s', anima], [s', aixe...           16  \n",
       "\n",
       "[2 rows x 26 columns]"
      ]
     },
     "execution_count": 216,
     "metadata": {},
     "output_type": "execute_result"
    }
   ],
   "source": [
    "current_df.head(2)"
   ]
  },
  {
   "cell_type": "code",
   "execution_count": 217,
   "id": "8ef81f6f-c6fa-4fab-b8b2-82627c985722",
   "metadata": {},
   "outputs": [
    {
     "name": "stderr",
     "output_type": "stream",
     "text": [
      "100%|███████████████████████████| 12093636/12093636 [00:38<00:00, 313896.25it/s]\n"
     ]
    }
   ],
   "source": [
    "current_df[\"V_total\"] = current_df[\"POS\"].progress_apply(count_verbs)"
   ]
  },
  {
   "cell_type": "code",
   "execution_count": 218,
   "id": "115ad16d-604c-4811-b7cb-87d906769cd8",
   "metadata": {
    "scrolled": true
   },
   "outputs": [
    {
     "data": {
      "text/html": [
       "<div>\n",
       "<style scoped>\n",
       "    .dataframe tbody tr th:only-of-type {\n",
       "        vertical-align: middle;\n",
       "    }\n",
       "\n",
       "    .dataframe tbody tr th {\n",
       "        vertical-align: top;\n",
       "    }\n",
       "\n",
       "    .dataframe thead th {\n",
       "        text-align: right;\n",
       "    }\n",
       "</style>\n",
       "<table border=\"1\" class=\"dataframe\">\n",
       "  <thead>\n",
       "    <tr style=\"text-align: right;\">\n",
       "      <th></th>\n",
       "      <th>Year</th>\n",
       "      <th>Line_id</th>\n",
       "      <th>Text</th>\n",
       "      <th>Text_len</th>\n",
       "      <th>toks</th>\n",
       "      <th>Len_toks</th>\n",
       "      <th>toks_low</th>\n",
       "      <th>hi</th>\n",
       "      <th>-hi</th>\n",
       "      <th>hi_count</th>\n",
       "      <th>...</th>\n",
       "      <th>Pstp_count</th>\n",
       "      <th>Pstp_percent</th>\n",
       "      <th>HaverDe_count</th>\n",
       "      <th>TenirQue_count</th>\n",
       "      <th>HaverDe_percent</th>\n",
       "      <th>TenirQue_percent</th>\n",
       "      <th>POS</th>\n",
       "      <th>PronominalizedV</th>\n",
       "      <th>PronV_count</th>\n",
       "      <th>V_total</th>\n",
       "    </tr>\n",
       "  </thead>\n",
       "  <tbody>\n",
       "    <tr>\n",
       "      <th>0</th>\n",
       "      <td>1926</td>\n",
       "      <td>Discurs llegit per... donar a conèxer la perso...</td>\n",
       "      <td>L'home que per amor al estudi, impulsat per un...</td>\n",
       "      <td>37497</td>\n",
       "      <td>[L', home, que, per, amor, al, estudi, ,, impu...</td>\n",
       "      <td>7267</td>\n",
       "      <td>[l', home, que, per, amor, al, estudi, ,, impu...</td>\n",
       "      <td>{(n', hi, hagi)}</td>\n",
       "      <td>{}</td>\n",
       "      <td>1</td>\n",
       "      <td>...</td>\n",
       "      <td>35</td>\n",
       "      <td>0.481629</td>\n",
       "      <td>15</td>\n",
       "      <td>0</td>\n",
       "      <td>0.206413</td>\n",
       "      <td>0.0</td>\n",
       "      <td>[(L', DET), (home, NOUN), (que, PRON), (per, A...</td>\n",
       "      <td>[[s', estudía], [s', havien, adoptat], [s', ex...</td>\n",
       "      <td>31</td>\n",
       "      <td>655</td>\n",
       "    </tr>\n",
       "    <tr>\n",
       "      <th>1</th>\n",
       "      <td>1920</td>\n",
       "      <td>Parlament llegit en la festa inaugural de l'Or...</td>\n",
       "      <td>Cantaires de la Garriga, Senyores i senyors:\\n...</td>\n",
       "      <td>9253</td>\n",
       "      <td>[Cantaires, de, la, Garriga, ,, Senyores, i, s...</td>\n",
       "      <td>1865</td>\n",
       "      <td>[cantaires, de, la, garriga, ,, senyores, i, s...</td>\n",
       "      <td>{(m', hi, vaig)}</td>\n",
       "      <td>{}</td>\n",
       "      <td>1</td>\n",
       "      <td>...</td>\n",
       "      <td>4</td>\n",
       "      <td>0.214477</td>\n",
       "      <td>1</td>\n",
       "      <td>0</td>\n",
       "      <td>0.053619</td>\n",
       "      <td>0.0</td>\n",
       "      <td>[(Cantaires, PROPN), (de, ADP), (la, DET), (Ga...</td>\n",
       "      <td>[[em, teniu], [es, fa], [s', anima], [s', aixe...</td>\n",
       "      <td>16</td>\n",
       "      <td>151</td>\n",
       "    </tr>\n",
       "  </tbody>\n",
       "</table>\n",
       "<p>2 rows × 27 columns</p>\n",
       "</div>"
      ],
      "text/plain": [
       "   Year                                            Line_id  \\\n",
       "0  1926  Discurs llegit per... donar a conèxer la perso...   \n",
       "1  1920  Parlament llegit en la festa inaugural de l'Or...   \n",
       "\n",
       "                                                Text  Text_len  \\\n",
       "0  L'home que per amor al estudi, impulsat per un...     37497   \n",
       "1  Cantaires de la Garriga, Senyores i senyors:\\n...      9253   \n",
       "\n",
       "                                                toks  Len_toks  \\\n",
       "0  [L', home, que, per, amor, al, estudi, ,, impu...      7267   \n",
       "1  [Cantaires, de, la, Garriga, ,, Senyores, i, s...      1865   \n",
       "\n",
       "                                            toks_low                hi -hi  \\\n",
       "0  [l', home, que, per, amor, al, estudi, ,, impu...  {(n', hi, hagi)}  {}   \n",
       "1  [cantaires, de, la, garriga, ,, senyores, i, s...  {(m', hi, vaig)}  {}   \n",
       "\n",
       "   hi_count  ...  Pstp_count Pstp_percent  HaverDe_count  TenirQue_count  \\\n",
       "0         1  ...          35     0.481629             15               0   \n",
       "1         1  ...           4     0.214477              1               0   \n",
       "\n",
       "   HaverDe_percent  TenirQue_percent  \\\n",
       "0         0.206413               0.0   \n",
       "1         0.053619               0.0   \n",
       "\n",
       "                                                 POS  \\\n",
       "0  [(L', DET), (home, NOUN), (que, PRON), (per, A...   \n",
       "1  [(Cantaires, PROPN), (de, ADP), (la, DET), (Ga...   \n",
       "\n",
       "                                     PronominalizedV  PronV_count  V_total  \n",
       "0  [[s', estudía], [s', havien, adoptat], [s', ex...           31      655  \n",
       "1  [[em, teniu], [es, fa], [s', anima], [s', aixe...           16      151  \n",
       "\n",
       "[2 rows x 27 columns]"
      ]
     },
     "execution_count": 218,
     "metadata": {},
     "output_type": "execute_result"
    }
   ],
   "source": [
    "current_df.head(2)"
   ]
  },
  {
   "cell_type": "code",
   "execution_count": 219,
   "id": "c9cfeb58-feb0-45cd-85fc-be21f8939d2a",
   "metadata": {},
   "outputs": [],
   "source": [
    "# making a separate proportion function \n",
    "# for calculating the pecentage of reflexive verbs out of the total verbs\n",
    "def v_proportion(row, pronom_V):\n",
    "    '''\n",
    "    takes in a row and the reflexive pronminalized verb count\n",
    "    fetches the total verb count for that feature\n",
    "    divides the  pronminalized verb count by the total verb count of that row\n",
    "    multiplies the division result by a 100 to get a precentage\n",
    "    returns the percentage \n",
    "    '''\n",
    "    if row[\"V_Total\"] > 0:\n",
    "        percent = (row[pronom_V] / row[\"V_Total\"]) * 100 \n",
    "    else:\n",
    "        percent = 0\n",
    "    \n",
    "    return percent"
   ]
  },
  {
   "cell_type": "code",
   "execution_count": 220,
   "id": "83262e12-ed6c-4bed-ab4b-fad24d0de266",
   "metadata": {},
   "outputs": [],
   "source": [
    "current_df[\"PronV_percent\"] = current_df[\"PronV_count\"] / current_df[\"V_total\"] * 100\n",
    "current_df[\"PronV_percent\"] = current_df[\"PronV_percent\"].fillna(0)"
   ]
  },
  {
   "cell_type": "code",
   "execution_count": 221,
   "id": "1aad6e84-c6cd-4092-afe3-4bc76f45b66a",
   "metadata": {},
   "outputs": [
    {
     "data": {
      "text/html": [
       "<div>\n",
       "<style scoped>\n",
       "    .dataframe tbody tr th:only-of-type {\n",
       "        vertical-align: middle;\n",
       "    }\n",
       "\n",
       "    .dataframe tbody tr th {\n",
       "        vertical-align: top;\n",
       "    }\n",
       "\n",
       "    .dataframe thead th {\n",
       "        text-align: right;\n",
       "    }\n",
       "</style>\n",
       "<table border=\"1\" class=\"dataframe\">\n",
       "  <thead>\n",
       "    <tr style=\"text-align: right;\">\n",
       "      <th></th>\n",
       "      <th>Year</th>\n",
       "      <th>Line_id</th>\n",
       "      <th>Text</th>\n",
       "      <th>Text_len</th>\n",
       "      <th>toks</th>\n",
       "      <th>Len_toks</th>\n",
       "      <th>toks_low</th>\n",
       "      <th>hi</th>\n",
       "      <th>-hi</th>\n",
       "      <th>hi_count</th>\n",
       "      <th>...</th>\n",
       "      <th>Pstp_percent</th>\n",
       "      <th>HaverDe_count</th>\n",
       "      <th>TenirQue_count</th>\n",
       "      <th>HaverDe_percent</th>\n",
       "      <th>TenirQue_percent</th>\n",
       "      <th>POS</th>\n",
       "      <th>PronominalizedV</th>\n",
       "      <th>PronV_count</th>\n",
       "      <th>V_total</th>\n",
       "      <th>PronV_percent</th>\n",
       "    </tr>\n",
       "  </thead>\n",
       "  <tbody>\n",
       "    <tr>\n",
       "      <th>0</th>\n",
       "      <td>1926</td>\n",
       "      <td>Discurs llegit per... donar a conèxer la perso...</td>\n",
       "      <td>L'home que per amor al estudi, impulsat per un...</td>\n",
       "      <td>37497</td>\n",
       "      <td>[L', home, que, per, amor, al, estudi, ,, impu...</td>\n",
       "      <td>7267</td>\n",
       "      <td>[l', home, que, per, amor, al, estudi, ,, impu...</td>\n",
       "      <td>{(n', hi, hagi)}</td>\n",
       "      <td>{}</td>\n",
       "      <td>1</td>\n",
       "      <td>...</td>\n",
       "      <td>0.481629</td>\n",
       "      <td>15</td>\n",
       "      <td>0</td>\n",
       "      <td>0.206413</td>\n",
       "      <td>0.0</td>\n",
       "      <td>[(L', DET), (home, NOUN), (que, PRON), (per, A...</td>\n",
       "      <td>[[s', estudía], [s', havien, adoptat], [s', ex...</td>\n",
       "      <td>31</td>\n",
       "      <td>655</td>\n",
       "      <td>4.732824</td>\n",
       "    </tr>\n",
       "    <tr>\n",
       "      <th>1</th>\n",
       "      <td>1920</td>\n",
       "      <td>Parlament llegit en la festa inaugural de l'Or...</td>\n",
       "      <td>Cantaires de la Garriga, Senyores i senyors:\\n...</td>\n",
       "      <td>9253</td>\n",
       "      <td>[Cantaires, de, la, Garriga, ,, Senyores, i, s...</td>\n",
       "      <td>1865</td>\n",
       "      <td>[cantaires, de, la, garriga, ,, senyores, i, s...</td>\n",
       "      <td>{(m', hi, vaig)}</td>\n",
       "      <td>{}</td>\n",
       "      <td>1</td>\n",
       "      <td>...</td>\n",
       "      <td>0.214477</td>\n",
       "      <td>1</td>\n",
       "      <td>0</td>\n",
       "      <td>0.053619</td>\n",
       "      <td>0.0</td>\n",
       "      <td>[(Cantaires, PROPN), (de, ADP), (la, DET), (Ga...</td>\n",
       "      <td>[[em, teniu], [es, fa], [s', anima], [s', aixe...</td>\n",
       "      <td>16</td>\n",
       "      <td>151</td>\n",
       "      <td>10.596026</td>\n",
       "    </tr>\n",
       "  </tbody>\n",
       "</table>\n",
       "<p>2 rows × 28 columns</p>\n",
       "</div>"
      ],
      "text/plain": [
       "   Year                                            Line_id  \\\n",
       "0  1926  Discurs llegit per... donar a conèxer la perso...   \n",
       "1  1920  Parlament llegit en la festa inaugural de l'Or...   \n",
       "\n",
       "                                                Text  Text_len  \\\n",
       "0  L'home que per amor al estudi, impulsat per un...     37497   \n",
       "1  Cantaires de la Garriga, Senyores i senyors:\\n...      9253   \n",
       "\n",
       "                                                toks  Len_toks  \\\n",
       "0  [L', home, que, per, amor, al, estudi, ,, impu...      7267   \n",
       "1  [Cantaires, de, la, Garriga, ,, Senyores, i, s...      1865   \n",
       "\n",
       "                                            toks_low                hi -hi  \\\n",
       "0  [l', home, que, per, amor, al, estudi, ,, impu...  {(n', hi, hagi)}  {}   \n",
       "1  [cantaires, de, la, garriga, ,, senyores, i, s...  {(m', hi, vaig)}  {}   \n",
       "\n",
       "   hi_count  ...  Pstp_percent HaverDe_count  TenirQue_count  HaverDe_percent  \\\n",
       "0         1  ...      0.481629            15               0         0.206413   \n",
       "1         1  ...      0.214477             1               0         0.053619   \n",
       "\n",
       "   TenirQue_percent                                                POS  \\\n",
       "0               0.0  [(L', DET), (home, NOUN), (que, PRON), (per, A...   \n",
       "1               0.0  [(Cantaires, PROPN), (de, ADP), (la, DET), (Ga...   \n",
       "\n",
       "                                     PronominalizedV  PronV_count  V_total  \\\n",
       "0  [[s', estudía], [s', havien, adoptat], [s', ex...           31      655   \n",
       "1  [[em, teniu], [es, fa], [s', anima], [s', aixe...           16      151   \n",
       "\n",
       "   PronV_percent  \n",
       "0       4.732824  \n",
       "1      10.596026  \n",
       "\n",
       "[2 rows x 28 columns]"
      ]
     },
     "execution_count": 221,
     "metadata": {},
     "output_type": "execute_result"
    }
   ],
   "source": [
    "current_df.head(2)"
   ]
  },
  {
   "cell_type": "code",
   "execution_count": 222,
   "id": "886fb478-eaa0-49e4-8757-17f302464edc",
   "metadata": {
    "scrolled": true
   },
   "outputs": [
    {
     "data": {
      "image/png": "[encoded data removed]",
      "text/plain": [
       "<Figure size 800x1000 with 1 Axes>"
      ]
     },
     "metadata": {},
     "output_type": "display_data"
    }
   ],
   "source": [
    "# grouping by year\n",
    "# getting mean percentage of hi per text per year\n",
    "df_grouped = current_df.groupby(\"Year\")[\"PronV_percent\"].mean()\n",
    "\n",
    "plt.figure(figsize=(8, 10))\n",
    "df_grouped.plot(kind=\"barh\", color=\"purple\")\n",
    "plt.xlabel(\"Pronominalized Verbs Percentage\")\n",
    "plt.ylabel(\"Year\")\n",
    "plt.title(\"Pronominalized Verbs Proportion per Year\")\n",
    "plt.gca().invert_yaxis()  # Opcional, per invertir l'ordre de les etiquetes\n",
    "plt.tight_layout()\n",
    "plt.show()\n"
   ]
  },
  {
   "cell_type": "code",
   "execution_count": 223,
   "id": "d47459dc-25f0-4fd0-81f1-11b03e7f67b4",
   "metadata": {},
   "outputs": [
    {
     "name": "stdout",
     "output_type": "stream",
     "text": [
      "Pronominalized Verbs% - rho: 0.0137, p-value: 0.0000\n"
     ]
    }
   ],
   "source": [
    "# correlation year-verb pronominalization\n",
    "rho_pstp, p_pstp = spearmanr(current_df[\"Year\"], current_df[\"PronV_percent\"])\n",
    "print(f\"Pronominalized Verbs% - rho: {rho_pstp:.4f}, p-value: {p_pstp:.4f}\")"
   ]
  },
  {
   "cell_type": "code",
   "execution_count": 224,
   "id": "dd975382-efae-4995-8596-c3387760b81a",
   "metadata": {},
   "outputs": [],
   "source": [
    "# saving the data\n",
    "current_df.to_pickle(\"complete_df.pkl\")"
   ]
  },
  {
   "cell_type": "markdown",
   "id": "1aab8d92-0b44-4c30-81d3-9c682d435fce",
   "metadata": {},
   "source": [
    "## 4. Low-Level Analysis Conclusion and Findings"
   ]
  }
 ],
 "metadata": {
  "kernelspec": {
   "display_name": "Python 3 (ipykernel)",
   "language": "python",
   "name": "python3"
  },
  "language_info": {
   "codemirror_mode": {
    "name": "ipython",
    "version": 3
   },
   "file_extension": ".py",
   "mimetype": "text/x-python",
   "name": "python",
   "nbconvert_exporter": "python",
   "pygments_lexer": "ipython3",
   "version": "3.12.5"
  }
 },
 "nbformat": 4,
 "nbformat_minor": 5
}
