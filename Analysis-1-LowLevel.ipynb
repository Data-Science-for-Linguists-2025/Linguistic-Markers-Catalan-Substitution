{
 "cells": [
  {
   "cell_type": "markdown",
   "id": "dc359e4f-1bb5-4853-b9a1-2246c392b0cf",
   "metadata": {},
   "source": [
    "# Low-Level Analysis\n",
    "Jana Bruses | janabruses@pitt.edu | University of Pittsburgh | Apr. 3rd - ..."
   ]
  },
  {
   "cell_type": "markdown",
   "id": "4cd1b7ce-670a-495f-a780-9bad0571624e",
   "metadata": {},
   "source": [
    "This analysis aims to quantify the linguistic markers of Catalan language substitution by measuring specific changes over time. The following exploration looks at lower-level linguistic symptoms (morphological, syntactic, lexical, and semantic). For higher-level text characteristics that could indicate increasing convergence with Spanish check notebook ...[link]()\\\n",
    "The data colection and dataframe building process used for this analysis can be found in [Data-Parsing-Exploratory-Analysis-2](https://github.com/Data-Science-for-Linguists-2025/Linguistic-Markers-Catalan-Substitution/blob/main/Data-Parsing-Exploratory-Analysis-2.ipynb)"
   ]
  },
  {
   "cell_type": "code",
   "execution_count": 13,
   "id": "d0d95321-b629-4cc6-9650-c769f0e8c2fa",
   "metadata": {},
   "outputs": [],
   "source": [
    "# loading libraries\n",
    "import pandas as pd"
   ]
  },
  {
   "cell_type": "code",
   "execution_count": 14,
   "id": "a105b938-1c02-4198-ba6e-1554e17aa7d2",
   "metadata": {},
   "outputs": [],
   "source": [
    "# loading the pickled complete dataframe \n",
    "tokscomplete_df = pd.read_pickle(\"tokcomplete_df.pkl\")"
   ]
  },
  {
   "cell_type": "code",
   "execution_count": 15,
   "id": "aa0c28c8-2114-43c3-a7fc-e3f85d328e24",
   "metadata": {},
   "outputs": [],
   "source": [
    "# keeping only the columns we are interested in\n",
    "tokscomplete_df = tokscomplete_df[[\"Year\", \"Line_id\", \"Text\", \"Text_len\", \"toks\", \"Len_toks\"]]"
   ]
  },
  {
   "cell_type": "code",
   "execution_count": 37,
   "id": "5ed69852-6888-420c-94f3-7a4d23400755",
   "metadata": {},
   "outputs": [
    {
     "name": "stdout",
     "output_type": "stream",
     "text": [
      "There are (75480, 6) pieces of text\n",
      "The total of tokens in the dataframe is: 3063943\n",
      "The oldest text is from 1860\n",
      "The most recent text is from 2022\n"
     ]
    }
   ],
   "source": [
    "# quick recap data on the dataframe\n",
    "print(\"There are\", tokscomplete_df.shape, \"pieces of text\")\n",
    "print(\"The total of tokens in the dataframe is:\", tokscomplete_df[\"Len_toks\"].sum())\n",
    "print(\"The oldest text is from\", tokscomplete_df[\"Year\"].min())\n",
    "print(\"The most recent text is from\", tokscomplete_df[\"Year\"].max())"
   ]
  },
  {
   "cell_type": "code",
   "execution_count": 38,
   "id": "2085fa7e-cd5b-4478-bfa5-16fc1f95db7b",
   "metadata": {},
   "outputs": [
    {
     "data": {
      "text/html": [
       "<div>\n",
       "<style scoped>\n",
       "    .dataframe tbody tr th:only-of-type {\n",
       "        vertical-align: middle;\n",
       "    }\n",
       "\n",
       "    .dataframe tbody tr th {\n",
       "        vertical-align: top;\n",
       "    }\n",
       "\n",
       "    .dataframe thead th {\n",
       "        text-align: right;\n",
       "    }\n",
       "</style>\n",
       "<table border=\"1\" class=\"dataframe\">\n",
       "  <thead>\n",
       "    <tr style=\"text-align: right;\">\n",
       "      <th></th>\n",
       "      <th>Year</th>\n",
       "      <th>Text_len</th>\n",
       "      <th>Len_toks</th>\n",
       "    </tr>\n",
       "  </thead>\n",
       "  <tbody>\n",
       "    <tr>\n",
       "      <th>count</th>\n",
       "      <td>75480.000000</td>\n",
       "      <td>75480.000000</td>\n",
       "      <td>75480.000000</td>\n",
       "    </tr>\n",
       "    <tr>\n",
       "      <th>mean</th>\n",
       "      <td>2008.832658</td>\n",
       "      <td>187.739043</td>\n",
       "      <td>40.592780</td>\n",
       "    </tr>\n",
       "    <tr>\n",
       "      <th>std</th>\n",
       "      <td>3.064608</td>\n",
       "      <td>611.358140</td>\n",
       "      <td>122.724208</td>\n",
       "    </tr>\n",
       "    <tr>\n",
       "      <th>min</th>\n",
       "      <td>1860.000000</td>\n",
       "      <td>0.000000</td>\n",
       "      <td>0.000000</td>\n",
       "    </tr>\n",
       "    <tr>\n",
       "      <th>25%</th>\n",
       "      <td>2008.000000</td>\n",
       "      <td>38.000000</td>\n",
       "      <td>9.000000</td>\n",
       "    </tr>\n",
       "    <tr>\n",
       "      <th>50%</th>\n",
       "      <td>2009.000000</td>\n",
       "      <td>95.000000</td>\n",
       "      <td>21.000000</td>\n",
       "    </tr>\n",
       "    <tr>\n",
       "      <th>75%</th>\n",
       "      <td>2010.000000</td>\n",
       "      <td>222.000000</td>\n",
       "      <td>48.000000</td>\n",
       "    </tr>\n",
       "    <tr>\n",
       "      <th>max</th>\n",
       "      <td>2022.000000</td>\n",
       "      <td>73881.000000</td>\n",
       "      <td>14727.000000</td>\n",
       "    </tr>\n",
       "  </tbody>\n",
       "</table>\n",
       "</div>"
      ],
      "text/plain": [
       "               Year      Text_len      Len_toks\n",
       "count  75480.000000  75480.000000  75480.000000\n",
       "mean    2008.832658    187.739043     40.592780\n",
       "std        3.064608    611.358140    122.724208\n",
       "min     1860.000000      0.000000      0.000000\n",
       "25%     2008.000000     38.000000      9.000000\n",
       "50%     2009.000000     95.000000     21.000000\n",
       "75%     2010.000000    222.000000     48.000000\n",
       "max     2022.000000  73881.000000  14727.000000"
      ]
     },
     "execution_count": 38,
     "metadata": {},
     "output_type": "execute_result"
    }
   ],
   "source": [
    "tokscomplete_df.describe()"
   ]
  },
  {
   "cell_type": "markdown",
   "id": "df74242d-b4bb-4735-95ad-7cdf8c7e69e6",
   "metadata": {},
   "source": [
    "**Comment:**\\\n",
    "Whatever about the desribe"
   ]
  },
  {
   "cell_type": "markdown",
   "id": "f3875905-be70-420c-84f2-2522a0f92fad",
   "metadata": {},
   "source": [
    "## 1. Loss of word classes - pronoms febles"
   ]
  },
  {
   "cell_type": "markdown",
   "id": "b06157fd-7142-48e3-ba3f-3169db889796",
   "metadata": {},
   "source": [
    "Following Dr. Junyent's idea that one of the key warnings of a language endangerement's is the loss of word classes we will conduct a frequency exploration of Pronoms Febles as our target word class. Specifically we will take a close look at **\"en\"** and **\"hi\"** pronouns that can't be found in Spanish and might be dropped to copy Spanish's structures.\\\n",
    "The following examples and explanations have been inspired by, guided and translated from [els-pronoms-son-vida](https://www.vilaweb.cat/noticies/els-pronoms-son-vida/), a catalan page that does an amazing job at presenting these cornerstones of Catalan."
   ]
  },
  {
   "cell_type": "markdown",
   "id": "41898483-ab87-48a4-b8c3-8ca662918458",
   "metadata": {},
   "source": [
    "### **\"en\"** & **\"hi\"**"
   ]
  },
  {
   "cell_type": "markdown",
   "id": "dca113d6-8808-4f8c-b458-49806880a569",
   "metadata": {},
   "source": [
    "A bit of grammatical background on \"en\" and \"hi\".\\\n",
    "These pronouns substitute complements of the verb.\n",
    "\n",
    "**\"en\"**\\\n",
    "**(a)** Used to replace complements introduced by “de”\\\n",
    "Example:\\\n",
    "Viuen de la por de la gent. ---> En viuen\\\n",
    "*They live from peoples' fears. ---> They live from them.*\\\n",
    "\"en\" = bundle of: they, from and people's fears\n",
    "\n",
    "**(b)** Used to replace direct objects without an article\\\n",
    "Example:\\\n",
    "He comprat masses coses. En tornaré dues.\\\n",
    "*I've bought too many things. I'll return two of them.*\\\n",
    "\"en\" = of the things I bought\\\n",
    "\"masses coses\" is the direct object, without any article preciding it \"he comprat\" is the verbal form\n",
    "\n",
    "**\"hi\"**\n",
    "It is used to replace a complement starting with any other preposition except from \"de\"\\\n",
    "Demà anem al pis. ---> Demà hi anem\\\n",
    "*We are going to the flat tomorrow ---> We are going \"to it\" tomorrow\n",
    "\"hi\" = al pis/*the flat*\n",
    "\n",
    "These are examples of some of the most common situations in which these pronouns are being forgotten:\\\n",
    "* He redactat totes les cartes. T’envio dues -> Te n’envio dues\n",
    "* Sé que t’esperen a la piscina, però no pots anar -> no hi pots anar\n",
    "* L’espien i ell no s’adona -> no se n’adona\n",
    "* Demà hi ha la festa, però jo no estaré -> no hi seré\n",
    "* Sí que està, però ara no es pot posar -> Sí que hi és, però ara no s’hi pot posar\n",
    "* Avui pot haver una desgràcia -> pot haver-hi una desgràcia\n",
    "\n",
    "Less common examples are:\n",
    "No tenim constància de la petició, però avui mirarem de saber alguna cosa ---> saber-ne alguna cosa\\\n",
    "He llegit el text, però no he canviat res ---> no hi he canviat res\\\n",
    "Si et sembla bé, parlem-ho demà ---> parlem-ne demà\\\n",
    "Volia pa, però no vaig pensar a comprar-lo ---> a comprar-ne\\\n",
    "És la bicicleta, o bici, digueu-li com vulgueu ---> digueu-ne com vulgueu\\\n",
    "A sota de cada objecte, escriviu el nom que li correspongui ---> que hi correspongui\n",
    "\n",
    "Possessive sentences that we are building from Spanish influence instead of using a pronoun:\\\n",
    "Quan va veure aquell automòbil es va enamorar d’ell ---> se’n va enamorar\\\n",
    "Vam trobar una botiga i ens vam arrecerar en ella ---> ens hi vam arrecerar\\\n",
    "Aquell pintor? No recordo el seu nom ---> No en recordo el nom\\\n",
    "Va conèixer Fuster el 1970 i es va començar a relacionar amb aquest ---> s’hi va començar a relacionar\\\n",
    "Diu que s’ha limitat a escoltar les propostes, però no fa cap valoració al respecte ---> no en fa cap valoració"
   ]
  },
  {
   "cell_type": "markdown",
   "id": "ceed5f55-9a01-43fc-a459-5ae8c33a7a00",
   "metadata": {},
   "source": [
    "Looking at these examples there are some elements that we can scan the text for.\n",
    "| Pronoms Febles| |\n",
    "|----|----|\n",
    "| \"en\" | other forms: \"n'\", \"-ne\", \"se'n\"|\n",
    "| \"hi\" | can also be found as \"-hi\" |"
   ]
  }
 ],
 "metadata": {
  "kernelspec": {
   "display_name": "Python 3 (ipykernel)",
   "language": "python",
   "name": "python3"
  },
  "language_info": {
   "codemirror_mode": {
    "name": "ipython",
    "version": 3
   },
   "file_extension": ".py",
   "mimetype": "text/x-python",
   "name": "python",
   "nbconvert_exporter": "python",
   "pygments_lexer": "ipython3",
   "version": "3.12.5"
  }
 },
 "nbformat": 4,
 "nbformat_minor": 5
}
