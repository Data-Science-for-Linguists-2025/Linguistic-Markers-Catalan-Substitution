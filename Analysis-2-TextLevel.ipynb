{
 "cells": [
  {
   "cell_type": "markdown",
   "id": "788da74b-667a-4988-90b3-8305b9fb9799",
   "metadata": {},
   "source": [
    "# Analysis 2\n",
    "Jana Bruses | janabruses@pitt.edu | University of Pittsburgh | Apr 21st - ..."
   ]
  },
  {
   "cell_type": "markdown",
   "id": "60e4d0fe-a7c2-4ba5-8f94-a19cc4a4cac7",
   "metadata": {},
   "source": [
    "Second notebook of the Analysis portion of the project.\\\n",
    "First notebook found at: [Analysis-1-LowLevel](http://localhost:8888/notebooks/Linguistic-Markers-Catalan-Substitution/Analysis-1-LowLevel.ipynb)\\\n",
    "Fourth notebook of the project, after the [data portion](https://github.com/Data-Science-for-Linguists-2025/Linguistic-Markers-Catalan-Substitution/blob/main/Data-Parsing-Exploratory-Analysis-2.ipynb) notebook."
   ]
  },
  {
   "cell_type": "markdown",
   "id": "07aa05c1-9063-4c07-ac77-53de74eee293",
   "metadata": {},
   "source": [
    "In this analysis notebook various machine learning models were used to analyze the effectiveness of the selected linguistic markers that could indicate Catalan's substitution explored in [Analysis-1-LowLevel](http://localhost:8888/notebooks/Linguistic-Markers-Catalan-Substitution/Analysis-1-LowLevel.ipynb) namely:\\\n",
    "\"hi\" percentage - to analyze loss of word classes\\\n",
    "passat perifràstic vs passat simple - to analyze time lexicon modification\\\n",
    "anar vs venir percentage - to analyze space lexicon modification\\\n",
    "haver de vs tenir que percentage - to analyze  syntactic Restructuring\\\n",
    "verb pronominalization - to analyze syntactic Restructuring"
   ]
  },
  {
   "cell_type": "markdown",
   "id": "e2b4f444-74d0-42cf-b079-582fc7d18821",
   "metadata": {},
   "source": [
    "Contents on this analysis notebook:\\\n",
    "**1 Supervised learning**\\\n",
    "**A** Building a Naïve Bayes classifier using tf-idf features (pre-post Franquism)\\\n",
    "**B** Building a Naïve Bayes classifier using tf-idf features (3 period)\\\n",
    "**C** Building a classifier using our linguistic features\\\n",
    "**2 Clustering (not concluded)**\\\n",
    "Getting time clusters according to our linguistic features"
   ]
  },
  {
   "cell_type": "code",
   "execution_count": 2,
   "id": "179608a3-c7dc-4c37-99f5-8a8a9c8f094d",
   "metadata": {},
   "outputs": [],
   "source": [
    "# loading libraries\n",
    "import pandas as pd\n",
    "import numpy as np"
   ]
  },
  {
   "cell_type": "markdown",
   "id": "fa788c5e-b2fd-4aec-ade6-9a53d641b99d",
   "metadata": {},
   "source": [
    "All the data used in the analysis steps was included in the dataframe and pickled at the end of the analysis.\\\n",
    "The data will now be loaded."
   ]
  },
  {
   "cell_type": "code",
   "execution_count": 3,
   "id": "79e2c852-0df1-4d55-ba00-c7ca9cdfbfe0",
   "metadata": {},
   "outputs": [],
   "source": [
    "# loading the pickled complete dataframe\n",
    "tokscomplete_df = pd.read_pickle(\"data/tokcomplete_df.pkl\")\n",
    "tokscomplete_df = tokscomplete_df.drop_duplicates(subset=\"Text\", keep=\"first\")"
   ]
  },
  {
   "cell_type": "markdown",
   "id": "bfc87959-12bd-4e81-a8bd-e32f62fa182e",
   "metadata": {},
   "source": [
    "## 1. Supervised Machine Learning"
   ]
  },
  {
   "cell_type": "markdown",
   "id": "e1202c49-66f2-43e9-a28b-987881e69b8c",
   "metadata": {},
   "source": [
    "### A. Tf-Idf Naive Bayes for pre vs post Franquism"
   ]
  },
  {
   "cell_type": "markdown",
   "id": "b960eb7b-b58e-4e9e-ade5-23891fb9b30d",
   "metadata": {},
   "source": [
    "Our data, is split in two main periods, before Franquism and after Franquism. We have two blocks of data. From 1860 to 1926 and from 1985 to 2022. We will label this two periods as 1926b and 1985a and have a classifier distinguish them, to look for other features trough tf-idf, that could tell us more about Catalan's substitution."
   ]
  },
  {
   "cell_type": "code",
   "execution_count": 4,
   "id": "52e63b99-da13-4ace-bf82-d6904ac890b3",
   "metadata": {},
   "outputs": [],
   "source": [
    "def period2_tagger(year):\n",
    "    if year <= 1926:\n",
    "        return \"1926b\"\n",
    "    elif year >= 1985:\n",
    "        return \"1985a\"\n",
    "    else:\n",
    "        print(year) #printing any years not in that range to check"
   ]
  },
  {
   "cell_type": "code",
   "execution_count": 5,
   "id": "53baf330-11d1-4f83-bd60-beb856734828",
   "metadata": {},
   "outputs": [],
   "source": [
    "tokscomplete_df[\"Period2\"] = tokscomplete_df[\"Year\"].apply(period2_tagger)"
   ]
  },
  {
   "cell_type": "code",
   "execution_count": 6,
   "id": "95c4c92d-38cf-44f0-880e-cb1fba1963f0",
   "metadata": {},
   "outputs": [
    {
     "data": {
      "text/plain": [
       "Period2\n",
       "1985a    64916\n",
       "1926b       28\n",
       "Name: count, dtype: int64"
      ]
     },
     "execution_count": 6,
     "metadata": {},
     "output_type": "execute_result"
    }
   ],
   "source": [
    "tokscomplete_df[\"Period2\"].value_counts()"
   ]
  },
  {
   "cell_type": "markdown",
   "id": "a1c3785f-a538-45e6-9879-1661cfadf404",
   "metadata": {},
   "source": [
    "**Comment:**\n",
    "As this numbers portray, we have a huge amount of data for the recent period, while we have very few documents for the period from 1926 and earler. However, since these are ceremonial speeches, looking at the length in tokens might actually be more informative. "
   ]
  },
  {
   "cell_type": "code",
   "execution_count": 7,
   "id": "78fb1fed-4c87-4bec-ac79-e84532bc842d",
   "metadata": {},
   "outputs": [
    {
     "data": {
      "text/plain": [
       "Period2\n",
       "1926b     143831\n",
       "1985a    2803938\n",
       "Name: Len_toks, dtype: int64"
      ]
     },
     "execution_count": 7,
     "metadata": {},
     "output_type": "execute_result"
    }
   ],
   "source": [
    "tokscomplete_df.groupby(\"Period2\")[\"Len_toks\"].sum()"
   ]
  },
  {
   "cell_type": "markdown",
   "id": "496ae739-6d05-4258-b53f-2577f9f80125",
   "metadata": {},
   "source": [
    "**Comment:** The gap is not as big as it was looking at file counts, as many of the later contributions are shorter, containing fewer tokens, while the few documents from before 1926 are complete speeches. \n",
    "\n",
    "Because of this, instead of having the classifier classify full pieces of text, we will use single sentences as the text features. "
   ]
  },
  {
   "cell_type": "code",
   "execution_count": 8,
   "id": "880b4d65-ed6b-4797-a78d-bba7a698f964",
   "metadata": {},
   "outputs": [],
   "source": [
    "def sent_tokenize(content):\n",
    "    doc = nlp(content)\n",
    "    sent_list = [sentence.text for sentence in doc.sentences]\n",
    "    return sent_list"
   ]
  },
  {
   "cell_type": "markdown",
   "id": "e48adf72-4b7f-4682-9a59-9a20c1cc3b81",
   "metadata": {},
   "source": [
    "Since sentence tokenization through Stanza is a very demanding process that my laptop couldn't handle it was done using the pitt's CRC supercomputing. The following commented code corresponds to the files, using a very similar process as the function sent_tokenize above. The files in their respective extension can be found in [Scripts Folder](https://github.com/Data-Science-for-Linguists-2025/Linguistic-Markers-Catalan-Substitution/tree/main/scripts) as \"sent_tok.py\" and \"sent_tok.sh\"."
   ]
  },
  {
   "cell_type": "code",
   "execution_count": 9,
   "id": "293cfb1d-125c-44bf-bc4b-38b2f125a620",
   "metadata": {},
   "outputs": [],
   "source": [
    "python_code = \"\"\"\n",
    "import pandas as pd\n",
    "import stanza\n",
    "\n",
    "data_df = pd.read_pickle(\"lemmaComplete.pkl\")\n",
    "nlp = stanza.Pipeline(lang='ca', processors='tokenize')\n",
    "mini_doc = nlp(\"Hola, com estas? Jo genial. I tu? Anem a fer una volta?\")\n",
    "print(\"sentences list:\")\n",
    "print([sent.text  for\n",
    "        sent in nlp(mini_doc).sentences])\n",
    "print()\n",
    "\n",
    "data_df[\"Sent_toks\"] = data_df[\"Text\"].apply(lambda doc:\n",
    "                                                        [sent.text  for\n",
    "                                                        sent in nlp(doc).sentences])\n",
    "data_df.to_pickle(\"sent_tok.pkl\")\n",
    "\"\"\""
   ]
  },
  {
   "cell_type": "code",
   "execution_count": 10,
   "id": "fdc19bcc-4e55-48d8-8d56-640c58969c18",
   "metadata": {},
   "outputs": [],
   "source": [
    "slurm_file = \"\"\"\n",
    "#!/usr/bin/env bash\n",
    "\n",
    "#SBATCH --job-name=proj_senttok\n",
    "#SBATCH --output=sent_tok.out\n",
    "#SBATCH --nodes=1\n",
    "#SBATCH --ntasks=3\n",
    "#SBATCH --partition=smp\n",
    "#SBATCH --cluster=smp\n",
    "#SBATCH --mem-per-cpu=16000\n",
    "#SBATCH --time=180\n",
    "\n",
    "module load python/ondemand-jupyter-python3.11\n",
    "python sent_tok.py\n",
    "\"\"\""
   ]
  },
  {
   "cell_type": "code",
   "execution_count": 11,
   "id": "b4856783-455e-45d6-bbac-cb728f1c5cf0",
   "metadata": {},
   "outputs": [],
   "source": [
    "# reading the pickled dataframe with the new column containing the sentence tokens \n",
    "senttok_df = pd.read_pickle(\"data/sent_tok.pkl\")"
   ]
  },
  {
   "cell_type": "code",
   "execution_count": 12,
   "id": "e232e3c5-8736-4a5f-8014-b580f5e24b10",
   "metadata": {},
   "outputs": [
    {
     "name": "stdout",
     "output_type": "stream",
     "text": [
      "Breu seré, cuant ja se han complagut vostres oídos ab los melodiosos cants de tants trovadors inspirats per lo esperit de la Religió, per lo amor de la patria y per lo amor á la bellesa ¿Qué podria jo anyadir cuant sento ja escapar de mon esperit la última espurna del juvenil entusiasme?\n",
      "\n",
      "Tant sols me cap lo expressar ab curtas frases lo goig que inunda mon cor al véurervos per segona vegada reunits en aquesta festa de familia, renovant memorias tan dolsas, evocant noms tan estimats, y recordant dias tan gloriosos pera nostra antiga patria.\n"
     ]
    }
   ],
   "source": [
    "# looking at a couple examples\n",
    "sent_tokens_example = senttok_df[senttok_df[\"Year\"] == 1860][\"Sent_toks\"].iloc[0]\n",
    "print(sent_tokens_example[0])\n",
    "print()\n",
    "print(sent_tokens_example[1])"
   ]
  },
  {
   "cell_type": "code",
   "execution_count": 13,
   "id": "9bf2457a-b71b-43cd-a95c-e03c28905e1d",
   "metadata": {},
   "outputs": [],
   "source": [
    "# re-doing the period tag on the sentence tokenized dataframe\n",
    "senttok_df[\"Period2\"] = senttok_df[\"Year\"].apply(period2_tagger)"
   ]
  },
  {
   "cell_type": "code",
   "execution_count": 14,
   "id": "2e45029a-d6b4-4d5d-993f-a11afbd3a0c7",
   "metadata": {},
   "outputs": [],
   "source": [
    "senttok_df[\"Sent_count\"] = senttok_df[\"Sent_toks\"].apply(lambda sents: len(sents))"
   ]
  },
  {
   "cell_type": "code",
   "execution_count": 15,
   "id": "ee7b9cb1-fe6e-4e00-b799-c571e32de73b",
   "metadata": {},
   "outputs": [
    {
     "data": {
      "text/plain": [
       "Period2\n",
       "1926b      2835\n",
       "1985a    199697\n",
       "Name: Sent_count, dtype: int64"
      ]
     },
     "execution_count": 15,
     "metadata": {},
     "output_type": "execute_result"
    }
   ],
   "source": [
    "senttok_df.groupby(\"Period2\")[\"Sent_count\"].sum()"
   ]
  },
  {
   "cell_type": "code",
   "execution_count": 16,
   "id": "bacb8dd3-76c5-4220-b35b-ec69a6e78b0e",
   "metadata": {},
   "outputs": [
    {
     "data": {
      "text/plain": [
       "202532"
      ]
     },
     "execution_count": 16,
     "metadata": {},
     "output_type": "execute_result"
    }
   ],
   "source": [
    "# considering the total\n",
    "senttok_df[\"Sent_count\"].sum()"
   ]
  },
  {
   "cell_type": "code",
   "execution_count": 17,
   "id": "b3f0ae29-6aab-4ba9-a851-c34d4944f167",
   "metadata": {},
   "outputs": [
    {
     "data": {
      "text/plain": [
       "0.986002211996129"
      ]
     },
     "execution_count": 17,
     "metadata": {},
     "output_type": "execute_result"
    }
   ],
   "source": [
    "# basline is incredibly high\n",
    "199697/202532"
   ]
  },
  {
   "cell_type": "markdown",
   "id": "e82da5b1-6b74-48a8-8927-a4649fbaff39",
   "metadata": {},
   "source": [
    "**Comment:** We have a very big imbalance. One of the target groups of the 2 accounts for 98% of the data, which means that even if we tagged everything as that group, specifically \"1985a\" we would get 98% accuracy. Consequently, our classifier will need to be almost perfect either 99% or completely perfect to do better than the baseline."
   ]
  },
  {
   "cell_type": "code",
   "execution_count": 18,
   "id": "eb6df6e8-1a81-43b2-9d22-0fe83998a067",
   "metadata": {},
   "outputs": [],
   "source": [
    "# creating a function to tag the sentences\n",
    "def tag_sents(sent_list, period2_tag):\n",
    "    return ([(s, period2_tag) for s in sent_list])"
   ]
  },
  {
   "cell_type": "code",
   "execution_count": 19,
   "id": "25363c4d-7d0b-424d-95c0-bcf587be8ded",
   "metadata": {},
   "outputs": [],
   "source": [
    "# tagging the sentences\n",
    "senttok_df[\"tagged_sents\"] = senttok_df.apply(lambda row: tag_sents(row[\"Sent_toks\"], row[\"Period2\"]), axis=1)"
   ]
  },
  {
   "cell_type": "code",
   "execution_count": 20,
   "id": "f6f2098d-5773-4fda-875b-3a577fb4debf",
   "metadata": {},
   "outputs": [],
   "source": [
    "# separating them into two lists\n",
    "sents_1926b = [sent for sentence_list in senttok_df[\"tagged_sents\"] for sent in sentence_list if sent[1]==\"1926b\"]\n",
    "sents_1985a = [sent for sentence_list in senttok_df[\"tagged_sents\"] for sent in sentence_list if sent[1]==\"1985a\"]"
   ]
  },
  {
   "cell_type": "code",
   "execution_count": 21,
   "id": "ec81101c-1022-43a0-92a5-85f37a93d322",
   "metadata": {},
   "outputs": [
    {
     "name": "stdout",
     "output_type": "stream",
     "text": [
      "(\"L'home que per amor al estudi, impulsat per un imperatiu ineludible 's manté reclòs en el seu laboratori o en la biblioteca, treballant sense parar may, indiferent a les temptacions mondanes, es certament un hèroe.\", '1926b')\n"
     ]
    },
    {
     "data": {
      "text/plain": [
       "('perquè que el president de catalunya sigui rebut pel president de la comissió europea',\n",
       " '1985a')"
      ]
     },
     "execution_count": 21,
     "metadata": {},
     "output_type": "execute_result"
    }
   ],
   "source": [
    "# checking a sentence from each of the lists to see the tag\n",
    "print(sents_1926b[0])\n",
    "sents_1985a[0]"
   ]
  },
  {
   "cell_type": "code",
   "execution_count": 22,
   "id": "54aa6e75-1e18-4602-ac31-c33115404a5b",
   "metadata": {},
   "outputs": [],
   "source": [
    "# concatenating the two tagged sentence lists\n",
    "sents = sents_1926b+sents_1985a\n",
    "\n",
    "# randomizing the lists after concatenation\n",
    "import random\n",
    "random.Random(10).shuffle(sents)"
   ]
  },
  {
   "cell_type": "code",
   "execution_count": 23,
   "id": "97a27415-a811-4c6c-950e-9500adf6fa89",
   "metadata": {},
   "outputs": [],
   "source": [
    "# turning the tagged sents lists into a dataframe\n",
    "tagged_df = pd.DataFrame(sents, columns=[\"sentence\", \"tag\"])"
   ]
  },
  {
   "cell_type": "code",
   "execution_count": 24,
   "id": "c62a0719-54f2-4c63-9b51-844370492305",
   "metadata": {},
   "outputs": [],
   "source": [
    "# creating traning and testing partitions\n",
    "from sklearn.model_selection import train_test_split\n",
    "docs_train, docs_test, y_train, y_test = train_test_split(tagged_df[\"sentence\"], tagged_df[\"tag\"], test_size = 0.20, random_state = 0)"
   ]
  },
  {
   "cell_type": "code",
   "execution_count": 25,
   "id": "afc570a2-c0d2-460a-a899-8f131c7db011",
   "metadata": {},
   "outputs": [
    {
     "name": "stdout",
     "output_type": "stream",
     "text": [
      "162025 40507\n",
      "162025 40507\n",
      "\n",
      "['1926b', '1985a']\n",
      "['1926b', '1985a']\n"
     ]
    }
   ],
   "source": [
    "# examining resulting partitions \n",
    "print(len(docs_train), len(docs_test))\n",
    "print(len(y_train), len(y_test))\n",
    "print()\n",
    "print(sorted(set(y_train)))\n",
    "print(sorted(set(y_test)))"
   ]
  },
  {
   "cell_type": "code",
   "execution_count": 26,
   "id": "f0de9ddc-41a8-4a20-a87b-6112de7f2a14",
   "metadata": {},
   "outputs": [
    {
     "data": {
      "text/html": [
       "<style>#sk-container-id-1 {\n",
       "  /* Definition of color scheme common for light and dark mode */\n",
       "  --sklearn-color-text: #000;\n",
       "  --sklearn-color-text-muted: #666;\n",
       "  --sklearn-color-line: gray;\n",
       "  /* Definition of color scheme for unfitted estimators */\n",
       "  --sklearn-color-unfitted-level-0: #fff5e6;\n",
       "  --sklearn-color-unfitted-level-1: #f6e4d2;\n",
       "  --sklearn-color-unfitted-level-2: #ffe0b3;\n",
       "  --sklearn-color-unfitted-level-3: chocolate;\n",
       "  /* Definition of color scheme for fitted estimators */\n",
       "  --sklearn-color-fitted-level-0: #f0f8ff;\n",
       "  --sklearn-color-fitted-level-1: #d4ebff;\n",
       "  --sklearn-color-fitted-level-2: #b3dbfd;\n",
       "  --sklearn-color-fitted-level-3: cornflowerblue;\n",
       "\n",
       "  /* Specific color for light theme */\n",
       "  --sklearn-color-text-on-default-background: var(--sg-text-color, var(--theme-code-foreground, var(--jp-content-font-color1, black)));\n",
       "  --sklearn-color-background: var(--sg-background-color, var(--theme-background, var(--jp-layout-color0, white)));\n",
       "  --sklearn-color-border-box: var(--sg-text-color, var(--theme-code-foreground, var(--jp-content-font-color1, black)));\n",
       "  --sklearn-color-icon: #696969;\n",
       "\n",
       "  @media (prefers-color-scheme: dark) {\n",
       "    /* Redefinition of color scheme for dark theme */\n",
       "    --sklearn-color-text-on-default-background: var(--sg-text-color, var(--theme-code-foreground, var(--jp-content-font-color1, white)));\n",
       "    --sklearn-color-background: var(--sg-background-color, var(--theme-background, var(--jp-layout-color0, #111)));\n",
       "    --sklearn-color-border-box: var(--sg-text-color, var(--theme-code-foreground, var(--jp-content-font-color1, white)));\n",
       "    --sklearn-color-icon: #878787;\n",
       "  }\n",
       "}\n",
       "\n",
       "#sk-container-id-1 {\n",
       "  color: var(--sklearn-color-text);\n",
       "}\n",
       "\n",
       "#sk-container-id-1 pre {\n",
       "  padding: 0;\n",
       "}\n",
       "\n",
       "#sk-container-id-1 input.sk-hidden--visually {\n",
       "  border: 0;\n",
       "  clip: rect(1px 1px 1px 1px);\n",
       "  clip: rect(1px, 1px, 1px, 1px);\n",
       "  height: 1px;\n",
       "  margin: -1px;\n",
       "  overflow: hidden;\n",
       "  padding: 0;\n",
       "  position: absolute;\n",
       "  width: 1px;\n",
       "}\n",
       "\n",
       "#sk-container-id-1 div.sk-dashed-wrapped {\n",
       "  border: 1px dashed var(--sklearn-color-line);\n",
       "  margin: 0 0.4em 0.5em 0.4em;\n",
       "  box-sizing: border-box;\n",
       "  padding-bottom: 0.4em;\n",
       "  background-color: var(--sklearn-color-background);\n",
       "}\n",
       "\n",
       "#sk-container-id-1 div.sk-container {\n",
       "  /* jupyter's `normalize.less` sets `[hidden] { display: none; }`\n",
       "     but bootstrap.min.css set `[hidden] { display: none !important; }`\n",
       "     so we also need the `!important` here to be able to override the\n",
       "     default hidden behavior on the sphinx rendered scikit-learn.org.\n",
       "     See: https://github.com/scikit-learn/scikit-learn/issues/21755 */\n",
       "  display: inline-block !important;\n",
       "  position: relative;\n",
       "}\n",
       "\n",
       "#sk-container-id-1 div.sk-text-repr-fallback {\n",
       "  display: none;\n",
       "}\n",
       "\n",
       "div.sk-parallel-item,\n",
       "div.sk-serial,\n",
       "div.sk-item {\n",
       "  /* draw centered vertical line to link estimators */\n",
       "  background-image: linear-gradient(var(--sklearn-color-text-on-default-background), var(--sklearn-color-text-on-default-background));\n",
       "  background-size: 2px 100%;\n",
       "  background-repeat: no-repeat;\n",
       "  background-position: center center;\n",
       "}\n",
       "\n",
       "/* Parallel-specific style estimator block */\n",
       "\n",
       "#sk-container-id-1 div.sk-parallel-item::after {\n",
       "  content: \"\";\n",
       "  width: 100%;\n",
       "  border-bottom: 2px solid var(--sklearn-color-text-on-default-background);\n",
       "  flex-grow: 1;\n",
       "}\n",
       "\n",
       "#sk-container-id-1 div.sk-parallel {\n",
       "  display: flex;\n",
       "  align-items: stretch;\n",
       "  justify-content: center;\n",
       "  background-color: var(--sklearn-color-background);\n",
       "  position: relative;\n",
       "}\n",
       "\n",
       "#sk-container-id-1 div.sk-parallel-item {\n",
       "  display: flex;\n",
       "  flex-direction: column;\n",
       "}\n",
       "\n",
       "#sk-container-id-1 div.sk-parallel-item:first-child::after {\n",
       "  align-self: flex-end;\n",
       "  width: 50%;\n",
       "}\n",
       "\n",
       "#sk-container-id-1 div.sk-parallel-item:last-child::after {\n",
       "  align-self: flex-start;\n",
       "  width: 50%;\n",
       "}\n",
       "\n",
       "#sk-container-id-1 div.sk-parallel-item:only-child::after {\n",
       "  width: 0;\n",
       "}\n",
       "\n",
       "/* Serial-specific style estimator block */\n",
       "\n",
       "#sk-container-id-1 div.sk-serial {\n",
       "  display: flex;\n",
       "  flex-direction: column;\n",
       "  align-items: center;\n",
       "  background-color: var(--sklearn-color-background);\n",
       "  padding-right: 1em;\n",
       "  padding-left: 1em;\n",
       "}\n",
       "\n",
       "\n",
       "/* Toggleable style: style used for estimator/Pipeline/ColumnTransformer box that is\n",
       "clickable and can be expanded/collapsed.\n",
       "- Pipeline and ColumnTransformer use this feature and define the default style\n",
       "- Estimators will overwrite some part of the style using the `sk-estimator` class\n",
       "*/\n",
       "\n",
       "/* Pipeline and ColumnTransformer style (default) */\n",
       "\n",
       "#sk-container-id-1 div.sk-toggleable {\n",
       "  /* Default theme specific background. It is overwritten whether we have a\n",
       "  specific estimator or a Pipeline/ColumnTransformer */\n",
       "  background-color: var(--sklearn-color-background);\n",
       "}\n",
       "\n",
       "/* Toggleable label */\n",
       "#sk-container-id-1 label.sk-toggleable__label {\n",
       "  cursor: pointer;\n",
       "  display: flex;\n",
       "  width: 100%;\n",
       "  margin-bottom: 0;\n",
       "  padding: 0.5em;\n",
       "  box-sizing: border-box;\n",
       "  text-align: center;\n",
       "  align-items: start;\n",
       "  justify-content: space-between;\n",
       "  gap: 0.5em;\n",
       "}\n",
       "\n",
       "#sk-container-id-1 label.sk-toggleable__label .caption {\n",
       "  font-size: 0.6rem;\n",
       "  font-weight: lighter;\n",
       "  color: var(--sklearn-color-text-muted);\n",
       "}\n",
       "\n",
       "#sk-container-id-1 label.sk-toggleable__label-arrow:before {\n",
       "  /* Arrow on the left of the label */\n",
       "  content: \"▸\";\n",
       "  float: left;\n",
       "  margin-right: 0.25em;\n",
       "  color: var(--sklearn-color-icon);\n",
       "}\n",
       "\n",
       "#sk-container-id-1 label.sk-toggleable__label-arrow:hover:before {\n",
       "  color: var(--sklearn-color-text);\n",
       "}\n",
       "\n",
       "/* Toggleable content - dropdown */\n",
       "\n",
       "#sk-container-id-1 div.sk-toggleable__content {\n",
       "  max-height: 0;\n",
       "  max-width: 0;\n",
       "  overflow: hidden;\n",
       "  text-align: left;\n",
       "  /* unfitted */\n",
       "  background-color: var(--sklearn-color-unfitted-level-0);\n",
       "}\n",
       "\n",
       "#sk-container-id-1 div.sk-toggleable__content.fitted {\n",
       "  /* fitted */\n",
       "  background-color: var(--sklearn-color-fitted-level-0);\n",
       "}\n",
       "\n",
       "#sk-container-id-1 div.sk-toggleable__content pre {\n",
       "  margin: 0.2em;\n",
       "  border-radius: 0.25em;\n",
       "  color: var(--sklearn-color-text);\n",
       "  /* unfitted */\n",
       "  background-color: var(--sklearn-color-unfitted-level-0);\n",
       "}\n",
       "\n",
       "#sk-container-id-1 div.sk-toggleable__content.fitted pre {\n",
       "  /* unfitted */\n",
       "  background-color: var(--sklearn-color-fitted-level-0);\n",
       "}\n",
       "\n",
       "#sk-container-id-1 input.sk-toggleable__control:checked~div.sk-toggleable__content {\n",
       "  /* Expand drop-down */\n",
       "  max-height: 200px;\n",
       "  max-width: 100%;\n",
       "  overflow: auto;\n",
       "}\n",
       "\n",
       "#sk-container-id-1 input.sk-toggleable__control:checked~label.sk-toggleable__label-arrow:before {\n",
       "  content: \"▾\";\n",
       "}\n",
       "\n",
       "/* Pipeline/ColumnTransformer-specific style */\n",
       "\n",
       "#sk-container-id-1 div.sk-label input.sk-toggleable__control:checked~label.sk-toggleable__label {\n",
       "  color: var(--sklearn-color-text);\n",
       "  background-color: var(--sklearn-color-unfitted-level-2);\n",
       "}\n",
       "\n",
       "#sk-container-id-1 div.sk-label.fitted input.sk-toggleable__control:checked~label.sk-toggleable__label {\n",
       "  background-color: var(--sklearn-color-fitted-level-2);\n",
       "}\n",
       "\n",
       "/* Estimator-specific style */\n",
       "\n",
       "/* Colorize estimator box */\n",
       "#sk-container-id-1 div.sk-estimator input.sk-toggleable__control:checked~label.sk-toggleable__label {\n",
       "  /* unfitted */\n",
       "  background-color: var(--sklearn-color-unfitted-level-2);\n",
       "}\n",
       "\n",
       "#sk-container-id-1 div.sk-estimator.fitted input.sk-toggleable__control:checked~label.sk-toggleable__label {\n",
       "  /* fitted */\n",
       "  background-color: var(--sklearn-color-fitted-level-2);\n",
       "}\n",
       "\n",
       "#sk-container-id-1 div.sk-label label.sk-toggleable__label,\n",
       "#sk-container-id-1 div.sk-label label {\n",
       "  /* The background is the default theme color */\n",
       "  color: var(--sklearn-color-text-on-default-background);\n",
       "}\n",
       "\n",
       "/* On hover, darken the color of the background */\n",
       "#sk-container-id-1 div.sk-label:hover label.sk-toggleable__label {\n",
       "  color: var(--sklearn-color-text);\n",
       "  background-color: var(--sklearn-color-unfitted-level-2);\n",
       "}\n",
       "\n",
       "/* Label box, darken color on hover, fitted */\n",
       "#sk-container-id-1 div.sk-label.fitted:hover label.sk-toggleable__label.fitted {\n",
       "  color: var(--sklearn-color-text);\n",
       "  background-color: var(--sklearn-color-fitted-level-2);\n",
       "}\n",
       "\n",
       "/* Estimator label */\n",
       "\n",
       "#sk-container-id-1 div.sk-label label {\n",
       "  font-family: monospace;\n",
       "  font-weight: bold;\n",
       "  display: inline-block;\n",
       "  line-height: 1.2em;\n",
       "}\n",
       "\n",
       "#sk-container-id-1 div.sk-label-container {\n",
       "  text-align: center;\n",
       "}\n",
       "\n",
       "/* Estimator-specific */\n",
       "#sk-container-id-1 div.sk-estimator {\n",
       "  font-family: monospace;\n",
       "  border: 1px dotted var(--sklearn-color-border-box);\n",
       "  border-radius: 0.25em;\n",
       "  box-sizing: border-box;\n",
       "  margin-bottom: 0.5em;\n",
       "  /* unfitted */\n",
       "  background-color: var(--sklearn-color-unfitted-level-0);\n",
       "}\n",
       "\n",
       "#sk-container-id-1 div.sk-estimator.fitted {\n",
       "  /* fitted */\n",
       "  background-color: var(--sklearn-color-fitted-level-0);\n",
       "}\n",
       "\n",
       "/* on hover */\n",
       "#sk-container-id-1 div.sk-estimator:hover {\n",
       "  /* unfitted */\n",
       "  background-color: var(--sklearn-color-unfitted-level-2);\n",
       "}\n",
       "\n",
       "#sk-container-id-1 div.sk-estimator.fitted:hover {\n",
       "  /* fitted */\n",
       "  background-color: var(--sklearn-color-fitted-level-2);\n",
       "}\n",
       "\n",
       "/* Specification for estimator info (e.g. \"i\" and \"?\") */\n",
       "\n",
       "/* Common style for \"i\" and \"?\" */\n",
       "\n",
       ".sk-estimator-doc-link,\n",
       "a:link.sk-estimator-doc-link,\n",
       "a:visited.sk-estimator-doc-link {\n",
       "  float: right;\n",
       "  font-size: smaller;\n",
       "  line-height: 1em;\n",
       "  font-family: monospace;\n",
       "  background-color: var(--sklearn-color-background);\n",
       "  border-radius: 1em;\n",
       "  height: 1em;\n",
       "  width: 1em;\n",
       "  text-decoration: none !important;\n",
       "  margin-left: 0.5em;\n",
       "  text-align: center;\n",
       "  /* unfitted */\n",
       "  border: var(--sklearn-color-unfitted-level-1) 1pt solid;\n",
       "  color: var(--sklearn-color-unfitted-level-1);\n",
       "}\n",
       "\n",
       ".sk-estimator-doc-link.fitted,\n",
       "a:link.sk-estimator-doc-link.fitted,\n",
       "a:visited.sk-estimator-doc-link.fitted {\n",
       "  /* fitted */\n",
       "  border: var(--sklearn-color-fitted-level-1) 1pt solid;\n",
       "  color: var(--sklearn-color-fitted-level-1);\n",
       "}\n",
       "\n",
       "/* On hover */\n",
       "div.sk-estimator:hover .sk-estimator-doc-link:hover,\n",
       ".sk-estimator-doc-link:hover,\n",
       "div.sk-label-container:hover .sk-estimator-doc-link:hover,\n",
       ".sk-estimator-doc-link:hover {\n",
       "  /* unfitted */\n",
       "  background-color: var(--sklearn-color-unfitted-level-3);\n",
       "  color: var(--sklearn-color-background);\n",
       "  text-decoration: none;\n",
       "}\n",
       "\n",
       "div.sk-estimator.fitted:hover .sk-estimator-doc-link.fitted:hover,\n",
       ".sk-estimator-doc-link.fitted:hover,\n",
       "div.sk-label-container:hover .sk-estimator-doc-link.fitted:hover,\n",
       ".sk-estimator-doc-link.fitted:hover {\n",
       "  /* fitted */\n",
       "  background-color: var(--sklearn-color-fitted-level-3);\n",
       "  color: var(--sklearn-color-background);\n",
       "  text-decoration: none;\n",
       "}\n",
       "\n",
       "/* Span, style for the box shown on hovering the info icon */\n",
       ".sk-estimator-doc-link span {\n",
       "  display: none;\n",
       "  z-index: 9999;\n",
       "  position: relative;\n",
       "  font-weight: normal;\n",
       "  right: .2ex;\n",
       "  padding: .5ex;\n",
       "  margin: .5ex;\n",
       "  width: min-content;\n",
       "  min-width: 20ex;\n",
       "  max-width: 50ex;\n",
       "  color: var(--sklearn-color-text);\n",
       "  box-shadow: 2pt 2pt 4pt #999;\n",
       "  /* unfitted */\n",
       "  background: var(--sklearn-color-unfitted-level-0);\n",
       "  border: .5pt solid var(--sklearn-color-unfitted-level-3);\n",
       "}\n",
       "\n",
       ".sk-estimator-doc-link.fitted span {\n",
       "  /* fitted */\n",
       "  background: var(--sklearn-color-fitted-level-0);\n",
       "  border: var(--sklearn-color-fitted-level-3);\n",
       "}\n",
       "\n",
       ".sk-estimator-doc-link:hover span {\n",
       "  display: block;\n",
       "}\n",
       "\n",
       "/* \"?\"-specific style due to the `<a>` HTML tag */\n",
       "\n",
       "#sk-container-id-1 a.estimator_doc_link {\n",
       "  float: right;\n",
       "  font-size: 1rem;\n",
       "  line-height: 1em;\n",
       "  font-family: monospace;\n",
       "  background-color: var(--sklearn-color-background);\n",
       "  border-radius: 1rem;\n",
       "  height: 1rem;\n",
       "  width: 1rem;\n",
       "  text-decoration: none;\n",
       "  /* unfitted */\n",
       "  color: var(--sklearn-color-unfitted-level-1);\n",
       "  border: var(--sklearn-color-unfitted-level-1) 1pt solid;\n",
       "}\n",
       "\n",
       "#sk-container-id-1 a.estimator_doc_link.fitted {\n",
       "  /* fitted */\n",
       "  border: var(--sklearn-color-fitted-level-1) 1pt solid;\n",
       "  color: var(--sklearn-color-fitted-level-1);\n",
       "}\n",
       "\n",
       "/* On hover */\n",
       "#sk-container-id-1 a.estimator_doc_link:hover {\n",
       "  /* unfitted */\n",
       "  background-color: var(--sklearn-color-unfitted-level-3);\n",
       "  color: var(--sklearn-color-background);\n",
       "  text-decoration: none;\n",
       "}\n",
       "\n",
       "#sk-container-id-1 a.estimator_doc_link.fitted:hover {\n",
       "  /* fitted */\n",
       "  background-color: var(--sklearn-color-fitted-level-3);\n",
       "}\n",
       "</style><div id=\"sk-container-id-1\" class=\"sk-top-container\"><div class=\"sk-text-repr-fallback\"><pre>Pipeline(steps=[(&#x27;tfidfvectorizer&#x27;, TfidfVectorizer(max_features=1500)),\n",
       "                (&#x27;multinomialnb&#x27;, MultinomialNB())])</pre><b>In a Jupyter environment, please rerun this cell to show the HTML representation or trust the notebook. <br />On GitHub, the HTML representation is unable to render, please try loading this page with nbviewer.org.</b></div><div class=\"sk-container\" hidden><div class=\"sk-item sk-dashed-wrapped\"><div class=\"sk-label-container\"><div class=\"sk-label fitted sk-toggleable\"><input class=\"sk-toggleable__control sk-hidden--visually\" id=\"sk-estimator-id-1\" type=\"checkbox\" ><label for=\"sk-estimator-id-1\" class=\"sk-toggleable__label fitted sk-toggleable__label-arrow\"><div><div>Pipeline</div></div><div><a class=\"sk-estimator-doc-link fitted\" rel=\"noreferrer\" target=\"_blank\" href=\"https://scikit-learn.org/1.6/modules/generated/sklearn.pipeline.Pipeline.html\">?<span>Documentation for Pipeline</span></a><span class=\"sk-estimator-doc-link fitted\">i<span>Fitted</span></span></div></label><div class=\"sk-toggleable__content fitted\"><pre>Pipeline(steps=[(&#x27;tfidfvectorizer&#x27;, TfidfVectorizer(max_features=1500)),\n",
       "                (&#x27;multinomialnb&#x27;, MultinomialNB())])</pre></div> </div></div><div class=\"sk-serial\"><div class=\"sk-item\"><div class=\"sk-estimator fitted sk-toggleable\"><input class=\"sk-toggleable__control sk-hidden--visually\" id=\"sk-estimator-id-2\" type=\"checkbox\" ><label for=\"sk-estimator-id-2\" class=\"sk-toggleable__label fitted sk-toggleable__label-arrow\"><div><div>TfidfVectorizer</div></div><div><a class=\"sk-estimator-doc-link fitted\" rel=\"noreferrer\" target=\"_blank\" href=\"https://scikit-learn.org/1.6/modules/generated/sklearn.feature_extraction.text.TfidfVectorizer.html\">?<span>Documentation for TfidfVectorizer</span></a></div></label><div class=\"sk-toggleable__content fitted\"><pre>TfidfVectorizer(max_features=1500)</pre></div> </div></div><div class=\"sk-item\"><div class=\"sk-estimator fitted sk-toggleable\"><input class=\"sk-toggleable__control sk-hidden--visually\" id=\"sk-estimator-id-3\" type=\"checkbox\" ><label for=\"sk-estimator-id-3\" class=\"sk-toggleable__label fitted sk-toggleable__label-arrow\"><div><div>MultinomialNB</div></div><div><a class=\"sk-estimator-doc-link fitted\" rel=\"noreferrer\" target=\"_blank\" href=\"https://scikit-learn.org/1.6/modules/generated/sklearn.naive_bayes.MultinomialNB.html\">?<span>Documentation for MultinomialNB</span></a></div></label><div class=\"sk-toggleable__content fitted\"><pre>MultinomialNB()</pre></div> </div></div></div></div></div></div>"
      ],
      "text/plain": [
       "Pipeline(steps=[('tfidfvectorizer', TfidfVectorizer(max_features=1500)),\n",
       "                ('multinomialnb', MultinomialNB())])"
      ]
     },
     "execution_count": 26,
     "metadata": {},
     "output_type": "execute_result"
    }
   ],
   "source": [
    "import sklearn\n",
    "from sklearn.pipeline import make_pipeline\n",
    "\n",
    "# for Naïve Bayes\n",
    "from sklearn.feature_extraction.text import TfidfVectorizer\n",
    "from sklearn.naive_bayes import MultinomialNB\n",
    "\n",
    "# will consist of 2 steps\n",
    "# step 1: feature extraction through tf-idf\n",
    "# step 2: naive bayes multinomial model\n",
    "period2_nbc = make_pipeline(TfidfVectorizer(max_features = 1500), MultinomialNB())\n",
    "\n",
    "# fitting and training model through pipeline \n",
    "period2_nbc.fit(docs_train, y_train) # fitting model (training sents, target labels)"
   ]
  },
  {
   "cell_type": "code",
   "execution_count": 27,
   "id": "96dede5d-4bf9-4d04-99c3-317134349270",
   "metadata": {},
   "outputs": [],
   "source": [
    "# creating predicted labels\n",
    "y_pred_prompt_nb = period2_nbc.predict(docs_test)"
   ]
  },
  {
   "cell_type": "code",
   "execution_count": 28,
   "id": "edc604d6-3f01-4a5d-bd6c-787f84d638ab",
   "metadata": {},
   "outputs": [],
   "source": [
    "# evaluating\n",
    "from sklearn.metrics import confusion_matrix\n",
    "import seaborn as sns\n",
    "from sklearn.metrics import accuracy_score"
   ]
  },
  {
   "cell_type": "code",
   "execution_count": 29,
   "id": "26fa80dc-670b-4076-8c22-1da7c70f574d",
   "metadata": {},
   "outputs": [
    {
     "data": {
      "text/plain": [
       "0.9908904633767003"
      ]
     },
     "execution_count": 29,
     "metadata": {},
     "output_type": "execute_result"
    }
   ],
   "source": [
    "# checking accuracy score\n",
    "accuracy_score(y_test, y_pred_prompt_nb)"
   ]
  },
  {
   "cell_type": "markdown",
   "id": "4fd33932-706d-4f73-9e26-93339b39df12",
   "metadata": {},
   "source": [
    "**Comment:** The performance is slightly better than if we just tagged everything as the most likely tag from the baseline which is 1985a. It has an accuracy of 99% compared to the baseline of 98%, which means that the tf-idf features do in fact help the classifier tag sentences as belonging to before 1926 or after 1985. \n",
    "\n",
    "Let's now take a look at where the errors are with a confusion matrix:"
   ]
  },
  {
   "cell_type": "code",
   "execution_count": 30,
   "id": "0c3a2918-c7c5-496c-8895-d76353ca8c9e",
   "metadata": {},
   "outputs": [
    {
     "data": {
      "text/plain": [
       "<function matplotlib.pyplot.show(close=None, block=None)>"
      ]
     },
     "execution_count": 30,
     "metadata": {},
     "output_type": "execute_result"
    },
    {
     "data": {
      "image/png": "[encoded data removed]",
      "text/plain": [
       "<Figure size 400x400 with 2 Axes>"
      ]
     },
     "metadata": {},
     "output_type": "display_data"
    }
   ],
   "source": [
    "import matplotlib.pyplot as plt\n",
    "mtrx_prompt_nb = confusion_matrix(y_test, y_pred_prompt_nb)\n",
    "# plotting confusion matrix\n",
    "plt.figure(figsize = (4, 4))\n",
    "sns.heatmap(mtrx_prompt_nb, square = True, annot = True, fmt = 'd', cmap = \"Blues\", \n",
    "            xticklabels= sorted(set(y_train)), yticklabels= sorted(set(y_pred_prompt_nb)))\n",
    "plt.xlabel(\"predicted label\")\n",
    "plt.ylabel(\"true label\")\n",
    "plt.show"
   ]
  },
  {
   "cell_type": "markdown",
   "id": "8e12c605-52d9-4358-8cdf-3e87e2b26c0b",
   "metadata": {},
   "source": [
    "**Comment:** It seems like there are only 9 out of 39918 sentences that have been wrongly tagged as texts from after 1985 that were written before, which means that only 2 out of every 100 sentences are wrongly tagged into the after 1985 group but were written before 1925.\\\n",
    "For sentences written before 1926 out of 589 sentences 229 were wrongly tagged as written after 1985. This is about 38% of the sentences.\\\n",
    "This results are not surprising considering that we had a lot more sentences from the later period to train the classifier with.\\\n",
    "However, this matrix allows us to see why the model outperformed what tagging according to the baseline would give us. In that case all 39918 sentences written after 1985 would have been correctly tagged, so the 2% error wouldn't be present. However, none of the 589 sentences written before 1926 would have been correcly tagged, making it a bit worse in accuracy than the Naive Bayes classification with Tf-idf features. "
   ]
  },
  {
   "cell_type": "code",
   "execution_count": 31,
   "id": "65b3baf4-71fa-4b2a-b324-66295848d8c1",
   "metadata": {},
   "outputs": [],
   "source": [
    "# how to take a look at the features"
   ]
  },
  {
   "cell_type": "markdown",
   "id": "3cf65d40-5731-4b7c-9a72-584c1e5a27b1",
   "metadata": {},
   "source": [
    "### B. Tf-Idf Naive Bayes for 3 period classification"
   ]
  },
  {
   "cell_type": "markdown",
   "id": "aafc5b58-6b75-4c6b-a7bf-a2c287257f99",
   "metadata": {},
   "source": [
    "Next we will try to break down the time periods in smaller periods so that the baseline is not as high."
   ]
  },
  {
   "cell_type": "code",
   "execution_count": 32,
   "id": "d8904ba5-c9b3-488c-9736-1c85bd634a1d",
   "metadata": {},
   "outputs": [
    {
     "data": {
      "text/plain": [
       "2003.5"
      ]
     },
     "execution_count": 32,
     "metadata": {},
     "output_type": "execute_result"
    }
   ],
   "source": [
    "# looking were to break down the second, more data-extensive period\n",
    "np.median([2022, 1985])"
   ]
  },
  {
   "cell_type": "markdown",
   "id": "a3675a1b-5368-41e7-9b57-ef799676176b",
   "metadata": {},
   "source": [
    "**Comment:** Since we had a lot more data in the second period we will now break down the second and most recent time period in 2 shorter periods right down the median which is 2003.5, so we will do from 1985 to 2003 and from 2004 until 2022. We will kepp the period from before 1926 as a single time period."
   ]
  },
  {
   "cell_type": "code",
   "execution_count": 33,
   "id": "0a801df5-e9b1-422c-868e-b903a349e600",
   "metadata": {},
   "outputs": [],
   "source": [
    "# breaking down our data in:\n",
    "# before 1926 (inclusive), between 1985 and 2004 (not ending inclusive), after 2004 (inclusive)\n",
    "def period3_tagger(year):\n",
    "    if year <= 1926:\n",
    "        return \"old\"\n",
    "    elif year >= 1985 and year < 2004:\n",
    "        return \"mid\"\n",
    "    elif year >= 2004:\n",
    "        return \"recent\"\n",
    "    else:\n",
    "        print(year) #printing any years not in that range to check"
   ]
  },
  {
   "cell_type": "code",
   "execution_count": 34,
   "id": "4d67c973-8275-4e94-80e2-329485fdb2e1",
   "metadata": {},
   "outputs": [],
   "source": [
    "senttok_df[\"Period3\"] = senttok_df[\"Year\"].apply(period3_tagger)"
   ]
  },
  {
   "cell_type": "code",
   "execution_count": 35,
   "id": "47588448-0de5-48f0-87b3-58d0d0c5747f",
   "metadata": {},
   "outputs": [],
   "source": [
    "# tagging the sentences\n",
    "senttok_df[\"tagged_sents\"] = senttok_df.apply(lambda row: tag_sents(row[\"Sent_toks\"], row[\"Period3\"]), axis=1)"
   ]
  },
  {
   "cell_type": "code",
   "execution_count": 36,
   "id": "ec09f30a-5a03-4c99-980e-de33fa62a274",
   "metadata": {},
   "outputs": [],
   "source": [
    "# creating a function to tag the sentences\n",
    "def tag_sents(sent_list, period3_tag):\n",
    "    return ([(s, period3_tag) for s in sent_list])"
   ]
  },
  {
   "cell_type": "code",
   "execution_count": 37,
   "id": "c439e85c-2d1b-48e2-ac55-5997023181ba",
   "metadata": {},
   "outputs": [],
   "source": [
    "# separating them into two lists\n",
    "sents_old = [sent for sentence_list in senttok_df[\"tagged_sents\"] for sent in sentence_list if sent[1]==\"old\"]\n",
    "sents_mid = [sent for sentence_list in senttok_df[\"tagged_sents\"] for sent in sentence_list if sent[1]==\"mid\"]\n",
    "sents_recent = [sent for sentence_list in senttok_df[\"tagged_sents\"] for sent in sentence_list if sent[1]==\"recent\"]"
   ]
  },
  {
   "cell_type": "code",
   "execution_count": 38,
   "id": "4b53a2be-7813-4847-8ff6-40cf2c3ee6d5",
   "metadata": {},
   "outputs": [
    {
     "data": {
      "text/plain": [
       "('perquè que el president de catalunya sigui rebut pel president de la comissió europea',\n",
       " 'recent')"
      ]
     },
     "execution_count": 38,
     "metadata": {},
     "output_type": "execute_result"
    }
   ],
   "source": [
    "sents_recent[0]"
   ]
  },
  {
   "cell_type": "code",
   "execution_count": 39,
   "id": "25cb731e-dbb7-475a-a9f3-a0233c5a8fa4",
   "metadata": {},
   "outputs": [
    {
     "name": "stdout",
     "output_type": "stream",
     "text": [
      "162025 40507\n",
      "162025 40507\n",
      "\n",
      "['mid', 'old', 'recent']\n",
      "['mid', 'old', 'recent']\n"
     ]
    }
   ],
   "source": [
    "# concatenating the two tagged sentence lists\n",
    "sents = sents_old+sents_mid+sents_recent\n",
    "\n",
    "# randomizing the lists after concatenation\n",
    "import random\n",
    "random.Random(10).shuffle(sents)\n",
    "\n",
    "# turning the tagged sents lists into a dataframe\n",
    "tagged_df = pd.DataFrame(sents, columns=[\"sentence\", \"tag\"])\n",
    "\n",
    "# creating traning and testing partitions\n",
    "from sklearn.model_selection import train_test_split\n",
    "docs_train, docs_test, y_train, y_test = train_test_split(tagged_df[\"sentence\"], tagged_df[\"tag\"], test_size = 0.20, random_state = 0)\n",
    "\n",
    "# examining resulting partitions \n",
    "print(len(docs_train), len(docs_test))\n",
    "print(len(y_train), len(y_test))\n",
    "print()\n",
    "print(sorted(set(y_train)))\n",
    "print(sorted(set(y_test)))"
   ]
  },
  {
   "cell_type": "code",
   "execution_count": 40,
   "id": "df30a6a2-e167-41fb-adc2-3a48a1528cda",
   "metadata": {},
   "outputs": [
    {
     "data": {
      "text/html": [
       "<style>#sk-container-id-2 {\n",
       "  /* Definition of color scheme common for light and dark mode */\n",
       "  --sklearn-color-text: #000;\n",
       "  --sklearn-color-text-muted: #666;\n",
       "  --sklearn-color-line: gray;\n",
       "  /* Definition of color scheme for unfitted estimators */\n",
       "  --sklearn-color-unfitted-level-0: #fff5e6;\n",
       "  --sklearn-color-unfitted-level-1: #f6e4d2;\n",
       "  --sklearn-color-unfitted-level-2: #ffe0b3;\n",
       "  --sklearn-color-unfitted-level-3: chocolate;\n",
       "  /* Definition of color scheme for fitted estimators */\n",
       "  --sklearn-color-fitted-level-0: #f0f8ff;\n",
       "  --sklearn-color-fitted-level-1: #d4ebff;\n",
       "  --sklearn-color-fitted-level-2: #b3dbfd;\n",
       "  --sklearn-color-fitted-level-3: cornflowerblue;\n",
       "\n",
       "  /* Specific color for light theme */\n",
       "  --sklearn-color-text-on-default-background: var(--sg-text-color, var(--theme-code-foreground, var(--jp-content-font-color1, black)));\n",
       "  --sklearn-color-background: var(--sg-background-color, var(--theme-background, var(--jp-layout-color0, white)));\n",
       "  --sklearn-color-border-box: var(--sg-text-color, var(--theme-code-foreground, var(--jp-content-font-color1, black)));\n",
       "  --sklearn-color-icon: #696969;\n",
       "\n",
       "  @media (prefers-color-scheme: dark) {\n",
       "    /* Redefinition of color scheme for dark theme */\n",
       "    --sklearn-color-text-on-default-background: var(--sg-text-color, var(--theme-code-foreground, var(--jp-content-font-color1, white)));\n",
       "    --sklearn-color-background: var(--sg-background-color, var(--theme-background, var(--jp-layout-color0, #111)));\n",
       "    --sklearn-color-border-box: var(--sg-text-color, var(--theme-code-foreground, var(--jp-content-font-color1, white)));\n",
       "    --sklearn-color-icon: #878787;\n",
       "  }\n",
       "}\n",
       "\n",
       "#sk-container-id-2 {\n",
       "  color: var(--sklearn-color-text);\n",
       "}\n",
       "\n",
       "#sk-container-id-2 pre {\n",
       "  padding: 0;\n",
       "}\n",
       "\n",
       "#sk-container-id-2 input.sk-hidden--visually {\n",
       "  border: 0;\n",
       "  clip: rect(1px 1px 1px 1px);\n",
       "  clip: rect(1px, 1px, 1px, 1px);\n",
       "  height: 1px;\n",
       "  margin: -1px;\n",
       "  overflow: hidden;\n",
       "  padding: 0;\n",
       "  position: absolute;\n",
       "  width: 1px;\n",
       "}\n",
       "\n",
       "#sk-container-id-2 div.sk-dashed-wrapped {\n",
       "  border: 1px dashed var(--sklearn-color-line);\n",
       "  margin: 0 0.4em 0.5em 0.4em;\n",
       "  box-sizing: border-box;\n",
       "  padding-bottom: 0.4em;\n",
       "  background-color: var(--sklearn-color-background);\n",
       "}\n",
       "\n",
       "#sk-container-id-2 div.sk-container {\n",
       "  /* jupyter's `normalize.less` sets `[hidden] { display: none; }`\n",
       "     but bootstrap.min.css set `[hidden] { display: none !important; }`\n",
       "     so we also need the `!important` here to be able to override the\n",
       "     default hidden behavior on the sphinx rendered scikit-learn.org.\n",
       "     See: https://github.com/scikit-learn/scikit-learn/issues/21755 */\n",
       "  display: inline-block !important;\n",
       "  position: relative;\n",
       "}\n",
       "\n",
       "#sk-container-id-2 div.sk-text-repr-fallback {\n",
       "  display: none;\n",
       "}\n",
       "\n",
       "div.sk-parallel-item,\n",
       "div.sk-serial,\n",
       "div.sk-item {\n",
       "  /* draw centered vertical line to link estimators */\n",
       "  background-image: linear-gradient(var(--sklearn-color-text-on-default-background), var(--sklearn-color-text-on-default-background));\n",
       "  background-size: 2px 100%;\n",
       "  background-repeat: no-repeat;\n",
       "  background-position: center center;\n",
       "}\n",
       "\n",
       "/* Parallel-specific style estimator block */\n",
       "\n",
       "#sk-container-id-2 div.sk-parallel-item::after {\n",
       "  content: \"\";\n",
       "  width: 100%;\n",
       "  border-bottom: 2px solid var(--sklearn-color-text-on-default-background);\n",
       "  flex-grow: 1;\n",
       "}\n",
       "\n",
       "#sk-container-id-2 div.sk-parallel {\n",
       "  display: flex;\n",
       "  align-items: stretch;\n",
       "  justify-content: center;\n",
       "  background-color: var(--sklearn-color-background);\n",
       "  position: relative;\n",
       "}\n",
       "\n",
       "#sk-container-id-2 div.sk-parallel-item {\n",
       "  display: flex;\n",
       "  flex-direction: column;\n",
       "}\n",
       "\n",
       "#sk-container-id-2 div.sk-parallel-item:first-child::after {\n",
       "  align-self: flex-end;\n",
       "  width: 50%;\n",
       "}\n",
       "\n",
       "#sk-container-id-2 div.sk-parallel-item:last-child::after {\n",
       "  align-self: flex-start;\n",
       "  width: 50%;\n",
       "}\n",
       "\n",
       "#sk-container-id-2 div.sk-parallel-item:only-child::after {\n",
       "  width: 0;\n",
       "}\n",
       "\n",
       "/* Serial-specific style estimator block */\n",
       "\n",
       "#sk-container-id-2 div.sk-serial {\n",
       "  display: flex;\n",
       "  flex-direction: column;\n",
       "  align-items: center;\n",
       "  background-color: var(--sklearn-color-background);\n",
       "  padding-right: 1em;\n",
       "  padding-left: 1em;\n",
       "}\n",
       "\n",
       "\n",
       "/* Toggleable style: style used for estimator/Pipeline/ColumnTransformer box that is\n",
       "clickable and can be expanded/collapsed.\n",
       "- Pipeline and ColumnTransformer use this feature and define the default style\n",
       "- Estimators will overwrite some part of the style using the `sk-estimator` class\n",
       "*/\n",
       "\n",
       "/* Pipeline and ColumnTransformer style (default) */\n",
       "\n",
       "#sk-container-id-2 div.sk-toggleable {\n",
       "  /* Default theme specific background. It is overwritten whether we have a\n",
       "  specific estimator or a Pipeline/ColumnTransformer */\n",
       "  background-color: var(--sklearn-color-background);\n",
       "}\n",
       "\n",
       "/* Toggleable label */\n",
       "#sk-container-id-2 label.sk-toggleable__label {\n",
       "  cursor: pointer;\n",
       "  display: flex;\n",
       "  width: 100%;\n",
       "  margin-bottom: 0;\n",
       "  padding: 0.5em;\n",
       "  box-sizing: border-box;\n",
       "  text-align: center;\n",
       "  align-items: start;\n",
       "  justify-content: space-between;\n",
       "  gap: 0.5em;\n",
       "}\n",
       "\n",
       "#sk-container-id-2 label.sk-toggleable__label .caption {\n",
       "  font-size: 0.6rem;\n",
       "  font-weight: lighter;\n",
       "  color: var(--sklearn-color-text-muted);\n",
       "}\n",
       "\n",
       "#sk-container-id-2 label.sk-toggleable__label-arrow:before {\n",
       "  /* Arrow on the left of the label */\n",
       "  content: \"▸\";\n",
       "  float: left;\n",
       "  margin-right: 0.25em;\n",
       "  color: var(--sklearn-color-icon);\n",
       "}\n",
       "\n",
       "#sk-container-id-2 label.sk-toggleable__label-arrow:hover:before {\n",
       "  color: var(--sklearn-color-text);\n",
       "}\n",
       "\n",
       "/* Toggleable content - dropdown */\n",
       "\n",
       "#sk-container-id-2 div.sk-toggleable__content {\n",
       "  max-height: 0;\n",
       "  max-width: 0;\n",
       "  overflow: hidden;\n",
       "  text-align: left;\n",
       "  /* unfitted */\n",
       "  background-color: var(--sklearn-color-unfitted-level-0);\n",
       "}\n",
       "\n",
       "#sk-container-id-2 div.sk-toggleable__content.fitted {\n",
       "  /* fitted */\n",
       "  background-color: var(--sklearn-color-fitted-level-0);\n",
       "}\n",
       "\n",
       "#sk-container-id-2 div.sk-toggleable__content pre {\n",
       "  margin: 0.2em;\n",
       "  border-radius: 0.25em;\n",
       "  color: var(--sklearn-color-text);\n",
       "  /* unfitted */\n",
       "  background-color: var(--sklearn-color-unfitted-level-0);\n",
       "}\n",
       "\n",
       "#sk-container-id-2 div.sk-toggleable__content.fitted pre {\n",
       "  /* unfitted */\n",
       "  background-color: var(--sklearn-color-fitted-level-0);\n",
       "}\n",
       "\n",
       "#sk-container-id-2 input.sk-toggleable__control:checked~div.sk-toggleable__content {\n",
       "  /* Expand drop-down */\n",
       "  max-height: 200px;\n",
       "  max-width: 100%;\n",
       "  overflow: auto;\n",
       "}\n",
       "\n",
       "#sk-container-id-2 input.sk-toggleable__control:checked~label.sk-toggleable__label-arrow:before {\n",
       "  content: \"▾\";\n",
       "}\n",
       "\n",
       "/* Pipeline/ColumnTransformer-specific style */\n",
       "\n",
       "#sk-container-id-2 div.sk-label input.sk-toggleable__control:checked~label.sk-toggleable__label {\n",
       "  color: var(--sklearn-color-text);\n",
       "  background-color: var(--sklearn-color-unfitted-level-2);\n",
       "}\n",
       "\n",
       "#sk-container-id-2 div.sk-label.fitted input.sk-toggleable__control:checked~label.sk-toggleable__label {\n",
       "  background-color: var(--sklearn-color-fitted-level-2);\n",
       "}\n",
       "\n",
       "/* Estimator-specific style */\n",
       "\n",
       "/* Colorize estimator box */\n",
       "#sk-container-id-2 div.sk-estimator input.sk-toggleable__control:checked~label.sk-toggleable__label {\n",
       "  /* unfitted */\n",
       "  background-color: var(--sklearn-color-unfitted-level-2);\n",
       "}\n",
       "\n",
       "#sk-container-id-2 div.sk-estimator.fitted input.sk-toggleable__control:checked~label.sk-toggleable__label {\n",
       "  /* fitted */\n",
       "  background-color: var(--sklearn-color-fitted-level-2);\n",
       "}\n",
       "\n",
       "#sk-container-id-2 div.sk-label label.sk-toggleable__label,\n",
       "#sk-container-id-2 div.sk-label label {\n",
       "  /* The background is the default theme color */\n",
       "  color: var(--sklearn-color-text-on-default-background);\n",
       "}\n",
       "\n",
       "/* On hover, darken the color of the background */\n",
       "#sk-container-id-2 div.sk-label:hover label.sk-toggleable__label {\n",
       "  color: var(--sklearn-color-text);\n",
       "  background-color: var(--sklearn-color-unfitted-level-2);\n",
       "}\n",
       "\n",
       "/* Label box, darken color on hover, fitted */\n",
       "#sk-container-id-2 div.sk-label.fitted:hover label.sk-toggleable__label.fitted {\n",
       "  color: var(--sklearn-color-text);\n",
       "  background-color: var(--sklearn-color-fitted-level-2);\n",
       "}\n",
       "\n",
       "/* Estimator label */\n",
       "\n",
       "#sk-container-id-2 div.sk-label label {\n",
       "  font-family: monospace;\n",
       "  font-weight: bold;\n",
       "  display: inline-block;\n",
       "  line-height: 1.2em;\n",
       "}\n",
       "\n",
       "#sk-container-id-2 div.sk-label-container {\n",
       "  text-align: center;\n",
       "}\n",
       "\n",
       "/* Estimator-specific */\n",
       "#sk-container-id-2 div.sk-estimator {\n",
       "  font-family: monospace;\n",
       "  border: 1px dotted var(--sklearn-color-border-box);\n",
       "  border-radius: 0.25em;\n",
       "  box-sizing: border-box;\n",
       "  margin-bottom: 0.5em;\n",
       "  /* unfitted */\n",
       "  background-color: var(--sklearn-color-unfitted-level-0);\n",
       "}\n",
       "\n",
       "#sk-container-id-2 div.sk-estimator.fitted {\n",
       "  /* fitted */\n",
       "  background-color: var(--sklearn-color-fitted-level-0);\n",
       "}\n",
       "\n",
       "/* on hover */\n",
       "#sk-container-id-2 div.sk-estimator:hover {\n",
       "  /* unfitted */\n",
       "  background-color: var(--sklearn-color-unfitted-level-2);\n",
       "}\n",
       "\n",
       "#sk-container-id-2 div.sk-estimator.fitted:hover {\n",
       "  /* fitted */\n",
       "  background-color: var(--sklearn-color-fitted-level-2);\n",
       "}\n",
       "\n",
       "/* Specification for estimator info (e.g. \"i\" and \"?\") */\n",
       "\n",
       "/* Common style for \"i\" and \"?\" */\n",
       "\n",
       ".sk-estimator-doc-link,\n",
       "a:link.sk-estimator-doc-link,\n",
       "a:visited.sk-estimator-doc-link {\n",
       "  float: right;\n",
       "  font-size: smaller;\n",
       "  line-height: 1em;\n",
       "  font-family: monospace;\n",
       "  background-color: var(--sklearn-color-background);\n",
       "  border-radius: 1em;\n",
       "  height: 1em;\n",
       "  width: 1em;\n",
       "  text-decoration: none !important;\n",
       "  margin-left: 0.5em;\n",
       "  text-align: center;\n",
       "  /* unfitted */\n",
       "  border: var(--sklearn-color-unfitted-level-1) 1pt solid;\n",
       "  color: var(--sklearn-color-unfitted-level-1);\n",
       "}\n",
       "\n",
       ".sk-estimator-doc-link.fitted,\n",
       "a:link.sk-estimator-doc-link.fitted,\n",
       "a:visited.sk-estimator-doc-link.fitted {\n",
       "  /* fitted */\n",
       "  border: var(--sklearn-color-fitted-level-1) 1pt solid;\n",
       "  color: var(--sklearn-color-fitted-level-1);\n",
       "}\n",
       "\n",
       "/* On hover */\n",
       "div.sk-estimator:hover .sk-estimator-doc-link:hover,\n",
       ".sk-estimator-doc-link:hover,\n",
       "div.sk-label-container:hover .sk-estimator-doc-link:hover,\n",
       ".sk-estimator-doc-link:hover {\n",
       "  /* unfitted */\n",
       "  background-color: var(--sklearn-color-unfitted-level-3);\n",
       "  color: var(--sklearn-color-background);\n",
       "  text-decoration: none;\n",
       "}\n",
       "\n",
       "div.sk-estimator.fitted:hover .sk-estimator-doc-link.fitted:hover,\n",
       ".sk-estimator-doc-link.fitted:hover,\n",
       "div.sk-label-container:hover .sk-estimator-doc-link.fitted:hover,\n",
       ".sk-estimator-doc-link.fitted:hover {\n",
       "  /* fitted */\n",
       "  background-color: var(--sklearn-color-fitted-level-3);\n",
       "  color: var(--sklearn-color-background);\n",
       "  text-decoration: none;\n",
       "}\n",
       "\n",
       "/* Span, style for the box shown on hovering the info icon */\n",
       ".sk-estimator-doc-link span {\n",
       "  display: none;\n",
       "  z-index: 9999;\n",
       "  position: relative;\n",
       "  font-weight: normal;\n",
       "  right: .2ex;\n",
       "  padding: .5ex;\n",
       "  margin: .5ex;\n",
       "  width: min-content;\n",
       "  min-width: 20ex;\n",
       "  max-width: 50ex;\n",
       "  color: var(--sklearn-color-text);\n",
       "  box-shadow: 2pt 2pt 4pt #999;\n",
       "  /* unfitted */\n",
       "  background: var(--sklearn-color-unfitted-level-0);\n",
       "  border: .5pt solid var(--sklearn-color-unfitted-level-3);\n",
       "}\n",
       "\n",
       ".sk-estimator-doc-link.fitted span {\n",
       "  /* fitted */\n",
       "  background: var(--sklearn-color-fitted-level-0);\n",
       "  border: var(--sklearn-color-fitted-level-3);\n",
       "}\n",
       "\n",
       ".sk-estimator-doc-link:hover span {\n",
       "  display: block;\n",
       "}\n",
       "\n",
       "/* \"?\"-specific style due to the `<a>` HTML tag */\n",
       "\n",
       "#sk-container-id-2 a.estimator_doc_link {\n",
       "  float: right;\n",
       "  font-size: 1rem;\n",
       "  line-height: 1em;\n",
       "  font-family: monospace;\n",
       "  background-color: var(--sklearn-color-background);\n",
       "  border-radius: 1rem;\n",
       "  height: 1rem;\n",
       "  width: 1rem;\n",
       "  text-decoration: none;\n",
       "  /* unfitted */\n",
       "  color: var(--sklearn-color-unfitted-level-1);\n",
       "  border: var(--sklearn-color-unfitted-level-1) 1pt solid;\n",
       "}\n",
       "\n",
       "#sk-container-id-2 a.estimator_doc_link.fitted {\n",
       "  /* fitted */\n",
       "  border: var(--sklearn-color-fitted-level-1) 1pt solid;\n",
       "  color: var(--sklearn-color-fitted-level-1);\n",
       "}\n",
       "\n",
       "/* On hover */\n",
       "#sk-container-id-2 a.estimator_doc_link:hover {\n",
       "  /* unfitted */\n",
       "  background-color: var(--sklearn-color-unfitted-level-3);\n",
       "  color: var(--sklearn-color-background);\n",
       "  text-decoration: none;\n",
       "}\n",
       "\n",
       "#sk-container-id-2 a.estimator_doc_link.fitted:hover {\n",
       "  /* fitted */\n",
       "  background-color: var(--sklearn-color-fitted-level-3);\n",
       "}\n",
       "</style><div id=\"sk-container-id-2\" class=\"sk-top-container\"><div class=\"sk-text-repr-fallback\"><pre>Pipeline(steps=[(&#x27;tfidfvectorizer&#x27;, TfidfVectorizer(max_features=1500)),\n",
       "                (&#x27;multinomialnb&#x27;, MultinomialNB())])</pre><b>In a Jupyter environment, please rerun this cell to show the HTML representation or trust the notebook. <br />On GitHub, the HTML representation is unable to render, please try loading this page with nbviewer.org.</b></div><div class=\"sk-container\" hidden><div class=\"sk-item sk-dashed-wrapped\"><div class=\"sk-label-container\"><div class=\"sk-label fitted sk-toggleable\"><input class=\"sk-toggleable__control sk-hidden--visually\" id=\"sk-estimator-id-4\" type=\"checkbox\" ><label for=\"sk-estimator-id-4\" class=\"sk-toggleable__label fitted sk-toggleable__label-arrow\"><div><div>Pipeline</div></div><div><a class=\"sk-estimator-doc-link fitted\" rel=\"noreferrer\" target=\"_blank\" href=\"https://scikit-learn.org/1.6/modules/generated/sklearn.pipeline.Pipeline.html\">?<span>Documentation for Pipeline</span></a><span class=\"sk-estimator-doc-link fitted\">i<span>Fitted</span></span></div></label><div class=\"sk-toggleable__content fitted\"><pre>Pipeline(steps=[(&#x27;tfidfvectorizer&#x27;, TfidfVectorizer(max_features=1500)),\n",
       "                (&#x27;multinomialnb&#x27;, MultinomialNB())])</pre></div> </div></div><div class=\"sk-serial\"><div class=\"sk-item\"><div class=\"sk-estimator fitted sk-toggleable\"><input class=\"sk-toggleable__control sk-hidden--visually\" id=\"sk-estimator-id-5\" type=\"checkbox\" ><label for=\"sk-estimator-id-5\" class=\"sk-toggleable__label fitted sk-toggleable__label-arrow\"><div><div>TfidfVectorizer</div></div><div><a class=\"sk-estimator-doc-link fitted\" rel=\"noreferrer\" target=\"_blank\" href=\"https://scikit-learn.org/1.6/modules/generated/sklearn.feature_extraction.text.TfidfVectorizer.html\">?<span>Documentation for TfidfVectorizer</span></a></div></label><div class=\"sk-toggleable__content fitted\"><pre>TfidfVectorizer(max_features=1500)</pre></div> </div></div><div class=\"sk-item\"><div class=\"sk-estimator fitted sk-toggleable\"><input class=\"sk-toggleable__control sk-hidden--visually\" id=\"sk-estimator-id-6\" type=\"checkbox\" ><label for=\"sk-estimator-id-6\" class=\"sk-toggleable__label fitted sk-toggleable__label-arrow\"><div><div>MultinomialNB</div></div><div><a class=\"sk-estimator-doc-link fitted\" rel=\"noreferrer\" target=\"_blank\" href=\"https://scikit-learn.org/1.6/modules/generated/sklearn.naive_bayes.MultinomialNB.html\">?<span>Documentation for MultinomialNB</span></a></div></label><div class=\"sk-toggleable__content fitted\"><pre>MultinomialNB()</pre></div> </div></div></div></div></div></div>"
      ],
      "text/plain": [
       "Pipeline(steps=[('tfidfvectorizer', TfidfVectorizer(max_features=1500)),\n",
       "                ('multinomialnb', MultinomialNB())])"
      ]
     },
     "execution_count": 40,
     "metadata": {},
     "output_type": "execute_result"
    }
   ],
   "source": [
    "# will consist of 2 steps\n",
    "# step 1: feature extraction through tf-idf\n",
    "# step 2: naive bayes multinomial model\n",
    "period3_nbc = make_pipeline(TfidfVectorizer(max_features = 1500), MultinomialNB())\n",
    "\n",
    "# fitting and training model through pipeline \n",
    "period3_nbc.fit(docs_train, y_train) # fitting model (training sents, target labels)"
   ]
  },
  {
   "cell_type": "code",
   "execution_count": 41,
   "id": "267af9d4-d159-4032-b6fa-d14768f48da6",
   "metadata": {},
   "outputs": [
    {
     "data": {
      "text/plain": [
       "Period3\n",
       "mid         3393\n",
       "old         2835\n",
       "recent    196304\n",
       "Name: Sent_count, dtype: int64"
      ]
     },
     "execution_count": 41,
     "metadata": {},
     "output_type": "execute_result"
    }
   ],
   "source": [
    "senttok_df.groupby(\"Period3\")[\"Sent_count\"].sum()"
   ]
  },
  {
   "cell_type": "code",
   "execution_count": 42,
   "id": "e802d452-f099-4198-8ab1-90805366a295",
   "metadata": {},
   "outputs": [
    {
     "data": {
      "text/plain": [
       "202532"
      ]
     },
     "execution_count": 42,
     "metadata": {},
     "output_type": "execute_result"
    }
   ],
   "source": [
    "# considering the total\n",
    "senttok_df[\"Sent_count\"].sum()"
   ]
  },
  {
   "cell_type": "code",
   "execution_count": 43,
   "id": "d8e36e87-4c39-4051-9343-81230f4228dc",
   "metadata": {},
   "outputs": [
    {
     "data": {
      "text/plain": [
       "0.9692493038137183"
      ]
     },
     "execution_count": 43,
     "metadata": {},
     "output_type": "execute_result"
    }
   ],
   "source": [
    "# basline is still extremly high\n",
    "196304/202532"
   ]
  },
  {
   "cell_type": "code",
   "execution_count": 44,
   "id": "d2cb3426-0ffe-4dd3-b3ea-56edaf99d03c",
   "metadata": {},
   "outputs": [
    {
     "data": {
      "text/plain": [
       "0.9762510183425087"
      ]
     },
     "execution_count": 44,
     "metadata": {},
     "output_type": "execute_result"
    }
   ],
   "source": [
    "# creating predicted labels\n",
    "y_pred_prompt_nb = period3_nbc.predict(docs_test)\n",
    "\n",
    "# checking accuracy score\n",
    "accuracy_score(y_test, y_pred_prompt_nb)"
   ]
  },
  {
   "cell_type": "code",
   "execution_count": 45,
   "id": "a7c99a68-3a05-43f2-a612-4bcaca79d16c",
   "metadata": {},
   "outputs": [
    {
     "data": {
      "text/plain": [
       "<function matplotlib.pyplot.show(close=None, block=None)>"
      ]
     },
     "execution_count": 45,
     "metadata": {},
     "output_type": "execute_result"
    },
    {
     "data": {
      "image/png": "[encoded data removed]",
      "text/plain": [
       "<Figure size 400x400 with 2 Axes>"
      ]
     },
     "metadata": {},
     "output_type": "display_data"
    }
   ],
   "source": [
    "import matplotlib.pyplot as plt\n",
    "mtrx_prompt_nb = confusion_matrix(y_test, y_pred_prompt_nb)\n",
    "# plotting confusion matrix\n",
    "plt.figure(figsize = (4, 4))\n",
    "sns.heatmap(mtrx_prompt_nb, square = True, annot = True, fmt = 'd', cmap = \"Blues\", \n",
    "            xticklabels= (\"old\", \"mid\", \"recent\"), yticklabels= (\"old\", \"mid\", \"recent\"))\n",
    "plt.xlabel(\"predicted label\")\n",
    "plt.ylabel(\"true label\")\n",
    "plt.show"
   ]
  },
  {
   "cell_type": "markdown",
   "id": "ea23ba13-a881-4a1c-aa98-63a2d932d3a9",
   "metadata": {},
   "source": [
    "It seems like while the model makes errors labeling recent sentence that we wouldn't make if we just labeled every sentence as \"recent\" as it is the most likely sentence with a 96.9%, misslaveling 2% of the recent sentences on the test set, the improvement in the \"baseline performance\" is in how the middle period and old sentences are tagged. There are no misslabels between mid and old sentences, which suggests that dividing the periods in the two groups cutting at 1926 and 1985 was the right point as the 2 groups \"old\" and \"mid\" are clearly differnciable. The biggest issue I find is that there are more misslabels between old and recent sentences both ways than between recent and mid any of the 2 ways, which suggests that mid and recent senetences are not as similar as I expected them to be and can indeed be better separated into two periods than I would I have thought. Hence, they don't really belong to the same period.\n",
    "This 3 period devision model outperformed the previous 2 period model as it is closer to the 1% improvement from the baseline. "
   ]
  },
  {
   "cell_type": "markdown",
   "id": "7a928961-067e-414e-83e7-523ffd2eb58b",
   "metadata": {},
   "source": [
    "### Building a classifier using our linguistic features"
   ]
  },
  {
   "cell_type": "markdown",
   "id": "6cfb1218-2a45-4bea-9476-448980fe5b7a",
   "metadata": {},
   "source": [
    "Since our goal for this project is to see if the specific features can help us evaluate language substitution and we've looked for specific features, instead of using the tf-idf features, we will now use the percentages of these linguistic features as the features for time-period classification.\n",
    "\n",
    "Also, since the 3 period classifier outperformed the 2 period one, we will now work with the same 3 periods. That is:\\\n",
    "Old - before 1926\\\n",
    "Mid - 1985-2003\\\n",
    "Recent - 2004-2022"
   ]
  },
  {
   "cell_type": "code",
   "execution_count": 46,
   "id": "e4f7a96e-d40a-4ef2-8d37-6dc1634433c1",
   "metadata": {},
   "outputs": [],
   "source": [
    "# loading the complete dataframe\n",
    "complete_df = pd.read_pickle(\"data/complete_df.pkl\")"
   ]
  },
  {
   "cell_type": "code",
   "execution_count": 47,
   "id": "923e63c4-27cd-42f9-8c82-16124b54eb5c",
   "metadata": {},
   "outputs": [],
   "source": [
    "complete_df[\"tag3\"]=complete_df[\"Year\"].apply(period3_tagger)"
   ]
  },
  {
   "cell_type": "code",
   "execution_count": 48,
   "id": "4b67d8ca-dbfc-4df6-b269-93492c032fbd",
   "metadata": {},
   "outputs": [],
   "source": [
    "# starting with 3 period division as it outperformed the 2 period division classification\n",
    "from sklearn.model_selection import train_test_split\n",
    "feat_train, feat_test, y_train, y_test = train_test_split(complete_df[\"Anar_percent\"], complete_df[\"tag3\"], test_size = 0.20, random_state = 0)"
   ]
  },
  {
   "cell_type": "code",
   "execution_count": 49,
   "id": "c79b2869-334e-4d7f-80f4-5f6e29c0e3bf",
   "metadata": {},
   "outputs": [
    {
     "name": "stdout",
     "output_type": "stream",
     "text": [
      "9674908 2418728\n",
      "9674908 2418728\n",
      "\n",
      "['mid', 'old', 'recent']\n",
      "['mid', 'old', 'recent']\n"
     ]
    }
   ],
   "source": [
    "# examining resulting partitions \n",
    "print(len(feat_train), len(feat_test))\n",
    "print(len(y_train), len(y_test))\n",
    "print()\n",
    "print(sorted(set(y_train)))\n",
    "print(sorted(set(y_test)))"
   ]
  },
  {
   "cell_type": "code",
   "execution_count": 50,
   "id": "16d50d41-65a7-448d-8ff5-a88384884bc6",
   "metadata": {},
   "outputs": [],
   "source": [
    "period3_nbc = make_pipeline(MultinomialNB())"
   ]
  },
  {
   "cell_type": "code",
   "execution_count": 51,
   "id": "b938399f-f448-4d5e-b3d7-348b03aff33a",
   "metadata": {},
   "outputs": [],
   "source": [
    "feat_train = feat_train.values.reshape(-1, 1)\n",
    "feat_test = feat_test.values.reshape(-1, 1)"
   ]
  },
  {
   "cell_type": "code",
   "execution_count": 52,
   "id": "0882cb61-a1fc-4711-a62b-57da5747e6f1",
   "metadata": {},
   "outputs": [],
   "source": [
    "from sklearn.ensemble import RandomForestClassifier"
   ]
  },
  {
   "cell_type": "code",
   "execution_count": 53,
   "id": "7e22c860-fbc0-4e58-9cc0-1657e99d13fc",
   "metadata": {},
   "outputs": [],
   "source": [
    "clf = RandomForestClassifier(class_weight='balanced')"
   ]
  },
  {
   "cell_type": "code",
   "execution_count": 54,
   "id": "5858cc9a-2854-41f9-bbd0-a2f618a0f76a",
   "metadata": {},
   "outputs": [
    {
     "data": {
      "text/html": [
       "<style>#sk-container-id-3 {\n",
       "  /* Definition of color scheme common for light and dark mode */\n",
       "  --sklearn-color-text: #000;\n",
       "  --sklearn-color-text-muted: #666;\n",
       "  --sklearn-color-line: gray;\n",
       "  /* Definition of color scheme for unfitted estimators */\n",
       "  --sklearn-color-unfitted-level-0: #fff5e6;\n",
       "  --sklearn-color-unfitted-level-1: #f6e4d2;\n",
       "  --sklearn-color-unfitted-level-2: #ffe0b3;\n",
       "  --sklearn-color-unfitted-level-3: chocolate;\n",
       "  /* Definition of color scheme for fitted estimators */\n",
       "  --sklearn-color-fitted-level-0: #f0f8ff;\n",
       "  --sklearn-color-fitted-level-1: #d4ebff;\n",
       "  --sklearn-color-fitted-level-2: #b3dbfd;\n",
       "  --sklearn-color-fitted-level-3: cornflowerblue;\n",
       "\n",
       "  /* Specific color for light theme */\n",
       "  --sklearn-color-text-on-default-background: var(--sg-text-color, var(--theme-code-foreground, var(--jp-content-font-color1, black)));\n",
       "  --sklearn-color-background: var(--sg-background-color, var(--theme-background, var(--jp-layout-color0, white)));\n",
       "  --sklearn-color-border-box: var(--sg-text-color, var(--theme-code-foreground, var(--jp-content-font-color1, black)));\n",
       "  --sklearn-color-icon: #696969;\n",
       "\n",
       "  @media (prefers-color-scheme: dark) {\n",
       "    /* Redefinition of color scheme for dark theme */\n",
       "    --sklearn-color-text-on-default-background: var(--sg-text-color, var(--theme-code-foreground, var(--jp-content-font-color1, white)));\n",
       "    --sklearn-color-background: var(--sg-background-color, var(--theme-background, var(--jp-layout-color0, #111)));\n",
       "    --sklearn-color-border-box: var(--sg-text-color, var(--theme-code-foreground, var(--jp-content-font-color1, white)));\n",
       "    --sklearn-color-icon: #878787;\n",
       "  }\n",
       "}\n",
       "\n",
       "#sk-container-id-3 {\n",
       "  color: var(--sklearn-color-text);\n",
       "}\n",
       "\n",
       "#sk-container-id-3 pre {\n",
       "  padding: 0;\n",
       "}\n",
       "\n",
       "#sk-container-id-3 input.sk-hidden--visually {\n",
       "  border: 0;\n",
       "  clip: rect(1px 1px 1px 1px);\n",
       "  clip: rect(1px, 1px, 1px, 1px);\n",
       "  height: 1px;\n",
       "  margin: -1px;\n",
       "  overflow: hidden;\n",
       "  padding: 0;\n",
       "  position: absolute;\n",
       "  width: 1px;\n",
       "}\n",
       "\n",
       "#sk-container-id-3 div.sk-dashed-wrapped {\n",
       "  border: 1px dashed var(--sklearn-color-line);\n",
       "  margin: 0 0.4em 0.5em 0.4em;\n",
       "  box-sizing: border-box;\n",
       "  padding-bottom: 0.4em;\n",
       "  background-color: var(--sklearn-color-background);\n",
       "}\n",
       "\n",
       "#sk-container-id-3 div.sk-container {\n",
       "  /* jupyter's `normalize.less` sets `[hidden] { display: none; }`\n",
       "     but bootstrap.min.css set `[hidden] { display: none !important; }`\n",
       "     so we also need the `!important` here to be able to override the\n",
       "     default hidden behavior on the sphinx rendered scikit-learn.org.\n",
       "     See: https://github.com/scikit-learn/scikit-learn/issues/21755 */\n",
       "  display: inline-block !important;\n",
       "  position: relative;\n",
       "}\n",
       "\n",
       "#sk-container-id-3 div.sk-text-repr-fallback {\n",
       "  display: none;\n",
       "}\n",
       "\n",
       "div.sk-parallel-item,\n",
       "div.sk-serial,\n",
       "div.sk-item {\n",
       "  /* draw centered vertical line to link estimators */\n",
       "  background-image: linear-gradient(var(--sklearn-color-text-on-default-background), var(--sklearn-color-text-on-default-background));\n",
       "  background-size: 2px 100%;\n",
       "  background-repeat: no-repeat;\n",
       "  background-position: center center;\n",
       "}\n",
       "\n",
       "/* Parallel-specific style estimator block */\n",
       "\n",
       "#sk-container-id-3 div.sk-parallel-item::after {\n",
       "  content: \"\";\n",
       "  width: 100%;\n",
       "  border-bottom: 2px solid var(--sklearn-color-text-on-default-background);\n",
       "  flex-grow: 1;\n",
       "}\n",
       "\n",
       "#sk-container-id-3 div.sk-parallel {\n",
       "  display: flex;\n",
       "  align-items: stretch;\n",
       "  justify-content: center;\n",
       "  background-color: var(--sklearn-color-background);\n",
       "  position: relative;\n",
       "}\n",
       "\n",
       "#sk-container-id-3 div.sk-parallel-item {\n",
       "  display: flex;\n",
       "  flex-direction: column;\n",
       "}\n",
       "\n",
       "#sk-container-id-3 div.sk-parallel-item:first-child::after {\n",
       "  align-self: flex-end;\n",
       "  width: 50%;\n",
       "}\n",
       "\n",
       "#sk-container-id-3 div.sk-parallel-item:last-child::after {\n",
       "  align-self: flex-start;\n",
       "  width: 50%;\n",
       "}\n",
       "\n",
       "#sk-container-id-3 div.sk-parallel-item:only-child::after {\n",
       "  width: 0;\n",
       "}\n",
       "\n",
       "/* Serial-specific style estimator block */\n",
       "\n",
       "#sk-container-id-3 div.sk-serial {\n",
       "  display: flex;\n",
       "  flex-direction: column;\n",
       "  align-items: center;\n",
       "  background-color: var(--sklearn-color-background);\n",
       "  padding-right: 1em;\n",
       "  padding-left: 1em;\n",
       "}\n",
       "\n",
       "\n",
       "/* Toggleable style: style used for estimator/Pipeline/ColumnTransformer box that is\n",
       "clickable and can be expanded/collapsed.\n",
       "- Pipeline and ColumnTransformer use this feature and define the default style\n",
       "- Estimators will overwrite some part of the style using the `sk-estimator` class\n",
       "*/\n",
       "\n",
       "/* Pipeline and ColumnTransformer style (default) */\n",
       "\n",
       "#sk-container-id-3 div.sk-toggleable {\n",
       "  /* Default theme specific background. It is overwritten whether we have a\n",
       "  specific estimator or a Pipeline/ColumnTransformer */\n",
       "  background-color: var(--sklearn-color-background);\n",
       "}\n",
       "\n",
       "/* Toggleable label */\n",
       "#sk-container-id-3 label.sk-toggleable__label {\n",
       "  cursor: pointer;\n",
       "  display: flex;\n",
       "  width: 100%;\n",
       "  margin-bottom: 0;\n",
       "  padding: 0.5em;\n",
       "  box-sizing: border-box;\n",
       "  text-align: center;\n",
       "  align-items: start;\n",
       "  justify-content: space-between;\n",
       "  gap: 0.5em;\n",
       "}\n",
       "\n",
       "#sk-container-id-3 label.sk-toggleable__label .caption {\n",
       "  font-size: 0.6rem;\n",
       "  font-weight: lighter;\n",
       "  color: var(--sklearn-color-text-muted);\n",
       "}\n",
       "\n",
       "#sk-container-id-3 label.sk-toggleable__label-arrow:before {\n",
       "  /* Arrow on the left of the label */\n",
       "  content: \"▸\";\n",
       "  float: left;\n",
       "  margin-right: 0.25em;\n",
       "  color: var(--sklearn-color-icon);\n",
       "}\n",
       "\n",
       "#sk-container-id-3 label.sk-toggleable__label-arrow:hover:before {\n",
       "  color: var(--sklearn-color-text);\n",
       "}\n",
       "\n",
       "/* Toggleable content - dropdown */\n",
       "\n",
       "#sk-container-id-3 div.sk-toggleable__content {\n",
       "  max-height: 0;\n",
       "  max-width: 0;\n",
       "  overflow: hidden;\n",
       "  text-align: left;\n",
       "  /* unfitted */\n",
       "  background-color: var(--sklearn-color-unfitted-level-0);\n",
       "}\n",
       "\n",
       "#sk-container-id-3 div.sk-toggleable__content.fitted {\n",
       "  /* fitted */\n",
       "  background-color: var(--sklearn-color-fitted-level-0);\n",
       "}\n",
       "\n",
       "#sk-container-id-3 div.sk-toggleable__content pre {\n",
       "  margin: 0.2em;\n",
       "  border-radius: 0.25em;\n",
       "  color: var(--sklearn-color-text);\n",
       "  /* unfitted */\n",
       "  background-color: var(--sklearn-color-unfitted-level-0);\n",
       "}\n",
       "\n",
       "#sk-container-id-3 div.sk-toggleable__content.fitted pre {\n",
       "  /* unfitted */\n",
       "  background-color: var(--sklearn-color-fitted-level-0);\n",
       "}\n",
       "\n",
       "#sk-container-id-3 input.sk-toggleable__control:checked~div.sk-toggleable__content {\n",
       "  /* Expand drop-down */\n",
       "  max-height: 200px;\n",
       "  max-width: 100%;\n",
       "  overflow: auto;\n",
       "}\n",
       "\n",
       "#sk-container-id-3 input.sk-toggleable__control:checked~label.sk-toggleable__label-arrow:before {\n",
       "  content: \"▾\";\n",
       "}\n",
       "\n",
       "/* Pipeline/ColumnTransformer-specific style */\n",
       "\n",
       "#sk-container-id-3 div.sk-label input.sk-toggleable__control:checked~label.sk-toggleable__label {\n",
       "  color: var(--sklearn-color-text);\n",
       "  background-color: var(--sklearn-color-unfitted-level-2);\n",
       "}\n",
       "\n",
       "#sk-container-id-3 div.sk-label.fitted input.sk-toggleable__control:checked~label.sk-toggleable__label {\n",
       "  background-color: var(--sklearn-color-fitted-level-2);\n",
       "}\n",
       "\n",
       "/* Estimator-specific style */\n",
       "\n",
       "/* Colorize estimator box */\n",
       "#sk-container-id-3 div.sk-estimator input.sk-toggleable__control:checked~label.sk-toggleable__label {\n",
       "  /* unfitted */\n",
       "  background-color: var(--sklearn-color-unfitted-level-2);\n",
       "}\n",
       "\n",
       "#sk-container-id-3 div.sk-estimator.fitted input.sk-toggleable__control:checked~label.sk-toggleable__label {\n",
       "  /* fitted */\n",
       "  background-color: var(--sklearn-color-fitted-level-2);\n",
       "}\n",
       "\n",
       "#sk-container-id-3 div.sk-label label.sk-toggleable__label,\n",
       "#sk-container-id-3 div.sk-label label {\n",
       "  /* The background is the default theme color */\n",
       "  color: var(--sklearn-color-text-on-default-background);\n",
       "}\n",
       "\n",
       "/* On hover, darken the color of the background */\n",
       "#sk-container-id-3 div.sk-label:hover label.sk-toggleable__label {\n",
       "  color: var(--sklearn-color-text);\n",
       "  background-color: var(--sklearn-color-unfitted-level-2);\n",
       "}\n",
       "\n",
       "/* Label box, darken color on hover, fitted */\n",
       "#sk-container-id-3 div.sk-label.fitted:hover label.sk-toggleable__label.fitted {\n",
       "  color: var(--sklearn-color-text);\n",
       "  background-color: var(--sklearn-color-fitted-level-2);\n",
       "}\n",
       "\n",
       "/* Estimator label */\n",
       "\n",
       "#sk-container-id-3 div.sk-label label {\n",
       "  font-family: monospace;\n",
       "  font-weight: bold;\n",
       "  display: inline-block;\n",
       "  line-height: 1.2em;\n",
       "}\n",
       "\n",
       "#sk-container-id-3 div.sk-label-container {\n",
       "  text-align: center;\n",
       "}\n",
       "\n",
       "/* Estimator-specific */\n",
       "#sk-container-id-3 div.sk-estimator {\n",
       "  font-family: monospace;\n",
       "  border: 1px dotted var(--sklearn-color-border-box);\n",
       "  border-radius: 0.25em;\n",
       "  box-sizing: border-box;\n",
       "  margin-bottom: 0.5em;\n",
       "  /* unfitted */\n",
       "  background-color: var(--sklearn-color-unfitted-level-0);\n",
       "}\n",
       "\n",
       "#sk-container-id-3 div.sk-estimator.fitted {\n",
       "  /* fitted */\n",
       "  background-color: var(--sklearn-color-fitted-level-0);\n",
       "}\n",
       "\n",
       "/* on hover */\n",
       "#sk-container-id-3 div.sk-estimator:hover {\n",
       "  /* unfitted */\n",
       "  background-color: var(--sklearn-color-unfitted-level-2);\n",
       "}\n",
       "\n",
       "#sk-container-id-3 div.sk-estimator.fitted:hover {\n",
       "  /* fitted */\n",
       "  background-color: var(--sklearn-color-fitted-level-2);\n",
       "}\n",
       "\n",
       "/* Specification for estimator info (e.g. \"i\" and \"?\") */\n",
       "\n",
       "/* Common style for \"i\" and \"?\" */\n",
       "\n",
       ".sk-estimator-doc-link,\n",
       "a:link.sk-estimator-doc-link,\n",
       "a:visited.sk-estimator-doc-link {\n",
       "  float: right;\n",
       "  font-size: smaller;\n",
       "  line-height: 1em;\n",
       "  font-family: monospace;\n",
       "  background-color: var(--sklearn-color-background);\n",
       "  border-radius: 1em;\n",
       "  height: 1em;\n",
       "  width: 1em;\n",
       "  text-decoration: none !important;\n",
       "  margin-left: 0.5em;\n",
       "  text-align: center;\n",
       "  /* unfitted */\n",
       "  border: var(--sklearn-color-unfitted-level-1) 1pt solid;\n",
       "  color: var(--sklearn-color-unfitted-level-1);\n",
       "}\n",
       "\n",
       ".sk-estimator-doc-link.fitted,\n",
       "a:link.sk-estimator-doc-link.fitted,\n",
       "a:visited.sk-estimator-doc-link.fitted {\n",
       "  /* fitted */\n",
       "  border: var(--sklearn-color-fitted-level-1) 1pt solid;\n",
       "  color: var(--sklearn-color-fitted-level-1);\n",
       "}\n",
       "\n",
       "/* On hover */\n",
       "div.sk-estimator:hover .sk-estimator-doc-link:hover,\n",
       ".sk-estimator-doc-link:hover,\n",
       "div.sk-label-container:hover .sk-estimator-doc-link:hover,\n",
       ".sk-estimator-doc-link:hover {\n",
       "  /* unfitted */\n",
       "  background-color: var(--sklearn-color-unfitted-level-3);\n",
       "  color: var(--sklearn-color-background);\n",
       "  text-decoration: none;\n",
       "}\n",
       "\n",
       "div.sk-estimator.fitted:hover .sk-estimator-doc-link.fitted:hover,\n",
       ".sk-estimator-doc-link.fitted:hover,\n",
       "div.sk-label-container:hover .sk-estimator-doc-link.fitted:hover,\n",
       ".sk-estimator-doc-link.fitted:hover {\n",
       "  /* fitted */\n",
       "  background-color: var(--sklearn-color-fitted-level-3);\n",
       "  color: var(--sklearn-color-background);\n",
       "  text-decoration: none;\n",
       "}\n",
       "\n",
       "/* Span, style for the box shown on hovering the info icon */\n",
       ".sk-estimator-doc-link span {\n",
       "  display: none;\n",
       "  z-index: 9999;\n",
       "  position: relative;\n",
       "  font-weight: normal;\n",
       "  right: .2ex;\n",
       "  padding: .5ex;\n",
       "  margin: .5ex;\n",
       "  width: min-content;\n",
       "  min-width: 20ex;\n",
       "  max-width: 50ex;\n",
       "  color: var(--sklearn-color-text);\n",
       "  box-shadow: 2pt 2pt 4pt #999;\n",
       "  /* unfitted */\n",
       "  background: var(--sklearn-color-unfitted-level-0);\n",
       "  border: .5pt solid var(--sklearn-color-unfitted-level-3);\n",
       "}\n",
       "\n",
       ".sk-estimator-doc-link.fitted span {\n",
       "  /* fitted */\n",
       "  background: var(--sklearn-color-fitted-level-0);\n",
       "  border: var(--sklearn-color-fitted-level-3);\n",
       "}\n",
       "\n",
       ".sk-estimator-doc-link:hover span {\n",
       "  display: block;\n",
       "}\n",
       "\n",
       "/* \"?\"-specific style due to the `<a>` HTML tag */\n",
       "\n",
       "#sk-container-id-3 a.estimator_doc_link {\n",
       "  float: right;\n",
       "  font-size: 1rem;\n",
       "  line-height: 1em;\n",
       "  font-family: monospace;\n",
       "  background-color: var(--sklearn-color-background);\n",
       "  border-radius: 1rem;\n",
       "  height: 1rem;\n",
       "  width: 1rem;\n",
       "  text-decoration: none;\n",
       "  /* unfitted */\n",
       "  color: var(--sklearn-color-unfitted-level-1);\n",
       "  border: var(--sklearn-color-unfitted-level-1) 1pt solid;\n",
       "}\n",
       "\n",
       "#sk-container-id-3 a.estimator_doc_link.fitted {\n",
       "  /* fitted */\n",
       "  border: var(--sklearn-color-fitted-level-1) 1pt solid;\n",
       "  color: var(--sklearn-color-fitted-level-1);\n",
       "}\n",
       "\n",
       "/* On hover */\n",
       "#sk-container-id-3 a.estimator_doc_link:hover {\n",
       "  /* unfitted */\n",
       "  background-color: var(--sklearn-color-unfitted-level-3);\n",
       "  color: var(--sklearn-color-background);\n",
       "  text-decoration: none;\n",
       "}\n",
       "\n",
       "#sk-container-id-3 a.estimator_doc_link.fitted:hover {\n",
       "  /* fitted */\n",
       "  background-color: var(--sklearn-color-fitted-level-3);\n",
       "}\n",
       "</style><div id=\"sk-container-id-3\" class=\"sk-top-container\"><div class=\"sk-text-repr-fallback\"><pre>RandomForestClassifier(class_weight=&#x27;balanced&#x27;)</pre><b>In a Jupyter environment, please rerun this cell to show the HTML representation or trust the notebook. <br />On GitHub, the HTML representation is unable to render, please try loading this page with nbviewer.org.</b></div><div class=\"sk-container\" hidden><div class=\"sk-item\"><div class=\"sk-estimator fitted sk-toggleable\"><input class=\"sk-toggleable__control sk-hidden--visually\" id=\"sk-estimator-id-7\" type=\"checkbox\" checked><label for=\"sk-estimator-id-7\" class=\"sk-toggleable__label fitted sk-toggleable__label-arrow\"><div><div>RandomForestClassifier</div></div><div><a class=\"sk-estimator-doc-link fitted\" rel=\"noreferrer\" target=\"_blank\" href=\"https://scikit-learn.org/1.6/modules/generated/sklearn.ensemble.RandomForestClassifier.html\">?<span>Documentation for RandomForestClassifier</span></a><span class=\"sk-estimator-doc-link fitted\">i<span>Fitted</span></span></div></label><div class=\"sk-toggleable__content fitted\"><pre>RandomForestClassifier(class_weight=&#x27;balanced&#x27;)</pre></div> </div></div></div></div>"
      ],
      "text/plain": [
       "RandomForestClassifier(class_weight='balanced')"
      ]
     },
     "execution_count": 54,
     "metadata": {},
     "output_type": "execute_result"
    }
   ],
   "source": [
    "clf.fit(feat_train, y_train)"
   ]
  },
  {
   "cell_type": "code",
   "execution_count": 55,
   "id": "3cce1ddc-b97c-4e03-beb5-a40b1403a0d4",
   "metadata": {},
   "outputs": [
    {
     "data": {
      "text/plain": [
       "0.24747718635580354"
      ]
     },
     "execution_count": 55,
     "metadata": {},
     "output_type": "execute_result"
    }
   ],
   "source": [
    "# creating predicted labels\n",
    "y_pred_prompt3_rf = clf.predict(feat_test)\n",
    "\n",
    "# checking accuracy score\n",
    "accuracy_score(y_test, y_pred_prompt3_rf)"
   ]
  },
  {
   "cell_type": "code",
   "execution_count": 56,
   "id": "927a226f-ed2a-430c-a7bd-2b42bf63d0a7",
   "metadata": {},
   "outputs": [
    {
     "data": {
      "text/plain": [
       "<function matplotlib.pyplot.show(close=None, block=None)>"
      ]
     },
     "execution_count": 56,
     "metadata": {},
     "output_type": "execute_result"
    },
    {
     "data": {
      "image/png": "[encoded data removed]",
      "text/plain": [
       "<Figure size 400x400 with 2 Axes>"
      ]
     },
     "metadata": {},
     "output_type": "display_data"
    }
   ],
   "source": [
    "import matplotlib.pyplot as plt\n",
    "mtrx_prompt_nb = confusion_matrix(y_test, y_pred_prompt3_rf)\n",
    "# plotting confusion matrix\n",
    "plt.figure(figsize = (4, 4))\n",
    "sns.heatmap(mtrx_prompt_nb, square = True, annot = True, fmt = 'd', cmap = \"Blues\", \n",
    "            xticklabels= (\"mid\", \"old\", \"recent\"), yticklabels= (\"mid\", \"old\", \"recent\"))\n",
    "plt.xlabel(\"predicted label\")\n",
    "plt.ylabel(\"true label\")\n",
    "plt.show"
   ]
  },
  {
   "cell_type": "markdown",
   "id": "6ab7afcb-2f93-423c-8379-c7f3ffbc869b",
   "metadata": {},
   "source": [
    "**Conclusions:**\\\n",
    "Even though the model only gets 24.5% accuracy, what matters more to me isn’t that overall score — it’s how the errors are distributed. Right away, you can tell the model is mostly guessing between “recent” and “old”, and is basically ignoring the “mid” class. Out of 451 actual “mid” examples, it only predicts 44 correctly. That’s a clear sign that the model isn’t learning what defines the middle period — maybe because it’s underrepresented or less distinctive.\n",
    "\n",
    "The biggest confusion happens between “recent” and “old” — over 1.8 million sentences labeled “recent” are classified as “old.” That’s surprising, since I expected those two to be more distinguishable. On the other hand, there’s barely any confusion between “mid” and “old” (just 3 cases), which tells me that even though the model struggles to recognize “mid,” at least it doesn’t mistake it for “old.”\n",
    "\n",
    "So the model is picking up on some signal to separate “old” from everything else, but it doesn’t really know what to do with “mid,” and defaults to calling it “recent.” Overall, the Random Forest doesn’t perform well, but the pattern of its mistakes confirms that having three periods makes sense — I just need to handle the class imbalance better if I want “mid” not to disappear."
   ]
  },
  {
   "cell_type": "markdown",
   "id": "577a9afc-dcfd-456d-99e2-dc83bdb187a3",
   "metadata": {},
   "source": [
    "## Clustering\n",
    "Next to see if the linguistic features we analyzed are valuable or not we will try to find year clusters or time divisions for each of the features. However, since we want the clusters to be a continuous period (eg.: we don't want 1860 and 1867 to be clustered together if 1865 belongs to another cluster) we will need to use **Ward hierarchical clustering** as it allows for connectivity constraints.\n",
    "The following Clustering process has been done following:\\\n",
    "[Scikit-learn User Guide 2.3. on Clustering](https://scikit-learn.org/stable/modules/clustering.html#hierarchical-clustering)\\\n",
    "[DataCamp's Introduction to Hierarchical Clustering](https://www.datacamp.com/tutorial/introduction-hierarchical-clustering-python)\\\n",
    "[DataCamp's Cluster Analysis in Python](https://app.datacamp.com/learn/courses/cluster-analysis-in-python)"
   ]
  },
  {
   "cell_type": "code",
   "execution_count": 57,
   "id": "2c8e28e4-2b86-4995-b549-13ab89eee4a7",
   "metadata": {},
   "outputs": [
    {
     "name": "stdout",
     "output_type": "stream",
     "text": [
      "<class 'pandas.core.frame.DataFrame'>\n",
      "RangeIndex: 12093636 entries, 0 to 12093635\n",
      "Data columns (total 29 columns):\n",
      " #   Column            Dtype  \n",
      "---  ------            -----  \n",
      " 0   Year              int64  \n",
      " 1   Line_id           object \n",
      " 2   Text              object \n",
      " 3   Text_len          int64  \n",
      " 4   toks              object \n",
      " 5   Len_toks          int64  \n",
      " 6   toks_low          object \n",
      " 7   hi                object \n",
      " 8   -hi               object \n",
      " 9   hi_count          int64  \n",
      " 10  hi_percent        float64\n",
      " 11  Lemmas            object \n",
      " 12  Anar_count        int64  \n",
      " 13  Venir_count       int64  \n",
      " 14  Anar_percent      float64\n",
      " 15  Venir_percent     float64\n",
      " 16  PstPerif          object \n",
      " 17  Pstp_count        int64  \n",
      " 18  Pstp_percent      float64\n",
      " 19  HaverDe_count     int64  \n",
      " 20  TenirQue_count    int64  \n",
      " 21  HaverDe_percent   float64\n",
      " 22  TenirQue_percent  float64\n",
      " 23  POS               object \n",
      " 24  PronominalizedV   object \n",
      " 25  PronV_count       int64  \n",
      " 26  V_total           int64  \n",
      " 27  PronV_percent     float64\n",
      " 28  tag3              object \n",
      "dtypes: float64(7), int64(11), object(11)\n",
      "memory usage: 2.6+ GB\n"
     ]
    }
   ],
   "source": [
    "complete_df.info()"
   ]
  },
  {
   "cell_type": "markdown",
   "id": "10e9ca32-167b-49da-b7f9-ca007c278b59",
   "metadata": {},
   "source": [
    "### Getting the data ready for clustering"
   ]
  },
  {
   "cell_type": "code",
   "execution_count": 58,
   "id": "462cec25-2394-4497-89ac-3d0aea36ecfe",
   "metadata": {},
   "outputs": [],
   "source": [
    "# keeping only the columns we want (percentages, which are floats and a single int which is the Year (will be turned into the target)\n",
    "df = complete_df[[\"Year\", # target\n",
    "                  \"hi_percent\", # loss of word classes\n",
    "                  \"Anar_percent\", \"Venir_percent\", \"Pstp_percent\", # time and space lexicon modification\n",
    "                  \"HaverDe_percent\", \"TenirQue_percent\", \"PronV_percent\"]] # syntactic restructuring"
   ]
  },
  {
   "cell_type": "code",
   "execution_count": 59,
   "id": "f51555e8-872f-461c-8bc0-adfa294fbcd2",
   "metadata": {
    "scrolled": true
   },
   "outputs": [
    {
     "data": {
      "text/html": [
       "<div>\n",
       "<style scoped>\n",
       "    .dataframe tbody tr th:only-of-type {\n",
       "        vertical-align: middle;\n",
       "    }\n",
       "\n",
       "    .dataframe tbody tr th {\n",
       "        vertical-align: top;\n",
       "    }\n",
       "\n",
       "    .dataframe thead th {\n",
       "        text-align: right;\n",
       "    }\n",
       "</style>\n",
       "<table border=\"1\" class=\"dataframe\">\n",
       "  <thead>\n",
       "    <tr style=\"text-align: right;\">\n",
       "      <th></th>\n",
       "      <th>Year</th>\n",
       "      <th>hi_percent</th>\n",
       "      <th>Anar_percent</th>\n",
       "      <th>Venir_percent</th>\n",
       "      <th>Pstp_percent</th>\n",
       "      <th>HaverDe_percent</th>\n",
       "      <th>TenirQue_percent</th>\n",
       "      <th>PronV_percent</th>\n",
       "    </tr>\n",
       "  </thead>\n",
       "  <tbody>\n",
       "    <tr>\n",
       "      <th>0</th>\n",
       "      <td>1926</td>\n",
       "      <td>0.013761</td>\n",
       "      <td>0.839411</td>\n",
       "      <td>0.027522</td>\n",
       "      <td>0.481629</td>\n",
       "      <td>0.206413</td>\n",
       "      <td>0.0</td>\n",
       "      <td>4.732824</td>\n",
       "    </tr>\n",
       "    <tr>\n",
       "      <th>1</th>\n",
       "      <td>1920</td>\n",
       "      <td>0.053619</td>\n",
       "      <td>0.428954</td>\n",
       "      <td>0.000000</td>\n",
       "      <td>0.214477</td>\n",
       "      <td>0.053619</td>\n",
       "      <td>0.0</td>\n",
       "      <td>10.596026</td>\n",
       "    </tr>\n",
       "    <tr>\n",
       "      <th>2</th>\n",
       "      <td>1900</td>\n",
       "      <td>0.006790</td>\n",
       "      <td>0.129015</td>\n",
       "      <td>0.033951</td>\n",
       "      <td>0.040741</td>\n",
       "      <td>0.122224</td>\n",
       "      <td>0.0</td>\n",
       "      <td>8.818636</td>\n",
       "    </tr>\n",
       "  </tbody>\n",
       "</table>\n",
       "</div>"
      ],
      "text/plain": [
       "   Year  hi_percent  Anar_percent  Venir_percent  Pstp_percent  \\\n",
       "0  1926    0.013761      0.839411       0.027522      0.481629   \n",
       "1  1920    0.053619      0.428954       0.000000      0.214477   \n",
       "2  1900    0.006790      0.129015       0.033951      0.040741   \n",
       "\n",
       "   HaverDe_percent  TenirQue_percent  PronV_percent  \n",
       "0         0.206413               0.0       4.732824  \n",
       "1         0.053619               0.0      10.596026  \n",
       "2         0.122224               0.0       8.818636  "
      ]
     },
     "execution_count": 59,
     "metadata": {},
     "output_type": "execute_result"
    }
   ],
   "source": [
    "df.head(3)"
   ]
  },
  {
   "cell_type": "code",
   "execution_count": 60,
   "id": "a5dde565-22ef-49b0-b917-217ddf175575",
   "metadata": {},
   "outputs": [
    {
     "name": "stdout",
     "output_type": "stream",
     "text": [
      "<class 'pandas.core.frame.DataFrame'>\n",
      "RangeIndex: 12093636 entries, 0 to 12093635\n",
      "Data columns (total 8 columns):\n",
      " #   Column            Dtype  \n",
      "---  ------            -----  \n",
      " 0   Year              int64  \n",
      " 1   hi_percent        float64\n",
      " 2   Anar_percent      float64\n",
      " 3   Venir_percent     float64\n",
      " 4   Pstp_percent      float64\n",
      " 5   HaverDe_percent   float64\n",
      " 6   TenirQue_percent  float64\n",
      " 7   PronV_percent     float64\n",
      "dtypes: float64(7), int64(1)\n",
      "memory usage: 738.1 MB\n"
     ]
    }
   ],
   "source": [
    "df.info()"
   ]
  },
  {
   "cell_type": "markdown",
   "id": "f8027262-af16-4705-b378-f24563668d17",
   "metadata": {},
   "source": [
    "**Comment:** We have a huge amount of data that can't be used for hierarchical clustering. Therefore, we will create a sample of data and work with it from now on in this part of the analysis. "
   ]
  },
  {
   "cell_type": "code",
   "execution_count": 61,
   "id": "b822e35e-1781-4fab-b64c-f8dbf10bbe2f",
   "metadata": {},
   "outputs": [],
   "source": [
    "# sampling data because we have too much data to work with to do hierarchical clustering\n",
    "sample_data = []\n",
    "\n",
    "for year in sorted(df['Year'].unique()):\n",
    "    yearly_data = df[df['Year'] == year]\n",
    "    sample = yearly_data.sample(n=min(2000, len(yearly_data)), random_state=0)\n",
    "    sample_data.append(sample)\n",
    "\n",
    "sample_data = pd.concat(sample_data)"
   ]
  },
  {
   "cell_type": "code",
   "execution_count": 62,
   "id": "9a664e5b-a998-4b54-a747-626b02f8052c",
   "metadata": {},
   "outputs": [
    {
     "data": {
      "text/html": [
       "<div>\n",
       "<style scoped>\n",
       "    .dataframe tbody tr th:only-of-type {\n",
       "        vertical-align: middle;\n",
       "    }\n",
       "\n",
       "    .dataframe tbody tr th {\n",
       "        vertical-align: top;\n",
       "    }\n",
       "\n",
       "    .dataframe thead th {\n",
       "        text-align: right;\n",
       "    }\n",
       "</style>\n",
       "<table border=\"1\" class=\"dataframe\">\n",
       "  <thead>\n",
       "    <tr style=\"text-align: right;\">\n",
       "      <th></th>\n",
       "      <th>Year</th>\n",
       "      <th>hi_percent</th>\n",
       "      <th>Anar_percent</th>\n",
       "      <th>Venir_percent</th>\n",
       "      <th>Pstp_percent</th>\n",
       "      <th>HaverDe_percent</th>\n",
       "      <th>TenirQue_percent</th>\n",
       "      <th>PronV_percent</th>\n",
       "    </tr>\n",
       "  </thead>\n",
       "  <tbody>\n",
       "    <tr>\n",
       "      <th>count</th>\n",
       "      <td>39473.000000</td>\n",
       "      <td>39473.000000</td>\n",
       "      <td>39473.000000</td>\n",
       "      <td>39473.000000</td>\n",
       "      <td>39473.000000</td>\n",
       "      <td>39473.000000</td>\n",
       "      <td>39473.000000</td>\n",
       "      <td>39473.000000</td>\n",
       "    </tr>\n",
       "    <tr>\n",
       "      <th>mean</th>\n",
       "      <td>2000.691435</td>\n",
       "      <td>0.250702</td>\n",
       "      <td>0.624920</td>\n",
       "      <td>0.078227</td>\n",
       "      <td>0.288887</td>\n",
       "      <td>0.252776</td>\n",
       "      <td>0.000762</td>\n",
       "      <td>14.711094</td>\n",
       "    </tr>\n",
       "    <tr>\n",
       "      <th>std</th>\n",
       "      <td>11.285871</td>\n",
       "      <td>0.917997</td>\n",
       "      <td>1.666854</td>\n",
       "      <td>0.540368</td>\n",
       "      <td>1.120169</td>\n",
       "      <td>0.866710</td>\n",
       "      <td>0.053029</td>\n",
       "      <td>23.136820</td>\n",
       "    </tr>\n",
       "    <tr>\n",
       "      <th>min</th>\n",
       "      <td>1860.000000</td>\n",
       "      <td>0.000000</td>\n",
       "      <td>0.000000</td>\n",
       "      <td>0.000000</td>\n",
       "      <td>0.000000</td>\n",
       "      <td>0.000000</td>\n",
       "      <td>0.000000</td>\n",
       "      <td>0.000000</td>\n",
       "    </tr>\n",
       "    <tr>\n",
       "      <th>25%</th>\n",
       "      <td>1995.000000</td>\n",
       "      <td>0.000000</td>\n",
       "      <td>0.000000</td>\n",
       "      <td>0.000000</td>\n",
       "      <td>0.000000</td>\n",
       "      <td>0.000000</td>\n",
       "      <td>0.000000</td>\n",
       "      <td>0.000000</td>\n",
       "    </tr>\n",
       "    <tr>\n",
       "      <th>50%</th>\n",
       "      <td>2002.000000</td>\n",
       "      <td>0.000000</td>\n",
       "      <td>0.000000</td>\n",
       "      <td>0.000000</td>\n",
       "      <td>0.000000</td>\n",
       "      <td>0.000000</td>\n",
       "      <td>0.000000</td>\n",
       "      <td>0.000000</td>\n",
       "    </tr>\n",
       "    <tr>\n",
       "      <th>75%</th>\n",
       "      <td>2007.000000</td>\n",
       "      <td>0.000000</td>\n",
       "      <td>0.403277</td>\n",
       "      <td>0.000000</td>\n",
       "      <td>0.000000</td>\n",
       "      <td>0.000000</td>\n",
       "      <td>0.000000</td>\n",
       "      <td>22.222222</td>\n",
       "    </tr>\n",
       "    <tr>\n",
       "      <th>max</th>\n",
       "      <td>2022.000000</td>\n",
       "      <td>25.000000</td>\n",
       "      <td>50.000000</td>\n",
       "      <td>25.000000</td>\n",
       "      <td>25.000000</td>\n",
       "      <td>20.000000</td>\n",
       "      <td>6.521739</td>\n",
       "      <td>100.000000</td>\n",
       "    </tr>\n",
       "  </tbody>\n",
       "</table>\n",
       "</div>"
      ],
      "text/plain": [
       "               Year    hi_percent  Anar_percent  Venir_percent  Pstp_percent  \\\n",
       "count  39473.000000  39473.000000  39473.000000   39473.000000  39473.000000   \n",
       "mean    2000.691435      0.250702      0.624920       0.078227      0.288887   \n",
       "std       11.285871      0.917997      1.666854       0.540368      1.120169   \n",
       "min     1860.000000      0.000000      0.000000       0.000000      0.000000   \n",
       "25%     1995.000000      0.000000      0.000000       0.000000      0.000000   \n",
       "50%     2002.000000      0.000000      0.000000       0.000000      0.000000   \n",
       "75%     2007.000000      0.000000      0.403277       0.000000      0.000000   \n",
       "max     2022.000000     25.000000     50.000000      25.000000     25.000000   \n",
       "\n",
       "       HaverDe_percent  TenirQue_percent  PronV_percent  \n",
       "count     39473.000000      39473.000000   39473.000000  \n",
       "mean          0.252776          0.000762      14.711094  \n",
       "std           0.866710          0.053029      23.136820  \n",
       "min           0.000000          0.000000       0.000000  \n",
       "25%           0.000000          0.000000       0.000000  \n",
       "50%           0.000000          0.000000       0.000000  \n",
       "75%           0.000000          0.000000      22.222222  \n",
       "max          20.000000          6.521739     100.000000  "
      ]
     },
     "execution_count": 62,
     "metadata": {},
     "output_type": "execute_result"
    }
   ],
   "source": [
    "sample_data.describe()"
   ]
  },
  {
   "cell_type": "code",
   "execution_count": 63,
   "id": "20d28da2-a927-4018-b638-a72451daab9e",
   "metadata": {},
   "outputs": [
    {
     "name": "stdout",
     "output_type": "stream",
     "text": [
      "<class 'pandas.core.frame.DataFrame'>\n",
      "Index: 39473 entries, 204 to 4440\n",
      "Data columns (total 8 columns):\n",
      " #   Column            Non-Null Count  Dtype  \n",
      "---  ------            --------------  -----  \n",
      " 0   Year              39473 non-null  int64  \n",
      " 1   hi_percent        39473 non-null  float64\n",
      " 2   Anar_percent      39473 non-null  float64\n",
      " 3   Venir_percent     39473 non-null  float64\n",
      " 4   Pstp_percent      39473 non-null  float64\n",
      " 5   HaverDe_percent   39473 non-null  float64\n",
      " 6   TenirQue_percent  39473 non-null  float64\n",
      " 7   PronV_percent     39473 non-null  float64\n",
      "dtypes: float64(7), int64(1)\n",
      "memory usage: 2.7 MB\n"
     ]
    }
   ],
   "source": [
    "sample_data.info()"
   ]
  },
  {
   "cell_type": "markdown",
   "id": "03034a3c-8647-4251-8642-93df57ef68ea",
   "metadata": {},
   "source": [
    "**Comment:** Our data is remarkably smaller, with now about 22000 entries compared to the initial 12093636, and reducng its size from 738.1MB to 1.6MB."
   ]
  },
  {
   "cell_type": "markdown",
   "id": "f0c34581-36fb-4aea-9704-a89203272709",
   "metadata": {},
   "source": [
    "Normally the next step would be to remove any outliers. However, in our case, that would mean throwing away most of the early years, which is not ideal since we want to look at a historical change. Therefore, we won't be removing outliers but will need to keep it in mind as it will likely squeue our data. "
   ]
  },
  {
   "cell_type": "markdown",
   "id": "e954f2bb-ea79-4c71-a434-a641afa10f4e",
   "metadata": {},
   "source": [
    "Since our goal is to see how the different linguistic features cluster our data, we will normalize the data by column/feature."
   ]
  },
  {
   "cell_type": "code",
   "execution_count": 64,
   "id": "290d46c3-e537-427a-a456-f2449afff6b2",
   "metadata": {},
   "outputs": [],
   "source": [
    "# normalizing data per column/feature\n",
    "from sklearn.preprocessing import StandardScaler\n",
    "\n",
    "features = [\"hi_percent\", \"Anar_percent\", \"Venir_percent\", \"Pstp_percent\", \"PronV_percent\"]\n",
    "\n",
    "scaler = StandardScaler()\n",
    "sample_data[features] = scaler.fit_transform(sample_data[features])"
   ]
  },
  {
   "cell_type": "code",
   "execution_count": 65,
   "id": "d9953ad8-9789-4503-8d7d-f2eeff01540c",
   "metadata": {
    "scrolled": true
   },
   "outputs": [
    {
     "data": {
      "text/html": [
       "<div>\n",
       "<style scoped>\n",
       "    .dataframe tbody tr th:only-of-type {\n",
       "        vertical-align: middle;\n",
       "    }\n",
       "\n",
       "    .dataframe tbody tr th {\n",
       "        vertical-align: top;\n",
       "    }\n",
       "\n",
       "    .dataframe thead th {\n",
       "        text-align: right;\n",
       "    }\n",
       "</style>\n",
       "<table border=\"1\" class=\"dataframe\">\n",
       "  <thead>\n",
       "    <tr style=\"text-align: right;\">\n",
       "      <th></th>\n",
       "      <th>Year</th>\n",
       "      <th>hi_percent</th>\n",
       "      <th>Anar_percent</th>\n",
       "      <th>Venir_percent</th>\n",
       "      <th>Pstp_percent</th>\n",
       "      <th>HaverDe_percent</th>\n",
       "      <th>TenirQue_percent</th>\n",
       "      <th>PronV_percent</th>\n",
       "    </tr>\n",
       "  </thead>\n",
       "  <tbody>\n",
       "    <tr>\n",
       "      <th>count</th>\n",
       "      <td>39473.000000</td>\n",
       "      <td>39473.000000</td>\n",
       "      <td>3.947300e+04</td>\n",
       "      <td>3.947300e+04</td>\n",
       "      <td>3.947300e+04</td>\n",
       "      <td>39473.000000</td>\n",
       "      <td>39473.000000</td>\n",
       "      <td>3.947300e+04</td>\n",
       "    </tr>\n",
       "    <tr>\n",
       "      <th>mean</th>\n",
       "      <td>2000.691435</td>\n",
       "      <td>0.000000</td>\n",
       "      <td>5.760233e-18</td>\n",
       "      <td>1.620066e-17</td>\n",
       "      <td>5.760233e-18</td>\n",
       "      <td>0.252776</td>\n",
       "      <td>0.000762</td>\n",
       "      <td>-1.440058e-17</td>\n",
       "    </tr>\n",
       "    <tr>\n",
       "      <th>std</th>\n",
       "      <td>11.285871</td>\n",
       "      <td>1.000013</td>\n",
       "      <td>1.000013e+00</td>\n",
       "      <td>1.000013e+00</td>\n",
       "      <td>1.000013e+00</td>\n",
       "      <td>0.866710</td>\n",
       "      <td>0.053029</td>\n",
       "      <td>1.000013e+00</td>\n",
       "    </tr>\n",
       "    <tr>\n",
       "      <th>min</th>\n",
       "      <td>1860.000000</td>\n",
       "      <td>-0.273100</td>\n",
       "      <td>-3.749144e-01</td>\n",
       "      <td>-1.447688e-01</td>\n",
       "      <td>-2.578990e-01</td>\n",
       "      <td>0.000000</td>\n",
       "      <td>0.000000</td>\n",
       "      <td>-6.358385e-01</td>\n",
       "    </tr>\n",
       "    <tr>\n",
       "      <th>25%</th>\n",
       "      <td>1995.000000</td>\n",
       "      <td>-0.273100</td>\n",
       "      <td>-3.749144e-01</td>\n",
       "      <td>-1.447688e-01</td>\n",
       "      <td>-2.578990e-01</td>\n",
       "      <td>0.000000</td>\n",
       "      <td>0.000000</td>\n",
       "      <td>-6.358385e-01</td>\n",
       "    </tr>\n",
       "    <tr>\n",
       "      <th>50%</th>\n",
       "      <td>2002.000000</td>\n",
       "      <td>-0.273100</td>\n",
       "      <td>-3.749144e-01</td>\n",
       "      <td>-1.447688e-01</td>\n",
       "      <td>-2.578990e-01</td>\n",
       "      <td>0.000000</td>\n",
       "      <td>0.000000</td>\n",
       "      <td>-6.358385e-01</td>\n",
       "    </tr>\n",
       "    <tr>\n",
       "      <th>75%</th>\n",
       "      <td>2007.000000</td>\n",
       "      <td>-0.273100</td>\n",
       "      <td>-1.329725e-01</td>\n",
       "      <td>-1.447688e-01</td>\n",
       "      <td>-2.578990e-01</td>\n",
       "      <td>0.000000</td>\n",
       "      <td>0.000000</td>\n",
       "      <td>3.246437e-01</td>\n",
       "    </tr>\n",
       "    <tr>\n",
       "      <th>max</th>\n",
       "      <td>2022.000000</td>\n",
       "      <td>26.960458</td>\n",
       "      <td>2.962209e+01</td>\n",
       "      <td>4.612056e+01</td>\n",
       "      <td>2.206045e+01</td>\n",
       "      <td>20.000000</td>\n",
       "      <td>6.521739</td>\n",
       "      <td>3.686331e+00</td>\n",
       "    </tr>\n",
       "  </tbody>\n",
       "</table>\n",
       "</div>"
      ],
      "text/plain": [
       "               Year    hi_percent  Anar_percent  Venir_percent  Pstp_percent  \\\n",
       "count  39473.000000  39473.000000  3.947300e+04   3.947300e+04  3.947300e+04   \n",
       "mean    2000.691435      0.000000  5.760233e-18   1.620066e-17  5.760233e-18   \n",
       "std       11.285871      1.000013  1.000013e+00   1.000013e+00  1.000013e+00   \n",
       "min     1860.000000     -0.273100 -3.749144e-01  -1.447688e-01 -2.578990e-01   \n",
       "25%     1995.000000     -0.273100 -3.749144e-01  -1.447688e-01 -2.578990e-01   \n",
       "50%     2002.000000     -0.273100 -3.749144e-01  -1.447688e-01 -2.578990e-01   \n",
       "75%     2007.000000     -0.273100 -1.329725e-01  -1.447688e-01 -2.578990e-01   \n",
       "max     2022.000000     26.960458  2.962209e+01   4.612056e+01  2.206045e+01   \n",
       "\n",
       "       HaverDe_percent  TenirQue_percent  PronV_percent  \n",
       "count     39473.000000      39473.000000   3.947300e+04  \n",
       "mean          0.252776          0.000762  -1.440058e-17  \n",
       "std           0.866710          0.053029   1.000013e+00  \n",
       "min           0.000000          0.000000  -6.358385e-01  \n",
       "25%           0.000000          0.000000  -6.358385e-01  \n",
       "50%           0.000000          0.000000  -6.358385e-01  \n",
       "75%           0.000000          0.000000   3.246437e-01  \n",
       "max          20.000000          6.521739   3.686331e+00  "
      ]
     },
     "execution_count": 65,
     "metadata": {},
     "output_type": "execute_result"
    }
   ],
   "source": [
    "sample_data.describe()"
   ]
  },
  {
   "cell_type": "markdown",
   "id": "4e753383-3d29-4d62-bacb-4babf0def64f",
   "metadata": {},
   "source": [
    "**Comment:** Since hierarchical clustering uses Euclidean distance, which is sensitive to scale, we need to rescale all the variables before computing the distance."
   ]
  },
  {
   "cell_type": "code",
   "execution_count": 66,
   "id": "71e18758-9f72-4eb2-bb2d-d77b4fb92bc4",
   "metadata": {},
   "outputs": [],
   "source": [
    "# sorting the values and scaling the features\n",
    "X = sample_data[features]\n",
    "\n",
    "scaler = StandardScaler()\n",
    "X_scaled = scaler.fit_transform(X)"
   ]
  },
  {
   "cell_type": "markdown",
   "id": "67081fdf-49e9-4dbb-b0f0-37372a732906",
   "metadata": {},
   "source": [
    "**Comment:** After scaling the data the next step is stablishing the constraint which is known as \"conectivity\" in Ward linkage for hyerarchical clustering. In our case, that is that **only neighboring years can be in the same cluster**, as we need to allow 1900-1901-1902 to be in the same cluster but not 1900-1902 if 1901 is in another cluster."
   ]
  },
  {
   "cell_type": "code",
   "execution_count": 67,
   "id": "a6f01ad3-e5fe-4207-ad07-92cbea6e29c2",
   "metadata": {},
   "outputs": [],
   "source": [
    "# ensuring only neighboring years can be in same cluster\n",
    "# based on https://scikit-learn.org/stable/auto_examples/cluster/plot_ward_structured_vs_unstructured.html\n",
    "# done through a kneighbors_graph\n",
    "from sklearn.neighbors import kneighbors_graph\n",
    "connectivity = kneighbors_graph(X_scaled, n_neighbors=2, include_self=False)"
   ]
  },
  {
   "cell_type": "code",
   "execution_count": 68,
   "id": "ca559e47-b8bf-4960-a050-ee7dc645b774",
   "metadata": {},
   "outputs": [],
   "source": [
    "import numpy as np\n",
    "from scipy.sparse import csr_matrix\n",
    "\n",
    "n_samples = X_scaled.shape[0]  # Number of years (or rows)\n",
    "rows = np.arange(n_samples - 1)\n",
    "cols = np.arange(1, n_samples)\n",
    "\n",
    "# Create sparse matrix where each year is connected only to its next\n",
    "connectivity = csr_matrix((np.ones(n_samples - 1), (rows, cols)), shape=(n_samples, n_samples))\n",
    "connectivity = connectivity + connectivity.T  # Make it symmetric"
   ]
  },
  {
   "cell_type": "code",
   "execution_count": 69,
   "id": "e06c3a94-65ab-40ca-a3c5-7b558d62a027",
   "metadata": {},
   "outputs": [
    {
     "data": {
      "text/html": [
       "<div>\n",
       "<style scoped>\n",
       "    .dataframe tbody tr th:only-of-type {\n",
       "        vertical-align: middle;\n",
       "    }\n",
       "\n",
       "    .dataframe tbody tr th {\n",
       "        vertical-align: top;\n",
       "    }\n",
       "\n",
       "    .dataframe thead th {\n",
       "        text-align: right;\n",
       "    }\n",
       "</style>\n",
       "<table border=\"1\" class=\"dataframe\">\n",
       "  <thead>\n",
       "    <tr style=\"text-align: right;\">\n",
       "      <th></th>\n",
       "      <th>Year</th>\n",
       "      <th>hi_percent</th>\n",
       "      <th>Anar_percent</th>\n",
       "      <th>Venir_percent</th>\n",
       "      <th>Pstp_percent</th>\n",
       "      <th>HaverDe_percent</th>\n",
       "      <th>TenirQue_percent</th>\n",
       "      <th>PronV_percent</th>\n",
       "    </tr>\n",
       "  </thead>\n",
       "  <tbody>\n",
       "    <tr>\n",
       "      <th>204</th>\n",
       "      <td>1860</td>\n",
       "      <td>-0.2731</td>\n",
       "      <td>-0.374914</td>\n",
       "      <td>0.048204</td>\n",
       "      <td>-0.257899</td>\n",
       "      <td>0.260688</td>\n",
       "      <td>0.0</td>\n",
       "      <td>-0.590053</td>\n",
       "    </tr>\n",
       "    <tr>\n",
       "      <th>202</th>\n",
       "      <td>1860</td>\n",
       "      <td>-0.2731</td>\n",
       "      <td>-0.374914</td>\n",
       "      <td>0.048204</td>\n",
       "      <td>-0.257899</td>\n",
       "      <td>0.260688</td>\n",
       "      <td>0.0</td>\n",
       "      <td>-0.494128</td>\n",
       "    </tr>\n",
       "    <tr>\n",
       "      <th>200</th>\n",
       "      <td>1860</td>\n",
       "      <td>-0.2731</td>\n",
       "      <td>-0.374914</td>\n",
       "      <td>0.048204</td>\n",
       "      <td>-0.257899</td>\n",
       "      <td>0.260688</td>\n",
       "      <td>0.0</td>\n",
       "      <td>-0.574676</td>\n",
       "    </tr>\n",
       "    <tr>\n",
       "      <th>207</th>\n",
       "      <td>1860</td>\n",
       "      <td>-0.2731</td>\n",
       "      <td>-0.374914</td>\n",
       "      <td>0.048204</td>\n",
       "      <td>-0.257899</td>\n",
       "      <td>0.260688</td>\n",
       "      <td>0.0</td>\n",
       "      <td>-0.421072</td>\n",
       "    </tr>\n",
       "    <tr>\n",
       "      <th>198</th>\n",
       "      <td>1860</td>\n",
       "      <td>-0.2731</td>\n",
       "      <td>-0.374914</td>\n",
       "      <td>0.048204</td>\n",
       "      <td>-0.257899</td>\n",
       "      <td>0.260688</td>\n",
       "      <td>0.0</td>\n",
       "      <td>-0.397374</td>\n",
       "    </tr>\n",
       "    <tr>\n",
       "      <th>...</th>\n",
       "      <td>...</td>\n",
       "      <td>...</td>\n",
       "      <td>...</td>\n",
       "      <td>...</td>\n",
       "      <td>...</td>\n",
       "      <td>...</td>\n",
       "      <td>...</td>\n",
       "      <td>...</td>\n",
       "    </tr>\n",
       "    <tr>\n",
       "      <th>4438</th>\n",
       "      <td>2021</td>\n",
       "      <td>-0.2731</td>\n",
       "      <td>-0.374914</td>\n",
       "      <td>3.414102</td>\n",
       "      <td>-0.257899</td>\n",
       "      <td>0.000000</td>\n",
       "      <td>0.0</td>\n",
       "      <td>-0.635838</td>\n",
       "    </tr>\n",
       "    <tr>\n",
       "      <th>4405</th>\n",
       "      <td>2021</td>\n",
       "      <td>-0.2731</td>\n",
       "      <td>-0.374914</td>\n",
       "      <td>-0.144769</td>\n",
       "      <td>-0.257899</td>\n",
       "      <td>4.761905</td>\n",
       "      <td>0.0</td>\n",
       "      <td>0.228595</td>\n",
       "    </tr>\n",
       "    <tr>\n",
       "      <th>4402</th>\n",
       "      <td>2021</td>\n",
       "      <td>-0.2731</td>\n",
       "      <td>-0.374914</td>\n",
       "      <td>-0.144769</td>\n",
       "      <td>-0.257899</td>\n",
       "      <td>0.000000</td>\n",
       "      <td>0.0</td>\n",
       "      <td>-0.155597</td>\n",
       "    </tr>\n",
       "    <tr>\n",
       "      <th>4441</th>\n",
       "      <td>2022</td>\n",
       "      <td>-0.2731</td>\n",
       "      <td>-0.374914</td>\n",
       "      <td>-0.144769</td>\n",
       "      <td>-0.257899</td>\n",
       "      <td>0.000000</td>\n",
       "      <td>0.0</td>\n",
       "      <td>-0.439376</td>\n",
       "    </tr>\n",
       "    <tr>\n",
       "      <th>4440</th>\n",
       "      <td>2022</td>\n",
       "      <td>-0.2731</td>\n",
       "      <td>-0.374914</td>\n",
       "      <td>-0.144769</td>\n",
       "      <td>-0.257899</td>\n",
       "      <td>4.545455</td>\n",
       "      <td>0.0</td>\n",
       "      <td>0.444704</td>\n",
       "    </tr>\n",
       "  </tbody>\n",
       "</table>\n",
       "<p>39473 rows × 8 columns</p>\n",
       "</div>"
      ],
      "text/plain": [
       "      Year  hi_percent  Anar_percent  Venir_percent  Pstp_percent  \\\n",
       "204   1860     -0.2731     -0.374914       0.048204     -0.257899   \n",
       "202   1860     -0.2731     -0.374914       0.048204     -0.257899   \n",
       "200   1860     -0.2731     -0.374914       0.048204     -0.257899   \n",
       "207   1860     -0.2731     -0.374914       0.048204     -0.257899   \n",
       "198   1860     -0.2731     -0.374914       0.048204     -0.257899   \n",
       "...    ...         ...           ...            ...           ...   \n",
       "4438  2021     -0.2731     -0.374914       3.414102     -0.257899   \n",
       "4405  2021     -0.2731     -0.374914      -0.144769     -0.257899   \n",
       "4402  2021     -0.2731     -0.374914      -0.144769     -0.257899   \n",
       "4441  2022     -0.2731     -0.374914      -0.144769     -0.257899   \n",
       "4440  2022     -0.2731     -0.374914      -0.144769     -0.257899   \n",
       "\n",
       "      HaverDe_percent  TenirQue_percent  PronV_percent  \n",
       "204          0.260688               0.0      -0.590053  \n",
       "202          0.260688               0.0      -0.494128  \n",
       "200          0.260688               0.0      -0.574676  \n",
       "207          0.260688               0.0      -0.421072  \n",
       "198          0.260688               0.0      -0.397374  \n",
       "...               ...               ...            ...  \n",
       "4438         0.000000               0.0      -0.635838  \n",
       "4405         4.761905               0.0       0.228595  \n",
       "4402         0.000000               0.0      -0.155597  \n",
       "4441         0.000000               0.0      -0.439376  \n",
       "4440         4.545455               0.0       0.444704  \n",
       "\n",
       "[39473 rows x 8 columns]"
      ]
     },
     "execution_count": 69,
     "metadata": {},
     "output_type": "execute_result"
    }
   ],
   "source": [
    "sample_data"
   ]
  },
  {
   "cell_type": "code",
   "execution_count": 70,
   "id": "d6e55926-da69-4777-b361-df802ac8deb9",
   "metadata": {},
   "outputs": [],
   "source": [
    "from sklearn.cluster import AgglomerativeClustering\n",
    "from sklearn.metrics import silhouette_score\n",
    "\n",
    "scores = []\n",
    "for k in range(2, 10):\n",
    "    model = AgglomerativeClustering(n_clusters=k, connectivity=connectivity, linkage='ward')\n",
    "    labels = model.fit_predict(X_scaled)\n",
    "    score = silhouette_score(X_scaled, labels)\n",
    "    scores.append((k, score))"
   ]
  },
  {
   "cell_type": "code",
   "execution_count": 71,
   "id": "2256f52f-284f-403c-99d4-60d521720006",
   "metadata": {},
   "outputs": [
    {
     "data": {
      "text/plain": [
       "[(2, -0.1560226780708679),\n",
       " (3, -0.15478554244150292),\n",
       " (4, -0.167781899755033),\n",
       " (5, -0.15965765492276976),\n",
       " (6, -0.15621753759138896),\n",
       " (7, -0.15592325834457793),\n",
       " (8, -0.15196521559107287),\n",
       " (9, -0.15165981976533613)]"
      ]
     },
     "execution_count": 71,
     "metadata": {},
     "output_type": "execute_result"
    }
   ],
   "source": [
    "scores"
   ]
  },
  {
   "cell_type": "code",
   "execution_count": 72,
   "id": "69db8806-a349-4e6a-b6cf-ecc5f096ecde",
   "metadata": {},
   "outputs": [],
   "source": [
    "from sklearn.cluster import AgglomerativeClustering\n",
    "\n",
    "ward = AgglomerativeClustering(\n",
    "    n_clusters=4,\n",
    "    connectivity=connectivity,\n",
    "    linkage=\"ward\"\n",
    ").fit(sample_data)\n",
    "label = ward.labels_"
   ]
  },
  {
   "cell_type": "code",
   "execution_count": 73,
   "id": "5484f012-25b1-4a8f-b6a9-2369d4171598",
   "metadata": {},
   "outputs": [],
   "source": [
    "sample_data[\"period_cluster\"] = ward.fit_predict(sample_data)"
   ]
  },
  {
   "cell_type": "code",
   "execution_count": 74,
   "id": "967774cc-ec63-4250-851f-ef0a8a8eeb88",
   "metadata": {},
   "outputs": [
    {
     "data": {
      "text/plain": [
       "0.47719223212715656"
      ]
     },
     "execution_count": 74,
     "metadata": {},
     "output_type": "execute_result"
    }
   ],
   "source": [
    "from sklearn.metrics import silhouette_score\n",
    "silhouette_score(sample_data, sample_data[\"period_cluster\"])"
   ]
  },
  {
   "cell_type": "code",
   "execution_count": 75,
   "id": "e8beceb3-60ab-4414-96b6-282f03fa2bbd",
   "metadata": {},
   "outputs": [
    {
     "data": {
      "image/png": "[encoded data removed]",
      "text/plain": [
       "<Figure size 1000x1500 with 7 Axes>"
      ]
     },
     "metadata": {},
     "output_type": "display_data"
    }
   ],
   "source": [
    "import matplotlib.pyplot as plt\n",
    "fig, ax = plt.subplot_mosaic([[\"A\", \"A\"], # A - hi \n",
    "                              [\"B\", \"B\"], # B - PassatPerifràstic\n",
    "                              [\"C\", \"C\"], # C - venir\n",
    "                              [\"D\", \"D\"], # D - anar\n",
    "                              [\"E\", \"E\"], # E - Haver de\n",
    "                              [\"F\", \"F\"], # F - Tenir que\n",
    "                              [\"G\", \"G\"]], # G - Pronominal Verbs \n",
    "                             figsize=(10, 15),\n",
    "                             constrained_layout=True)\n",
    "\n",
    "# (A) Clustering of years acording to the percentage of hi respect to the token count\n",
    "for cluster in sorted(sample_data[\"period_cluster\"].unique()):\n",
    "    subset = sample_data[sample_data[\"period_cluster\"] == cluster]\n",
    "    ax[\"A\"].plot(subset[\"Year\"], subset[\"hi_percent\"], label=f\"Cluster {cluster}\")\n",
    "    \n",
    "ax[\"A\"].legend()\n",
    "ax[\"A\"].set_title(\"hi_percent over time by cluster\")\n",
    "ax[\"A\"].set_xlabel(\"Year\")\n",
    "ax[\"A\"].set_ylabel(\"hi_percent\")\n",
    "\n",
    "# (B) Clustering of years acording to the percentage of Passat Perifràstic respect to the token count\n",
    "for cluster in sorted(sample_data[\"period_cluster\"].unique()):\n",
    "    subset = sample_data[sample_data[\"period_cluster\"] == cluster]\n",
    "    ax[\"B\"].plot(subset[\"Year\"], subset[\"Pstp_percent\"], label=f\"Cluster {cluster}\")\n",
    "    \n",
    "ax[\"B\"].set_title(\"Pstp_percent over time by cluster\")\n",
    "ax[\"B\"].set_xlabel(\"Year\")\n",
    "ax[\"B\"].set_ylabel(\"Pstp_percent\")\n",
    "\n",
    "# (C) Clustering of years acording to the percentage of Venir respect to the token count\n",
    "for cluster in sorted(sample_data[\"period_cluster\"].unique()):\n",
    "    subset = sample_data[sample_data[\"period_cluster\"] == cluster]\n",
    "    ax[\"C\"].plot(subset[\"Year\"], subset[\"Anar_percent\"], label=f\"Cluster {cluster}\")\n",
    "    \n",
    "ax[\"C\"].set_title(\"Anar_percent over time by cluster\")\n",
    "ax[\"C\"].set_xlabel(\"Year\")\n",
    "ax[\"C\"].set_ylabel(\"Anar_percent\")\n",
    "\n",
    "# (D) Clustering of years acording to the percentage of Haver de respect to the token count\n",
    "for cluster in sorted(sample_data[\"period_cluster\"].unique()):\n",
    "    subset = sample_data[sample_data[\"period_cluster\"] == cluster]\n",
    "    ax[\"D\"].plot(subset[\"Year\"], subset[\"HaverDe_percent\"], label=f\"Cluster {cluster}\")\n",
    "    \n",
    "ax[\"D\"].set_title(\"HaverDe_percent over time by cluster\")\n",
    "ax[\"D\"].set_xlabel(\"Year\")\n",
    "ax[\"D\"].set_ylabel(\"HaverDe_percent\")\n",
    "\n",
    "\n",
    "# (E) Clustering of years acording to the percentage of Tenir que respect to the token count\n",
    "for cluster in sorted(sample_data[\"period_cluster\"].unique()):\n",
    "    subset = sample_data[sample_data[\"period_cluster\"] == cluster]\n",
    "    ax[\"E\"].plot(subset[\"Year\"], subset[\"TenirQue_percent\"], label=f\"Cluster {cluster}\")\n",
    "    \n",
    "ax[\"E\"].set_title(\"TenirQue_percent over time by cluster\")\n",
    "ax[\"E\"].set_xlabel(\"Year\")\n",
    "ax[\"E\"].set_ylabel(\"TenirQue_percent\")\n",
    "\n",
    "\n",
    "# (F) Clustering of years acording to the percentage of Anar respect to the token count\n",
    "for cluster in sorted(sample_data[\"period_cluster\"].unique()):\n",
    "    subset = sample_data[sample_data[\"period_cluster\"] == cluster]\n",
    "    ax[\"F\"].plot(subset[\"Year\"], subset[\"Venir_percent\"], label=f\"Cluster {cluster}\")\n",
    "    \n",
    "ax[\"F\"].set_title(\"Venir_percent over time by cluster\")\n",
    "ax[\"F\"].set_xlabel(\"Year\")\n",
    "ax[\"F\"].set_ylabel(\"Venir_percent\")\n",
    "\n",
    "# (G) Clustering of years acording to the percentage of Pronominal Verbs respect to the token count\n",
    "for cluster in sorted(sample_data[\"period_cluster\"].unique()):\n",
    "    subset = sample_data[sample_data[\"period_cluster\"] == cluster]\n",
    "    ax[\"G\"].plot(subset[\"Year\"], subset[\"PronV_percent\"], label=f\"Cluster {cluster}\")\n",
    "    \n",
    "ax[\"G\"].set_title(\"PronV_percent over time by cluster\")\n",
    "ax[\"G\"].set_xlabel(\"Year\")\n",
    "ax[\"G\"].set_ylabel(\"PronV_percent\")\n",
    "\n",
    "# displaying\n",
    "plt.show()"
   ]
  },
  {
   "cell_type": "markdown",
   "id": "af19e677-a692-45ef-8b90-9d64144bb6cf",
   "metadata": {},
   "source": [
    "**This is just the placeholder for the conclusion of this part of this analysis. I currently do not have enough knowledge of this method to do anything with these results/plots.**"
   ]
  }
 ],
 "metadata": {
  "kernelspec": {
   "display_name": "Python 3 (ipykernel)",
   "language": "python",
   "name": "python3"
  },
  "language_info": {
   "codemirror_mode": {
    "name": "ipython",
    "version": 3
   },
   "file_extension": ".py",
   "mimetype": "text/x-python",
   "name": "python",
   "nbconvert_exporter": "python",
   "pygments_lexer": "ipython3",
   "version": "3.12.5"
  }
 },
 "nbformat": 4,
 "nbformat_minor": 5
}
