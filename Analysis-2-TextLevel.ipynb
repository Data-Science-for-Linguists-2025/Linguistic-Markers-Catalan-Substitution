{
 "cells": [
  {
   "cell_type": "markdown",
   "id": "788da74b-667a-4988-90b3-8305b9fb9799",
   "metadata": {},
   "source": [
    "# Analysis 2\n",
    "Jana Bruses | janabruses@pitt.edu | University of Pittsburgh | Apr 21st - Apr 29th"
   ]
  },
  {
   "cell_type": "markdown",
   "id": "60e4d0fe-a7c2-4ba5-8f94-a19cc4a4cac7",
   "metadata": {},
   "source": [
    "Second notebook of the Analysis portion of the project.\\\n",
    "First notebook found at: [Analysis-1-LowLevel](http://localhost:8888/notebooks/Linguistic-Markers-Catalan-Substitution/Analysis-1-LowLevel.ipynb)\\\n",
    "Fourth notebook of the project, after the [data portion](https://github.com/Data-Science-for-Linguists-2025/Linguistic-Markers-Catalan-Substitution/blob/main/Data-Parsing-Exploratory-Analysis-2.ipynb) notebook."
   ]
  },
  {
   "cell_type": "markdown",
   "id": "07aa05c1-9063-4c07-ac77-53de74eee293",
   "metadata": {},
   "source": [
    "In this analysis notebook various machine learning models were used to:\n",
    "1. Find if the texts can actually be classified in periods using Term Frequency - Inverse Document Frequency\n",
    "2. Analyze the effectiveness of the selected linguistic markers that could indicate Catalan's substitution explored in [Analysis-1-LowLevel](http://localhost:8888/notebooks/Linguistic-Markers-Catalan-Substitution/Analysis-1-LowLevel.ipynb)\n",
    "\n",
    "namely:\n",
    "\n",
    "1. **\"hi\" percentage** - to analyze loss of word classes\n",
    "2. **passat perifràstic vs passat simple** - to analyze time lexicon modification\n",
    "3. **anar vs venir** percentage - to analyze space lexicon modification\n",
    "4. **haver de vs tenir que** percentage - to analyze  syntactic restructuring\n",
    "5. **verb pronominalization** - to analyze syntactic restructuring"
   ]
  },
  {
   "cell_type": "markdown",
   "id": "6591ec5c-feb9-487f-8ea5-5a721e9600b5",
   "metadata": {},
   "source": [
    "Contents of this analysis notebook 2:\\\n",
    "**1** [Building a Naïve Bayes classifier using tf-idf features (pre-post Franquism)](#1.-Tf-Idf-Naive-Bayes-for-pre-vs-post-Franquism)\\\n",
    "**2** [Building a Naïve Bayes classifier using tf-idf features (3 periods)](#2.-Tf-Idf-Naive-Bayes-for-3-period-classification)\\\n",
    "**3** [Building a classifier using our linguistic features](#3.-Building-a-classifier-using-our-linguistic-features)\\\n",
    "**4** [Conclusion](#Conclusion)"
   ]
  },
  {
   "cell_type": "code",
   "execution_count": 1,
   "id": "179608a3-c7dc-4c37-99f5-8a8a9c8f094d",
   "metadata": {},
   "outputs": [],
   "source": [
    "# loading libraries\n",
    "import pandas as pd\n",
    "import numpy as np"
   ]
  },
  {
   "cell_type": "markdown",
   "id": "fa788c5e-b2fd-4aec-ade6-9a53d641b99d",
   "metadata": {},
   "source": [
    "All the data used in the analysis steps was included in the dataframe and pickled at the end of the analysis.\\\n",
    "The data will now be loaded."
   ]
  },
  {
   "cell_type": "code",
   "execution_count": 2,
   "id": "79e2c852-0df1-4d55-ba00-c7ca9cdfbfe0",
   "metadata": {},
   "outputs": [],
   "source": [
    "# loading the pickled complete dataframe\n",
    "tokscomplete_df = pd.read_pickle(\"data/tokcomplete_df.pkl\")\n",
    "tokscomplete_df = tokscomplete_df.drop_duplicates(subset=\"Text\", keep=\"first\")"
   ]
  },
  {
   "cell_type": "markdown",
   "id": "e1202c49-66f2-43e9-a28b-987881e69b8c",
   "metadata": {},
   "source": [
    "## 1. Tf-Idf Naive Bayes for pre vs post Franquism"
   ]
  },
  {
   "cell_type": "markdown",
   "id": "b960eb7b-b58e-4e9e-ade5-23891fb9b30d",
   "metadata": {},
   "source": [
    "Our data, is split in two main periods, before Franquism and after Franquism. We have two blocks of data. From 1860 to 1926 and from 1985 to 2022. We will label this two periods as 1926b and 1985a and have a classifier distinguish them, to look for other features trough tf-idf, that could tell us more about Catalan's substitution."
   ]
  },
  {
   "cell_type": "code",
   "execution_count": 3,
   "id": "52e63b99-da13-4ace-bf82-d6904ac890b3",
   "metadata": {},
   "outputs": [],
   "source": [
    "def period2_tagger(year):\n",
    "    if year <= 1926:\n",
    "        return \"1926b\"\n",
    "    elif year >= 1985:\n",
    "        return \"1985a\"\n",
    "    else:\n",
    "        print(year) #printing any years not in that range to check"
   ]
  },
  {
   "cell_type": "code",
   "execution_count": 4,
   "id": "53baf330-11d1-4f83-bd60-beb856734828",
   "metadata": {},
   "outputs": [],
   "source": [
    "tokscomplete_df[\"Period2\"] = tokscomplete_df[\"Year\"].apply(period2_tagger)"
   ]
  },
  {
   "cell_type": "code",
   "execution_count": 5,
   "id": "95c4c92d-38cf-44f0-880e-cb1fba1963f0",
   "metadata": {},
   "outputs": [
    {
     "data": {
      "text/plain": [
       "Period2\n",
       "1985a    64916\n",
       "1926b       28\n",
       "Name: count, dtype: int64"
      ]
     },
     "execution_count": 5,
     "metadata": {},
     "output_type": "execute_result"
    }
   ],
   "source": [
    "tokscomplete_df[\"Period2\"].value_counts()"
   ]
  },
  {
   "cell_type": "markdown",
   "id": "a1c3785f-a538-45e6-9879-1661cfadf404",
   "metadata": {},
   "source": [
    "**Comment:**\n",
    "As this numbers portray, we have a huge amount of data for the recent period, while we have very few documents for the period from 1926 and earler. However, since these are ceremonial speeches, looking at the length in tokens might actually be more informative. "
   ]
  },
  {
   "cell_type": "code",
   "execution_count": 6,
   "id": "78fb1fed-4c87-4bec-ac79-e84532bc842d",
   "metadata": {},
   "outputs": [
    {
     "data": {
      "text/plain": [
       "Period2\n",
       "1926b     143831\n",
       "1985a    2803938\n",
       "Name: Len_toks, dtype: int64"
      ]
     },
     "execution_count": 6,
     "metadata": {},
     "output_type": "execute_result"
    }
   ],
   "source": [
    "tokscomplete_df.groupby(\"Period2\")[\"Len_toks\"].sum()"
   ]
  },
  {
   "cell_type": "markdown",
   "id": "496ae739-6d05-4258-b53f-2577f9f80125",
   "metadata": {},
   "source": [
    "**Comment:** The gap is not as big as it was looking at file counts, as many of the later contributions are shorter, containing fewer tokens, while the few documents from before 1926 are complete speeches. \n",
    "\n",
    "Because of this, instead of having the classifier classify full pieces of text, we will use single sentences as the text features. "
   ]
  },
  {
   "cell_type": "code",
   "execution_count": 7,
   "id": "880b4d65-ed6b-4797-a78d-bba7a698f964",
   "metadata": {},
   "outputs": [],
   "source": [
    "def sent_tokenize(content):\n",
    "    doc = nlp(content)\n",
    "    sent_list = [sentence.text for sentence in doc.sentences]\n",
    "    return sent_list"
   ]
  },
  {
   "cell_type": "markdown",
   "id": "e48adf72-4b7f-4682-9a59-9a20c1cc3b81",
   "metadata": {},
   "source": [
    "Since sentence tokenization through Stanza is a very demanding process that my laptop couldn't handle it was done using the pitt's CRC supercomputing. The following commented code corresponds to the files, using a very similar process as the function sent_tokenize above. The files in their respective extension can be found in [Scripts Folder](https://github.com/Data-Science-for-Linguists-2025/Linguistic-Markers-Catalan-Substitution/tree/main/scripts) as \"sent_tok.py\" and \"sent_tok.sh\"."
   ]
  },
  {
   "cell_type": "code",
   "execution_count": 8,
   "id": "293cfb1d-125c-44bf-bc4b-38b2f125a620",
   "metadata": {},
   "outputs": [],
   "source": [
    "python_code = \"\"\"\n",
    "import pandas as pd\n",
    "import stanza\n",
    "\n",
    "data_df = pd.read_pickle(\"lemmaComplete.pkl\")\n",
    "nlp = stanza.Pipeline(lang='ca', processors='tokenize')\n",
    "mini_doc = nlp(\"Hola, com estas? Jo genial. I tu? Anem a fer una volta?\")\n",
    "print(\"sentences list:\")\n",
    "print([sent.text  for\n",
    "        sent in nlp(mini_doc).sentences])\n",
    "print()\n",
    "\n",
    "data_df[\"Sent_toks\"] = data_df[\"Text\"].apply(lambda doc:\n",
    "                                                        [sent.text  for\n",
    "                                                        sent in nlp(doc).sentences])\n",
    "data_df.to_pickle(\"sent_tok.pkl\")\n",
    "\"\"\""
   ]
  },
  {
   "cell_type": "code",
   "execution_count": 9,
   "id": "fdc19bcc-4e55-48d8-8d56-640c58969c18",
   "metadata": {},
   "outputs": [],
   "source": [
    "slurm_file = \"\"\"\n",
    "#!/usr/bin/env bash\n",
    "\n",
    "#SBATCH --job-name=proj_senttok\n",
    "#SBATCH --output=sent_tok.out\n",
    "#SBATCH --nodes=1\n",
    "#SBATCH --ntasks=3\n",
    "#SBATCH --partition=smp\n",
    "#SBATCH --cluster=smp\n",
    "#SBATCH --mem-per-cpu=16000\n",
    "#SBATCH --time=180\n",
    "\n",
    "module load python/ondemand-jupyter-python3.11\n",
    "python sent_tok.py\n",
    "\"\"\""
   ]
  },
  {
   "cell_type": "code",
   "execution_count": 10,
   "id": "b4856783-455e-45d6-bbac-cb728f1c5cf0",
   "metadata": {},
   "outputs": [],
   "source": [
    "# reading the pickled dataframe with the new column containing the sentence tokens \n",
    "senttok_df = pd.read_pickle(\"data/sent_tok.pkl\")"
   ]
  },
  {
   "cell_type": "code",
   "execution_count": 11,
   "id": "e232e3c5-8736-4a5f-8014-b580f5e24b10",
   "metadata": {},
   "outputs": [
    {
     "name": "stdout",
     "output_type": "stream",
     "text": [
      "Breu seré, cuant ja se han complagut vostres oídos ab los melodiosos cants de tants trovadors inspirats per lo esperit de la Religió, per lo amor de la patria y per lo amor á la bellesa ¿Qué podria jo anyadir cuant sento ja escapar de mon esperit la última espurna del juvenil entusiasme?\n",
      "\n",
      "Tant sols me cap lo expressar ab curtas frases lo goig que inunda mon cor al véurervos per segona vegada reunits en aquesta festa de familia, renovant memorias tan dolsas, evocant noms tan estimats, y recordant dias tan gloriosos pera nostra antiga patria.\n"
     ]
    }
   ],
   "source": [
    "# looking at a couple examples\n",
    "sent_tokens_example = senttok_df[senttok_df[\"Year\"] == 1860][\"Sent_toks\"].iloc[0]\n",
    "print(sent_tokens_example[0])\n",
    "print()\n",
    "print(sent_tokens_example[1])"
   ]
  },
  {
   "cell_type": "code",
   "execution_count": 12,
   "id": "9bf2457a-b71b-43cd-a95c-e03c28905e1d",
   "metadata": {},
   "outputs": [],
   "source": [
    "# re-doing the period tag on the sentence tokenized dataframe\n",
    "senttok_df[\"Period2\"] = senttok_df[\"Year\"].apply(period2_tagger)"
   ]
  },
  {
   "cell_type": "code",
   "execution_count": 13,
   "id": "2e45029a-d6b4-4d5d-993f-a11afbd3a0c7",
   "metadata": {},
   "outputs": [],
   "source": [
    "senttok_df[\"Sent_count\"] = senttok_df[\"Sent_toks\"].apply(lambda sents: len(sents))"
   ]
  },
  {
   "cell_type": "code",
   "execution_count": 14,
   "id": "ee7b9cb1-fe6e-4e00-b799-c571e32de73b",
   "metadata": {},
   "outputs": [
    {
     "data": {
      "text/plain": [
       "Period2\n",
       "1926b      2835\n",
       "1985a    199697\n",
       "Name: Sent_count, dtype: int64"
      ]
     },
     "execution_count": 14,
     "metadata": {},
     "output_type": "execute_result"
    }
   ],
   "source": [
    "senttok_df.groupby(\"Period2\")[\"Sent_count\"].sum()"
   ]
  },
  {
   "cell_type": "code",
   "execution_count": 15,
   "id": "bacb8dd3-76c5-4220-b35b-ec69a6e78b0e",
   "metadata": {},
   "outputs": [
    {
     "data": {
      "text/plain": [
       "202532"
      ]
     },
     "execution_count": 15,
     "metadata": {},
     "output_type": "execute_result"
    }
   ],
   "source": [
    "# considering the total\n",
    "senttok_df[\"Sent_count\"].sum()"
   ]
  },
  {
   "cell_type": "code",
   "execution_count": 16,
   "id": "b3f0ae29-6aab-4ba9-a851-c34d4944f167",
   "metadata": {},
   "outputs": [
    {
     "data": {
      "text/plain": [
       "0.986002211996129"
      ]
     },
     "execution_count": 16,
     "metadata": {},
     "output_type": "execute_result"
    }
   ],
   "source": [
    "# basline is incredibly high\n",
    "199697/202532"
   ]
  },
  {
   "cell_type": "markdown",
   "id": "e82da5b1-6b74-48a8-8927-a4649fbaff39",
   "metadata": {},
   "source": [
    "**Comment:** We have a very big imbalance. One of the target groups of the 2 accounts for 98% of the data, which means that even if we tagged everything as that group, specifically \"1985a\" we would get 98% accuracy. Consequently, our classifier will need to be almost perfect either 99% or completely perfect to do better than the baseline."
   ]
  },
  {
   "cell_type": "code",
   "execution_count": 17,
   "id": "eb6df6e8-1a81-43b2-9d22-0fe83998a067",
   "metadata": {},
   "outputs": [],
   "source": [
    "# creating a function to tag the sentences\n",
    "def tag_sents(sent_list, period2_tag):\n",
    "    return ([(s, period2_tag) for s in sent_list])"
   ]
  },
  {
   "cell_type": "code",
   "execution_count": 18,
   "id": "25363c4d-7d0b-424d-95c0-bcf587be8ded",
   "metadata": {},
   "outputs": [],
   "source": [
    "# tagging the sentences\n",
    "senttok_df[\"tagged_sents\"] = senttok_df.apply(lambda row: tag_sents(row[\"Sent_toks\"], row[\"Period2\"]), axis=1)"
   ]
  },
  {
   "cell_type": "code",
   "execution_count": 19,
   "id": "f6f2098d-5773-4fda-875b-3a577fb4debf",
   "metadata": {},
   "outputs": [],
   "source": [
    "# separating them into two lists\n",
    "sents_1926b = [sent for sentence_list in senttok_df[\"tagged_sents\"] for sent in sentence_list if sent[1]==\"1926b\"]\n",
    "sents_1985a = [sent for sentence_list in senttok_df[\"tagged_sents\"] for sent in sentence_list if sent[1]==\"1985a\"]"
   ]
  },
  {
   "cell_type": "code",
   "execution_count": 20,
   "id": "ec81101c-1022-43a0-92a5-85f37a93d322",
   "metadata": {},
   "outputs": [
    {
     "name": "stdout",
     "output_type": "stream",
     "text": [
      "(\"L'home que per amor al estudi, impulsat per un imperatiu ineludible 's manté reclòs en el seu laboratori o en la biblioteca, treballant sense parar may, indiferent a les temptacions mondanes, es certament un hèroe.\", '1926b')\n"
     ]
    },
    {
     "data": {
      "text/plain": [
       "('perquè que el president de catalunya sigui rebut pel president de la comissió europea',\n",
       " '1985a')"
      ]
     },
     "execution_count": 20,
     "metadata": {},
     "output_type": "execute_result"
    }
   ],
   "source": [
    "# checking a sentence from each of the lists to see the tag\n",
    "print(sents_1926b[0])\n",
    "sents_1985a[0]"
   ]
  },
  {
   "cell_type": "code",
   "execution_count": 21,
   "id": "54aa6e75-1e18-4602-ac31-c33115404a5b",
   "metadata": {},
   "outputs": [],
   "source": [
    "# concatenating the two tagged sentence lists\n",
    "sents = sents_1926b+sents_1985a\n",
    "\n",
    "# randomizing the lists after concatenation\n",
    "import random\n",
    "random.Random(10).shuffle(sents)"
   ]
  },
  {
   "cell_type": "code",
   "execution_count": 22,
   "id": "97a27415-a811-4c6c-950e-9500adf6fa89",
   "metadata": {},
   "outputs": [],
   "source": [
    "# turning the tagged sents lists into a dataframe\n",
    "tagged_df = pd.DataFrame(sents, columns=[\"sentence\", \"tag\"])"
   ]
  },
  {
   "cell_type": "code",
   "execution_count": 23,
   "id": "c62a0719-54f2-4c63-9b51-844370492305",
   "metadata": {},
   "outputs": [],
   "source": [
    "# creating traning and testing partitions\n",
    "from sklearn.model_selection import train_test_split\n",
    "docs_train, docs_test, y_train, y_test = train_test_split(tagged_df[\"sentence\"], tagged_df[\"tag\"], test_size = 0.20, random_state = 0)"
   ]
  },
  {
   "cell_type": "code",
   "execution_count": 24,
   "id": "afc570a2-c0d2-460a-a899-8f131c7db011",
   "metadata": {},
   "outputs": [
    {
     "name": "stdout",
     "output_type": "stream",
     "text": [
      "162025 40507\n",
      "162025 40507\n",
      "\n",
      "['1926b', '1985a']\n",
      "['1926b', '1985a']\n"
     ]
    }
   ],
   "source": [
    "# examining resulting partitions \n",
    "print(len(docs_train), len(docs_test))\n",
    "print(len(y_train), len(y_test))\n",
    "print()\n",
    "print(sorted(set(y_train)))\n",
    "print(sorted(set(y_test)))"
   ]
  },
  {
   "cell_type": "code",
   "execution_count": 25,
   "id": "f0de9ddc-41a8-4a20-a87b-6112de7f2a14",
   "metadata": {},
   "outputs": [
    {
     "data": {
      "text/html": [
       "<style>#sk-container-id-1 {\n",
       "  /* Definition of color scheme common for light and dark mode */\n",
       "  --sklearn-color-text: #000;\n",
       "  --sklearn-color-text-muted: #666;\n",
       "  --sklearn-color-line: gray;\n",
       "  /* Definition of color scheme for unfitted estimators */\n",
       "  --sklearn-color-unfitted-level-0: #fff5e6;\n",
       "  --sklearn-color-unfitted-level-1: #f6e4d2;\n",
       "  --sklearn-color-unfitted-level-2: #ffe0b3;\n",
       "  --sklearn-color-unfitted-level-3: chocolate;\n",
       "  /* Definition of color scheme for fitted estimators */\n",
       "  --sklearn-color-fitted-level-0: #f0f8ff;\n",
       "  --sklearn-color-fitted-level-1: #d4ebff;\n",
       "  --sklearn-color-fitted-level-2: #b3dbfd;\n",
       "  --sklearn-color-fitted-level-3: cornflowerblue;\n",
       "\n",
       "  /* Specific color for light theme */\n",
       "  --sklearn-color-text-on-default-background: var(--sg-text-color, var(--theme-code-foreground, var(--jp-content-font-color1, black)));\n",
       "  --sklearn-color-background: var(--sg-background-color, var(--theme-background, var(--jp-layout-color0, white)));\n",
       "  --sklearn-color-border-box: var(--sg-text-color, var(--theme-code-foreground, var(--jp-content-font-color1, black)));\n",
       "  --sklearn-color-icon: #696969;\n",
       "\n",
       "  @media (prefers-color-scheme: dark) {\n",
       "    /* Redefinition of color scheme for dark theme */\n",
       "    --sklearn-color-text-on-default-background: var(--sg-text-color, var(--theme-code-foreground, var(--jp-content-font-color1, white)));\n",
       "    --sklearn-color-background: var(--sg-background-color, var(--theme-background, var(--jp-layout-color0, #111)));\n",
       "    --sklearn-color-border-box: var(--sg-text-color, var(--theme-code-foreground, var(--jp-content-font-color1, white)));\n",
       "    --sklearn-color-icon: #878787;\n",
       "  }\n",
       "}\n",
       "\n",
       "#sk-container-id-1 {\n",
       "  color: var(--sklearn-color-text);\n",
       "}\n",
       "\n",
       "#sk-container-id-1 pre {\n",
       "  padding: 0;\n",
       "}\n",
       "\n",
       "#sk-container-id-1 input.sk-hidden--visually {\n",
       "  border: 0;\n",
       "  clip: rect(1px 1px 1px 1px);\n",
       "  clip: rect(1px, 1px, 1px, 1px);\n",
       "  height: 1px;\n",
       "  margin: -1px;\n",
       "  overflow: hidden;\n",
       "  padding: 0;\n",
       "  position: absolute;\n",
       "  width: 1px;\n",
       "}\n",
       "\n",
       "#sk-container-id-1 div.sk-dashed-wrapped {\n",
       "  border: 1px dashed var(--sklearn-color-line);\n",
       "  margin: 0 0.4em 0.5em 0.4em;\n",
       "  box-sizing: border-box;\n",
       "  padding-bottom: 0.4em;\n",
       "  background-color: var(--sklearn-color-background);\n",
       "}\n",
       "\n",
       "#sk-container-id-1 div.sk-container {\n",
       "  /* jupyter's `normalize.less` sets `[hidden] { display: none; }`\n",
       "     but bootstrap.min.css set `[hidden] { display: none !important; }`\n",
       "     so we also need the `!important` here to be able to override the\n",
       "     default hidden behavior on the sphinx rendered scikit-learn.org.\n",
       "     See: https://github.com/scikit-learn/scikit-learn/issues/21755 */\n",
       "  display: inline-block !important;\n",
       "  position: relative;\n",
       "}\n",
       "\n",
       "#sk-container-id-1 div.sk-text-repr-fallback {\n",
       "  display: none;\n",
       "}\n",
       "\n",
       "div.sk-parallel-item,\n",
       "div.sk-serial,\n",
       "div.sk-item {\n",
       "  /* draw centered vertical line to link estimators */\n",
       "  background-image: linear-gradient(var(--sklearn-color-text-on-default-background), var(--sklearn-color-text-on-default-background));\n",
       "  background-size: 2px 100%;\n",
       "  background-repeat: no-repeat;\n",
       "  background-position: center center;\n",
       "}\n",
       "\n",
       "/* Parallel-specific style estimator block */\n",
       "\n",
       "#sk-container-id-1 div.sk-parallel-item::after {\n",
       "  content: \"\";\n",
       "  width: 100%;\n",
       "  border-bottom: 2px solid var(--sklearn-color-text-on-default-background);\n",
       "  flex-grow: 1;\n",
       "}\n",
       "\n",
       "#sk-container-id-1 div.sk-parallel {\n",
       "  display: flex;\n",
       "  align-items: stretch;\n",
       "  justify-content: center;\n",
       "  background-color: var(--sklearn-color-background);\n",
       "  position: relative;\n",
       "}\n",
       "\n",
       "#sk-container-id-1 div.sk-parallel-item {\n",
       "  display: flex;\n",
       "  flex-direction: column;\n",
       "}\n",
       "\n",
       "#sk-container-id-1 div.sk-parallel-item:first-child::after {\n",
       "  align-self: flex-end;\n",
       "  width: 50%;\n",
       "}\n",
       "\n",
       "#sk-container-id-1 div.sk-parallel-item:last-child::after {\n",
       "  align-self: flex-start;\n",
       "  width: 50%;\n",
       "}\n",
       "\n",
       "#sk-container-id-1 div.sk-parallel-item:only-child::after {\n",
       "  width: 0;\n",
       "}\n",
       "\n",
       "/* Serial-specific style estimator block */\n",
       "\n",
       "#sk-container-id-1 div.sk-serial {\n",
       "  display: flex;\n",
       "  flex-direction: column;\n",
       "  align-items: center;\n",
       "  background-color: var(--sklearn-color-background);\n",
       "  padding-right: 1em;\n",
       "  padding-left: 1em;\n",
       "}\n",
       "\n",
       "\n",
       "/* Toggleable style: style used for estimator/Pipeline/ColumnTransformer box that is\n",
       "clickable and can be expanded/collapsed.\n",
       "- Pipeline and ColumnTransformer use this feature and define the default style\n",
       "- Estimators will overwrite some part of the style using the `sk-estimator` class\n",
       "*/\n",
       "\n",
       "/* Pipeline and ColumnTransformer style (default) */\n",
       "\n",
       "#sk-container-id-1 div.sk-toggleable {\n",
       "  /* Default theme specific background. It is overwritten whether we have a\n",
       "  specific estimator or a Pipeline/ColumnTransformer */\n",
       "  background-color: var(--sklearn-color-background);\n",
       "}\n",
       "\n",
       "/* Toggleable label */\n",
       "#sk-container-id-1 label.sk-toggleable__label {\n",
       "  cursor: pointer;\n",
       "  display: flex;\n",
       "  width: 100%;\n",
       "  margin-bottom: 0;\n",
       "  padding: 0.5em;\n",
       "  box-sizing: border-box;\n",
       "  text-align: center;\n",
       "  align-items: start;\n",
       "  justify-content: space-between;\n",
       "  gap: 0.5em;\n",
       "}\n",
       "\n",
       "#sk-container-id-1 label.sk-toggleable__label .caption {\n",
       "  font-size: 0.6rem;\n",
       "  font-weight: lighter;\n",
       "  color: var(--sklearn-color-text-muted);\n",
       "}\n",
       "\n",
       "#sk-container-id-1 label.sk-toggleable__label-arrow:before {\n",
       "  /* Arrow on the left of the label */\n",
       "  content: \"▸\";\n",
       "  float: left;\n",
       "  margin-right: 0.25em;\n",
       "  color: var(--sklearn-color-icon);\n",
       "}\n",
       "\n",
       "#sk-container-id-1 label.sk-toggleable__label-arrow:hover:before {\n",
       "  color: var(--sklearn-color-text);\n",
       "}\n",
       "\n",
       "/* Toggleable content - dropdown */\n",
       "\n",
       "#sk-container-id-1 div.sk-toggleable__content {\n",
       "  max-height: 0;\n",
       "  max-width: 0;\n",
       "  overflow: hidden;\n",
       "  text-align: left;\n",
       "  /* unfitted */\n",
       "  background-color: var(--sklearn-color-unfitted-level-0);\n",
       "}\n",
       "\n",
       "#sk-container-id-1 div.sk-toggleable__content.fitted {\n",
       "  /* fitted */\n",
       "  background-color: var(--sklearn-color-fitted-level-0);\n",
       "}\n",
       "\n",
       "#sk-container-id-1 div.sk-toggleable__content pre {\n",
       "  margin: 0.2em;\n",
       "  border-radius: 0.25em;\n",
       "  color: var(--sklearn-color-text);\n",
       "  /* unfitted */\n",
       "  background-color: var(--sklearn-color-unfitted-level-0);\n",
       "}\n",
       "\n",
       "#sk-container-id-1 div.sk-toggleable__content.fitted pre {\n",
       "  /* unfitted */\n",
       "  background-color: var(--sklearn-color-fitted-level-0);\n",
       "}\n",
       "\n",
       "#sk-container-id-1 input.sk-toggleable__control:checked~div.sk-toggleable__content {\n",
       "  /* Expand drop-down */\n",
       "  max-height: 200px;\n",
       "  max-width: 100%;\n",
       "  overflow: auto;\n",
       "}\n",
       "\n",
       "#sk-container-id-1 input.sk-toggleable__control:checked~label.sk-toggleable__label-arrow:before {\n",
       "  content: \"▾\";\n",
       "}\n",
       "\n",
       "/* Pipeline/ColumnTransformer-specific style */\n",
       "\n",
       "#sk-container-id-1 div.sk-label input.sk-toggleable__control:checked~label.sk-toggleable__label {\n",
       "  color: var(--sklearn-color-text);\n",
       "  background-color: var(--sklearn-color-unfitted-level-2);\n",
       "}\n",
       "\n",
       "#sk-container-id-1 div.sk-label.fitted input.sk-toggleable__control:checked~label.sk-toggleable__label {\n",
       "  background-color: var(--sklearn-color-fitted-level-2);\n",
       "}\n",
       "\n",
       "/* Estimator-specific style */\n",
       "\n",
       "/* Colorize estimator box */\n",
       "#sk-container-id-1 div.sk-estimator input.sk-toggleable__control:checked~label.sk-toggleable__label {\n",
       "  /* unfitted */\n",
       "  background-color: var(--sklearn-color-unfitted-level-2);\n",
       "}\n",
       "\n",
       "#sk-container-id-1 div.sk-estimator.fitted input.sk-toggleable__control:checked~label.sk-toggleable__label {\n",
       "  /* fitted */\n",
       "  background-color: var(--sklearn-color-fitted-level-2);\n",
       "}\n",
       "\n",
       "#sk-container-id-1 div.sk-label label.sk-toggleable__label,\n",
       "#sk-container-id-1 div.sk-label label {\n",
       "  /* The background is the default theme color */\n",
       "  color: var(--sklearn-color-text-on-default-background);\n",
       "}\n",
       "\n",
       "/* On hover, darken the color of the background */\n",
       "#sk-container-id-1 div.sk-label:hover label.sk-toggleable__label {\n",
       "  color: var(--sklearn-color-text);\n",
       "  background-color: var(--sklearn-color-unfitted-level-2);\n",
       "}\n",
       "\n",
       "/* Label box, darken color on hover, fitted */\n",
       "#sk-container-id-1 div.sk-label.fitted:hover label.sk-toggleable__label.fitted {\n",
       "  color: var(--sklearn-color-text);\n",
       "  background-color: var(--sklearn-color-fitted-level-2);\n",
       "}\n",
       "\n",
       "/* Estimator label */\n",
       "\n",
       "#sk-container-id-1 div.sk-label label {\n",
       "  font-family: monospace;\n",
       "  font-weight: bold;\n",
       "  display: inline-block;\n",
       "  line-height: 1.2em;\n",
       "}\n",
       "\n",
       "#sk-container-id-1 div.sk-label-container {\n",
       "  text-align: center;\n",
       "}\n",
       "\n",
       "/* Estimator-specific */\n",
       "#sk-container-id-1 div.sk-estimator {\n",
       "  font-family: monospace;\n",
       "  border: 1px dotted var(--sklearn-color-border-box);\n",
       "  border-radius: 0.25em;\n",
       "  box-sizing: border-box;\n",
       "  margin-bottom: 0.5em;\n",
       "  /* unfitted */\n",
       "  background-color: var(--sklearn-color-unfitted-level-0);\n",
       "}\n",
       "\n",
       "#sk-container-id-1 div.sk-estimator.fitted {\n",
       "  /* fitted */\n",
       "  background-color: var(--sklearn-color-fitted-level-0);\n",
       "}\n",
       "\n",
       "/* on hover */\n",
       "#sk-container-id-1 div.sk-estimator:hover {\n",
       "  /* unfitted */\n",
       "  background-color: var(--sklearn-color-unfitted-level-2);\n",
       "}\n",
       "\n",
       "#sk-container-id-1 div.sk-estimator.fitted:hover {\n",
       "  /* fitted */\n",
       "  background-color: var(--sklearn-color-fitted-level-2);\n",
       "}\n",
       "\n",
       "/* Specification for estimator info (e.g. \"i\" and \"?\") */\n",
       "\n",
       "/* Common style for \"i\" and \"?\" */\n",
       "\n",
       ".sk-estimator-doc-link,\n",
       "a:link.sk-estimator-doc-link,\n",
       "a:visited.sk-estimator-doc-link {\n",
       "  float: right;\n",
       "  font-size: smaller;\n",
       "  line-height: 1em;\n",
       "  font-family: monospace;\n",
       "  background-color: var(--sklearn-color-background);\n",
       "  border-radius: 1em;\n",
       "  height: 1em;\n",
       "  width: 1em;\n",
       "  text-decoration: none !important;\n",
       "  margin-left: 0.5em;\n",
       "  text-align: center;\n",
       "  /* unfitted */\n",
       "  border: var(--sklearn-color-unfitted-level-1) 1pt solid;\n",
       "  color: var(--sklearn-color-unfitted-level-1);\n",
       "}\n",
       "\n",
       ".sk-estimator-doc-link.fitted,\n",
       "a:link.sk-estimator-doc-link.fitted,\n",
       "a:visited.sk-estimator-doc-link.fitted {\n",
       "  /* fitted */\n",
       "  border: var(--sklearn-color-fitted-level-1) 1pt solid;\n",
       "  color: var(--sklearn-color-fitted-level-1);\n",
       "}\n",
       "\n",
       "/* On hover */\n",
       "div.sk-estimator:hover .sk-estimator-doc-link:hover,\n",
       ".sk-estimator-doc-link:hover,\n",
       "div.sk-label-container:hover .sk-estimator-doc-link:hover,\n",
       ".sk-estimator-doc-link:hover {\n",
       "  /* unfitted */\n",
       "  background-color: var(--sklearn-color-unfitted-level-3);\n",
       "  color: var(--sklearn-color-background);\n",
       "  text-decoration: none;\n",
       "}\n",
       "\n",
       "div.sk-estimator.fitted:hover .sk-estimator-doc-link.fitted:hover,\n",
       ".sk-estimator-doc-link.fitted:hover,\n",
       "div.sk-label-container:hover .sk-estimator-doc-link.fitted:hover,\n",
       ".sk-estimator-doc-link.fitted:hover {\n",
       "  /* fitted */\n",
       "  background-color: var(--sklearn-color-fitted-level-3);\n",
       "  color: var(--sklearn-color-background);\n",
       "  text-decoration: none;\n",
       "}\n",
       "\n",
       "/* Span, style for the box shown on hovering the info icon */\n",
       ".sk-estimator-doc-link span {\n",
       "  display: none;\n",
       "  z-index: 9999;\n",
       "  position: relative;\n",
       "  font-weight: normal;\n",
       "  right: .2ex;\n",
       "  padding: .5ex;\n",
       "  margin: .5ex;\n",
       "  width: min-content;\n",
       "  min-width: 20ex;\n",
       "  max-width: 50ex;\n",
       "  color: var(--sklearn-color-text);\n",
       "  box-shadow: 2pt 2pt 4pt #999;\n",
       "  /* unfitted */\n",
       "  background: var(--sklearn-color-unfitted-level-0);\n",
       "  border: .5pt solid var(--sklearn-color-unfitted-level-3);\n",
       "}\n",
       "\n",
       ".sk-estimator-doc-link.fitted span {\n",
       "  /* fitted */\n",
       "  background: var(--sklearn-color-fitted-level-0);\n",
       "  border: var(--sklearn-color-fitted-level-3);\n",
       "}\n",
       "\n",
       ".sk-estimator-doc-link:hover span {\n",
       "  display: block;\n",
       "}\n",
       "\n",
       "/* \"?\"-specific style due to the `<a>` HTML tag */\n",
       "\n",
       "#sk-container-id-1 a.estimator_doc_link {\n",
       "  float: right;\n",
       "  font-size: 1rem;\n",
       "  line-height: 1em;\n",
       "  font-family: monospace;\n",
       "  background-color: var(--sklearn-color-background);\n",
       "  border-radius: 1rem;\n",
       "  height: 1rem;\n",
       "  width: 1rem;\n",
       "  text-decoration: none;\n",
       "  /* unfitted */\n",
       "  color: var(--sklearn-color-unfitted-level-1);\n",
       "  border: var(--sklearn-color-unfitted-level-1) 1pt solid;\n",
       "}\n",
       "\n",
       "#sk-container-id-1 a.estimator_doc_link.fitted {\n",
       "  /* fitted */\n",
       "  border: var(--sklearn-color-fitted-level-1) 1pt solid;\n",
       "  color: var(--sklearn-color-fitted-level-1);\n",
       "}\n",
       "\n",
       "/* On hover */\n",
       "#sk-container-id-1 a.estimator_doc_link:hover {\n",
       "  /* unfitted */\n",
       "  background-color: var(--sklearn-color-unfitted-level-3);\n",
       "  color: var(--sklearn-color-background);\n",
       "  text-decoration: none;\n",
       "}\n",
       "\n",
       "#sk-container-id-1 a.estimator_doc_link.fitted:hover {\n",
       "  /* fitted */\n",
       "  background-color: var(--sklearn-color-fitted-level-3);\n",
       "}\n",
       "</style><div id=\"sk-container-id-1\" class=\"sk-top-container\"><div class=\"sk-text-repr-fallback\"><pre>Pipeline(steps=[(&#x27;tfidfvectorizer&#x27;, TfidfVectorizer(max_features=1500)),\n",
       "                (&#x27;multinomialnb&#x27;, MultinomialNB())])</pre><b>In a Jupyter environment, please rerun this cell to show the HTML representation or trust the notebook. <br />On GitHub, the HTML representation is unable to render, please try loading this page with nbviewer.org.</b></div><div class=\"sk-container\" hidden><div class=\"sk-item sk-dashed-wrapped\"><div class=\"sk-label-container\"><div class=\"sk-label fitted sk-toggleable\"><input class=\"sk-toggleable__control sk-hidden--visually\" id=\"sk-estimator-id-1\" type=\"checkbox\" ><label for=\"sk-estimator-id-1\" class=\"sk-toggleable__label fitted sk-toggleable__label-arrow\"><div><div>Pipeline</div></div><div><a class=\"sk-estimator-doc-link fitted\" rel=\"noreferrer\" target=\"_blank\" href=\"https://scikit-learn.org/1.6/modules/generated/sklearn.pipeline.Pipeline.html\">?<span>Documentation for Pipeline</span></a><span class=\"sk-estimator-doc-link fitted\">i<span>Fitted</span></span></div></label><div class=\"sk-toggleable__content fitted\"><pre>Pipeline(steps=[(&#x27;tfidfvectorizer&#x27;, TfidfVectorizer(max_features=1500)),\n",
       "                (&#x27;multinomialnb&#x27;, MultinomialNB())])</pre></div> </div></div><div class=\"sk-serial\"><div class=\"sk-item\"><div class=\"sk-estimator fitted sk-toggleable\"><input class=\"sk-toggleable__control sk-hidden--visually\" id=\"sk-estimator-id-2\" type=\"checkbox\" ><label for=\"sk-estimator-id-2\" class=\"sk-toggleable__label fitted sk-toggleable__label-arrow\"><div><div>TfidfVectorizer</div></div><div><a class=\"sk-estimator-doc-link fitted\" rel=\"noreferrer\" target=\"_blank\" href=\"https://scikit-learn.org/1.6/modules/generated/sklearn.feature_extraction.text.TfidfVectorizer.html\">?<span>Documentation for TfidfVectorizer</span></a></div></label><div class=\"sk-toggleable__content fitted\"><pre>TfidfVectorizer(max_features=1500)</pre></div> </div></div><div class=\"sk-item\"><div class=\"sk-estimator fitted sk-toggleable\"><input class=\"sk-toggleable__control sk-hidden--visually\" id=\"sk-estimator-id-3\" type=\"checkbox\" ><label for=\"sk-estimator-id-3\" class=\"sk-toggleable__label fitted sk-toggleable__label-arrow\"><div><div>MultinomialNB</div></div><div><a class=\"sk-estimator-doc-link fitted\" rel=\"noreferrer\" target=\"_blank\" href=\"https://scikit-learn.org/1.6/modules/generated/sklearn.naive_bayes.MultinomialNB.html\">?<span>Documentation for MultinomialNB</span></a></div></label><div class=\"sk-toggleable__content fitted\"><pre>MultinomialNB()</pre></div> </div></div></div></div></div></div>"
      ],
      "text/plain": [
       "Pipeline(steps=[('tfidfvectorizer', TfidfVectorizer(max_features=1500)),\n",
       "                ('multinomialnb', MultinomialNB())])"
      ]
     },
     "execution_count": 25,
     "metadata": {},
     "output_type": "execute_result"
    }
   ],
   "source": [
    "import sklearn\n",
    "from sklearn.pipeline import make_pipeline\n",
    "\n",
    "# for Naïve Bayes\n",
    "from sklearn.feature_extraction.text import TfidfVectorizer\n",
    "from sklearn.naive_bayes import MultinomialNB\n",
    "\n",
    "# will consist of 2 steps\n",
    "# step 1: feature extraction through tf-idf\n",
    "# step 2: naive bayes multinomial model\n",
    "period2_nbc = make_pipeline(TfidfVectorizer(max_features = 1500), MultinomialNB())\n",
    "\n",
    "# fitting and training model through pipeline \n",
    "period2_nbc.fit(docs_train, y_train) # fitting model (training sents, target labels)"
   ]
  },
  {
   "cell_type": "code",
   "execution_count": 26,
   "id": "96dede5d-4bf9-4d04-99c3-317134349270",
   "metadata": {},
   "outputs": [],
   "source": [
    "# creating predicted labels\n",
    "y_pred_prompt_nb = period2_nbc.predict(docs_test)"
   ]
  },
  {
   "cell_type": "code",
   "execution_count": 27,
   "id": "edc604d6-3f01-4a5d-bd6c-787f84d638ab",
   "metadata": {},
   "outputs": [],
   "source": [
    "# evaluating\n",
    "from sklearn.metrics import confusion_matrix\n",
    "import seaborn as sns\n",
    "from sklearn.metrics import accuracy_score"
   ]
  },
  {
   "cell_type": "code",
   "execution_count": 28,
   "id": "26fa80dc-670b-4076-8c22-1da7c70f574d",
   "metadata": {},
   "outputs": [
    {
     "data": {
      "text/plain": [
       "0.9908904633767003"
      ]
     },
     "execution_count": 28,
     "metadata": {},
     "output_type": "execute_result"
    }
   ],
   "source": [
    "# checking accuracy score\n",
    "accuracy_score(y_test, y_pred_prompt_nb)"
   ]
  },
  {
   "cell_type": "markdown",
   "id": "4fd33932-706d-4f73-9e26-93339b39df12",
   "metadata": {},
   "source": [
    "**Comment:** The performance is slightly better than if we just tagged everything as the most likely tag from the baseline which is 1985a. It has an accuracy of 99% compared to the baseline of 98%, which means that the tf-idf features do in fact help the classifier tag sentences as belonging to before 1926 or after 1985. \n",
    "\n",
    "Let's now take a look at where the errors are with a confusion matrix:"
   ]
  },
  {
   "cell_type": "code",
   "execution_count": 29,
   "id": "0c3a2918-c7c5-496c-8895-d76353ca8c9e",
   "metadata": {},
   "outputs": [
    {
     "data": {
      "text/plain": [
       "<function matplotlib.pyplot.show(close=None, block=None)>"
      ]
     },
     "execution_count": 29,
     "metadata": {},
     "output_type": "execute_result"
    },
    {
     "data": {
      "image/png": "[encoded data removed]",
      "text/plain": [
       "<Figure size 400x400 with 2 Axes>"
      ]
     },
     "metadata": {},
     "output_type": "display_data"
    }
   ],
   "source": [
    "import matplotlib.pyplot as plt\n",
    "mtrx_prompt_nb = confusion_matrix(y_test, y_pred_prompt_nb)\n",
    "# plotting confusion matrix\n",
    "plt.figure(figsize = (4, 4))\n",
    "sns.heatmap(mtrx_prompt_nb, square = True, annot = True, fmt = 'd', cmap = \"Blues\", \n",
    "            xticklabels= sorted(set(y_train)), yticklabels= sorted(set(y_pred_prompt_nb)))\n",
    "plt.xlabel(\"predicted label\")\n",
    "plt.ylabel(\"true label\")\n",
    "plt.show"
   ]
  },
  {
   "cell_type": "markdown",
   "id": "8e12c605-52d9-4358-8cdf-3e87e2b26c0b",
   "metadata": {},
   "source": [
    "**Comment:** It seems like there are only 9 out of 39918 sentences that have been wrongly tagged as texts from after 1985 that were written before, which means that only 2 out of every 100 sentences are wrongly tagged into the after 1985 group but were written before 1925.\\\n",
    "For sentences written before 1926 out of 589 sentences 229 were wrongly tagged as written after 1985. This is about 38% of the sentences.\\\n",
    "This results are not surprising considering that we had a lot more sentences from the later period to train the classifier with.\\\n",
    "However, this matrix allows us to see why the model outperformed what tagging according to the baseline would give us. In that case all 39918 sentences written after 1985 would have been correctly tagged, so the 2% error wouldn't be present. However, none of the 589 sentences written before 1926 would have been correcly tagged, making it a bit worse in accuracy than the Naive Bayes classification with Tf-idf features. "
   ]
  },
  {
   "cell_type": "markdown",
   "id": "3cf65d40-5731-4b7c-9a72-584c1e5a27b1",
   "metadata": {},
   "source": [
    "## 2. Tf-Idf Naive Bayes for 3 period classification"
   ]
  },
  {
   "cell_type": "markdown",
   "id": "aafc5b58-6b75-4c6b-a7bf-a2c287257f99",
   "metadata": {},
   "source": [
    "Next we will try to break down the time periods in smaller periods so that the baseline is not as high."
   ]
  },
  {
   "cell_type": "code",
   "execution_count": 31,
   "id": "d8904ba5-c9b3-488c-9736-1c85bd634a1d",
   "metadata": {},
   "outputs": [
    {
     "data": {
      "text/plain": [
       "2003.5"
      ]
     },
     "execution_count": 31,
     "metadata": {},
     "output_type": "execute_result"
    }
   ],
   "source": [
    "# looking were to break down the second, more data-extensive period\n",
    "np.median([2022, 1985])"
   ]
  },
  {
   "cell_type": "markdown",
   "id": "a3675a1b-5368-41e7-9b57-ef799676176b",
   "metadata": {},
   "source": [
    "**Comment:** Since we had a lot more data in the second period we will now break down the second and most recent time period in 2 shorter periods right down the median which is 2003.5, so we will do from 1985 to 2003 and from 2004 until 2022. We will kepp the period from before 1926 as a single time period."
   ]
  },
  {
   "cell_type": "code",
   "execution_count": 32,
   "id": "0a801df5-e9b1-422c-868e-b903a349e600",
   "metadata": {},
   "outputs": [],
   "source": [
    "# breaking down our data in:\n",
    "# before 1926 (inclusive), between 1985 and 2004 (not ending inclusive), after 2004 (inclusive)\n",
    "def period3_tagger(year):\n",
    "    if year <= 1926:\n",
    "        return \"old\"\n",
    "    elif year >= 1985 and year < 2004:\n",
    "        return \"mid\"\n",
    "    elif year >= 2004:\n",
    "        return \"recent\"\n",
    "    else:\n",
    "        print(year) #printing any years not in that range to check"
   ]
  },
  {
   "cell_type": "code",
   "execution_count": 33,
   "id": "4d67c973-8275-4e94-80e2-329485fdb2e1",
   "metadata": {},
   "outputs": [],
   "source": [
    "senttok_df[\"Period3\"] = senttok_df[\"Year\"].apply(period3_tagger)"
   ]
  },
  {
   "cell_type": "code",
   "execution_count": 34,
   "id": "47588448-0de5-48f0-87b3-58d0d0c5747f",
   "metadata": {},
   "outputs": [],
   "source": [
    "# tagging the sentences\n",
    "senttok_df[\"tagged_sents\"] = senttok_df.apply(lambda row: tag_sents(row[\"Sent_toks\"], row[\"Period3\"]), axis=1)"
   ]
  },
  {
   "cell_type": "code",
   "execution_count": 35,
   "id": "ec09f30a-5a03-4c99-980e-de33fa62a274",
   "metadata": {},
   "outputs": [],
   "source": [
    "# creating a function to tag the sentences\n",
    "def tag_sents(sent_list, period3_tag):\n",
    "    return ([(s, period3_tag) for s in sent_list])"
   ]
  },
  {
   "cell_type": "code",
   "execution_count": 36,
   "id": "c439e85c-2d1b-48e2-ac55-5997023181ba",
   "metadata": {},
   "outputs": [],
   "source": [
    "# separating them into two lists\n",
    "sents_old = [sent for sentence_list in senttok_df[\"tagged_sents\"] for sent in sentence_list if sent[1]==\"old\"]\n",
    "sents_mid = [sent for sentence_list in senttok_df[\"tagged_sents\"] for sent in sentence_list if sent[1]==\"mid\"]\n",
    "sents_recent = [sent for sentence_list in senttok_df[\"tagged_sents\"] for sent in sentence_list if sent[1]==\"recent\"]"
   ]
  },
  {
   "cell_type": "code",
   "execution_count": 37,
   "id": "4b53a2be-7813-4847-8ff6-40cf2c3ee6d5",
   "metadata": {},
   "outputs": [
    {
     "data": {
      "text/plain": [
       "('perquè que el president de catalunya sigui rebut pel president de la comissió europea',\n",
       " 'recent')"
      ]
     },
     "execution_count": 37,
     "metadata": {},
     "output_type": "execute_result"
    }
   ],
   "source": [
    "sents_recent[0]"
   ]
  },
  {
   "cell_type": "code",
   "execution_count": 38,
   "id": "25cb731e-dbb7-475a-a9f3-a0233c5a8fa4",
   "metadata": {},
   "outputs": [
    {
     "name": "stdout",
     "output_type": "stream",
     "text": [
      "162025 40507\n",
      "162025 40507\n",
      "\n",
      "['mid', 'old', 'recent']\n",
      "['mid', 'old', 'recent']\n"
     ]
    }
   ],
   "source": [
    "# concatenating the two tagged sentence lists\n",
    "sents = sents_old+sents_mid+sents_recent\n",
    "\n",
    "# randomizing the lists after concatenation\n",
    "import random\n",
    "random.Random(10).shuffle(sents)\n",
    "\n",
    "# turning the tagged sents lists into a dataframe\n",
    "tagged_df = pd.DataFrame(sents, columns=[\"sentence\", \"tag\"])\n",
    "\n",
    "# creating traning and testing partitions\n",
    "from sklearn.model_selection import train_test_split\n",
    "docs_train, docs_test, y_train, y_test = train_test_split(tagged_df[\"sentence\"], tagged_df[\"tag\"], test_size = 0.20, random_state = 0)\n",
    "\n",
    "# examining resulting partitions \n",
    "print(len(docs_train), len(docs_test))\n",
    "print(len(y_train), len(y_test))\n",
    "print()\n",
    "print(sorted(set(y_train)))\n",
    "print(sorted(set(y_test)))"
   ]
  },
  {
   "cell_type": "code",
   "execution_count": 39,
   "id": "df30a6a2-e167-41fb-adc2-3a48a1528cda",
   "metadata": {},
   "outputs": [
    {
     "data": {
      "text/html": [
       "<style>#sk-container-id-2 {\n",
       "  /* Definition of color scheme common for light and dark mode */\n",
       "  --sklearn-color-text: #000;\n",
       "  --sklearn-color-text-muted: #666;\n",
       "  --sklearn-color-line: gray;\n",
       "  /* Definition of color scheme for unfitted estimators */\n",
       "  --sklearn-color-unfitted-level-0: #fff5e6;\n",
       "  --sklearn-color-unfitted-level-1: #f6e4d2;\n",
       "  --sklearn-color-unfitted-level-2: #ffe0b3;\n",
       "  --sklearn-color-unfitted-level-3: chocolate;\n",
       "  /* Definition of color scheme for fitted estimators */\n",
       "  --sklearn-color-fitted-level-0: #f0f8ff;\n",
       "  --sklearn-color-fitted-level-1: #d4ebff;\n",
       "  --sklearn-color-fitted-level-2: #b3dbfd;\n",
       "  --sklearn-color-fitted-level-3: cornflowerblue;\n",
       "\n",
       "  /* Specific color for light theme */\n",
       "  --sklearn-color-text-on-default-background: var(--sg-text-color, var(--theme-code-foreground, var(--jp-content-font-color1, black)));\n",
       "  --sklearn-color-background: var(--sg-background-color, var(--theme-background, var(--jp-layout-color0, white)));\n",
       "  --sklearn-color-border-box: var(--sg-text-color, var(--theme-code-foreground, var(--jp-content-font-color1, black)));\n",
       "  --sklearn-color-icon: #696969;\n",
       "\n",
       "  @media (prefers-color-scheme: dark) {\n",
       "    /* Redefinition of color scheme for dark theme */\n",
       "    --sklearn-color-text-on-default-background: var(--sg-text-color, var(--theme-code-foreground, var(--jp-content-font-color1, white)));\n",
       "    --sklearn-color-background: var(--sg-background-color, var(--theme-background, var(--jp-layout-color0, #111)));\n",
       "    --sklearn-color-border-box: var(--sg-text-color, var(--theme-code-foreground, var(--jp-content-font-color1, white)));\n",
       "    --sklearn-color-icon: #878787;\n",
       "  }\n",
       "}\n",
       "\n",
       "#sk-container-id-2 {\n",
       "  color: var(--sklearn-color-text);\n",
       "}\n",
       "\n",
       "#sk-container-id-2 pre {\n",
       "  padding: 0;\n",
       "}\n",
       "\n",
       "#sk-container-id-2 input.sk-hidden--visually {\n",
       "  border: 0;\n",
       "  clip: rect(1px 1px 1px 1px);\n",
       "  clip: rect(1px, 1px, 1px, 1px);\n",
       "  height: 1px;\n",
       "  margin: -1px;\n",
       "  overflow: hidden;\n",
       "  padding: 0;\n",
       "  position: absolute;\n",
       "  width: 1px;\n",
       "}\n",
       "\n",
       "#sk-container-id-2 div.sk-dashed-wrapped {\n",
       "  border: 1px dashed var(--sklearn-color-line);\n",
       "  margin: 0 0.4em 0.5em 0.4em;\n",
       "  box-sizing: border-box;\n",
       "  padding-bottom: 0.4em;\n",
       "  background-color: var(--sklearn-color-background);\n",
       "}\n",
       "\n",
       "#sk-container-id-2 div.sk-container {\n",
       "  /* jupyter's `normalize.less` sets `[hidden] { display: none; }`\n",
       "     but bootstrap.min.css set `[hidden] { display: none !important; }`\n",
       "     so we also need the `!important` here to be able to override the\n",
       "     default hidden behavior on the sphinx rendered scikit-learn.org.\n",
       "     See: https://github.com/scikit-learn/scikit-learn/issues/21755 */\n",
       "  display: inline-block !important;\n",
       "  position: relative;\n",
       "}\n",
       "\n",
       "#sk-container-id-2 div.sk-text-repr-fallback {\n",
       "  display: none;\n",
       "}\n",
       "\n",
       "div.sk-parallel-item,\n",
       "div.sk-serial,\n",
       "div.sk-item {\n",
       "  /* draw centered vertical line to link estimators */\n",
       "  background-image: linear-gradient(var(--sklearn-color-text-on-default-background), var(--sklearn-color-text-on-default-background));\n",
       "  background-size: 2px 100%;\n",
       "  background-repeat: no-repeat;\n",
       "  background-position: center center;\n",
       "}\n",
       "\n",
       "/* Parallel-specific style estimator block */\n",
       "\n",
       "#sk-container-id-2 div.sk-parallel-item::after {\n",
       "  content: \"\";\n",
       "  width: 100%;\n",
       "  border-bottom: 2px solid var(--sklearn-color-text-on-default-background);\n",
       "  flex-grow: 1;\n",
       "}\n",
       "\n",
       "#sk-container-id-2 div.sk-parallel {\n",
       "  display: flex;\n",
       "  align-items: stretch;\n",
       "  justify-content: center;\n",
       "  background-color: var(--sklearn-color-background);\n",
       "  position: relative;\n",
       "}\n",
       "\n",
       "#sk-container-id-2 div.sk-parallel-item {\n",
       "  display: flex;\n",
       "  flex-direction: column;\n",
       "}\n",
       "\n",
       "#sk-container-id-2 div.sk-parallel-item:first-child::after {\n",
       "  align-self: flex-end;\n",
       "  width: 50%;\n",
       "}\n",
       "\n",
       "#sk-container-id-2 div.sk-parallel-item:last-child::after {\n",
       "  align-self: flex-start;\n",
       "  width: 50%;\n",
       "}\n",
       "\n",
       "#sk-container-id-2 div.sk-parallel-item:only-child::after {\n",
       "  width: 0;\n",
       "}\n",
       "\n",
       "/* Serial-specific style estimator block */\n",
       "\n",
       "#sk-container-id-2 div.sk-serial {\n",
       "  display: flex;\n",
       "  flex-direction: column;\n",
       "  align-items: center;\n",
       "  background-color: var(--sklearn-color-background);\n",
       "  padding-right: 1em;\n",
       "  padding-left: 1em;\n",
       "}\n",
       "\n",
       "\n",
       "/* Toggleable style: style used for estimator/Pipeline/ColumnTransformer box that is\n",
       "clickable and can be expanded/collapsed.\n",
       "- Pipeline and ColumnTransformer use this feature and define the default style\n",
       "- Estimators will overwrite some part of the style using the `sk-estimator` class\n",
       "*/\n",
       "\n",
       "/* Pipeline and ColumnTransformer style (default) */\n",
       "\n",
       "#sk-container-id-2 div.sk-toggleable {\n",
       "  /* Default theme specific background. It is overwritten whether we have a\n",
       "  specific estimator or a Pipeline/ColumnTransformer */\n",
       "  background-color: var(--sklearn-color-background);\n",
       "}\n",
       "\n",
       "/* Toggleable label */\n",
       "#sk-container-id-2 label.sk-toggleable__label {\n",
       "  cursor: pointer;\n",
       "  display: flex;\n",
       "  width: 100%;\n",
       "  margin-bottom: 0;\n",
       "  padding: 0.5em;\n",
       "  box-sizing: border-box;\n",
       "  text-align: center;\n",
       "  align-items: start;\n",
       "  justify-content: space-between;\n",
       "  gap: 0.5em;\n",
       "}\n",
       "\n",
       "#sk-container-id-2 label.sk-toggleable__label .caption {\n",
       "  font-size: 0.6rem;\n",
       "  font-weight: lighter;\n",
       "  color: var(--sklearn-color-text-muted);\n",
       "}\n",
       "\n",
       "#sk-container-id-2 label.sk-toggleable__label-arrow:before {\n",
       "  /* Arrow on the left of the label */\n",
       "  content: \"▸\";\n",
       "  float: left;\n",
       "  margin-right: 0.25em;\n",
       "  color: var(--sklearn-color-icon);\n",
       "}\n",
       "\n",
       "#sk-container-id-2 label.sk-toggleable__label-arrow:hover:before {\n",
       "  color: var(--sklearn-color-text);\n",
       "}\n",
       "\n",
       "/* Toggleable content - dropdown */\n",
       "\n",
       "#sk-container-id-2 div.sk-toggleable__content {\n",
       "  max-height: 0;\n",
       "  max-width: 0;\n",
       "  overflow: hidden;\n",
       "  text-align: left;\n",
       "  /* unfitted */\n",
       "  background-color: var(--sklearn-color-unfitted-level-0);\n",
       "}\n",
       "\n",
       "#sk-container-id-2 div.sk-toggleable__content.fitted {\n",
       "  /* fitted */\n",
       "  background-color: var(--sklearn-color-fitted-level-0);\n",
       "}\n",
       "\n",
       "#sk-container-id-2 div.sk-toggleable__content pre {\n",
       "  margin: 0.2em;\n",
       "  border-radius: 0.25em;\n",
       "  color: var(--sklearn-color-text);\n",
       "  /* unfitted */\n",
       "  background-color: var(--sklearn-color-unfitted-level-0);\n",
       "}\n",
       "\n",
       "#sk-container-id-2 div.sk-toggleable__content.fitted pre {\n",
       "  /* unfitted */\n",
       "  background-color: var(--sklearn-color-fitted-level-0);\n",
       "}\n",
       "\n",
       "#sk-container-id-2 input.sk-toggleable__control:checked~div.sk-toggleable__content {\n",
       "  /* Expand drop-down */\n",
       "  max-height: 200px;\n",
       "  max-width: 100%;\n",
       "  overflow: auto;\n",
       "}\n",
       "\n",
       "#sk-container-id-2 input.sk-toggleable__control:checked~label.sk-toggleable__label-arrow:before {\n",
       "  content: \"▾\";\n",
       "}\n",
       "\n",
       "/* Pipeline/ColumnTransformer-specific style */\n",
       "\n",
       "#sk-container-id-2 div.sk-label input.sk-toggleable__control:checked~label.sk-toggleable__label {\n",
       "  color: var(--sklearn-color-text);\n",
       "  background-color: var(--sklearn-color-unfitted-level-2);\n",
       "}\n",
       "\n",
       "#sk-container-id-2 div.sk-label.fitted input.sk-toggleable__control:checked~label.sk-toggleable__label {\n",
       "  background-color: var(--sklearn-color-fitted-level-2);\n",
       "}\n",
       "\n",
       "/* Estimator-specific style */\n",
       "\n",
       "/* Colorize estimator box */\n",
       "#sk-container-id-2 div.sk-estimator input.sk-toggleable__control:checked~label.sk-toggleable__label {\n",
       "  /* unfitted */\n",
       "  background-color: var(--sklearn-color-unfitted-level-2);\n",
       "}\n",
       "\n",
       "#sk-container-id-2 div.sk-estimator.fitted input.sk-toggleable__control:checked~label.sk-toggleable__label {\n",
       "  /* fitted */\n",
       "  background-color: var(--sklearn-color-fitted-level-2);\n",
       "}\n",
       "\n",
       "#sk-container-id-2 div.sk-label label.sk-toggleable__label,\n",
       "#sk-container-id-2 div.sk-label label {\n",
       "  /* The background is the default theme color */\n",
       "  color: var(--sklearn-color-text-on-default-background);\n",
       "}\n",
       "\n",
       "/* On hover, darken the color of the background */\n",
       "#sk-container-id-2 div.sk-label:hover label.sk-toggleable__label {\n",
       "  color: var(--sklearn-color-text);\n",
       "  background-color: var(--sklearn-color-unfitted-level-2);\n",
       "}\n",
       "\n",
       "/* Label box, darken color on hover, fitted */\n",
       "#sk-container-id-2 div.sk-label.fitted:hover label.sk-toggleable__label.fitted {\n",
       "  color: var(--sklearn-color-text);\n",
       "  background-color: var(--sklearn-color-fitted-level-2);\n",
       "}\n",
       "\n",
       "/* Estimator label */\n",
       "\n",
       "#sk-container-id-2 div.sk-label label {\n",
       "  font-family: monospace;\n",
       "  font-weight: bold;\n",
       "  display: inline-block;\n",
       "  line-height: 1.2em;\n",
       "}\n",
       "\n",
       "#sk-container-id-2 div.sk-label-container {\n",
       "  text-align: center;\n",
       "}\n",
       "\n",
       "/* Estimator-specific */\n",
       "#sk-container-id-2 div.sk-estimator {\n",
       "  font-family: monospace;\n",
       "  border: 1px dotted var(--sklearn-color-border-box);\n",
       "  border-radius: 0.25em;\n",
       "  box-sizing: border-box;\n",
       "  margin-bottom: 0.5em;\n",
       "  /* unfitted */\n",
       "  background-color: var(--sklearn-color-unfitted-level-0);\n",
       "}\n",
       "\n",
       "#sk-container-id-2 div.sk-estimator.fitted {\n",
       "  /* fitted */\n",
       "  background-color: var(--sklearn-color-fitted-level-0);\n",
       "}\n",
       "\n",
       "/* on hover */\n",
       "#sk-container-id-2 div.sk-estimator:hover {\n",
       "  /* unfitted */\n",
       "  background-color: var(--sklearn-color-unfitted-level-2);\n",
       "}\n",
       "\n",
       "#sk-container-id-2 div.sk-estimator.fitted:hover {\n",
       "  /* fitted */\n",
       "  background-color: var(--sklearn-color-fitted-level-2);\n",
       "}\n",
       "\n",
       "/* Specification for estimator info (e.g. \"i\" and \"?\") */\n",
       "\n",
       "/* Common style for \"i\" and \"?\" */\n",
       "\n",
       ".sk-estimator-doc-link,\n",
       "a:link.sk-estimator-doc-link,\n",
       "a:visited.sk-estimator-doc-link {\n",
       "  float: right;\n",
       "  font-size: smaller;\n",
       "  line-height: 1em;\n",
       "  font-family: monospace;\n",
       "  background-color: var(--sklearn-color-background);\n",
       "  border-radius: 1em;\n",
       "  height: 1em;\n",
       "  width: 1em;\n",
       "  text-decoration: none !important;\n",
       "  margin-left: 0.5em;\n",
       "  text-align: center;\n",
       "  /* unfitted */\n",
       "  border: var(--sklearn-color-unfitted-level-1) 1pt solid;\n",
       "  color: var(--sklearn-color-unfitted-level-1);\n",
       "}\n",
       "\n",
       ".sk-estimator-doc-link.fitted,\n",
       "a:link.sk-estimator-doc-link.fitted,\n",
       "a:visited.sk-estimator-doc-link.fitted {\n",
       "  /* fitted */\n",
       "  border: var(--sklearn-color-fitted-level-1) 1pt solid;\n",
       "  color: var(--sklearn-color-fitted-level-1);\n",
       "}\n",
       "\n",
       "/* On hover */\n",
       "div.sk-estimator:hover .sk-estimator-doc-link:hover,\n",
       ".sk-estimator-doc-link:hover,\n",
       "div.sk-label-container:hover .sk-estimator-doc-link:hover,\n",
       ".sk-estimator-doc-link:hover {\n",
       "  /* unfitted */\n",
       "  background-color: var(--sklearn-color-unfitted-level-3);\n",
       "  color: var(--sklearn-color-background);\n",
       "  text-decoration: none;\n",
       "}\n",
       "\n",
       "div.sk-estimator.fitted:hover .sk-estimator-doc-link.fitted:hover,\n",
       ".sk-estimator-doc-link.fitted:hover,\n",
       "div.sk-label-container:hover .sk-estimator-doc-link.fitted:hover,\n",
       ".sk-estimator-doc-link.fitted:hover {\n",
       "  /* fitted */\n",
       "  background-color: var(--sklearn-color-fitted-level-3);\n",
       "  color: var(--sklearn-color-background);\n",
       "  text-decoration: none;\n",
       "}\n",
       "\n",
       "/* Span, style for the box shown on hovering the info icon */\n",
       ".sk-estimator-doc-link span {\n",
       "  display: none;\n",
       "  z-index: 9999;\n",
       "  position: relative;\n",
       "  font-weight: normal;\n",
       "  right: .2ex;\n",
       "  padding: .5ex;\n",
       "  margin: .5ex;\n",
       "  width: min-content;\n",
       "  min-width: 20ex;\n",
       "  max-width: 50ex;\n",
       "  color: var(--sklearn-color-text);\n",
       "  box-shadow: 2pt 2pt 4pt #999;\n",
       "  /* unfitted */\n",
       "  background: var(--sklearn-color-unfitted-level-0);\n",
       "  border: .5pt solid var(--sklearn-color-unfitted-level-3);\n",
       "}\n",
       "\n",
       ".sk-estimator-doc-link.fitted span {\n",
       "  /* fitted */\n",
       "  background: var(--sklearn-color-fitted-level-0);\n",
       "  border: var(--sklearn-color-fitted-level-3);\n",
       "}\n",
       "\n",
       ".sk-estimator-doc-link:hover span {\n",
       "  display: block;\n",
       "}\n",
       "\n",
       "/* \"?\"-specific style due to the `<a>` HTML tag */\n",
       "\n",
       "#sk-container-id-2 a.estimator_doc_link {\n",
       "  float: right;\n",
       "  font-size: 1rem;\n",
       "  line-height: 1em;\n",
       "  font-family: monospace;\n",
       "  background-color: var(--sklearn-color-background);\n",
       "  border-radius: 1rem;\n",
       "  height: 1rem;\n",
       "  width: 1rem;\n",
       "  text-decoration: none;\n",
       "  /* unfitted */\n",
       "  color: var(--sklearn-color-unfitted-level-1);\n",
       "  border: var(--sklearn-color-unfitted-level-1) 1pt solid;\n",
       "}\n",
       "\n",
       "#sk-container-id-2 a.estimator_doc_link.fitted {\n",
       "  /* fitted */\n",
       "  border: var(--sklearn-color-fitted-level-1) 1pt solid;\n",
       "  color: var(--sklearn-color-fitted-level-1);\n",
       "}\n",
       "\n",
       "/* On hover */\n",
       "#sk-container-id-2 a.estimator_doc_link:hover {\n",
       "  /* unfitted */\n",
       "  background-color: var(--sklearn-color-unfitted-level-3);\n",
       "  color: var(--sklearn-color-background);\n",
       "  text-decoration: none;\n",
       "}\n",
       "\n",
       "#sk-container-id-2 a.estimator_doc_link.fitted:hover {\n",
       "  /* fitted */\n",
       "  background-color: var(--sklearn-color-fitted-level-3);\n",
       "}\n",
       "</style><div id=\"sk-container-id-2\" class=\"sk-top-container\"><div class=\"sk-text-repr-fallback\"><pre>Pipeline(steps=[(&#x27;tfidfvectorizer&#x27;, TfidfVectorizer(max_features=1500)),\n",
       "                (&#x27;multinomialnb&#x27;, MultinomialNB())])</pre><b>In a Jupyter environment, please rerun this cell to show the HTML representation or trust the notebook. <br />On GitHub, the HTML representation is unable to render, please try loading this page with nbviewer.org.</b></div><div class=\"sk-container\" hidden><div class=\"sk-item sk-dashed-wrapped\"><div class=\"sk-label-container\"><div class=\"sk-label fitted sk-toggleable\"><input class=\"sk-toggleable__control sk-hidden--visually\" id=\"sk-estimator-id-4\" type=\"checkbox\" ><label for=\"sk-estimator-id-4\" class=\"sk-toggleable__label fitted sk-toggleable__label-arrow\"><div><div>Pipeline</div></div><div><a class=\"sk-estimator-doc-link fitted\" rel=\"noreferrer\" target=\"_blank\" href=\"https://scikit-learn.org/1.6/modules/generated/sklearn.pipeline.Pipeline.html\">?<span>Documentation for Pipeline</span></a><span class=\"sk-estimator-doc-link fitted\">i<span>Fitted</span></span></div></label><div class=\"sk-toggleable__content fitted\"><pre>Pipeline(steps=[(&#x27;tfidfvectorizer&#x27;, TfidfVectorizer(max_features=1500)),\n",
       "                (&#x27;multinomialnb&#x27;, MultinomialNB())])</pre></div> </div></div><div class=\"sk-serial\"><div class=\"sk-item\"><div class=\"sk-estimator fitted sk-toggleable\"><input class=\"sk-toggleable__control sk-hidden--visually\" id=\"sk-estimator-id-5\" type=\"checkbox\" ><label for=\"sk-estimator-id-5\" class=\"sk-toggleable__label fitted sk-toggleable__label-arrow\"><div><div>TfidfVectorizer</div></div><div><a class=\"sk-estimator-doc-link fitted\" rel=\"noreferrer\" target=\"_blank\" href=\"https://scikit-learn.org/1.6/modules/generated/sklearn.feature_extraction.text.TfidfVectorizer.html\">?<span>Documentation for TfidfVectorizer</span></a></div></label><div class=\"sk-toggleable__content fitted\"><pre>TfidfVectorizer(max_features=1500)</pre></div> </div></div><div class=\"sk-item\"><div class=\"sk-estimator fitted sk-toggleable\"><input class=\"sk-toggleable__control sk-hidden--visually\" id=\"sk-estimator-id-6\" type=\"checkbox\" ><label for=\"sk-estimator-id-6\" class=\"sk-toggleable__label fitted sk-toggleable__label-arrow\"><div><div>MultinomialNB</div></div><div><a class=\"sk-estimator-doc-link fitted\" rel=\"noreferrer\" target=\"_blank\" href=\"https://scikit-learn.org/1.6/modules/generated/sklearn.naive_bayes.MultinomialNB.html\">?<span>Documentation for MultinomialNB</span></a></div></label><div class=\"sk-toggleable__content fitted\"><pre>MultinomialNB()</pre></div> </div></div></div></div></div></div>"
      ],
      "text/plain": [
       "Pipeline(steps=[('tfidfvectorizer', TfidfVectorizer(max_features=1500)),\n",
       "                ('multinomialnb', MultinomialNB())])"
      ]
     },
     "execution_count": 39,
     "metadata": {},
     "output_type": "execute_result"
    }
   ],
   "source": [
    "# will consist of 2 steps\n",
    "# step 1: feature extraction through tf-idf\n",
    "# step 2: naive bayes multinomial model\n",
    "period3_nbc = make_pipeline(TfidfVectorizer(max_features = 1500), MultinomialNB())\n",
    "\n",
    "# fitting and training model through pipeline \n",
    "period3_nbc.fit(docs_train, y_train) # fitting model (training sents, target labels)"
   ]
  },
  {
   "cell_type": "code",
   "execution_count": 40,
   "id": "267af9d4-d159-4032-b6fa-d14768f48da6",
   "metadata": {},
   "outputs": [
    {
     "data": {
      "text/plain": [
       "Period3\n",
       "mid         3393\n",
       "old         2835\n",
       "recent    196304\n",
       "Name: Sent_count, dtype: int64"
      ]
     },
     "execution_count": 40,
     "metadata": {},
     "output_type": "execute_result"
    }
   ],
   "source": [
    "senttok_df.groupby(\"Period3\")[\"Sent_count\"].sum()"
   ]
  },
  {
   "cell_type": "code",
   "execution_count": 41,
   "id": "e802d452-f099-4198-8ab1-90805366a295",
   "metadata": {},
   "outputs": [
    {
     "data": {
      "text/plain": [
       "202532"
      ]
     },
     "execution_count": 41,
     "metadata": {},
     "output_type": "execute_result"
    }
   ],
   "source": [
    "# considering the total\n",
    "senttok_df[\"Sent_count\"].sum()"
   ]
  },
  {
   "cell_type": "code",
   "execution_count": 42,
   "id": "d8e36e87-4c39-4051-9343-81230f4228dc",
   "metadata": {},
   "outputs": [
    {
     "data": {
      "text/plain": [
       "0.9692493038137183"
      ]
     },
     "execution_count": 42,
     "metadata": {},
     "output_type": "execute_result"
    }
   ],
   "source": [
    "# basline is still extremly high\n",
    "196304/202532"
   ]
  },
  {
   "cell_type": "code",
   "execution_count": 43,
   "id": "d2cb3426-0ffe-4dd3-b3ea-56edaf99d03c",
   "metadata": {},
   "outputs": [
    {
     "data": {
      "text/plain": [
       "0.9762510183425087"
      ]
     },
     "execution_count": 43,
     "metadata": {},
     "output_type": "execute_result"
    }
   ],
   "source": [
    "# creating predicted labels\n",
    "y_pred_prompt_nb = period3_nbc.predict(docs_test)\n",
    "\n",
    "# checking accuracy score\n",
    "accuracy_score(y_test, y_pred_prompt_nb)"
   ]
  },
  {
   "cell_type": "code",
   "execution_count": 44,
   "id": "a7c99a68-3a05-43f2-a612-4bcaca79d16c",
   "metadata": {},
   "outputs": [
    {
     "data": {
      "text/plain": [
       "<function matplotlib.pyplot.show(close=None, block=None)>"
      ]
     },
     "execution_count": 44,
     "metadata": {},
     "output_type": "execute_result"
    },
    {
     "data": {
      "image/png": "[encoded data removed]",
      "text/plain": [
       "<Figure size 400x400 with 2 Axes>"
      ]
     },
     "metadata": {},
     "output_type": "display_data"
    }
   ],
   "source": [
    "import matplotlib.pyplot as plt\n",
    "labels = [\"old\", \"mid\", \"recent\"]\n",
    "mtrx_prompt_nb = confusion_matrix(y_test, y_pred_prompt_nb)\n",
    "# plotting confusion matrix\n",
    "plt.figure(figsize = (4, 4))\n",
    "sns.heatmap(mtrx_prompt_nb, square = True, annot = True, fmt = 'd', cmap = \"Blues\", \n",
    "            xticklabels= (\"old\", \"mid\", \"recent\"), yticklabels= (\"old\", \"mid\", \"recent\"))\n",
    "plt.xlabel(\"predicted label\")\n",
    "plt.ylabel(\"true label\")\n",
    "plt.show"
   ]
  },
  {
   "cell_type": "markdown",
   "id": "ea23ba13-a881-4a1c-aa98-63a2d932d3a9",
   "metadata": {},
   "source": [
    "It seems like while the model makes errors labeling recent sentence that we wouldn't make if we just labeled every sentence as \"recent\" as it is the most likely sentence with a 96.9%, misslaveling 2% of the recent sentences on the test set, the improvement in the \"baseline performance\" is in how the middle period and old sentences are tagged. There are no misslabels between mid and old sentences, which suggests that dividing the periods in the two groups cutting at 1926 and 1985 was the right point as the 2 groups \"old\" and \"mid\" are clearly differnciable. The biggest issue I find is that there are more misslabels between old and recent sentences both ways than between recent and mid any of the 2 ways, which suggests that mid and recent senetences are not as similar as I expected them to be and can indeed be better separated into two periods than I would I have thought. Hence, they don't really belong to the same period.\n",
    "This 3 period devision model outperformed the previous 2 period model as it is closer to the 1% improvement from the baseline. "
   ]
  },
  {
   "cell_type": "markdown",
   "id": "7a928961-067e-414e-83e7-523ffd2eb58b",
   "metadata": {},
   "source": [
    "## 3. Building a classifier using our linguistic features"
   ]
  },
  {
   "cell_type": "markdown",
   "id": "6cfb1218-2a45-4bea-9476-448980fe5b7a",
   "metadata": {},
   "source": [
    "Since our goal for this project is to see if the specific features can help us evaluate language substitution and we've looked for specific features, instead of using the tf-idf features, we will now use the percentages of these linguistic features as the features for time-period classification.\n",
    "\n",
    "Also, since the 3 period classifier outperformed the 2 period one, we will now work with the same 3 periods. That is:\\\n",
    "Old - before 1926\\\n",
    "Mid - 1985-2003\\\n",
    "Recent - 2004-2022"
   ]
  },
  {
   "cell_type": "code",
   "execution_count": 45,
   "id": "e4f7a96e-d40a-4ef2-8d37-6dc1634433c1",
   "metadata": {},
   "outputs": [],
   "source": [
    "# loading the complete dataframe\n",
    "complete_df = pd.read_pickle(\"data/complete_df.pkl\")"
   ]
  },
  {
   "cell_type": "code",
   "execution_count": 46,
   "id": "923e63c4-27cd-42f9-8c82-16124b54eb5c",
   "metadata": {},
   "outputs": [],
   "source": [
    "complete_df[\"tag3\"]=complete_df[\"Year\"].apply(period3_tagger)"
   ]
  },
  {
   "cell_type": "code",
   "execution_count": 47,
   "id": "4b67d8ca-dbfc-4df6-b269-93492c032fbd",
   "metadata": {},
   "outputs": [],
   "source": [
    "# starting with 3 period division as it outperformed the 2 period division classification\n",
    "from sklearn.model_selection import train_test_split\n",
    "feat_train, feat_test, y_train, y_test = train_test_split(complete_df[\"Anar_percent\"], complete_df[\"tag3\"], test_size = 0.20, random_state = 0)"
   ]
  },
  {
   "cell_type": "code",
   "execution_count": 48,
   "id": "c79b2869-334e-4d7f-80f4-5f6e29c0e3bf",
   "metadata": {},
   "outputs": [
    {
     "name": "stdout",
     "output_type": "stream",
     "text": [
      "9674908 2418728\n",
      "9674908 2418728\n",
      "\n",
      "['mid', 'old', 'recent']\n",
      "['mid', 'old', 'recent']\n"
     ]
    }
   ],
   "source": [
    "# examining resulting partitions \n",
    "print(len(feat_train), len(feat_test))\n",
    "print(len(y_train), len(y_test))\n",
    "print()\n",
    "print(sorted(set(y_train)))\n",
    "print(sorted(set(y_test)))"
   ]
  },
  {
   "cell_type": "code",
   "execution_count": 49,
   "id": "16d50d41-65a7-448d-8ff5-a88384884bc6",
   "metadata": {},
   "outputs": [],
   "source": [
    "period3_nbc = make_pipeline(MultinomialNB())"
   ]
  },
  {
   "cell_type": "code",
   "execution_count": 50,
   "id": "b938399f-f448-4d5e-b3d7-348b03aff33a",
   "metadata": {},
   "outputs": [],
   "source": [
    "feat_train = feat_train.values.reshape(-1, 1)\n",
    "feat_test = feat_test.values.reshape(-1, 1)"
   ]
  },
  {
   "cell_type": "code",
   "execution_count": 51,
   "id": "0882cb61-a1fc-4711-a62b-57da5747e6f1",
   "metadata": {},
   "outputs": [],
   "source": [
    "from sklearn.ensemble import RandomForestClassifier"
   ]
  },
  {
   "cell_type": "code",
   "execution_count": 52,
   "id": "7e22c860-fbc0-4e58-9cc0-1657e99d13fc",
   "metadata": {},
   "outputs": [],
   "source": [
    "clf = RandomForestClassifier(class_weight='balanced')"
   ]
  },
  {
   "cell_type": "code",
   "execution_count": 53,
   "id": "5858cc9a-2854-41f9-bbd0-a2f618a0f76a",
   "metadata": {},
   "outputs": [
    {
     "data": {
      "text/html": [
       "<style>#sk-container-id-3 {\n",
       "  /* Definition of color scheme common for light and dark mode */\n",
       "  --sklearn-color-text: #000;\n",
       "  --sklearn-color-text-muted: #666;\n",
       "  --sklearn-color-line: gray;\n",
       "  /* Definition of color scheme for unfitted estimators */\n",
       "  --sklearn-color-unfitted-level-0: #fff5e6;\n",
       "  --sklearn-color-unfitted-level-1: #f6e4d2;\n",
       "  --sklearn-color-unfitted-level-2: #ffe0b3;\n",
       "  --sklearn-color-unfitted-level-3: chocolate;\n",
       "  /* Definition of color scheme for fitted estimators */\n",
       "  --sklearn-color-fitted-level-0: #f0f8ff;\n",
       "  --sklearn-color-fitted-level-1: #d4ebff;\n",
       "  --sklearn-color-fitted-level-2: #b3dbfd;\n",
       "  --sklearn-color-fitted-level-3: cornflowerblue;\n",
       "\n",
       "  /* Specific color for light theme */\n",
       "  --sklearn-color-text-on-default-background: var(--sg-text-color, var(--theme-code-foreground, var(--jp-content-font-color1, black)));\n",
       "  --sklearn-color-background: var(--sg-background-color, var(--theme-background, var(--jp-layout-color0, white)));\n",
       "  --sklearn-color-border-box: var(--sg-text-color, var(--theme-code-foreground, var(--jp-content-font-color1, black)));\n",
       "  --sklearn-color-icon: #696969;\n",
       "\n",
       "  @media (prefers-color-scheme: dark) {\n",
       "    /* Redefinition of color scheme for dark theme */\n",
       "    --sklearn-color-text-on-default-background: var(--sg-text-color, var(--theme-code-foreground, var(--jp-content-font-color1, white)));\n",
       "    --sklearn-color-background: var(--sg-background-color, var(--theme-background, var(--jp-layout-color0, #111)));\n",
       "    --sklearn-color-border-box: var(--sg-text-color, var(--theme-code-foreground, var(--jp-content-font-color1, white)));\n",
       "    --sklearn-color-icon: #878787;\n",
       "  }\n",
       "}\n",
       "\n",
       "#sk-container-id-3 {\n",
       "  color: var(--sklearn-color-text);\n",
       "}\n",
       "\n",
       "#sk-container-id-3 pre {\n",
       "  padding: 0;\n",
       "}\n",
       "\n",
       "#sk-container-id-3 input.sk-hidden--visually {\n",
       "  border: 0;\n",
       "  clip: rect(1px 1px 1px 1px);\n",
       "  clip: rect(1px, 1px, 1px, 1px);\n",
       "  height: 1px;\n",
       "  margin: -1px;\n",
       "  overflow: hidden;\n",
       "  padding: 0;\n",
       "  position: absolute;\n",
       "  width: 1px;\n",
       "}\n",
       "\n",
       "#sk-container-id-3 div.sk-dashed-wrapped {\n",
       "  border: 1px dashed var(--sklearn-color-line);\n",
       "  margin: 0 0.4em 0.5em 0.4em;\n",
       "  box-sizing: border-box;\n",
       "  padding-bottom: 0.4em;\n",
       "  background-color: var(--sklearn-color-background);\n",
       "}\n",
       "\n",
       "#sk-container-id-3 div.sk-container {\n",
       "  /* jupyter's `normalize.less` sets `[hidden] { display: none; }`\n",
       "     but bootstrap.min.css set `[hidden] { display: none !important; }`\n",
       "     so we also need the `!important` here to be able to override the\n",
       "     default hidden behavior on the sphinx rendered scikit-learn.org.\n",
       "     See: https://github.com/scikit-learn/scikit-learn/issues/21755 */\n",
       "  display: inline-block !important;\n",
       "  position: relative;\n",
       "}\n",
       "\n",
       "#sk-container-id-3 div.sk-text-repr-fallback {\n",
       "  display: none;\n",
       "}\n",
       "\n",
       "div.sk-parallel-item,\n",
       "div.sk-serial,\n",
       "div.sk-item {\n",
       "  /* draw centered vertical line to link estimators */\n",
       "  background-image: linear-gradient(var(--sklearn-color-text-on-default-background), var(--sklearn-color-text-on-default-background));\n",
       "  background-size: 2px 100%;\n",
       "  background-repeat: no-repeat;\n",
       "  background-position: center center;\n",
       "}\n",
       "\n",
       "/* Parallel-specific style estimator block */\n",
       "\n",
       "#sk-container-id-3 div.sk-parallel-item::after {\n",
       "  content: \"\";\n",
       "  width: 100%;\n",
       "  border-bottom: 2px solid var(--sklearn-color-text-on-default-background);\n",
       "  flex-grow: 1;\n",
       "}\n",
       "\n",
       "#sk-container-id-3 div.sk-parallel {\n",
       "  display: flex;\n",
       "  align-items: stretch;\n",
       "  justify-content: center;\n",
       "  background-color: var(--sklearn-color-background);\n",
       "  position: relative;\n",
       "}\n",
       "\n",
       "#sk-container-id-3 div.sk-parallel-item {\n",
       "  display: flex;\n",
       "  flex-direction: column;\n",
       "}\n",
       "\n",
       "#sk-container-id-3 div.sk-parallel-item:first-child::after {\n",
       "  align-self: flex-end;\n",
       "  width: 50%;\n",
       "}\n",
       "\n",
       "#sk-container-id-3 div.sk-parallel-item:last-child::after {\n",
       "  align-self: flex-start;\n",
       "  width: 50%;\n",
       "}\n",
       "\n",
       "#sk-container-id-3 div.sk-parallel-item:only-child::after {\n",
       "  width: 0;\n",
       "}\n",
       "\n",
       "/* Serial-specific style estimator block */\n",
       "\n",
       "#sk-container-id-3 div.sk-serial {\n",
       "  display: flex;\n",
       "  flex-direction: column;\n",
       "  align-items: center;\n",
       "  background-color: var(--sklearn-color-background);\n",
       "  padding-right: 1em;\n",
       "  padding-left: 1em;\n",
       "}\n",
       "\n",
       "\n",
       "/* Toggleable style: style used for estimator/Pipeline/ColumnTransformer box that is\n",
       "clickable and can be expanded/collapsed.\n",
       "- Pipeline and ColumnTransformer use this feature and define the default style\n",
       "- Estimators will overwrite some part of the style using the `sk-estimator` class\n",
       "*/\n",
       "\n",
       "/* Pipeline and ColumnTransformer style (default) */\n",
       "\n",
       "#sk-container-id-3 div.sk-toggleable {\n",
       "  /* Default theme specific background. It is overwritten whether we have a\n",
       "  specific estimator or a Pipeline/ColumnTransformer */\n",
       "  background-color: var(--sklearn-color-background);\n",
       "}\n",
       "\n",
       "/* Toggleable label */\n",
       "#sk-container-id-3 label.sk-toggleable__label {\n",
       "  cursor: pointer;\n",
       "  display: flex;\n",
       "  width: 100%;\n",
       "  margin-bottom: 0;\n",
       "  padding: 0.5em;\n",
       "  box-sizing: border-box;\n",
       "  text-align: center;\n",
       "  align-items: start;\n",
       "  justify-content: space-between;\n",
       "  gap: 0.5em;\n",
       "}\n",
       "\n",
       "#sk-container-id-3 label.sk-toggleable__label .caption {\n",
       "  font-size: 0.6rem;\n",
       "  font-weight: lighter;\n",
       "  color: var(--sklearn-color-text-muted);\n",
       "}\n",
       "\n",
       "#sk-container-id-3 label.sk-toggleable__label-arrow:before {\n",
       "  /* Arrow on the left of the label */\n",
       "  content: \"▸\";\n",
       "  float: left;\n",
       "  margin-right: 0.25em;\n",
       "  color: var(--sklearn-color-icon);\n",
       "}\n",
       "\n",
       "#sk-container-id-3 label.sk-toggleable__label-arrow:hover:before {\n",
       "  color: var(--sklearn-color-text);\n",
       "}\n",
       "\n",
       "/* Toggleable content - dropdown */\n",
       "\n",
       "#sk-container-id-3 div.sk-toggleable__content {\n",
       "  max-height: 0;\n",
       "  max-width: 0;\n",
       "  overflow: hidden;\n",
       "  text-align: left;\n",
       "  /* unfitted */\n",
       "  background-color: var(--sklearn-color-unfitted-level-0);\n",
       "}\n",
       "\n",
       "#sk-container-id-3 div.sk-toggleable__content.fitted {\n",
       "  /* fitted */\n",
       "  background-color: var(--sklearn-color-fitted-level-0);\n",
       "}\n",
       "\n",
       "#sk-container-id-3 div.sk-toggleable__content pre {\n",
       "  margin: 0.2em;\n",
       "  border-radius: 0.25em;\n",
       "  color: var(--sklearn-color-text);\n",
       "  /* unfitted */\n",
       "  background-color: var(--sklearn-color-unfitted-level-0);\n",
       "}\n",
       "\n",
       "#sk-container-id-3 div.sk-toggleable__content.fitted pre {\n",
       "  /* unfitted */\n",
       "  background-color: var(--sklearn-color-fitted-level-0);\n",
       "}\n",
       "\n",
       "#sk-container-id-3 input.sk-toggleable__control:checked~div.sk-toggleable__content {\n",
       "  /* Expand drop-down */\n",
       "  max-height: 200px;\n",
       "  max-width: 100%;\n",
       "  overflow: auto;\n",
       "}\n",
       "\n",
       "#sk-container-id-3 input.sk-toggleable__control:checked~label.sk-toggleable__label-arrow:before {\n",
       "  content: \"▾\";\n",
       "}\n",
       "\n",
       "/* Pipeline/ColumnTransformer-specific style */\n",
       "\n",
       "#sk-container-id-3 div.sk-label input.sk-toggleable__control:checked~label.sk-toggleable__label {\n",
       "  color: var(--sklearn-color-text);\n",
       "  background-color: var(--sklearn-color-unfitted-level-2);\n",
       "}\n",
       "\n",
       "#sk-container-id-3 div.sk-label.fitted input.sk-toggleable__control:checked~label.sk-toggleable__label {\n",
       "  background-color: var(--sklearn-color-fitted-level-2);\n",
       "}\n",
       "\n",
       "/* Estimator-specific style */\n",
       "\n",
       "/* Colorize estimator box */\n",
       "#sk-container-id-3 div.sk-estimator input.sk-toggleable__control:checked~label.sk-toggleable__label {\n",
       "  /* unfitted */\n",
       "  background-color: var(--sklearn-color-unfitted-level-2);\n",
       "}\n",
       "\n",
       "#sk-container-id-3 div.sk-estimator.fitted input.sk-toggleable__control:checked~label.sk-toggleable__label {\n",
       "  /* fitted */\n",
       "  background-color: var(--sklearn-color-fitted-level-2);\n",
       "}\n",
       "\n",
       "#sk-container-id-3 div.sk-label label.sk-toggleable__label,\n",
       "#sk-container-id-3 div.sk-label label {\n",
       "  /* The background is the default theme color */\n",
       "  color: var(--sklearn-color-text-on-default-background);\n",
       "}\n",
       "\n",
       "/* On hover, darken the color of the background */\n",
       "#sk-container-id-3 div.sk-label:hover label.sk-toggleable__label {\n",
       "  color: var(--sklearn-color-text);\n",
       "  background-color: var(--sklearn-color-unfitted-level-2);\n",
       "}\n",
       "\n",
       "/* Label box, darken color on hover, fitted */\n",
       "#sk-container-id-3 div.sk-label.fitted:hover label.sk-toggleable__label.fitted {\n",
       "  color: var(--sklearn-color-text);\n",
       "  background-color: var(--sklearn-color-fitted-level-2);\n",
       "}\n",
       "\n",
       "/* Estimator label */\n",
       "\n",
       "#sk-container-id-3 div.sk-label label {\n",
       "  font-family: monospace;\n",
       "  font-weight: bold;\n",
       "  display: inline-block;\n",
       "  line-height: 1.2em;\n",
       "}\n",
       "\n",
       "#sk-container-id-3 div.sk-label-container {\n",
       "  text-align: center;\n",
       "}\n",
       "\n",
       "/* Estimator-specific */\n",
       "#sk-container-id-3 div.sk-estimator {\n",
       "  font-family: monospace;\n",
       "  border: 1px dotted var(--sklearn-color-border-box);\n",
       "  border-radius: 0.25em;\n",
       "  box-sizing: border-box;\n",
       "  margin-bottom: 0.5em;\n",
       "  /* unfitted */\n",
       "  background-color: var(--sklearn-color-unfitted-level-0);\n",
       "}\n",
       "\n",
       "#sk-container-id-3 div.sk-estimator.fitted {\n",
       "  /* fitted */\n",
       "  background-color: var(--sklearn-color-fitted-level-0);\n",
       "}\n",
       "\n",
       "/* on hover */\n",
       "#sk-container-id-3 div.sk-estimator:hover {\n",
       "  /* unfitted */\n",
       "  background-color: var(--sklearn-color-unfitted-level-2);\n",
       "}\n",
       "\n",
       "#sk-container-id-3 div.sk-estimator.fitted:hover {\n",
       "  /* fitted */\n",
       "  background-color: var(--sklearn-color-fitted-level-2);\n",
       "}\n",
       "\n",
       "/* Specification for estimator info (e.g. \"i\" and \"?\") */\n",
       "\n",
       "/* Common style for \"i\" and \"?\" */\n",
       "\n",
       ".sk-estimator-doc-link,\n",
       "a:link.sk-estimator-doc-link,\n",
       "a:visited.sk-estimator-doc-link {\n",
       "  float: right;\n",
       "  font-size: smaller;\n",
       "  line-height: 1em;\n",
       "  font-family: monospace;\n",
       "  background-color: var(--sklearn-color-background);\n",
       "  border-radius: 1em;\n",
       "  height: 1em;\n",
       "  width: 1em;\n",
       "  text-decoration: none !important;\n",
       "  margin-left: 0.5em;\n",
       "  text-align: center;\n",
       "  /* unfitted */\n",
       "  border: var(--sklearn-color-unfitted-level-1) 1pt solid;\n",
       "  color: var(--sklearn-color-unfitted-level-1);\n",
       "}\n",
       "\n",
       ".sk-estimator-doc-link.fitted,\n",
       "a:link.sk-estimator-doc-link.fitted,\n",
       "a:visited.sk-estimator-doc-link.fitted {\n",
       "  /* fitted */\n",
       "  border: var(--sklearn-color-fitted-level-1) 1pt solid;\n",
       "  color: var(--sklearn-color-fitted-level-1);\n",
       "}\n",
       "\n",
       "/* On hover */\n",
       "div.sk-estimator:hover .sk-estimator-doc-link:hover,\n",
       ".sk-estimator-doc-link:hover,\n",
       "div.sk-label-container:hover .sk-estimator-doc-link:hover,\n",
       ".sk-estimator-doc-link:hover {\n",
       "  /* unfitted */\n",
       "  background-color: var(--sklearn-color-unfitted-level-3);\n",
       "  color: var(--sklearn-color-background);\n",
       "  text-decoration: none;\n",
       "}\n",
       "\n",
       "div.sk-estimator.fitted:hover .sk-estimator-doc-link.fitted:hover,\n",
       ".sk-estimator-doc-link.fitted:hover,\n",
       "div.sk-label-container:hover .sk-estimator-doc-link.fitted:hover,\n",
       ".sk-estimator-doc-link.fitted:hover {\n",
       "  /* fitted */\n",
       "  background-color: var(--sklearn-color-fitted-level-3);\n",
       "  color: var(--sklearn-color-background);\n",
       "  text-decoration: none;\n",
       "}\n",
       "\n",
       "/* Span, style for the box shown on hovering the info icon */\n",
       ".sk-estimator-doc-link span {\n",
       "  display: none;\n",
       "  z-index: 9999;\n",
       "  position: relative;\n",
       "  font-weight: normal;\n",
       "  right: .2ex;\n",
       "  padding: .5ex;\n",
       "  margin: .5ex;\n",
       "  width: min-content;\n",
       "  min-width: 20ex;\n",
       "  max-width: 50ex;\n",
       "  color: var(--sklearn-color-text);\n",
       "  box-shadow: 2pt 2pt 4pt #999;\n",
       "  /* unfitted */\n",
       "  background: var(--sklearn-color-unfitted-level-0);\n",
       "  border: .5pt solid var(--sklearn-color-unfitted-level-3);\n",
       "}\n",
       "\n",
       ".sk-estimator-doc-link.fitted span {\n",
       "  /* fitted */\n",
       "  background: var(--sklearn-color-fitted-level-0);\n",
       "  border: var(--sklearn-color-fitted-level-3);\n",
       "}\n",
       "\n",
       ".sk-estimator-doc-link:hover span {\n",
       "  display: block;\n",
       "}\n",
       "\n",
       "/* \"?\"-specific style due to the `<a>` HTML tag */\n",
       "\n",
       "#sk-container-id-3 a.estimator_doc_link {\n",
       "  float: right;\n",
       "  font-size: 1rem;\n",
       "  line-height: 1em;\n",
       "  font-family: monospace;\n",
       "  background-color: var(--sklearn-color-background);\n",
       "  border-radius: 1rem;\n",
       "  height: 1rem;\n",
       "  width: 1rem;\n",
       "  text-decoration: none;\n",
       "  /* unfitted */\n",
       "  color: var(--sklearn-color-unfitted-level-1);\n",
       "  border: var(--sklearn-color-unfitted-level-1) 1pt solid;\n",
       "}\n",
       "\n",
       "#sk-container-id-3 a.estimator_doc_link.fitted {\n",
       "  /* fitted */\n",
       "  border: var(--sklearn-color-fitted-level-1) 1pt solid;\n",
       "  color: var(--sklearn-color-fitted-level-1);\n",
       "}\n",
       "\n",
       "/* On hover */\n",
       "#sk-container-id-3 a.estimator_doc_link:hover {\n",
       "  /* unfitted */\n",
       "  background-color: var(--sklearn-color-unfitted-level-3);\n",
       "  color: var(--sklearn-color-background);\n",
       "  text-decoration: none;\n",
       "}\n",
       "\n",
       "#sk-container-id-3 a.estimator_doc_link.fitted:hover {\n",
       "  /* fitted */\n",
       "  background-color: var(--sklearn-color-fitted-level-3);\n",
       "}\n",
       "</style><div id=\"sk-container-id-3\" class=\"sk-top-container\"><div class=\"sk-text-repr-fallback\"><pre>RandomForestClassifier(class_weight=&#x27;balanced&#x27;)</pre><b>In a Jupyter environment, please rerun this cell to show the HTML representation or trust the notebook. <br />On GitHub, the HTML representation is unable to render, please try loading this page with nbviewer.org.</b></div><div class=\"sk-container\" hidden><div class=\"sk-item\"><div class=\"sk-estimator fitted sk-toggleable\"><input class=\"sk-toggleable__control sk-hidden--visually\" id=\"sk-estimator-id-7\" type=\"checkbox\" checked><label for=\"sk-estimator-id-7\" class=\"sk-toggleable__label fitted sk-toggleable__label-arrow\"><div><div>RandomForestClassifier</div></div><div><a class=\"sk-estimator-doc-link fitted\" rel=\"noreferrer\" target=\"_blank\" href=\"https://scikit-learn.org/1.6/modules/generated/sklearn.ensemble.RandomForestClassifier.html\">?<span>Documentation for RandomForestClassifier</span></a><span class=\"sk-estimator-doc-link fitted\">i<span>Fitted</span></span></div></label><div class=\"sk-toggleable__content fitted\"><pre>RandomForestClassifier(class_weight=&#x27;balanced&#x27;)</pre></div> </div></div></div></div>"
      ],
      "text/plain": [
       "RandomForestClassifier(class_weight='balanced')"
      ]
     },
     "execution_count": 53,
     "metadata": {},
     "output_type": "execute_result"
    }
   ],
   "source": [
    "clf.fit(feat_train, y_train)"
   ]
  },
  {
   "cell_type": "code",
   "execution_count": 54,
   "id": "3cce1ddc-b97c-4e03-beb5-a40b1403a0d4",
   "metadata": {},
   "outputs": [
    {
     "data": {
      "text/plain": [
       "0.24747718635580354"
      ]
     },
     "execution_count": 54,
     "metadata": {},
     "output_type": "execute_result"
    }
   ],
   "source": [
    "# creating predicted labels\n",
    "y_pred_prompt3_rf = clf.predict(feat_test)\n",
    "\n",
    "# checking accuracy score\n",
    "accuracy_score(y_test, y_pred_prompt3_rf)"
   ]
  },
  {
   "cell_type": "code",
   "execution_count": 55,
   "id": "927a226f-ed2a-430c-a7bd-2b42bf63d0a7",
   "metadata": {},
   "outputs": [
    {
     "data": {
      "text/plain": [
       "<function matplotlib.pyplot.show(close=None, block=None)>"
      ]
     },
     "execution_count": 55,
     "metadata": {},
     "output_type": "execute_result"
    },
    {
     "data": {
      "image/png": "[encoded data removed]",
      "text/plain": [
       "<Figure size 400x400 with 2 Axes>"
      ]
     },
     "metadata": {},
     "output_type": "display_data"
    }
   ],
   "source": [
    "import matplotlib.pyplot as plt\n",
    "labels = [\"old\", \"mid\", \"recent\"]\n",
    "mtrx_prompt_nb = confusion_matrix(y_test, y_pred_prompt3_rf)\n",
    "\n",
    "# plotting confusion matrix\n",
    "plt.figure(figsize = (4, 4))\n",
    "sns.heatmap(mtrx_prompt_nb, square = True, annot = True, fmt = 'd', cmap = \"Blues\", \n",
    "            xticklabels= (\"old\", \"mid\", \"recent\"), yticklabels= (\"old\", \"mid\", \"recent\"))\n",
    "plt.xlabel(\"predicted label\")\n",
    "plt.ylabel(\"true label\")\n",
    "plt.show"
   ]
  },
  {
   "cell_type": "markdown",
   "id": "6ab7afcb-2f93-423c-8379-c7f3ffbc869b",
   "metadata": {},
   "source": [
    "**Conclusions:**\\\n",
    "Even though the model only gets 24.5% accuracy, which is really bad and the confusion matrix shows us a very odd clasification pattern that doesn't even tell us much except from that it is very innacurate and the features don't seem to be useful at all to classify the texts."
   ]
  },
  {
   "cell_type": "code",
   "execution_count": 56,
   "id": "2c8e28e4-2b86-4995-b549-13ab89eee4a7",
   "metadata": {},
   "outputs": [
    {
     "name": "stdout",
     "output_type": "stream",
     "text": [
      "<class 'pandas.core.frame.DataFrame'>\n",
      "RangeIndex: 12093636 entries, 0 to 12093635\n",
      "Data columns (total 29 columns):\n",
      " #   Column            Dtype  \n",
      "---  ------            -----  \n",
      " 0   Year              int64  \n",
      " 1   Line_id           object \n",
      " 2   Text              object \n",
      " 3   Text_len          int64  \n",
      " 4   toks              object \n",
      " 5   Len_toks          int64  \n",
      " 6   toks_low          object \n",
      " 7   hi                object \n",
      " 8   -hi               object \n",
      " 9   hi_count          int64  \n",
      " 10  hi_percent        float64\n",
      " 11  Lemmas            object \n",
      " 12  Anar_count        int64  \n",
      " 13  Venir_count       int64  \n",
      " 14  Anar_percent      float64\n",
      " 15  Venir_percent     float64\n",
      " 16  PstPerif          object \n",
      " 17  Pstp_count        int64  \n",
      " 18  Pstp_percent      float64\n",
      " 19  HaverDe_count     int64  \n",
      " 20  TenirQue_count    int64  \n",
      " 21  HaverDe_percent   float64\n",
      " 22  TenirQue_percent  float64\n",
      " 23  POS               object \n",
      " 24  PronominalizedV   object \n",
      " 25  PronV_count       int64  \n",
      " 26  V_total           int64  \n",
      " 27  PronV_percent     float64\n",
      " 28  tag3              object \n",
      "dtypes: float64(7), int64(11), object(11)\n",
      "memory usage: 2.6+ GB\n"
     ]
    }
   ],
   "source": [
    "complete_df.info()"
   ]
  },
  {
   "cell_type": "markdown",
   "id": "f2d5a085-c777-44c3-8519-11e04875e58f",
   "metadata": {},
   "source": [
    "## Conclusion"
   ]
  },
  {
   "cell_type": "markdown",
   "id": "497882e4-3560-4330-8167-43520e6e4fc5",
   "metadata": {},
   "source": [
    "While the tf-idf classifier did outperfrom the baseline, our Random Forest model, trained with the linguistic features for language substitution that we were looking at had a terrible performance. This is not surprising considering that most of the features had no significant difference through time.\\\n",
    "The tf-idf performance is probably better than the baseline due to vocabulary differences and style, which are ultimetely not what we are looking at to see language substitution.\n"
   ]
  }
 ],
 "metadata": {
  "kernelspec": {
   "display_name": "Python 3 (ipykernel)",
   "language": "python",
   "name": "python3"
  },
  "language_info": {
   "codemirror_mode": {
    "name": "ipython",
    "version": 3
   },
   "file_extension": ".py",
   "mimetype": "text/x-python",
   "name": "python",
   "nbconvert_exporter": "python",
   "pygments_lexer": "ipython3",
   "version": "3.12.5"
  }
 },
 "nbformat": 4,
 "nbformat_minor": 5
}
