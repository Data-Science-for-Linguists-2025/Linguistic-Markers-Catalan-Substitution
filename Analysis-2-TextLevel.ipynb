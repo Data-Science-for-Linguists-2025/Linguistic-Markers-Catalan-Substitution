{
 "cells": [
  {
   "cell_type": "markdown",
   "id": "788da74b-667a-4988-90b3-8305b9fb9799",
   "metadata": {},
   "source": [
    "# Low-Level Analysis\n",
    "Jana Bruses | janabruses@pitt.edu | University of Pittsburgh | Month day. - ..."
   ]
  },
  {
   "cell_type": "markdown",
   "id": "60e4d0fe-a7c2-4ba5-8f94-a19cc4a4cac7",
   "metadata": {},
   "source": [
    "This is only a placeholder at the moment."
   ]
  }
 ],
 "metadata": {
  "kernelspec": {
   "display_name": "Python 3 (ipykernel)",
   "language": "python",
   "name": "python3"
  },
  "language_info": {
   "codemirror_mode": {
    "name": "ipython",
    "version": 3
   },
   "file_extension": ".py",
   "mimetype": "text/x-python",
   "name": "python",
   "nbconvert_exporter": "python",
   "pygments_lexer": "ipython3",
   "version": "3.12.5"
  }
 },
 "nbformat": 4,
 "nbformat_minor": 5
}
