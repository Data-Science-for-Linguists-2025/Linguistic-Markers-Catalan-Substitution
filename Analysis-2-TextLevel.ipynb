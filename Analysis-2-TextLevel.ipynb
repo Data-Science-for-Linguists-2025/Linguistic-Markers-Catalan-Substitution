{
 "cells": [
  {
   "cell_type": "markdown",
   "id": "788da74b-667a-4988-90b3-8305b9fb9799",
   "metadata": {},
   "source": [
    "# Text-Level Analysis\n",
    "Jana Bruses | janabruses@pitt.edu | University of Pittsburgh | Apr 21st - ..."
   ]
  },
  {
   "cell_type": "markdown",
   "id": "60e4d0fe-a7c2-4ba5-8f94-a19cc4a4cac7",
   "metadata": {},
   "source": [
    "Second notebook of the Analysis portion of the project.\\\n",
    "First notebook found at: [Analysis-1-LowLevel](http://localhost:8888/notebooks/Linguistic-Markers-Catalan-Substitution/Analysis-1-LowLevel.ipynb)\\\n",
    "Fourth notebook of the project, after the [data portion](https://github.com/Data-Science-for-Linguists-2025/Linguistic-Markers-Catalan-Substitution/blob/main/Data-Parsing-Exploratory-Analysis-2.ipynb) notebook."
   ]
  },
  {
   "cell_type": "markdown",
   "id": "07aa05c1-9063-4c07-ac77-53de74eee293",
   "metadata": {},
   "source": [
    "In this analysis notebook various machine learning models were used to analyze the linguistic changes that could indicate Catalan's substitution explored in [Analysis-1-LowLevel](http://localhost:8888/notebooks/Linguistic-Markers-Catalan-Substitution/Analysis-1-LowLevel.ipynb) namely:\\\n",
    "\"hi\" percentage - to analyze loss of word classes\\\n",
    "passat perifràstic vs passat simple - to analyze time lexicon modification\\\n",
    "anar vs venir percentage - to analyze space lexicon modification\\\n",
    "verb pronominalization - to analyze syntactic Restructuring\\"
   ]
  },
  {
   "cell_type": "markdown",
   "id": "fa788c5e-b2fd-4aec-ade6-9a53d641b99d",
   "metadata": {},
   "source": [
    "All the data used in the analysis steps was included in the dataframe and pickled at the end of the analysis.\\\n",
    "The data will now be loaded."
   ]
  },
  {
   "cell_type": "markdown",
   "id": "e2b4f444-74d0-42cf-b079-582fc7d18821",
   "metadata": {},
   "source": [
    "Contents on this analysis notebook:\\\n",
    "**1** Before vs After Franquism Catalan\\\n",
    "**2** Time clusters according to the various features\\"
   ]
  },
  {
   "cell_type": "code",
   "execution_count": 2,
   "id": "179608a3-c7dc-4c37-99f5-8a8a9c8f094d",
   "metadata": {},
   "outputs": [],
   "source": [
    "# loading libraries\n",
    "import pandas as pd\n",
    "import numpy as np"
   ]
  },
  {
   "cell_type": "markdown",
   "id": "b960eb7b-b58e-4e9e-ade5-23891fb9b30d",
   "metadata": {},
   "source": [
    "Our data, is split in two main periods, before Franquism and after Franquism. We have two blocks of data. From 1860 to 1926 and from 1985 to 2022. We will label this two periods as 1926b and 1985a and have a classifier distinguish them, to look for other features that could tell us more about Catalan's substitution."
   ]
  },
  {
   "cell_type": "code",
   "execution_count": 2,
   "id": "79e2c852-0df1-4d55-ba00-c7ca9cdfbfe0",
   "metadata": {},
   "outputs": [],
   "source": [
    "# loading the pickled complete dataframe\n",
    "tokscomplete_df = pd.read_pickle(\"tokcomplete_df.pkl\")\n",
    "tokscomplete_df = tokscomplete_df.drop_duplicates(subset=\"Text\", keep=\"first\")"
   ]
  },
  {
   "cell_type": "code",
   "execution_count": 3,
   "id": "52e63b99-da13-4ace-bf82-d6904ac890b3",
   "metadata": {},
   "outputs": [],
   "source": [
    "def period_tagger(year):\n",
    "    if year <= 1926:\n",
    "        return \"1926b\"\n",
    "    elif year >= 1985:\n",
    "        return \"1985a\"\n",
    "    else:\n",
    "        print(year) #printing any years not in that range to check"
   ]
  },
  {
   "cell_type": "code",
   "execution_count": 4,
   "id": "53baf330-11d1-4f83-bd60-beb856734828",
   "metadata": {},
   "outputs": [],
   "source": [
    "tokscomplete_df[\"Period\"] = tokscomplete_df[\"Year\"].apply(period_tagger)"
   ]
  },
  {
   "cell_type": "code",
   "execution_count": 5,
   "id": "95c4c92d-38cf-44f0-880e-cb1fba1963f0",
   "metadata": {},
   "outputs": [
    {
     "data": {
      "text/plain": [
       "Period\n",
       "1985a    64916\n",
       "1926b       28\n",
       "Name: count, dtype: int64"
      ]
     },
     "execution_count": 5,
     "metadata": {},
     "output_type": "execute_result"
    }
   ],
   "source": [
    "tokscomplete_df[\"Period\"].value_counts()"
   ]
  },
  {
   "cell_type": "markdown",
   "id": "a1c3785f-a538-45e6-9879-1661cfadf404",
   "metadata": {},
   "source": [
    "**Comment:**\n",
    "As this numbers portray, we have a huge amount of data for the recent period, while we have very few documents for the period from 1926 and earler. However, since these are ceremonial speeches, looking at the length in tokens might actually be more informative. "
   ]
  },
  {
   "cell_type": "code",
   "execution_count": 6,
   "id": "78fb1fed-4c87-4bec-ac79-e84532bc842d",
   "metadata": {},
   "outputs": [
    {
     "data": {
      "text/plain": [
       "Period\n",
       "1926b     143831\n",
       "1985a    2803938\n",
       "Name: Len_toks, dtype: int64"
      ]
     },
     "execution_count": 6,
     "metadata": {},
     "output_type": "execute_result"
    }
   ],
   "source": [
    "tokscomplete_df.groupby(\"Period\")[\"Len_toks\"].sum()"
   ]
  },
  {
   "cell_type": "markdown",
   "id": "496ae739-6d05-4258-b53f-2577f9f80125",
   "metadata": {},
   "source": [
    "**Comment:** The gap is not that big, as many of the later contributions are short, have single lines and a little amount of words, while the few documents from before 1926 are complete speeches. \n",
    "\n",
    "Because of this, instead of having the classifier classify full pieces of text, we will use single sentences as the text features. "
   ]
  },
  {
   "cell_type": "code",
   "execution_count": 7,
   "id": "880b4d65-ed6b-4797-a78d-bba7a698f964",
   "metadata": {},
   "outputs": [],
   "source": [
    "def sent_tokenize(content):\n",
    "    doc = nlp(content)\n",
    "    sent_list = [sentence.text for sentence in doc.sentences]\n",
    "    return sent_list"
   ]
  },
  {
   "cell_type": "code",
   "execution_count": 8,
   "id": "293cfb1d-125c-44bf-bc4b-38b2f125a620",
   "metadata": {},
   "outputs": [],
   "source": [
    "# from tqdm import tqdm\n",
    "# tqdm.pandas()  # activa el suport per apply\n",
    "# import stanza\n",
    "# nlp = stanza.Pipeline(lang='ca', processors='tokenize')\n",
    "# tokscomplete_df[\"Sent_toks\"] = tokscomplete_df[\"Text\"].progress_apply(sent_tokenize)"
   ]
  },
  {
   "cell_type": "code",
   "execution_count": 9,
   "id": "b4856783-455e-45d6-bbac-cb728f1c5cf0",
   "metadata": {},
   "outputs": [],
   "source": [
    "senttok_df = pd.read_pickle(\"sent_tok.pkl\")"
   ]
  },
  {
   "cell_type": "code",
   "execution_count": 10,
   "id": "e232e3c5-8736-4a5f-8014-b580f5e24b10",
   "metadata": {},
   "outputs": [],
   "source": [
    "sent_tokens_example = senttok_df[senttok_df[\"Year\"] == 1860][\"Sent_toks\"].iloc[0]"
   ]
  },
  {
   "cell_type": "code",
   "execution_count": 11,
   "id": "177cfbc8-b3b4-46b5-abed-be99bf0a64b1",
   "metadata": {},
   "outputs": [
    {
     "data": {
      "text/plain": [
       "'Breu seré, cuant ja se han complagut vostres oídos ab los melodiosos cants de tants trovadors inspirats per lo esperit de la Religió, per lo amor de la patria y per lo amor á la bellesa ¿Qué podria jo anyadir cuant sento ja escapar de mon esperit la última espurna del juvenil entusiasme?'"
      ]
     },
     "execution_count": 11,
     "metadata": {},
     "output_type": "execute_result"
    }
   ],
   "source": [
    "sent_tokens_example[0]"
   ]
  },
  {
   "cell_type": "code",
   "execution_count": 12,
   "id": "e03d5e89-0bab-4fa5-b7d3-e1a4d74d622d",
   "metadata": {},
   "outputs": [
    {
     "data": {
      "text/plain": [
       "'Tant sols me cap lo expressar ab curtas frases lo goig que inunda mon cor al véurervos per segona vegada reunits en aquesta festa de familia, renovant memorias tan dolsas, evocant noms tan estimats, y recordant dias tan gloriosos pera nostra antiga patria.'"
      ]
     },
     "execution_count": 12,
     "metadata": {},
     "output_type": "execute_result"
    }
   ],
   "source": [
    "sent_tokens_example[1]"
   ]
  },
  {
   "cell_type": "code",
   "execution_count": 13,
   "id": "9bf2457a-b71b-43cd-a95c-e03c28905e1d",
   "metadata": {},
   "outputs": [],
   "source": [
    "# re-doing the period tag on the sentence tokenized dataframe\n",
    "senttok_df[\"Period\"] = senttok_df[\"Year\"].apply(period_tagger)"
   ]
  },
  {
   "cell_type": "code",
   "execution_count": 14,
   "id": "2e45029a-d6b4-4d5d-993f-a11afbd3a0c7",
   "metadata": {},
   "outputs": [],
   "source": [
    "senttok_df[\"Sent_count\"] = senttok_df[\"Sent_toks\"].apply(lambda sents: len(sents))"
   ]
  },
  {
   "cell_type": "code",
   "execution_count": 15,
   "id": "ee7b9cb1-fe6e-4e00-b799-c571e32de73b",
   "metadata": {},
   "outputs": [
    {
     "data": {
      "text/plain": [
       "Period\n",
       "1926b      2835\n",
       "1985a    199697\n",
       "Name: Sent_count, dtype: int64"
      ]
     },
     "execution_count": 15,
     "metadata": {},
     "output_type": "execute_result"
    }
   ],
   "source": [
    "senttok_df.groupby(\"Period\")[\"Sent_count\"].sum()"
   ]
  },
  {
   "cell_type": "code",
   "execution_count": 16,
   "id": "bacb8dd3-76c5-4220-b35b-ec69a6e78b0e",
   "metadata": {},
   "outputs": [
    {
     "data": {
      "text/plain": [
       "202532"
      ]
     },
     "execution_count": 16,
     "metadata": {},
     "output_type": "execute_result"
    }
   ],
   "source": [
    "senttok_df[\"Sent_count\"].sum()"
   ]
  },
  {
   "cell_type": "code",
   "execution_count": 17,
   "id": "b3f0ae29-6aab-4ba9-a851-c34d4944f167",
   "metadata": {},
   "outputs": [
    {
     "data": {
      "text/plain": [
       "0.986002211996129"
      ]
     },
     "execution_count": 17,
     "metadata": {},
     "output_type": "execute_result"
    }
   ],
   "source": [
    "# basline is incredibly high\n",
    "199697/202532"
   ]
  },
  {
   "cell_type": "code",
   "execution_count": 18,
   "id": "eb6df6e8-1a81-43b2-9d22-0fe83998a067",
   "metadata": {},
   "outputs": [],
   "source": [
    "def tag_sents(sent_list, period_tag):\n",
    "    return ([(s, period_tag) for s in sent_list])"
   ]
  },
  {
   "cell_type": "code",
   "execution_count": 19,
   "id": "25363c4d-7d0b-424d-95c0-bcf587be8ded",
   "metadata": {},
   "outputs": [],
   "source": [
    "# tagging the sentences\n",
    "senttok_df[\"tagged_sents\"] = senttok_df.apply(lambda row: tag_sents(row[\"Sent_toks\"], row[\"Period\"]), axis=1)"
   ]
  },
  {
   "cell_type": "code",
   "execution_count": 20,
   "id": "f6f2098d-5773-4fda-875b-3a577fb4debf",
   "metadata": {},
   "outputs": [],
   "source": [
    "# separating them into two lists\n",
    "sents_1926b = [sent for sentence_list in senttok_df[\"tagged_sents\"] for sent in sentence_list if sent[1]==\"1926b\"]\n",
    "sents_1985a = [sent for sentence_list in senttok_df[\"tagged_sents\"] for sent in sentence_list if sent[1]==\"1985a\"]"
   ]
  },
  {
   "cell_type": "code",
   "execution_count": 21,
   "id": "ec81101c-1022-43a0-92a5-85f37a93d322",
   "metadata": {},
   "outputs": [
    {
     "name": "stdout",
     "output_type": "stream",
     "text": [
      "(\"L'home que per amor al estudi, impulsat per un imperatiu ineludible 's manté reclòs en el seu laboratori o en la biblioteca, treballant sense parar may, indiferent a les temptacions mondanes, es certament un hèroe.\", '1926b')\n"
     ]
    },
    {
     "data": {
      "text/plain": [
       "('perquè que el president de catalunya sigui rebut pel president de la comissió europea',\n",
       " '1985a')"
      ]
     },
     "execution_count": 21,
     "metadata": {},
     "output_type": "execute_result"
    }
   ],
   "source": [
    "print(sents_1926b[0])\n",
    "sents_1985a[0]"
   ]
  },
  {
   "cell_type": "code",
   "execution_count": 22,
   "id": "54aa6e75-1e18-4602-ac31-c33115404a5b",
   "metadata": {},
   "outputs": [],
   "source": [
    "sents = sents_1926b+sents_1985a\n",
    "\n",
    "import random\n",
    "random.Random(10).shuffle(sents)"
   ]
  },
  {
   "cell_type": "code",
   "execution_count": 23,
   "id": "97a27415-a811-4c6c-950e-9500adf6fa89",
   "metadata": {},
   "outputs": [],
   "source": [
    "tagged_df = pd.DataFrame(sents, columns=[\"sentence\", \"tag\"])"
   ]
  },
  {
   "cell_type": "code",
   "execution_count": 24,
   "id": "c62a0719-54f2-4c63-9b51-844370492305",
   "metadata": {},
   "outputs": [],
   "source": [
    "# creating traning and testing partitions\n",
    "from sklearn.model_selection import train_test_split\n",
    "docs_train, docs_test, y_train, y_test = train_test_split(tagged_df[\"sentence\"], tagged_df[\"tag\"], test_size = 0.20, random_state = 0)"
   ]
  },
  {
   "cell_type": "code",
   "execution_count": 25,
   "id": "afc570a2-c0d2-460a-a899-8f131c7db011",
   "metadata": {},
   "outputs": [
    {
     "name": "stdout",
     "output_type": "stream",
     "text": [
      "162025 40507\n",
      "162025 40507\n",
      "\n",
      "['1926b', '1985a']\n",
      "['1926b', '1985a']\n"
     ]
    }
   ],
   "source": [
    "# examining resulting partitions \n",
    "print(len(docs_train), len(docs_test))\n",
    "print(len(y_train), len(y_test))\n",
    "print()\n",
    "print(sorted(set(y_train)))\n",
    "print(sorted(set(y_test)))"
   ]
  },
  {
   "cell_type": "code",
   "execution_count": 26,
   "id": "f0de9ddc-41a8-4a20-a87b-6112de7f2a14",
   "metadata": {},
   "outputs": [
    {
     "data": {
      "text/html": [
       "<style>#sk-container-id-1 {\n",
       "  /* Definition of color scheme common for light and dark mode */\n",
       "  --sklearn-color-text: #000;\n",
       "  --sklearn-color-text-muted: #666;\n",
       "  --sklearn-color-line: gray;\n",
       "  /* Definition of color scheme for unfitted estimators */\n",
       "  --sklearn-color-unfitted-level-0: #fff5e6;\n",
       "  --sklearn-color-unfitted-level-1: #f6e4d2;\n",
       "  --sklearn-color-unfitted-level-2: #ffe0b3;\n",
       "  --sklearn-color-unfitted-level-3: chocolate;\n",
       "  /* Definition of color scheme for fitted estimators */\n",
       "  --sklearn-color-fitted-level-0: #f0f8ff;\n",
       "  --sklearn-color-fitted-level-1: #d4ebff;\n",
       "  --sklearn-color-fitted-level-2: #b3dbfd;\n",
       "  --sklearn-color-fitted-level-3: cornflowerblue;\n",
       "\n",
       "  /* Specific color for light theme */\n",
       "  --sklearn-color-text-on-default-background: var(--sg-text-color, var(--theme-code-foreground, var(--jp-content-font-color1, black)));\n",
       "  --sklearn-color-background: var(--sg-background-color, var(--theme-background, var(--jp-layout-color0, white)));\n",
       "  --sklearn-color-border-box: var(--sg-text-color, var(--theme-code-foreground, var(--jp-content-font-color1, black)));\n",
       "  --sklearn-color-icon: #696969;\n",
       "\n",
       "  @media (prefers-color-scheme: dark) {\n",
       "    /* Redefinition of color scheme for dark theme */\n",
       "    --sklearn-color-text-on-default-background: var(--sg-text-color, var(--theme-code-foreground, var(--jp-content-font-color1, white)));\n",
       "    --sklearn-color-background: var(--sg-background-color, var(--theme-background, var(--jp-layout-color0, #111)));\n",
       "    --sklearn-color-border-box: var(--sg-text-color, var(--theme-code-foreground, var(--jp-content-font-color1, white)));\n",
       "    --sklearn-color-icon: #878787;\n",
       "  }\n",
       "}\n",
       "\n",
       "#sk-container-id-1 {\n",
       "  color: var(--sklearn-color-text);\n",
       "}\n",
       "\n",
       "#sk-container-id-1 pre {\n",
       "  padding: 0;\n",
       "}\n",
       "\n",
       "#sk-container-id-1 input.sk-hidden--visually {\n",
       "  border: 0;\n",
       "  clip: rect(1px 1px 1px 1px);\n",
       "  clip: rect(1px, 1px, 1px, 1px);\n",
       "  height: 1px;\n",
       "  margin: -1px;\n",
       "  overflow: hidden;\n",
       "  padding: 0;\n",
       "  position: absolute;\n",
       "  width: 1px;\n",
       "}\n",
       "\n",
       "#sk-container-id-1 div.sk-dashed-wrapped {\n",
       "  border: 1px dashed var(--sklearn-color-line);\n",
       "  margin: 0 0.4em 0.5em 0.4em;\n",
       "  box-sizing: border-box;\n",
       "  padding-bottom: 0.4em;\n",
       "  background-color: var(--sklearn-color-background);\n",
       "}\n",
       "\n",
       "#sk-container-id-1 div.sk-container {\n",
       "  /* jupyter's `normalize.less` sets `[hidden] { display: none; }`\n",
       "     but bootstrap.min.css set `[hidden] { display: none !important; }`\n",
       "     so we also need the `!important` here to be able to override the\n",
       "     default hidden behavior on the sphinx rendered scikit-learn.org.\n",
       "     See: https://github.com/scikit-learn/scikit-learn/issues/21755 */\n",
       "  display: inline-block !important;\n",
       "  position: relative;\n",
       "}\n",
       "\n",
       "#sk-container-id-1 div.sk-text-repr-fallback {\n",
       "  display: none;\n",
       "}\n",
       "\n",
       "div.sk-parallel-item,\n",
       "div.sk-serial,\n",
       "div.sk-item {\n",
       "  /* draw centered vertical line to link estimators */\n",
       "  background-image: linear-gradient(var(--sklearn-color-text-on-default-background), var(--sklearn-color-text-on-default-background));\n",
       "  background-size: 2px 100%;\n",
       "  background-repeat: no-repeat;\n",
       "  background-position: center center;\n",
       "}\n",
       "\n",
       "/* Parallel-specific style estimator block */\n",
       "\n",
       "#sk-container-id-1 div.sk-parallel-item::after {\n",
       "  content: \"\";\n",
       "  width: 100%;\n",
       "  border-bottom: 2px solid var(--sklearn-color-text-on-default-background);\n",
       "  flex-grow: 1;\n",
       "}\n",
       "\n",
       "#sk-container-id-1 div.sk-parallel {\n",
       "  display: flex;\n",
       "  align-items: stretch;\n",
       "  justify-content: center;\n",
       "  background-color: var(--sklearn-color-background);\n",
       "  position: relative;\n",
       "}\n",
       "\n",
       "#sk-container-id-1 div.sk-parallel-item {\n",
       "  display: flex;\n",
       "  flex-direction: column;\n",
       "}\n",
       "\n",
       "#sk-container-id-1 div.sk-parallel-item:first-child::after {\n",
       "  align-self: flex-end;\n",
       "  width: 50%;\n",
       "}\n",
       "\n",
       "#sk-container-id-1 div.sk-parallel-item:last-child::after {\n",
       "  align-self: flex-start;\n",
       "  width: 50%;\n",
       "}\n",
       "\n",
       "#sk-container-id-1 div.sk-parallel-item:only-child::after {\n",
       "  width: 0;\n",
       "}\n",
       "\n",
       "/* Serial-specific style estimator block */\n",
       "\n",
       "#sk-container-id-1 div.sk-serial {\n",
       "  display: flex;\n",
       "  flex-direction: column;\n",
       "  align-items: center;\n",
       "  background-color: var(--sklearn-color-background);\n",
       "  padding-right: 1em;\n",
       "  padding-left: 1em;\n",
       "}\n",
       "\n",
       "\n",
       "/* Toggleable style: style used for estimator/Pipeline/ColumnTransformer box that is\n",
       "clickable and can be expanded/collapsed.\n",
       "- Pipeline and ColumnTransformer use this feature and define the default style\n",
       "- Estimators will overwrite some part of the style using the `sk-estimator` class\n",
       "*/\n",
       "\n",
       "/* Pipeline and ColumnTransformer style (default) */\n",
       "\n",
       "#sk-container-id-1 div.sk-toggleable {\n",
       "  /* Default theme specific background. It is overwritten whether we have a\n",
       "  specific estimator or a Pipeline/ColumnTransformer */\n",
       "  background-color: var(--sklearn-color-background);\n",
       "}\n",
       "\n",
       "/* Toggleable label */\n",
       "#sk-container-id-1 label.sk-toggleable__label {\n",
       "  cursor: pointer;\n",
       "  display: flex;\n",
       "  width: 100%;\n",
       "  margin-bottom: 0;\n",
       "  padding: 0.5em;\n",
       "  box-sizing: border-box;\n",
       "  text-align: center;\n",
       "  align-items: start;\n",
       "  justify-content: space-between;\n",
       "  gap: 0.5em;\n",
       "}\n",
       "\n",
       "#sk-container-id-1 label.sk-toggleable__label .caption {\n",
       "  font-size: 0.6rem;\n",
       "  font-weight: lighter;\n",
       "  color: var(--sklearn-color-text-muted);\n",
       "}\n",
       "\n",
       "#sk-container-id-1 label.sk-toggleable__label-arrow:before {\n",
       "  /* Arrow on the left of the label */\n",
       "  content: \"▸\";\n",
       "  float: left;\n",
       "  margin-right: 0.25em;\n",
       "  color: var(--sklearn-color-icon);\n",
       "}\n",
       "\n",
       "#sk-container-id-1 label.sk-toggleable__label-arrow:hover:before {\n",
       "  color: var(--sklearn-color-text);\n",
       "}\n",
       "\n",
       "/* Toggleable content - dropdown */\n",
       "\n",
       "#sk-container-id-1 div.sk-toggleable__content {\n",
       "  max-height: 0;\n",
       "  max-width: 0;\n",
       "  overflow: hidden;\n",
       "  text-align: left;\n",
       "  /* unfitted */\n",
       "  background-color: var(--sklearn-color-unfitted-level-0);\n",
       "}\n",
       "\n",
       "#sk-container-id-1 div.sk-toggleable__content.fitted {\n",
       "  /* fitted */\n",
       "  background-color: var(--sklearn-color-fitted-level-0);\n",
       "}\n",
       "\n",
       "#sk-container-id-1 div.sk-toggleable__content pre {\n",
       "  margin: 0.2em;\n",
       "  border-radius: 0.25em;\n",
       "  color: var(--sklearn-color-text);\n",
       "  /* unfitted */\n",
       "  background-color: var(--sklearn-color-unfitted-level-0);\n",
       "}\n",
       "\n",
       "#sk-container-id-1 div.sk-toggleable__content.fitted pre {\n",
       "  /* unfitted */\n",
       "  background-color: var(--sklearn-color-fitted-level-0);\n",
       "}\n",
       "\n",
       "#sk-container-id-1 input.sk-toggleable__control:checked~div.sk-toggleable__content {\n",
       "  /* Expand drop-down */\n",
       "  max-height: 200px;\n",
       "  max-width: 100%;\n",
       "  overflow: auto;\n",
       "}\n",
       "\n",
       "#sk-container-id-1 input.sk-toggleable__control:checked~label.sk-toggleable__label-arrow:before {\n",
       "  content: \"▾\";\n",
       "}\n",
       "\n",
       "/* Pipeline/ColumnTransformer-specific style */\n",
       "\n",
       "#sk-container-id-1 div.sk-label input.sk-toggleable__control:checked~label.sk-toggleable__label {\n",
       "  color: var(--sklearn-color-text);\n",
       "  background-color: var(--sklearn-color-unfitted-level-2);\n",
       "}\n",
       "\n",
       "#sk-container-id-1 div.sk-label.fitted input.sk-toggleable__control:checked~label.sk-toggleable__label {\n",
       "  background-color: var(--sklearn-color-fitted-level-2);\n",
       "}\n",
       "\n",
       "/* Estimator-specific style */\n",
       "\n",
       "/* Colorize estimator box */\n",
       "#sk-container-id-1 div.sk-estimator input.sk-toggleable__control:checked~label.sk-toggleable__label {\n",
       "  /* unfitted */\n",
       "  background-color: var(--sklearn-color-unfitted-level-2);\n",
       "}\n",
       "\n",
       "#sk-container-id-1 div.sk-estimator.fitted input.sk-toggleable__control:checked~label.sk-toggleable__label {\n",
       "  /* fitted */\n",
       "  background-color: var(--sklearn-color-fitted-level-2);\n",
       "}\n",
       "\n",
       "#sk-container-id-1 div.sk-label label.sk-toggleable__label,\n",
       "#sk-container-id-1 div.sk-label label {\n",
       "  /* The background is the default theme color */\n",
       "  color: var(--sklearn-color-text-on-default-background);\n",
       "}\n",
       "\n",
       "/* On hover, darken the color of the background */\n",
       "#sk-container-id-1 div.sk-label:hover label.sk-toggleable__label {\n",
       "  color: var(--sklearn-color-text);\n",
       "  background-color: var(--sklearn-color-unfitted-level-2);\n",
       "}\n",
       "\n",
       "/* Label box, darken color on hover, fitted */\n",
       "#sk-container-id-1 div.sk-label.fitted:hover label.sk-toggleable__label.fitted {\n",
       "  color: var(--sklearn-color-text);\n",
       "  background-color: var(--sklearn-color-fitted-level-2);\n",
       "}\n",
       "\n",
       "/* Estimator label */\n",
       "\n",
       "#sk-container-id-1 div.sk-label label {\n",
       "  font-family: monospace;\n",
       "  font-weight: bold;\n",
       "  display: inline-block;\n",
       "  line-height: 1.2em;\n",
       "}\n",
       "\n",
       "#sk-container-id-1 div.sk-label-container {\n",
       "  text-align: center;\n",
       "}\n",
       "\n",
       "/* Estimator-specific */\n",
       "#sk-container-id-1 div.sk-estimator {\n",
       "  font-family: monospace;\n",
       "  border: 1px dotted var(--sklearn-color-border-box);\n",
       "  border-radius: 0.25em;\n",
       "  box-sizing: border-box;\n",
       "  margin-bottom: 0.5em;\n",
       "  /* unfitted */\n",
       "  background-color: var(--sklearn-color-unfitted-level-0);\n",
       "}\n",
       "\n",
       "#sk-container-id-1 div.sk-estimator.fitted {\n",
       "  /* fitted */\n",
       "  background-color: var(--sklearn-color-fitted-level-0);\n",
       "}\n",
       "\n",
       "/* on hover */\n",
       "#sk-container-id-1 div.sk-estimator:hover {\n",
       "  /* unfitted */\n",
       "  background-color: var(--sklearn-color-unfitted-level-2);\n",
       "}\n",
       "\n",
       "#sk-container-id-1 div.sk-estimator.fitted:hover {\n",
       "  /* fitted */\n",
       "  background-color: var(--sklearn-color-fitted-level-2);\n",
       "}\n",
       "\n",
       "/* Specification for estimator info (e.g. \"i\" and \"?\") */\n",
       "\n",
       "/* Common style for \"i\" and \"?\" */\n",
       "\n",
       ".sk-estimator-doc-link,\n",
       "a:link.sk-estimator-doc-link,\n",
       "a:visited.sk-estimator-doc-link {\n",
       "  float: right;\n",
       "  font-size: smaller;\n",
       "  line-height: 1em;\n",
       "  font-family: monospace;\n",
       "  background-color: var(--sklearn-color-background);\n",
       "  border-radius: 1em;\n",
       "  height: 1em;\n",
       "  width: 1em;\n",
       "  text-decoration: none !important;\n",
       "  margin-left: 0.5em;\n",
       "  text-align: center;\n",
       "  /* unfitted */\n",
       "  border: var(--sklearn-color-unfitted-level-1) 1pt solid;\n",
       "  color: var(--sklearn-color-unfitted-level-1);\n",
       "}\n",
       "\n",
       ".sk-estimator-doc-link.fitted,\n",
       "a:link.sk-estimator-doc-link.fitted,\n",
       "a:visited.sk-estimator-doc-link.fitted {\n",
       "  /* fitted */\n",
       "  border: var(--sklearn-color-fitted-level-1) 1pt solid;\n",
       "  color: var(--sklearn-color-fitted-level-1);\n",
       "}\n",
       "\n",
       "/* On hover */\n",
       "div.sk-estimator:hover .sk-estimator-doc-link:hover,\n",
       ".sk-estimator-doc-link:hover,\n",
       "div.sk-label-container:hover .sk-estimator-doc-link:hover,\n",
       ".sk-estimator-doc-link:hover {\n",
       "  /* unfitted */\n",
       "  background-color: var(--sklearn-color-unfitted-level-3);\n",
       "  color: var(--sklearn-color-background);\n",
       "  text-decoration: none;\n",
       "}\n",
       "\n",
       "div.sk-estimator.fitted:hover .sk-estimator-doc-link.fitted:hover,\n",
       ".sk-estimator-doc-link.fitted:hover,\n",
       "div.sk-label-container:hover .sk-estimator-doc-link.fitted:hover,\n",
       ".sk-estimator-doc-link.fitted:hover {\n",
       "  /* fitted */\n",
       "  background-color: var(--sklearn-color-fitted-level-3);\n",
       "  color: var(--sklearn-color-background);\n",
       "  text-decoration: none;\n",
       "}\n",
       "\n",
       "/* Span, style for the box shown on hovering the info icon */\n",
       ".sk-estimator-doc-link span {\n",
       "  display: none;\n",
       "  z-index: 9999;\n",
       "  position: relative;\n",
       "  font-weight: normal;\n",
       "  right: .2ex;\n",
       "  padding: .5ex;\n",
       "  margin: .5ex;\n",
       "  width: min-content;\n",
       "  min-width: 20ex;\n",
       "  max-width: 50ex;\n",
       "  color: var(--sklearn-color-text);\n",
       "  box-shadow: 2pt 2pt 4pt #999;\n",
       "  /* unfitted */\n",
       "  background: var(--sklearn-color-unfitted-level-0);\n",
       "  border: .5pt solid var(--sklearn-color-unfitted-level-3);\n",
       "}\n",
       "\n",
       ".sk-estimator-doc-link.fitted span {\n",
       "  /* fitted */\n",
       "  background: var(--sklearn-color-fitted-level-0);\n",
       "  border: var(--sklearn-color-fitted-level-3);\n",
       "}\n",
       "\n",
       ".sk-estimator-doc-link:hover span {\n",
       "  display: block;\n",
       "}\n",
       "\n",
       "/* \"?\"-specific style due to the `<a>` HTML tag */\n",
       "\n",
       "#sk-container-id-1 a.estimator_doc_link {\n",
       "  float: right;\n",
       "  font-size: 1rem;\n",
       "  line-height: 1em;\n",
       "  font-family: monospace;\n",
       "  background-color: var(--sklearn-color-background);\n",
       "  border-radius: 1rem;\n",
       "  height: 1rem;\n",
       "  width: 1rem;\n",
       "  text-decoration: none;\n",
       "  /* unfitted */\n",
       "  color: var(--sklearn-color-unfitted-level-1);\n",
       "  border: var(--sklearn-color-unfitted-level-1) 1pt solid;\n",
       "}\n",
       "\n",
       "#sk-container-id-1 a.estimator_doc_link.fitted {\n",
       "  /* fitted */\n",
       "  border: var(--sklearn-color-fitted-level-1) 1pt solid;\n",
       "  color: var(--sklearn-color-fitted-level-1);\n",
       "}\n",
       "\n",
       "/* On hover */\n",
       "#sk-container-id-1 a.estimator_doc_link:hover {\n",
       "  /* unfitted */\n",
       "  background-color: var(--sklearn-color-unfitted-level-3);\n",
       "  color: var(--sklearn-color-background);\n",
       "  text-decoration: none;\n",
       "}\n",
       "\n",
       "#sk-container-id-1 a.estimator_doc_link.fitted:hover {\n",
       "  /* fitted */\n",
       "  background-color: var(--sklearn-color-fitted-level-3);\n",
       "}\n",
       "</style><div id=\"sk-container-id-1\" class=\"sk-top-container\"><div class=\"sk-text-repr-fallback\"><pre>Pipeline(steps=[(&#x27;tfidfvectorizer&#x27;, TfidfVectorizer(max_features=1500)),\n",
       "                (&#x27;multinomialnb&#x27;, MultinomialNB())])</pre><b>In a Jupyter environment, please rerun this cell to show the HTML representation or trust the notebook. <br />On GitHub, the HTML representation is unable to render, please try loading this page with nbviewer.org.</b></div><div class=\"sk-container\" hidden><div class=\"sk-item sk-dashed-wrapped\"><div class=\"sk-label-container\"><div class=\"sk-label fitted sk-toggleable\"><input class=\"sk-toggleable__control sk-hidden--visually\" id=\"sk-estimator-id-1\" type=\"checkbox\" ><label for=\"sk-estimator-id-1\" class=\"sk-toggleable__label fitted sk-toggleable__label-arrow\"><div><div>Pipeline</div></div><div><a class=\"sk-estimator-doc-link fitted\" rel=\"noreferrer\" target=\"_blank\" href=\"https://scikit-learn.org/1.6/modules/generated/sklearn.pipeline.Pipeline.html\">?<span>Documentation for Pipeline</span></a><span class=\"sk-estimator-doc-link fitted\">i<span>Fitted</span></span></div></label><div class=\"sk-toggleable__content fitted\"><pre>Pipeline(steps=[(&#x27;tfidfvectorizer&#x27;, TfidfVectorizer(max_features=1500)),\n",
       "                (&#x27;multinomialnb&#x27;, MultinomialNB())])</pre></div> </div></div><div class=\"sk-serial\"><div class=\"sk-item\"><div class=\"sk-estimator fitted sk-toggleable\"><input class=\"sk-toggleable__control sk-hidden--visually\" id=\"sk-estimator-id-2\" type=\"checkbox\" ><label for=\"sk-estimator-id-2\" class=\"sk-toggleable__label fitted sk-toggleable__label-arrow\"><div><div>TfidfVectorizer</div></div><div><a class=\"sk-estimator-doc-link fitted\" rel=\"noreferrer\" target=\"_blank\" href=\"https://scikit-learn.org/1.6/modules/generated/sklearn.feature_extraction.text.TfidfVectorizer.html\">?<span>Documentation for TfidfVectorizer</span></a></div></label><div class=\"sk-toggleable__content fitted\"><pre>TfidfVectorizer(max_features=1500)</pre></div> </div></div><div class=\"sk-item\"><div class=\"sk-estimator fitted sk-toggleable\"><input class=\"sk-toggleable__control sk-hidden--visually\" id=\"sk-estimator-id-3\" type=\"checkbox\" ><label for=\"sk-estimator-id-3\" class=\"sk-toggleable__label fitted sk-toggleable__label-arrow\"><div><div>MultinomialNB</div></div><div><a class=\"sk-estimator-doc-link fitted\" rel=\"noreferrer\" target=\"_blank\" href=\"https://scikit-learn.org/1.6/modules/generated/sklearn.naive_bayes.MultinomialNB.html\">?<span>Documentation for MultinomialNB</span></a></div></label><div class=\"sk-toggleable__content fitted\"><pre>MultinomialNB()</pre></div> </div></div></div></div></div></div>"
      ],
      "text/plain": [
       "Pipeline(steps=[('tfidfvectorizer', TfidfVectorizer(max_features=1500)),\n",
       "                ('multinomialnb', MultinomialNB())])"
      ]
     },
     "execution_count": 26,
     "metadata": {},
     "output_type": "execute_result"
    }
   ],
   "source": [
    "import sklearn\n",
    "from sklearn.pipeline import make_pipeline\n",
    "\n",
    "# for Naïve Bayes\n",
    "from sklearn.feature_extraction.text import TfidfVectorizer\n",
    "from sklearn.naive_bayes import MultinomialNB\n",
    "\n",
    "# will consist of 2 steps\n",
    "# step 1: feature extraction through tf-idf\n",
    "# step 2: naive bayes multinomial model\n",
    "period_nbc = make_pipeline(TfidfVectorizer(max_features = 1500), MultinomialNB())\n",
    "\n",
    "# fitting and training model through pipeline \n",
    "period_nbc.fit(docs_train, y_train) # fitting model (training sents, target labels)"
   ]
  },
  {
   "cell_type": "code",
   "execution_count": 27,
   "id": "96dede5d-4bf9-4d04-99c3-317134349270",
   "metadata": {},
   "outputs": [],
   "source": [
    "# creating predicted labels\n",
    "y_pred_prompt_nb = period_nbc.predict(docs_test)"
   ]
  },
  {
   "cell_type": "code",
   "execution_count": 28,
   "id": "edc604d6-3f01-4a5d-bd6c-787f84d638ab",
   "metadata": {},
   "outputs": [],
   "source": [
    "# evaluating\n",
    "from sklearn.metrics import confusion_matrix\n",
    "import seaborn as sns\n",
    "from sklearn.metrics import accuracy_score"
   ]
  },
  {
   "cell_type": "code",
   "execution_count": 29,
   "id": "26fa80dc-670b-4076-8c22-1da7c70f574d",
   "metadata": {},
   "outputs": [
    {
     "data": {
      "text/plain": [
       "0.9908904633767003"
      ]
     },
     "execution_count": 29,
     "metadata": {},
     "output_type": "execute_result"
    }
   ],
   "source": [
    "# checking accuracy score\n",
    "accuracy_score(y_test, y_pred_prompt_nb)"
   ]
  },
  {
   "cell_type": "code",
   "execution_count": 30,
   "id": "0c3a2918-c7c5-496c-8895-d76353ca8c9e",
   "metadata": {},
   "outputs": [
    {
     "data": {
      "text/plain": [
       "<function matplotlib.pyplot.show(close=None, block=None)>"
      ]
     },
     "execution_count": 30,
     "metadata": {},
     "output_type": "execute_result"
    },
    {
     "data": {
      "image/png": "[encoded data removed]",
      "text/plain": [
       "<Figure size 400x400 with 2 Axes>"
      ]
     },
     "metadata": {},
     "output_type": "display_data"
    }
   ],
   "source": [
    "import matplotlib.pyplot as plt\n",
    "mtrx_prompt_nb = confusion_matrix(y_test, y_pred_prompt_nb)\n",
    "# plotting confusion matrix\n",
    "plt.figure(figsize = (4, 4))\n",
    "sns.heatmap(mtrx_prompt_nb, square = True, annot = True, fmt = 'd', cmap = \"Purples\", \n",
    "            xticklabels= sorted(set(y_train)), yticklabels= sorted(set(y_pred_prompt_nb)))\n",
    "plt.xlabel(\"predicted label\")\n",
    "plt.ylabel(\"true label\")\n",
    "plt.show"
   ]
  },
  {
   "cell_type": "markdown",
   "id": "4862e6fe-fddc-4d1d-b656-968f3eaa20da",
   "metadata": {},
   "source": [
    "**Comment:** Since this division is very uneven, let's try to cluster our data in smaller periods hoping for a more descriptive model for our analysis."
   ]
  },
  {
   "cell_type": "markdown",
   "id": "577a9afc-dcfd-456d-99e2-dc83bdb187a3",
   "metadata": {},
   "source": [
    "## Clustering\n",
    "Since we need to divide the data in periods, we will try to find the optimal number of clusters. However, since we want the clusters to be a continuous period (eg.: we don't want 1860 and 1867 to be clustered together if 1865 belongs to another cluster) we will need to use **Ward hierarchical clustering** as it allows for connectivity constraints.\n",
    "The following Clustering process has been done following:\\\n",
    "[Scikit-learn User Guide 2.3. on Clustering](https://scikit-learn.org/stable/modules/clustering.html#hierarchical-clustering)\\\n",
    "[DataCamp's Introduction to Hierarchical Clustering](https://www.datacamp.com/tutorial/introduction-hierarchical-clustering-python)\\\n",
    "[DataCamp's Cluster Analysis in Python](https://app.datacamp.com/learn/courses/cluster-analysis-in-python)"
   ]
  },
  {
   "cell_type": "code",
   "execution_count": 3,
   "id": "e4f7a96e-d40a-4ef2-8d37-6dc1634433c1",
   "metadata": {},
   "outputs": [],
   "source": [
    "# loading the complete dataframe\n",
    "complete_df = pd.read_pickle(\"complete_df.pkl\")"
   ]
  },
  {
   "cell_type": "code",
   "execution_count": 4,
   "id": "6ba9747a-91ed-40ee-97aa-abc7d421f126",
   "metadata": {},
   "outputs": [
    {
     "data": {
      "text/plain": [
       "Index(['Year', 'Line_id', 'Text', 'Text_len', 'toks', 'Len_toks', 'toks_low',\n",
       "       'hi', '-hi', 'hi_count', 'hi_percent', 'Lemmas', 'Anar_count',\n",
       "       'Venir_count', 'Anar_percent', 'Venir_percent', 'PstPerif',\n",
       "       'Pstp_count', 'Pstp_percent', 'HaverDe_count', 'TenirQue_count', 'POS',\n",
       "       'PronominalizedV', 'PronV_count', 'V_total', 'PronV_percent'],\n",
       "      dtype='object')"
      ]
     },
     "execution_count": 4,
     "metadata": {},
     "output_type": "execute_result"
    }
   ],
   "source": [
    "# checking its columsn\n",
    "complete_df.columns"
   ]
  },
  {
   "cell_type": "code",
   "execution_count": 6,
   "id": "2c8e28e4-2b86-4995-b549-13ab89eee4a7",
   "metadata": {},
   "outputs": [
    {
     "name": "stdout",
     "output_type": "stream",
     "text": [
      "<class 'pandas.core.frame.DataFrame'>\n",
      "RangeIndex: 12093636 entries, 0 to 12093635\n",
      "Data columns (total 26 columns):\n",
      " #   Column           Dtype  \n",
      "---  ------           -----  \n",
      " 0   Year             int64  \n",
      " 1   Line_id          object \n",
      " 2   Text             object \n",
      " 3   Text_len         int64  \n",
      " 4   toks             object \n",
      " 5   Len_toks         int64  \n",
      " 6   toks_low         object \n",
      " 7   hi               object \n",
      " 8   -hi              object \n",
      " 9   hi_count         int64  \n",
      " 10  hi_percent       float64\n",
      " 11  Lemmas           object \n",
      " 12  Anar_count       int64  \n",
      " 13  Venir_count      int64  \n",
      " 14  Anar_percent     float64\n",
      " 15  Venir_percent    float64\n",
      " 16  PstPerif         object \n",
      " 17  Pstp_count       int64  \n",
      " 18  Pstp_percent     float64\n",
      " 19  HaverDe_count    int64  \n",
      " 20  TenirQue_count   int64  \n",
      " 21  POS              object \n",
      " 22  PronominalizedV  object \n",
      " 23  PronV_count      int64  \n",
      " 24  V_total          int64  \n",
      " 25  PronV_percent    float64\n",
      "dtypes: float64(5), int64(11), object(10)\n",
      "memory usage: 2.3+ GB\n"
     ]
    }
   ],
   "source": [
    "complete_df.info()"
   ]
  },
  {
   "cell_type": "markdown",
   "id": "10e9ca32-167b-49da-b7f9-ca007c278b59",
   "metadata": {},
   "source": [
    "### Getting the data ready for clustering"
   ]
  },
  {
   "cell_type": "code",
   "execution_count": 7,
   "id": "462cec25-2394-4497-89ac-3d0aea36ecfe",
   "metadata": {},
   "outputs": [],
   "source": [
    "# keeping only the columns we want (percentages, which are floats and a single int which is the Year (will be turned into the target)\n",
    "df = complete_df[[\"Year\", \"hi_percent\", \"Anar_percent\", \"Venir_percent\", \"Pstp_percent\", \"PronV_percent\"]]\n",
    "# add haver de i tenir que"
   ]
  },
  {
   "cell_type": "code",
   "execution_count": 8,
   "id": "f51555e8-872f-461c-8bc0-adfa294fbcd2",
   "metadata": {
    "scrolled": true
   },
   "outputs": [
    {
     "data": {
      "text/html": [
       "<div>\n",
       "<style scoped>\n",
       "    .dataframe tbody tr th:only-of-type {\n",
       "        vertical-align: middle;\n",
       "    }\n",
       "\n",
       "    .dataframe tbody tr th {\n",
       "        vertical-align: top;\n",
       "    }\n",
       "\n",
       "    .dataframe thead th {\n",
       "        text-align: right;\n",
       "    }\n",
       "</style>\n",
       "<table border=\"1\" class=\"dataframe\">\n",
       "  <thead>\n",
       "    <tr style=\"text-align: right;\">\n",
       "      <th></th>\n",
       "      <th>Year</th>\n",
       "      <th>hi_percent</th>\n",
       "      <th>Anar_percent</th>\n",
       "      <th>Venir_percent</th>\n",
       "      <th>Pstp_percent</th>\n",
       "      <th>PronV_percent</th>\n",
       "    </tr>\n",
       "  </thead>\n",
       "  <tbody>\n",
       "    <tr>\n",
       "      <th>0</th>\n",
       "      <td>1926</td>\n",
       "      <td>0.013761</td>\n",
       "      <td>0.839411</td>\n",
       "      <td>0.027522</td>\n",
       "      <td>0.481629</td>\n",
       "      <td>4.732824</td>\n",
       "    </tr>\n",
       "    <tr>\n",
       "      <th>1</th>\n",
       "      <td>1920</td>\n",
       "      <td>0.053619</td>\n",
       "      <td>0.428954</td>\n",
       "      <td>0.000000</td>\n",
       "      <td>0.214477</td>\n",
       "      <td>10.596026</td>\n",
       "    </tr>\n",
       "    <tr>\n",
       "      <th>2</th>\n",
       "      <td>1900</td>\n",
       "      <td>0.006790</td>\n",
       "      <td>0.129015</td>\n",
       "      <td>0.033951</td>\n",
       "      <td>0.040741</td>\n",
       "      <td>8.818636</td>\n",
       "    </tr>\n",
       "    <tr>\n",
       "      <th>3</th>\n",
       "      <td>1894</td>\n",
       "      <td>0.017200</td>\n",
       "      <td>0.171999</td>\n",
       "      <td>0.189198</td>\n",
       "      <td>0.103199</td>\n",
       "      <td>1.344538</td>\n",
       "    </tr>\n",
       "    <tr>\n",
       "      <th>4</th>\n",
       "      <td>1894</td>\n",
       "      <td>0.017200</td>\n",
       "      <td>0.171999</td>\n",
       "      <td>0.189198</td>\n",
       "      <td>0.103199</td>\n",
       "      <td>6.557377</td>\n",
       "    </tr>\n",
       "  </tbody>\n",
       "</table>\n",
       "</div>"
      ],
      "text/plain": [
       "   Year  hi_percent  Anar_percent  Venir_percent  Pstp_percent  PronV_percent\n",
       "0  1926    0.013761      0.839411       0.027522      0.481629       4.732824\n",
       "1  1920    0.053619      0.428954       0.000000      0.214477      10.596026\n",
       "2  1900    0.006790      0.129015       0.033951      0.040741       8.818636\n",
       "3  1894    0.017200      0.171999       0.189198      0.103199       1.344538\n",
       "4  1894    0.017200      0.171999       0.189198      0.103199       6.557377"
      ]
     },
     "execution_count": 8,
     "metadata": {},
     "output_type": "execute_result"
    }
   ],
   "source": [
    "df.head(3)"
   ]
  },
  {
   "cell_type": "code",
   "execution_count": 9,
   "id": "a5dde565-22ef-49b0-b917-217ddf175575",
   "metadata": {},
   "outputs": [
    {
     "name": "stdout",
     "output_type": "stream",
     "text": [
      "<class 'pandas.core.frame.DataFrame'>\n",
      "RangeIndex: 12093636 entries, 0 to 12093635\n",
      "Data columns (total 6 columns):\n",
      " #   Column         Dtype  \n",
      "---  ------         -----  \n",
      " 0   Year           int64  \n",
      " 1   hi_percent     float64\n",
      " 2   Anar_percent   float64\n",
      " 3   Venir_percent  float64\n",
      " 4   Pstp_percent   float64\n",
      " 5   PronV_percent  float64\n",
      "dtypes: float64(5), int64(1)\n",
      "memory usage: 553.6 MB\n"
     ]
    }
   ],
   "source": [
    "df.info()"
   ]
  },
  {
   "cell_type": "markdown",
   "id": "f8027262-af16-4705-b378-f24563668d17",
   "metadata": {},
   "source": [
    "**Comment:** We have a huge amount of data that can't be used for hierarchical clustering. Therefore, we will create a sample of data and work with it from now on in this part of the analysis. "
   ]
  },
  {
   "cell_type": "code",
   "execution_count": 10,
   "id": "b822e35e-1781-4fab-b64c-f8dbf10bbe2f",
   "metadata": {},
   "outputs": [],
   "source": [
    "# sampling data because we have too much data to work with to do hierarchical clustering\n",
    "sample_data = []\n",
    "\n",
    "for year in sorted(df['Year'].unique()):\n",
    "    yearly_data = df[df['Year'] == year]\n",
    "    sample = yearly_data.sample(n=min(1000, len(yearly_data)), random_state=0)\n",
    "    sample_data.append(sample)\n",
    "\n",
    "sample_data = pd.concat(sample_data)"
   ]
  },
  {
   "cell_type": "code",
   "execution_count": 11,
   "id": "9a664e5b-a998-4b54-a747-626b02f8052c",
   "metadata": {},
   "outputs": [
    {
     "data": {
      "text/html": [
       "<div>\n",
       "<style scoped>\n",
       "    .dataframe tbody tr th:only-of-type {\n",
       "        vertical-align: middle;\n",
       "    }\n",
       "\n",
       "    .dataframe tbody tr th {\n",
       "        vertical-align: top;\n",
       "    }\n",
       "\n",
       "    .dataframe thead th {\n",
       "        text-align: right;\n",
       "    }\n",
       "</style>\n",
       "<table border=\"1\" class=\"dataframe\">\n",
       "  <thead>\n",
       "    <tr style=\"text-align: right;\">\n",
       "      <th></th>\n",
       "      <th>Year</th>\n",
       "      <th>hi_percent</th>\n",
       "      <th>Anar_percent</th>\n",
       "      <th>Venir_percent</th>\n",
       "      <th>Pstp_percent</th>\n",
       "      <th>PronV_percent</th>\n",
       "    </tr>\n",
       "  </thead>\n",
       "  <tbody>\n",
       "    <tr>\n",
       "      <th>count</th>\n",
       "      <td>22724.000000</td>\n",
       "      <td>22724.000000</td>\n",
       "      <td>22724.000000</td>\n",
       "      <td>22724.000000</td>\n",
       "      <td>22724.000000</td>\n",
       "      <td>22724.000000</td>\n",
       "    </tr>\n",
       "    <tr>\n",
       "      <th>mean</th>\n",
       "      <td>2000.524864</td>\n",
       "      <td>0.260201</td>\n",
       "      <td>0.648009</td>\n",
       "      <td>0.079691</td>\n",
       "      <td>0.310040</td>\n",
       "      <td>14.575382</td>\n",
       "    </tr>\n",
       "    <tr>\n",
       "      <th>std</th>\n",
       "      <td>13.742399</td>\n",
       "      <td>0.934629</td>\n",
       "      <td>1.763867</td>\n",
       "      <td>0.557314</td>\n",
       "      <td>1.201793</td>\n",
       "      <td>23.248500</td>\n",
       "    </tr>\n",
       "    <tr>\n",
       "      <th>min</th>\n",
       "      <td>1860.000000</td>\n",
       "      <td>0.000000</td>\n",
       "      <td>0.000000</td>\n",
       "      <td>0.000000</td>\n",
       "      <td>0.000000</td>\n",
       "      <td>0.000000</td>\n",
       "    </tr>\n",
       "    <tr>\n",
       "      <th>25%</th>\n",
       "      <td>1994.000000</td>\n",
       "      <td>0.000000</td>\n",
       "      <td>0.000000</td>\n",
       "      <td>0.000000</td>\n",
       "      <td>0.000000</td>\n",
       "      <td>0.000000</td>\n",
       "    </tr>\n",
       "    <tr>\n",
       "      <th>50%</th>\n",
       "      <td>2002.000000</td>\n",
       "      <td>0.000000</td>\n",
       "      <td>0.000000</td>\n",
       "      <td>0.000000</td>\n",
       "      <td>0.000000</td>\n",
       "      <td>0.000000</td>\n",
       "    </tr>\n",
       "    <tr>\n",
       "      <th>75%</th>\n",
       "      <td>2008.000000</td>\n",
       "      <td>0.000000</td>\n",
       "      <td>0.403277</td>\n",
       "      <td>0.000000</td>\n",
       "      <td>0.000000</td>\n",
       "      <td>22.222222</td>\n",
       "    </tr>\n",
       "    <tr>\n",
       "      <th>max</th>\n",
       "      <td>2022.000000</td>\n",
       "      <td>25.000000</td>\n",
       "      <td>33.333333</td>\n",
       "      <td>25.000000</td>\n",
       "      <td>25.000000</td>\n",
       "      <td>100.000000</td>\n",
       "    </tr>\n",
       "  </tbody>\n",
       "</table>\n",
       "</div>"
      ],
      "text/plain": [
       "               Year    hi_percent  Anar_percent  Venir_percent  Pstp_percent  \\\n",
       "count  22724.000000  22724.000000  22724.000000   22724.000000  22724.000000   \n",
       "mean    2000.524864      0.260201      0.648009       0.079691      0.310040   \n",
       "std       13.742399      0.934629      1.763867       0.557314      1.201793   \n",
       "min     1860.000000      0.000000      0.000000       0.000000      0.000000   \n",
       "25%     1994.000000      0.000000      0.000000       0.000000      0.000000   \n",
       "50%     2002.000000      0.000000      0.000000       0.000000      0.000000   \n",
       "75%     2008.000000      0.000000      0.403277       0.000000      0.000000   \n",
       "max     2022.000000     25.000000     33.333333      25.000000     25.000000   \n",
       "\n",
       "       PronV_percent  \n",
       "count   22724.000000  \n",
       "mean       14.575382  \n",
       "std        23.248500  \n",
       "min         0.000000  \n",
       "25%         0.000000  \n",
       "50%         0.000000  \n",
       "75%        22.222222  \n",
       "max       100.000000  "
      ]
     },
     "execution_count": 11,
     "metadata": {},
     "output_type": "execute_result"
    }
   ],
   "source": [
    "sample_data.describe()"
   ]
  },
  {
   "cell_type": "code",
   "execution_count": 12,
   "id": "20d28da2-a927-4018-b638-a72451daab9e",
   "metadata": {},
   "outputs": [
    {
     "name": "stdout",
     "output_type": "stream",
     "text": [
      "<class 'pandas.core.frame.DataFrame'>\n",
      "Index: 22724 entries, 204 to 4440\n",
      "Data columns (total 6 columns):\n",
      " #   Column         Non-Null Count  Dtype  \n",
      "---  ------         --------------  -----  \n",
      " 0   Year           22724 non-null  int64  \n",
      " 1   hi_percent     22724 non-null  float64\n",
      " 2   Anar_percent   22724 non-null  float64\n",
      " 3   Venir_percent  22724 non-null  float64\n",
      " 4   Pstp_percent   22724 non-null  float64\n",
      " 5   PronV_percent  22724 non-null  float64\n",
      "dtypes: float64(5), int64(1)\n",
      "memory usage: 1.2 MB\n"
     ]
    }
   ],
   "source": [
    "sample_data.info()"
   ]
  },
  {
   "cell_type": "markdown",
   "id": "03034a3c-8647-4251-8642-93df57ef68ea",
   "metadata": {},
   "source": [
    "**Comment:** Our data is remarkably smaller, with now about 22000 entries compared to the initial 12093636, and reducng its size from 553.6MB to 1.2MB."
   ]
  },
  {
   "cell_type": "markdown",
   "id": "f0c34581-36fb-4aea-9704-a89203272709",
   "metadata": {},
   "source": [
    "Normally the next step would be to remove any outliers. However, in our case, that would mean throwing away most of the early years, which is not ideal since we want to look at a historical change. Therefore, we won't be removing outliers but will need to keep it in mind as it will likely squeue our data. "
   ]
  },
  {
   "cell_type": "markdown",
   "id": "e954f2bb-ea79-4c71-a434-a641afa10f4e",
   "metadata": {},
   "source": [
    "Since our goal is to see how the different linguistic features cluster our data, we will normalize the data by column/feature."
   ]
  },
  {
   "cell_type": "code",
   "execution_count": 13,
   "id": "290d46c3-e537-427a-a456-f2449afff6b2",
   "metadata": {},
   "outputs": [],
   "source": [
    "# normalizing data per column/feature\n",
    "from sklearn.preprocessing import StandardScaler\n",
    "\n",
    "features = [\"hi_percent\", \"Anar_percent\", \"Venir_percent\", \"Pstp_percent\", \"PronV_percent\"]\n",
    "\n",
    "scaler = StandardScaler()\n",
    "sample_data[features] = scaler.fit_transform(sample_data[features])"
   ]
  },
  {
   "cell_type": "code",
   "execution_count": 14,
   "id": "d9953ad8-9789-4503-8d7d-f2eeff01540c",
   "metadata": {
    "scrolled": true
   },
   "outputs": [
    {
     "data": {
      "text/html": [
       "<div>\n",
       "<style scoped>\n",
       "    .dataframe tbody tr th:only-of-type {\n",
       "        vertical-align: middle;\n",
       "    }\n",
       "\n",
       "    .dataframe tbody tr th {\n",
       "        vertical-align: top;\n",
       "    }\n",
       "\n",
       "    .dataframe thead th {\n",
       "        text-align: right;\n",
       "    }\n",
       "</style>\n",
       "<table border=\"1\" class=\"dataframe\">\n",
       "  <thead>\n",
       "    <tr style=\"text-align: right;\">\n",
       "      <th></th>\n",
       "      <th>Year</th>\n",
       "      <th>hi_percent</th>\n",
       "      <th>Anar_percent</th>\n",
       "      <th>Venir_percent</th>\n",
       "      <th>Pstp_percent</th>\n",
       "      <th>PronV_percent</th>\n",
       "    </tr>\n",
       "  </thead>\n",
       "  <tbody>\n",
       "    <tr>\n",
       "      <th>count</th>\n",
       "      <td>22724.000000</td>\n",
       "      <td>22724.000000</td>\n",
       "      <td>2.272400e+04</td>\n",
       "      <td>2.272400e+04</td>\n",
       "      <td>2.272400e+04</td>\n",
       "      <td>2.272400e+04</td>\n",
       "    </tr>\n",
       "    <tr>\n",
       "      <th>mean</th>\n",
       "      <td>2000.524864</td>\n",
       "      <td>0.000000</td>\n",
       "      <td>2.001177e-17</td>\n",
       "      <td>8.755147e-18</td>\n",
       "      <td>-2.501471e-17</td>\n",
       "      <td>-1.751029e-17</td>\n",
       "    </tr>\n",
       "    <tr>\n",
       "      <th>std</th>\n",
       "      <td>13.742399</td>\n",
       "      <td>1.000022</td>\n",
       "      <td>1.000022e+00</td>\n",
       "      <td>1.000022e+00</td>\n",
       "      <td>1.000022e+00</td>\n",
       "      <td>1.000022e+00</td>\n",
       "    </tr>\n",
       "    <tr>\n",
       "      <th>min</th>\n",
       "      <td>1860.000000</td>\n",
       "      <td>-0.278406</td>\n",
       "      <td>-3.673877e-01</td>\n",
       "      <td>-1.429938e-01</td>\n",
       "      <td>-2.579868e-01</td>\n",
       "      <td>-6.269524e-01</td>\n",
       "    </tr>\n",
       "    <tr>\n",
       "      <th>25%</th>\n",
       "      <td>1994.000000</td>\n",
       "      <td>-0.278406</td>\n",
       "      <td>-3.673877e-01</td>\n",
       "      <td>-1.429938e-01</td>\n",
       "      <td>-2.579868e-01</td>\n",
       "      <td>-6.269524e-01</td>\n",
       "    </tr>\n",
       "    <tr>\n",
       "      <th>50%</th>\n",
       "      <td>2002.000000</td>\n",
       "      <td>-0.278406</td>\n",
       "      <td>-3.673877e-01</td>\n",
       "      <td>-1.429938e-01</td>\n",
       "      <td>-2.579868e-01</td>\n",
       "      <td>-6.269524e-01</td>\n",
       "    </tr>\n",
       "    <tr>\n",
       "      <th>75%</th>\n",
       "      <td>2008.000000</td>\n",
       "      <td>-0.278406</td>\n",
       "      <td>-1.387505e-01</td>\n",
       "      <td>-1.429938e-01</td>\n",
       "      <td>-2.579868e-01</td>\n",
       "      <td>3.289248e-01</td>\n",
       "    </tr>\n",
       "    <tr>\n",
       "      <th>max</th>\n",
       "      <td>2022.000000</td>\n",
       "      <td>26.470760</td>\n",
       "      <td>1.853090e+01</td>\n",
       "      <td>4.471597e+01</td>\n",
       "      <td>2.054473e+01</td>\n",
       "      <td>3.674495e+00</td>\n",
       "    </tr>\n",
       "  </tbody>\n",
       "</table>\n",
       "</div>"
      ],
      "text/plain": [
       "               Year    hi_percent  Anar_percent  Venir_percent  Pstp_percent  \\\n",
       "count  22724.000000  22724.000000  2.272400e+04   2.272400e+04  2.272400e+04   \n",
       "mean    2000.524864      0.000000  2.001177e-17   8.755147e-18 -2.501471e-17   \n",
       "std       13.742399      1.000022  1.000022e+00   1.000022e+00  1.000022e+00   \n",
       "min     1860.000000     -0.278406 -3.673877e-01  -1.429938e-01 -2.579868e-01   \n",
       "25%     1994.000000     -0.278406 -3.673877e-01  -1.429938e-01 -2.579868e-01   \n",
       "50%     2002.000000     -0.278406 -3.673877e-01  -1.429938e-01 -2.579868e-01   \n",
       "75%     2008.000000     -0.278406 -1.387505e-01  -1.429938e-01 -2.579868e-01   \n",
       "max     2022.000000     26.470760  1.853090e+01   4.471597e+01  2.054473e+01   \n",
       "\n",
       "       PronV_percent  \n",
       "count   2.272400e+04  \n",
       "mean   -1.751029e-17  \n",
       "std     1.000022e+00  \n",
       "min    -6.269524e-01  \n",
       "25%    -6.269524e-01  \n",
       "50%    -6.269524e-01  \n",
       "75%     3.289248e-01  \n",
       "max     3.674495e+00  "
      ]
     },
     "execution_count": 14,
     "metadata": {},
     "output_type": "execute_result"
    }
   ],
   "source": [
    "sample_data.describe()"
   ]
  },
  {
   "cell_type": "markdown",
   "id": "4e753383-3d29-4d62-bacb-4babf0def64f",
   "metadata": {},
   "source": [
    "**Comment:** Since hierarchical clustering uses Euclidean distance, which is sensitive to scale, we need to rescale all the variables before computing the distance."
   ]
  },
  {
   "cell_type": "code",
   "execution_count": 36,
   "id": "71e18758-9f72-4eb2-bb2d-d77b4fb92bc4",
   "metadata": {},
   "outputs": [
    {
     "data": {
      "text/plain": [
       "array([[-0.27840595, -0.36738767,  0.04411341, -0.25798683, -0.58138623],\n",
       "       [-0.27840595, -0.36738767,  0.04411341, -0.25798683, -0.48592134],\n",
       "       [-0.27840595, -0.36738767,  0.04411341, -0.25798683, -0.56608287],\n",
       "       [-0.27840595, -0.36738767,  0.04411341, -0.25798683, -0.41321589],\n",
       "       [-0.27840595, -0.36738767,  0.04411341, -0.25798683, -0.38963117],\n",
       "       [-0.27840595, -0.36738767,  0.04411341, -0.25798683, -0.56997959],\n",
       "       [-0.27840595, -0.36738767,  0.04411341, -0.25798683, -0.30243492],\n",
       "       [-0.27840595, -0.36738767,  0.04411341, -0.25798683, -0.34489028],\n",
       "       [-0.27840595, -0.36738767,  0.04411341, -0.25798683, -0.40291869],\n",
       "       [-0.27840595, -0.36738767,  0.04411341, -0.25798683, -0.38487961]])"
      ]
     },
     "execution_count": 36,
     "metadata": {},
     "output_type": "execute_result"
    }
   ],
   "source": [
    "# sorting the values and scaling the features\n",
    "X = sample_data[features]\n",
    "\n",
    "scaler = StandardScaler()\n",
    "X_scaled = scaler.fit_transform(X)\n",
    "\n",
    "df_sorted = sample_data.sort_values(\"Year\").reset_index(drop=True)\n",
    "X_sorted = X_scaled[df_sorted.index]\n",
    "X_sorted[:10] "
   ]
  },
  {
   "cell_type": "markdown",
   "id": "67081fdf-49e9-4dbb-b0f0-37372a732906",
   "metadata": {},
   "source": [
    "**Comment:** After scaling the data the next step is stablishing the constraint which is known as \"conectivity\" in Ward linkage for hyerarchical clustering. In our case, that is that **only neighboring years can be in the same cluster**, as we need to allow 1900-1901-1902 to be in the same cluster but not 1900-1902 if 1901 is in another cluster."
   ]
  },
  {
   "cell_type": "code",
   "execution_count": 37,
   "id": "a6f01ad3-e5fe-4207-ad07-92cbea6e29c2",
   "metadata": {},
   "outputs": [],
   "source": [
    "# ensuring only neighboring years can be in same cluster\n",
    "# based on https://scikit-learn.org/stable/auto_examples/cluster/plot_ward_structured_vs_unstructured.html\n",
    "# done through a kneighbors_graph\n",
    "from sklearn.neighbors import kneighbors_graph\n",
    "connectivity = kneighbors_graph(sample_data, n_neighbors=2, include_self=False)"
   ]
  },
  {
   "cell_type": "code",
   "execution_count": 30,
   "id": "69db8806-a349-4e6a-b6cf-ecc5f096ecde",
   "metadata": {},
   "outputs": [
    {
     "name": "stderr",
     "output_type": "stream",
     "text": [
      "/Library/Frameworks/Python.framework/Versions/3.12/lib/python3.12/site-packages/sklearn/cluster/_agglomerative.py:325: UserWarning: the number of connected components of the connectivity matrix is 1243 > 1. Completing it to avoid stopping the tree early.\n",
      "  connectivity, n_connected_components = _fix_connectivity(\n"
     ]
    },
    {
     "ename": "KeyboardInterrupt",
     "evalue": "",
     "output_type": "error",
     "traceback": [
      "\u001b[0;31m---------------------------------------------------------------------------\u001b[0m",
      "\u001b[0;31mKeyboardInterrupt\u001b[0m                         Traceback (most recent call last)",
      "Cell \u001b[0;32mIn[30], line 5\u001b[0m\n\u001b[1;32m      3\u001b[0m \u001b[38;5;28;01mfrom\u001b[39;00m \u001b[38;5;21;01msklearn\u001b[39;00m\u001b[38;5;21;01m.\u001b[39;00m\u001b[38;5;21;01mcluster\u001b[39;00m \u001b[38;5;28;01mimport\u001b[39;00m AgglomerativeClustering\n\u001b[1;32m      4\u001b[0m st \u001b[38;5;241m=\u001b[39m time\u001b[38;5;241m.\u001b[39mtime()\n\u001b[0;32m----> 5\u001b[0m ward \u001b[38;5;241m=\u001b[39m \u001b[43mAgglomerativeClustering\u001b[49m\u001b[43m(\u001b[49m\u001b[43mn_clusters\u001b[49m\u001b[38;5;241;43m=\u001b[39;49m\u001b[38;5;241;43m2\u001b[39;49m\u001b[43m,\u001b[49m\u001b[43m \u001b[49m\u001b[43mconnectivity\u001b[49m\u001b[38;5;241;43m=\u001b[39;49m\u001b[43mconnectivity\u001b[49m\u001b[43m,\u001b[49m\u001b[43m \u001b[49m\u001b[43mlinkage\u001b[49m\u001b[38;5;241;43m=\u001b[39;49m\u001b[38;5;124;43m\"\u001b[39;49m\u001b[38;5;124;43mward\u001b[39;49m\u001b[38;5;124;43m\"\u001b[39;49m\u001b[43m)\u001b[49m\u001b[38;5;241;43m.\u001b[39;49m\u001b[43mfit\u001b[49m\u001b[43m(\u001b[49m\u001b[43msample_data\u001b[49m\u001b[43m)\u001b[49m\n\u001b[1;32m      7\u001b[0m elapsed_time \u001b[38;5;241m=\u001b[39m time\u001b[38;5;241m.\u001b[39mtime() \u001b[38;5;241m-\u001b[39m st\n\u001b[1;32m      8\u001b[0m label \u001b[38;5;241m=\u001b[39m ward\u001b[38;5;241m.\u001b[39mlabels_\n",
      "File \u001b[0;32m/Library/Frameworks/Python.framework/Versions/3.12/lib/python3.12/site-packages/sklearn/base.py:1389\u001b[0m, in \u001b[0;36m_fit_context.<locals>.decorator.<locals>.wrapper\u001b[0;34m(estimator, *args, **kwargs)\u001b[0m\n\u001b[1;32m   1382\u001b[0m     estimator\u001b[38;5;241m.\u001b[39m_validate_params()\n\u001b[1;32m   1384\u001b[0m \u001b[38;5;28;01mwith\u001b[39;00m config_context(\n\u001b[1;32m   1385\u001b[0m     skip_parameter_validation\u001b[38;5;241m=\u001b[39m(\n\u001b[1;32m   1386\u001b[0m         prefer_skip_nested_validation \u001b[38;5;129;01mor\u001b[39;00m global_skip_validation\n\u001b[1;32m   1387\u001b[0m     )\n\u001b[1;32m   1388\u001b[0m ):\n\u001b[0;32m-> 1389\u001b[0m     \u001b[38;5;28;01mreturn\u001b[39;00m \u001b[43mfit_method\u001b[49m\u001b[43m(\u001b[49m\u001b[43mestimator\u001b[49m\u001b[43m,\u001b[49m\u001b[43m \u001b[49m\u001b[38;5;241;43m*\u001b[39;49m\u001b[43margs\u001b[49m\u001b[43m,\u001b[49m\u001b[43m \u001b[49m\u001b[38;5;241;43m*\u001b[39;49m\u001b[38;5;241;43m*\u001b[39;49m\u001b[43mkwargs\u001b[49m\u001b[43m)\u001b[49m\n",
      "File \u001b[0;32m/Library/Frameworks/Python.framework/Versions/3.12/lib/python3.12/site-packages/sklearn/cluster/_agglomerative.py:989\u001b[0m, in \u001b[0;36mAgglomerativeClustering.fit\u001b[0;34m(self, X, y)\u001b[0m\n\u001b[1;32m    971\u001b[0m \u001b[38;5;250m\u001b[39m\u001b[38;5;124;03m\"\"\"Fit the hierarchical clustering from features, or distance matrix.\u001b[39;00m\n\u001b[1;32m    972\u001b[0m \n\u001b[1;32m    973\u001b[0m \u001b[38;5;124;03mParameters\u001b[39;00m\n\u001b[0;32m   (...)\u001b[0m\n\u001b[1;32m    986\u001b[0m \u001b[38;5;124;03m    Returns the fitted instance.\u001b[39;00m\n\u001b[1;32m    987\u001b[0m \u001b[38;5;124;03m\"\"\"\u001b[39;00m\n\u001b[1;32m    988\u001b[0m X \u001b[38;5;241m=\u001b[39m validate_data(\u001b[38;5;28mself\u001b[39m, X, ensure_min_samples\u001b[38;5;241m=\u001b[39m\u001b[38;5;241m2\u001b[39m)\n\u001b[0;32m--> 989\u001b[0m \u001b[38;5;28;01mreturn\u001b[39;00m \u001b[38;5;28;43mself\u001b[39;49m\u001b[38;5;241;43m.\u001b[39;49m\u001b[43m_fit\u001b[49m\u001b[43m(\u001b[49m\u001b[43mX\u001b[49m\u001b[43m)\u001b[49m\n",
      "File \u001b[0;32m/Library/Frameworks/Python.framework/Versions/3.12/lib/python3.12/site-packages/sklearn/cluster/_agglomerative.py:1061\u001b[0m, in \u001b[0;36mAgglomerativeClustering._fit\u001b[0;34m(self, X)\u001b[0m\n\u001b[1;32m   1057\u001b[0m distance_threshold \u001b[38;5;241m=\u001b[39m \u001b[38;5;28mself\u001b[39m\u001b[38;5;241m.\u001b[39mdistance_threshold\n\u001b[1;32m   1059\u001b[0m return_distance \u001b[38;5;241m=\u001b[39m (distance_threshold \u001b[38;5;129;01mis\u001b[39;00m \u001b[38;5;129;01mnot\u001b[39;00m \u001b[38;5;28;01mNone\u001b[39;00m) \u001b[38;5;129;01mor\u001b[39;00m \u001b[38;5;28mself\u001b[39m\u001b[38;5;241m.\u001b[39mcompute_distances\n\u001b[0;32m-> 1061\u001b[0m out \u001b[38;5;241m=\u001b[39m \u001b[43mmemory\u001b[49m\u001b[38;5;241;43m.\u001b[39;49m\u001b[43mcache\u001b[49m\u001b[43m(\u001b[49m\u001b[43mtree_builder\u001b[49m\u001b[43m)\u001b[49m\u001b[43m(\u001b[49m\n\u001b[1;32m   1062\u001b[0m \u001b[43m    \u001b[49m\u001b[43mX\u001b[49m\u001b[43m,\u001b[49m\n\u001b[1;32m   1063\u001b[0m \u001b[43m    \u001b[49m\u001b[43mconnectivity\u001b[49m\u001b[38;5;241;43m=\u001b[39;49m\u001b[43mconnectivity\u001b[49m\u001b[43m,\u001b[49m\n\u001b[1;32m   1064\u001b[0m \u001b[43m    \u001b[49m\u001b[43mn_clusters\u001b[49m\u001b[38;5;241;43m=\u001b[39;49m\u001b[43mn_clusters\u001b[49m\u001b[43m,\u001b[49m\n\u001b[1;32m   1065\u001b[0m \u001b[43m    \u001b[49m\u001b[43mreturn_distance\u001b[49m\u001b[38;5;241;43m=\u001b[39;49m\u001b[43mreturn_distance\u001b[49m\u001b[43m,\u001b[49m\n\u001b[1;32m   1066\u001b[0m \u001b[43m    \u001b[49m\u001b[38;5;241;43m*\u001b[39;49m\u001b[38;5;241;43m*\u001b[39;49m\u001b[43mkwargs\u001b[49m\u001b[43m,\u001b[49m\n\u001b[1;32m   1067\u001b[0m \u001b[43m\u001b[49m\u001b[43m)\u001b[49m\n\u001b[1;32m   1068\u001b[0m (\u001b[38;5;28mself\u001b[39m\u001b[38;5;241m.\u001b[39mchildren_, \u001b[38;5;28mself\u001b[39m\u001b[38;5;241m.\u001b[39mn_connected_components_, \u001b[38;5;28mself\u001b[39m\u001b[38;5;241m.\u001b[39mn_leaves_, parents) \u001b[38;5;241m=\u001b[39m out[\n\u001b[1;32m   1069\u001b[0m     :\u001b[38;5;241m4\u001b[39m\n\u001b[1;32m   1070\u001b[0m ]\n\u001b[1;32m   1072\u001b[0m \u001b[38;5;28;01mif\u001b[39;00m return_distance:\n",
      "File \u001b[0;32m/Library/Frameworks/Python.framework/Versions/3.12/lib/python3.12/site-packages/joblib/memory.py:312\u001b[0m, in \u001b[0;36mNotMemorizedFunc.__call__\u001b[0;34m(self, *args, **kwargs)\u001b[0m\n\u001b[1;32m    311\u001b[0m \u001b[38;5;28;01mdef\u001b[39;00m \u001b[38;5;21m__call__\u001b[39m(\u001b[38;5;28mself\u001b[39m, \u001b[38;5;241m*\u001b[39margs, \u001b[38;5;241m*\u001b[39m\u001b[38;5;241m*\u001b[39mkwargs):\n\u001b[0;32m--> 312\u001b[0m     \u001b[38;5;28;01mreturn\u001b[39;00m \u001b[38;5;28;43mself\u001b[39;49m\u001b[38;5;241;43m.\u001b[39;49m\u001b[43mfunc\u001b[49m\u001b[43m(\u001b[49m\u001b[38;5;241;43m*\u001b[39;49m\u001b[43margs\u001b[49m\u001b[43m,\u001b[49m\u001b[43m \u001b[49m\u001b[38;5;241;43m*\u001b[39;49m\u001b[38;5;241;43m*\u001b[39;49m\u001b[43mkwargs\u001b[49m\u001b[43m)\u001b[49m\n",
      "File \u001b[0;32m/Library/Frameworks/Python.framework/Versions/3.12/lib/python3.12/site-packages/sklearn/utils/_param_validation.py:189\u001b[0m, in \u001b[0;36mvalidate_params.<locals>.decorator.<locals>.wrapper\u001b[0;34m(*args, **kwargs)\u001b[0m\n\u001b[1;32m    187\u001b[0m global_skip_validation \u001b[38;5;241m=\u001b[39m get_config()[\u001b[38;5;124m\"\u001b[39m\u001b[38;5;124mskip_parameter_validation\u001b[39m\u001b[38;5;124m\"\u001b[39m]\n\u001b[1;32m    188\u001b[0m \u001b[38;5;28;01mif\u001b[39;00m global_skip_validation:\n\u001b[0;32m--> 189\u001b[0m     \u001b[38;5;28;01mreturn\u001b[39;00m \u001b[43mfunc\u001b[49m\u001b[43m(\u001b[49m\u001b[38;5;241;43m*\u001b[39;49m\u001b[43margs\u001b[49m\u001b[43m,\u001b[49m\u001b[43m \u001b[49m\u001b[38;5;241;43m*\u001b[39;49m\u001b[38;5;241;43m*\u001b[39;49m\u001b[43mkwargs\u001b[49m\u001b[43m)\u001b[49m\n\u001b[1;32m    191\u001b[0m func_sig \u001b[38;5;241m=\u001b[39m signature(func)\n\u001b[1;32m    193\u001b[0m \u001b[38;5;66;03m# Map *args/**kwargs to the function signature\u001b[39;00m\n",
      "File \u001b[0;32m/Library/Frameworks/Python.framework/Versions/3.12/lib/python3.12/site-packages/sklearn/cluster/_agglomerative.py:325\u001b[0m, in \u001b[0;36mward_tree\u001b[0;34m(X, connectivity, n_clusters, return_distance)\u001b[0m\n\u001b[1;32m    322\u001b[0m     \u001b[38;5;28;01melse\u001b[39;00m:\n\u001b[1;32m    323\u001b[0m         \u001b[38;5;28;01mreturn\u001b[39;00m children_, \u001b[38;5;241m1\u001b[39m, n_samples, \u001b[38;5;28;01mNone\u001b[39;00m\n\u001b[0;32m--> 325\u001b[0m connectivity, n_connected_components \u001b[38;5;241m=\u001b[39m \u001b[43m_fix_connectivity\u001b[49m\u001b[43m(\u001b[49m\n\u001b[1;32m    326\u001b[0m \u001b[43m    \u001b[49m\u001b[43mX\u001b[49m\u001b[43m,\u001b[49m\u001b[43m \u001b[49m\u001b[43mconnectivity\u001b[49m\u001b[43m,\u001b[49m\u001b[43m \u001b[49m\u001b[43maffinity\u001b[49m\u001b[38;5;241;43m=\u001b[39;49m\u001b[38;5;124;43m\"\u001b[39;49m\u001b[38;5;124;43meuclidean\u001b[39;49m\u001b[38;5;124;43m\"\u001b[39;49m\n\u001b[1;32m    327\u001b[0m \u001b[43m\u001b[49m\u001b[43m)\u001b[49m\n\u001b[1;32m    328\u001b[0m \u001b[38;5;28;01mif\u001b[39;00m n_clusters \u001b[38;5;129;01mis\u001b[39;00m \u001b[38;5;28;01mNone\u001b[39;00m:\n\u001b[1;32m    329\u001b[0m     n_nodes \u001b[38;5;241m=\u001b[39m \u001b[38;5;241m2\u001b[39m \u001b[38;5;241m*\u001b[39m n_samples \u001b[38;5;241m-\u001b[39m \u001b[38;5;241m1\u001b[39m\n",
      "File \u001b[0;32m/Library/Frameworks/Python.framework/Versions/3.12/lib/python3.12/site-packages/sklearn/cluster/_agglomerative.py:114\u001b[0m, in \u001b[0;36m_fix_connectivity\u001b[0;34m(X, connectivity, affinity)\u001b[0m\n\u001b[1;32m    107\u001b[0m     warnings\u001b[38;5;241m.\u001b[39mwarn(\n\u001b[1;32m    108\u001b[0m         \u001b[38;5;124m\"\u001b[39m\u001b[38;5;124mthe number of connected components of the \u001b[39m\u001b[38;5;124m\"\u001b[39m\n\u001b[1;32m    109\u001b[0m         \u001b[38;5;124m\"\u001b[39m\u001b[38;5;124mconnectivity matrix is \u001b[39m\u001b[38;5;132;01m%d\u001b[39;00m\u001b[38;5;124m > 1. Completing it to avoid \u001b[39m\u001b[38;5;124m\"\u001b[39m\n\u001b[1;32m    110\u001b[0m         \u001b[38;5;124m\"\u001b[39m\u001b[38;5;124mstopping the tree early.\u001b[39m\u001b[38;5;124m\"\u001b[39m \u001b[38;5;241m%\u001b[39m n_connected_components,\n\u001b[1;32m    111\u001b[0m         stacklevel\u001b[38;5;241m=\u001b[39m\u001b[38;5;241m2\u001b[39m,\n\u001b[1;32m    112\u001b[0m     )\n\u001b[1;32m    113\u001b[0m     \u001b[38;5;66;03m# XXX: Can we do without completing the matrix?\u001b[39;00m\n\u001b[0;32m--> 114\u001b[0m     connectivity \u001b[38;5;241m=\u001b[39m \u001b[43m_fix_connected_components\u001b[49m\u001b[43m(\u001b[49m\n\u001b[1;32m    115\u001b[0m \u001b[43m        \u001b[49m\u001b[43mX\u001b[49m\u001b[38;5;241;43m=\u001b[39;49m\u001b[43mX\u001b[49m\u001b[43m,\u001b[49m\n\u001b[1;32m    116\u001b[0m \u001b[43m        \u001b[49m\u001b[43mgraph\u001b[49m\u001b[38;5;241;43m=\u001b[39;49m\u001b[43mconnectivity\u001b[49m\u001b[43m,\u001b[49m\n\u001b[1;32m    117\u001b[0m \u001b[43m        \u001b[49m\u001b[43mn_connected_components\u001b[49m\u001b[38;5;241;43m=\u001b[39;49m\u001b[43mn_connected_components\u001b[49m\u001b[43m,\u001b[49m\n\u001b[1;32m    118\u001b[0m \u001b[43m        \u001b[49m\u001b[43mcomponent_labels\u001b[49m\u001b[38;5;241;43m=\u001b[39;49m\u001b[43mlabels\u001b[49m\u001b[43m,\u001b[49m\n\u001b[1;32m    119\u001b[0m \u001b[43m        \u001b[49m\u001b[43mmetric\u001b[49m\u001b[38;5;241;43m=\u001b[39;49m\u001b[43maffinity\u001b[49m\u001b[43m,\u001b[49m\n\u001b[1;32m    120\u001b[0m \u001b[43m        \u001b[49m\u001b[43mmode\u001b[49m\u001b[38;5;241;43m=\u001b[39;49m\u001b[38;5;124;43m\"\u001b[39;49m\u001b[38;5;124;43mconnectivity\u001b[39;49m\u001b[38;5;124;43m\"\u001b[39;49m\u001b[43m,\u001b[49m\n\u001b[1;32m    121\u001b[0m \u001b[43m    \u001b[49m\u001b[43m)\u001b[49m\n\u001b[1;32m    123\u001b[0m \u001b[38;5;28;01mreturn\u001b[39;00m connectivity, n_connected_components\n",
      "File \u001b[0;32m/Library/Frameworks/Python.framework/Versions/3.12/lib/python3.12/site-packages/sklearn/utils/graph.py:147\u001b[0m, in \u001b[0;36m_fix_connected_components\u001b[0;34m(X, graph, n_connected_components, component_labels, mode, metric, **kwargs)\u001b[0m\n\u001b[1;32m    145\u001b[0m     D \u001b[38;5;241m=\u001b[39m X[np\u001b[38;5;241m.\u001b[39mix_(idx_i, idx_j)]\n\u001b[1;32m    146\u001b[0m \u001b[38;5;28;01melse\u001b[39;00m:\n\u001b[0;32m--> 147\u001b[0m     D \u001b[38;5;241m=\u001b[39m \u001b[43mpairwise_distances\u001b[49m\u001b[43m(\u001b[49m\u001b[43mXi\u001b[49m\u001b[43m,\u001b[49m\u001b[43m \u001b[49m\u001b[43mXj\u001b[49m\u001b[43m,\u001b[49m\u001b[43m \u001b[49m\u001b[43mmetric\u001b[49m\u001b[38;5;241;43m=\u001b[39;49m\u001b[43mmetric\u001b[49m\u001b[43m,\u001b[49m\u001b[43m \u001b[49m\u001b[38;5;241;43m*\u001b[39;49m\u001b[38;5;241;43m*\u001b[39;49m\u001b[43mkwargs\u001b[49m\u001b[43m)\u001b[49m\n\u001b[1;32m    149\u001b[0m ii, jj \u001b[38;5;241m=\u001b[39m np\u001b[38;5;241m.\u001b[39munravel_index(D\u001b[38;5;241m.\u001b[39margmin(axis\u001b[38;5;241m=\u001b[39m\u001b[38;5;28;01mNone\u001b[39;00m), D\u001b[38;5;241m.\u001b[39mshape)\n\u001b[1;32m    150\u001b[0m \u001b[38;5;28;01mif\u001b[39;00m mode \u001b[38;5;241m==\u001b[39m \u001b[38;5;124m\"\u001b[39m\u001b[38;5;124mconnectivity\u001b[39m\u001b[38;5;124m\"\u001b[39m:\n",
      "File \u001b[0;32m/Library/Frameworks/Python.framework/Versions/3.12/lib/python3.12/site-packages/sklearn/utils/_param_validation.py:189\u001b[0m, in \u001b[0;36mvalidate_params.<locals>.decorator.<locals>.wrapper\u001b[0;34m(*args, **kwargs)\u001b[0m\n\u001b[1;32m    187\u001b[0m global_skip_validation \u001b[38;5;241m=\u001b[39m get_config()[\u001b[38;5;124m\"\u001b[39m\u001b[38;5;124mskip_parameter_validation\u001b[39m\u001b[38;5;124m\"\u001b[39m]\n\u001b[1;32m    188\u001b[0m \u001b[38;5;28;01mif\u001b[39;00m global_skip_validation:\n\u001b[0;32m--> 189\u001b[0m     \u001b[38;5;28;01mreturn\u001b[39;00m \u001b[43mfunc\u001b[49m\u001b[43m(\u001b[49m\u001b[38;5;241;43m*\u001b[39;49m\u001b[43margs\u001b[49m\u001b[43m,\u001b[49m\u001b[43m \u001b[49m\u001b[38;5;241;43m*\u001b[39;49m\u001b[38;5;241;43m*\u001b[39;49m\u001b[43mkwargs\u001b[49m\u001b[43m)\u001b[49m\n\u001b[1;32m    191\u001b[0m func_sig \u001b[38;5;241m=\u001b[39m signature(func)\n\u001b[1;32m    193\u001b[0m \u001b[38;5;66;03m# Map *args/**kwargs to the function signature\u001b[39;00m\n",
      "File \u001b[0;32m/Library/Frameworks/Python.framework/Versions/3.12/lib/python3.12/site-packages/sklearn/metrics/pairwise.py:2480\u001b[0m, in \u001b[0;36mpairwise_distances\u001b[0;34m(X, Y, metric, n_jobs, force_all_finite, ensure_all_finite, **kwds)\u001b[0m\n\u001b[1;32m   2477\u001b[0m         \u001b[38;5;28;01mreturn\u001b[39;00m distance\u001b[38;5;241m.\u001b[39msquareform(distance\u001b[38;5;241m.\u001b[39mpdist(X, metric\u001b[38;5;241m=\u001b[39mmetric, \u001b[38;5;241m*\u001b[39m\u001b[38;5;241m*\u001b[39mkwds))\n\u001b[1;32m   2478\u001b[0m     func \u001b[38;5;241m=\u001b[39m partial(distance\u001b[38;5;241m.\u001b[39mcdist, metric\u001b[38;5;241m=\u001b[39mmetric, \u001b[38;5;241m*\u001b[39m\u001b[38;5;241m*\u001b[39mkwds)\n\u001b[0;32m-> 2480\u001b[0m \u001b[38;5;28;01mreturn\u001b[39;00m \u001b[43m_parallel_pairwise\u001b[49m\u001b[43m(\u001b[49m\u001b[43mX\u001b[49m\u001b[43m,\u001b[49m\u001b[43m \u001b[49m\u001b[43mY\u001b[49m\u001b[43m,\u001b[49m\u001b[43m \u001b[49m\u001b[43mfunc\u001b[49m\u001b[43m,\u001b[49m\u001b[43m \u001b[49m\u001b[43mn_jobs\u001b[49m\u001b[43m,\u001b[49m\u001b[43m \u001b[49m\u001b[38;5;241;43m*\u001b[39;49m\u001b[38;5;241;43m*\u001b[39;49m\u001b[43mkwds\u001b[49m\u001b[43m)\u001b[49m\n",
      "File \u001b[0;32m/Library/Frameworks/Python.framework/Versions/3.12/lib/python3.12/site-packages/sklearn/metrics/pairwise.py:1973\u001b[0m, in \u001b[0;36m_parallel_pairwise\u001b[0;34m(X, Y, func, n_jobs, **kwds)\u001b[0m\n\u001b[1;32m   1970\u001b[0m X, Y, dtype \u001b[38;5;241m=\u001b[39m _return_float_dtype(X, Y)\n\u001b[1;32m   1972\u001b[0m \u001b[38;5;28;01mif\u001b[39;00m effective_n_jobs(n_jobs) \u001b[38;5;241m==\u001b[39m \u001b[38;5;241m1\u001b[39m:\n\u001b[0;32m-> 1973\u001b[0m     \u001b[38;5;28;01mreturn\u001b[39;00m \u001b[43mfunc\u001b[49m\u001b[43m(\u001b[49m\u001b[43mX\u001b[49m\u001b[43m,\u001b[49m\u001b[43m \u001b[49m\u001b[43mY\u001b[49m\u001b[43m,\u001b[49m\u001b[43m \u001b[49m\u001b[38;5;241;43m*\u001b[39;49m\u001b[38;5;241;43m*\u001b[39;49m\u001b[43mkwds\u001b[49m\u001b[43m)\u001b[49m\n\u001b[1;32m   1975\u001b[0m \u001b[38;5;66;03m# enforce a threading backend to prevent data communication overhead\u001b[39;00m\n\u001b[1;32m   1976\u001b[0m fd \u001b[38;5;241m=\u001b[39m delayed(_dist_wrapper)\n",
      "File \u001b[0;32m/Library/Frameworks/Python.framework/Versions/3.12/lib/python3.12/site-packages/sklearn/utils/_param_validation.py:189\u001b[0m, in \u001b[0;36mvalidate_params.<locals>.decorator.<locals>.wrapper\u001b[0;34m(*args, **kwargs)\u001b[0m\n\u001b[1;32m    187\u001b[0m global_skip_validation \u001b[38;5;241m=\u001b[39m get_config()[\u001b[38;5;124m\"\u001b[39m\u001b[38;5;124mskip_parameter_validation\u001b[39m\u001b[38;5;124m\"\u001b[39m]\n\u001b[1;32m    188\u001b[0m \u001b[38;5;28;01mif\u001b[39;00m global_skip_validation:\n\u001b[0;32m--> 189\u001b[0m     \u001b[38;5;28;01mreturn\u001b[39;00m \u001b[43mfunc\u001b[49m\u001b[43m(\u001b[49m\u001b[38;5;241;43m*\u001b[39;49m\u001b[43margs\u001b[49m\u001b[43m,\u001b[49m\u001b[43m \u001b[49m\u001b[38;5;241;43m*\u001b[39;49m\u001b[38;5;241;43m*\u001b[39;49m\u001b[43mkwargs\u001b[49m\u001b[43m)\u001b[49m\n\u001b[1;32m    191\u001b[0m func_sig \u001b[38;5;241m=\u001b[39m signature(func)\n\u001b[1;32m    193\u001b[0m \u001b[38;5;66;03m# Map *args/**kwargs to the function signature\u001b[39;00m\n",
      "File \u001b[0;32m/Library/Frameworks/Python.framework/Versions/3.12/lib/python3.12/site-packages/sklearn/metrics/pairwise.py:360\u001b[0m, in \u001b[0;36meuclidean_distances\u001b[0;34m(X, Y, Y_norm_squared, squared, X_norm_squared)\u001b[0m\n\u001b[1;32m    286\u001b[0m \u001b[38;5;250m\u001b[39m\u001b[38;5;124;03m\"\"\"\u001b[39;00m\n\u001b[1;32m    287\u001b[0m \u001b[38;5;124;03mCompute the distance matrix between each pair from a vector array X and Y.\u001b[39;00m\n\u001b[1;32m    288\u001b[0m \n\u001b[0;32m   (...)\u001b[0m\n\u001b[1;32m    357\u001b[0m \u001b[38;5;124;03m       [1.41421356]])\u001b[39;00m\n\u001b[1;32m    358\u001b[0m \u001b[38;5;124;03m\"\"\"\u001b[39;00m\n\u001b[1;32m    359\u001b[0m xp, _ \u001b[38;5;241m=\u001b[39m get_namespace(X, Y)\n\u001b[0;32m--> 360\u001b[0m X, Y \u001b[38;5;241m=\u001b[39m \u001b[43mcheck_pairwise_arrays\u001b[49m\u001b[43m(\u001b[49m\u001b[43mX\u001b[49m\u001b[43m,\u001b[49m\u001b[43m \u001b[49m\u001b[43mY\u001b[49m\u001b[43m)\u001b[49m\n\u001b[1;32m    362\u001b[0m \u001b[38;5;28;01mif\u001b[39;00m X_norm_squared \u001b[38;5;129;01mis\u001b[39;00m \u001b[38;5;129;01mnot\u001b[39;00m \u001b[38;5;28;01mNone\u001b[39;00m:\n\u001b[1;32m    363\u001b[0m     X_norm_squared \u001b[38;5;241m=\u001b[39m check_array(X_norm_squared, ensure_2d\u001b[38;5;241m=\u001b[39m\u001b[38;5;28;01mFalse\u001b[39;00m)\n",
      "File \u001b[0;32m/Library/Frameworks/Python.framework/Versions/3.12/lib/python3.12/site-packages/sklearn/metrics/pairwise.py:200\u001b[0m, in \u001b[0;36mcheck_pairwise_arrays\u001b[0;34m(X, Y, precomputed, dtype, accept_sparse, force_all_finite, ensure_all_finite, ensure_2d, copy)\u001b[0m\n\u001b[1;32m    190\u001b[0m     X \u001b[38;5;241m=\u001b[39m Y \u001b[38;5;241m=\u001b[39m check_array(\n\u001b[1;32m    191\u001b[0m         X,\n\u001b[1;32m    192\u001b[0m         accept_sparse\u001b[38;5;241m=\u001b[39maccept_sparse,\n\u001b[0;32m   (...)\u001b[0m\n\u001b[1;32m    197\u001b[0m         ensure_2d\u001b[38;5;241m=\u001b[39mensure_2d,\n\u001b[1;32m    198\u001b[0m     )\n\u001b[1;32m    199\u001b[0m \u001b[38;5;28;01melse\u001b[39;00m:\n\u001b[0;32m--> 200\u001b[0m     X \u001b[38;5;241m=\u001b[39m \u001b[43mcheck_array\u001b[49m\u001b[43m(\u001b[49m\n\u001b[1;32m    201\u001b[0m \u001b[43m        \u001b[49m\u001b[43mX\u001b[49m\u001b[43m,\u001b[49m\n\u001b[1;32m    202\u001b[0m \u001b[43m        \u001b[49m\u001b[43maccept_sparse\u001b[49m\u001b[38;5;241;43m=\u001b[39;49m\u001b[43maccept_sparse\u001b[49m\u001b[43m,\u001b[49m\n\u001b[1;32m    203\u001b[0m \u001b[43m        \u001b[49m\u001b[43mdtype\u001b[49m\u001b[38;5;241;43m=\u001b[39;49m\u001b[43mdtype\u001b[49m\u001b[43m,\u001b[49m\n\u001b[1;32m    204\u001b[0m \u001b[43m        \u001b[49m\u001b[43mcopy\u001b[49m\u001b[38;5;241;43m=\u001b[39;49m\u001b[43mcopy\u001b[49m\u001b[43m,\u001b[49m\n\u001b[1;32m    205\u001b[0m \u001b[43m        \u001b[49m\u001b[43mensure_all_finite\u001b[49m\u001b[38;5;241;43m=\u001b[39;49m\u001b[43mensure_all_finite\u001b[49m\u001b[43m,\u001b[49m\n\u001b[1;32m    206\u001b[0m \u001b[43m        \u001b[49m\u001b[43mestimator\u001b[49m\u001b[38;5;241;43m=\u001b[39;49m\u001b[43mestimator\u001b[49m\u001b[43m,\u001b[49m\n\u001b[1;32m    207\u001b[0m \u001b[43m        \u001b[49m\u001b[43mensure_2d\u001b[49m\u001b[38;5;241;43m=\u001b[39;49m\u001b[43mensure_2d\u001b[49m\u001b[43m,\u001b[49m\n\u001b[1;32m    208\u001b[0m \u001b[43m    \u001b[49m\u001b[43m)\u001b[49m\n\u001b[1;32m    209\u001b[0m     Y \u001b[38;5;241m=\u001b[39m check_array(\n\u001b[1;32m    210\u001b[0m         Y,\n\u001b[1;32m    211\u001b[0m         accept_sparse\u001b[38;5;241m=\u001b[39maccept_sparse,\n\u001b[0;32m   (...)\u001b[0m\n\u001b[1;32m    216\u001b[0m         ensure_2d\u001b[38;5;241m=\u001b[39mensure_2d,\n\u001b[1;32m    217\u001b[0m     )\n\u001b[1;32m    219\u001b[0m \u001b[38;5;28;01mif\u001b[39;00m precomputed:\n",
      "File \u001b[0;32m/Library/Frameworks/Python.framework/Versions/3.12/lib/python3.12/site-packages/sklearn/utils/validation.py:1107\u001b[0m, in \u001b[0;36mcheck_array\u001b[0;34m(array, accept_sparse, accept_large_sparse, dtype, order, copy, force_writeable, force_all_finite, ensure_all_finite, ensure_non_negative, ensure_2d, allow_nd, ensure_min_samples, ensure_min_features, estimator, input_name)\u001b[0m\n\u001b[1;32m   1101\u001b[0m     \u001b[38;5;28;01mraise\u001b[39;00m \u001b[38;5;167;01mValueError\u001b[39;00m(\n\u001b[1;32m   1102\u001b[0m         \u001b[38;5;124m\"\u001b[39m\u001b[38;5;124mFound array with dim \u001b[39m\u001b[38;5;132;01m%d\u001b[39;00m\u001b[38;5;124m. \u001b[39m\u001b[38;5;132;01m%s\u001b[39;00m\u001b[38;5;124m expected <= 2.\u001b[39m\u001b[38;5;124m\"\u001b[39m\n\u001b[1;32m   1103\u001b[0m         \u001b[38;5;241m%\u001b[39m (array\u001b[38;5;241m.\u001b[39mndim, estimator_name)\n\u001b[1;32m   1104\u001b[0m     )\n\u001b[1;32m   1106\u001b[0m \u001b[38;5;28;01mif\u001b[39;00m ensure_all_finite:\n\u001b[0;32m-> 1107\u001b[0m     \u001b[43m_assert_all_finite\u001b[49m\u001b[43m(\u001b[49m\n\u001b[1;32m   1108\u001b[0m \u001b[43m        \u001b[49m\u001b[43marray\u001b[49m\u001b[43m,\u001b[49m\n\u001b[1;32m   1109\u001b[0m \u001b[43m        \u001b[49m\u001b[43minput_name\u001b[49m\u001b[38;5;241;43m=\u001b[39;49m\u001b[43minput_name\u001b[49m\u001b[43m,\u001b[49m\n\u001b[1;32m   1110\u001b[0m \u001b[43m        \u001b[49m\u001b[43mestimator_name\u001b[49m\u001b[38;5;241;43m=\u001b[39;49m\u001b[43mestimator_name\u001b[49m\u001b[43m,\u001b[49m\n\u001b[1;32m   1111\u001b[0m \u001b[43m        \u001b[49m\u001b[43mallow_nan\u001b[49m\u001b[38;5;241;43m=\u001b[39;49m\u001b[43mensure_all_finite\u001b[49m\u001b[43m \u001b[49m\u001b[38;5;241;43m==\u001b[39;49m\u001b[43m \u001b[49m\u001b[38;5;124;43m\"\u001b[39;49m\u001b[38;5;124;43mallow-nan\u001b[39;49m\u001b[38;5;124;43m\"\u001b[39;49m\u001b[43m,\u001b[49m\n\u001b[1;32m   1112\u001b[0m \u001b[43m    \u001b[49m\u001b[43m)\u001b[49m\n\u001b[1;32m   1114\u001b[0m \u001b[38;5;28;01mif\u001b[39;00m copy:\n\u001b[1;32m   1115\u001b[0m     \u001b[38;5;28;01mif\u001b[39;00m _is_numpy_namespace(xp):\n\u001b[1;32m   1116\u001b[0m         \u001b[38;5;66;03m# only make a copy if `array` and `array_orig` may share memory`\u001b[39;00m\n",
      "File \u001b[0;32m/Library/Frameworks/Python.framework/Versions/3.12/lib/python3.12/site-packages/sklearn/utils/validation.py:116\u001b[0m, in \u001b[0;36m_assert_all_finite\u001b[0;34m(X, allow_nan, msg_dtype, estimator_name, input_name)\u001b[0m\n\u001b[1;32m    111\u001b[0m \u001b[38;5;66;03m# First try an O(n) time, O(1) space solution for the common case that\u001b[39;00m\n\u001b[1;32m    112\u001b[0m \u001b[38;5;66;03m# everything is finite; fall back to O(n) space `np.isinf/isnan` or custom\u001b[39;00m\n\u001b[1;32m    113\u001b[0m \u001b[38;5;66;03m# Cython implementation to prevent false positives and provide a detailed\u001b[39;00m\n\u001b[1;32m    114\u001b[0m \u001b[38;5;66;03m# error message.\u001b[39;00m\n\u001b[1;32m    115\u001b[0m \u001b[38;5;28;01mwith\u001b[39;00m np\u001b[38;5;241m.\u001b[39merrstate(over\u001b[38;5;241m=\u001b[39m\u001b[38;5;124m\"\u001b[39m\u001b[38;5;124mignore\u001b[39m\u001b[38;5;124m\"\u001b[39m):\n\u001b[0;32m--> 116\u001b[0m     first_pass_isfinite \u001b[38;5;241m=\u001b[39m xp\u001b[38;5;241m.\u001b[39misfinite(\u001b[43mxp\u001b[49m\u001b[38;5;241;43m.\u001b[39;49m\u001b[43msum\u001b[49m\u001b[43m(\u001b[49m\u001b[43mX\u001b[49m\u001b[43m)\u001b[49m)\n\u001b[1;32m    117\u001b[0m \u001b[38;5;28;01mif\u001b[39;00m first_pass_isfinite:\n\u001b[1;32m    118\u001b[0m     \u001b[38;5;28;01mreturn\u001b[39;00m\n",
      "File \u001b[0;32m/Library/Frameworks/Python.framework/Versions/3.12/lib/python3.12/site-packages/numpy/core/fromnumeric.py:2313\u001b[0m, in \u001b[0;36msum\u001b[0;34m(a, axis, dtype, out, keepdims, initial, where)\u001b[0m\n\u001b[1;32m   2310\u001b[0m         \u001b[38;5;28;01mreturn\u001b[39;00m out\n\u001b[1;32m   2311\u001b[0m     \u001b[38;5;28;01mreturn\u001b[39;00m res\n\u001b[0;32m-> 2313\u001b[0m \u001b[38;5;28;01mreturn\u001b[39;00m \u001b[43m_wrapreduction\u001b[49m\u001b[43m(\u001b[49m\u001b[43ma\u001b[49m\u001b[43m,\u001b[49m\u001b[43m \u001b[49m\u001b[43mnp\u001b[49m\u001b[38;5;241;43m.\u001b[39;49m\u001b[43madd\u001b[49m\u001b[43m,\u001b[49m\u001b[43m \u001b[49m\u001b[38;5;124;43m'\u001b[39;49m\u001b[38;5;124;43msum\u001b[39;49m\u001b[38;5;124;43m'\u001b[39;49m\u001b[43m,\u001b[49m\u001b[43m \u001b[49m\u001b[43maxis\u001b[49m\u001b[43m,\u001b[49m\u001b[43m \u001b[49m\u001b[43mdtype\u001b[49m\u001b[43m,\u001b[49m\u001b[43m \u001b[49m\u001b[43mout\u001b[49m\u001b[43m,\u001b[49m\u001b[43m \u001b[49m\u001b[43mkeepdims\u001b[49m\u001b[38;5;241;43m=\u001b[39;49m\u001b[43mkeepdims\u001b[49m\u001b[43m,\u001b[49m\n\u001b[1;32m   2314\u001b[0m \u001b[43m                      \u001b[49m\u001b[43minitial\u001b[49m\u001b[38;5;241;43m=\u001b[39;49m\u001b[43minitial\u001b[49m\u001b[43m,\u001b[49m\u001b[43m \u001b[49m\u001b[43mwhere\u001b[49m\u001b[38;5;241;43m=\u001b[39;49m\u001b[43mwhere\u001b[49m\u001b[43m)\u001b[49m\n",
      "File \u001b[0;32m/Library/Frameworks/Python.framework/Versions/3.12/lib/python3.12/site-packages/numpy/core/fromnumeric.py:88\u001b[0m, in \u001b[0;36m_wrapreduction\u001b[0;34m(obj, ufunc, method, axis, dtype, out, **kwargs)\u001b[0m\n\u001b[1;32m     85\u001b[0m         \u001b[38;5;28;01melse\u001b[39;00m:\n\u001b[1;32m     86\u001b[0m             \u001b[38;5;28;01mreturn\u001b[39;00m reduction(axis\u001b[38;5;241m=\u001b[39maxis, out\u001b[38;5;241m=\u001b[39mout, \u001b[38;5;241m*\u001b[39m\u001b[38;5;241m*\u001b[39mpasskwargs)\n\u001b[0;32m---> 88\u001b[0m \u001b[38;5;28;01mreturn\u001b[39;00m \u001b[43mufunc\u001b[49m\u001b[38;5;241;43m.\u001b[39;49m\u001b[43mreduce\u001b[49m\u001b[43m(\u001b[49m\u001b[43mobj\u001b[49m\u001b[43m,\u001b[49m\u001b[43m \u001b[49m\u001b[43maxis\u001b[49m\u001b[43m,\u001b[49m\u001b[43m \u001b[49m\u001b[43mdtype\u001b[49m\u001b[43m,\u001b[49m\u001b[43m \u001b[49m\u001b[43mout\u001b[49m\u001b[43m,\u001b[49m\u001b[43m \u001b[49m\u001b[38;5;241;43m*\u001b[39;49m\u001b[38;5;241;43m*\u001b[39;49m\u001b[43mpasskwargs\u001b[49m\u001b[43m)\u001b[49m\n",
      "\u001b[0;31mKeyboardInterrupt\u001b[0m: "
     ]
    }
   ],
   "source": [
    "# computing structured hierarchical clustering\n",
    "import time as time\n",
    "from sklearn.cluster import AgglomerativeClustering\n",
    "st = time.time()\n",
    "ward = AgglomerativeClustering(n_clusters=5, connectivity=connectivity, linkage=\"ward\").fit(sample_data)\n",
    "\n",
    "elapsed_time = time.time() - st\n",
    "label = ward.labels_\n",
    "print(f\"Elapsed time: {elapsed_time:.2f}s\")\n",
    "print(f\"Number of points: {label.size}\")"
   ]
  },
  {
   "cell_type": "code",
   "execution_count": null,
   "id": "5484f012-25b1-4a8f-b6a9-2369d4171598",
   "metadata": {},
   "outputs": [],
   "source": [
    "sample_data[\"period_cluster\"] = ward.fit_predict(sample_data)"
   ]
  },
  {
   "cell_type": "code",
   "execution_count": null,
   "id": "967774cc-ec63-4250-851f-ef0a8a8eeb88",
   "metadata": {},
   "outputs": [],
   "source": [
    "from sklearn.metrics import silhouette_score\n",
    "silhouette_score(sample_data, sample_data[\"period_cluster\"])"
   ]
  },
  {
   "cell_type": "code",
   "execution_count": null,
   "id": "38becc79-8bf9-442e-ac0f-d5d270002237",
   "metadata": {},
   "outputs": [],
   "source": [
    "fig2 = plt.figure()\n",
    "ax2 = fig2.add_subplot(121, projection=\"3d\", elev=7, azim=-80)\n",
    "ax2.set_position([0, 0, 0.95, 1])\n",
    "for l in np.unique(label):\n",
    "    ax2.scatter(\n",
    "        X[label == l, 0],\n",
    "        X[label == l, 1],\n",
    "        X[label == l, 2],\n",
    "        color=plt.cm.jet(float(l) / np.max(label + 1)),\n",
    "        s=20,\n",
    "        edgecolor=\"k\",\n",
    "    )\n",
    "fig2.suptitle(f\"With connectivity constraints (time {elapsed_time:.2f}s)\")\n",
    "\n",
    "plt.show()"
   ]
  },
  {
   "cell_type": "code",
   "execution_count": null,
   "id": "e8beceb3-60ab-4414-96b6-282f03fa2bbd",
   "metadata": {},
   "outputs": [],
   "source": [
    "import matplotlib.pyplot as plt\n",
    "fig, ax = plt.subplot_mosaic([[\"A\", \"B\"],  # A-hi & B-PassatPerifràstic\n",
    "                              [\"C\", \"D\"],  # C-venir & D-anar\n",
    "                              [\"E\", \"E\"]],  # Pronominal Verbs \n",
    "                             figsize=(10, 8),\n",
    "                             constrained_layout=True)\n",
    "\n",
    "# (A) Clustering of years acording to the percentage of hi respect to the token count\n",
    "for cluster in sorted(sample_data[\"period_cluster\"].unique()):\n",
    "    subset = sample_data[sample_data[\"period_cluster\"] == cluster]\n",
    "    ax[\"A\"].plot(subset[\"Year\"], subset[\"hi_percent\"], label=f\"Cluster {cluster}\")\n",
    "    \n",
    "ax[\"A\"].legend()\n",
    "ax[\"A\"].set_title(\"hi_percent over time by cluster\")\n",
    "ax[\"A\"].set_xlabel(\"Year\")\n",
    "ax[\"A\"].set_ylabel(\"hi_percent\")\n",
    "\n",
    "# (B) Clustering of years acording to the percentage of Passat Perifràstic respect to the token count\n",
    "for cluster in sorted(sample_data[\"period_cluster\"].unique()):\n",
    "    subset = sample_data[sample_data[\"period_cluster\"] == cluster]\n",
    "    ax[\"B\"].plot(subset[\"Year\"], subset[\"Pstp_percent\"], label=f\"Cluster {cluster}\")\n",
    "    \n",
    "ax[\"B\"].legend()\n",
    "ax[\"B\"].set_title(\"Pstp_percent over time by cluster\")\n",
    "ax[\"B\"].set_xlabel(\"Year\")\n",
    "ax[\"B\"].set_ylabel(\"Pstp_percent\")\n",
    "\n",
    "# (C) Clustering of years acording to the percentage of Venir respect to the token count\n",
    "for cluster in sorted(sample_data[\"period_cluster\"].unique()):\n",
    "    subset = sample_data[sample_data[\"period_cluster\"] == cluster]\n",
    "    ax[\"C\"].plot(subset[\"Year\"], subset[\"Anar_percent\"], label=f\"Cluster {cluster}\")\n",
    "    \n",
    "ax[\"C\"].legend()\n",
    "ax[\"C\"].set_title(\"Anar_percent over time by cluster\")\n",
    "ax[\"C\"].set_xlabel(\"Year\")\n",
    "ax[\"C\"].set_ylabel(\"Anar_percent\")\n",
    "\n",
    "# (D) Clustering of years acording to the percentage of Anar respect to the token count\n",
    "for cluster in sorted(sample_data[\"period_cluster\"].unique()):\n",
    "    subset = sample_data[sample_data[\"period_cluster\"] == cluster]\n",
    "    ax[\"D\"].plot(subset[\"Year\"], subset[\"Venir_percent\"], label=f\"Cluster {cluster}\")\n",
    "    \n",
    "ax[\"D\"].legend()\n",
    "ax[\"D\"].set_title(\"Venir_percent over time by cluster\")\n",
    "ax[\"D\"].set_xlabel(\"Year\")\n",
    "ax[\"D\"].set_ylabel(\"Venir_percent\")\n",
    "\n",
    "# (E) Clustering of years acording to the percentage of Pronominal Verbs respect to the token count\n",
    "for cluster in sorted(sample_data[\"period_cluster\"].unique()):\n",
    "    subset = sample_data[sample_data[\"period_cluster\"] == cluster]\n",
    "    ax[\"E\"].plot(subset[\"Year\"], subset[\"PronV_percent\"], label=f\"Cluster {cluster}\")\n",
    "    \n",
    "ax[\"E\"].legend()\n",
    "ax[\"E\"].set_title(\"PronV_percent over time by cluster\")\n",
    "ax[\"E\"].set_xlabel(\"Year\")\n",
    "ax[\"E\"].set_ylabel(\"PronV_percent\")\n",
    "\n",
    "# displaying\n",
    "plt.show()"
   ]
  },
  {
   "cell_type": "code",
   "execution_count": null,
   "id": "16521c97-1c7f-491f-b353-ad29935573f4",
   "metadata": {},
   "outputs": [],
   "source": [
    "from sklearn.cluster import AgglomerativeClustering\n",
    "from sklearn.metrics import silhouette_score\n",
    "import numpy as np\n",
    "import matplotlib.pyplot as plt\n",
    "\n",
    "# Assume X is a NumPy array or DataFrame of shape (n_years, n_features), sorted by year\n",
    "# Optionally: preprocess X to ensure each row represents one year (1860 to 2022)\n",
    "years = np.arange(1860, 2023)\n",
    "X = sample_data  # Shape: (163, n_features), sorted by years\n",
    "\n",
    "results = []\n",
    "ks = range(2, 20)  # Try cluster sizes from 2 to 20\n",
    "\n",
    "for k in ks:\n",
    "    model = AgglomerativeClustering(n_clusters=k, linkage='ward')\n",
    "    labels = model.fit_predict(X)\n",
    "    \n",
    "    # Evaluate quality\n",
    "    score = silhouette_score(X, labels)  # Or another score\n",
    "    results.append(score)\n",
    "\n",
    "# Plot results\n",
    "plt.figure(figsize=(8, 4))\n",
    "plt.plot(ks, results, marker='o')\n",
    "plt.xlabel(\"Number of Clusters (k)\")\n",
    "plt.ylabel(\"Silhouette Score\")\n",
    "plt.title(\"Optimization of Time Clustering\")\n",
    "plt.grid(True)\n",
    "plt.show()"
   ]
  }
 ],
 "metadata": {
  "kernelspec": {
   "display_name": "Python 3 (ipykernel)",
   "language": "python",
   "name": "python3"
  },
  "language_info": {
   "codemirror_mode": {
    "name": "ipython",
    "version": 3
   },
   "file_extension": ".py",
   "mimetype": "text/x-python",
   "name": "python",
   "nbconvert_exporter": "python",
   "pygments_lexer": "ipython3",
   "version": "3.12.5"
  }
 },
 "nbformat": 4,
 "nbformat_minor": 5
}
