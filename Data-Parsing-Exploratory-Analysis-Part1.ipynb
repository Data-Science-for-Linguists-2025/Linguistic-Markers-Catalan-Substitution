{
 "cells": [
  {
   "cell_type": "markdown",
   "id": "628259b3-20d2-44c0-8e3a-fe913928b5f3",
   "metadata": {},
   "source": [
    "# Data Parsing and Exploratory Analysis FULL RADIOTECA\n",
    "Jana Bruses | janabruses@pitt.edu | University of Pittsburgh | Feb. 23rd - Mar. 31st 2025 *modified Apr 25th"
   ]
  },
  {
   "cell_type": "markdown",
   "id": "8a0e6d58-9dda-4af4-9c3a-56421720ec11",
   "metadata": {},
   "source": [
    "This is the FINAL data adquisition notebook.\n",
    "In this notebook 4 different data sources/corpora were adquired and explored separately.\n",
    "The notebook goes through some considerations, the adquisition, analysis and conclusions as well as saving each of the data sources separatley, then merged in our final data form on ADD LINK. "
   ]
  },
  {
   "cell_type": "markdown",
   "id": "c6895dcc-7628-4d78-b0e9-e03b3ffb9d3c",
   "metadata": {},
   "source": [
    "## 1. A few data considerations\n",
    "Citing Montoya Abat and Mas I Miralles’ notes in Linguistic Variation, “written language always represents a later stage than the actual appearance of any linguistic phenomenon, since the written text incorporates innovations when in oral expression they have already been occurring for some time.” They further add that in written language, “the appearance of occurrences tends to be considerably reduced.” That is because standardization tends to substantially influence written language more, particularly in literary works, which go through multiple reviews before publication.\n",
    "\n",
    "In this regard, since we are examining language variation, spoken data would likely provide the best approach for identifying traces of Catalan’s substitution. However, as we need our data to span a sufficiently long timeframe to capture changes and differences, finding open-spoken resources from earlier periods is highly challenging. Therefore, we will work with the closest approximation to spoken data: transcribed speeches, plenary sessions, and other written records derived from spoken works.\n",
    "\n",
    "Not finding a Catalan corpora covering a timespan over 15 years. We will be using multiple corpora that fulfill the points mentioned above. \n",
    "\n",
    "In chronological order, these are:\n",
    "\n",
    "1) **CTIC(1832-1926)**\\\n",
    "Corpora originally contained texts published between 1832 and 1988 and expanded to recent works after 2015. Created to develop the descriptive dictionary of the Catalan language known as DDLC. Part of the corpora has been made available for public use. Only those works that are no longer subject to copyright in Spain are being made public work by work in single text files.\\\n",
    "The downloadable corpora consists of 337 files of literary works and 596 non-literary texts, all published before 1985.\\\n",
    "Out of these works, we’ll be using 28 speech-delivered texts, specifically speeches.\n",
    "\n",
    "2) **Parlament Parla (2007-2018)**\\\n",
    "Speech corpus by Col·lectivaT containing Catalan Parliament (Parlament de Catalunya) plenary sessions from 2007 to 2018.\\\n",
    "Transcriptions have been aligned with the recordings and the corpora extracted.\\\n",
    "Corpora comprises 211 hours of clean and 400 hours of other quality segments, where each speech segment is tagged with its speaker the speaker’s gender.\n",
    "\n",
    "3) **ParlaMint-ES-CT (2015-2022)**\\\n",
    "ParlaMint-ES-CT is the Spanish and Catalan parliamentary corpora covering from 2015 to 2022 as part of the corpora project ParlaMint: Comparable Parliamentary Corpora. The full corpora contains compiled subcorpora from 29 countries and autonomous regions in original languages, as well as machine translations to English.\n",
    "\n",
    "4) **Radioteca.cat (1960-2025)**\\\n",
    "Web library of over 300.000 IA-transcribed radio programs and summaries.\\\n",
    "It is a personal project by Xavier Drudis, containing data from the 1960s to 2025.\\\n",
    "This data was incorporated into the project after noticing a huge data gap between 1985 and 2007.\\\n",
    "Hence, it was incorporated less purposely and more out of need. That is because, while it is consistent with the overall data being from spoken or speech-derived texts, it is the least close in terms of genre.\\\n",
    "The previous corpora all came from more formal speech content, parliamentary and plenary sessions, ceremonial speeches, etc. Radio shows are less formal and less professional speech.\\"
   ]
  },
  {
   "cell_type": "markdown",
   "id": "08b0a023-256e-4b5e-8cec-f4ba419494e6",
   "metadata": {},
   "source": [
    "## 2. Data processing"
   ]
  },
  {
   "cell_type": "markdown",
   "id": "60cf2e27-2406-46c4-9234-8004377ebd6b",
   "metadata": {},
   "source": [
    "The data processing procedure for each of the corpora in chronological order follows:\\\n",
    "Each corpus is processed and analyzed through a general Exploratory Data Analysis using the following function and then through corpus-specific analysis.\\\n",
    "Then, the corpora are assembled all together in the notebook ADD NOTEBOOK LINK [2.5](#2.5-Jointly), where all the data is put together and explored in an overall EDA. \n",
    "\n",
    "**2.1** [CTILC](#2.1-CTILC)\\\n",
    "**2.2** [Parlament Parla](#2.2-Parlament-Parla)\\\n",
    "**2.3** [ParlaMint](#2.3-ParlaMint-ES-CT)\\\n",
    "**2.4** [Radioteca](#2.4-Radioteca.cat)\\"
   ]
  },
  {
   "cell_type": "code",
   "execution_count": 2,
   "id": "7c039259-72a6-4533-ba74-8aecec78e74c",
   "metadata": {},
   "outputs": [],
   "source": [
    "def generalEDA(dataframe, corpus_name):\n",
    "    '''\n",
    "    Function to run general Exploration Data Analysis\n",
    "    Takes in the pandas dataframe and its name\n",
    "    Prints out its:\n",
    "        shape\n",
    "        info\n",
    "        column names\n",
    "        corpora length\n",
    "        timeframe (if time metadata is avaliable)\n",
    "        description     \n",
    "        timeline visualization (if time metadata is avaliable) \n",
    "    '''\n",
    "    print(\"--- EDA\", corpus_name, \"---\")\n",
    "    print(\"The dataframe has:\",\n",
    "          dataframe.shape[0], \"rows\",\n",
    "          dataframe.shape[1], \"columns\", \"\\n\")\n",
    "    print(\"Dataframe's info is:\")\n",
    "    print(dataframe.info(), \"\\n\")\n",
    "    print(\"The Dataframe's\", len(dataframe.columns), \"columns are:\", \"\\n\", dataframe.columns, \"\\n\")\n",
    "    dataframe[\"Text_len\"] = dataframe[\"Text\"].apply(len)\n",
    "    print(\"The total length of the Dataframe excluding the metadata is:\", \"\\n\", dataframe[\"Text_len\"].sum(), \"\\n\")\n",
    "    key_word = None\n",
    "    if \"Date\" in dataframe.columns:\n",
    "        key_word = \"Date\" # for plotting later\n",
    "        print(\"The data ranges from\", dataframe[\"Date\"].min(), \"to\", dataframe[\"Date\"].max(), \"\\n\")\n",
    "    if \"Year\" in dataframe.columns:\n",
    "        key_word = \"Year\" # for plotting later\n",
    "        print(\"The data ranges from\", dataframe[\"Year\"].min(), \"to\", dataframe[\"Year\"].max(), \"\\n\")\n",
    "    print(\"The description of the dataframe is:\", \"\\n\",\n",
    "          dataframe.describe(), \"\\n\", \"\\n\")\n",
    "\n",
    "    if key_word:\n",
    "        # extacting unique years and sorting them\n",
    "        if corpus_name == \"ParlaMint\":\n",
    "            years = sorted((parlaMint_df[key_word].apply(lambda x :x[0:7])).unique())\n",
    "        if corpus_name == \"Radioteca.cat\":\n",
    "            years = sorted((full_radioteca[\"Date\"].unique()))\n",
    "        if corpus_name == \"CTILC\": \n",
    "            years = sorted(CTILC_df[key_word].unique())\n",
    "        \n",
    "\n",
    "        # create place holder for y-values \n",
    "        y_values = [1] * len(years)  # Place all points at y=1\n",
    "\n",
    "        # Plot each year as a point on the timeline\n",
    "        fig, ax = plt.subplots(figsize=(12, 2)) \n",
    "        ax.scatter(years, y_values, color=\"blue\", marker=\"o\")\n",
    "\n",
    "        # formatting\n",
    "        ax.set_xlabel(key_word)\n",
    "        ax.set_yticks([])  \n",
    "        ax.set_title(\"Document Timeline\")\n",
    "        ax.grid(axis=\"x\") \n",
    "        plt.xticks(rotation=90)\n",
    "\n",
    "        plt.show()"
   ]
  },
  {
   "cell_type": "markdown",
   "id": "1c36a3e5-00e9-4ec1-a7bb-95311d9a2bbe",
   "metadata": {},
   "source": [
    "### 2.1 CTILC"
   ]
  },
  {
   "cell_type": "markdown",
   "id": "c755b70a-1a91-432f-9a0f-b24d7ec4d096",
   "metadata": {},
   "source": [
    "The files are .txt, so we will parse them using plain text corpus reader.\\\n",
    "Their encoding is UTF-8 with FL line terminator, so they align with our encoding and line termination preference.\\\n",
    "No changes are required."
   ]
  },
  {
   "cell_type": "code",
   "execution_count": 3,
   "id": "67e4a75c-4ed5-40a4-bdaa-6090bc1a2baa",
   "metadata": {},
   "outputs": [
    {
     "name": "stdout",
     "output_type": "stream",
     "text": [
      "<DOCUMENT>\n",
      "<OBRA id=\"1858\">\n",
      "<AUTOR>Sagarra i de Siscar, Ferran de</AUTOR>\n",
      "<TÍTOL>Discurs llegit en lo Certamen Catalanista de la Joventut Católica de Barcelona</TÍTOL>\n",
      "<ANY>1891</ANY>\n",
      "<CLASSIFICACIÓ_TEXTUAL llengua=\"NLIT\" gènere=\"\" tema=\"2\" subtema=\"2.7\" traducció=\"no\" variant=\"central\" />\n",
      "</OBRA>\n",
      "<TEXT>Discurs llegit en lo certamen catalanista de la joventut católica de Barcelona\n",
      "\n",
      "Excm. é Ilm. Sr. Senyors: Quan en Bonaventura Carles Aribau, al començarse lo segon terç de la presént centuria, ab aquell Adéu á la patria, plé de sentiment y tendresa, y ab aquell recort per la llengua en que soná son primer vagit quan del mugró matern la dolça llet bebia, iniciava lo modern renaxement de nostra literatura, ¿qui ho havia de dir, que en breu espay de temps, poetas y prosadors conqueririan tants llors pera les lletres catalanes? Y ab tot, no sols fou axí, sino que ab la remembrança de antigues gestes, al fer reviure grans homens y fets del llibre d' or de nostra historia, se despertá en nosa\n"
     ]
    }
   ],
   "source": [
    "#importing nltk's plain text corpus reader\n",
    "from nltk.corpus.reader import PlaintextCorpusReader\n",
    "\n",
    "corpus_root = \"data/CTILC/tots\"\n",
    "corpus = PlaintextCorpusReader(corpus_root, r\".*\\.txt\")\n",
    "\n",
    "#print(corpus.fileids())  # getting filenames to get a file\n",
    "print(corpus.raw(\"001858_Discurs_llegit_en_lo_Certamen_Catalanist.out.txt\")[:1000])  # taking a look at part of one of the files"
   ]
  },
  {
   "cell_type": "markdown",
   "id": "7e88dcc8-95ca-4ceb-81fd-4de5861ccda9",
   "metadata": {},
   "source": [
    "**Comment:**\\\n",
    "There is some metadata mixed which might actually be very useful.\n",
    "Therefore, we will change the approach and parse the CTILC data as an xml and store it as a pandas dataframe, where the id, author, title, date and other metadata will be strored in columns.\\\n",
    "The text will be given its own column."
   ]
  },
  {
   "cell_type": "code",
   "execution_count": 4,
   "id": "e11c2ccb-9cd5-4928-9b3c-c9581c50b4e2",
   "metadata": {},
   "outputs": [
    {
     "data": {
      "text/html": [
       "<div>\n",
       "<style scoped>\n",
       "    .dataframe tbody tr th:only-of-type {\n",
       "        vertical-align: middle;\n",
       "    }\n",
       "\n",
       "    .dataframe tbody tr th {\n",
       "        vertical-align: top;\n",
       "    }\n",
       "\n",
       "    .dataframe thead th {\n",
       "        text-align: right;\n",
       "    }\n",
       "</style>\n",
       "<table border=\"1\" class=\"dataframe\">\n",
       "  <thead>\n",
       "    <tr style=\"text-align: right;\">\n",
       "      <th></th>\n",
       "      <th>ID</th>\n",
       "      <th>Author</th>\n",
       "      <th>Title</th>\n",
       "      <th>Year</th>\n",
       "      <th>Text</th>\n",
       "    </tr>\n",
       "  </thead>\n",
       "  <tbody>\n",
       "    <tr>\n",
       "      <th>0</th>\n",
       "      <td>766</td>\n",
       "      <td>Serra i Pagès, Rossend</td>\n",
       "      <td>Discurs llegit per... donar a conèxer la perso...</td>\n",
       "      <td>1926</td>\n",
       "      <td>L'home que per amor al estudi, impulsat per un...</td>\n",
       "    </tr>\n",
       "    <tr>\n",
       "      <th>1</th>\n",
       "      <td>1100</td>\n",
       "      <td>Millet i Pagès, Lluís</td>\n",
       "      <td>Parlament llegit en la festa inaugural de l'Or...</td>\n",
       "      <td>1920</td>\n",
       "      <td>Cantaires de la Garriga, Senyores i senyors:\\n...</td>\n",
       "    </tr>\n",
       "    <tr>\n",
       "      <th>2</th>\n",
       "      <td>1664</td>\n",
       "      <td>Miró i Borràs, Oleguer</td>\n",
       "      <td>Discurs-pròlec</td>\n",
       "      <td>1900</td>\n",
       "      <td>Discurs-prolec Llegit en la societat mèdic-far...</td>\n",
       "    </tr>\n",
       "    <tr>\n",
       "      <th>3</th>\n",
       "      <td>1784</td>\n",
       "      <td>Balari i Jovany, Josep</td>\n",
       "      <td>Discurs</td>\n",
       "      <td>1894</td>\n",
       "      <td>Senyors excelentissims, senyors:\\n\\nQuan rebí ...</td>\n",
       "    </tr>\n",
       "    <tr>\n",
       "      <th>4</th>\n",
       "      <td>1820</td>\n",
       "      <td>Torras i Ferreri, Cèsar August</td>\n",
       "      <td>Discurs</td>\n",
       "      <td>1903</td>\n",
       "      <td>Senyors:\\n\\nSembla que era air, y fa ja uns qu...</td>\n",
       "    </tr>\n",
       "  </tbody>\n",
       "</table>\n",
       "</div>"
      ],
      "text/plain": [
       "     ID                          Author  \\\n",
       "0   766          Serra i Pagès, Rossend   \n",
       "1  1100           Millet i Pagès, Lluís   \n",
       "2  1664          Miró i Borràs, Oleguer   \n",
       "3  1784          Balari i Jovany, Josep   \n",
       "4  1820  Torras i Ferreri, Cèsar August   \n",
       "\n",
       "                                               Title  Year  \\\n",
       "0  Discurs llegit per... donar a conèxer la perso...  1926   \n",
       "1  Parlament llegit en la festa inaugural de l'Or...  1920   \n",
       "2                                     Discurs-pròlec  1900   \n",
       "3                                            Discurs  1894   \n",
       "4                                            Discurs  1903   \n",
       "\n",
       "                                                Text  \n",
       "0  L'home que per amor al estudi, impulsat per un...  \n",
       "1  Cantaires de la Garriga, Senyores i senyors:\\n...  \n",
       "2  Discurs-prolec Llegit en la societat mèdic-far...  \n",
       "3  Senyors excelentissims, senyors:\\n\\nQuan rebí ...  \n",
       "4  Senyors:\\n\\nSembla que era air, y fa ja uns qu...  "
      ]
     },
     "execution_count": 4,
     "metadata": {},
     "output_type": "execute_result"
    }
   ],
   "source": [
    "#importing BS, Pandas, NumPy (for NaN values) and Regex\n",
    "from bs4 import BeautifulSoup\n",
    "import pandas as pd\n",
    "import numpy as np\n",
    "import re\n",
    "\n",
    "CTILC_data = []\n",
    "\n",
    "for file in corpus.fileids():   \n",
    "    soup = BeautifulSoup(corpus.raw(file), \"html.parser\")\n",
    "    data = {}  # dictionary for each file\n",
    "\n",
    "    # \"obra\" ID (CAT) / work ID (ENG) - we will use ID for short\n",
    "    obra_tag = soup.find(\"obra\") \n",
    "    data[\"ID\"] = obra_tag[\"id\"] if obra_tag and obra_tag.has_attr(\"id\") else np.nan \n",
    "\n",
    "    # \"autor\" (CAT) / Author (ENG) \n",
    "    data[\"Author\"] = soup.find(\"autor\").text if soup.find(\"autor\") else np.nan\n",
    "\n",
    "    # \"títol\" (CAT) / Title (ENG)\n",
    "    data[\"Title\"] = soup.find(\"títol\").text if soup.find(\"títol\") else np.nan\n",
    "\n",
    "    # \"any\" (CAT) / Year (ENG)\n",
    "    data[\"Year\"] = soup.find(\"any\").text if soup.find(\"any\") else np.nan\n",
    "\n",
    "    # \"text\" (CAT) / \"Text\" (ENG) - where we will store the content of the files, the non-metadata, the meat\n",
    "    data[\"Text\"] = soup.find(\"text\").text if soup.find(\"text\") else np.nan\n",
    "    #in the text the title begins the content, we will get rid of it as we can find a \"\\n\\n\" separator between the title and the content\n",
    "    data[\"Text\"] = re.sub(r\".*?\\n\\n(?=\\S)\", \"\", data[\"Text\"], count = 1, flags=re.DOTALL)\n",
    "\n",
    "    CTILC_data.append(data)\n",
    "\n",
    "# creating Pandas df\n",
    "CTILC_df = pd.DataFrame(CTILC_data)\n",
    "\n",
    "#taking a look at the head of the CTILC data frame\n",
    "CTILC_df.head()"
   ]
  },
  {
   "cell_type": "code",
   "execution_count": 5,
   "id": "416664cd-7f76-4fa2-ba2c-2689cb860c11",
   "metadata": {},
   "outputs": [
    {
     "name": "stdout",
     "output_type": "stream",
     "text": [
      "--- EDA CTILC ---\n",
      "The dataframe has: 28 rows 5 columns \n",
      "\n",
      "Dataframe's info is:\n",
      "<class 'pandas.core.frame.DataFrame'>\n",
      "RangeIndex: 28 entries, 0 to 27\n",
      "Data columns (total 5 columns):\n",
      " #   Column  Non-Null Count  Dtype \n",
      "---  ------  --------------  ----- \n",
      " 0   ID      28 non-null     object\n",
      " 1   Author  28 non-null     object\n",
      " 2   Title   28 non-null     object\n",
      " 3   Year    28 non-null     object\n",
      " 4   Text    28 non-null     object\n",
      "dtypes: object(5)\n",
      "memory usage: 1.2+ KB\n",
      "None \n",
      "\n",
      "The Dataframe's 5 columns are: \n",
      " Index(['ID', 'Author', 'Title', 'Year', 'Text'], dtype='object') \n",
      "\n",
      "The total length of the Dataframe excluding the metadata is: \n",
      " 721938 \n",
      "\n",
      "The data ranges from 1860 to 1926 \n",
      "\n",
      "The description of the dataframe is: \n",
      "            Text_len\n",
      "count     28.000000\n",
      "mean   25783.500000\n",
      "std    14946.550472\n",
      "min     9178.000000\n",
      "25%    15676.500000\n",
      "50%    21784.000000\n",
      "75%    32158.750000\n",
      "max    73881.000000 \n",
      " \n",
      "\n"
     ]
    },
    {
     "data": {
      "image/png": "[encoded data removed]",
      "text/plain": [
       "<Figure size 1200x200 with 1 Axes>"
      ]
     },
     "metadata": {},
     "output_type": "display_data"
    }
   ],
   "source": [
    "import matplotlib.pyplot as plt\n",
    "\n",
    "generalEDA(CTILC_df, \"CTILC\")"
   ]
  },
  {
   "cell_type": "code",
   "execution_count": 6,
   "id": "1381d95f-21a4-454c-a81a-4841e558074f",
   "metadata": {},
   "outputs": [
    {
     "name": "stdout",
     "output_type": "stream",
     "text": [
      "\n",
      "Author\n",
      "Serra i Pagès, Rossend               2\n",
      "Monserdà, Dolors                     2\n",
      "Querol i Campos, Vicent Wenceslau    1\n",
      "Picó i Campamar, Ramon               1\n",
      "Ubach i Vinyeta, Francesc            1\n",
      "Name: count, dtype: int64\n",
      "\n"
     ]
    },
    {
     "data": {
      "text/plain": [
       "Decade\n",
       "80    8\n",
       "00    6\n",
       "90    5\n",
       "70    5\n",
       "20    2\n",
       "60    2\n",
       "Name: count, dtype: int64"
      ]
     },
     "execution_count": 6,
     "metadata": {},
     "output_type": "execute_result"
    }
   ],
   "source": [
    "# other EDA\n",
    "print()\n",
    "print(CTILC_df[\"Author\"].value_counts()[0:5])\n",
    "print()\n",
    "CTILC_df[\"Decade\"] = CTILC_df[\"Year\"].apply(lambda x :x[-2]+\"0\")\n",
    "CTILC_df[\"Decade\"].value_counts()"
   ]
  },
  {
   "cell_type": "code",
   "execution_count": 7,
   "id": "aaeaa4b1-55cf-4681-a6da-e4158f29d382",
   "metadata": {},
   "outputs": [],
   "source": [
    "# dropping any duplicates just in case\n",
    "CTILC_df = CTILC_df.drop_duplicates(subset=\"Text\", keep=\"first\")"
   ]
  },
  {
   "cell_type": "code",
   "execution_count": 8,
   "id": "ae89be0b-ae40-4297-b157-4a353bff853b",
   "metadata": {},
   "outputs": [],
   "source": [
    "# storing CTILC dataframe as a pickle\n",
    "CTILC_df.to_pickle(\"CTILC.pkl\")"
   ]
  },
  {
   "cell_type": "markdown",
   "id": "1aeaca6b-615f-465d-9622-c37e2f97fa14",
   "metadata": {},
   "source": [
    "**Exploratory Analysis Summary:**\\\n",
    "After parsing the data and turining it into a pandas data frame, the CLTIC data frame has 5 columns.\\\n",
    "Out of the 5, four of the columns correspond to the metadata, specifically the works' ID, the author of the text, its title and year of publication.\\\n",
    "The fifth column is the content of the work, in other words the text.\\\n",
    "The oldest work from the CLTIC copora is from 1860, and the most recent from 1926.\\\n",
    "The total length, and hence the amount of data we have in total from the CLTIC corpora is about 700,000 characters.\\\n",
    "These come from different length texts, as we find that the shortest participates to the total with over 9,000 word characters, and the longest with about 70,000 characters.\\\n",
    "The average length of the 28 texts our subset of the corpora contains is about 25,000 characters per text.\\\n",
    "Covering the over 65 years time-span the texts are not evenly spread. We find a bigger representation of the years closer to the century change. As the 1880s and the 1900s are the 2 most represented centuries in that order. Followed by the 1890s and 1870s, which both are represented with 5 texts. The 1860s and 1920s, the two ends of the time-span are the least represented with 2 texts each. Not represented at all we find the 1910s. However, as we see in the timeline plot many of the 1900s texts are from the late 1900s, including texts from the 1907 and 1909. It is descently spread and gives us descent coverage of the time-span.\\\n",
    "The maximum amount of texts included in the corpora written by the same author is at a maximum of two, and just for two authors, which allows us to make inferences without being tripped by the specific authors' styles, or having a same style and author influence or become a bias of the time-span's data. "
   ]
  },
  {
   "cell_type": "markdown",
   "id": "9d46c3cd-3820-435e-b2ff-1fc5cc755803",
   "metadata": {},
   "source": [
    "### 2.2 Parlament Parla"
   ]
  },
  {
   "cell_type": "markdown",
   "id": "6814964a-50d7-4adf-ac15-94329a94a9ba",
   "metadata": {},
   "source": [
    "The files are .tsv, so we will parse them using Pandas.\\\n",
    "Their encoding is UTF-8 but CRFL line terminators, that were converted to FL line terminators using dos2unix on terminal."
   ]
  },
  {
   "cell_type": "code",
   "execution_count": 9,
   "id": "15c7e756-c42b-443f-9ab9-549158c72e27",
   "metadata": {},
   "outputs": [],
   "source": [
    "# loading data and creating a Pandas dataframe:"
   ]
  },
  {
   "cell_type": "code",
   "execution_count": 10,
   "id": "6ac3c059-8b04-4a80-aba1-d4ffe5b40baa",
   "metadata": {},
   "outputs": [],
   "source": [
    "def partition_reading(path):\n",
    "    '''\n",
    "    Function takes in a path and returns a dataframe containing:\n",
    "        1) the content of the tsv file\n",
    "        2) a column with the partition extracted from the 4th to 15th character of the path starting from the back\n",
    "    '''\n",
    "    df = pd.read_csv(path,  sep=\"\\t\", header = 0)\n",
    "    df[\"Partition\"] = path[-15:-4]\n",
    "    return df"
   ]
  },
  {
   "cell_type": "code",
   "execution_count": 11,
   "id": "09e9d02a-a986-462f-bec1-bd1675dac79b",
   "metadata": {},
   "outputs": [
    {
     "data": {
      "text/html": [
       "<div>\n",
       "<style scoped>\n",
       "    .dataframe tbody tr th:only-of-type {\n",
       "        vertical-align: middle;\n",
       "    }\n",
       "\n",
       "    .dataframe tbody tr th {\n",
       "        vertical-align: top;\n",
       "    }\n",
       "\n",
       "    .dataframe thead th {\n",
       "        text-align: right;\n",
       "    }\n",
       "</style>\n",
       "<table border=\"1\" class=\"dataframe\">\n",
       "  <thead>\n",
       "    <tr style=\"text-align: right;\">\n",
       "      <th></th>\n",
       "      <th>Speaker_id</th>\n",
       "      <th>Path</th>\n",
       "      <th>Text</th>\n",
       "      <th>Gender</th>\n",
       "      <th>Duration</th>\n",
       "      <th>Partition</th>\n",
       "    </tr>\n",
       "  </thead>\n",
       "  <tbody>\n",
       "    <tr>\n",
       "      <th>0</th>\n",
       "      <td>164</td>\n",
       "      <td>clean_train/3/1/31ca4d158eaef166c37a_18.87_23....</td>\n",
       "      <td>perquè que el president de catalunya sigui reb...</td>\n",
       "      <td>M</td>\n",
       "      <td>4.71</td>\n",
       "      <td>clean_train</td>\n",
       "    </tr>\n",
       "    <tr>\n",
       "      <th>1</th>\n",
       "      <td>164</td>\n",
       "      <td>clean_train/3/1/31ca4d158eaef166c37a_60.13_65....</td>\n",
       "      <td>que lliga absolutament amb allò que vostè diu ...</td>\n",
       "      <td>M</td>\n",
       "      <td>5.50</td>\n",
       "      <td>clean_train</td>\n",
       "    </tr>\n",
       "    <tr>\n",
       "      <th>2</th>\n",
       "      <td>336</td>\n",
       "      <td>clean_train/2/8/2803008bb00cb0c86de6_17.0_30.1...</td>\n",
       "      <td>gràcies presidenta consellera atès l'inici del...</td>\n",
       "      <td>M</td>\n",
       "      <td>13.15</td>\n",
       "      <td>clean_train</td>\n",
       "    </tr>\n",
       "    <tr>\n",
       "      <th>3</th>\n",
       "      <td>336</td>\n",
       "      <td>clean_train/2/8/2803008bb00cb0c86de6_31.03_44....</td>\n",
       "      <td>li volem preguntar si el seu departament té pr...</td>\n",
       "      <td>M</td>\n",
       "      <td>13.02</td>\n",
       "      <td>clean_train</td>\n",
       "    </tr>\n",
       "    <tr>\n",
       "      <th>4</th>\n",
       "      <td>336</td>\n",
       "      <td>clean_train/2/8/2803008bb00cb0c86de6_44.74_53....</td>\n",
       "      <td>per tal d'iniciar la recuperació de l'ensenyam...</td>\n",
       "      <td>M</td>\n",
       "      <td>8.49</td>\n",
       "      <td>clean_train</td>\n",
       "    </tr>\n",
       "  </tbody>\n",
       "</table>\n",
       "</div>"
      ],
      "text/plain": [
       "   Speaker_id                                               Path  \\\n",
       "0         164  clean_train/3/1/31ca4d158eaef166c37a_18.87_23....   \n",
       "1         164  clean_train/3/1/31ca4d158eaef166c37a_60.13_65....   \n",
       "2         336  clean_train/2/8/2803008bb00cb0c86de6_17.0_30.1...   \n",
       "3         336  clean_train/2/8/2803008bb00cb0c86de6_31.03_44....   \n",
       "4         336  clean_train/2/8/2803008bb00cb0c86de6_44.74_53....   \n",
       "\n",
       "                                                Text Gender  Duration  \\\n",
       "0  perquè que el president de catalunya sigui reb...      M      4.71   \n",
       "1  que lliga absolutament amb allò que vostè diu ...      M      5.50   \n",
       "2  gràcies presidenta consellera atès l'inici del...      M     13.15   \n",
       "3  li volem preguntar si el seu departament té pr...      M     13.02   \n",
       "4  per tal d'iniciar la recuperació de l'ensenyam...      M      8.49   \n",
       "\n",
       "     Partition  \n",
       "0  clean_train  \n",
       "1  clean_train  \n",
       "2  clean_train  \n",
       "3  clean_train  \n",
       "4  clean_train  "
      ]
     },
     "execution_count": 11,
     "metadata": {},
     "output_type": "execute_result"
    }
   ],
   "source": [
    "# importing os\n",
    "import os\n",
    "#corpus_root = \"dataCAT/ParlamentParla\"\n",
    "\n",
    "#reading in each of the partitions and turning them into separate data frames\n",
    "clean_tr = partition_reading(\"data/ParlamentParla/clean_train.tsv\")\n",
    "clean_dev = partition_reading(\"data/ParlamentParla/clean_dev.tsv\")\n",
    "clean_ts = partition_reading(\"data/ParlamentParla/clean_test.tsv\")\n",
    "other_dev = partition_reading(\"data/ParlamentParla/other_dev.tsv\")\n",
    "other_ts = partition_reading(\"data/ParlamentParla/other_test.tsv\")\n",
    "\n",
    "#merging data frames in a single dataframe through concatenation\n",
    "parlament_parla_df = pd.concat([clean_tr, clean_dev, clean_ts, other_dev, other_ts])\n",
    "parlament_parla_df.columns = [\"Speaker_id\", \"Path\", \"Text\", \"Gender\", \"Duration\", \"Partition\"]\n",
    "\n",
    "#taking a look at part of the dataframe\n",
    "parlament_parla_df.head()"
   ]
  },
  {
   "cell_type": "code",
   "execution_count": 12,
   "id": "11e0f14c-f3b4-45f0-9db2-4f08341cf118",
   "metadata": {},
   "outputs": [
    {
     "name": "stdout",
     "output_type": "stream",
     "text": [
      "--- EDA Parlament Parla ---\n",
      "The dataframe has: 87424 rows 6 columns \n",
      "\n",
      "Dataframe's info is:\n",
      "<class 'pandas.core.frame.DataFrame'>\n",
      "Index: 87424 entries, 0 to 1898\n",
      "Data columns (total 6 columns):\n",
      " #   Column      Non-Null Count  Dtype  \n",
      "---  ------      --------------  -----  \n",
      " 0   Speaker_id  87424 non-null  int64  \n",
      " 1   Path        87424 non-null  object \n",
      " 2   Text        87424 non-null  object \n",
      " 3   Gender      87424 non-null  object \n",
      " 4   Duration    87424 non-null  float64\n",
      " 5   Partition   87424 non-null  object \n",
      "dtypes: float64(1), int64(1), object(4)\n",
      "memory usage: 4.7+ MB\n",
      "None \n",
      "\n",
      "The Dataframe's 6 columns are: \n",
      " Index(['Speaker_id', 'Path', 'Text', 'Gender', 'Duration', 'Partition'], dtype='object') \n",
      "\n",
      "The total length of the Dataframe excluding the metadata is: \n",
      " 13174757 \n",
      "\n",
      "The description of the dataframe is: \n",
      "          Speaker_id      Duration      Text_len\n",
      "count  87424.000000  87424.000000  87424.000000\n",
      "mean     184.029866      9.135149    150.699545\n",
      "std      104.624795      3.264426     58.758921\n",
      "min        0.000000      4.000000      7.000000\n",
      "25%      101.000000      6.310000    102.000000\n",
      "50%      169.000000      8.800000    145.000000\n",
      "75%      272.000000     11.920000    194.000000\n",
      "max      389.000000     38.330000    674.000000 \n",
      " \n",
      "\n"
     ]
    }
   ],
   "source": [
    "generalEDA(parlament_parla_df, \"Parlament Parla\")"
   ]
  },
  {
   "cell_type": "code",
   "execution_count": 13,
   "id": "a9319cad-5800-48a2-81ff-c5a9f242174b",
   "metadata": {
    "scrolled": true
   },
   "outputs": [
    {
     "name": "stdout",
     "output_type": "stream",
     "text": [
      "Gender\n",
      "M    53220\n",
      "F    34204\n",
      "Name: count, dtype: int64\n",
      "\n"
     ]
    }
   ],
   "source": [
    "# dataframe-specific EDA\n",
    "print(parlament_parla_df[\"Gender\"].value_counts())\n",
    "print()"
   ]
  },
  {
   "cell_type": "markdown",
   "id": "295d45aa-4043-483d-ae25-d69ad8c93c45",
   "metadata": {},
   "source": [
    "**Exploratory Analysis Summary:**\\\n",
    "After parsing the data and turining it into a pandas dataframe, the Parlament Parla data frame has 6 columns.\\\n",
    "Out of the 6, five of the columns correspond to the metadata. Provided by the resource itself we find 4 metadata columns: the speaker id, the path of the corresponding sound, the gender of the speaker and the duration of the audio file the transcription corresponds to. Also as metadata, we find the column previously created identifying what partition of the data the audio file content belongs to, te partitions being defined by the folders and then stored as variables in the \"Partiction\" column of the dataframe.\\\n",
    "The third column, and only non-metadata one, adding up to the 6 total is the transcription of the content of the audio file.\\\n",
    "There is no metadata on when the recording was done nor transcribed.\\\n",
    "The total length, and hence the amount of data we have in total from the Parlament Parla corpora is about 10,000,000 word characters.\\\n",
    "The transcription that contributes with the least amount of data is only 7 word characters long, while the longest is about 670 word characters.\\\n",
    "The average length of the over 87,000 transcriptions is about 150 characters per transcription.\\\n",
    "The genders are not evenly represented on the corpora, but close enough that it shouldn't pose a problem. as both are represented about 10,000 transcriptions off of 40,000 transcriptions.\n",
    "While it is"
   ]
  },
  {
   "cell_type": "code",
   "execution_count": 14,
   "id": "b2457a03-82d1-45bf-a392-475483cc4960",
   "metadata": {},
   "outputs": [],
   "source": [
    "# dropping any duplicates just in case\n",
    "parlament_parla_df = parlament_parla_df.drop_duplicates(subset=\"Text\", keep=\"first\")"
   ]
  },
  {
   "cell_type": "code",
   "execution_count": 15,
   "id": "46c5d02b-32e6-4ba5-8782-e83497c3a620",
   "metadata": {},
   "outputs": [],
   "source": [
    "# storing parlament-parla dataframe as a pickle\n",
    "parlament_parla_df.to_pickle(\"parlaparla.pkl\")"
   ]
  },
  {
   "cell_type": "markdown",
   "id": "551cf4ab-e15b-45e7-abd7-d095fad8bdd6",
   "metadata": {},
   "source": [
    "### 2.3 ParlaMint-ES-CT"
   ]
  },
  {
   "cell_type": "markdown",
   "id": "2d699bc4-8847-4235-bab6-ffe7161e8aa1",
   "metadata": {},
   "source": [
    "Files are in multiple formats.\\\n",
    "To be consistent with the other datasets, which are less flexible, we'll use:\n",
    "* tsv documents for the metadata\n",
    "* txt documents for the text content/transcription"
   ]
  },
  {
   "cell_type": "code",
   "execution_count": 16,
   "id": "5c0cb0f4-676e-4883-8d9a-1875fa57d79d",
   "metadata": {},
   "outputs": [
    {
     "data": {
      "text/html": [
       "<div>\n",
       "<style scoped>\n",
       "    .dataframe tbody tr th:only-of-type {\n",
       "        vertical-align: middle;\n",
       "    }\n",
       "\n",
       "    .dataframe tbody tr th {\n",
       "        vertical-align: top;\n",
       "    }\n",
       "\n",
       "    .dataframe thead th {\n",
       "        text-align: right;\n",
       "    }\n",
       "</style>\n",
       "<table border=\"1\" class=\"dataframe\">\n",
       "  <thead>\n",
       "    <tr style=\"text-align: right;\">\n",
       "      <th></th>\n",
       "      <th>Text_ID</th>\n",
       "      <th>ID</th>\n",
       "      <th>Title</th>\n",
       "      <th>Date</th>\n",
       "      <th>Body</th>\n",
       "      <th>Term</th>\n",
       "      <th>Session</th>\n",
       "      <th>Meeting</th>\n",
       "      <th>Sitting</th>\n",
       "      <th>Agenda</th>\n",
       "      <th>...</th>\n",
       "      <th>Speaker_MP</th>\n",
       "      <th>Speaker_minister</th>\n",
       "      <th>Speaker_party</th>\n",
       "      <th>Speaker_party_name</th>\n",
       "      <th>Party_status</th>\n",
       "      <th>Party_orientation</th>\n",
       "      <th>Speaker_ID</th>\n",
       "      <th>Speaker_name</th>\n",
       "      <th>Speaker_gender</th>\n",
       "      <th>Speaker_birth</th>\n",
       "    </tr>\n",
       "  </thead>\n",
       "  <tbody>\n",
       "    <tr>\n",
       "      <th>0</th>\n",
       "      <td>ParlaMint-ES-CT_2022-07-07-3502</td>\n",
       "      <td>ParlaMint-ES-CT_2022-07-07-3502.1.0</td>\n",
       "      <td>Corpus Parlamentari en català ParlaMint-ES-CT,...</td>\n",
       "      <td>2022-07-07</td>\n",
       "      <td>Unicameralisme</td>\n",
       "      <td>XIV Legislatura</td>\n",
       "      <td>-</td>\n",
       "      <td>35</td>\n",
       "      <td>2</td>\n",
       "      <td>-</td>\n",
       "      <td>...</td>\n",
       "      <td>notMP</td>\n",
       "      <td>notMinister</td>\n",
       "      <td>GP-JxCAT</td>\n",
       "      <td>Grup Parlamentari de Junts per Catalunya</td>\n",
       "      <td>Coalition</td>\n",
       "      <td>Entre centredreta i dreta</td>\n",
       "      <td>BorràsLaura</td>\n",
       "      <td>Borràs i Castanyer, Laura</td>\n",
       "      <td>F</td>\n",
       "      <td>1970</td>\n",
       "    </tr>\n",
       "    <tr>\n",
       "      <th>1</th>\n",
       "      <td>ParlaMint-ES-CT_2022-07-07-3502</td>\n",
       "      <td>ParlaMint-ES-CT_2022-07-07-3502.224.0</td>\n",
       "      <td>Corpus Parlamentari en català ParlaMint-ES-CT,...</td>\n",
       "      <td>2022-07-07</td>\n",
       "      <td>Unicameralisme</td>\n",
       "      <td>XIV Legislatura</td>\n",
       "      <td>-</td>\n",
       "      <td>35</td>\n",
       "      <td>2</td>\n",
       "      <td>-</td>\n",
       "      <td>...</td>\n",
       "      <td>MP</td>\n",
       "      <td>notMinister</td>\n",
       "      <td>GP-ERC</td>\n",
       "      <td>Grup Parlamentari Esquerra Republicana de Cata...</td>\n",
       "      <td>Coalition</td>\n",
       "      <td>Entre centreesquerra i esquerra</td>\n",
       "      <td>VilaltaMarta</td>\n",
       "      <td>Vilalta i Torres, Marta</td>\n",
       "      <td>F</td>\n",
       "      <td>1984</td>\n",
       "    </tr>\n",
       "    <tr>\n",
       "      <th>2</th>\n",
       "      <td>ParlaMint-ES-CT_2022-07-07-3502</td>\n",
       "      <td>ParlaMint-ES-CT_2022-07-07-3502.2.0</td>\n",
       "      <td>Corpus Parlamentari en català ParlaMint-ES-CT,...</td>\n",
       "      <td>2022-07-07</td>\n",
       "      <td>Unicameralisme</td>\n",
       "      <td>XIV Legislatura</td>\n",
       "      <td>-</td>\n",
       "      <td>35</td>\n",
       "      <td>2</td>\n",
       "      <td>-</td>\n",
       "      <td>...</td>\n",
       "      <td>notMP</td>\n",
       "      <td>notMinister</td>\n",
       "      <td>GP-JxCAT</td>\n",
       "      <td>Grup Parlamentari de Junts per Catalunya</td>\n",
       "      <td>Coalition</td>\n",
       "      <td>Entre centredreta i dreta</td>\n",
       "      <td>BorràsLaura</td>\n",
       "      <td>Borràs i Castanyer, Laura</td>\n",
       "      <td>F</td>\n",
       "      <td>1970</td>\n",
       "    </tr>\n",
       "    <tr>\n",
       "      <th>3</th>\n",
       "      <td>ParlaMint-ES-CT_2022-07-07-3502</td>\n",
       "      <td>ParlaMint-ES-CT_2022-07-07-3502.3.0</td>\n",
       "      <td>Corpus Parlamentari en català ParlaMint-ES-CT,...</td>\n",
       "      <td>2022-07-07</td>\n",
       "      <td>Unicameralisme</td>\n",
       "      <td>XIV Legislatura</td>\n",
       "      <td>-</td>\n",
       "      <td>35</td>\n",
       "      <td>2</td>\n",
       "      <td>-</td>\n",
       "      <td>...</td>\n",
       "      <td>notMP</td>\n",
       "      <td>Minister</td>\n",
       "      <td>ERC</td>\n",
       "      <td>Esquerra Republicana de Catalunya</td>\n",
       "      <td>-</td>\n",
       "      <td>Entre centreesquerra i esquerra</td>\n",
       "      <td>VilagràLaura</td>\n",
       "      <td>Vilagrà Pons, Laura</td>\n",
       "      <td>F</td>\n",
       "      <td>1976</td>\n",
       "    </tr>\n",
       "    <tr>\n",
       "      <th>4</th>\n",
       "      <td>ParlaMint-ES-CT_2022-07-07-3502</td>\n",
       "      <td>ParlaMint-ES-CT_2022-07-07-3502.4.0</td>\n",
       "      <td>Corpus Parlamentari en català ParlaMint-ES-CT,...</td>\n",
       "      <td>2022-07-07</td>\n",
       "      <td>Unicameralisme</td>\n",
       "      <td>XIV Legislatura</td>\n",
       "      <td>-</td>\n",
       "      <td>35</td>\n",
       "      <td>2</td>\n",
       "      <td>-</td>\n",
       "      <td>...</td>\n",
       "      <td>notMP</td>\n",
       "      <td>notMinister</td>\n",
       "      <td>GP-JxCAT</td>\n",
       "      <td>Grup Parlamentari de Junts per Catalunya</td>\n",
       "      <td>Coalition</td>\n",
       "      <td>Entre centredreta i dreta</td>\n",
       "      <td>BorràsLaura</td>\n",
       "      <td>Borràs i Castanyer, Laura</td>\n",
       "      <td>F</td>\n",
       "      <td>1970</td>\n",
       "    </tr>\n",
       "  </tbody>\n",
       "</table>\n",
       "<p>5 rows × 23 columns</p>\n",
       "</div>"
      ],
      "text/plain": [
       "                           Text_ID                                     ID  \\\n",
       "0  ParlaMint-ES-CT_2022-07-07-3502    ParlaMint-ES-CT_2022-07-07-3502.1.0   \n",
       "1  ParlaMint-ES-CT_2022-07-07-3502  ParlaMint-ES-CT_2022-07-07-3502.224.0   \n",
       "2  ParlaMint-ES-CT_2022-07-07-3502    ParlaMint-ES-CT_2022-07-07-3502.2.0   \n",
       "3  ParlaMint-ES-CT_2022-07-07-3502    ParlaMint-ES-CT_2022-07-07-3502.3.0   \n",
       "4  ParlaMint-ES-CT_2022-07-07-3502    ParlaMint-ES-CT_2022-07-07-3502.4.0   \n",
       "\n",
       "                                               Title        Date  \\\n",
       "0  Corpus Parlamentari en català ParlaMint-ES-CT,...  2022-07-07   \n",
       "1  Corpus Parlamentari en català ParlaMint-ES-CT,...  2022-07-07   \n",
       "2  Corpus Parlamentari en català ParlaMint-ES-CT,...  2022-07-07   \n",
       "3  Corpus Parlamentari en català ParlaMint-ES-CT,...  2022-07-07   \n",
       "4  Corpus Parlamentari en català ParlaMint-ES-CT,...  2022-07-07   \n",
       "\n",
       "             Body             Term Session  Meeting  Sitting Agenda  ...  \\\n",
       "0  Unicameralisme  XIV Legislatura       -       35        2      -  ...   \n",
       "1  Unicameralisme  XIV Legislatura       -       35        2      -  ...   \n",
       "2  Unicameralisme  XIV Legislatura       -       35        2      -  ...   \n",
       "3  Unicameralisme  XIV Legislatura       -       35        2      -  ...   \n",
       "4  Unicameralisme  XIV Legislatura       -       35        2      -  ...   \n",
       "\n",
       "  Speaker_MP Speaker_minister Speaker_party  \\\n",
       "0      notMP      notMinister      GP-JxCAT   \n",
       "1         MP      notMinister        GP-ERC   \n",
       "2      notMP      notMinister      GP-JxCAT   \n",
       "3      notMP         Minister           ERC   \n",
       "4      notMP      notMinister      GP-JxCAT   \n",
       "\n",
       "                                  Speaker_party_name Party_status  \\\n",
       "0           Grup Parlamentari de Junts per Catalunya    Coalition   \n",
       "1  Grup Parlamentari Esquerra Republicana de Cata...    Coalition   \n",
       "2           Grup Parlamentari de Junts per Catalunya    Coalition   \n",
       "3                  Esquerra Republicana de Catalunya            -   \n",
       "4           Grup Parlamentari de Junts per Catalunya    Coalition   \n",
       "\n",
       "                 Party_orientation    Speaker_ID               Speaker_name  \\\n",
       "0        Entre centredreta i dreta   BorràsLaura  Borràs i Castanyer, Laura   \n",
       "1  Entre centreesquerra i esquerra  VilaltaMarta    Vilalta i Torres, Marta   \n",
       "2        Entre centredreta i dreta   BorràsLaura  Borràs i Castanyer, Laura   \n",
       "3  Entre centreesquerra i esquerra  VilagràLaura        Vilagrà Pons, Laura   \n",
       "4        Entre centredreta i dreta   BorràsLaura  Borràs i Castanyer, Laura   \n",
       "\n",
       "  Speaker_gender Speaker_birth  \n",
       "0              F          1970  \n",
       "1              F          1984  \n",
       "2              F          1970  \n",
       "3              F          1976  \n",
       "4              F          1970  \n",
       "\n",
       "[5 rows x 23 columns]"
      ]
     },
     "execution_count": 16,
     "metadata": {},
     "output_type": "execute_result"
    }
   ],
   "source": [
    "#ParlaMint part 1 - Metadata/tsv\n",
    "import glob\n",
    "\n",
    "# defining the path where ParlaMint data is stored\n",
    "data_path = \"data/ParlaMint-ES-CT.ana/ParlaMint-ES-CT.txt\"  # Adjust to your directory\n",
    "\n",
    "# loading all metadata/.tsv files\n",
    "metadata_files = glob.glob(os.path.join(data_path, \"**\", \"*-meta.tsv\"))\n",
    "\n",
    "# reading in and concatenating all metadata files\n",
    "metadata = []\n",
    "for file in metadata_files:\n",
    "    meta_df = pd.read_csv(file, sep=\"\\t\", index_col = False)\n",
    "    metadata.append(meta_df)\n",
    "\n",
    "metadata_df = pd.concat(metadata)\n",
    "\n",
    "# taking a quick look at the metadata dataframe\n",
    "metadata_df.head()"
   ]
  },
  {
   "cell_type": "code",
   "execution_count": 17,
   "id": "0c51f6c9-1736-4dbd-8ae0-c68c0a28fb5c",
   "metadata": {},
   "outputs": [
    {
     "data": {
      "text/html": [
       "<div>\n",
       "<style scoped>\n",
       "    .dataframe tbody tr th:only-of-type {\n",
       "        vertical-align: middle;\n",
       "    }\n",
       "\n",
       "    .dataframe tbody tr th {\n",
       "        vertical-align: top;\n",
       "    }\n",
       "\n",
       "    .dataframe thead th {\n",
       "        text-align: right;\n",
       "    }\n",
       "</style>\n",
       "<table border=\"1\" class=\"dataframe\">\n",
       "  <thead>\n",
       "    <tr style=\"text-align: right;\">\n",
       "      <th></th>\n",
       "      <th>ID</th>\n",
       "      <th>Text</th>\n",
       "    </tr>\n",
       "  </thead>\n",
       "  <tbody>\n",
       "    <tr>\n",
       "      <th>126</th>\n",
       "      <td>ParlaMint-ES-CT_2016-06-09-1802.127.0</td>\n",
       "      <td>Moltes gràcies, senyor Fernández. A continuaci...</td>\n",
       "    </tr>\n",
       "    <tr>\n",
       "      <th>127</th>\n",
       "      <td>ParlaMint-ES-CT_2016-06-09-1802.128.0</td>\n",
       "      <td>Gràcies, presidenta. Bon dia. Des de la CUP, e...</td>\n",
       "    </tr>\n",
       "    <tr>\n",
       "      <th>128</th>\n",
       "      <td>ParlaMint-ES-CT_2016-06-09-1802.129.0</td>\n",
       "      <td>Moltes gràcies, senyora Vehí. A continuació, t...</td>\n",
       "    </tr>\n",
       "    <tr>\n",
       "      <th>129</th>\n",
       "      <td>ParlaMint-ES-CT_2016-06-09-1802.130.0</td>\n",
       "      <td>Gràcies, presidenta. Vicepresident, consellera...</td>\n",
       "    </tr>\n",
       "    <tr>\n",
       "      <th>130</th>\n",
       "      <td>ParlaMint-ES-CT_2016-06-09-1802.131.0</td>\n",
       "      <td>Moltes gràcies, senyor Bonvehí. Acabat el deba...</td>\n",
       "    </tr>\n",
       "  </tbody>\n",
       "</table>\n",
       "</div>"
      ],
      "text/plain": [
       "                                        ID  \\\n",
       "126  ParlaMint-ES-CT_2016-06-09-1802.127.0   \n",
       "127  ParlaMint-ES-CT_2016-06-09-1802.128.0   \n",
       "128  ParlaMint-ES-CT_2016-06-09-1802.129.0   \n",
       "129  ParlaMint-ES-CT_2016-06-09-1802.130.0   \n",
       "130  ParlaMint-ES-CT_2016-06-09-1802.131.0   \n",
       "\n",
       "                                                  Text  \n",
       "126  Moltes gràcies, senyor Fernández. A continuaci...  \n",
       "127  Gràcies, presidenta. Bon dia. Des de la CUP, e...  \n",
       "128  Moltes gràcies, senyora Vehí. A continuació, t...  \n",
       "129  Gràcies, presidenta. Vicepresident, consellera...  \n",
       "130  Moltes gràcies, senyor Bonvehí. Acabat el deba...  "
      ]
     },
     "execution_count": 17,
     "metadata": {},
     "output_type": "execute_result"
    }
   ],
   "source": [
    "#ParlaMint part 2 - txt/content\n",
    "\n",
    "# loading all text files\n",
    "text_files = glob.glob(os.path.join(data_path, \"**\", \"*.txt\"), recursive=True)\n",
    "\n",
    "# reading in and concatenating all text files\n",
    "text_list = []\n",
    "for file in text_files:\n",
    "    if \"README\" not in file: # avoiding the README.txt getting mixed up with our data\n",
    "        text_df = pd.read_csv(file, sep=\"\\t\", header = None)\n",
    "        text_list.append(text_df)\n",
    "\n",
    "text_df = pd.concat(text_list)\n",
    "\n",
    "# giving name columns ID and Text to the dataframe columns\n",
    "text_df = text_df.rename(columns ={0: \"ID\", 1:\"Text\"})\n",
    "\n",
    "# taking a quick look at the txt files dataframe\n",
    "text_df.tail()"
   ]
  },
  {
   "cell_type": "code",
   "execution_count": 18,
   "id": "3a8fc2e4-d80d-432f-9d4c-b8d592ab6905",
   "metadata": {},
   "outputs": [
    {
     "name": "stdout",
     "output_type": "stream",
     "text": [
      "The metadata data frame has the following dimensions: (50824, 23)\n",
      "The text data frame has the following dimensions: (50824, 2)\n"
     ]
    }
   ],
   "source": [
    "# let's compare the two data frames text and metadata to see if we can merge them\n",
    "print(\"The metadata data frame has the following dimensions:\", metadata_df.shape)\n",
    "print(\"The text data frame has the following dimensions:\", text_df.shape)"
   ]
  },
  {
   "cell_type": "code",
   "execution_count": 19,
   "id": "c6fe48ae-1449-4cf0-b2b7-d403d41e7eb3",
   "metadata": {},
   "outputs": [],
   "source": [
    "# the number of rows matches which is a great sign that no data was left behind in the creation of the data frame\n",
    "# it lets us know that we can merge it by using the file IDs"
   ]
  },
  {
   "cell_type": "code",
   "execution_count": 20,
   "id": "c2b60d38-3d2f-4bc8-a298-13921f9c36bb",
   "metadata": {},
   "outputs": [],
   "source": [
    "# merging with ID as index\n",
    "parlaMint_df = metadata_df.merge(text_df, on=\"ID\", how=\"outer\")"
   ]
  },
  {
   "cell_type": "code",
   "execution_count": 21,
   "id": "1bcdf7c9-ab0c-4c65-8f96-145bf75e4063",
   "metadata": {},
   "outputs": [
    {
     "data": {
      "text/html": [
       "<div>\n",
       "<style scoped>\n",
       "    .dataframe tbody tr th:only-of-type {\n",
       "        vertical-align: middle;\n",
       "    }\n",
       "\n",
       "    .dataframe tbody tr th {\n",
       "        vertical-align: top;\n",
       "    }\n",
       "\n",
       "    .dataframe thead th {\n",
       "        text-align: right;\n",
       "    }\n",
       "</style>\n",
       "<table border=\"1\" class=\"dataframe\">\n",
       "  <thead>\n",
       "    <tr style=\"text-align: right;\">\n",
       "      <th></th>\n",
       "      <th>Text_ID</th>\n",
       "      <th>ID</th>\n",
       "      <th>Title</th>\n",
       "      <th>Date</th>\n",
       "      <th>Body</th>\n",
       "      <th>Term</th>\n",
       "      <th>Session</th>\n",
       "      <th>Meeting</th>\n",
       "      <th>Sitting</th>\n",
       "      <th>Agenda</th>\n",
       "      <th>...</th>\n",
       "      <th>Speaker_minister</th>\n",
       "      <th>Speaker_party</th>\n",
       "      <th>Speaker_party_name</th>\n",
       "      <th>Party_status</th>\n",
       "      <th>Party_orientation</th>\n",
       "      <th>Speaker_ID</th>\n",
       "      <th>Speaker_name</th>\n",
       "      <th>Speaker_gender</th>\n",
       "      <th>Speaker_birth</th>\n",
       "      <th>Text</th>\n",
       "    </tr>\n",
       "  </thead>\n",
       "  <tbody>\n",
       "    <tr>\n",
       "      <th>50819</th>\n",
       "      <td>ParlaMint-ES-CT_2022-07-21-3602</td>\n",
       "      <td>ParlaMint-ES-CT_2022-07-21-3602.95.0</td>\n",
       "      <td>Corpus Parlamentari en català ParlaMint-ES-CT,...</td>\n",
       "      <td>2022-07-21</td>\n",
       "      <td>Unicameralisme</td>\n",
       "      <td>XIV Legislatura</td>\n",
       "      <td>-</td>\n",
       "      <td>36</td>\n",
       "      <td>2</td>\n",
       "      <td>-</td>\n",
       "      <td>...</td>\n",
       "      <td>notMinister</td>\n",
       "      <td>GP-JxCAT</td>\n",
       "      <td>Grup Parlamentari de Junts per Catalunya</td>\n",
       "      <td>Coalition</td>\n",
       "      <td>Entre centredreta i dreta</td>\n",
       "      <td>BorràsLaura</td>\n",
       "      <td>Borràs i Castanyer, Laura</td>\n",
       "      <td>F</td>\n",
       "      <td>1970</td>\n",
       "      <td>I, finalment, en nom del Grup Mixt, té la para...</td>\n",
       "    </tr>\n",
       "    <tr>\n",
       "      <th>50820</th>\n",
       "      <td>ParlaMint-ES-CT_2022-07-21-3602</td>\n",
       "      <td>ParlaMint-ES-CT_2022-07-21-3602.96.0</td>\n",
       "      <td>Corpus Parlamentari en català ParlaMint-ES-CT,...</td>\n",
       "      <td>2022-07-21</td>\n",
       "      <td>Unicameralisme</td>\n",
       "      <td>XIV Legislatura</td>\n",
       "      <td>-</td>\n",
       "      <td>36</td>\n",
       "      <td>2</td>\n",
       "      <td>-</td>\n",
       "      <td>...</td>\n",
       "      <td>notMinister</td>\n",
       "      <td>GP-GM</td>\n",
       "      <td>Grup Mixt</td>\n",
       "      <td>-</td>\n",
       "      <td>Entre centredreta i dreta</td>\n",
       "      <td>FernándezAlejandro</td>\n",
       "      <td>Fernández Álvarez, Alejandro</td>\n",
       "      <td>M</td>\n",
       "      <td>1976</td>\n",
       "      <td>Gràcies, presidenta. Quan es parla del litoral...</td>\n",
       "    </tr>\n",
       "    <tr>\n",
       "      <th>50821</th>\n",
       "      <td>ParlaMint-ES-CT_2022-07-21-3602</td>\n",
       "      <td>ParlaMint-ES-CT_2022-07-21-3602.97.0</td>\n",
       "      <td>Corpus Parlamentari en català ParlaMint-ES-CT,...</td>\n",
       "      <td>2022-07-21</td>\n",
       "      <td>Unicameralisme</td>\n",
       "      <td>XIV Legislatura</td>\n",
       "      <td>-</td>\n",
       "      <td>36</td>\n",
       "      <td>2</td>\n",
       "      <td>-</td>\n",
       "      <td>...</td>\n",
       "      <td>notMinister</td>\n",
       "      <td>GP-JxCAT</td>\n",
       "      <td>Grup Parlamentari de Junts per Catalunya</td>\n",
       "      <td>Coalition</td>\n",
       "      <td>Entre centredreta i dreta</td>\n",
       "      <td>BorràsLaura</td>\n",
       "      <td>Borràs i Castanyer, Laura</td>\n",
       "      <td>F</td>\n",
       "      <td>1970</td>\n",
       "      <td>Moltes gràcies. Finalment, per pronunciar-se s...</td>\n",
       "    </tr>\n",
       "    <tr>\n",
       "      <th>50822</th>\n",
       "      <td>ParlaMint-ES-CT_2022-07-21-3602</td>\n",
       "      <td>ParlaMint-ES-CT_2022-07-21-3602.98.0</td>\n",
       "      <td>Corpus Parlamentari en català ParlaMint-ES-CT,...</td>\n",
       "      <td>2022-07-21</td>\n",
       "      <td>Unicameralisme</td>\n",
       "      <td>XIV Legislatura</td>\n",
       "      <td>-</td>\n",
       "      <td>36</td>\n",
       "      <td>2</td>\n",
       "      <td>-</td>\n",
       "      <td>...</td>\n",
       "      <td>notMinister</td>\n",
       "      <td>GP-CUP</td>\n",
       "      <td>Grup Parlamentari de la Candidatura d'Unitat P...</td>\n",
       "      <td>Opposition</td>\n",
       "      <td>Entre esquerra i extrema esquerra</td>\n",
       "      <td>CornellàDani</td>\n",
       "      <td>Cornellà Detrell, Dani</td>\n",
       "      <td>M</td>\n",
       "      <td>1978</td>\n",
       "      <td>Bé, gràcies. Primer de tot, faré una esmena in...</td>\n",
       "    </tr>\n",
       "    <tr>\n",
       "      <th>50823</th>\n",
       "      <td>ParlaMint-ES-CT_2022-07-21-3602</td>\n",
       "      <td>ParlaMint-ES-CT_2022-07-21-3602.99.0</td>\n",
       "      <td>Corpus Parlamentari en català ParlaMint-ES-CT,...</td>\n",
       "      <td>2022-07-21</td>\n",
       "      <td>Unicameralisme</td>\n",
       "      <td>XIV Legislatura</td>\n",
       "      <td>-</td>\n",
       "      <td>36</td>\n",
       "      <td>2</td>\n",
       "      <td>-</td>\n",
       "      <td>...</td>\n",
       "      <td>notMinister</td>\n",
       "      <td>GP-JxCAT</td>\n",
       "      <td>Grup Parlamentari de Junts per Catalunya</td>\n",
       "      <td>Coalition</td>\n",
       "      <td>Entre centredreta i dreta</td>\n",
       "      <td>BorràsLaura</td>\n",
       "      <td>Borràs i Castanyer, Laura</td>\n",
       "      <td>F</td>\n",
       "      <td>1970</td>\n",
       "      <td>Un moment, diputat. Silenci, si us plau. Deman...</td>\n",
       "    </tr>\n",
       "  </tbody>\n",
       "</table>\n",
       "<p>5 rows × 24 columns</p>\n",
       "</div>"
      ],
      "text/plain": [
       "                               Text_ID                                    ID  \\\n",
       "50819  ParlaMint-ES-CT_2022-07-21-3602  ParlaMint-ES-CT_2022-07-21-3602.95.0   \n",
       "50820  ParlaMint-ES-CT_2022-07-21-3602  ParlaMint-ES-CT_2022-07-21-3602.96.0   \n",
       "50821  ParlaMint-ES-CT_2022-07-21-3602  ParlaMint-ES-CT_2022-07-21-3602.97.0   \n",
       "50822  ParlaMint-ES-CT_2022-07-21-3602  ParlaMint-ES-CT_2022-07-21-3602.98.0   \n",
       "50823  ParlaMint-ES-CT_2022-07-21-3602  ParlaMint-ES-CT_2022-07-21-3602.99.0   \n",
       "\n",
       "                                                   Title        Date  \\\n",
       "50819  Corpus Parlamentari en català ParlaMint-ES-CT,...  2022-07-21   \n",
       "50820  Corpus Parlamentari en català ParlaMint-ES-CT,...  2022-07-21   \n",
       "50821  Corpus Parlamentari en català ParlaMint-ES-CT,...  2022-07-21   \n",
       "50822  Corpus Parlamentari en català ParlaMint-ES-CT,...  2022-07-21   \n",
       "50823  Corpus Parlamentari en català ParlaMint-ES-CT,...  2022-07-21   \n",
       "\n",
       "                 Body             Term Session  Meeting  Sitting Agenda  ...  \\\n",
       "50819  Unicameralisme  XIV Legislatura       -       36        2      -  ...   \n",
       "50820  Unicameralisme  XIV Legislatura       -       36        2      -  ...   \n",
       "50821  Unicameralisme  XIV Legislatura       -       36        2      -  ...   \n",
       "50822  Unicameralisme  XIV Legislatura       -       36        2      -  ...   \n",
       "50823  Unicameralisme  XIV Legislatura       -       36        2      -  ...   \n",
       "\n",
       "      Speaker_minister Speaker_party  \\\n",
       "50819      notMinister      GP-JxCAT   \n",
       "50820      notMinister         GP-GM   \n",
       "50821      notMinister      GP-JxCAT   \n",
       "50822      notMinister        GP-CUP   \n",
       "50823      notMinister      GP-JxCAT   \n",
       "\n",
       "                                      Speaker_party_name Party_status  \\\n",
       "50819           Grup Parlamentari de Junts per Catalunya    Coalition   \n",
       "50820                                          Grup Mixt            -   \n",
       "50821           Grup Parlamentari de Junts per Catalunya    Coalition   \n",
       "50822  Grup Parlamentari de la Candidatura d'Unitat P...   Opposition   \n",
       "50823           Grup Parlamentari de Junts per Catalunya    Coalition   \n",
       "\n",
       "                       Party_orientation          Speaker_ID  \\\n",
       "50819          Entre centredreta i dreta         BorràsLaura   \n",
       "50820          Entre centredreta i dreta  FernándezAlejandro   \n",
       "50821          Entre centredreta i dreta         BorràsLaura   \n",
       "50822  Entre esquerra i extrema esquerra        CornellàDani   \n",
       "50823          Entre centredreta i dreta         BorràsLaura   \n",
       "\n",
       "                       Speaker_name Speaker_gender Speaker_birth  \\\n",
       "50819     Borràs i Castanyer, Laura              F          1970   \n",
       "50820  Fernández Álvarez, Alejandro              M          1976   \n",
       "50821     Borràs i Castanyer, Laura              F          1970   \n",
       "50822        Cornellà Detrell, Dani              M          1978   \n",
       "50823     Borràs i Castanyer, Laura              F          1970   \n",
       "\n",
       "                                                    Text  \n",
       "50819  I, finalment, en nom del Grup Mixt, té la para...  \n",
       "50820  Gràcies, presidenta. Quan es parla del litoral...  \n",
       "50821  Moltes gràcies. Finalment, per pronunciar-se s...  \n",
       "50822  Bé, gràcies. Primer de tot, faré una esmena in...  \n",
       "50823  Un moment, diputat. Silenci, si us plau. Deman...  \n",
       "\n",
       "[5 rows x 24 columns]"
      ]
     },
     "execution_count": 21,
     "metadata": {},
     "output_type": "execute_result"
    }
   ],
   "source": [
    "# taking a quick look at the ParlaMint dataframe\n",
    "parlaMint_df.tail()"
   ]
  },
  {
   "cell_type": "code",
   "execution_count": 22,
   "id": "56888df5-6771-4af5-ba54-382bed0c5e6d",
   "metadata": {},
   "outputs": [
    {
     "name": "stdout",
     "output_type": "stream",
     "text": [
      "Both the metadata and text dataframes had the following dimensions: (50824, 23)\n",
      "The merged data frame has the following dimensions: (50824, 24)\n"
     ]
    }
   ],
   "source": [
    "# re-checking dimensions\n",
    "print(\"Both the metadata and text dataframes had the following dimensions:\", metadata_df.shape)\n",
    "print(\"The merged data frame has the following dimensions:\", parlaMint_df.shape)"
   ]
  },
  {
   "cell_type": "markdown",
   "id": "d0836a6f-35a8-4acd-8b75-309801cbdaec",
   "metadata": {},
   "source": [
    "**Comment:**\\\n",
    "The dimensions are correct.\\\n",
    "There is the same number of rows and the text column has been added to the 23 columns that the metadata dataframe had before."
   ]
  },
  {
   "cell_type": "code",
   "execution_count": 23,
   "id": "e90ba047-b0e2-4f42-bbb5-74abc5e4ae2c",
   "metadata": {},
   "outputs": [
    {
     "name": "stdout",
     "output_type": "stream",
     "text": [
      "--- EDA ParlaMint ---\n",
      "The dataframe has: 50824 rows 24 columns \n",
      "\n",
      "Dataframe's info is:\n",
      "<class 'pandas.core.frame.DataFrame'>\n",
      "RangeIndex: 50824 entries, 0 to 50823\n",
      "Data columns (total 24 columns):\n",
      " #   Column              Non-Null Count  Dtype \n",
      "---  ------              --------------  ----- \n",
      " 0   Text_ID             50824 non-null  object\n",
      " 1   ID                  50824 non-null  object\n",
      " 2   Title               50824 non-null  object\n",
      " 3   Date                50824 non-null  object\n",
      " 4   Body                50824 non-null  object\n",
      " 5   Term                50824 non-null  object\n",
      " 6   Session             50824 non-null  object\n",
      " 7   Meeting             50824 non-null  int64 \n",
      " 8   Sitting             50824 non-null  int64 \n",
      " 9   Agenda              50824 non-null  object\n",
      " 10  Subcorpus           50824 non-null  object\n",
      " 11  Lang                50824 non-null  object\n",
      " 12  Speaker_role        50824 non-null  object\n",
      " 13  Speaker_MP          50824 non-null  object\n",
      " 14  Speaker_minister    50824 non-null  object\n",
      " 15  Speaker_party       50824 non-null  object\n",
      " 16  Speaker_party_name  50824 non-null  object\n",
      " 17  Party_status        50824 non-null  object\n",
      " 18  Party_orientation   50824 non-null  object\n",
      " 19  Speaker_ID          50824 non-null  object\n",
      " 20  Speaker_name        50824 non-null  object\n",
      " 21  Speaker_gender      50824 non-null  object\n",
      " 22  Speaker_birth       50824 non-null  int64 \n",
      " 23  Text                50824 non-null  object\n",
      "dtypes: int64(3), object(21)\n",
      "memory usage: 9.3+ MB\n",
      "None \n",
      "\n",
      "The Dataframe's 24 columns are: \n",
      " Index(['Text_ID', 'ID', 'Title', 'Date', 'Body', 'Term', 'Session', 'Meeting',\n",
      "       'Sitting', 'Agenda', 'Subcorpus', 'Lang', 'Speaker_role', 'Speaker_MP',\n",
      "       'Speaker_minister', 'Speaker_party', 'Speaker_party_name',\n",
      "       'Party_status', 'Party_orientation', 'Speaker_ID', 'Speaker_name',\n",
      "       'Speaker_gender', 'Speaker_birth', 'Text'],\n",
      "      dtype='object') \n",
      "\n",
      "The total length of the Dataframe excluding the metadata is: \n",
      " 93652958 \n",
      "\n",
      "The data ranges from 2015-10-26 to 2022-07-21 \n",
      "\n",
      "The description of the dataframe is: \n",
      "             Meeting       Sitting  Speaker_birth       Text_len\n",
      "count  50824.000000  50824.000000   50824.000000   50824.000000\n",
      "mean      29.907347      1.724835    1970.159728    1842.691602\n",
      "std       15.522619      0.744640      10.247445    3554.248363\n",
      "min        1.000000      1.000000    1905.000000       2.000000\n",
      "25%       19.000000      1.000000    1962.000000      78.000000\n",
      "50%       28.000000      2.000000    1973.000000     186.000000\n",
      "75%       38.000000      2.000000    1979.000000    2277.250000\n",
      "max       68.000000      5.000000    1996.000000  119598.000000 \n",
      " \n",
      "\n"
     ]
    },
    {
     "data": {
      "image/png": "[encoded data removed]",
      "text/plain": [
       "<Figure size 1200x200 with 1 Axes>"
      ]
     },
     "metadata": {},
     "output_type": "display_data"
    }
   ],
   "source": [
    "generalEDA(parlaMint_df, \"ParlaMint\")"
   ]
  },
  {
   "cell_type": "code",
   "execution_count": 24,
   "id": "20ead7cf-a0f8-461c-bf18-04748c9ee037",
   "metadata": {},
   "outputs": [
    {
     "name": "stdout",
     "output_type": "stream",
     "text": [
      "\n",
      "Speaker_gender\n",
      "M    27950\n",
      "F    22874\n",
      "Name: count, dtype: int64\n",
      "\n",
      "The total of speakers is: 348\n",
      "\n",
      "The transcription count by speaker is: \n",
      " Speaker_name\n",
      "Torrent i Ramió, Roger            10173\n",
      "Forcadell i Lluís, Carme           8109\n",
      "Borràs i Castanyer, Laura          4926\n",
      "Costa i Rosselló, Josep            1390\n",
      "Gallego i Herrera, Joan Carles     1079\n",
      "Carrizosa Torres, Carlos            977\n",
      "Rodríguez i Serra, Santi            626\n",
      "Aragonès i Garcia, Pere             616\n",
      "Fernández Álvarez, Alejandro        547\n",
      "Torra i Pla, Joaquim                531\n",
      "Name: count, dtype: int64\n",
      "\n",
      "Percentage of the data spoken/recorded from the most frequent speaker on the corpora: 20.02%\n",
      "\n",
      "Year count sorted by year: \n",
      " {'2015': 194, '2016': 7955, '2017': 8055, '2018': 5659, '2019': 10059, '2020': 7304, '2021': 5726, '2022': 5872} \n",
      "\n",
      "Year count sorted by transcriptions count: \n",
      " [('2019', 10059), ('2017', 8055), ('2016', 7955), ('2020', 7304), ('2022', 5872), ('2021', 5726), ('2018', 5659), ('2015', 194)]\n",
      "\n",
      "Torrent i Ramió, Roger - 3145229\n",
      "Aragonès i Garcia, Pere - 2373671\n",
      "Torra i Pla, Joaquim - 1752425\n",
      "Forcadell i Lluís, Carme - 1731761\n",
      "Romero Llano, Alícia - 1712075\n",
      "\n",
      "\n",
      "Percentage of the data spoken/recorded from the most frequent speaker on the corpora in characters: 3.36%\n"
     ]
    }
   ],
   "source": [
    "# dataframe-specific EDA\n",
    "print()\n",
    "print(parlaMint_df[\"Speaker_gender\"].value_counts())\n",
    "print()\n",
    "print(\"The total of speakers is:\", len(set(parlaMint_df[\"Speaker_name\"].values)))\n",
    "print()\n",
    "print(\"The transcription count by speaker is:\", \"\\n\", parlaMint_df[\"Speaker_name\"].value_counts()[:10])\n",
    "print()\n",
    "percentage = (100 * parlaMint_df[\"Speaker_name\"].value_counts().iloc[0]) / parlaMint_df.shape[0]\n",
    "print(\"Percentage of the data spoken/recorded from the most frequent speaker on the corpora:\", f\"{percentage:.2f}%\")\n",
    "print()\n",
    "\n",
    "# dictionary to store count per year, with year as key\n",
    "year_count = {}\n",
    "\n",
    "# setting date as the index of the dataframe\n",
    "parlaMint_df = parlaMint_df.set_index(\"Date\")\n",
    "\n",
    "# iterating over the rows \n",
    "for date, row in parlaMint_df.iterrows():\n",
    "    date = date[0:4]\n",
    "    if date not in year_count:\n",
    "        year_count[date] = 1  # adding year key to year_count\n",
    "    else:\n",
    "        year_count[date] += 1 # adding count to the year_count year\n",
    "\n",
    "print(\"Year count sorted by year:\", \"\\n\", year_count, \"\\n\")\n",
    "year_count = sorted(year_count.items(), key=lambda x: x[1], reverse = True)\n",
    "print(\"Year count sorted by transcriptions count:\", \"\\n\", year_count)\n",
    "print()\n",
    "\n",
    "parlaMint_df = parlaMint_df.reset_index() # reseting parlaMint index, so Date is not index anymore\n",
    "\n",
    "#-----------------------------------------------------------------------------\n",
    "speaker_toks = {}\n",
    "\n",
    "# setting speaker as the index of the dataframe\n",
    "parlaMint_df = parlaMint_df.set_index(\"Speaker_name\")\n",
    "\n",
    "# iterating over the rows \n",
    "for speaker, row in parlaMint_df.iterrows():\n",
    "    if speaker not in speaker_toks:\n",
    "        speaker_toks[speaker] = row[\"Text_len\"]  # initializing author's length total\n",
    "    else:\n",
    "        speaker_toks[speaker] += row[\"Text_len\"] # accumulating length to already present author\n",
    "\n",
    "parlaMint_df = parlaMint_df.reset_index() # reseting parlaMint index, so Speaker_name is not index anymore\n",
    "\n",
    "sorted_speaker_toks = sorted(speaker_toks.items(), key=lambda x: x[1], reverse = True)\n",
    "top5_speaker_toks = sorted_speaker_toks[:5]\n",
    "for item in top5_speaker_toks:\n",
    "    speaker = item[0]\n",
    "    print(speaker, \"-\", speaker_toks[speaker])\n",
    "\n",
    "print()\n",
    "percentage = (100 * speaker_toks[top5_speaker_toks[0][0]]) / parlaMint_df[\"Text_len\"].sum()\n",
    "\n",
    "print()\n",
    "print(\"Percentage of the data spoken/recorded from the most frequent speaker on the corpora in characters:\", f\"{percentage:.2f}%\")"
   ]
  },
  {
   "cell_type": "markdown",
   "id": "c27ff4de-0b17-4e29-8af5-921491506523",
   "metadata": {},
   "source": [
    "**Exploratory Analysis Summary:**\\\n",
    "After parsing the data and turining it into a pandas data frame, the ParlaMint data frame has 24 columns.\\\n",
    "Out of the 24, twenty-three of the columns correspond to the metadata, all extracted from the tsv files. Some examples are the text ID, the role of the speaker, their gender, their year of birth and Language they speak in (relevant when comparing the different languages in the ParlaMint corpora).\\\n",
    "The last column, the 25th is the content/text, the transcription of the plenary session which as been extracted from the txt files and included in the dataframe previously.\\\n",
    "The oldest work from the ParlaMint copora is from October 2015, and the most recent from September 2022.\\\n",
    "The total length, and hence the amount of data we have in total from the ParlaMint corpora is about 90,000,000 characters.\\\n",
    "These come from different length texts, as we find that the shortest contributes to the total with 2 word characters, and the longest with about 100,000 characters.\\\n",
    "The average length of the 50824 transcriptions is about 1800 characters per text.\\\n",
    "The corpora give us information about Catalan through a span of 7 years. All of the seven years are represented in the corpora. However, while in 2019 over 10,000 transcriptions were recorded, in 2015 not even 200 were recorded. That is the exception, however, as the rest of the years, from 2016 to 2019, all are represented with over 5,000 transcriptions.\\\n",
    "Fortunately, the Parlament Parla corpora, previously loaded, contains data from 2007 to 2015 which will make up for this difference.\\\n",
    "The speaker's gender is evenly represented in the corpora, as we find around 2,500 transcriptons for both female and male speakers.\\\n",
    "There speech is from about 350 speakers which allows us to assume our data is not speaker-specific. However, we do note that the most frequent speaker in the corpora contributes to a 20% of the data. Looking at that percentage, it seemed like it could be a problem, as the specific speaker's speech style could be changing our analysis. To be certain about whether most of the data was on their speech or not the percentage was calculated off characters. As a result we found that only 3.36% of the data recorded was said by the most frequent speaker on the data set, which allows us to conclude it shouldn't be an issue when analyzing the data and drawing conclusions."
   ]
  },
  {
   "cell_type": "code",
   "execution_count": 25,
   "id": "32d3db96-d37d-4130-a6aa-6f7a3478cb04",
   "metadata": {},
   "outputs": [],
   "source": [
    "# dropping any duplicates just in case\n",
    "parlaMint_df = parlaMint_df.drop_duplicates(subset=\"Text\", keep=\"first\")"
   ]
  },
  {
   "cell_type": "code",
   "execution_count": 26,
   "id": "41ce28c1-c3a6-4654-a236-fcb9f22178d9",
   "metadata": {},
   "outputs": [],
   "source": [
    "# storing ParlaMint dataframe as pickle\n",
    "parlaMint_df.to_pickle(\"parlaMint.pkl\")"
   ]
  },
  {
   "cell_type": "markdown",
   "id": "3a38d8b0-e196-493d-b842-8cf1043f3d02",
   "metadata": {},
   "source": [
    "### 2.4 Complete Radioteca.cat"
   ]
  },
  {
   "cell_type": "markdown",
   "id": "d9195062-6c02-4320-a67e-2f73fe5cea51",
   "metadata": {},
   "source": [
    "Radioteca is a web-based library so will scrape the transcription of the broadcasts using beautiful soup.\n",
    "The owner and creator of the library also provided a google sheets file containing the metadata, such as date aired, publisher, program name, title and URL. We will be using that data as well reading it in as a csv file. "
   ]
  },
  {
   "cell_type": "code",
   "execution_count": 27,
   "id": "a4087df5-e9e1-47dd-ae67-e0061c98761b",
   "metadata": {},
   "outputs": [],
   "source": [
    "from bs4 import BeautifulSoup\n",
    "import pandas as pd\n",
    "import numpy as np\n",
    "import re"
   ]
  },
  {
   "cell_type": "markdown",
   "id": "02a0c7a2-6030-4632-9763-598e270a788e",
   "metadata": {},
   "source": [
    "**About the scraping process**\\\n",
    "As radioteca contains a huge amount of data, scraping it on my personal computer was going to take about 16 hours. Therefore it was done using the University of Pittsburgh CRC supercomputing using the following slurm and python commented out cells. The files used in their respective format can be found on the [Scripts](https://github.com/Data-Science-for-Linguists-2025/Linguistic-Markers-Catalan-Substitution/tree/main/scripts) folder."
   ]
  },
  {
   "cell_type": "code",
   "execution_count": 28,
   "id": "f84772bd-14ea-4ca9-98be-1488b35a7d12",
   "metadata": {},
   "outputs": [],
   "source": [
    "# copy slurm here"
   ]
  },
  {
   "cell_type": "code",
   "execution_count": 29,
   "id": "fa49d89e-67de-44c7-916e-6f08a7d049c7",
   "metadata": {},
   "outputs": [],
   "source": [
    "# copy python code here"
   ]
  },
  {
   "cell_type": "markdown",
   "id": "72a000c7-93b8-4618-abfc-a73c91add445",
   "metadata": {},
   "source": [
    "**Comment:** Next we will read in the full radioteca scraped data and perform the exploratory data analysis on it to check the data we just obtained. "
   ]
  },
  {
   "cell_type": "code",
   "execution_count": 30,
   "id": "e4afb13b-e529-44cb-a382-1c9c8d0f9838",
   "metadata": {},
   "outputs": [],
   "source": [
    "full_radioteca = pd.read_pickle(\"radioteca_df.pkl\")"
   ]
  },
  {
   "cell_type": "code",
   "execution_count": 31,
   "id": "df7897eb-f296-4fb4-a95a-0ed674c95edd",
   "metadata": {},
   "outputs": [
    {
     "name": "stdout",
     "output_type": "stream",
     "text": [
      "<class 'pandas.core.frame.DataFrame'>\n",
      "RangeIndex: 29700188 entries, 0 to 29700187\n",
      "Data columns (total 10 columns):\n",
      " #   Column   Dtype         \n",
      "---  ------   -----         \n",
      " 0   Line_id  object        \n",
      " 1   Speaker  object        \n",
      " 2   Time     object        \n",
      " 3   Text     object        \n",
      " 4   Date     datetime64[ns]\n",
      " 5   Station  object        \n",
      " 6   Show     object        \n",
      " 7   Episode  object        \n",
      " 8   URL      object        \n",
      " 9   Year     float64       \n",
      "dtypes: datetime64[ns](1), float64(1), object(8)\n",
      "memory usage: 2.2+ GB\n"
     ]
    }
   ],
   "source": [
    "full_radioteca.info()"
   ]
  },
  {
   "cell_type": "code",
   "execution_count": 32,
   "id": "4b71e3d0-07fc-4e00-9e4d-79d131dceb97",
   "metadata": {},
   "outputs": [
    {
     "data": {
      "text/html": [
       "<div>\n",
       "<style scoped>\n",
       "    .dataframe tbody tr th:only-of-type {\n",
       "        vertical-align: middle;\n",
       "    }\n",
       "\n",
       "    .dataframe tbody tr th {\n",
       "        vertical-align: top;\n",
       "    }\n",
       "\n",
       "    .dataframe thead th {\n",
       "        text-align: right;\n",
       "    }\n",
       "</style>\n",
       "<table border=\"1\" class=\"dataframe\">\n",
       "  <thead>\n",
       "    <tr style=\"text-align: right;\">\n",
       "      <th></th>\n",
       "      <th>Date</th>\n",
       "      <th>Year</th>\n",
       "    </tr>\n",
       "  </thead>\n",
       "  <tbody>\n",
       "    <tr>\n",
       "      <th>count</th>\n",
       "      <td>29700188</td>\n",
       "      <td>2.970019e+07</td>\n",
       "    </tr>\n",
       "    <tr>\n",
       "      <th>mean</th>\n",
       "      <td>2019-10-25 07:27:14.983589632</td>\n",
       "      <td>2.019322e+03</td>\n",
       "    </tr>\n",
       "    <tr>\n",
       "      <th>min</th>\n",
       "      <td>1986-10-14 00:00:00</td>\n",
       "      <td>1.986000e+03</td>\n",
       "    </tr>\n",
       "    <tr>\n",
       "      <th>25%</th>\n",
       "      <td>2017-03-14 00:00:00</td>\n",
       "      <td>2.017000e+03</td>\n",
       "    </tr>\n",
       "    <tr>\n",
       "      <th>50%</th>\n",
       "      <td>2020-08-30 00:00:00</td>\n",
       "      <td>2.020000e+03</td>\n",
       "    </tr>\n",
       "    <tr>\n",
       "      <th>75%</th>\n",
       "      <td>2023-04-19 00:00:00</td>\n",
       "      <td>2.023000e+03</td>\n",
       "    </tr>\n",
       "    <tr>\n",
       "      <th>max</th>\n",
       "      <td>2025-03-09 00:00:00</td>\n",
       "      <td>2.025000e+03</td>\n",
       "    </tr>\n",
       "    <tr>\n",
       "      <th>std</th>\n",
       "      <td>NaN</td>\n",
       "      <td>4.115696e+00</td>\n",
       "    </tr>\n",
       "  </tbody>\n",
       "</table>\n",
       "</div>"
      ],
      "text/plain": [
       "                                Date          Year\n",
       "count                       29700188  2.970019e+07\n",
       "mean   2019-10-25 07:27:14.983589632  2.019322e+03\n",
       "min              1986-10-14 00:00:00  1.986000e+03\n",
       "25%              2017-03-14 00:00:00  2.017000e+03\n",
       "50%              2020-08-30 00:00:00  2.020000e+03\n",
       "75%              2023-04-19 00:00:00  2.023000e+03\n",
       "max              2025-03-09 00:00:00  2.025000e+03\n",
       "std                              NaN  4.115696e+00"
      ]
     },
     "execution_count": 32,
     "metadata": {},
     "output_type": "execute_result"
    }
   ],
   "source": [
    "full_radioteca.describe()"
   ]
  },
  {
   "cell_type": "code",
   "execution_count": 33,
   "id": "90ca7c4c-b3da-4cf0-bc15-e6a4e4277d91",
   "metadata": {},
   "outputs": [
    {
     "data": {
      "text/plain": [
       "(29700188, 10)"
      ]
     },
     "execution_count": 33,
     "metadata": {},
     "output_type": "execute_result"
    }
   ],
   "source": [
    "full_radioteca.shape"
   ]
  },
  {
   "cell_type": "code",
   "execution_count": 34,
   "id": "7d511128-9d0e-4c13-95fd-3f52ea8af08e",
   "metadata": {},
   "outputs": [],
   "source": [
    "full_radioteca[\"Date\"] = pd.to_datetime(full_radioteca[\"Date\"])\n",
    "full_radioteca[\"Year\"] = full_radioteca[\"Date\"].dt.year\n",
    "item =(full_radioteca[pd.isnull(full_radioteca[\"Date\"]) == True]).index"
   ]
  },
  {
   "cell_type": "code",
   "execution_count": 35,
   "id": "345ea3df-c7c0-474a-9b1d-b2a36b150116",
   "metadata": {},
   "outputs": [
    {
     "name": "stdout",
     "output_type": "stream",
     "text": [
      "--- EDA Radioteca.cat ---\n",
      "The dataframe has: 29700188 rows 10 columns \n",
      "\n",
      "Dataframe's info is:\n",
      "<class 'pandas.core.frame.DataFrame'>\n",
      "RangeIndex: 29700188 entries, 0 to 29700187\n",
      "Data columns (total 10 columns):\n",
      " #   Column   Dtype         \n",
      "---  ------   -----         \n",
      " 0   Line_id  object        \n",
      " 1   Speaker  object        \n",
      " 2   Time     object        \n",
      " 3   Text     object        \n",
      " 4   Date     datetime64[ns]\n",
      " 5   Station  object        \n",
      " 6   Show     object        \n",
      " 7   Episode  object        \n",
      " 8   URL      object        \n",
      " 9   Year     int32         \n",
      "dtypes: datetime64[ns](1), int32(1), object(8)\n",
      "memory usage: 2.1+ GB\n",
      "None \n",
      "\n",
      "The Dataframe's 10 columns are: \n",
      " Index(['Line_id', 'Speaker', 'Time', 'Text', 'Date', 'Station', 'Show',\n",
      "       'Episode', 'URL', 'Year'],\n",
      "      dtype='object') \n",
      "\n",
      "The total length of the Dataframe excluding the metadata is: \n",
      " 7861640073 \n",
      "\n",
      "The data ranges from 1986-10-14 00:00:00 to 2025-03-09 00:00:00 \n",
      "\n",
      "The data ranges from 1986 to 2025 \n",
      "\n",
      "The description of the dataframe is: \n",
      "                                 Date          Year      Text_len\n",
      "count                       29700188  2.970019e+07  2.970019e+07\n",
      "mean   2019-10-25 07:27:14.983589632  2.019322e+03  2.647000e+02\n",
      "min              1986-10-14 00:00:00  1.986000e+03  0.000000e+00\n",
      "25%              2017-03-14 00:00:00  2.017000e+03  5.300000e+01\n",
      "50%              2020-08-30 00:00:00  2.020000e+03  1.390000e+02\n",
      "75%              2023-04-19 00:00:00  2.023000e+03  3.230000e+02\n",
      "max              2025-03-09 00:00:00  2.025000e+03  1.016760e+05\n",
      "std                              NaN  4.115696e+00  3.911463e+02 \n",
      " \n",
      "\n"
     ]
    },
    {
     "data": {
      "image/png": "[encoded data removed]",
      "text/plain": [
       "<Figure size 1200x200 with 1 Axes>"
      ]
     },
     "metadata": {},
     "output_type": "display_data"
    }
   ],
   "source": [
    "import matplotlib.pyplot as plt\n",
    "generalEDA(full_radioteca, \"Radioteca.cat\")"
   ]
  },
  {
   "cell_type": "code",
   "execution_count": 36,
   "id": "d9cf43bb-d1f3-4f69-937c-cc16c0653b52",
   "metadata": {},
   "outputs": [
    {
     "name": "stdout",
     "output_type": "stream",
     "text": [
      "\n",
      "The total of different stations are: 286196\n",
      "\n",
      "The total of lines per station are: \n",
      " \n",
      " Station\n",
      "RAC1                    14812604\n",
      "Catalunya Ràdio         11187882\n",
      "iCat                     1590028\n",
      "Catalunya Música          898505\n",
      "RTVE                      498344\n",
      "Catalunya Informació      363000\n",
      "Cadena SER                 52514\n",
      "ara.cat                     8375\n",
      "Ràdio Capital               1428\n",
      "El Terrat                   1322\n",
      "Name: count, dtype: int64\n",
      "\n",
      "\n",
      "The maximum number of lines per speaker are: 82045\n",
      "The minimum number of lines per speaker are: 1\n",
      "\n",
      "\n",
      "The character count for the speaker contrbuting with the most amount of data is 58204492\n",
      "The character count for the speaker contrbuting with the least amount of data is 0\n",
      "\n",
      "Characters count per year sorted from most to least characters:\n"
     ]
    },
    {
     "data": {
      "text/plain": [
       "Year\n",
       "2024    1068399683\n",
       "2023     949832889\n",
       "2022     790129240\n",
       "2021     725422466\n",
       "2019     640352069\n",
       "2020     629083593\n",
       "2018     578445117\n",
       "2017     536274932\n",
       "2016     420482877\n",
       "2015     295827153\n",
       "2014     242552878\n",
       "2013     209595850\n",
       "2012     205231452\n",
       "2025     177366565\n",
       "2011     125742515\n",
       "2010      84233024\n",
       "2009      71170016\n",
       "2008      54696857\n",
       "2007      28760482\n",
       "2006      25492818\n",
       "2005        985438\n",
       "2002        434487\n",
       "2004        422663\n",
       "2001        236642\n",
       "2003        145238\n",
       "1999        115069\n",
       "1998         71712\n",
       "1995         67709\n",
       "1993         34391\n",
       "2000         10417\n",
       "1986          9812\n",
       "1987          4657\n",
       "1992          4089\n",
       "1990          3516\n",
       "1991          1155\n",
       "1994           602\n",
       "Name: Text_len, dtype: int64"
      ]
     },
     "execution_count": 36,
     "metadata": {},
     "output_type": "execute_result"
    }
   ],
   "source": [
    "# dataframe-specific EDA\n",
    "print()\n",
    "print(\"The total of different stations are:\", len(set(full_radioteca[\"Station\"].values)))\n",
    "print()\n",
    "print(\"The total of lines per station are:\", \"\\n\", \"\\n\", full_radioteca[\"Station\"].value_counts())\n",
    "print()\n",
    "radioteca_df_linesSpeaker = full_radioteca.groupby(\"Episode\")[\"Speaker\"].value_counts()\n",
    "#print(radioteca_df_linesSpeaker.head())\n",
    "print()\n",
    "print(\"The maximum number of lines per speaker are:\", full_radioteca.groupby(\"Episode\")[\"Speaker\"].value_counts().max())\n",
    "print(\"The minimum number of lines per speaker are:\", full_radioteca.groupby(\"Episode\")[\"Speaker\"].value_counts().min())\n",
    "print()\n",
    "show_grouped = full_radioteca.groupby([\"Episode\", \"Speaker\"])[\"Text_len\"].sum()\n",
    "#print(show_grouped.head())\n",
    "print()\n",
    "print(\"The character count for the speaker contrbuting with the most amount of data is\", show_grouped.max())\n",
    "print(\"The character count for the speaker contrbuting with the least amount of data is\", show_grouped.min())\n",
    "print()\n",
    "year_tokscount = full_radioteca.groupby(\"Year\")[\"Text_len\"].sum().sort_values(ascending=False)\n",
    "print(\"Characters count per year sorted from most to least characters:\")\n",
    "year_tokscount\n"
   ]
  },
  {
   "cell_type": "markdown",
   "id": "51f39680-3563-4e6c-87f3-aecbc7d1afc3",
   "metadata": {},
   "source": [
    "**Exploratory Analysis Summary:**\\\n",
    "The Radioteca library has been scraped and turned into a 10-column data frame along with the metadata from the CSV file. It is now all in a single data frame containing the Line_id, Speaker, Time, Text, Date, Station, Show, Episode, URL, and Year (extracted from the date for easier comparison and merging with other data frames).\\\n",
    "The oldest work from Radioteca is from 1986; the latest work we scraped from the web library is from 2025.\\\n",
    "The total length, and hence the amount of data we have in total from the Radioteca corpora, is over 7.8 billion characters long.\\\n",
    "These come from different-lengthed texts, as the shortest has zero characters, and the longest contributes about 101,000 characters.\\\n",
    "The average length of the almost 29 million contribution transcriptions is about 265 characters per text.\\\n",
    "\n",
    "The transcriptions give us information about Catalan through almost 25 years. However, not all years are represented, nor is their representation in the data amount the same. While the broadcasts for 2025 add up to over 1 billion characters, we only have barely over 600 characters for 1994. It seems like, overall, we have a lot more recent transcriptions, as we see the character amount increase remarkably from 2005 until 2025. \\\n",
    "The transcribed broadcasts are from shows from over 286,000 different stations, allowing for a less show-specific data frame. However, they don't all provide the same amount of data. RAC1 and Catalunya Radio are clearly the most transcribed in the Radioteca library. However, these are regional chains, so they shouldn't be genre or topic-specific. Nevertheless, it could affect our analysis due to social factors, such as the type of audience of this program. Still, I believe that is part of the nature of this project, as well as using real language data.\\\n",
    "As radio broadcasts can be from conversation-like to even monologues, not all speakers contribute equally. The minimum number of lines per speaker is 1. Still, a single speaker that accounts for the most lines contributes to over 82,000 lines. In terms of characters, that is zero characters for the minimum and over 58,000,000 for the maximum."
   ]
  },
  {
   "cell_type": "markdown",
   "id": "38f3e2a0-382a-4eae-ab4b-5e35b867dda4",
   "metadata": {},
   "source": [
    "**Comment:** Next we will remove any duplicate texts from the dataframe. And store them in a clean one. As the data set is huge and was impossible to drop the duplicates in one go from my personal computer, we will do it by years:"
   ]
  },
  {
   "cell_type": "code",
   "execution_count": 37,
   "id": "31786dc6-56b5-450f-9f4f-00f7a27b2590",
   "metadata": {},
   "outputs": [
    {
     "name": "stderr",
     "output_type": "stream",
     "text": [
      "100%|███████████████████████████████████████████| 36/36 [01:32<00:00,  2.58s/it]\n"
     ]
    }
   ],
   "source": [
    "from tqdm import tqdm \n",
    "years = set(full_radioteca[\"Year\"])\n",
    "clean_radioteca = []\n",
    "\n",
    "for y in tqdm(years):\n",
    "    cleaned = full_radioteca[full_radioteca[\"Year\"] == y].drop_duplicates(subset=\"Text\")\n",
    "    clean_radioteca.append(cleaned)\n",
    "\n",
    "full_radioteca_cleaned = pd.concat(clean_radioteca)"
   ]
  },
  {
   "cell_type": "code",
   "execution_count": 38,
   "id": "ca569f03-e747-4739-bdd9-f4b2bdd7237e",
   "metadata": {},
   "outputs": [
    {
     "data": {
      "text/plain": [
       "(29700188, 11)"
      ]
     },
     "execution_count": 38,
     "metadata": {},
     "output_type": "execute_result"
    }
   ],
   "source": [
    "full_radioteca.shape"
   ]
  },
  {
   "cell_type": "code",
   "execution_count": 39,
   "id": "15f97290-fc43-45f0-a6b8-b8c00ab9f77d",
   "metadata": {},
   "outputs": [
    {
     "data": {
      "text/plain": [
       "(25315930, 11)"
      ]
     },
     "execution_count": 39,
     "metadata": {},
     "output_type": "execute_result"
    }
   ],
   "source": [
    "full_radioteca_cleaned.shape"
   ]
  },
  {
   "cell_type": "code",
   "execution_count": 40,
   "id": "299a10ba-6360-46da-9b70-551fac5d410b",
   "metadata": {},
   "outputs": [
    {
     "name": "stdout",
     "output_type": "stream",
     "text": [
      "<class 'pandas.core.frame.DataFrame'>\n",
      "Index: 25315930 entries, 29700145 to 676059\n",
      "Data columns (total 11 columns):\n",
      " #   Column    Dtype         \n",
      "---  ------    -----         \n",
      " 0   Line_id   object        \n",
      " 1   Speaker   object        \n",
      " 2   Time      object        \n",
      " 3   Text      object        \n",
      " 4   Date      datetime64[ns]\n",
      " 5   Station   object        \n",
      " 6   Show      object        \n",
      " 7   Episode   object        \n",
      " 8   URL       object        \n",
      " 9   Year      int32         \n",
      " 10  Text_len  int64         \n",
      "dtypes: datetime64[ns](1), int32(1), int64(1), object(8)\n",
      "memory usage: 23.0 GB\n"
     ]
    }
   ],
   "source": [
    "full_radioteca_cleaned.info(memory_usage='deep')"
   ]
  },
  {
   "cell_type": "markdown",
   "id": "095ebe06-a553-4442-809e-30157e1c1136",
   "metadata": {},
   "source": [
    "**Comment:** After dropping the duplicates the number of contributions has dropped from about 29,000,000 to about 25,000,000."
   ]
  },
  {
   "cell_type": "code",
   "execution_count": 43,
   "id": "eb86e1e4-26de-44af-8856-14675641c7f5",
   "metadata": {},
   "outputs": [
    {
     "name": "stderr",
     "output_type": "stream",
     "text": [
      "100%|███████████████████████████████████████████| 36/36 [03:02<00:00,  5.07s/it]\n"
     ]
    }
   ],
   "source": [
    "# saving in pieces because its way too big\n",
    "# saving with parquet extension because pkl is still too big\n",
    "from tqdm import tqdm\n",
    "\n",
    "for y in tqdm(years):\n",
    "    radioteca_per_year = full_radioteca_cleaned[full_radioteca_cleaned[\"Year\"] == y]\n",
    "    radioteca_per_year.to_parquet(f\"radioteca_{y}.parquet\", compression=\"snappy\")"
   ]
  }
 ],
 "metadata": {
  "kernelspec": {
   "display_name": "Python 3 (ipykernel)",
   "language": "python",
   "name": "python3"
  },
  "language_info": {
   "codemirror_mode": {
    "name": "ipython",
    "version": 3
   },
   "file_extension": ".py",
   "mimetype": "text/x-python",
   "name": "python",
   "nbconvert_exporter": "python",
   "pygments_lexer": "ipython3",
   "version": "3.12.5"
  }
 },
 "nbformat": 4,
 "nbformat_minor": 5
}
