{
 "cells": [
  {
   "cell_type": "markdown",
   "id": "ce64b88a-a566-4726-99b3-a50f5f9e594c",
   "metadata": {},
   "source": [
    "# Linguistic-Markers-Catalan-Substitution"
   ]
  },
  {
   "cell_type": "markdown",
   "id": "7bcc6db6-b8b4-427c-a365-a093d8c65425",
   "metadata": {},
   "source": [
    "by Jana Brusés\\\n",
    "University of Pittsburgh, April 29th 2025"
   ]
  },
  {
   "cell_type": "markdown",
   "id": "07e096a7-5933-4f14-b958-814b8247426d",
   "metadata": {},
   "source": [
    "## Final Report"
   ]
  },
  {
   "cell_type": "markdown",
   "id": "e7654946-2b0a-4184-aed5-6bd3f405d18b",
   "metadata": {},
   "source": [
    "This is the final report of my project Linguistic Markers of Catalan substitution.\\\n",
    "While my project is still in development as I am now aiming to publish it, this is the \"final\" report for my Data Science for Linguists term project."
   ]
  },
  {
   "cell_type": "markdown",
   "id": "6ec11551-bb5e-4476-a096-819673d08add",
   "metadata": {},
   "source": [
    "### Contents:\n",
    "1. [Introduction and Overview](#introduction-and-overview)\n",
    "2. [Project History and Process](#project-history-and-process)\n",
    "3. [Data Collection and Preprocessing](#data-collection-and-preprocessing)\n",
    "4. [Analysis Methodology](#analysis-methodology)\n",
    "5. [Results](#results)\n",
    "6. [Discussion](#discussion)\n",
    "7. [Challenges and Setbacks](#challenges-and-setbacks)\n",
    "8. [Conclusion](#conclusion)"
   ]
  },
  {
   "cell_type": "code",
   "execution_count": null,
   "id": "1cae9981-bed9-4305-bbde-0cdf992a16ac",
   "metadata": {},
   "outputs": [],
   "source": []
  }
 ],
 "metadata": {
  "kernelspec": {
   "display_name": "Python 3 (ipykernel)",
   "language": "python",
   "name": "python3"
  },
  "language_info": {
   "codemirror_mode": {
    "name": "ipython",
    "version": 3
   },
   "file_extension": ".py",
   "mimetype": "text/x-python",
   "name": "python",
   "nbconvert_exporter": "python",
   "pygments_lexer": "ipython3",
   "version": "3.12.5"
  }
 },
 "nbformat": 4,
 "nbformat_minor": 5
}
