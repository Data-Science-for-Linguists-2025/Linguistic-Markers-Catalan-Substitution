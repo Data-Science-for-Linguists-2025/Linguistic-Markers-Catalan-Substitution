{
 "cells": [
  {
   "cell_type": "markdown",
   "id": "628259b3-20d2-44c0-8e3a-fe913928b5f3",
   "metadata": {},
   "source": [
    "# Data Parsing and Exploratory Analysis\n",
    "Jana Bruses | janabruses@pitt.edu | University of Pittsburgh | Feb. 23rd - Mar. 23rd 2025"
   ]
  },
  {
   "cell_type": "markdown",
   "id": "c6895dcc-7628-4d78-b0e9-e03b3ffb9d3c",
   "metadata": {},
   "source": [
    "## 1. A few data considerations\n",
    "Citing Montoya Abat and Mas I Miralles’ notes in Linguistic Variation, “written language always represents a later stage than the actual appearance of any linguistic phenomenon, since the written text incorporates innovations when in oral expression they have already been occurring for some time.” They further add that in written language, “the appearance of occurrences tends to be considerably reduced.” That is because standardization tends to substantially influence written language more, particularly in literary works, which go through multiple reviews before publication.\n",
    "\n",
    "In this regard, since we are examining language variation, spoken data would likely provide the best approach for identifying traces of Catalan’s substitution. However, as we need our data to span a sufficiently long timeframe to capture changes and differences, finding open-spoken resources from earlier periods is highly challenging. Therefore, we will work with the closest approximation to spoken data: transcribed speeches, plenary sessions, and other written records derived from spoken works.\n",
    "\n",
    "Not finding a Catalan corpora covering a timespan over 15 years. We will be using multiple corpora that fulfill the points mentioned above. \n",
    "\n",
    "In chronological order, these are:\n",
    "\n",
    "1) **CTIC(1832-1926)**\\\n",
    "Corpora originally contained texts published between 1832 and 1988 and expanded to recent works after 2015. Created to develop the descriptive dictionary of the Catalan language known as DDLC. Part of the corpora has been made available for public use. Only those works that are no longer subject to copyright in Spain are being made public work by work in single text files.\\\n",
    "The downloadable corpora consists of 337 files of literary works and 596 non-literary texts, all published before 1985.\\\n",
    "Out of these works, we’ll be using 28 speech-delivered texts, specifically speeches.\n",
    "\n",
    "2) **Parlament Parla (2007-2018)**\\\n",
    "Speech corpus by Col·lectivaT containing Catalan Parliament (Parlament de Catalunya) plenary sessions from 2007 to 2018.\\\n",
    "Transcriptions have been aligned with the recordings and the corpora extracted.\\\n",
    "Corpora comprises 211 hours of clean and 400 hours of other quality segments, where each speech segment is tagged with its speaker the speaker’s gender.\n",
    "\n",
    "3) **ParlaMint-ES-CT (2015-2022)**\\\n",
    "ParlaMint-ES-CT is the Spanish and Catalan parliamentary corpora covering from 2015 to 2022 as part of the corpora project ParlaMint: Comparable Parliamentary Corpora. The full corpora contains compiled subcorpora from 29 countries and autonomous regions in original languages, as well as machine translations to English.\n",
    "\n",
    "4) **Radioteca.cat (1960-2025)**\\\n",
    "Web library of over 300.000 IA-transcribed radio programs and summaries.\\\n",
    "It is a personal project by Xavier Drudis, containing data from the 1960s to 2025.\\\n",
    "This data was incorporated into the project after noticing a huge data gap between 1985 and 2007.\\\n",
    "Hence, it was incorporated less purposely and more out of need. That is because, while it is consistent with the overall data being from spoken or speech-derived texts, it is the least close in terms of genre.\\\n",
    "The previous corpora all came from more formal speech content, parliamentary and plenary sessions, ceremonial speeches, etc. Radio shows are less formal and less professional speech.\\"
   ]
  },
  {
   "cell_type": "markdown",
   "id": "08b0a023-256e-4b5e-8cec-f4ba419494e6",
   "metadata": {},
   "source": [
    "## 2. Data processing"
   ]
  },
  {
   "cell_type": "markdown",
   "id": "60cf2e27-2406-46c4-9234-8004377ebd6b",
   "metadata": {},
   "source": [
    "The data processing procedure for each of the corpora in chronological order follows:\\\n",
    "Each corpus is processed and analyzed through a general Exploratory Data Analysis using the following function and then through corpus-specific analysis.\\\n",
    "Then, the corpora are assembled all together with section [2.5](#2.5-Jointly), where all the data is put together and explored in an overall EDA. \n",
    "\n",
    "**2.1** [CTILC](#2.1-CTILC)\\\n",
    "**2.2** [Parlament Parla](#2.2-Parlament-Parla)\\\n",
    "**2.3** [ParlaMint](#2.3-ParlaMint-ES-CT)\\\n",
    "**2.4** [Radioteca](#2.4-Radioteca.cat)\\\n",
    "**2.5** [All data jointly](#2.5-Jointly)"
   ]
  },
  {
   "cell_type": "code",
   "execution_count": 2,
   "id": "7c039259-72a6-4533-ba74-8aecec78e74c",
   "metadata": {},
   "outputs": [],
   "source": [
    "def generalEDA(dataframe, corpus_name):\n",
    "    '''\n",
    "    Function to run general Exploration Data Analysis\n",
    "    Takes in the pandas dataframe and its name\n",
    "    Prints out its:\n",
    "        shape\n",
    "        info\n",
    "        column names\n",
    "        corpora length\n",
    "        timeframe (if time metadata is avaliable)\n",
    "        description     \n",
    "        timeline visualization (if time metadata is avaliable) \n",
    "    '''\n",
    "    print(\"--- EDA\", corpus_name, \"---\")\n",
    "    print(\"The dataframe has:\",\n",
    "          dataframe.shape[0], \"rows\",\n",
    "          dataframe.shape[1], \"columns\", \"\\n\")\n",
    "    print(\"Dataframe's info is:\")\n",
    "    print(dataframe.info(), \"\\n\")\n",
    "    print(\"The Dataframe's\", len(dataframe.columns), \"columns are:\", \"\\n\", dataframe.columns, \"\\n\")\n",
    "    dataframe[\"Text_len\"] = dataframe[\"Text\"].apply(len)\n",
    "    print(\"The total length of the Dataframe excluding the metadata is:\", \"\\n\", dataframe[\"Text_len\"].sum(), \"\\n\")\n",
    "    key_word = None\n",
    "    if \"Date\" in dataframe.columns:\n",
    "        key_word = \"Date\" # for plotting later\n",
    "        print(\"The data ranges from\", dataframe[\"Date\"].min(), \"to\", dataframe[\"Date\"].max(), \"\\n\")\n",
    "    if \"Year\" in dataframe.columns:\n",
    "        key_word = \"Year\" # for plotting later\n",
    "        print(\"The data ranges from\", dataframe[\"Year\"].min(), \"to\", dataframe[\"Year\"].max(), \"\\n\")\n",
    "    print(\"The description of the dataframe is:\", \"\\n\",\n",
    "          dataframe.describe(), \"\\n\", \"\\n\")\n",
    "\n",
    "    if key_word:\n",
    "        # extacting unique years and sorting them\n",
    "        if corpus_name == \"ParlaMint\":\n",
    "            years = sorted((parlaMint_df[key_word].apply(lambda x :x[0:7])).unique())\n",
    "        if corpus_name == \"Radioteca.cat\":\n",
    "            years = sorted((radioteca_df[\"Date\"].unique()))\n",
    "        if corpus_name == \"CTILC\": \n",
    "            years = sorted(CTILC_df[key_word].unique())\n",
    "        \n",
    "\n",
    "        # create place holder for y-values \n",
    "        y_values = [1] * len(years)  # Place all points at y=1\n",
    "\n",
    "        # Plot each year as a point on the timeline\n",
    "        fig, ax = plt.subplots(figsize=(12, 2)) \n",
    "        ax.scatter(years, y_values, color=\"blue\", marker=\"o\")\n",
    "\n",
    "        # formatting\n",
    "        ax.set_xlabel(key_word)\n",
    "        ax.set_yticks([])  \n",
    "        ax.set_title(\"Document Timeline\")\n",
    "        ax.grid(axis=\"x\") \n",
    "        plt.xticks(rotation=90)\n",
    "\n",
    "        plt.show()"
   ]
  },
  {
   "cell_type": "markdown",
   "id": "1c36a3e5-00e9-4ec1-a7bb-95311d9a2bbe",
   "metadata": {},
   "source": [
    "### 2.1 CTILC"
   ]
  },
  {
   "cell_type": "markdown",
   "id": "c755b70a-1a91-432f-9a0f-b24d7ec4d096",
   "metadata": {},
   "source": [
    "The files are .txt, so we will parse them using plain text corpus reader.\\\n",
    "Their encoding is UTF-8 with FL line terminator, so they align with our encoding and line termination preference.\\\n",
    "No changes are required."
   ]
  },
  {
   "cell_type": "code",
   "execution_count": 3,
   "id": "67e4a75c-4ed5-40a4-bdaa-6090bc1a2baa",
   "metadata": {},
   "outputs": [
    {
     "name": "stdout",
     "output_type": "stream",
     "text": [
      "<DOCUMENT>\n",
      "<OBRA id=\"1858\">\n",
      "<AUTOR>Sagarra i de Siscar, Ferran de</AUTOR>\n",
      "<TÍTOL>Discurs llegit en lo Certamen Catalanista de la Joventut Católica de Barcelona</TÍTOL>\n",
      "<ANY>1891</ANY>\n",
      "<CLASSIFICACIÓ_TEXTUAL llengua=\"NLIT\" gènere=\"\" tema=\"2\" subtema=\"2.7\" traducció=\"no\" variant=\"central\" />\n",
      "</OBRA>\n",
      "<TEXT>Discurs llegit en lo certamen catalanista de la joventut católica de Barcelona\n",
      "\n",
      "Excm. é Ilm. Sr. Senyors: Quan en Bonaventura Carles Aribau, al començarse lo segon terç de la presént centuria, ab aquell Adéu á la patria, plé de sentiment y tendresa, y ab aquell recort per la llengua en que soná son primer vagit quan del mugró matern la dolça llet bebia, iniciava lo modern renaxement de nostra literatura, ¿qui ho havia de dir, que en breu espay de temps, poetas y prosadors conqueririan tants llors pera les lletres catalanes? Y ab tot, no sols fou axí, sino que ab la remembrança de antigues gestes, al fer reviure grans homens y fets del llibre d' or de nostra historia, se despertá en nosa\n"
     ]
    }
   ],
   "source": [
    "#importing nltk's plain text corpus reader\n",
    "from nltk.corpus.reader import PlaintextCorpusReader\n",
    "\n",
    "corpus_root = 'data/CTILC/tots'\n",
    "corpus = PlaintextCorpusReader(corpus_root, r'.*\\.txt')\n",
    "\n",
    "#print(corpus.fileids())  # getting filenames to get a file\n",
    "print(corpus.raw('001858_Discurs_llegit_en_lo_Certamen_Catalanist.out.txt')[:1000])  # taking a look at part of one of the files"
   ]
  },
  {
   "cell_type": "markdown",
   "id": "7e88dcc8-95ca-4ceb-81fd-4de5861ccda9",
   "metadata": {},
   "source": [
    "**Comment:**\\\n",
    "There is some metadata mixed which might actually be very useful.\n",
    "Therefore, we will change the approach and parse the CTILC data as an xml and store it as a pandas dataframe, where the id, author, title, date and other metadata will be strored in columns.\\\n",
    "The text will be given its own column."
   ]
  },
  {
   "cell_type": "code",
   "execution_count": 4,
   "id": "e11c2ccb-9cd5-4928-9b3c-c9581c50b4e2",
   "metadata": {},
   "outputs": [
    {
     "data": {
      "text/html": [
       "<div>\n",
       "<style scoped>\n",
       "    .dataframe tbody tr th:only-of-type {\n",
       "        vertical-align: middle;\n",
       "    }\n",
       "\n",
       "    .dataframe tbody tr th {\n",
       "        vertical-align: top;\n",
       "    }\n",
       "\n",
       "    .dataframe thead th {\n",
       "        text-align: right;\n",
       "    }\n",
       "</style>\n",
       "<table border=\"1\" class=\"dataframe\">\n",
       "  <thead>\n",
       "    <tr style=\"text-align: right;\">\n",
       "      <th></th>\n",
       "      <th>ID</th>\n",
       "      <th>Author</th>\n",
       "      <th>Title</th>\n",
       "      <th>Year</th>\n",
       "      <th>Text</th>\n",
       "    </tr>\n",
       "  </thead>\n",
       "  <tbody>\n",
       "    <tr>\n",
       "      <th>0</th>\n",
       "      <td>766</td>\n",
       "      <td>Serra i Pagès, Rossend</td>\n",
       "      <td>Discurs llegit per... donar a conèxer la perso...</td>\n",
       "      <td>1926</td>\n",
       "      <td>L'home que per amor al estudi, impulsat per un...</td>\n",
       "    </tr>\n",
       "    <tr>\n",
       "      <th>1</th>\n",
       "      <td>1100</td>\n",
       "      <td>Millet i Pagès, Lluís</td>\n",
       "      <td>Parlament llegit en la festa inaugural de l'Or...</td>\n",
       "      <td>1920</td>\n",
       "      <td>Cantaires de la Garriga, Senyores i senyors:\\n...</td>\n",
       "    </tr>\n",
       "    <tr>\n",
       "      <th>2</th>\n",
       "      <td>1664</td>\n",
       "      <td>Miró i Borràs, Oleguer</td>\n",
       "      <td>Discurs-pròlec</td>\n",
       "      <td>1900</td>\n",
       "      <td>Discurs-prolec Llegit en la societat mèdic-far...</td>\n",
       "    </tr>\n",
       "    <tr>\n",
       "      <th>3</th>\n",
       "      <td>1784</td>\n",
       "      <td>Balari i Jovany, Josep</td>\n",
       "      <td>Discurs</td>\n",
       "      <td>1894</td>\n",
       "      <td>Senyors excelentissims, senyors:\\n\\nQuan rebí ...</td>\n",
       "    </tr>\n",
       "    <tr>\n",
       "      <th>4</th>\n",
       "      <td>1820</td>\n",
       "      <td>Torras i Ferreri, Cèsar August</td>\n",
       "      <td>Discurs</td>\n",
       "      <td>1903</td>\n",
       "      <td>Senyors:\\n\\nSembla que era air, y fa ja uns qu...</td>\n",
       "    </tr>\n",
       "  </tbody>\n",
       "</table>\n",
       "</div>"
      ],
      "text/plain": [
       "     ID                          Author  \\\n",
       "0   766          Serra i Pagès, Rossend   \n",
       "1  1100           Millet i Pagès, Lluís   \n",
       "2  1664          Miró i Borràs, Oleguer   \n",
       "3  1784          Balari i Jovany, Josep   \n",
       "4  1820  Torras i Ferreri, Cèsar August   \n",
       "\n",
       "                                               Title  Year  \\\n",
       "0  Discurs llegit per... donar a conèxer la perso...  1926   \n",
       "1  Parlament llegit en la festa inaugural de l'Or...  1920   \n",
       "2                                     Discurs-pròlec  1900   \n",
       "3                                            Discurs  1894   \n",
       "4                                            Discurs  1903   \n",
       "\n",
       "                                                Text  \n",
       "0  L'home que per amor al estudi, impulsat per un...  \n",
       "1  Cantaires de la Garriga, Senyores i senyors:\\n...  \n",
       "2  Discurs-prolec Llegit en la societat mèdic-far...  \n",
       "3  Senyors excelentissims, senyors:\\n\\nQuan rebí ...  \n",
       "4  Senyors:\\n\\nSembla que era air, y fa ja uns qu...  "
      ]
     },
     "execution_count": 4,
     "metadata": {},
     "output_type": "execute_result"
    }
   ],
   "source": [
    "#importing BS, Pandas, NumPy (for NaN values) and Regex\n",
    "from bs4 import BeautifulSoup\n",
    "import pandas as pd\n",
    "import numpy as np\n",
    "import re\n",
    "\n",
    "CTILC_data = []\n",
    "\n",
    "for file in corpus.fileids():   \n",
    "    soup = BeautifulSoup(corpus.raw(file), 'html.parser')\n",
    "    data = {}  # dictionary for each file\n",
    "\n",
    "    # \"obra\" ID (CAT) / work ID (ENG) - we will use ID for short\n",
    "    obra_tag = soup.find(\"obra\") \n",
    "    data[\"ID\"] = obra_tag[\"id\"] if obra_tag and obra_tag.has_attr(\"id\") else np.nan \n",
    "\n",
    "    # \"autor\" (CAT) / Author (ENG) \n",
    "    data[\"Author\"] = soup.find(\"autor\").text if soup.find(\"autor\") else np.nan\n",
    "\n",
    "    # \"títol\" (CAT) / Title (ENG)\n",
    "    data[\"Title\"] = soup.find(\"títol\").text if soup.find(\"títol\") else np.nan\n",
    "\n",
    "    # \"any\" (CAT) / Year (ENG)\n",
    "    data[\"Year\"] = soup.find(\"any\").text if soup.find(\"any\") else np.nan\n",
    "\n",
    "    # \"text\" (CAT) / \"Text\" (ENG) - where we will store the content of the files, the non-metadata, the meat\n",
    "    data[\"Text\"] = soup.find(\"text\").text if soup.find(\"text\") else np.nan\n",
    "    #in the text the title begins the content, we will get rid of it as we can find a \"\\n\\n\" separator between the title and the content\n",
    "    data[\"Text\"] = re.sub(r\".*?\\n\\n(?=\\S)\", \"\", data[\"Text\"], count = 1, flags=re.DOTALL)\n",
    "\n",
    "    CTILC_data.append(data)\n",
    "\n",
    "# creating Pandas df\n",
    "CTILC_df = pd.DataFrame(CTILC_data)\n",
    "\n",
    "#taking a look at the head of the CTILC data frame\n",
    "CTILC_df.head()"
   ]
  },
  {
   "cell_type": "code",
   "execution_count": 5,
   "id": "416664cd-7f76-4fa2-ba2c-2689cb860c11",
   "metadata": {},
   "outputs": [
    {
     "name": "stdout",
     "output_type": "stream",
     "text": [
      "--- EDA CTILC ---\n",
      "The dataframe has: 28 rows 5 columns \n",
      "\n",
      "Dataframe's info is:\n",
      "<class 'pandas.core.frame.DataFrame'>\n",
      "RangeIndex: 28 entries, 0 to 27\n",
      "Data columns (total 5 columns):\n",
      " #   Column  Non-Null Count  Dtype \n",
      "---  ------  --------------  ----- \n",
      " 0   ID      28 non-null     object\n",
      " 1   Author  28 non-null     object\n",
      " 2   Title   28 non-null     object\n",
      " 3   Year    28 non-null     object\n",
      " 4   Text    28 non-null     object\n",
      "dtypes: object(5)\n",
      "memory usage: 1.2+ KB\n",
      "None \n",
      "\n",
      "The Dataframe's 5 columns are: \n",
      " Index(['ID', 'Author', 'Title', 'Year', 'Text'], dtype='object') \n",
      "\n",
      "The total length of the Dataframe excluding the metadata is: \n",
      " 721938 \n",
      "\n",
      "The data ranges from 1860 to 1926 \n",
      "\n",
      "The description of the dataframe is: \n",
      "            Text_len\n",
      "count     28.000000\n",
      "mean   25783.500000\n",
      "std    14946.550472\n",
      "min     9178.000000\n",
      "25%    15676.500000\n",
      "50%    21784.000000\n",
      "75%    32158.750000\n",
      "max    73881.000000 \n",
      " \n",
      "\n"
     ]
    },
    {
     "data": {
      "image/png": "[encoded data removed]",
      "text/plain": [
       "<Figure size 1200x200 with 1 Axes>"
      ]
     },
     "metadata": {},
     "output_type": "display_data"
    }
   ],
   "source": [
    "import matplotlib.pyplot as plt\n",
    "\n",
    "generalEDA(CTILC_df, \"CTILC\")"
   ]
  },
  {
   "cell_type": "code",
   "execution_count": 6,
   "id": "1381d95f-21a4-454c-a81a-4841e558074f",
   "metadata": {},
   "outputs": [
    {
     "name": "stdout",
     "output_type": "stream",
     "text": [
      "\n",
      "Author\n",
      "Serra i Pagès, Rossend               2\n",
      "Monserdà, Dolors                     2\n",
      "Querol i Campos, Vicent Wenceslau    1\n",
      "Picó i Campamar, Ramon               1\n",
      "Ubach i Vinyeta, Francesc            1\n",
      "Name: count, dtype: int64\n",
      "\n"
     ]
    },
    {
     "data": {
      "text/plain": [
       "Decade\n",
       "80    8\n",
       "00    6\n",
       "90    5\n",
       "70    5\n",
       "20    2\n",
       "60    2\n",
       "Name: count, dtype: int64"
      ]
     },
     "execution_count": 6,
     "metadata": {},
     "output_type": "execute_result"
    }
   ],
   "source": [
    "# other EDA\n",
    "print()\n",
    "print(CTILC_df[\"Author\"].value_counts()[0:5])\n",
    "print()\n",
    "CTILC_df[\"Decade\"] = CTILC_df[\"Year\"].apply(lambda x :x[-2]+\"0\")\n",
    "CTILC_df[\"Decade\"].value_counts()"
   ]
  },
  {
   "cell_type": "code",
   "execution_count": 7,
   "id": "ae89be0b-ae40-4297-b157-4a353bff853b",
   "metadata": {},
   "outputs": [],
   "source": [
    "# storing CTILC dataframe as a pickle\n",
    "CTILC_df.to_pickle('CTILC.pkl')"
   ]
  },
  {
   "cell_type": "markdown",
   "id": "1aeaca6b-615f-465d-9622-c37e2f97fa14",
   "metadata": {},
   "source": [
    "**Exploratory Analysis Summary:**\\\n",
    "After parsing the data and turining it into a pandas data frame, the CLTIC data frame has 5 columns.\\\n",
    "Out of the 5, four of the columns correspond to the metadata, specifically the works' ID, the author of the text, its title and year of publication.\\\n",
    "The fifth column is the content of the work, in other words the text.\\\n",
    "The oldest work from the CLTIC copora is from 1860, and the most recent from 1926.\\\n",
    "The total length, and hence the amount of data we have in total from the CLTIC corpora is about 700,000 characters.\\\n",
    "These come from different length texts, as we find that the shortest participates to the total with over 9,000 word characters, and the longest with about 70,000 characters.\\\n",
    "The average length of the 28 texts our subset of the corpora contains is about 25,000 characters per text.\\\n",
    "Covering the over 65 years time-span the texts are not evenly spread. We find a bigger representation of the years closer to the century change. As the 1880s and the 1900s are the 2 most represented centuries in that order. Followed by the 1890s and 1870s, which both are represented with 5 texts. The 1860s and 1920s, the two ends of the time-span are the least represented with 2 texts each. Not represented at all we find the 1910s. However, as we see in the timeline plot many of the 1900s texts are from the late 1900s, including texts from the 1907 and 1909. It is descently spread and gives us descent coverage of the time-span.\\\n",
    "The maximum amount of texts included in the corpora written by the same author is at a maximum of two, and just for two authors, which allows us to make inferences without being tripped by the specific authors' styles, or having a same style and author influence or become a bias of the time-span's data. "
   ]
  },
  {
   "cell_type": "markdown",
   "id": "9d46c3cd-3820-435e-b2ff-1fc5cc755803",
   "metadata": {},
   "source": [
    "### 2.2 Parlament Parla"
   ]
  },
  {
   "cell_type": "markdown",
   "id": "6814964a-50d7-4adf-ac15-94329a94a9ba",
   "metadata": {},
   "source": [
    "The files are .tsv, so we will parse them using Pandas.\\\n",
    "Their encoding is UTF-8 but CRFL line terminators, that were converted to FL line terminators using dos2unix on terminal."
   ]
  },
  {
   "cell_type": "code",
   "execution_count": 8,
   "id": "15c7e756-c42b-443f-9ab9-549158c72e27",
   "metadata": {},
   "outputs": [],
   "source": [
    "# loading data and creating a Pandas dataframe:"
   ]
  },
  {
   "cell_type": "code",
   "execution_count": 9,
   "id": "6ac3c059-8b04-4a80-aba1-d4ffe5b40baa",
   "metadata": {},
   "outputs": [],
   "source": [
    "def partition_reading(path):\n",
    "    '''\n",
    "    Function takes in a path and returns a dataframe containing:\n",
    "        1) the content of the tsv file\n",
    "        2) a column with the partition extracted from the 4th to 15th character of the path starting from the back\n",
    "    '''\n",
    "    df = pd.read_csv(path,  sep='\\t', header = 0)\n",
    "    df[\"Partition\"] = path[-15:-4]\n",
    "    return df"
   ]
  },
  {
   "cell_type": "code",
   "execution_count": 10,
   "id": "09e9d02a-a986-462f-bec1-bd1675dac79b",
   "metadata": {},
   "outputs": [
    {
     "data": {
      "text/html": [
       "<div>\n",
       "<style scoped>\n",
       "    .dataframe tbody tr th:only-of-type {\n",
       "        vertical-align: middle;\n",
       "    }\n",
       "\n",
       "    .dataframe tbody tr th {\n",
       "        vertical-align: top;\n",
       "    }\n",
       "\n",
       "    .dataframe thead th {\n",
       "        text-align: right;\n",
       "    }\n",
       "</style>\n",
       "<table border=\"1\" class=\"dataframe\">\n",
       "  <thead>\n",
       "    <tr style=\"text-align: right;\">\n",
       "      <th></th>\n",
       "      <th>Speaker_id</th>\n",
       "      <th>Path</th>\n",
       "      <th>Text</th>\n",
       "      <th>Gender</th>\n",
       "      <th>Duration</th>\n",
       "      <th>Partition</th>\n",
       "    </tr>\n",
       "  </thead>\n",
       "  <tbody>\n",
       "    <tr>\n",
       "      <th>0</th>\n",
       "      <td>164</td>\n",
       "      <td>clean_train/3/1/31ca4d158eaef166c37a_18.87_23....</td>\n",
       "      <td>perquè que el president de catalunya sigui reb...</td>\n",
       "      <td>M</td>\n",
       "      <td>4.71</td>\n",
       "      <td>clean_train</td>\n",
       "    </tr>\n",
       "    <tr>\n",
       "      <th>1</th>\n",
       "      <td>164</td>\n",
       "      <td>clean_train/3/1/31ca4d158eaef166c37a_60.13_65....</td>\n",
       "      <td>que lliga absolutament amb allò que vostè diu ...</td>\n",
       "      <td>M</td>\n",
       "      <td>5.50</td>\n",
       "      <td>clean_train</td>\n",
       "    </tr>\n",
       "    <tr>\n",
       "      <th>2</th>\n",
       "      <td>336</td>\n",
       "      <td>clean_train/2/8/2803008bb00cb0c86de6_17.0_30.1...</td>\n",
       "      <td>gràcies presidenta consellera atès l'inici del...</td>\n",
       "      <td>M</td>\n",
       "      <td>13.15</td>\n",
       "      <td>clean_train</td>\n",
       "    </tr>\n",
       "    <tr>\n",
       "      <th>3</th>\n",
       "      <td>336</td>\n",
       "      <td>clean_train/2/8/2803008bb00cb0c86de6_31.03_44....</td>\n",
       "      <td>li volem preguntar si el seu departament té pr...</td>\n",
       "      <td>M</td>\n",
       "      <td>13.02</td>\n",
       "      <td>clean_train</td>\n",
       "    </tr>\n",
       "    <tr>\n",
       "      <th>4</th>\n",
       "      <td>336</td>\n",
       "      <td>clean_train/2/8/2803008bb00cb0c86de6_44.74_53....</td>\n",
       "      <td>per tal d'iniciar la recuperació de l'ensenyam...</td>\n",
       "      <td>M</td>\n",
       "      <td>8.49</td>\n",
       "      <td>clean_train</td>\n",
       "    </tr>\n",
       "  </tbody>\n",
       "</table>\n",
       "</div>"
      ],
      "text/plain": [
       "   Speaker_id                                               Path  \\\n",
       "0         164  clean_train/3/1/31ca4d158eaef166c37a_18.87_23....   \n",
       "1         164  clean_train/3/1/31ca4d158eaef166c37a_60.13_65....   \n",
       "2         336  clean_train/2/8/2803008bb00cb0c86de6_17.0_30.1...   \n",
       "3         336  clean_train/2/8/2803008bb00cb0c86de6_31.03_44....   \n",
       "4         336  clean_train/2/8/2803008bb00cb0c86de6_44.74_53....   \n",
       "\n",
       "                                                Text Gender  Duration  \\\n",
       "0  perquè que el president de catalunya sigui reb...      M      4.71   \n",
       "1  que lliga absolutament amb allò que vostè diu ...      M      5.50   \n",
       "2  gràcies presidenta consellera atès l'inici del...      M     13.15   \n",
       "3  li volem preguntar si el seu departament té pr...      M     13.02   \n",
       "4  per tal d'iniciar la recuperació de l'ensenyam...      M      8.49   \n",
       "\n",
       "     Partition  \n",
       "0  clean_train  \n",
       "1  clean_train  \n",
       "2  clean_train  \n",
       "3  clean_train  \n",
       "4  clean_train  "
      ]
     },
     "execution_count": 10,
     "metadata": {},
     "output_type": "execute_result"
    }
   ],
   "source": [
    "# importing os\n",
    "import os\n",
    "#corpus_root = 'dataCAT/ParlamentParla'\n",
    "\n",
    "#reading in each of the partitions and turning them into separate data frames\n",
    "clean_tr = partition_reading(\"data/ParlamentParla/clean_train.tsv\")\n",
    "clean_dev = partition_reading(\"data/ParlamentParla/clean_dev.tsv\")\n",
    "clean_ts = partition_reading(\"data/ParlamentParla/clean_test.tsv\")\n",
    "other_dev = partition_reading(\"data/ParlamentParla/other_dev.tsv\")\n",
    "other_ts = partition_reading(\"data/ParlamentParla/other_test.tsv\")\n",
    "\n",
    "#merging data frames in a single dataframe through concatenation\n",
    "parlament_parla_df = pd.concat([clean_tr, clean_dev, clean_ts, other_dev, other_ts])\n",
    "parlament_parla_df.columns = [\"Speaker_id\", \"Path\", \"Text\", \"Gender\", \"Duration\", \"Partition\"]\n",
    "\n",
    "#taking a look at part of the dataframe\n",
    "parlament_parla_df.head()"
   ]
  },
  {
   "cell_type": "code",
   "execution_count": 11,
   "id": "11e0f14c-f3b4-45f0-9db2-4f08341cf118",
   "metadata": {},
   "outputs": [
    {
     "name": "stdout",
     "output_type": "stream",
     "text": [
      "--- EDA Parlament Parla ---\n",
      "The dataframe has: 87424 rows 6 columns \n",
      "\n",
      "Dataframe's info is:\n",
      "<class 'pandas.core.frame.DataFrame'>\n",
      "Index: 87424 entries, 0 to 1898\n",
      "Data columns (total 6 columns):\n",
      " #   Column      Non-Null Count  Dtype  \n",
      "---  ------      --------------  -----  \n",
      " 0   Speaker_id  87424 non-null  int64  \n",
      " 1   Path        87424 non-null  object \n",
      " 2   Text        87424 non-null  object \n",
      " 3   Gender      87424 non-null  object \n",
      " 4   Duration    87424 non-null  float64\n",
      " 5   Partition   87424 non-null  object \n",
      "dtypes: float64(1), int64(1), object(4)\n",
      "memory usage: 4.7+ MB\n",
      "None \n",
      "\n",
      "The Dataframe's 6 columns are: \n",
      " Index(['Speaker_id', 'Path', 'Text', 'Gender', 'Duration', 'Partition'], dtype='object') \n",
      "\n",
      "The total length of the Dataframe excluding the metadata is: \n",
      " 13174757 \n",
      "\n",
      "The description of the dataframe is: \n",
      "          Speaker_id      Duration      Text_len\n",
      "count  87424.000000  87424.000000  87424.000000\n",
      "mean     184.029866      9.135149    150.699545\n",
      "std      104.624795      3.264426     58.758921\n",
      "min        0.000000      4.000000      7.000000\n",
      "25%      101.000000      6.310000    102.000000\n",
      "50%      169.000000      8.800000    145.000000\n",
      "75%      272.000000     11.920000    194.000000\n",
      "max      389.000000     38.330000    674.000000 \n",
      " \n",
      "\n"
     ]
    }
   ],
   "source": [
    "generalEDA(parlament_parla_df, \"Parlament Parla\")"
   ]
  },
  {
   "cell_type": "code",
   "execution_count": 12,
   "id": "a9319cad-5800-48a2-81ff-c5a9f242174b",
   "metadata": {},
   "outputs": [
    {
     "name": "stdout",
     "output_type": "stream",
     "text": [
      "Gender\n",
      "M    53220\n",
      "F    34204\n",
      "Name: count, dtype: int64\n",
      "\n"
     ]
    }
   ],
   "source": [
    "# dataframe-specific EDA\n",
    "print(parlament_parla_df[\"Gender\"].value_counts())\n",
    "print()"
   ]
  },
  {
   "cell_type": "code",
   "execution_count": 13,
   "id": "46c5d02b-32e6-4ba5-8782-e83497c3a620",
   "metadata": {},
   "outputs": [],
   "source": [
    "# storing parlament-parla dataframe as a pickle\n",
    "parlament_parla_df.to_pickle('parlaparla.pkl')"
   ]
  },
  {
   "cell_type": "markdown",
   "id": "295d45aa-4043-483d-ae25-d69ad8c93c45",
   "metadata": {},
   "source": [
    "**Exploratory Analysis Summary:**\\\n",
    "After parsing the data and turining it into a pandas dataframe, the Parlament Parla data frame has 6 columns.\\\n",
    "Out of the 6, five of the columns correspond to the metadata. Provided by the resource itself we find 4 metadata columns: the speaker id, the path of the corresponding sound, the gender of the speaker and the duration of the audio file the transcription corresponds to. Also as metadata, we find the column previously created identifying what partition of the data the audio file content belongs to, te partitions being defined by the folders and then stored as variables in the \"Partiction\" column of the dataframe.\\\n",
    "The third column, and only non-metadata one, adding up to the 6 total is the transcription of the content of the audio file.\\\n",
    "There is no metadata on when the recording was done nor transcribed.\\\n",
    "The total length, and hence the amount of data we have in total from the Parlament Parla corpora is about 10,000,000 word characters.\\\n",
    "The transcription that contributes with the least amount of data is only 7 word characters long, while the longest is about 670 word characters.\\\n",
    "The average length of the over 87,000 transcriptions is about 150 characters per transcription.\\\n",
    "The genders are not evenly represented on the corpora, but close enough that it shouldn't pose a problem. as both are represented about 10,000 transcriptions off of 40,000 transcriptions.\n",
    "While it is"
   ]
  },
  {
   "cell_type": "markdown",
   "id": "551cf4ab-e15b-45e7-abd7-d095fad8bdd6",
   "metadata": {},
   "source": [
    "### 2.3 ParlaMint-ES-CT"
   ]
  },
  {
   "cell_type": "markdown",
   "id": "2d699bc4-8847-4235-bab6-ffe7161e8aa1",
   "metadata": {},
   "source": [
    "Files are in multiple formats.\\\n",
    "To be consistent with the other datasets, which are less flexible, we'll use:\n",
    "* tsv documents for the metadata\n",
    "* txt documents for the text content/transcription"
   ]
  },
  {
   "cell_type": "code",
   "execution_count": 14,
   "id": "5c0cb0f4-676e-4883-8d9a-1875fa57d79d",
   "metadata": {},
   "outputs": [
    {
     "data": {
      "text/html": [
       "<div>\n",
       "<style scoped>\n",
       "    .dataframe tbody tr th:only-of-type {\n",
       "        vertical-align: middle;\n",
       "    }\n",
       "\n",
       "    .dataframe tbody tr th {\n",
       "        vertical-align: top;\n",
       "    }\n",
       "\n",
       "    .dataframe thead th {\n",
       "        text-align: right;\n",
       "    }\n",
       "</style>\n",
       "<table border=\"1\" class=\"dataframe\">\n",
       "  <thead>\n",
       "    <tr style=\"text-align: right;\">\n",
       "      <th></th>\n",
       "      <th>Text_ID</th>\n",
       "      <th>ID</th>\n",
       "      <th>Title</th>\n",
       "      <th>Date</th>\n",
       "      <th>Body</th>\n",
       "      <th>Term</th>\n",
       "      <th>Session</th>\n",
       "      <th>Meeting</th>\n",
       "      <th>Sitting</th>\n",
       "      <th>Agenda</th>\n",
       "      <th>...</th>\n",
       "      <th>Speaker_MP</th>\n",
       "      <th>Speaker_minister</th>\n",
       "      <th>Speaker_party</th>\n",
       "      <th>Speaker_party_name</th>\n",
       "      <th>Party_status</th>\n",
       "      <th>Party_orientation</th>\n",
       "      <th>Speaker_ID</th>\n",
       "      <th>Speaker_name</th>\n",
       "      <th>Speaker_gender</th>\n",
       "      <th>Speaker_birth</th>\n",
       "    </tr>\n",
       "  </thead>\n",
       "  <tbody>\n",
       "    <tr>\n",
       "      <th>0</th>\n",
       "      <td>ParlaMint-ES-CT_2022-07-07-3502</td>\n",
       "      <td>ParlaMint-ES-CT_2022-07-07-3502.1.0</td>\n",
       "      <td>Corpus Parlamentari en català ParlaMint-ES-CT,...</td>\n",
       "      <td>2022-07-07</td>\n",
       "      <td>Unicameralisme</td>\n",
       "      <td>XIV Legislatura</td>\n",
       "      <td>-</td>\n",
       "      <td>35</td>\n",
       "      <td>2</td>\n",
       "      <td>-</td>\n",
       "      <td>...</td>\n",
       "      <td>notMP</td>\n",
       "      <td>notMinister</td>\n",
       "      <td>GP-JxCAT</td>\n",
       "      <td>Grup Parlamentari de Junts per Catalunya</td>\n",
       "      <td>Coalition</td>\n",
       "      <td>Entre centredreta i dreta</td>\n",
       "      <td>BorràsLaura</td>\n",
       "      <td>Borràs i Castanyer, Laura</td>\n",
       "      <td>F</td>\n",
       "      <td>1970</td>\n",
       "    </tr>\n",
       "    <tr>\n",
       "      <th>1</th>\n",
       "      <td>ParlaMint-ES-CT_2022-07-07-3502</td>\n",
       "      <td>ParlaMint-ES-CT_2022-07-07-3502.224.0</td>\n",
       "      <td>Corpus Parlamentari en català ParlaMint-ES-CT,...</td>\n",
       "      <td>2022-07-07</td>\n",
       "      <td>Unicameralisme</td>\n",
       "      <td>XIV Legislatura</td>\n",
       "      <td>-</td>\n",
       "      <td>35</td>\n",
       "      <td>2</td>\n",
       "      <td>-</td>\n",
       "      <td>...</td>\n",
       "      <td>MP</td>\n",
       "      <td>notMinister</td>\n",
       "      <td>GP-ERC</td>\n",
       "      <td>Grup Parlamentari Esquerra Republicana de Cata...</td>\n",
       "      <td>Coalition</td>\n",
       "      <td>Entre centreesquerra i esquerra</td>\n",
       "      <td>VilaltaMarta</td>\n",
       "      <td>Vilalta i Torres, Marta</td>\n",
       "      <td>F</td>\n",
       "      <td>1984</td>\n",
       "    </tr>\n",
       "    <tr>\n",
       "      <th>2</th>\n",
       "      <td>ParlaMint-ES-CT_2022-07-07-3502</td>\n",
       "      <td>ParlaMint-ES-CT_2022-07-07-3502.2.0</td>\n",
       "      <td>Corpus Parlamentari en català ParlaMint-ES-CT,...</td>\n",
       "      <td>2022-07-07</td>\n",
       "      <td>Unicameralisme</td>\n",
       "      <td>XIV Legislatura</td>\n",
       "      <td>-</td>\n",
       "      <td>35</td>\n",
       "      <td>2</td>\n",
       "      <td>-</td>\n",
       "      <td>...</td>\n",
       "      <td>notMP</td>\n",
       "      <td>notMinister</td>\n",
       "      <td>GP-JxCAT</td>\n",
       "      <td>Grup Parlamentari de Junts per Catalunya</td>\n",
       "      <td>Coalition</td>\n",
       "      <td>Entre centredreta i dreta</td>\n",
       "      <td>BorràsLaura</td>\n",
       "      <td>Borràs i Castanyer, Laura</td>\n",
       "      <td>F</td>\n",
       "      <td>1970</td>\n",
       "    </tr>\n",
       "    <tr>\n",
       "      <th>3</th>\n",
       "      <td>ParlaMint-ES-CT_2022-07-07-3502</td>\n",
       "      <td>ParlaMint-ES-CT_2022-07-07-3502.3.0</td>\n",
       "      <td>Corpus Parlamentari en català ParlaMint-ES-CT,...</td>\n",
       "      <td>2022-07-07</td>\n",
       "      <td>Unicameralisme</td>\n",
       "      <td>XIV Legislatura</td>\n",
       "      <td>-</td>\n",
       "      <td>35</td>\n",
       "      <td>2</td>\n",
       "      <td>-</td>\n",
       "      <td>...</td>\n",
       "      <td>notMP</td>\n",
       "      <td>Minister</td>\n",
       "      <td>ERC</td>\n",
       "      <td>Esquerra Republicana de Catalunya</td>\n",
       "      <td>-</td>\n",
       "      <td>Entre centreesquerra i esquerra</td>\n",
       "      <td>VilagràLaura</td>\n",
       "      <td>Vilagrà Pons, Laura</td>\n",
       "      <td>F</td>\n",
       "      <td>1976</td>\n",
       "    </tr>\n",
       "    <tr>\n",
       "      <th>4</th>\n",
       "      <td>ParlaMint-ES-CT_2022-07-07-3502</td>\n",
       "      <td>ParlaMint-ES-CT_2022-07-07-3502.4.0</td>\n",
       "      <td>Corpus Parlamentari en català ParlaMint-ES-CT,...</td>\n",
       "      <td>2022-07-07</td>\n",
       "      <td>Unicameralisme</td>\n",
       "      <td>XIV Legislatura</td>\n",
       "      <td>-</td>\n",
       "      <td>35</td>\n",
       "      <td>2</td>\n",
       "      <td>-</td>\n",
       "      <td>...</td>\n",
       "      <td>notMP</td>\n",
       "      <td>notMinister</td>\n",
       "      <td>GP-JxCAT</td>\n",
       "      <td>Grup Parlamentari de Junts per Catalunya</td>\n",
       "      <td>Coalition</td>\n",
       "      <td>Entre centredreta i dreta</td>\n",
       "      <td>BorràsLaura</td>\n",
       "      <td>Borràs i Castanyer, Laura</td>\n",
       "      <td>F</td>\n",
       "      <td>1970</td>\n",
       "    </tr>\n",
       "  </tbody>\n",
       "</table>\n",
       "<p>5 rows × 23 columns</p>\n",
       "</div>"
      ],
      "text/plain": [
       "                           Text_ID                                     ID  \\\n",
       "0  ParlaMint-ES-CT_2022-07-07-3502    ParlaMint-ES-CT_2022-07-07-3502.1.0   \n",
       "1  ParlaMint-ES-CT_2022-07-07-3502  ParlaMint-ES-CT_2022-07-07-3502.224.0   \n",
       "2  ParlaMint-ES-CT_2022-07-07-3502    ParlaMint-ES-CT_2022-07-07-3502.2.0   \n",
       "3  ParlaMint-ES-CT_2022-07-07-3502    ParlaMint-ES-CT_2022-07-07-3502.3.0   \n",
       "4  ParlaMint-ES-CT_2022-07-07-3502    ParlaMint-ES-CT_2022-07-07-3502.4.0   \n",
       "\n",
       "                                               Title        Date  \\\n",
       "0  Corpus Parlamentari en català ParlaMint-ES-CT,...  2022-07-07   \n",
       "1  Corpus Parlamentari en català ParlaMint-ES-CT,...  2022-07-07   \n",
       "2  Corpus Parlamentari en català ParlaMint-ES-CT,...  2022-07-07   \n",
       "3  Corpus Parlamentari en català ParlaMint-ES-CT,...  2022-07-07   \n",
       "4  Corpus Parlamentari en català ParlaMint-ES-CT,...  2022-07-07   \n",
       "\n",
       "             Body             Term Session  Meeting  Sitting Agenda  ...  \\\n",
       "0  Unicameralisme  XIV Legislatura       -       35        2      -  ...   \n",
       "1  Unicameralisme  XIV Legislatura       -       35        2      -  ...   \n",
       "2  Unicameralisme  XIV Legislatura       -       35        2      -  ...   \n",
       "3  Unicameralisme  XIV Legislatura       -       35        2      -  ...   \n",
       "4  Unicameralisme  XIV Legislatura       -       35        2      -  ...   \n",
       "\n",
       "  Speaker_MP Speaker_minister Speaker_party  \\\n",
       "0      notMP      notMinister      GP-JxCAT   \n",
       "1         MP      notMinister        GP-ERC   \n",
       "2      notMP      notMinister      GP-JxCAT   \n",
       "3      notMP         Minister           ERC   \n",
       "4      notMP      notMinister      GP-JxCAT   \n",
       "\n",
       "                                  Speaker_party_name Party_status  \\\n",
       "0           Grup Parlamentari de Junts per Catalunya    Coalition   \n",
       "1  Grup Parlamentari Esquerra Republicana de Cata...    Coalition   \n",
       "2           Grup Parlamentari de Junts per Catalunya    Coalition   \n",
       "3                  Esquerra Republicana de Catalunya            -   \n",
       "4           Grup Parlamentari de Junts per Catalunya    Coalition   \n",
       "\n",
       "                 Party_orientation    Speaker_ID               Speaker_name  \\\n",
       "0        Entre centredreta i dreta   BorràsLaura  Borràs i Castanyer, Laura   \n",
       "1  Entre centreesquerra i esquerra  VilaltaMarta    Vilalta i Torres, Marta   \n",
       "2        Entre centredreta i dreta   BorràsLaura  Borràs i Castanyer, Laura   \n",
       "3  Entre centreesquerra i esquerra  VilagràLaura        Vilagrà Pons, Laura   \n",
       "4        Entre centredreta i dreta   BorràsLaura  Borràs i Castanyer, Laura   \n",
       "\n",
       "  Speaker_gender Speaker_birth  \n",
       "0              F          1970  \n",
       "1              F          1984  \n",
       "2              F          1970  \n",
       "3              F          1976  \n",
       "4              F          1970  \n",
       "\n",
       "[5 rows x 23 columns]"
      ]
     },
     "execution_count": 14,
     "metadata": {},
     "output_type": "execute_result"
    }
   ],
   "source": [
    "#ParlaMint part 1 - Metadata/tsv\n",
    "import glob\n",
    "\n",
    "# defining the path where ParlaMint data is stored\n",
    "data_path = \"data/ParlaMint-ES-CT.ana/ParlaMint-ES-CT.txt\"  # Adjust to your directory\n",
    "\n",
    "# loading all metadata/.tsv files\n",
    "metadata_files = glob.glob(os.path.join(data_path, \"**\", \"*-meta.tsv\"))\n",
    "\n",
    "# reading in and concatenating all metadata files\n",
    "metadata = []\n",
    "for file in metadata_files:\n",
    "    meta_df = pd.read_csv(file, sep=\"\\t\", index_col = False)\n",
    "    metadata.append(meta_df)\n",
    "\n",
    "metadata_df = pd.concat(metadata)\n",
    "\n",
    "# taking a quick look at the metadata dataframe\n",
    "metadata_df.head()"
   ]
  },
  {
   "cell_type": "code",
   "execution_count": 15,
   "id": "0c51f6c9-1736-4dbd-8ae0-c68c0a28fb5c",
   "metadata": {},
   "outputs": [
    {
     "data": {
      "text/html": [
       "<div>\n",
       "<style scoped>\n",
       "    .dataframe tbody tr th:only-of-type {\n",
       "        vertical-align: middle;\n",
       "    }\n",
       "\n",
       "    .dataframe tbody tr th {\n",
       "        vertical-align: top;\n",
       "    }\n",
       "\n",
       "    .dataframe thead th {\n",
       "        text-align: right;\n",
       "    }\n",
       "</style>\n",
       "<table border=\"1\" class=\"dataframe\">\n",
       "  <thead>\n",
       "    <tr style=\"text-align: right;\">\n",
       "      <th></th>\n",
       "      <th>ID</th>\n",
       "      <th>Text</th>\n",
       "    </tr>\n",
       "  </thead>\n",
       "  <tbody>\n",
       "    <tr>\n",
       "      <th>126</th>\n",
       "      <td>ParlaMint-ES-CT_2016-06-09-1802.127.0</td>\n",
       "      <td>Moltes gràcies, senyor Fernández. A continuaci...</td>\n",
       "    </tr>\n",
       "    <tr>\n",
       "      <th>127</th>\n",
       "      <td>ParlaMint-ES-CT_2016-06-09-1802.128.0</td>\n",
       "      <td>Gràcies, presidenta. Bon dia. Des de la CUP, e...</td>\n",
       "    </tr>\n",
       "    <tr>\n",
       "      <th>128</th>\n",
       "      <td>ParlaMint-ES-CT_2016-06-09-1802.129.0</td>\n",
       "      <td>Moltes gràcies, senyora Vehí. A continuació, t...</td>\n",
       "    </tr>\n",
       "    <tr>\n",
       "      <th>129</th>\n",
       "      <td>ParlaMint-ES-CT_2016-06-09-1802.130.0</td>\n",
       "      <td>Gràcies, presidenta. Vicepresident, consellera...</td>\n",
       "    </tr>\n",
       "    <tr>\n",
       "      <th>130</th>\n",
       "      <td>ParlaMint-ES-CT_2016-06-09-1802.131.0</td>\n",
       "      <td>Moltes gràcies, senyor Bonvehí. Acabat el deba...</td>\n",
       "    </tr>\n",
       "  </tbody>\n",
       "</table>\n",
       "</div>"
      ],
      "text/plain": [
       "                                        ID  \\\n",
       "126  ParlaMint-ES-CT_2016-06-09-1802.127.0   \n",
       "127  ParlaMint-ES-CT_2016-06-09-1802.128.0   \n",
       "128  ParlaMint-ES-CT_2016-06-09-1802.129.0   \n",
       "129  ParlaMint-ES-CT_2016-06-09-1802.130.0   \n",
       "130  ParlaMint-ES-CT_2016-06-09-1802.131.0   \n",
       "\n",
       "                                                  Text  \n",
       "126  Moltes gràcies, senyor Fernández. A continuaci...  \n",
       "127  Gràcies, presidenta. Bon dia. Des de la CUP, e...  \n",
       "128  Moltes gràcies, senyora Vehí. A continuació, t...  \n",
       "129  Gràcies, presidenta. Vicepresident, consellera...  \n",
       "130  Moltes gràcies, senyor Bonvehí. Acabat el deba...  "
      ]
     },
     "execution_count": 15,
     "metadata": {},
     "output_type": "execute_result"
    }
   ],
   "source": [
    "#ParlaMint part 2 - txt/content\n",
    "\n",
    "# loading all text files\n",
    "text_files = glob.glob(os.path.join(data_path, \"**\", \"*.txt\"), recursive=True)\n",
    "\n",
    "# reading in and concatenating all text files\n",
    "text_list = []\n",
    "for file in text_files:\n",
    "    if \"README\" not in file: # avoiding the README.txt getting mixed up with our data\n",
    "        text_df = pd.read_csv(file, sep=\"\\t\", header = None)\n",
    "        text_list.append(text_df)\n",
    "\n",
    "text_df = pd.concat(text_list)\n",
    "\n",
    "# giving name columns ID and Text to the dataframe columns\n",
    "text_df = text_df.rename(columns ={0: \"ID\", 1:\"Text\"})\n",
    "\n",
    "# taking a quick look at the txt files dataframe\n",
    "text_df.tail()"
   ]
  },
  {
   "cell_type": "code",
   "execution_count": 16,
   "id": "3a8fc2e4-d80d-432f-9d4c-b8d592ab6905",
   "metadata": {},
   "outputs": [
    {
     "name": "stdout",
     "output_type": "stream",
     "text": [
      "The metadata data frame has the following dimensions: (50824, 23)\n",
      "The text data frame has the following dimensions: (50824, 2)\n"
     ]
    }
   ],
   "source": [
    "# let's compare the two data frames text and metadata to see if we can merge them\n",
    "print(\"The metadata data frame has the following dimensions:\", metadata_df.shape)\n",
    "print(\"The text data frame has the following dimensions:\", text_df.shape)"
   ]
  },
  {
   "cell_type": "code",
   "execution_count": 17,
   "id": "c6fe48ae-1449-4cf0-b2b7-d403d41e7eb3",
   "metadata": {},
   "outputs": [],
   "source": [
    "# the number of rows matches which is a great sign that no data was left behind in the creation of the data frame\n",
    "# it lets us know that we can merge it by using the file IDs"
   ]
  },
  {
   "cell_type": "code",
   "execution_count": 18,
   "id": "c2b60d38-3d2f-4bc8-a298-13921f9c36bb",
   "metadata": {},
   "outputs": [],
   "source": [
    "# merging with ID as index\n",
    "parlaMint_df = metadata_df.merge(text_df, on=\"ID\", how=\"outer\")"
   ]
  },
  {
   "cell_type": "code",
   "execution_count": 19,
   "id": "1bcdf7c9-ab0c-4c65-8f96-145bf75e4063",
   "metadata": {},
   "outputs": [
    {
     "data": {
      "text/html": [
       "<div>\n",
       "<style scoped>\n",
       "    .dataframe tbody tr th:only-of-type {\n",
       "        vertical-align: middle;\n",
       "    }\n",
       "\n",
       "    .dataframe tbody tr th {\n",
       "        vertical-align: top;\n",
       "    }\n",
       "\n",
       "    .dataframe thead th {\n",
       "        text-align: right;\n",
       "    }\n",
       "</style>\n",
       "<table border=\"1\" class=\"dataframe\">\n",
       "  <thead>\n",
       "    <tr style=\"text-align: right;\">\n",
       "      <th></th>\n",
       "      <th>Text_ID</th>\n",
       "      <th>ID</th>\n",
       "      <th>Title</th>\n",
       "      <th>Date</th>\n",
       "      <th>Body</th>\n",
       "      <th>Term</th>\n",
       "      <th>Session</th>\n",
       "      <th>Meeting</th>\n",
       "      <th>Sitting</th>\n",
       "      <th>Agenda</th>\n",
       "      <th>...</th>\n",
       "      <th>Speaker_minister</th>\n",
       "      <th>Speaker_party</th>\n",
       "      <th>Speaker_party_name</th>\n",
       "      <th>Party_status</th>\n",
       "      <th>Party_orientation</th>\n",
       "      <th>Speaker_ID</th>\n",
       "      <th>Speaker_name</th>\n",
       "      <th>Speaker_gender</th>\n",
       "      <th>Speaker_birth</th>\n",
       "      <th>Text</th>\n",
       "    </tr>\n",
       "  </thead>\n",
       "  <tbody>\n",
       "    <tr>\n",
       "      <th>50819</th>\n",
       "      <td>ParlaMint-ES-CT_2022-07-21-3602</td>\n",
       "      <td>ParlaMint-ES-CT_2022-07-21-3602.95.0</td>\n",
       "      <td>Corpus Parlamentari en català ParlaMint-ES-CT,...</td>\n",
       "      <td>2022-07-21</td>\n",
       "      <td>Unicameralisme</td>\n",
       "      <td>XIV Legislatura</td>\n",
       "      <td>-</td>\n",
       "      <td>36</td>\n",
       "      <td>2</td>\n",
       "      <td>-</td>\n",
       "      <td>...</td>\n",
       "      <td>notMinister</td>\n",
       "      <td>GP-JxCAT</td>\n",
       "      <td>Grup Parlamentari de Junts per Catalunya</td>\n",
       "      <td>Coalition</td>\n",
       "      <td>Entre centredreta i dreta</td>\n",
       "      <td>BorràsLaura</td>\n",
       "      <td>Borràs i Castanyer, Laura</td>\n",
       "      <td>F</td>\n",
       "      <td>1970</td>\n",
       "      <td>I, finalment, en nom del Grup Mixt, té la para...</td>\n",
       "    </tr>\n",
       "    <tr>\n",
       "      <th>50820</th>\n",
       "      <td>ParlaMint-ES-CT_2022-07-21-3602</td>\n",
       "      <td>ParlaMint-ES-CT_2022-07-21-3602.96.0</td>\n",
       "      <td>Corpus Parlamentari en català ParlaMint-ES-CT,...</td>\n",
       "      <td>2022-07-21</td>\n",
       "      <td>Unicameralisme</td>\n",
       "      <td>XIV Legislatura</td>\n",
       "      <td>-</td>\n",
       "      <td>36</td>\n",
       "      <td>2</td>\n",
       "      <td>-</td>\n",
       "      <td>...</td>\n",
       "      <td>notMinister</td>\n",
       "      <td>GP-GM</td>\n",
       "      <td>Grup Mixt</td>\n",
       "      <td>-</td>\n",
       "      <td>Entre centredreta i dreta</td>\n",
       "      <td>FernándezAlejandro</td>\n",
       "      <td>Fernández Álvarez, Alejandro</td>\n",
       "      <td>M</td>\n",
       "      <td>1976</td>\n",
       "      <td>Gràcies, presidenta. Quan es parla del litoral...</td>\n",
       "    </tr>\n",
       "    <tr>\n",
       "      <th>50821</th>\n",
       "      <td>ParlaMint-ES-CT_2022-07-21-3602</td>\n",
       "      <td>ParlaMint-ES-CT_2022-07-21-3602.97.0</td>\n",
       "      <td>Corpus Parlamentari en català ParlaMint-ES-CT,...</td>\n",
       "      <td>2022-07-21</td>\n",
       "      <td>Unicameralisme</td>\n",
       "      <td>XIV Legislatura</td>\n",
       "      <td>-</td>\n",
       "      <td>36</td>\n",
       "      <td>2</td>\n",
       "      <td>-</td>\n",
       "      <td>...</td>\n",
       "      <td>notMinister</td>\n",
       "      <td>GP-JxCAT</td>\n",
       "      <td>Grup Parlamentari de Junts per Catalunya</td>\n",
       "      <td>Coalition</td>\n",
       "      <td>Entre centredreta i dreta</td>\n",
       "      <td>BorràsLaura</td>\n",
       "      <td>Borràs i Castanyer, Laura</td>\n",
       "      <td>F</td>\n",
       "      <td>1970</td>\n",
       "      <td>Moltes gràcies. Finalment, per pronunciar-se s...</td>\n",
       "    </tr>\n",
       "    <tr>\n",
       "      <th>50822</th>\n",
       "      <td>ParlaMint-ES-CT_2022-07-21-3602</td>\n",
       "      <td>ParlaMint-ES-CT_2022-07-21-3602.98.0</td>\n",
       "      <td>Corpus Parlamentari en català ParlaMint-ES-CT,...</td>\n",
       "      <td>2022-07-21</td>\n",
       "      <td>Unicameralisme</td>\n",
       "      <td>XIV Legislatura</td>\n",
       "      <td>-</td>\n",
       "      <td>36</td>\n",
       "      <td>2</td>\n",
       "      <td>-</td>\n",
       "      <td>...</td>\n",
       "      <td>notMinister</td>\n",
       "      <td>GP-CUP</td>\n",
       "      <td>Grup Parlamentari de la Candidatura d'Unitat P...</td>\n",
       "      <td>Opposition</td>\n",
       "      <td>Entre esquerra i extrema esquerra</td>\n",
       "      <td>CornellàDani</td>\n",
       "      <td>Cornellà Detrell, Dani</td>\n",
       "      <td>M</td>\n",
       "      <td>1978</td>\n",
       "      <td>Bé, gràcies. Primer de tot, faré una esmena in...</td>\n",
       "    </tr>\n",
       "    <tr>\n",
       "      <th>50823</th>\n",
       "      <td>ParlaMint-ES-CT_2022-07-21-3602</td>\n",
       "      <td>ParlaMint-ES-CT_2022-07-21-3602.99.0</td>\n",
       "      <td>Corpus Parlamentari en català ParlaMint-ES-CT,...</td>\n",
       "      <td>2022-07-21</td>\n",
       "      <td>Unicameralisme</td>\n",
       "      <td>XIV Legislatura</td>\n",
       "      <td>-</td>\n",
       "      <td>36</td>\n",
       "      <td>2</td>\n",
       "      <td>-</td>\n",
       "      <td>...</td>\n",
       "      <td>notMinister</td>\n",
       "      <td>GP-JxCAT</td>\n",
       "      <td>Grup Parlamentari de Junts per Catalunya</td>\n",
       "      <td>Coalition</td>\n",
       "      <td>Entre centredreta i dreta</td>\n",
       "      <td>BorràsLaura</td>\n",
       "      <td>Borràs i Castanyer, Laura</td>\n",
       "      <td>F</td>\n",
       "      <td>1970</td>\n",
       "      <td>Un moment, diputat. Silenci, si us plau. Deman...</td>\n",
       "    </tr>\n",
       "  </tbody>\n",
       "</table>\n",
       "<p>5 rows × 24 columns</p>\n",
       "</div>"
      ],
      "text/plain": [
       "                               Text_ID                                    ID  \\\n",
       "50819  ParlaMint-ES-CT_2022-07-21-3602  ParlaMint-ES-CT_2022-07-21-3602.95.0   \n",
       "50820  ParlaMint-ES-CT_2022-07-21-3602  ParlaMint-ES-CT_2022-07-21-3602.96.0   \n",
       "50821  ParlaMint-ES-CT_2022-07-21-3602  ParlaMint-ES-CT_2022-07-21-3602.97.0   \n",
       "50822  ParlaMint-ES-CT_2022-07-21-3602  ParlaMint-ES-CT_2022-07-21-3602.98.0   \n",
       "50823  ParlaMint-ES-CT_2022-07-21-3602  ParlaMint-ES-CT_2022-07-21-3602.99.0   \n",
       "\n",
       "                                                   Title        Date  \\\n",
       "50819  Corpus Parlamentari en català ParlaMint-ES-CT,...  2022-07-21   \n",
       "50820  Corpus Parlamentari en català ParlaMint-ES-CT,...  2022-07-21   \n",
       "50821  Corpus Parlamentari en català ParlaMint-ES-CT,...  2022-07-21   \n",
       "50822  Corpus Parlamentari en català ParlaMint-ES-CT,...  2022-07-21   \n",
       "50823  Corpus Parlamentari en català ParlaMint-ES-CT,...  2022-07-21   \n",
       "\n",
       "                 Body             Term Session  Meeting  Sitting Agenda  ...  \\\n",
       "50819  Unicameralisme  XIV Legislatura       -       36        2      -  ...   \n",
       "50820  Unicameralisme  XIV Legislatura       -       36        2      -  ...   \n",
       "50821  Unicameralisme  XIV Legislatura       -       36        2      -  ...   \n",
       "50822  Unicameralisme  XIV Legislatura       -       36        2      -  ...   \n",
       "50823  Unicameralisme  XIV Legislatura       -       36        2      -  ...   \n",
       "\n",
       "      Speaker_minister Speaker_party  \\\n",
       "50819      notMinister      GP-JxCAT   \n",
       "50820      notMinister         GP-GM   \n",
       "50821      notMinister      GP-JxCAT   \n",
       "50822      notMinister        GP-CUP   \n",
       "50823      notMinister      GP-JxCAT   \n",
       "\n",
       "                                      Speaker_party_name Party_status  \\\n",
       "50819           Grup Parlamentari de Junts per Catalunya    Coalition   \n",
       "50820                                          Grup Mixt            -   \n",
       "50821           Grup Parlamentari de Junts per Catalunya    Coalition   \n",
       "50822  Grup Parlamentari de la Candidatura d'Unitat P...   Opposition   \n",
       "50823           Grup Parlamentari de Junts per Catalunya    Coalition   \n",
       "\n",
       "                       Party_orientation          Speaker_ID  \\\n",
       "50819          Entre centredreta i dreta         BorràsLaura   \n",
       "50820          Entre centredreta i dreta  FernándezAlejandro   \n",
       "50821          Entre centredreta i dreta         BorràsLaura   \n",
       "50822  Entre esquerra i extrema esquerra        CornellàDani   \n",
       "50823          Entre centredreta i dreta         BorràsLaura   \n",
       "\n",
       "                       Speaker_name Speaker_gender Speaker_birth  \\\n",
       "50819     Borràs i Castanyer, Laura              F          1970   \n",
       "50820  Fernández Álvarez, Alejandro              M          1976   \n",
       "50821     Borràs i Castanyer, Laura              F          1970   \n",
       "50822        Cornellà Detrell, Dani              M          1978   \n",
       "50823     Borràs i Castanyer, Laura              F          1970   \n",
       "\n",
       "                                                    Text  \n",
       "50819  I, finalment, en nom del Grup Mixt, té la para...  \n",
       "50820  Gràcies, presidenta. Quan es parla del litoral...  \n",
       "50821  Moltes gràcies. Finalment, per pronunciar-se s...  \n",
       "50822  Bé, gràcies. Primer de tot, faré una esmena in...  \n",
       "50823  Un moment, diputat. Silenci, si us plau. Deman...  \n",
       "\n",
       "[5 rows x 24 columns]"
      ]
     },
     "execution_count": 19,
     "metadata": {},
     "output_type": "execute_result"
    }
   ],
   "source": [
    "# taking a quick look at the ParlaMint dataframe\n",
    "parlaMint_df.tail()"
   ]
  },
  {
   "cell_type": "code",
   "execution_count": 20,
   "id": "56888df5-6771-4af5-ba54-382bed0c5e6d",
   "metadata": {},
   "outputs": [
    {
     "name": "stdout",
     "output_type": "stream",
     "text": [
      "Both the metadata and text dataframes had the following dimensions: (50824, 23)\n",
      "The merged data frame has the following dimensions: (50824, 24)\n"
     ]
    }
   ],
   "source": [
    "# re-checking dimensions\n",
    "print(\"Both the metadata and text dataframes had the following dimensions:\", metadata_df.shape)\n",
    "print(\"The merged data frame has the following dimensions:\", parlaMint_df.shape)"
   ]
  },
  {
   "cell_type": "markdown",
   "id": "d0836a6f-35a8-4acd-8b75-309801cbdaec",
   "metadata": {},
   "source": [
    "**Comment:**\\\n",
    "The dimensions are correct.\\\n",
    "There is the same number of rows and the text column has been added to the 23 columns that the metadata dataframe had before."
   ]
  },
  {
   "cell_type": "code",
   "execution_count": 21,
   "id": "e90ba047-b0e2-4f42-bbb5-74abc5e4ae2c",
   "metadata": {},
   "outputs": [
    {
     "name": "stdout",
     "output_type": "stream",
     "text": [
      "--- EDA ParlaMint ---\n",
      "The dataframe has: 50824 rows 24 columns \n",
      "\n",
      "Dataframe's info is:\n",
      "<class 'pandas.core.frame.DataFrame'>\n",
      "RangeIndex: 50824 entries, 0 to 50823\n",
      "Data columns (total 24 columns):\n",
      " #   Column              Non-Null Count  Dtype \n",
      "---  ------              --------------  ----- \n",
      " 0   Text_ID             50824 non-null  object\n",
      " 1   ID                  50824 non-null  object\n",
      " 2   Title               50824 non-null  object\n",
      " 3   Date                50824 non-null  object\n",
      " 4   Body                50824 non-null  object\n",
      " 5   Term                50824 non-null  object\n",
      " 6   Session             50824 non-null  object\n",
      " 7   Meeting             50824 non-null  int64 \n",
      " 8   Sitting             50824 non-null  int64 \n",
      " 9   Agenda              50824 non-null  object\n",
      " 10  Subcorpus           50824 non-null  object\n",
      " 11  Lang                50824 non-null  object\n",
      " 12  Speaker_role        50824 non-null  object\n",
      " 13  Speaker_MP          50824 non-null  object\n",
      " 14  Speaker_minister    50824 non-null  object\n",
      " 15  Speaker_party       50824 non-null  object\n",
      " 16  Speaker_party_name  50824 non-null  object\n",
      " 17  Party_status        50824 non-null  object\n",
      " 18  Party_orientation   50824 non-null  object\n",
      " 19  Speaker_ID          50824 non-null  object\n",
      " 20  Speaker_name        50824 non-null  object\n",
      " 21  Speaker_gender      50824 non-null  object\n",
      " 22  Speaker_birth       50824 non-null  int64 \n",
      " 23  Text                50824 non-null  object\n",
      "dtypes: int64(3), object(21)\n",
      "memory usage: 9.3+ MB\n",
      "None \n",
      "\n",
      "The Dataframe's 24 columns are: \n",
      " Index(['Text_ID', 'ID', 'Title', 'Date', 'Body', 'Term', 'Session', 'Meeting',\n",
      "       'Sitting', 'Agenda', 'Subcorpus', 'Lang', 'Speaker_role', 'Speaker_MP',\n",
      "       'Speaker_minister', 'Speaker_party', 'Speaker_party_name',\n",
      "       'Party_status', 'Party_orientation', 'Speaker_ID', 'Speaker_name',\n",
      "       'Speaker_gender', 'Speaker_birth', 'Text'],\n",
      "      dtype='object') \n",
      "\n",
      "The total length of the Dataframe excluding the metadata is: \n",
      " 93652958 \n",
      "\n",
      "The data ranges from 2015-10-26 to 2022-07-21 \n",
      "\n",
      "The description of the dataframe is: \n",
      "             Meeting       Sitting  Speaker_birth       Text_len\n",
      "count  50824.000000  50824.000000   50824.000000   50824.000000\n",
      "mean      29.907347      1.724835    1970.159728    1842.691602\n",
      "std       15.522619      0.744640      10.247445    3554.248363\n",
      "min        1.000000      1.000000    1905.000000       2.000000\n",
      "25%       19.000000      1.000000    1962.000000      78.000000\n",
      "50%       28.000000      2.000000    1973.000000     186.000000\n",
      "75%       38.000000      2.000000    1979.000000    2277.250000\n",
      "max       68.000000      5.000000    1996.000000  119598.000000 \n",
      " \n",
      "\n"
     ]
    },
    {
     "data": {
      "image/png": "[encoded data removed]",
      "text/plain": [
       "<Figure size 1200x200 with 1 Axes>"
      ]
     },
     "metadata": {},
     "output_type": "display_data"
    }
   ],
   "source": [
    "generalEDA(parlaMint_df, \"ParlaMint\")"
   ]
  },
  {
   "cell_type": "code",
   "execution_count": 22,
   "id": "20ead7cf-a0f8-461c-bf18-04748c9ee037",
   "metadata": {},
   "outputs": [
    {
     "name": "stdout",
     "output_type": "stream",
     "text": [
      "\n",
      "Speaker_gender\n",
      "M    27950\n",
      "F    22874\n",
      "Name: count, dtype: int64\n",
      "\n",
      "The total of speakers is: 348\n",
      "\n",
      "The transcription count by speaker is: \n",
      " Speaker_name\n",
      "Torrent i Ramió, Roger            10173\n",
      "Forcadell i Lluís, Carme           8109\n",
      "Borràs i Castanyer, Laura          4926\n",
      "Costa i Rosselló, Josep            1390\n",
      "Gallego i Herrera, Joan Carles     1079\n",
      "Carrizosa Torres, Carlos            977\n",
      "Rodríguez i Serra, Santi            626\n",
      "Aragonès i Garcia, Pere             616\n",
      "Fernández Álvarez, Alejandro        547\n",
      "Torra i Pla, Joaquim                531\n",
      "Name: count, dtype: int64\n",
      "\n",
      "Percentage of the data spoken/recorded from the most frequent speaker on the corpora: 20.02%\n",
      "\n",
      "Year count sorted by year: \n",
      " {'2015': 194, '2016': 7955, '2017': 8055, '2018': 5659, '2019': 10059, '2020': 7304, '2021': 5726, '2022': 5872} \n",
      "\n",
      "Year count sorted by transcriptions count: \n",
      " [('2019', 10059), ('2017', 8055), ('2016', 7955), ('2020', 7304), ('2022', 5872), ('2021', 5726), ('2018', 5659), ('2015', 194)]\n",
      "\n",
      "Torrent i Ramió, Roger - 3145229\n",
      "Aragonès i Garcia, Pere - 2373671\n",
      "Torra i Pla, Joaquim - 1752425\n",
      "Forcadell i Lluís, Carme - 1731761\n",
      "Romero Llano, Alícia - 1712075\n",
      "\n",
      "\n",
      "Percentage of the data spoken/recorded from the most frequent speaker on the corpora in characters: 3.36%\n"
     ]
    }
   ],
   "source": [
    "# dataframe-specific EDA\n",
    "print()\n",
    "print(parlaMint_df[\"Speaker_gender\"].value_counts())\n",
    "print()\n",
    "print(\"The total of speakers is:\", len(set(parlaMint_df[\"Speaker_name\"].values)))\n",
    "print()\n",
    "print(\"The transcription count by speaker is:\", \"\\n\", parlaMint_df[\"Speaker_name\"].value_counts()[:10])\n",
    "print()\n",
    "percentage = (100 * parlaMint_df[\"Speaker_name\"].value_counts().iloc[0]) / parlaMint_df.shape[0]\n",
    "print(\"Percentage of the data spoken/recorded from the most frequent speaker on the corpora:\", f\"{percentage:.2f}%\")\n",
    "print()\n",
    "\n",
    "# dictionary to store count per year, with year as key\n",
    "year_count = {}\n",
    "\n",
    "# setting date as the index of the dataframe\n",
    "parlaMint_df = parlaMint_df.set_index(\"Date\")\n",
    "\n",
    "# iterating over the rows \n",
    "for date, row in parlaMint_df.iterrows():\n",
    "    date = date[0:4]\n",
    "    if date not in year_count:\n",
    "        year_count[date] = 1  # adding year key to year_count\n",
    "    else:\n",
    "        year_count[date] += 1 # adding count to the year_count year\n",
    "\n",
    "print(\"Year count sorted by year:\", \"\\n\", year_count, \"\\n\")\n",
    "year_count = sorted(year_count.items(), key=lambda x: x[1], reverse = True)\n",
    "print(\"Year count sorted by transcriptions count:\", \"\\n\", year_count)\n",
    "print()\n",
    "\n",
    "parlaMint_df = parlaMint_df.reset_index() # reseting parlaMint index, so Date is not index anymore\n",
    "\n",
    "#-----------------------------------------------------------------------------\n",
    "speaker_toks = {}\n",
    "\n",
    "# setting speaker as the index of the dataframe\n",
    "parlaMint_df = parlaMint_df.set_index(\"Speaker_name\")\n",
    "\n",
    "# iterating over the rows \n",
    "for speaker, row in parlaMint_df.iterrows():\n",
    "    if speaker not in speaker_toks:\n",
    "        speaker_toks[speaker] = row[\"Text_len\"]  # initializing author's length total\n",
    "    else:\n",
    "        speaker_toks[speaker] += row[\"Text_len\"] # accumulating length to already present author\n",
    "\n",
    "parlaMint_df = parlaMint_df.reset_index() # reseting parlaMint index, so Speaker_name is not index anymore\n",
    "\n",
    "sorted_speaker_toks = sorted(speaker_toks.items(), key=lambda x: x[1], reverse = True)\n",
    "top5_speaker_toks = sorted_speaker_toks[:5]\n",
    "for item in top5_speaker_toks:\n",
    "    speaker = item[0]\n",
    "    print(speaker, \"-\", speaker_toks[speaker])\n",
    "\n",
    "print()\n",
    "percentage = (100 * speaker_toks[top5_speaker_toks[0][0]]) / parlaMint_df[\"Text_len\"].sum()\n",
    "\n",
    "print()\n",
    "print(\"Percentage of the data spoken/recorded from the most frequent speaker on the corpora in characters:\", f\"{percentage:.2f}%\")"
   ]
  },
  {
   "cell_type": "code",
   "execution_count": 23,
   "id": "41ce28c1-c3a6-4654-a236-fcb9f22178d9",
   "metadata": {},
   "outputs": [],
   "source": [
    "# storing ParlaMint dataframe as pickle\n",
    "parlaMint_df.to_pickle('parlaMint.pkl')"
   ]
  },
  {
   "cell_type": "markdown",
   "id": "c27ff4de-0b17-4e29-8af5-921491506523",
   "metadata": {},
   "source": [
    "**Exploratory Analysis Summary:**\\\n",
    "After parsing the data and turining it into a pandas data frame, the ParlaMint data frame has 24 columns.\\\n",
    "Out of the 24, twenty-three of the columns correspond to the metadata, all extracted from the tsv files. Some examples are the text ID, the role of the speaker, their gender, their year of birth and Language they speak in (relevant when comparing the different languages in the ParlaMint corpora).\\\n",
    "The last column, the 25th is the content/text, the transcription of the plenary session which as been extracted from the txt files and included in the dataframe previously.\\\n",
    "The oldest work from the ParlaMint copora is from October 2015, and the most recent from September 2022.\\\n",
    "The total length, and hence the amount of data we have in total from the ParlaMint corpora is about 90,000,000 characters.\\\n",
    "These come from different length texts, as we find that the shortest contributes to the total with 2 word characters, and the longest with about 100,000 characters.\\\n",
    "The average length of the 50824 transcriptions is about 1800 characters per text.\\\n",
    "The corpora give us information about Catalan through a span of 7 years. All of the seven years are represented in the corpora. However, while in 2019 over 10,000 transcriptions were recorded, in 2015 not even 200 were recorded. That is the exception, however, as the rest of the years, from 2016 to 2019, all are represented with over 5,000 transcriptions.\\\n",
    "Fortunately, the Parlament Parla corpora, previously loaded, contains data from 2007 to 2015 which will make up for this difference.\\\n",
    "The speaker's gender is evenly represented in the corpora, as we find around 2,500 transcriptons for both female and male speakers.\\\n",
    "There speech is from about 350 speakers which allows us to assume our data is not speaker-specific. However, we do note that the most frequent speaker in the corpora contributes to a 20% of the data. Looking at that percentage, it seemed like it could be a problem, as the specific speaker's speech style could be changing our analysis. To be certain about whether most of the data was on their speech or not the percentage was calculated off characters. As a result we found that only 3.36% of the data recorded was said by the most frequent speaker on the data set, which allows us to conclude it shouldn't be an issue when analyzing the data and drawing conclusions."
   ]
  },
  {
   "cell_type": "markdown",
   "id": "8182a096-208a-47c1-b668-1cbabe8dafc9",
   "metadata": {},
   "source": [
    "### 2.4 Radioteca.cat"
   ]
  },
  {
   "cell_type": "markdown",
   "id": "d9195062-6c02-4320-a67e-2f73fe5cea51",
   "metadata": {},
   "source": [
    "Radioteca is a web-based library so will scrape the transcription of the broadcasts using beautiful soup.\n",
    "The owner and creator of the library also provided a google sheets file containing the metadata, such as date aired, publisher, program name, title and URL. We will be using that data as well reading it in as a csv file. "
   ]
  },
  {
   "cell_type": "code",
   "execution_count": 24,
   "id": "38f666b3-a9b4-4e7e-a0d3-f4af93793022",
   "metadata": {},
   "outputs": [],
   "source": [
    "from bs4 import BeautifulSoup\n",
    "import requests"
   ]
  },
  {
   "cell_type": "code",
   "execution_count": 25,
   "id": "53b66a7d-62f3-48ae-a49f-58b36ccc28b8",
   "metadata": {},
   "outputs": [],
   "source": [
    "# loading the csv file with the metadata and link to each of the transcriptions\n",
    "radioteca_df = pd.read_csv(\"data/TranscripcionsRadioteca.csv\", header = 0)"
   ]
  },
  {
   "cell_type": "code",
   "execution_count": 26,
   "id": "04ab813c-8ae2-4cc0-b8d2-f43fbac2bcef",
   "metadata": {},
   "outputs": [
    {
     "data": {
      "text/html": [
       "<div>\n",
       "<style scoped>\n",
       "    .dataframe tbody tr th:only-of-type {\n",
       "        vertical-align: middle;\n",
       "    }\n",
       "\n",
       "    .dataframe tbody tr th {\n",
       "        vertical-align: top;\n",
       "    }\n",
       "\n",
       "    .dataframe thead th {\n",
       "        text-align: right;\n",
       "    }\n",
       "</style>\n",
       "<table border=\"1\" class=\"dataframe\">\n",
       "  <thead>\n",
       "    <tr style=\"text-align: right;\">\n",
       "      <th></th>\n",
       "      <th>Date Aired</th>\n",
       "      <th>Publisher</th>\n",
       "      <th>Program Name</th>\n",
       "      <th>Title</th>\n",
       "      <th>URL</th>\n",
       "    </tr>\n",
       "  </thead>\n",
       "  <tbody>\n",
       "    <tr>\n",
       "      <th>0</th>\n",
       "      <td>2025-03-09</td>\n",
       "      <td>Cadena SER</td>\n",
       "      <td>Tot és Comèdia</td>\n",
       "      <td>ENTREVISTA. Àngel Duran</td>\n",
       "      <td>https://radioteca.cat/p/tot-es-comedia/2025/03...</td>\n",
       "    </tr>\n",
       "    <tr>\n",
       "      <th>1</th>\n",
       "      <td>2025-03-09</td>\n",
       "      <td>RAC1</td>\n",
       "      <td>Viatja Bé - Món natural</td>\n",
       "      <td>Fem una ruta fins al Santuari de Sant Llorenç ...</td>\n",
       "      <td>https://radioteca.cat/p/viatja-be_mon-natural/...</td>\n",
       "    </tr>\n",
       "    <tr>\n",
       "      <th>2</th>\n",
       "      <td>2025-03-09</td>\n",
       "      <td>RAC1</td>\n",
       "      <td>Viatja Bé - Descobrim</td>\n",
       "      <td>Sania Jelic viatja sola pel mon contra l'edadisme</td>\n",
       "      <td>https://radioteca.cat/p/viatja-be_descobrim/20...</td>\n",
       "    </tr>\n",
       "    <tr>\n",
       "      <th>3</th>\n",
       "      <td>2025-03-09</td>\n",
       "      <td>RAC1</td>\n",
       "      <td>Viatja Bé Hora a Hora</td>\n",
       "      <td>Diumenge 09/03/25 - 15 h</td>\n",
       "      <td>https://radioteca.cat/p/viatja-be_sencer/2025/...</td>\n",
       "    </tr>\n",
       "    <tr>\n",
       "      <th>4</th>\n",
       "      <td>2025-03-09</td>\n",
       "      <td>Catalunya Ràdio</td>\n",
       "      <td>En guàrdia!</td>\n",
       "      <td>Matías Granja, del Pallars a Xile</td>\n",
       "      <td>https://radioteca.cat/p/en-guardia/2025/03/09/...</td>\n",
       "    </tr>\n",
       "  </tbody>\n",
       "</table>\n",
       "</div>"
      ],
      "text/plain": [
       "   Date Aired        Publisher             Program Name  \\\n",
       "0  2025-03-09       Cadena SER           Tot és Comèdia   \n",
       "1  2025-03-09             RAC1  Viatja Bé - Món natural   \n",
       "2  2025-03-09             RAC1    Viatja Bé - Descobrim   \n",
       "3  2025-03-09             RAC1    Viatja Bé Hora a Hora   \n",
       "4  2025-03-09  Catalunya Ràdio              En guàrdia!   \n",
       "\n",
       "                                               Title  \\\n",
       "0                            ENTREVISTA. Àngel Duran   \n",
       "1  Fem una ruta fins al Santuari de Sant Llorenç ...   \n",
       "2  Sania Jelic viatja sola pel mon contra l'edadisme   \n",
       "3                           Diumenge 09/03/25 - 15 h   \n",
       "4                  Matías Granja, del Pallars a Xile   \n",
       "\n",
       "                                                 URL  \n",
       "0  https://radioteca.cat/p/tot-es-comedia/2025/03...  \n",
       "1  https://radioteca.cat/p/viatja-be_mon-natural/...  \n",
       "2  https://radioteca.cat/p/viatja-be_descobrim/20...  \n",
       "3  https://radioteca.cat/p/viatja-be_sencer/2025/...  \n",
       "4  https://radioteca.cat/p/en-guardia/2025/03/09/...  "
      ]
     },
     "execution_count": 26,
     "metadata": {},
     "output_type": "execute_result"
    }
   ],
   "source": [
    "radioteca_df.head()"
   ]
  },
  {
   "cell_type": "code",
   "execution_count": 27,
   "id": "e50449ad-5df5-4612-af26-e42d1f81b572",
   "metadata": {},
   "outputs": [],
   "source": [
    "# changing the column names for our convenience\n",
    "radioteca_df.columns = [\"Date\", \"Publisher\", \"Program_name\", \"Title\", \"URL\"]"
   ]
  },
  {
   "cell_type": "code",
   "execution_count": 28,
   "id": "ab208c5e-270b-4da3-a754-0b96511c01f6",
   "metadata": {},
   "outputs": [
    {
     "data": {
      "text/html": [
       "<div>\n",
       "<style scoped>\n",
       "    .dataframe tbody tr th:only-of-type {\n",
       "        vertical-align: middle;\n",
       "    }\n",
       "\n",
       "    .dataframe tbody tr th {\n",
       "        vertical-align: top;\n",
       "    }\n",
       "\n",
       "    .dataframe thead th {\n",
       "        text-align: right;\n",
       "    }\n",
       "</style>\n",
       "<table border=\"1\" class=\"dataframe\">\n",
       "  <thead>\n",
       "    <tr style=\"text-align: right;\">\n",
       "      <th></th>\n",
       "      <th>Date</th>\n",
       "      <th>Publisher</th>\n",
       "      <th>Program_name</th>\n",
       "      <th>Title</th>\n",
       "      <th>URL</th>\n",
       "    </tr>\n",
       "  </thead>\n",
       "  <tbody>\n",
       "    <tr>\n",
       "      <th>0</th>\n",
       "      <td>2025-03-09</td>\n",
       "      <td>Cadena SER</td>\n",
       "      <td>Tot és Comèdia</td>\n",
       "      <td>ENTREVISTA. Àngel Duran</td>\n",
       "      <td>https://radioteca.cat/p/tot-es-comedia/2025/03...</td>\n",
       "    </tr>\n",
       "    <tr>\n",
       "      <th>1</th>\n",
       "      <td>2025-03-09</td>\n",
       "      <td>RAC1</td>\n",
       "      <td>Viatja Bé - Món natural</td>\n",
       "      <td>Fem una ruta fins al Santuari de Sant Llorenç ...</td>\n",
       "      <td>https://radioteca.cat/p/viatja-be_mon-natural/...</td>\n",
       "    </tr>\n",
       "    <tr>\n",
       "      <th>2</th>\n",
       "      <td>2025-03-09</td>\n",
       "      <td>RAC1</td>\n",
       "      <td>Viatja Bé - Descobrim</td>\n",
       "      <td>Sania Jelic viatja sola pel mon contra l'edadisme</td>\n",
       "      <td>https://radioteca.cat/p/viatja-be_descobrim/20...</td>\n",
       "    </tr>\n",
       "    <tr>\n",
       "      <th>3</th>\n",
       "      <td>2025-03-09</td>\n",
       "      <td>RAC1</td>\n",
       "      <td>Viatja Bé Hora a Hora</td>\n",
       "      <td>Diumenge 09/03/25 - 15 h</td>\n",
       "      <td>https://radioteca.cat/p/viatja-be_sencer/2025/...</td>\n",
       "    </tr>\n",
       "    <tr>\n",
       "      <th>4</th>\n",
       "      <td>2025-03-09</td>\n",
       "      <td>Catalunya Ràdio</td>\n",
       "      <td>En guàrdia!</td>\n",
       "      <td>Matías Granja, del Pallars a Xile</td>\n",
       "      <td>https://radioteca.cat/p/en-guardia/2025/03/09/...</td>\n",
       "    </tr>\n",
       "  </tbody>\n",
       "</table>\n",
       "</div>"
      ],
      "text/plain": [
       "         Date        Publisher             Program_name  \\\n",
       "0  2025-03-09       Cadena SER           Tot és Comèdia   \n",
       "1  2025-03-09             RAC1  Viatja Bé - Món natural   \n",
       "2  2025-03-09             RAC1    Viatja Bé - Descobrim   \n",
       "3  2025-03-09             RAC1    Viatja Bé Hora a Hora   \n",
       "4  2025-03-09  Catalunya Ràdio              En guàrdia!   \n",
       "\n",
       "                                               Title  \\\n",
       "0                            ENTREVISTA. Àngel Duran   \n",
       "1  Fem una ruta fins al Santuari de Sant Llorenç ...   \n",
       "2  Sania Jelic viatja sola pel mon contra l'edadisme   \n",
       "3                           Diumenge 09/03/25 - 15 h   \n",
       "4                  Matías Granja, del Pallars a Xile   \n",
       "\n",
       "                                                 URL  \n",
       "0  https://radioteca.cat/p/tot-es-comedia/2025/03...  \n",
       "1  https://radioteca.cat/p/viatja-be_mon-natural/...  \n",
       "2  https://radioteca.cat/p/viatja-be_descobrim/20...  \n",
       "3  https://radioteca.cat/p/viatja-be_sencer/2025/...  \n",
       "4  https://radioteca.cat/p/en-guardia/2025/03/09/...  "
      ]
     },
     "execution_count": 28,
     "metadata": {},
     "output_type": "execute_result"
    }
   ],
   "source": [
    "radioteca_df.head()"
   ]
  },
  {
   "cell_type": "code",
   "execution_count": 29,
   "id": "5b28b29d-994e-4b5f-aba3-26597b77a37a",
   "metadata": {},
   "outputs": [
    {
     "name": "stdout",
     "output_type": "stream",
     "text": [
      "Index([363678], dtype='int64')\n"
     ]
    }
   ],
   "source": [
    "radioteca_df[\"Date\"] = pd.to_datetime(radioteca_df['Date'])\n",
    "radioteca_df[\"Year\"] = radioteca_df['Date'].dt.year\n",
    "item =(radioteca_df[pd.isnull(radioteca_df[\"Date\"]) == True]).index\n",
    "print(item)\n",
    "radioteca_df = radioteca_df.drop(item)  # it's just one row NaN so we'll just drop that one"
   ]
  },
  {
   "cell_type": "code",
   "execution_count": 30,
   "id": "f4bfb2f0-df61-45a1-8e46-daad18f2ba7d",
   "metadata": {},
   "outputs": [],
   "source": [
    "# setting the URL as index so we can scrape the pages more easly\n",
    "radioteca_df = radioteca_df.set_index(\"URL\")"
   ]
  },
  {
   "cell_type": "code",
   "execution_count": 31,
   "id": "23299b91-7451-4079-bfab-d46915c91fe8",
   "metadata": {},
   "outputs": [],
   "source": [
    "# sample radioteca HTML content\n",
    "sampleHTML = '''\n",
    "<div class=\"transcript-segment\">\n",
    "    <div class=\"transcript-speaker\">\n",
    "        <span style=\"color:#aaffc3\">Veu E</span>\n",
    "        <span class=\"transcript-time\">00:00:04</span>\n",
    "    </div>\n",
    "    <p class=\"transcript-text\">Tot és comèdia. Màxim Castillo.</p>\n",
    "</div>\n",
    "'''"
   ]
  },
  {
   "cell_type": "code",
   "execution_count": 32,
   "id": "9e431f2a-0355-405e-b835-179a5cd5c86e",
   "metadata": {},
   "outputs": [],
   "source": [
    "# global session object to be reused for much faster scraping\n",
    "session = requests.Session()\n",
    "\n",
    "def scrape_radiotecafile(file):\n",
    "    '''\n",
    "    Function to scrape Radioteca.cat\n",
    "    makes a GET request to retrieve the webpage content \n",
    "    \n",
    "    Scaping section: \n",
    "    \"transcript-container\" - contains transcript\n",
    "    if container exists we iterate through \"transcript-segment(s)\" within\n",
    "    and extract: \n",
    "    1- line id - as \"transcript-speaker\" (format: SpeakerTimestamp)\n",
    "    2- speaker - the first 5 characters of the line-id\n",
    "    3- time - \"transcript-time\"\n",
    "    4- text/line - \"transcript-text\"\n",
    "\n",
    "    to this data then we add:\n",
    "    the date, the publisher, the program name, the title and the year\n",
    "    all from the radioteca dataframe we created after the csv file previously\n",
    "\n",
    "    all data is attached to the content dictionary as a list, where the key is the line_id\n",
    "    the dictionary is returned\n",
    "    '''\n",
    "\n",
    "    # request\n",
    "    response = session.get(url)  \n",
    "    response.raise_for_status()\n",
    "\n",
    "    # fetch\n",
    "    soup = BeautifulSoup(response.text, \"html.parser\")\n",
    "    transcript_section = soup.find(\"div\", class_=\"transcript-container\")\n",
    "    content = {}\n",
    "\n",
    "\n",
    "    if transcript_section:\n",
    "        for segment in transcript_section.find_all(\"div\", class_=\"transcript-segment\"):\n",
    "            # get the text of the transcipt\n",
    "            segment_text = segment.get_text(strip=True)\n",
    "            \n",
    "            # extracting the line_id (speaker+time), speaker, time and the text\n",
    "            if segment.find(\"p\", class_=\"transcript-text\"):\n",
    "                line_id = segment.find(\"div\", class_=\"transcript-speaker\").get_text(strip=True)\n",
    "                speaker = line_id[:5]\n",
    "                time = segment.find(\"span\", class_=\"transcript-time\").get_text(strip=True)\n",
    "                text = segment.find(\"p\", class_=\"transcript-text\").get_text(strip=True)\n",
    "\n",
    "                # getting metadata from the dataframe resulting from the csv\n",
    "                metadata = radioteca_df.loc[url]\n",
    "                content[line_id] = [speaker, time, text, metadata[\"Date\"], metadata[\"Publisher\"], \n",
    "                                    metadata[\"Program_name\"], metadata[\"Title\"], url, metadata[\"Year\"]]\n",
    "                \n",
    "    return content"
   ]
  },
  {
   "cell_type": "code",
   "execution_count": 33,
   "id": "6725368e-1512-43e8-bac6-ad8009386473",
   "metadata": {},
   "outputs": [
    {
     "data": {
      "text/plain": [
       "(364417, 5)"
      ]
     },
     "execution_count": 33,
     "metadata": {},
     "output_type": "execute_result"
    }
   ],
   "source": [
    "radioteca_df.shape"
   ]
  },
  {
   "cell_type": "markdown",
   "id": "a21a676f-dc3f-4a12-86ad-06fc777e195c",
   "metadata": {},
   "source": [
    "**Comment:**\\\n",
    "36,4417 pages is a lot of pages and many transcriptions.\\\n",
    "I started by aiming to scrape all of them, however, the process was too long.\\\n",
    "Moreover, managing and going through the amount of data including radioteca with the other dataframes would have been quite unproductive.\\\n",
    "That is, every step of the process would take a lot longer.\\\n",
    "My second thought was getting data from 2010 and earlier, which is where we have the least amount of data with the previous data sets, specifically creating a gap around the 2000. And also a \"second scrape\" of data after 2022 which is more recent than any data we have in the previous resources.\\\n",
    "However, after 2022 the amount of data included in radioteca boosts by a lot, which made the process of analyzing it through the Exploratory Data Analysis, already remarkably slower. Therefore, for effectivity purposes, the final decision was to attempt to bridge the \"century change\" gap created by the other corpora, but sticking to 2022 as the last year included in the corpora."
   ]
  },
  {
   "cell_type": "code",
   "execution_count": 34,
   "id": "f8f1734f-4d18-40fb-a670-eef354a5329f",
   "metadata": {},
   "outputs": [],
   "source": [
    "# reducing the metadata dataframe to keep only the broadcasts up to 2010\n",
    "radioteca_df_bef2010 = radioteca_df[radioteca_df[\"Year\"] <= 2010]"
   ]
  },
  {
   "cell_type": "code",
   "execution_count": 35,
   "id": "4488747e-f2e4-41d8-8618-585481bb84e3",
   "metadata": {},
   "outputs": [
    {
     "data": {
      "text/plain": [
       "(16086, 5)"
      ]
     },
     "execution_count": 35,
     "metadata": {},
     "output_type": "execute_result"
    }
   ],
   "source": [
    "radioteca_df_bef2010.shape"
   ]
  },
  {
   "cell_type": "markdown",
   "id": "e60c4a0c-2c6d-41c0-952a-9bc33ac3a8fa",
   "metadata": {},
   "source": [
    "**Comment:**\\\n",
    "Keeping only the pages of broadcasts up to 2010 leaves us with 16,086 pages.\\\n",
    "It is still a great amount of data in a more manageable size."
   ]
  },
  {
   "cell_type": "markdown",
   "id": "d6424743-763e-4db6-bcc5-6f4364341327",
   "metadata": {},
   "source": [
    "**In the following lines of code:**\\\n",
    "The process of web-scraping is implemented through the function we previously defined.\n",
    "It is surounded by \"tqdm\" to see the progress.\\\n",
    "It is also surrounded by various try and exception catches, all included through trial and error because this is a risky and long operation, and a single error would stop our progress and result in no data being saved from the scraping process. "
   ]
  },
  {
   "cell_type": "code",
   "execution_count": 37,
   "id": "af3ef04e-34bd-474a-9c51-fa64ae765a9b",
   "metadata": {},
   "outputs": [
    {
     "name": "stderr",
     "output_type": "stream",
     "text": [
      "  5%|█▋                                   | 730/16086 [05:00<1:45:31,  2.43it/s]\n"
     ]
    },
    {
     "ename": "KeyboardInterrupt",
     "evalue": "",
     "output_type": "error",
     "traceback": [
      "\u001b[0;31m---------------------------------------------------------------------------\u001b[0m",
      "\u001b[0;31mKeyboardInterrupt\u001b[0m                         Traceback (most recent call last)",
      "Cell \u001b[0;32mIn[37], line 32\u001b[0m\n\u001b[1;32m     29\u001b[0m     \u001b[38;5;28;01mcontinue\u001b[39;00m\n\u001b[1;32m     31\u001b[0m \u001b[38;5;28;01mtry\u001b[39;00m:\n\u001b[0;32m---> 32\u001b[0m     dictionary \u001b[38;5;241m=\u001b[39m \u001b[43mscrape_radiotecafile\u001b[49m\u001b[43m(\u001b[49m\u001b[43murl\u001b[49m\u001b[43m)\u001b[49m\n\u001b[1;32m     33\u001b[0m \u001b[38;5;28;01mexcept\u001b[39;00m RequestException \u001b[38;5;28;01mas\u001b[39;00m e:\n\u001b[1;32m     34\u001b[0m     \u001b[38;5;28;01mcontinue\u001b[39;00m\n",
      "Cell \u001b[0;32mIn[32], line 27\u001b[0m, in \u001b[0;36mscrape_radiotecafile\u001b[0;34m(file)\u001b[0m\n\u001b[1;32m      5\u001b[0m \u001b[38;5;250m\u001b[39m\u001b[38;5;124;03m'''\u001b[39;00m\n\u001b[1;32m      6\u001b[0m \u001b[38;5;124;03mFunction to scrape Radioteca.cat\u001b[39;00m\n\u001b[1;32m      7\u001b[0m \u001b[38;5;124;03mmakes a GET request to retrieve the webpage content \u001b[39;00m\n\u001b[0;32m   (...)\u001b[0m\n\u001b[1;32m     23\u001b[0m \u001b[38;5;124;03mthe dictionary is returned\u001b[39;00m\n\u001b[1;32m     24\u001b[0m \u001b[38;5;124;03m'''\u001b[39;00m\n\u001b[1;32m     26\u001b[0m \u001b[38;5;66;03m# request\u001b[39;00m\n\u001b[0;32m---> 27\u001b[0m response \u001b[38;5;241m=\u001b[39m \u001b[43msession\u001b[49m\u001b[38;5;241;43m.\u001b[39;49m\u001b[43mget\u001b[49m\u001b[43m(\u001b[49m\u001b[43murl\u001b[49m\u001b[43m)\u001b[49m  \n\u001b[1;32m     28\u001b[0m response\u001b[38;5;241m.\u001b[39mraise_for_status()\n\u001b[1;32m     30\u001b[0m \u001b[38;5;66;03m# fetch\u001b[39;00m\n",
      "File \u001b[0;32m/Library/Frameworks/Python.framework/Versions/3.12/lib/python3.12/site-packages/requests/sessions.py:602\u001b[0m, in \u001b[0;36mSession.get\u001b[0;34m(self, url, **kwargs)\u001b[0m\n\u001b[1;32m    594\u001b[0m \u001b[38;5;250m\u001b[39m\u001b[38;5;124mr\u001b[39m\u001b[38;5;124;03m\"\"\"Sends a GET request. Returns :class:`Response` object.\u001b[39;00m\n\u001b[1;32m    595\u001b[0m \n\u001b[1;32m    596\u001b[0m \u001b[38;5;124;03m:param url: URL for the new :class:`Request` object.\u001b[39;00m\n\u001b[1;32m    597\u001b[0m \u001b[38;5;124;03m:param \\*\\*kwargs: Optional arguments that ``request`` takes.\u001b[39;00m\n\u001b[1;32m    598\u001b[0m \u001b[38;5;124;03m:rtype: requests.Response\u001b[39;00m\n\u001b[1;32m    599\u001b[0m \u001b[38;5;124;03m\"\"\"\u001b[39;00m\n\u001b[1;32m    601\u001b[0m kwargs\u001b[38;5;241m.\u001b[39msetdefault(\u001b[38;5;124m\"\u001b[39m\u001b[38;5;124mallow_redirects\u001b[39m\u001b[38;5;124m\"\u001b[39m, \u001b[38;5;28;01mTrue\u001b[39;00m)\n\u001b[0;32m--> 602\u001b[0m \u001b[38;5;28;01mreturn\u001b[39;00m \u001b[38;5;28;43mself\u001b[39;49m\u001b[38;5;241;43m.\u001b[39;49m\u001b[43mrequest\u001b[49m\u001b[43m(\u001b[49m\u001b[38;5;124;43m\"\u001b[39;49m\u001b[38;5;124;43mGET\u001b[39;49m\u001b[38;5;124;43m\"\u001b[39;49m\u001b[43m,\u001b[49m\u001b[43m \u001b[49m\u001b[43murl\u001b[49m\u001b[43m,\u001b[49m\u001b[43m \u001b[49m\u001b[38;5;241;43m*\u001b[39;49m\u001b[38;5;241;43m*\u001b[39;49m\u001b[43mkwargs\u001b[49m\u001b[43m)\u001b[49m\n",
      "File \u001b[0;32m/Library/Frameworks/Python.framework/Versions/3.12/lib/python3.12/site-packages/requests/sessions.py:589\u001b[0m, in \u001b[0;36mSession.request\u001b[0;34m(self, method, url, params, data, headers, cookies, files, auth, timeout, allow_redirects, proxies, hooks, stream, verify, cert, json)\u001b[0m\n\u001b[1;32m    584\u001b[0m send_kwargs \u001b[38;5;241m=\u001b[39m {\n\u001b[1;32m    585\u001b[0m     \u001b[38;5;124m\"\u001b[39m\u001b[38;5;124mtimeout\u001b[39m\u001b[38;5;124m\"\u001b[39m: timeout,\n\u001b[1;32m    586\u001b[0m     \u001b[38;5;124m\"\u001b[39m\u001b[38;5;124mallow_redirects\u001b[39m\u001b[38;5;124m\"\u001b[39m: allow_redirects,\n\u001b[1;32m    587\u001b[0m }\n\u001b[1;32m    588\u001b[0m send_kwargs\u001b[38;5;241m.\u001b[39mupdate(settings)\n\u001b[0;32m--> 589\u001b[0m resp \u001b[38;5;241m=\u001b[39m \u001b[38;5;28;43mself\u001b[39;49m\u001b[38;5;241;43m.\u001b[39;49m\u001b[43msend\u001b[49m\u001b[43m(\u001b[49m\u001b[43mprep\u001b[49m\u001b[43m,\u001b[49m\u001b[43m \u001b[49m\u001b[38;5;241;43m*\u001b[39;49m\u001b[38;5;241;43m*\u001b[39;49m\u001b[43msend_kwargs\u001b[49m\u001b[43m)\u001b[49m\n\u001b[1;32m    591\u001b[0m \u001b[38;5;28;01mreturn\u001b[39;00m resp\n",
      "File \u001b[0;32m/Library/Frameworks/Python.framework/Versions/3.12/lib/python3.12/site-packages/requests/sessions.py:703\u001b[0m, in \u001b[0;36mSession.send\u001b[0;34m(self, request, **kwargs)\u001b[0m\n\u001b[1;32m    700\u001b[0m start \u001b[38;5;241m=\u001b[39m preferred_clock()\n\u001b[1;32m    702\u001b[0m \u001b[38;5;66;03m# Send the request\u001b[39;00m\n\u001b[0;32m--> 703\u001b[0m r \u001b[38;5;241m=\u001b[39m \u001b[43madapter\u001b[49m\u001b[38;5;241;43m.\u001b[39;49m\u001b[43msend\u001b[49m\u001b[43m(\u001b[49m\u001b[43mrequest\u001b[49m\u001b[43m,\u001b[49m\u001b[43m \u001b[49m\u001b[38;5;241;43m*\u001b[39;49m\u001b[38;5;241;43m*\u001b[39;49m\u001b[43mkwargs\u001b[49m\u001b[43m)\u001b[49m\n\u001b[1;32m    705\u001b[0m \u001b[38;5;66;03m# Total elapsed time of the request (approximately)\u001b[39;00m\n\u001b[1;32m    706\u001b[0m elapsed \u001b[38;5;241m=\u001b[39m preferred_clock() \u001b[38;5;241m-\u001b[39m start\n",
      "File \u001b[0;32m/Library/Frameworks/Python.framework/Versions/3.12/lib/python3.12/site-packages/requests/adapters.py:667\u001b[0m, in \u001b[0;36mHTTPAdapter.send\u001b[0;34m(self, request, stream, timeout, verify, cert, proxies)\u001b[0m\n\u001b[1;32m    664\u001b[0m     timeout \u001b[38;5;241m=\u001b[39m TimeoutSauce(connect\u001b[38;5;241m=\u001b[39mtimeout, read\u001b[38;5;241m=\u001b[39mtimeout)\n\u001b[1;32m    666\u001b[0m \u001b[38;5;28;01mtry\u001b[39;00m:\n\u001b[0;32m--> 667\u001b[0m     resp \u001b[38;5;241m=\u001b[39m \u001b[43mconn\u001b[49m\u001b[38;5;241;43m.\u001b[39;49m\u001b[43murlopen\u001b[49m\u001b[43m(\u001b[49m\n\u001b[1;32m    668\u001b[0m \u001b[43m        \u001b[49m\u001b[43mmethod\u001b[49m\u001b[38;5;241;43m=\u001b[39;49m\u001b[43mrequest\u001b[49m\u001b[38;5;241;43m.\u001b[39;49m\u001b[43mmethod\u001b[49m\u001b[43m,\u001b[49m\n\u001b[1;32m    669\u001b[0m \u001b[43m        \u001b[49m\u001b[43murl\u001b[49m\u001b[38;5;241;43m=\u001b[39;49m\u001b[43murl\u001b[49m\u001b[43m,\u001b[49m\n\u001b[1;32m    670\u001b[0m \u001b[43m        \u001b[49m\u001b[43mbody\u001b[49m\u001b[38;5;241;43m=\u001b[39;49m\u001b[43mrequest\u001b[49m\u001b[38;5;241;43m.\u001b[39;49m\u001b[43mbody\u001b[49m\u001b[43m,\u001b[49m\n\u001b[1;32m    671\u001b[0m \u001b[43m        \u001b[49m\u001b[43mheaders\u001b[49m\u001b[38;5;241;43m=\u001b[39;49m\u001b[43mrequest\u001b[49m\u001b[38;5;241;43m.\u001b[39;49m\u001b[43mheaders\u001b[49m\u001b[43m,\u001b[49m\n\u001b[1;32m    672\u001b[0m \u001b[43m        \u001b[49m\u001b[43mredirect\u001b[49m\u001b[38;5;241;43m=\u001b[39;49m\u001b[38;5;28;43;01mFalse\u001b[39;49;00m\u001b[43m,\u001b[49m\n\u001b[1;32m    673\u001b[0m \u001b[43m        \u001b[49m\u001b[43massert_same_host\u001b[49m\u001b[38;5;241;43m=\u001b[39;49m\u001b[38;5;28;43;01mFalse\u001b[39;49;00m\u001b[43m,\u001b[49m\n\u001b[1;32m    674\u001b[0m \u001b[43m        \u001b[49m\u001b[43mpreload_content\u001b[49m\u001b[38;5;241;43m=\u001b[39;49m\u001b[38;5;28;43;01mFalse\u001b[39;49;00m\u001b[43m,\u001b[49m\n\u001b[1;32m    675\u001b[0m \u001b[43m        \u001b[49m\u001b[43mdecode_content\u001b[49m\u001b[38;5;241;43m=\u001b[39;49m\u001b[38;5;28;43;01mFalse\u001b[39;49;00m\u001b[43m,\u001b[49m\n\u001b[1;32m    676\u001b[0m \u001b[43m        \u001b[49m\u001b[43mretries\u001b[49m\u001b[38;5;241;43m=\u001b[39;49m\u001b[38;5;28;43mself\u001b[39;49m\u001b[38;5;241;43m.\u001b[39;49m\u001b[43mmax_retries\u001b[49m\u001b[43m,\u001b[49m\n\u001b[1;32m    677\u001b[0m \u001b[43m        \u001b[49m\u001b[43mtimeout\u001b[49m\u001b[38;5;241;43m=\u001b[39;49m\u001b[43mtimeout\u001b[49m\u001b[43m,\u001b[49m\n\u001b[1;32m    678\u001b[0m \u001b[43m        \u001b[49m\u001b[43mchunked\u001b[49m\u001b[38;5;241;43m=\u001b[39;49m\u001b[43mchunked\u001b[49m\u001b[43m,\u001b[49m\n\u001b[1;32m    679\u001b[0m \u001b[43m    \u001b[49m\u001b[43m)\u001b[49m\n\u001b[1;32m    681\u001b[0m \u001b[38;5;28;01mexcept\u001b[39;00m (ProtocolError, \u001b[38;5;167;01mOSError\u001b[39;00m) \u001b[38;5;28;01mas\u001b[39;00m err:\n\u001b[1;32m    682\u001b[0m     \u001b[38;5;28;01mraise\u001b[39;00m \u001b[38;5;167;01mConnectionError\u001b[39;00m(err, request\u001b[38;5;241m=\u001b[39mrequest)\n",
      "File \u001b[0;32m/Library/Frameworks/Python.framework/Versions/3.12/lib/python3.12/site-packages/urllib3/connectionpool.py:789\u001b[0m, in \u001b[0;36mHTTPConnectionPool.urlopen\u001b[0;34m(self, method, url, body, headers, retries, redirect, assert_same_host, timeout, pool_timeout, release_conn, chunked, body_pos, preload_content, decode_content, **response_kw)\u001b[0m\n\u001b[1;32m    786\u001b[0m response_conn \u001b[38;5;241m=\u001b[39m conn \u001b[38;5;28;01mif\u001b[39;00m \u001b[38;5;129;01mnot\u001b[39;00m release_conn \u001b[38;5;28;01melse\u001b[39;00m \u001b[38;5;28;01mNone\u001b[39;00m\n\u001b[1;32m    788\u001b[0m \u001b[38;5;66;03m# Make the request on the HTTPConnection object\u001b[39;00m\n\u001b[0;32m--> 789\u001b[0m response \u001b[38;5;241m=\u001b[39m \u001b[38;5;28;43mself\u001b[39;49m\u001b[38;5;241;43m.\u001b[39;49m\u001b[43m_make_request\u001b[49m\u001b[43m(\u001b[49m\n\u001b[1;32m    790\u001b[0m \u001b[43m    \u001b[49m\u001b[43mconn\u001b[49m\u001b[43m,\u001b[49m\n\u001b[1;32m    791\u001b[0m \u001b[43m    \u001b[49m\u001b[43mmethod\u001b[49m\u001b[43m,\u001b[49m\n\u001b[1;32m    792\u001b[0m \u001b[43m    \u001b[49m\u001b[43murl\u001b[49m\u001b[43m,\u001b[49m\n\u001b[1;32m    793\u001b[0m \u001b[43m    \u001b[49m\u001b[43mtimeout\u001b[49m\u001b[38;5;241;43m=\u001b[39;49m\u001b[43mtimeout_obj\u001b[49m\u001b[43m,\u001b[49m\n\u001b[1;32m    794\u001b[0m \u001b[43m    \u001b[49m\u001b[43mbody\u001b[49m\u001b[38;5;241;43m=\u001b[39;49m\u001b[43mbody\u001b[49m\u001b[43m,\u001b[49m\n\u001b[1;32m    795\u001b[0m \u001b[43m    \u001b[49m\u001b[43mheaders\u001b[49m\u001b[38;5;241;43m=\u001b[39;49m\u001b[43mheaders\u001b[49m\u001b[43m,\u001b[49m\n\u001b[1;32m    796\u001b[0m \u001b[43m    \u001b[49m\u001b[43mchunked\u001b[49m\u001b[38;5;241;43m=\u001b[39;49m\u001b[43mchunked\u001b[49m\u001b[43m,\u001b[49m\n\u001b[1;32m    797\u001b[0m \u001b[43m    \u001b[49m\u001b[43mretries\u001b[49m\u001b[38;5;241;43m=\u001b[39;49m\u001b[43mretries\u001b[49m\u001b[43m,\u001b[49m\n\u001b[1;32m    798\u001b[0m \u001b[43m    \u001b[49m\u001b[43mresponse_conn\u001b[49m\u001b[38;5;241;43m=\u001b[39;49m\u001b[43mresponse_conn\u001b[49m\u001b[43m,\u001b[49m\n\u001b[1;32m    799\u001b[0m \u001b[43m    \u001b[49m\u001b[43mpreload_content\u001b[49m\u001b[38;5;241;43m=\u001b[39;49m\u001b[43mpreload_content\u001b[49m\u001b[43m,\u001b[49m\n\u001b[1;32m    800\u001b[0m \u001b[43m    \u001b[49m\u001b[43mdecode_content\u001b[49m\u001b[38;5;241;43m=\u001b[39;49m\u001b[43mdecode_content\u001b[49m\u001b[43m,\u001b[49m\n\u001b[1;32m    801\u001b[0m \u001b[43m    \u001b[49m\u001b[38;5;241;43m*\u001b[39;49m\u001b[38;5;241;43m*\u001b[39;49m\u001b[43mresponse_kw\u001b[49m\u001b[43m,\u001b[49m\n\u001b[1;32m    802\u001b[0m \u001b[43m\u001b[49m\u001b[43m)\u001b[49m\n\u001b[1;32m    804\u001b[0m \u001b[38;5;66;03m# Everything went great!\u001b[39;00m\n\u001b[1;32m    805\u001b[0m clean_exit \u001b[38;5;241m=\u001b[39m \u001b[38;5;28;01mTrue\u001b[39;00m\n",
      "File \u001b[0;32m/Library/Frameworks/Python.framework/Versions/3.12/lib/python3.12/site-packages/urllib3/connectionpool.py:536\u001b[0m, in \u001b[0;36mHTTPConnectionPool._make_request\u001b[0;34m(self, conn, method, url, body, headers, retries, timeout, chunked, response_conn, preload_content, decode_content, enforce_content_length)\u001b[0m\n\u001b[1;32m    534\u001b[0m \u001b[38;5;66;03m# Receive the response from the server\u001b[39;00m\n\u001b[1;32m    535\u001b[0m \u001b[38;5;28;01mtry\u001b[39;00m:\n\u001b[0;32m--> 536\u001b[0m     response \u001b[38;5;241m=\u001b[39m \u001b[43mconn\u001b[49m\u001b[38;5;241;43m.\u001b[39;49m\u001b[43mgetresponse\u001b[49m\u001b[43m(\u001b[49m\u001b[43m)\u001b[49m\n\u001b[1;32m    537\u001b[0m \u001b[38;5;28;01mexcept\u001b[39;00m (BaseSSLError, \u001b[38;5;167;01mOSError\u001b[39;00m) \u001b[38;5;28;01mas\u001b[39;00m e:\n\u001b[1;32m    538\u001b[0m     \u001b[38;5;28mself\u001b[39m\u001b[38;5;241m.\u001b[39m_raise_timeout(err\u001b[38;5;241m=\u001b[39me, url\u001b[38;5;241m=\u001b[39murl, timeout_value\u001b[38;5;241m=\u001b[39mread_timeout)\n",
      "File \u001b[0;32m/Library/Frameworks/Python.framework/Versions/3.12/lib/python3.12/site-packages/urllib3/connection.py:507\u001b[0m, in \u001b[0;36mHTTPConnection.getresponse\u001b[0;34m(self)\u001b[0m\n\u001b[1;32m    504\u001b[0m \u001b[38;5;28;01mfrom\u001b[39;00m \u001b[38;5;21;01m.\u001b[39;00m\u001b[38;5;21;01mresponse\u001b[39;00m \u001b[38;5;28;01mimport\u001b[39;00m HTTPResponse\n\u001b[1;32m    506\u001b[0m \u001b[38;5;66;03m# Get the response from http.client.HTTPConnection\u001b[39;00m\n\u001b[0;32m--> 507\u001b[0m httplib_response \u001b[38;5;241m=\u001b[39m \u001b[38;5;28;43msuper\u001b[39;49m\u001b[43m(\u001b[49m\u001b[43m)\u001b[49m\u001b[38;5;241;43m.\u001b[39;49m\u001b[43mgetresponse\u001b[49m\u001b[43m(\u001b[49m\u001b[43m)\u001b[49m\n\u001b[1;32m    509\u001b[0m \u001b[38;5;28;01mtry\u001b[39;00m:\n\u001b[1;32m    510\u001b[0m     assert_header_parsing(httplib_response\u001b[38;5;241m.\u001b[39mmsg)\n",
      "File \u001b[0;32m/Library/Frameworks/Python.framework/Versions/3.12/lib/python3.12/http/client.py:1428\u001b[0m, in \u001b[0;36mHTTPConnection.getresponse\u001b[0;34m(self)\u001b[0m\n\u001b[1;32m   1426\u001b[0m \u001b[38;5;28;01mtry\u001b[39;00m:\n\u001b[1;32m   1427\u001b[0m     \u001b[38;5;28;01mtry\u001b[39;00m:\n\u001b[0;32m-> 1428\u001b[0m         \u001b[43mresponse\u001b[49m\u001b[38;5;241;43m.\u001b[39;49m\u001b[43mbegin\u001b[49m\u001b[43m(\u001b[49m\u001b[43m)\u001b[49m\n\u001b[1;32m   1429\u001b[0m     \u001b[38;5;28;01mexcept\u001b[39;00m \u001b[38;5;167;01mConnectionError\u001b[39;00m:\n\u001b[1;32m   1430\u001b[0m         \u001b[38;5;28mself\u001b[39m\u001b[38;5;241m.\u001b[39mclose()\n",
      "File \u001b[0;32m/Library/Frameworks/Python.framework/Versions/3.12/lib/python3.12/http/client.py:331\u001b[0m, in \u001b[0;36mHTTPResponse.begin\u001b[0;34m(self)\u001b[0m\n\u001b[1;32m    329\u001b[0m \u001b[38;5;66;03m# read until we get a non-100 response\u001b[39;00m\n\u001b[1;32m    330\u001b[0m \u001b[38;5;28;01mwhile\u001b[39;00m \u001b[38;5;28;01mTrue\u001b[39;00m:\n\u001b[0;32m--> 331\u001b[0m     version, status, reason \u001b[38;5;241m=\u001b[39m \u001b[38;5;28;43mself\u001b[39;49m\u001b[38;5;241;43m.\u001b[39;49m\u001b[43m_read_status\u001b[49m\u001b[43m(\u001b[49m\u001b[43m)\u001b[49m\n\u001b[1;32m    332\u001b[0m     \u001b[38;5;28;01mif\u001b[39;00m status \u001b[38;5;241m!=\u001b[39m CONTINUE:\n\u001b[1;32m    333\u001b[0m         \u001b[38;5;28;01mbreak\u001b[39;00m\n",
      "File \u001b[0;32m/Library/Frameworks/Python.framework/Versions/3.12/lib/python3.12/http/client.py:292\u001b[0m, in \u001b[0;36mHTTPResponse._read_status\u001b[0;34m(self)\u001b[0m\n\u001b[1;32m    291\u001b[0m \u001b[38;5;28;01mdef\u001b[39;00m \u001b[38;5;21m_read_status\u001b[39m(\u001b[38;5;28mself\u001b[39m):\n\u001b[0;32m--> 292\u001b[0m     line \u001b[38;5;241m=\u001b[39m \u001b[38;5;28mstr\u001b[39m(\u001b[38;5;28;43mself\u001b[39;49m\u001b[38;5;241;43m.\u001b[39;49m\u001b[43mfp\u001b[49m\u001b[38;5;241;43m.\u001b[39;49m\u001b[43mreadline\u001b[49m\u001b[43m(\u001b[49m\u001b[43m_MAXLINE\u001b[49m\u001b[43m \u001b[49m\u001b[38;5;241;43m+\u001b[39;49m\u001b[43m \u001b[49m\u001b[38;5;241;43m1\u001b[39;49m\u001b[43m)\u001b[49m, \u001b[38;5;124m\"\u001b[39m\u001b[38;5;124miso-8859-1\u001b[39m\u001b[38;5;124m\"\u001b[39m)\n\u001b[1;32m    293\u001b[0m     \u001b[38;5;28;01mif\u001b[39;00m \u001b[38;5;28mlen\u001b[39m(line) \u001b[38;5;241m>\u001b[39m _MAXLINE:\n\u001b[1;32m    294\u001b[0m         \u001b[38;5;28;01mraise\u001b[39;00m LineTooLong(\u001b[38;5;124m\"\u001b[39m\u001b[38;5;124mstatus line\u001b[39m\u001b[38;5;124m\"\u001b[39m)\n",
      "File \u001b[0;32m/Library/Frameworks/Python.framework/Versions/3.12/lib/python3.12/socket.py:720\u001b[0m, in \u001b[0;36mSocketIO.readinto\u001b[0;34m(self, b)\u001b[0m\n\u001b[1;32m    718\u001b[0m \u001b[38;5;28;01mwhile\u001b[39;00m \u001b[38;5;28;01mTrue\u001b[39;00m:\n\u001b[1;32m    719\u001b[0m     \u001b[38;5;28;01mtry\u001b[39;00m:\n\u001b[0;32m--> 720\u001b[0m         \u001b[38;5;28;01mreturn\u001b[39;00m \u001b[38;5;28;43mself\u001b[39;49m\u001b[38;5;241;43m.\u001b[39;49m\u001b[43m_sock\u001b[49m\u001b[38;5;241;43m.\u001b[39;49m\u001b[43mrecv_into\u001b[49m\u001b[43m(\u001b[49m\u001b[43mb\u001b[49m\u001b[43m)\u001b[49m\n\u001b[1;32m    721\u001b[0m     \u001b[38;5;28;01mexcept\u001b[39;00m timeout:\n\u001b[1;32m    722\u001b[0m         \u001b[38;5;28mself\u001b[39m\u001b[38;5;241m.\u001b[39m_timeout_occurred \u001b[38;5;241m=\u001b[39m \u001b[38;5;28;01mTrue\u001b[39;00m\n",
      "File \u001b[0;32m/Library/Frameworks/Python.framework/Versions/3.12/lib/python3.12/ssl.py:1252\u001b[0m, in \u001b[0;36mSSLSocket.recv_into\u001b[0;34m(self, buffer, nbytes, flags)\u001b[0m\n\u001b[1;32m   1248\u001b[0m     \u001b[38;5;28;01mif\u001b[39;00m flags \u001b[38;5;241m!=\u001b[39m \u001b[38;5;241m0\u001b[39m:\n\u001b[1;32m   1249\u001b[0m         \u001b[38;5;28;01mraise\u001b[39;00m \u001b[38;5;167;01mValueError\u001b[39;00m(\n\u001b[1;32m   1250\u001b[0m           \u001b[38;5;124m\"\u001b[39m\u001b[38;5;124mnon-zero flags not allowed in calls to recv_into() on \u001b[39m\u001b[38;5;132;01m%s\u001b[39;00m\u001b[38;5;124m\"\u001b[39m \u001b[38;5;241m%\u001b[39m\n\u001b[1;32m   1251\u001b[0m           \u001b[38;5;28mself\u001b[39m\u001b[38;5;241m.\u001b[39m\u001b[38;5;18m__class__\u001b[39m)\n\u001b[0;32m-> 1252\u001b[0m     \u001b[38;5;28;01mreturn\u001b[39;00m \u001b[38;5;28;43mself\u001b[39;49m\u001b[38;5;241;43m.\u001b[39;49m\u001b[43mread\u001b[49m\u001b[43m(\u001b[49m\u001b[43mnbytes\u001b[49m\u001b[43m,\u001b[49m\u001b[43m \u001b[49m\u001b[43mbuffer\u001b[49m\u001b[43m)\u001b[49m\n\u001b[1;32m   1253\u001b[0m \u001b[38;5;28;01melse\u001b[39;00m:\n\u001b[1;32m   1254\u001b[0m     \u001b[38;5;28;01mreturn\u001b[39;00m \u001b[38;5;28msuper\u001b[39m()\u001b[38;5;241m.\u001b[39mrecv_into(buffer, nbytes, flags)\n",
      "File \u001b[0;32m/Library/Frameworks/Python.framework/Versions/3.12/lib/python3.12/ssl.py:1104\u001b[0m, in \u001b[0;36mSSLSocket.read\u001b[0;34m(self, len, buffer)\u001b[0m\n\u001b[1;32m   1102\u001b[0m \u001b[38;5;28;01mtry\u001b[39;00m:\n\u001b[1;32m   1103\u001b[0m     \u001b[38;5;28;01mif\u001b[39;00m buffer \u001b[38;5;129;01mis\u001b[39;00m \u001b[38;5;129;01mnot\u001b[39;00m \u001b[38;5;28;01mNone\u001b[39;00m:\n\u001b[0;32m-> 1104\u001b[0m         \u001b[38;5;28;01mreturn\u001b[39;00m \u001b[38;5;28;43mself\u001b[39;49m\u001b[38;5;241;43m.\u001b[39;49m\u001b[43m_sslobj\u001b[49m\u001b[38;5;241;43m.\u001b[39;49m\u001b[43mread\u001b[49m\u001b[43m(\u001b[49m\u001b[38;5;28;43mlen\u001b[39;49m\u001b[43m,\u001b[49m\u001b[43m \u001b[49m\u001b[43mbuffer\u001b[49m\u001b[43m)\u001b[49m\n\u001b[1;32m   1105\u001b[0m     \u001b[38;5;28;01melse\u001b[39;00m:\n\u001b[1;32m   1106\u001b[0m         \u001b[38;5;28;01mreturn\u001b[39;00m \u001b[38;5;28mself\u001b[39m\u001b[38;5;241m.\u001b[39m_sslobj\u001b[38;5;241m.\u001b[39mread(\u001b[38;5;28mlen\u001b[39m)\n",
      "\u001b[0;31mKeyboardInterrupt\u001b[0m: "
     ]
    }
   ],
   "source": [
    "# creating the list were every line of the transcriptions will be included with its respective metadata\n",
    "# radioteca_lines_list = [\"Line_id\", \"Speaker\", \"Text\", \"Date\", \"Publisher\", \"Program_name\", \"Title\", \"Year\"]\n",
    "radioteca_lines_list = []\n",
    "\n",
    "from tqdm import tqdm\n",
    "from requests.exceptions import RequestException\n",
    "\n",
    "'''\n",
    "we run every URL-looking URL in radioteca broadcasted before 2010 (as the index of radioteca_df_bef2010) \n",
    "through the scrape_radiotecafile\n",
    "\n",
    "this will return the scraped data dictionary\n",
    "that will be taken in, if it is not None (if its none we will just continue to the next URL)\n",
    "\n",
    "Then for every key (every line_id) and its value (scraped data in list)\n",
    "we will create a row dictionary containing:\n",
    "    - the key\n",
    "    - every element of the list accessed through its index as the value[index]\n",
    "\n",
    "if the index of the value list is not found an exception will be printed\n",
    "the scraping and dataframe creation process will continue\n",
    "\n",
    "the resulting dictionary will be appended to the empty list radioteca_lines_list initialized above\n",
    "the list will be turned into a pandas dataframe\n",
    "and then pickled so we don't have to re-do the process again and the dataframe is correctly stored\n",
    "'''\n",
    "for url in tqdm(radioteca_df_bef2010.index):\n",
    "    if pd.isna(url) or not (url.startswith('http://') or url.startswith('https://')):\n",
    "        continue\n",
    "    \n",
    "    try:\n",
    "        dictionary = scrape_radiotecafile(url)\n",
    "    except RequestException as e:\n",
    "        continue\n",
    "\n",
    "    if dictionary is None:\n",
    "        continue\n",
    "        \n",
    "    try:\n",
    "       for key, value in dictionary.items():\n",
    "           row = {'Line_id': key,\n",
    "                'Speaker': value[0],\n",
    "                'Time': value[1],\n",
    "                'Text': value[2],\n",
    "                'Date': value[3],\n",
    "                'Station': value[4],\n",
    "                'Show': value[5],\n",
    "                'Episode': value[6],\n",
    "                'URL': value[7],\n",
    "                'Year': value[8]\n",
    "                }\n",
    "           radioteca_lines_list.append(row)\n",
    "        \n",
    "    except IndexError as e:\n",
    "        print(f\"Skipping {key}\")\n",
    "    except Exception as e:\n",
    "        print(f\"Skipping {key}\")\n",
    "\n",
    "radioteca_lines_df = pd.DataFrame(radioteca_lines_list)\n",
    "radioteca_lines_after2020_df.to_pickle('radioteca2010.pkl')"
   ]
  },
  {
   "cell_type": "code",
   "execution_count": null,
   "id": "db35e01b-989e-450c-9f40-04963dfb1c53",
   "metadata": {},
   "outputs": [],
   "source": [
    "# storing the scraped radioteca pages dataframe as a pickle\n",
    "# radioteca_lines_df.to_pickle('radioteca2010.pkl')"
   ]
  },
  {
   "cell_type": "code",
   "execution_count": null,
   "id": "b712eab9-466a-4365-9ad3-34802865dcfa",
   "metadata": {},
   "outputs": [],
   "source": [
    "# loading the pickled dataframe\n",
    "radioteca_df = pd.read_pickle(\"radioteca2010.pkl\")"
   ]
  },
  {
   "cell_type": "code",
   "execution_count": null,
   "id": "0c871a48-26e7-4b1b-b30c-0ffb487675e0",
   "metadata": {},
   "outputs": [],
   "source": [
    "print(radioteca_df.shape)"
   ]
  },
  {
   "cell_type": "markdown",
   "id": "a3c45f06-52ba-4f91-bb70-fc20a4f34e62",
   "metadata": {},
   "source": [
    "**Comment:**\n",
    "The radioteca dataframe now contains over 900 thousand radio broadcast contributions.  "
   ]
  },
  {
   "cell_type": "code",
   "execution_count": null,
   "id": "ad591c4c-fdd7-4ac2-832a-431a284bc812",
   "metadata": {},
   "outputs": [],
   "source": [
    "radioteca_df.head()"
   ]
  },
  {
   "cell_type": "code",
   "execution_count": null,
   "id": "b1fe365f-152c-480d-a3a3-6e9e95c7a69d",
   "metadata": {},
   "outputs": [],
   "source": [
    "# generalEDA\n",
    "generalEDA(radioteca_df, \"Radioteca.cat\")"
   ]
  },
  {
   "cell_type": "code",
   "execution_count": null,
   "id": "f526902f-7008-46aa-b80a-33a6164abb4a",
   "metadata": {},
   "outputs": [],
   "source": [
    "# dataframe-specific EDA\n",
    "print()\n",
    "print(\"The total of different stations are:\", len(set(radioteca_df[\"Station\"].values)))\n",
    "print()\n",
    "print(\"The total of lines per station are:\", \"\\n\", \"\\n\", radioteca_df[\"Station\"].value_counts())\n",
    "print()\n",
    "radioteca_df_linesSpeaker = radioteca_df.groupby(\"Episode\")[\"Speaker\"].value_counts()\n",
    "#print(radioteca_df_linesSpeaker.head())\n",
    "print()\n",
    "print(\"The maximum number of lines per speaker are:\", radioteca_df.groupby(\"Episode\")[\"Speaker\"].value_counts().max())\n",
    "print(\"The minimum number of lines per speaker are:\", radioteca_df.groupby(\"Episode\")[\"Speaker\"].value_counts().min())\n",
    "print()\n",
    "show_grouped = radioteca_df.groupby([\"Episode\", \"Speaker\"])[\"Text_len\"].sum()\n",
    "#print(show_grouped.head())\n",
    "print()\n",
    "print(\"The character count for the speaker contrbuting with the most amount of data is\", show_grouped.max())\n",
    "print(\"The character count for the speaker contrbuting with the least amount of data is\", show_grouped.min())\n",
    "print()\n",
    "year_tokscount = radioteca_df.groupby(\"Year\")[\"Text_len\"].sum().sort_values(ascending=False)\n",
    "print(\"Characters count per year sorted from most to least characters:\")\n",
    "year_tokscount"
   ]
  },
  {
   "cell_type": "markdown",
   "id": "66280156-b5cf-4bf9-ab76-67fc1a9c0685",
   "metadata": {},
   "source": [
    "**Exploratory Analysis Summary:**\\\n",
    "The Radioteca library has been scraped and turned into a 10-column data frame along with the metadata from the CSV file. It is now all in a single data frame containing the Line_id, Speaker, Time, Text, Date, Station, Show, Episode, URL, and Year (extracted from the date for easier comparison and merging with other data frames).\\\n",
    "The oldest work from Radioteca is from 1986; the latest work we scraped from the web library is from 2010.\\\n",
    "The total length, and hence the amount of data we have in total from the Radioteca corpora, is well over 2 billion characters long.\\\n",
    "These come from different-lengthed texts, as the shortest has zero characters, and the longest contributes about 23,000 characters.\\\n",
    "The average length of the almost 267 million contribution transcriptions is about 276 characters per text.\\\n",
    "The transcriptions give us information about Catalan through almost 25 years. However, not all years are represented, nor is their representation in the data amount the same. While the broadcasts for 2010 add up to over 84,000,000 characters, we only have barely over 600 characters for 1994. It seems like, overall, we have a lot more recent transcriptions, as we see the character amount increase remarkably from 2005 until 2010. \\\n",
    "The transcribed broadcasts are from shows from over 600 different stations, allowing for a less show-specific data frame. However, they don't all provide the same amount of data. Catalunya Ràdio is clearly the most transcribed in the Radioteca library. However, it is the regional chain, so it shouldn't be genre or topic-specific. Nevertheless, it could affect our analysis due to social factors, such as the type of audience of this program. Still, I believe that is part of the nature of this project, as well as using real language data.\\\n",
    "As radio broadcasts can be from conversation-like to even monologues, not all speakers contribute equally. The minimum number of lines per speaker is 1. Still, a single speaker that accounts for the most lines contributes to over 15,000 lines. In terms of characters, that is zero characters for the minimum and over 6,000,000 for the maximum."
   ]
  },
  {
   "cell_type": "markdown",
   "id": "9d5bf934-07d9-4b40-a2aa-85069b10f04c",
   "metadata": {},
   "source": [
    "### 2.5 Complete dataframe"
   ]
  },
  {
   "cell_type": "markdown",
   "id": "5a871264-5429-4e70-b486-ae64796d74bb",
   "metadata": {},
   "source": [
    "Some of the data frames come with a great amount of metadata that won't be necessary for our research purposes. To keep it we will maintain the separate dataframes and create a merged one extracting only the columns necessary for our research question. That will be the title, date and text/content. We will also create other columns that will be useful for our Exploratory Data Analysis. "
   ]
  },
  {
   "cell_type": "code",
   "execution_count": null,
   "id": "eaf9ac2c-70c6-4546-85f2-9b996489d48c",
   "metadata": {},
   "outputs": [],
   "source": [
    "parlament_parla_df.columns"
   ]
  },
  {
   "cell_type": "code",
   "execution_count": null,
   "id": "8516e6dd-6a4b-437d-9de5-e344a62d27da",
   "metadata": {},
   "outputs": [],
   "source": [
    "# creating a reduced dataframe with only the date info, title of the file, content/text columns and its length\n",
    "reduced_CTILC = CTILC_df.filter([\"Year\", \"Title\", \"Text\", \"Text_len\"])\n",
    "reduced_parlament_parla = parlament_parla_df.filter([\"Path\", \"Sentence\", \"Text\", \"Text_len\"])\n",
    "reduced_parlamint = parlaMint_df.filter([\"Date\", \"Title\", \"Text\", \"Text_len\"])\n",
    "reduced_radioteca = radioteca_df.filter([\"Year\", \"Line_id\", \"Text\", \"Text_len\"])\n",
    "\n",
    "# adding a Source Corpora column to keep the data\n",
    "reduced_CTILC[\"Source_corpora\"] = \"CTILC\"\n",
    "reduced_parlament_parla[\"Source_corpora\"] = \"Parlament Parla\"\n",
    "reduced_parlamint[\"Source_corpora\"] = \"ParlaMint\"\n",
    "reduced_radioteca[\"Source_corpora\"] = \"Radioteca.cat\""
   ]
  },
  {
   "cell_type": "code",
   "execution_count": null,
   "id": "f14ced82-0cc1-4057-b3ee-afdc868b016f",
   "metadata": {},
   "outputs": [],
   "source": [
    "reduced_radioteca.head()"
   ]
  },
  {
   "cell_type": "code",
   "execution_count": null,
   "id": "15f42d74-d215-405c-a49a-9e7223f4abd6",
   "metadata": {},
   "outputs": [],
   "source": [
    "reduced_parlament_parla.head()"
   ]
  },
  {
   "cell_type": "markdown",
   "id": "9b1b3e03-5f2f-4cd5-8531-872bf52993a6",
   "metadata": {},
   "source": [
    "There is no date metadata provided for the parlament parla dataframe.\\\n",
    "For our purposes, as we need a date we will make an aproximation based off the data given by the owners.\\\n",
    "As Parlament Parla is presented as a corpora containing data from 2007 to 2015 we will assign the date aproximation 2010 to all the data in the Parlament Parla dataframe.\\\n",
    "We will also only keep the year infomation as the date in the corpora parlamint and the radioteca data frame where the full (month, day, year) information was provided."
   ]
  },
  {
   "cell_type": "code",
   "execution_count": null,
   "id": "a70631a1-baf8-42ef-8da5-df7662b18997",
   "metadata": {},
   "outputs": [],
   "source": [
    "# adding 2010 date to parlament parla rows\n",
    "reduced_parlament_parla[\"Year\"] = 2010\n",
    "\n",
    "# keeping only the year on parlaMint\n",
    "reduced_parlamint[\"Date\"] = reduced_parlamint[\"Date\"].apply(lambda x :x[0:4])"
   ]
  },
  {
   "cell_type": "code",
   "execution_count": null,
   "id": "ae8b543b-1d2b-4814-b845-9a234ec2fa68",
   "metadata": {},
   "outputs": [],
   "source": [
    "reduced_parlament_parla.head() # checking if we successfully created the Year column"
   ]
  },
  {
   "cell_type": "code",
   "execution_count": null,
   "id": "cca83e72-bf4d-4fa4-ac2b-1a892391bbd1",
   "metadata": {},
   "outputs": [],
   "source": [
    "# casting year as integer\n",
    "print(type(reduced_radioteca[\"Year\"][0])) # it is currently a float that we extracted from the complete date\n",
    "reduced_radioteca[\"Year\"] = reduced_radioteca[\"Year\"].apply(int)\n",
    "print(type(reduced_radioteca[\"Year\"][0])) # checking if data type is now what we need"
   ]
  },
  {
   "cell_type": "code",
   "execution_count": null,
   "id": "3715cff6-c93d-4d6c-afa0-47a398792b43",
   "metadata": {},
   "outputs": [],
   "source": [
    "# adjusting column names to match before concatenating\n",
    "reduced_CTILC = reduced_CTILC.rename(columns ={\"Year\":\"Year\", \"Title\":\"Line_id\", \"Text\":\"Text\", \n",
    "                                                                   \"Source_corpora\":\"Source_corpora\"})\n",
    "reduced_parlament_parla = reduced_parlament_parla.rename(columns ={\"Year\":\"Year\", \"Path\":\"Line_id\", \"Text\":\"Text\", \n",
    "                                                                   \"Source_corpora\":\"Source_corpora\"})\n",
    "reduced_parlamint = reduced_parlamint.rename(columns ={\"Date\":\"Year\", \"Title\":\"Line_id\", \"Text\":\"Text\", \"Source_corpora\":\"Source_corpora\"})\n",
    "reduced_radioteca = reduced_radioteca.rename(columns ={\"Year\":\"Year\", \"Line_id\":\"Line_id\", \"Text\":\"Text\", \"Source_corpora\":\"Source_corpora\"})"
   ]
  },
  {
   "cell_type": "code",
   "execution_count": null,
   "id": "f5712084-570d-42d4-a33c-4b0b4c6fa78f",
   "metadata": {},
   "outputs": [],
   "source": [
    "# concatenating all datasets' relevant columns in a single data frame\n",
    "complete_data = pd.concat([reduced_CTILC, reduced_parlament_parla, reduced_parlamint, reduced_radioteca]) "
   ]
  },
  {
   "cell_type": "code",
   "execution_count": null,
   "id": "7e53c013-5bd9-4ba6-a759-d9b716bfa71d",
   "metadata": {},
   "outputs": [],
   "source": [
    "complete_data.head()"
   ]
  },
  {
   "cell_type": "code",
   "execution_count": null,
   "id": "d76c01ef-d8f0-4153-8821-8dbdc922e2e0",
   "metadata": {},
   "outputs": [],
   "source": [
    "# checking nan\n",
    "print(complete_data.isna().sum())"
   ]
  },
  {
   "cell_type": "code",
   "execution_count": null,
   "id": "9249b38a-ecac-44c7-9ae2-d5b87ce3eb81",
   "metadata": {},
   "outputs": [],
   "source": [
    "# sorting joined data by year, from oldest to most recent\n",
    "complete_data[\"Year\"] = complete_data[\"Year\"].apply(lambda x : int(x)) # setting year as index to sort df\n",
    "complete_data.sort_values([\"Year\"])"
   ]
  },
  {
   "cell_type": "code",
   "execution_count": null,
   "id": "2279d4ac-93ee-4ac0-bf9e-5af02b2f2e2a",
   "metadata": {},
   "outputs": [],
   "source": [
    "# resetting index after sorting\n",
    "complete_data.reset_index()"
   ]
  },
  {
   "cell_type": "code",
   "execution_count": null,
   "id": "b46b0e6e-0afd-4e6d-aea9-f7bbd318504f",
   "metadata": {},
   "outputs": [],
   "source": [
    "# creating a length, in charactcers, columnm\n",
    "complete_data[\"Length\"] = complete_data[\"Text\"].apply(str)\n",
    "complete_data[\"Length\"] = complete_data[\"Length\"].apply(len)"
   ]
  },
  {
   "cell_type": "code",
   "execution_count": null,
   "id": "56d916a7-e766-41b3-838f-b2cacb2693f0",
   "metadata": {},
   "outputs": [],
   "source": [
    "complete_data.to_pickle('mydata.pkl')"
   ]
  },
  {
   "cell_type": "code",
   "execution_count": null,
   "id": "ad6b1e37-b5e3-4cbf-937d-ff47f78bf2e7",
   "metadata": {},
   "outputs": [],
   "source": [
    "complete_data = pd.read_pickle(\"mydata.pkl\")"
   ]
  },
  {
   "cell_type": "markdown",
   "id": "a9c0ae2f-9637-4251-94e9-bd5f33c9d104",
   "metadata": {},
   "source": [
    "#### Exploratory Data Analysis "
   ]
  },
  {
   "cell_type": "code",
   "execution_count": null,
   "id": "e40ca24a-deef-4689-8aa7-8b6825c2b34e",
   "metadata": {},
   "outputs": [],
   "source": [
    "#creating a dictionary of the cumulative amount of characters per year\n",
    "year_length = {}\n",
    "\n",
    "# setting year as the index of the dataframe\n",
    "joined_data = joined_data.set_index(\"Year\")\n",
    "\n",
    "# iterating over the rows \n",
    "for year, row in joined_data.iterrows():\n",
    "    if year not in year_length:\n",
    "        year_length[year] = row[\"Length\"]  # initializing year's length total\n",
    "    else:\n",
    "        year_length[year] += row[\"Length\"]  # accumulating length to already present year"
   ]
  },
  {
   "cell_type": "code",
   "execution_count": null,
   "id": "399173e6-4851-469d-a246-f726b862d5bd",
   "metadata": {},
   "outputs": [],
   "source": [
    "year_length = dict(sorted(year_length.items(), key=lambda item: item[1]))\n",
    "for key in year_length.keys():\n",
    "    value = year_length[key]\n",
    "    print(key, \"-\", value)"
   ]
  },
  {
   "cell_type": "code",
   "execution_count": 38,
   "id": "b733058f-8084-482c-b03f-0dc71af5a579",
   "metadata": {},
   "outputs": [
    {
     "ename": "NameError",
     "evalue": "name 'year_length' is not defined",
     "output_type": "error",
     "traceback": [
      "\u001b[0;31m---------------------------------------------------------------------------\u001b[0m",
      "\u001b[0;31mNameError\u001b[0m                                 Traceback (most recent call last)",
      "Cell \u001b[0;32mIn[38], line 4\u001b[0m\n\u001b[1;32m      1\u001b[0m \u001b[38;5;28;01mimport\u001b[39;00m \u001b[38;5;21;01mmatplotlib\u001b[39;00m\u001b[38;5;21;01m.\u001b[39;00m\u001b[38;5;21;01mticker\u001b[39;00m \u001b[38;5;28;01mas\u001b[39;00m \u001b[38;5;21;01mticker\u001b[39;00m  \n\u001b[1;32m      3\u001b[0m \u001b[38;5;66;03m# placeholder y-values for timeline\u001b[39;00m\n\u001b[0;32m----> 4\u001b[0m years \u001b[38;5;241m=\u001b[39m \u001b[38;5;28mlist\u001b[39m(\u001b[43myear_length\u001b[49m\u001b[38;5;241m.\u001b[39mkeys())  \n\u001b[1;32m      5\u001b[0m y_values \u001b[38;5;241m=\u001b[39m np\u001b[38;5;241m.\u001b[39mones(\u001b[38;5;28mlen\u001b[39m(years)) \n\u001b[1;32m      7\u001b[0m \u001b[38;5;66;03m# creating mosaic layout for our multiple plots\u001b[39;00m\n",
      "\u001b[0;31mNameError\u001b[0m: name 'year_length' is not defined"
     ]
    }
   ],
   "source": [
    "import matplotlib.ticker as ticker  \n",
    "\n",
    "# placeholder y-values for timeline\n",
    "years = list(year_length.keys())  \n",
    "y_values = np.ones(len(years)) \n",
    "\n",
    "# creating mosaic layout for our multiple plots\n",
    "fig, ax = plt.subplot_mosaic([[\"B\", \"B\"],  # Timeline\n",
    "                              [\"A\", \"A\"],  # Histogram\n",
    "                              [\"D\", \"D\"]],  # Text count & corpus length\n",
    "                             figsize=(10, 8),\n",
    "                             constrained_layout=True)\n",
    "\n",
    "# (A) Histogram of Document Distribution Over Time\n",
    "ax['A'].hist(joined_data.index, bins=min(20, len(years)), histtype='step', color=\"blue\", lw=1.5)\n",
    "ax['A'].set_title(\"Document Distribution Over Time\")\n",
    "ax['A'].set_xlabel(\"Year\")\n",
    "ax['A'].set_ylabel(\"Count\")\n",
    "\n",
    "# (B) Timeline (Scatter Plot)\n",
    "ax['B'].scatter(years, y_values, color=\"blue\", marker=\"o\", lw=1.5)\n",
    "ax['B'].set_title(\"Timeline of Documents\")\n",
    "ax['B'].set_xlabel(\"Year\")\n",
    "ax['B'].set_yticks([])  # Remove y-axis labels since they are not meaningful\n",
    "ax['B'].grid(axis=\"x\")\n",
    "\n",
    "# (D) Text length per year in character counts\n",
    "capped_values = [min(val, 10_000_000) for val in year_length.values()]  # limit to 10M\n",
    "\n",
    "ax['D'].barh(list(year_length.keys()), capped_values, color=\"blue\")\n",
    "ax['D'].set_title(\"Text Length per Year (capped after 10M)\")  \n",
    "ax['D'].set_xlabel(\"Text Length\")  \n",
    "\n",
    "# Fix Tick Labels (Without `ticker`)\n",
    "x_ticks = ax['D'].get_xticks()  \n",
    "ax['D'].set_xticks(x_ticks)  \n",
    "ax['D'].set_xticklabels([f\"{int(x):,}\" for x in x_ticks])  \n",
    "ax[\"D\"].set_xlim(0, 10_000_000)\n",
    "\n",
    "# displaying the plots' mosaic\n",
    "plt.show()"
   ]
  },
  {
   "cell_type": "markdown",
   "id": "27ea792c-0827-4ee0-b2b4-3d8e6c733b2b",
   "metadata": {},
   "source": [
    "## Conclusions on the resulting data:\n",
    "Currently, there are some issues that we can see on the plots and through the exploratory data analysis of all individual data frames, including the complete one. We will need to find a solution to these or work around them by considering the caveats it might extend to and being aware of the following points when drawing conclusions.\\\n",
    "First, there is a considerable gap between the data after the last CTILC file from 1926 and the following from 1986. We can spot this in the Timeline of Documents plot, where the data points are on both ends, leaving a gap.  \n",
    "Secondly, there is a big difference in data amount between the older data from the early 1900s and before and the most recent data from 2010-2022. It can be observed in the Document Distribution over Time and Text Length per Year plots. In this second, the number of characters had to be capped at 10M, highlighting this issue partly due to another problem. The Palament Parla data does not have a specific date, which spikes the amount of data in 2010 after the approximation, which we will need to be mindful of in the following steps."
   ]
  },
  {
   "cell_type": "markdown",
   "id": "ee6896fc-c3d7-4d52-868f-aa77b043ada0",
   "metadata": {},
   "source": [
    "## Changes on the Data Frame posterior to the analysis"
   ]
  },
  {
   "cell_type": "markdown",
   "id": "6cd79f12-20cf-49df-b654-4405047680ff",
   "metadata": {},
   "source": [
    "To even out the data. We are going to drop and reorganize some of it.\n",
    "\n",
    "**Strategy 1:Limiting Individual Contribution**\\\n",
    "Aiming for the most unbiased and representative data, we will first drop individual Speaker's contributions if they are over 1500 characters (about 200 words) long for the ParlaMint, Parlament Parla, and Radioteca data. This will allow for a less speaker-specific analysis.\\\n",
    "**Strategy 2: Balancing Program  Contribution**\\\n",
    "Since Radioteca has a lot of metadata, we will also use another piece of data ensure a more representative distribution while reducing the data size by limiting a show's episode contribution to 1500 characters as well. That way, we are also ensuring a more diverse corpora topic-wise and less program-specific data.\\\n",
    "**Strategy 3: Adjusting Temporal Distribution**\\\n",
    "The approach of rounding all data to 2015, because the Parlament Parla data frame doesn't have enough data, was probably not the right approach as it doesn't allow us for a more even distribution of the data. Since we are working with data over time, and it doesn't need to be year-specific, as language change is a process and not a one-day-to-the-next change, we'll attempt to distribute the parlament-parla files evenly throughout the years it covers, which is from 2007 to 2018. We must be mindful of this when we break down the time periods to analyze the data later."
   ]
  },
  {
   "cell_type": "markdown",
   "id": "2bc24603-406d-45f8-93a6-9672f8640804",
   "metadata": {},
   "source": [
    "### Strategy 1:Limiting Individual Contribution"
   ]
  },
  {
   "cell_type": "code",
   "execution_count": null,
   "id": "7217eeb9-2287-4491-b731-b398cd3416ef",
   "metadata": {},
   "outputs": [],
   "source": [
    "def under1500(dataframe, contrivutorColName):\n",
    "    '''\n",
    "    takes in a dataframe\n",
    "    after the cumulative text length of one speaker goes over 1500 characters\n",
    "    the following contributions are no longer added to the dataframe\n",
    "    ensuring a max of 1500 characters per speaker/contributor\n",
    "    prints out the maximum and minimum length per contributor before and after the change\n",
    "    '''\n",
    "    if contrivutorColName == \"Speaker\":\n",
    "        dataframe[\"CUMSUM_len\"] = dataframe.groupby([\"Episode\", contrivutorColName])[\"Text_len\"].cumsum()\n",
    "    else:\n",
    "        dataframe[\"CUMSUM_len\"] = dataframe.groupby(contrivutorColName)[\"Text_len\"].cumsum()\n",
    "    max1500_df = dataframe[dataframe[\"CUMSUM_len\"] <= 1500]\n",
    "    if contrivutorColName == \"Speaker\":\n",
    "        before_spkcount = dataframe.groupby([\"Episode\", contrivutorColName])[\"Text_len\"].sum()\n",
    "        after_spkcount = max1500_df.groupby([\"Episode\", contrivutorColName])[\"Text_len\"].sum()\n",
    "    else:\n",
    "        before_spkcount = dataframe.groupby(contrivutorColName)[\"Text_len\"].sum()\n",
    "        after_spkcount = max1500_df.groupby(contrivutorColName)[\"Text_len\"].sum()\n",
    "\n",
    "    #printing contribution max and min to ensure the process worked out well\n",
    "    print()\n",
    "    print(\"Before speaker contribution limit:\")\n",
    "    print(\"The character count for the speaker contrbuting with the most amount of data is\", before_spkcount.max())\n",
    "    print(\"The character count for the speaker contrbuting with the least amount of data is\", before_spkcount.min())\n",
    "    print(\"After speaker contribution limit:\")\n",
    "    print(\"The character count for the speaker contrbuting with the most amount of data is\", after_spkcount.max())\n",
    "    print(\"The character count for the speaker contrbuting with the least amount of data is\", after_spkcount.min())\n",
    "\n",
    "    return max1500_df"
   ]
  },
  {
   "cell_type": "code",
   "execution_count": null,
   "id": "9f85e345-b4b7-4e02-b5d3-3d57bbdf8047",
   "metadata": {},
   "outputs": [],
   "source": [
    "under1500_parlparl_df = under1500(parlament_parla_df, \"Speaker_id\")\n",
    "print()\n",
    "under1500_parlaMint_df = under1500(parlaMint_df, \"Speaker_name\")\n",
    "print()\n",
    "under1500_radioteca_df = under1500(radioteca_df, \"Speaker\")"
   ]
  },
  {
   "cell_type": "markdown",
   "id": "d54e717b-4a9d-40fd-a5ea-84c9d6e65895",
   "metadata": {},
   "source": [
    "### Strategy 2: Balancing Content "
   ]
  },
  {
   "cell_type": "code",
   "execution_count": null,
   "id": "40a2c92c-7154-4621-a290-ad718276f75e",
   "metadata": {},
   "outputs": [],
   "source": [
    "under1500_radioteca_df = under1500_radioteca_df.copy()\n",
    "under1500_radioteca_df[\"CUMSUM_ep\"] = under1500_radioteca_df.groupby(\"Episode\")[\"Text_len\"].cumsum()"
   ]
  },
  {
   "cell_type": "code",
   "execution_count": null,
   "id": "1c7f6e4e-f1cd-4f64-9a8b-716ab916eb75",
   "metadata": {},
   "outputs": [],
   "source": [
    "under1500_radioteca_df.head()"
   ]
  },
  {
   "cell_type": "code",
   "execution_count": null,
   "id": "7cb4693e-df8c-4b9d-9e88-fff04916c105",
   "metadata": {},
   "outputs": [],
   "source": [
    "under1500_radioteca_df_counts = under1500_radioteca_df.groupby(\"Episode\")[\"Text_len\"].sum()>1500\n",
    "under1500_radioteca_df_counts.value_counts()"
   ]
  },
  {
   "cell_type": "code",
   "execution_count": null,
   "id": "6f0de254-99bc-43d8-a0c5-dd7b5132a065",
   "metadata": {},
   "outputs": [],
   "source": [
    "max1500_ep_df = under1500_radioteca_df[under1500_radioteca_df[\"CUMSUM_ep\"] <= 1500]"
   ]
  },
  {
   "cell_type": "code",
   "execution_count": null,
   "id": "4bcf5961-1487-49bc-a161-132a6fe9f2f8",
   "metadata": {},
   "outputs": [],
   "source": [
    "under1500_radioteca_df_counts = max1500_ep_df.groupby(\"Episode\")[\"Text_len\"].sum()>1500\n",
    "under1500_radioteca_df_counts.value_counts()"
   ]
  },
  {
   "cell_type": "markdown",
   "id": "e1b2b16c-41ce-41f5-89fe-8786acc33b95",
   "metadata": {},
   "source": [
    "### Strategy 3: Adjusting Temporal Distribution"
   ]
  },
  {
   "cell_type": "code",
   "execution_count": null,
   "id": "63ecbdff-31ef-4245-b876-4d58d0a983c3",
   "metadata": {},
   "outputs": [],
   "source": [
    "# stablishing number of data points\n",
    "size = under1500_parlparl_df.shape[0]\n",
    "print(size)"
   ]
  },
  {
   "cell_type": "code",
   "execution_count": null,
   "id": "9e5065b3-ae04-45a9-b1f9-0450b0d72e0d",
   "metadata": {},
   "outputs": [],
   "source": [
    "import numpy as np\n",
    "years = np.random.randint(2007, 2019, size)"
   ]
  },
  {
   "cell_type": "code",
   "execution_count": null,
   "id": "3ad9591a-2d53-446b-b773-fb0c312b270a",
   "metadata": {},
   "outputs": [],
   "source": [
    "under1500_parlparl_df[\"Year_rand\"] = years.tolist()"
   ]
  },
  {
   "cell_type": "code",
   "execution_count": null,
   "id": "f777abac-207b-45c2-9f8b-5ad74572dfd3",
   "metadata": {},
   "outputs": [],
   "source": [
    "print(under1500_parlparl_df[\"Year_rand\"].value_counts())\n",
    "print()\n",
    "print(\"Total:\")\n",
    "print(under1500_parlparl_df[\"Year_rand\"].value_counts().sum())"
   ]
  },
  {
   "cell_type": "markdown",
   "id": "2ecc3611-491b-4df1-9715-ab040bee0a9e",
   "metadata": {},
   "source": [
    "### Re-evaluating our data - STILL WORK IN PROGRESS"
   ]
  },
  {
   "cell_type": "code",
   "execution_count": null,
   "id": "f877e24b-d7f0-44b2-b88b-297c44ab764f",
   "metadata": {},
   "outputs": [],
   "source": [
    "under1500_parlparl_df = under1500_parlparl_df.filter([\"Path\", \"Text\", \"Year_rand\"])\n",
    "under1500_parlaMint_df = under1500_parlparl_df.filter([\"Title\", \"Text\", \"Date\"])\n",
    "under1500_radioteca_df = max1500_ep_df.filter([\"Line_id\", \"Text\", \"Year\"])"
   ]
  },
  {
   "cell_type": "code",
   "execution_count": null,
   "id": "0eab6950-4939-4fd0-9840-a476f92c5257",
   "metadata": {},
   "outputs": [],
   "source": [
    "under1500_parlparl_df = under1500_parlparl_df.rename(columns ={\"Speaker_id\":\"Speaker\", \"Path\":\"Title\", \"Text\":\"Text\", \"Year_rand\":\"Year\"})"
   ]
  },
  {
   "cell_type": "code",
   "execution_count": null,
   "id": "f5fd0b2b-5435-4870-837f-d2a1a389425b",
   "metadata": {},
   "outputs": [],
   "source": [
    "# re-joining data after changes\n",
    "joined_data = pd.concat([reduced_CTILC, under1500_parlaMint_df, under1500_parlparl_df, under1500_radioteca_df]) "
   ]
  },
  {
   "cell_type": "code",
   "execution_count": null,
   "id": "8bcc1d79-c903-4ad3-b02c-cd9ffb621701",
   "metadata": {},
   "outputs": [],
   "source": [
    "import matplotlib.ticker as ticker  \n",
    "\n",
    "# placeholder y-values for timeline\n",
    "years = list(year_length.keys())  \n",
    "y_values = np.ones(len(years)) \n",
    "\n",
    "# creating mosaic layout for our multiple plots\n",
    "fig, ax = plt.subplot_mosaic([[\"B\", \"B\"],  # Timeline\n",
    "                              [\"A\", \"A\"],  # Histogram\n",
    "                              [\"D\", \"D\"]],  # Text count & corpus length\n",
    "                             figsize=(10, 8),\n",
    "                             constrained_layout=True)\n",
    "\n",
    "# (A) Histogram of Document Distribution Over Time\n",
    "ax['A'].hist(joined_data.index, bins=min(20, len(years)), histtype='step', color=\"blue\", lw=1.5)\n",
    "ax['A'].set_title(\"Document Distribution Over Time\")\n",
    "ax['A'].set_xlabel(\"Year\")\n",
    "ax['A'].set_ylabel(\"Count\")\n",
    "\n",
    "# (B) Timeline (Scatter Plot)\n",
    "ax['B'].scatter(years, y_values, color=\"blue\", marker=\"o\", lw=1.5)\n",
    "ax['B'].set_title(\"Timeline of Documents\")\n",
    "ax['B'].set_xlabel(\"Year\")\n",
    "ax['B'].set_yticks([])  # Remove y-axis labels since they are not meaningful\n",
    "ax['B'].grid(axis=\"x\")\n",
    "\n",
    "# (D) Text length per year in character counts\n",
    "capped_values = [min(val, 10_000_000) for val in year_length.values()]  # limit to 10M\n",
    "\n",
    "ax['D'].barh(list(year_length.keys()), capped_values, color=\"blue\")\n",
    "ax['D'].set_title(\"Text Length per Year (capped after 10M)\")  \n",
    "ax['D'].set_xlabel(\"Text Length\")  \n",
    "\n",
    "# Fix Tick Labels (Without `ticker`)\n",
    "x_ticks = ax['D'].get_xticks()  \n",
    "ax['D'].set_xticks(x_ticks)  \n",
    "ax['D'].set_xticklabels([f\"{int(x):,}\" for x in x_ticks])  \n",
    "ax[\"D\"].set_xlim(0, 10_000_000)\n",
    "\n",
    "# displaying the plots' mosaic\n",
    "plt.show()"
   ]
  },
  {
   "cell_type": "markdown",
   "id": "a3a55ac2-7014-4037-bbac-846a2f1369ca",
   "metadata": {},
   "source": [
    "### Conclusion\n",
    "**I have yet to fix the time marks under the Document Distribution plot**\\\n",
    "The distribution in terms of files now seems more equal, erxcept in the early documents, where it is expected as since we have very few files so we need to use all of them to get more data.\\\n",
    "However, the character amount is still incredibly unbalanced. Yet, as mentioned previously I'm still working on the EDA so it might be wrong."
   ]
  }
 ],
 "metadata": {
  "kernelspec": {
   "display_name": "Python 3 (ipykernel)",
   "language": "python",
   "name": "python3"
  },
  "language_info": {
   "codemirror_mode": {
    "name": "ipython",
    "version": 3
   },
   "file_extension": ".py",
   "mimetype": "text/x-python",
   "name": "python",
   "nbconvert_exporter": "python",
   "pygments_lexer": "ipython3",
   "version": "3.12.5"
  }
 },
 "nbformat": 4,
 "nbformat_minor": 5
}
